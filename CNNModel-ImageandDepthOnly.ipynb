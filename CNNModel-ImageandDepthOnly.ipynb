{
 "cells": [
  {
   "cell_type": "markdown",
   "id": "caac3c60-cbd9-4794-a8c0-ced5b193b331",
   "metadata": {},
   "source": [
    "<h1>CNN Model</h1>"
   ]
  },
  {
   "cell_type": "code",
   "execution_count": 1,
   "id": "8c437917-e990-4491-a25e-b7adeb77f372",
   "metadata": {},
   "outputs": [],
   "source": [
    "from pycocotools.coco import COCO\n",
    "import matplotlib\n",
    "import matplotlib.pyplot as plt\n",
    "import os\n",
    "import cv2\n",
    "import numpy as np\n",
    "from PIL import Image\n",
    "import torch\n",
    "import torch.nn as nn\n",
    "import torch.nn.functional as functions\n",
    "import torch.optim as optim\n",
    "from tqdm import tqdm\n",
    "from torch.utils.data import DataLoader, Dataset\n",
    "import torchvision\n",
    "from torchvision import transforms\n",
    "import re"
   ]
  },
  {
   "cell_type": "code",
   "execution_count": 2,
   "id": "d9003254-3d2c-4f84-91a9-0c6d966f104e",
   "metadata": {},
   "outputs": [],
   "source": [
    "DATADIR = \"cocodoom/\"\n",
    "\n",
    "dataSplit, run = \"run-full-train\", \"run1\"\n",
    "\n",
    "annFile = '{}{}.json'.format(DATADIR,dataSplit)"
   ]
  },
  {
   "cell_type": "code",
   "execution_count": 3,
   "id": "e8df8e50-550c-43a3-8b8e-b5a5e41ed0b6",
   "metadata": {},
   "outputs": [
    {
     "name": "stdout",
     "output_type": "stream",
     "text": [
      "loading annotations into memory...\n",
      "Done (t=16.00s)\n",
      "creating index...\n",
      "index created!\n"
     ]
    }
   ],
   "source": [
    "coco = COCO(annFile)"
   ]
  },
  {
   "cell_type": "code",
   "execution_count": 4,
   "id": "b2fdf2f3-61ca-4528-909c-5101c530783f",
   "metadata": {},
   "outputs": [],
   "source": [
    "player_positions = {}\n",
    "\n",
    "player_regex = re.compile(r\"^(?P<tic>\\d+)\\s+player:(?P<x>-?\\d+\\.\\d+),(?P<y>-?\\d+\\.\\d+),(?P<z>-?\\d+\\.\\d+),(?P<angle>-?\\d+\\.\\d+)$\")\n",
    "\n",
    "with open(DATADIR+run+\"/log.txt\", 'r') as log_file:\n",
    "    for line in log_file:\n",
    "        if \"player\" in line:\n",
    "            line = line.strip()\n",
    "            tic, stats = line.split(\"player:\")\n",
    "            x, y, z, angle = stats.split(\",\")\n",
    "\n",
    "            # Store position in the dictionary\n",
    "            player_positions[int(tic)] = (float(x), float(y), float(z), float(angle))"
   ]
  },
  {
   "cell_type": "code",
   "execution_count": 8,
   "id": "a78dd7f8-f3a5-4046-a31d-46f5c3cc747e",
   "metadata": {},
   "outputs": [],
   "source": [
    "class DoomMotionDataset(Dataset):\n",
    "    def __init__(self, transform=None):\n",
    "        self.img_ids = coco.getImgIds()\n",
    "        self.transform = transform\n",
    "\n",
    "    def __len__(self):\n",
    "        return len(self.img_ids)\n",
    "\n",
    "    def getSegmentationMask(self, rgb_filename):\n",
    "        return rgb_filename.replace(\"rgb\", \"objects\")\n",
    "\n",
    "    def getDepthMask(self, rgb_filename):\n",
    "        return rgb_filename.replace(\"rgb\", \"depth\")\n",
    "\n",
    "    def color_to_index(self, segmentation_image):\n",
    "        # Map colors to class indices\n",
    "        r, g, b = segmentation_image\n",
    "        pixel_values = r + (g *  2**8) + (b * 2**16)  # From cocodoom documentation, converts to an object id\n",
    "\n",
    "        class_map = torch.full_like(pixel_values, 3, dtype=torch.long)\n",
    "\n",
    "        sky = (1 << 23) + 0\n",
    "        horizontal = (1 << 23) + 1\n",
    "        vertical = (1 << 23) + 2\n",
    "        \n",
    "        class_map[x == sky] = 0\n",
    "        class_map[x == horizontal] = 1\n",
    "        class_map[x == vertical] = 2\n",
    "        return class_map\n",
    "\n",
    "    def load_image(self, path):\n",
    "        img = Image.open(path)\n",
    "        return transforms.ToTensor()(img)\n",
    "\n",
    "    def __getitem__(self, idx):\n",
    "        # Load the RGB image\n",
    "        rgb_filename = coco.loadImgs(self.img_ids[idx])[0]['file_name']\n",
    "        tic = int(rgb_filename.replace(\".png\", \"\").split(\"/\")[-1])\n",
    "        next_tic = tic+1\n",
    "\n",
    "        player_position = player_positions[tic]\n",
    "        if next_tic not in player_positions:\n",
    "            next_player_position = player_position\n",
    "        else:\n",
    "            next_player_position = player_positions[next_tic]\n",
    "        dx = next_player_position[0] - player_position[0]\n",
    "        dy = next_player_position[1] - player_position[1]\n",
    "        dz = next_player_position[2] - player_position[2]\n",
    "        dangle = next_player_position[3] - player_position[3]\n",
    "        dangle = (dangle + np.pi) % 2*np.pi - np.pi\n",
    "        motion_vector = (dx, dy, dz, dangle)\n",
    "            \n",
    "        \n",
    "        # Load and process the segmentation map\n",
    "        seg_image = self.load_image(self.getSegmentationMask(DATADIR + rgb_filename))\n",
    "        seg_class_map = self.color_to_index(seg_image)\n",
    "        seg_class_one_hot = functions.one_hot(seg_class_map, num_classes=4).to(dtype=torch.float).permute(2, 0, 1)\n",
    "        #print(seg_class_one_hot.shape)\n",
    "\n",
    "        # Load depth map\n",
    "        depth_mask = self.load_image(self.getDepthMask(DATADIR + rgb_filename))\n",
    "        #print(depth_mask.shape)\n",
    "\n",
    "        # Combine depth and segmentation as separate channels\n",
    "        combined = torch.cat([seg_class_one_hot, depth_mask], dim=0)\n",
    "        \n",
    "        # Motion vector (label)\n",
    "        motion_vector = torch.tensor(motion_vector, dtype=torch.float32)\n",
    "        \n",
    "        return combined, motion_vector\n"
   ]
  },
  {
   "cell_type": "code",
   "execution_count": 9,
   "id": "8680de85-df84-4334-87be-8defcfc6e6fb",
   "metadata": {},
   "outputs": [],
   "source": [
    "class NeuralNetwork(nn.Module):\n",
    "  def __init__(self, activation_function=functions.relu, device=torch.device(\"cpu\")):\n",
    "    super(NeuralNetwork, self).__init__()\n",
    "\n",
    "    self.activation_function = activation_function\n",
    "    self.conv1 = nn.Conv2d(in_channels=5, out_channels=8, kernel_size=(3, 2), padding=3, bias=False).to(device)\n",
    "    self.bn1 = nn.BatchNorm2d(num_features=8).to(device)\n",
    "\n",
    "    self.pool = nn.MaxPool2d(kernel_size=(2, 2)).to(device)\n",
    "\n",
    "    self.conv2 = nn.Conv2d(in_channels=8, out_channels=16, kernel_size=(3, 3), padding=1, bias=False).to(device)\n",
    "    self.bn2 = nn.BatchNorm2d(num_features=16).to(device)\n",
    "\n",
    "    self.flatten = nn.Flatten().to(device)\n",
    "      \n",
    "    self.fc1 = nn.Linear(66096, 456).to(device)\n",
    "    self.bn3 = nn.BatchNorm1d(num_features=456).to(device)\n",
    "\n",
    "    self.out = nn.Linear(456, 4).to(device)\n",
    "\n",
    "  def forward(self, x):\n",
    "    x = self.activation_function(self.bn1(self.conv1(x)))\n",
    "    x = self.pool(x)\n",
    "    x = self.activation_function(self.bn2(self.conv2(x)))\n",
    "    x = self.pool(x)\n",
    "    x = self.flatten(x)\n",
    "    x = self.activation_function(self.bn3(self.fc1(x)))\n",
    "    x = self.out(x)\n",
    "    return x"
   ]
  },
  {
   "cell_type": "code",
   "execution_count": 10,
   "id": "81129192-3f18-4f79-b559-be1db7b544d9",
   "metadata": {},
   "outputs": [
    {
     "name": "stdout",
     "output_type": "stream",
     "text": [
      "cuda\n"
     ]
    },
    {
     "name": "stderr",
     "output_type": "stream",
     "text": [
      "\n",
      "poch 1/10: 100%|██████████| 991/991 [1:35:56<00:00,  5.81s/batch, batch_loss=34.1, batch_index=991, batch_size=220]"
     ]
    },
    {
     "name": "stdout",
     "output_type": "stream",
     "text": [
      "Epoch 1, Loss: 491.6198\n"
     ]
    },
    {
     "name": "stderr",
     "output_type": "stream",
     "text": [
      "\n",
      "poch 2/10: 100%|██████████| 991/991 [1:35:56<00:00,  5.81s/batch, batch_loss=33.3, batch_index=991, batch_size=220]"
     ]
    },
    {
     "name": "stdout",
     "output_type": "stream",
     "text": [
      "Epoch 2, Loss: 491.3382\n"
     ]
    },
    {
     "name": "stderr",
     "output_type": "stream",
     "text": [
      "\n",
      "poch 3/10: 100%|██████████| 991/991 [1:37:11<00:00,  5.88s/batch, batch_loss=33.2, batch_index=991, batch_size=220]"
     ]
    },
    {
     "name": "stdout",
     "output_type": "stream",
     "text": [
      "Epoch 3, Loss: 491.1439\n"
     ]
    },
    {
     "name": "stderr",
     "output_type": "stream",
     "text": [
      "\n",
      "poch 4/10: 100%|██████████| 991/991 [1:35:19<00:00,  5.77s/batch, batch_loss=32.1, batch_index=991, batch_size=220]"
     ]
    },
    {
     "name": "stdout",
     "output_type": "stream",
     "text": [
      "Epoch 4, Loss: 490.8113\n"
     ]
    },
    {
     "name": "stderr",
     "output_type": "stream",
     "text": [
      "\n",
      "poch 5/10: 100%|██████████| 991/991 [1:35:27<00:00,  5.78s/batch, batch_loss=31.4, batch_index=991, batch_size=220]"
     ]
    },
    {
     "name": "stdout",
     "output_type": "stream",
     "text": [
      "Epoch 5, Loss: 490.2041\n"
     ]
    },
    {
     "name": "stderr",
     "output_type": "stream",
     "text": [
      "\n",
      "poch 6/10: 100%|████████████| 991/991 [1:35:09<00:00,  5.76s/batch, batch_loss=29, batch_index=991, batch_size=220]"
     ]
    },
    {
     "name": "stdout",
     "output_type": "stream",
     "text": [
      "Epoch 6, Loss: 489.1461\n"
     ]
    },
    {
     "name": "stderr",
     "output_type": "stream",
     "text": [
      "\n",
      "poch 7/10: 100%|██████████| 991/991 [1:35:12<00:00,  5.76s/batch, batch_loss=25.9, batch_index=991, batch_size=220]"
     ]
    },
    {
     "name": "stdout",
     "output_type": "stream",
     "text": [
      "Epoch 7, Loss: 487.9925\n"
     ]
    },
    {
     "name": "stderr",
     "output_type": "stream",
     "text": [
      "\n",
      "poch 8/10: 100%|██████████| 991/991 [1:35:19<00:00,  5.77s/batch, batch_loss=22.6, batch_index=991, batch_size=220]"
     ]
    },
    {
     "name": "stdout",
     "output_type": "stream",
     "text": [
      "Epoch 8, Loss: 485.3597\n"
     ]
    },
    {
     "name": "stderr",
     "output_type": "stream",
     "text": [
      "\n",
      "poch 9/10: 100%|██████████| 991/991 [1:35:42<00:00,  5.79s/batch, batch_loss=19.7, batch_index=991, batch_size=220]"
     ]
    },
    {
     "name": "stdout",
     "output_type": "stream",
     "text": [
      "Epoch 9, Loss: 481.8428\n"
     ]
    },
    {
     "name": "stderr",
     "output_type": "stream",
     "text": [
      "\n",
      "poch 10/10: 100%|█████████| 991/991 [1:36:09<00:00,  5.82s/batch, batch_loss=18.7, batch_index=991, batch_size=220]"
     ]
    },
    {
     "name": "stdout",
     "output_type": "stream",
     "text": [
      "Epoch 10, Loss: 477.4480\n"
     ]
    }
   ],
   "source": [
    "batch_size = 256\n",
    "learning_rate = 1e-3\n",
    "num_epochs = 10\n",
    "device = torch.device(\"cuda\" if torch.cuda.is_available() else \"cpu\")\n",
    "print(\"cuda\" if torch.cuda.is_available() else \"cpu\")\n",
    "model = NeuralNetwork(device=device).to(device)\n",
    "\n",
    "train_dataset = DoomMotionDataset()\n",
    "train_loader = DataLoader(train_dataset, batch_size=batch_size, shuffle=False)\n",
    "\n",
    "# Loss function and optimizer\n",
    "criterion = torch.nn.MSELoss()\n",
    "optimizer = optim.Adam(model.parameters(), lr=learning_rate)\n",
    "\n",
    "for epoch in range(num_epochs):\n",
    "    model.train()\n",
    "    running_loss = 0.0\n",
    "    progress_bar = tqdm(train_loader, desc=f\"Epoch {epoch+1}/{num_epochs}\", unit=\"batch\")\n",
    "    for batch_idx, (inputs, targets) in enumerate(progress_bar):\n",
    "        inputs, targets = inputs.to(device), targets.to(device)\n",
    "\n",
    "        optimizer.zero_grad()\n",
    "\n",
    "        outputs = model(inputs)\n",
    "    \n",
    "        loss = criterion(outputs, targets)\n",
    "        loss.backward()\n",
    "\n",
    "        optimizer.step()\n",
    "\n",
    "        running_loss += loss.item()\n",
    "\n",
    "        progress_bar.set_postfix({\n",
    "            \"batch_loss\": loss.item(),\n",
    "            \"batch_index\": batch_idx + 1,\n",
    "            \"batch_size\": inputs.size(0)\n",
    "        })\n",
    "\n",
    "    # Average loss per epoch\n",
    "    epoch_loss = running_loss / len(train_loader)\n",
    "    print(f\"Epoch {epoch+1}, Loss: {epoch_loss:.4f}\")\n",
    "\n",
    "# Save the trained model\n",
    "torch.save(model.state_dict(), \"doom_motion_model.pth\")"
   ]
  },
  {
   "cell_type": "code",
   "execution_count": null,
   "id": "1ce70e48-3ccb-4628-91f7-19fd56e7f6aa",
   "metadata": {},
   "outputs": [],
   "source": []
  }
 ],
 "metadata": {
  "kernelspec": {
   "display_name": "Python 3 (ipykernel)",
   "language": "python",
   "name": "python3"
  },
  "language_info": {
   "codemirror_mode": {
    "name": "ipython",
    "version": 3
   },
   "file_extension": ".py",
   "mimetype": "text/x-python",
   "name": "python",
   "nbconvert_exporter": "python",
   "pygments_lexer": "ipython3",
   "version": "3.11.3"
  }
 },
 "nbformat": 4,
 "nbformat_minor": 5
}
