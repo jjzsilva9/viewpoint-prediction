{
 "cells": [
  {
   "cell_type": "markdown",
   "id": "caac3c60-cbd9-4794-a8c0-ced5b193b331",
   "metadata": {},
   "source": [
    "<h1>CNN Model</h1>"
   ]
  },
  {
   "cell_type": "code",
   "execution_count": 1,
   "id": "8c437917-e990-4491-a25e-b7adeb77f372",
   "metadata": {},
   "outputs": [],
   "source": [
    "from pycocotools.coco import COCO\n",
    "import matplotlib\n",
    "import matplotlib.pyplot as plt\n",
    "import os\n",
    "import cv2\n",
    "import numpy as np\n",
    "from PIL import Image\n",
    "import torch\n",
    "import torch.nn as nn\n",
    "import torch.nn.functional as functions\n",
    "import torch.optim as optim\n",
    "from tqdm import tqdm\n",
    "from torch.utils.data import DataLoader, Dataset\n",
    "import torchvision\n",
    "from torchvision import transforms\n",
    "import re"
   ]
  },
  {
   "cell_type": "code",
   "execution_count": 2,
   "id": "d9003254-3d2c-4f84-91a9-0c6d966f104e",
   "metadata": {},
   "outputs": [],
   "source": [
    "DATADIR = \"cocodoom/\"\n",
    "\n",
    "dataSplit, run = \"run-full-train\", \"run1\"\n",
    "\n",
    "annFile = '{}{}.json'.format(DATADIR,dataSplit)"
   ]
  },
  {
   "cell_type": "code",
   "execution_count": 3,
   "id": "e8df8e50-550c-43a3-8b8e-b5a5e41ed0b6",
   "metadata": {},
   "outputs": [
    {
     "name": "stdout",
     "output_type": "stream",
     "text": [
      "loading annotations into memory...\n",
      "Done (t=14.31s)\n",
      "creating index...\n",
      "index created!\n"
     ]
    }
   ],
   "source": [
    "coco = COCO(annFile)"
   ]
  },
  {
   "cell_type": "code",
   "execution_count": 17,
   "id": "b2fdf2f3-61ca-4528-909c-5101c530783f",
   "metadata": {},
   "outputs": [],
   "source": [
    "player_positions = {}\n",
    "\n",
    "player_regex = re.compile(r\"^(?P<tic>\\d+)\\s+player:(?P<x>-?\\d+\\.\\d+),(?P<y>-?\\d+\\.\\d+),(?P<z>-?\\d+\\.\\d+),(?P<angle>-?\\d+\\.\\d+)$\")\n",
    "\n",
    "with open(DATADIR+run+\"/log.txt\", 'r') as log_file:\n",
    "    for line in log_file:\n",
    "        if \"player\" in line:\n",
    "            line = line.strip()\n",
    "            tic, stats = line.split(\"player:\")\n",
    "            x, y, z, angle = stats.split(\",\")\n",
    "\n",
    "            # Store position in the dictionary\n",
    "            player_positions[int(tic)] = (float(x), float(y), float(z), float(angle))"
   ]
  },
  {
   "cell_type": "code",
   "execution_count": 9,
   "id": "a78dd7f8-f3a5-4046-a31d-46f5c3cc747e",
   "metadata": {},
   "outputs": [],
   "source": [
    "class DoomMotionDataset(Dataset):\n",
    "    def __init__(self, transform=None):\n",
    "        self.img_ids = coco.getImgIds()\n",
    "        self.transform = transform\n",
    "\n",
    "    def __len__(self):\n",
    "        return len(self.img_ids)\n",
    "\n",
    "    def __getitem__(self, idx):\n",
    "        # Load the RGB image\n",
    "        rgb_filename = coco.loadImgs(self.img_ids[idx])[0]['file_name']\n",
    "        tic = int(rgb_filename.replace(\".png\", \"\").split(\"/\")[-1])\n",
    "        next_tic = tic+1\n",
    "        previous_tic = tic-1\n",
    "\n",
    "        player_position = player_positions[tic]\n",
    "        \n",
    "        if next_tic not in player_positions:\n",
    "            next_player_position = player_position\n",
    "        else:\n",
    "            next_player_position = player_positions[next_tic]\n",
    "        dx = next_player_position[0] - player_position[0]\n",
    "        dy = next_player_position[1] - player_position[1]\n",
    "        dz = next_player_position[2] - player_position[2]\n",
    "        dangle = next_player_position[3] - player_position[3]\n",
    "        dangle = (dangle + np.pi) % 2*np.pi - np.pi\n",
    "        next_motion_vector = (dx, dy, dz, dangle)\n",
    "\n",
    "        if previous_tic not in player_positions:\n",
    "            prev_player_position = player_position\n",
    "        else :\n",
    "            prev_player_position = player_positions[previous_tic]\n",
    "        dx = next_player_position[0] - player_position[0]\n",
    "        dy = next_player_position[1] - player_position[1]\n",
    "        dz = next_player_position[2] - player_position[2]\n",
    "        dangle = next_player_position[3] - player_position[3]\n",
    "        dangle = (dangle + np.pi) % 2*np.pi - np.pi\n",
    "        prev_motion_vector = (dx, dy, dz, dangle)\n",
    "            \n",
    "        prev_motion_vector = torch.tensor(prev_motion_vector, dtype=torch.float32)\n",
    "        next_motion_vector = torch.tensor(next_motion_vector, dtype=torch.float32)\n",
    "        \n",
    "        return prev_motion_vector, next_motion_vector\n"
   ]
  },
  {
   "cell_type": "code",
   "execution_count": 10,
   "id": "8680de85-df84-4334-87be-8defcfc6e6fb",
   "metadata": {},
   "outputs": [],
   "source": [
    "class NeuralNetwork(nn.Module):\n",
    "  def __init__(self, activation_function=functions.relu, device=torch.device(\"cpu\")):\n",
    "    super(NeuralNetwork, self).__init__()\n",
    "\n",
    "    self.activation_function = activation_function\n",
    "    self.fc1 = nn.Linear(4, 64).to(device)\n",
    "    self.bn1 = nn.BatchNorm1d(num_features=64).to(device)\n",
    "\n",
    "    self.fc2 = nn.Linear(64, 128).to(device)\n",
    "    self.bn2 = nn.BatchNorm1d(num_features=128).to(device)\n",
    "\n",
    "    self.fc3 = nn.Linear(128, 64).to(device)\n",
    "    self.bn3 = nn.BatchNorm1d(num_features=64).to(device)\n",
    "\n",
    "    self.out = nn.Linear(64, 4).to(device)\n",
    "\n",
    "  def forward(self, x):\n",
    "    x = self.activation_function(self.bn1(self.fc1(x)))\n",
    "    x = self.activation_function(self.bn2(self.fc2(x)))\n",
    "    x = self.activation_function(self.bn3(self.fc3(x)))\n",
    "    x = self.out(x)\n",
    "    return x"
   ]
  },
  {
   "cell_type": "code",
   "execution_count": 12,
   "id": "81129192-3f18-4f79-b559-be1db7b544d9",
   "metadata": {},
   "outputs": [
    {
     "name": "stdout",
     "output_type": "stream",
     "text": [
      "cuda\n"
     ]
    },
    {
     "name": "stderr",
     "output_type": "stream",
     "text": [
      "\n",
      "poch 1/300: 100%|██████████| 991/991 [00:09<00:00, 102.47batch/s, batch_loss=16.1, batch_index=991, batch_size=220]"
     ]
    },
    {
     "name": "stdout",
     "output_type": "stream",
     "text": [
      "Epoch 1, Loss: 436.0378\n"
     ]
    },
    {
     "name": "stderr",
     "output_type": "stream",
     "text": [
      "\n",
      "poch 2/300: 100%|██████████| 991/991 [00:09<00:00, 102.78batch/s, batch_loss=14.5, batch_index=991, batch_size=220]"
     ]
    },
    {
     "name": "stdout",
     "output_type": "stream",
     "text": [
      "Epoch 2, Loss: 405.7944\n"
     ]
    },
    {
     "name": "stderr",
     "output_type": "stream",
     "text": [
      "\n",
      "poch 3/300: 100%|██████████| 991/991 [00:09<00:00, 102.74batch/s, batch_loss=16.2, batch_index=991, batch_size=220]"
     ]
    },
    {
     "name": "stdout",
     "output_type": "stream",
     "text": [
      "Epoch 3, Loss: 370.3193\n"
     ]
    },
    {
     "name": "stderr",
     "output_type": "stream",
     "text": [
      "\n",
      "poch 4/300: 100%|████████████| 991/991 [00:09<00:00, 101.57batch/s, batch_loss=17, batch_index=991, batch_size=220]"
     ]
    },
    {
     "name": "stdout",
     "output_type": "stream",
     "text": [
      "Epoch 4, Loss: 332.8481\n"
     ]
    },
    {
     "name": "stderr",
     "output_type": "stream",
     "text": [
      "\n",
      "poch 5/300: 100%|████████████| 991/991 [00:09<00:00, 106.37batch/s, batch_loss=16, batch_index=991, batch_size=220]"
     ]
    },
    {
     "name": "stdout",
     "output_type": "stream",
     "text": [
      "Epoch 5, Loss: 297.7389\n"
     ]
    },
    {
     "name": "stderr",
     "output_type": "stream",
     "text": [
      "\n",
      "poch 6/300: 100%|██████████| 991/991 [00:09<00:00, 106.09batch/s, batch_loss=16.2, batch_index=991, batch_size=220]"
     ]
    },
    {
     "name": "stdout",
     "output_type": "stream",
     "text": [
      "Epoch 6, Loss: 262.6725\n"
     ]
    },
    {
     "name": "stderr",
     "output_type": "stream",
     "text": [
      "\n",
      "poch 7/300: 100%|██████████| 991/991 [00:09<00:00, 107.02batch/s, batch_loss=19.2, batch_index=991, batch_size=220]"
     ]
    },
    {
     "name": "stdout",
     "output_type": "stream",
     "text": [
      "Epoch 7, Loss: 233.7293\n"
     ]
    },
    {
     "name": "stderr",
     "output_type": "stream",
     "text": [
      "\n",
      "poch 8/300: 100%|██████████| 991/991 [00:09<00:00, 106.14batch/s, batch_loss=20.1, batch_index=991, batch_size=220]"
     ]
    },
    {
     "name": "stdout",
     "output_type": "stream",
     "text": [
      "Epoch 8, Loss: 207.9219\n"
     ]
    },
    {
     "name": "stderr",
     "output_type": "stream",
     "text": [
      "\n",
      "poch 9/300: 100%|██████████| 991/991 [00:09<00:00, 105.64batch/s, batch_loss=19.2, batch_index=991, batch_size=220]"
     ]
    },
    {
     "name": "stdout",
     "output_type": "stream",
     "text": [
      "Epoch 9, Loss: 185.3683\n"
     ]
    },
    {
     "name": "stderr",
     "output_type": "stream",
     "text": [
      "\n",
      "poch 10/300: 100%|█████████| 991/991 [00:09<00:00, 105.96batch/s, batch_loss=19.1, batch_index=991, batch_size=220]"
     ]
    },
    {
     "name": "stdout",
     "output_type": "stream",
     "text": [
      "Epoch 10, Loss: 165.5456\n"
     ]
    },
    {
     "name": "stderr",
     "output_type": "stream",
     "text": [
      "\n",
      "poch 11/300: 100%|█████████| 991/991 [00:09<00:00, 105.57batch/s, batch_loss=19.8, batch_index=991, batch_size=220]"
     ]
    },
    {
     "name": "stdout",
     "output_type": "stream",
     "text": [
      "Epoch 11, Loss: 149.2604\n"
     ]
    },
    {
     "name": "stderr",
     "output_type": "stream",
     "text": [
      "\n",
      "poch 12/300: 100%|███████████| 991/991 [00:09<00:00, 106.54batch/s, batch_loss=16, batch_index=991, batch_size=220]"
     ]
    },
    {
     "name": "stdout",
     "output_type": "stream",
     "text": [
      "Epoch 12, Loss: 139.4648\n"
     ]
    },
    {
     "name": "stderr",
     "output_type": "stream",
     "text": [
      "\n",
      "poch 13/300: 100%|██████████| 991/991 [00:10<00:00, 93.56batch/s, batch_loss=17.3, batch_index=991, batch_size=220]"
     ]
    },
    {
     "name": "stdout",
     "output_type": "stream",
     "text": [
      "Epoch 13, Loss: 127.6322\n"
     ]
    },
    {
     "name": "stderr",
     "output_type": "stream",
     "text": [
      "\n",
      "poch 14/300: 100%|██████████| 991/991 [00:10<00:00, 98.53batch/s, batch_loss=15.7, batch_index=991, batch_size=220]"
     ]
    },
    {
     "name": "stdout",
     "output_type": "stream",
     "text": [
      "Epoch 14, Loss: 117.8456\n"
     ]
    },
    {
     "name": "stderr",
     "output_type": "stream",
     "text": [
      "\n",
      "poch 15/300: 100%|██████████| 991/991 [00:10<00:00, 98.46batch/s, batch_loss=16.2, batch_index=991, batch_size=220]"
     ]
    },
    {
     "name": "stdout",
     "output_type": "stream",
     "text": [
      "Epoch 15, Loss: 107.4315\n"
     ]
    },
    {
     "name": "stderr",
     "output_type": "stream",
     "text": [
      "\n",
      "poch 16/300: 100%|██████████| 991/991 [00:10<00:00, 98.83batch/s, batch_loss=15.5, batch_index=991, batch_size=220]"
     ]
    },
    {
     "name": "stdout",
     "output_type": "stream",
     "text": [
      "Epoch 16, Loss: 97.7859\n"
     ]
    },
    {
     "name": "stderr",
     "output_type": "stream",
     "text": [
      "\n",
      "poch 17/300: 100%|██████████| 991/991 [00:09<00:00, 99.15batch/s, batch_loss=16.8, batch_index=991, batch_size=220]"
     ]
    },
    {
     "name": "stdout",
     "output_type": "stream",
     "text": [
      "Epoch 17, Loss: 90.6973\n"
     ]
    },
    {
     "name": "stderr",
     "output_type": "stream",
     "text": [
      "\n",
      "poch 18/300: 100%|██████████| 991/991 [00:10<00:00, 98.28batch/s, batch_loss=13.9, batch_index=991, batch_size=220]"
     ]
    },
    {
     "name": "stdout",
     "output_type": "stream",
     "text": [
      "Epoch 18, Loss: 86.4197\n"
     ]
    },
    {
     "name": "stderr",
     "output_type": "stream",
     "text": [
      "\n",
      "poch 19/300: 100%|██████████| 991/991 [00:10<00:00, 95.48batch/s, batch_loss=15.1, batch_index=991, batch_size=220]"
     ]
    },
    {
     "name": "stdout",
     "output_type": "stream",
     "text": [
      "Epoch 19, Loss: 76.8603\n"
     ]
    },
    {
     "name": "stderr",
     "output_type": "stream",
     "text": [
      "\n",
      "poch 20/300: 100%|██████████| 991/991 [00:09<00:00, 99.34batch/s, batch_loss=16.1, batch_index=991, batch_size=220]"
     ]
    },
    {
     "name": "stdout",
     "output_type": "stream",
     "text": [
      "Epoch 20, Loss: 72.9210\n"
     ]
    },
    {
     "name": "stderr",
     "output_type": "stream",
     "text": [
      "\n",
      "poch 21/300: 100%|██████████| 991/991 [00:09<00:00, 99.14batch/s, batch_loss=16.7, batch_index=991, batch_size=220]"
     ]
    },
    {
     "name": "stdout",
     "output_type": "stream",
     "text": [
      "Epoch 21, Loss: 70.8606\n"
     ]
    },
    {
     "name": "stderr",
     "output_type": "stream",
     "text": [
      "\n",
      "poch 22/300: 100%|██████████| 991/991 [00:10<00:00, 97.74batch/s, batch_loss=15.9, batch_index=991, batch_size=220]"
     ]
    },
    {
     "name": "stdout",
     "output_type": "stream",
     "text": [
      "Epoch 22, Loss: 64.8339\n"
     ]
    },
    {
     "name": "stderr",
     "output_type": "stream",
     "text": [
      "\n",
      "poch 23/300: 100%|██████████| 991/991 [00:10<00:00, 98.24batch/s, batch_loss=15.6, batch_index=991, batch_size=220]"
     ]
    },
    {
     "name": "stdout",
     "output_type": "stream",
     "text": [
      "Epoch 23, Loss: 64.4974\n"
     ]
    },
    {
     "name": "stderr",
     "output_type": "stream",
     "text": [
      "\n",
      "poch 24/300: 100%|██████████| 991/991 [00:10<00:00, 98.25batch/s, batch_loss=13.9, batch_index=991, batch_size=220]"
     ]
    },
    {
     "name": "stdout",
     "output_type": "stream",
     "text": [
      "Epoch 24, Loss: 66.6077\n"
     ]
    },
    {
     "name": "stderr",
     "output_type": "stream",
     "text": [
      "\n",
      "poch 25/300: 100%|██████████| 991/991 [00:10<00:00, 98.45batch/s, batch_loss=16.8, batch_index=991, batch_size=220]"
     ]
    },
    {
     "name": "stdout",
     "output_type": "stream",
     "text": [
      "Epoch 25, Loss: 59.6964\n"
     ]
    },
    {
     "name": "stderr",
     "output_type": "stream",
     "text": [
      "\n",
      "poch 26/300: 100%|███████████| 991/991 [00:09<00:00, 103.91batch/s, batch_loss=16, batch_index=991, batch_size=220]"
     ]
    },
    {
     "name": "stdout",
     "output_type": "stream",
     "text": [
      "Epoch 26, Loss: 57.5594\n"
     ]
    },
    {
     "name": "stderr",
     "output_type": "stream",
     "text": [
      "\n",
      "poch 27/300: 100%|█████████| 991/991 [00:09<00:00, 102.17batch/s, batch_loss=15.3, batch_index=991, batch_size=220]"
     ]
    },
    {
     "name": "stdout",
     "output_type": "stream",
     "text": [
      "Epoch 27, Loss: 51.3227\n"
     ]
    },
    {
     "name": "stderr",
     "output_type": "stream",
     "text": [
      "\n",
      "poch 28/300: 100%|█████████| 991/991 [00:09<00:00, 100.70batch/s, batch_loss=15.9, batch_index=991, batch_size=220]"
     ]
    },
    {
     "name": "stdout",
     "output_type": "stream",
     "text": [
      "Epoch 28, Loss: 51.9990\n"
     ]
    },
    {
     "name": "stderr",
     "output_type": "stream",
     "text": [
      "\n",
      "poch 29/300: 100%|█████████| 991/991 [00:09<00:00, 102.27batch/s, batch_loss=15.4, batch_index=991, batch_size=220]"
     ]
    },
    {
     "name": "stdout",
     "output_type": "stream",
     "text": [
      "Epoch 29, Loss: 46.9664\n"
     ]
    },
    {
     "name": "stderr",
     "output_type": "stream",
     "text": [
      "\n",
      "poch 30/300: 100%|█████████| 991/991 [00:09<00:00, 101.59batch/s, batch_loss=15.1, batch_index=991, batch_size=220]"
     ]
    },
    {
     "name": "stdout",
     "output_type": "stream",
     "text": [
      "Epoch 30, Loss: 44.9813\n"
     ]
    },
    {
     "name": "stderr",
     "output_type": "stream",
     "text": [
      "\n",
      "poch 31/300: 100%|████████████| 991/991 [00:10<00:00, 90.25batch/s, batch_loss=15, batch_index=991, batch_size=220]"
     ]
    },
    {
     "name": "stdout",
     "output_type": "stream",
     "text": [
      "Epoch 31, Loss: 39.0903\n"
     ]
    },
    {
     "name": "stderr",
     "output_type": "stream",
     "text": [
      "\n",
      "poch 32/300: 100%|█████████| 991/991 [00:09<00:00, 105.46batch/s, batch_loss=16.2, batch_index=991, batch_size=220]"
     ]
    },
    {
     "name": "stdout",
     "output_type": "stream",
     "text": [
      "Epoch 32, Loss: 35.2948\n"
     ]
    },
    {
     "name": "stderr",
     "output_type": "stream",
     "text": [
      "\n",
      "poch 33/300: 100%|█████████| 991/991 [00:09<00:00, 105.58batch/s, batch_loss=15.7, batch_index=991, batch_size=220]"
     ]
    },
    {
     "name": "stdout",
     "output_type": "stream",
     "text": [
      "Epoch 33, Loss: 39.5767\n"
     ]
    },
    {
     "name": "stderr",
     "output_type": "stream",
     "text": [
      "\n",
      "poch 34/300: 100%|█████████| 991/991 [00:09<00:00, 105.37batch/s, batch_loss=15.2, batch_index=991, batch_size=220]"
     ]
    },
    {
     "name": "stdout",
     "output_type": "stream",
     "text": [
      "Epoch 34, Loss: 37.5835\n"
     ]
    },
    {
     "name": "stderr",
     "output_type": "stream",
     "text": [
      "\n",
      "poch 35/300: 100%|█████████| 991/991 [00:09<00:00, 105.86batch/s, batch_loss=15.5, batch_index=991, batch_size=220]"
     ]
    },
    {
     "name": "stdout",
     "output_type": "stream",
     "text": [
      "Epoch 35, Loss: 39.5457\n"
     ]
    },
    {
     "name": "stderr",
     "output_type": "stream",
     "text": [
      "\n",
      "poch 36/300: 100%|███████████| 991/991 [00:09<00:00, 104.46batch/s, batch_loss=16, batch_index=991, batch_size=220]"
     ]
    },
    {
     "name": "stdout",
     "output_type": "stream",
     "text": [
      "Epoch 36, Loss: 36.2741\n"
     ]
    },
    {
     "name": "stderr",
     "output_type": "stream",
     "text": [
      "\n",
      "poch 37/300: 100%|█████████| 991/991 [00:09<00:00, 105.90batch/s, batch_loss=16.9, batch_index=991, batch_size=220]"
     ]
    },
    {
     "name": "stdout",
     "output_type": "stream",
     "text": [
      "Epoch 37, Loss: 32.0077\n"
     ]
    },
    {
     "name": "stderr",
     "output_type": "stream",
     "text": [
      "\n",
      "poch 38/300: 100%|█████████| 991/991 [00:09<00:00, 107.28batch/s, batch_loss=15.8, batch_index=991, batch_size=220]"
     ]
    },
    {
     "name": "stdout",
     "output_type": "stream",
     "text": [
      "Epoch 38, Loss: 28.2270\n"
     ]
    },
    {
     "name": "stderr",
     "output_type": "stream",
     "text": [
      "\n",
      "poch 39/300: 100%|█████████| 991/991 [00:09<00:00, 107.93batch/s, batch_loss=15.6, batch_index=991, batch_size=220]"
     ]
    },
    {
     "name": "stdout",
     "output_type": "stream",
     "text": [
      "Epoch 39, Loss: 29.0867\n"
     ]
    },
    {
     "name": "stderr",
     "output_type": "stream",
     "text": [
      "\n",
      "poch 40/300: 100%|█████████| 991/991 [00:09<00:00, 107.82batch/s, batch_loss=16.6, batch_index=991, batch_size=220]"
     ]
    },
    {
     "name": "stdout",
     "output_type": "stream",
     "text": [
      "Epoch 40, Loss: 30.5097\n"
     ]
    },
    {
     "name": "stderr",
     "output_type": "stream",
     "text": [
      "\n",
      "poch 41/300: 100%|█████████| 991/991 [00:09<00:00, 107.72batch/s, batch_loss=15.2, batch_index=991, batch_size=220]"
     ]
    },
    {
     "name": "stdout",
     "output_type": "stream",
     "text": [
      "Epoch 41, Loss: 30.5385\n"
     ]
    },
    {
     "name": "stderr",
     "output_type": "stream",
     "text": [
      "\n",
      "poch 42/300: 100%|███████████| 991/991 [00:09<00:00, 109.17batch/s, batch_loss=16, batch_index=991, batch_size=220]"
     ]
    },
    {
     "name": "stdout",
     "output_type": "stream",
     "text": [
      "Epoch 42, Loss: 34.0758\n"
     ]
    },
    {
     "name": "stderr",
     "output_type": "stream",
     "text": [
      "\n",
      "poch 43/300: 100%|█████████| 991/991 [00:09<00:00, 108.19batch/s, batch_loss=15.8, batch_index=991, batch_size=220]"
     ]
    },
    {
     "name": "stdout",
     "output_type": "stream",
     "text": [
      "Epoch 43, Loss: 26.5182\n"
     ]
    },
    {
     "name": "stderr",
     "output_type": "stream",
     "text": [
      "\n",
      "poch 44/300: 100%|█████████| 991/991 [00:09<00:00, 108.49batch/s, batch_loss=14.9, batch_index=991, batch_size=220]"
     ]
    },
    {
     "name": "stdout",
     "output_type": "stream",
     "text": [
      "Epoch 44, Loss: 21.6856\n"
     ]
    },
    {
     "name": "stderr",
     "output_type": "stream",
     "text": [
      "\n",
      "poch 45/300: 100%|█████████| 991/991 [00:09<00:00, 107.94batch/s, batch_loss=14.8, batch_index=991, batch_size=220]"
     ]
    },
    {
     "name": "stdout",
     "output_type": "stream",
     "text": [
      "Epoch 45, Loss: 27.7016\n"
     ]
    },
    {
     "name": "stderr",
     "output_type": "stream",
     "text": [
      "\n",
      "poch 46/300: 100%|█████████| 991/991 [00:09<00:00, 106.59batch/s, batch_loss=15.6, batch_index=991, batch_size=220]"
     ]
    },
    {
     "name": "stdout",
     "output_type": "stream",
     "text": [
      "Epoch 46, Loss: 29.3779\n"
     ]
    },
    {
     "name": "stderr",
     "output_type": "stream",
     "text": [
      "\n",
      "poch 47/300: 100%|█████████| 991/991 [00:09<00:00, 106.84batch/s, batch_loss=15.3, batch_index=991, batch_size=220]"
     ]
    },
    {
     "name": "stdout",
     "output_type": "stream",
     "text": [
      "Epoch 47, Loss: 25.7351\n"
     ]
    },
    {
     "name": "stderr",
     "output_type": "stream",
     "text": [
      "\n",
      "poch 48/300: 100%|███████████| 991/991 [00:09<00:00, 107.45batch/s, batch_loss=16, batch_index=991, batch_size=220]"
     ]
    },
    {
     "name": "stdout",
     "output_type": "stream",
     "text": [
      "Epoch 48, Loss: 28.2387\n"
     ]
    },
    {
     "name": "stderr",
     "output_type": "stream",
     "text": [
      "\n",
      "poch 49/300: 100%|██████████| 991/991 [00:10<00:00, 93.89batch/s, batch_loss=16.9, batch_index=991, batch_size=220]"
     ]
    },
    {
     "name": "stdout",
     "output_type": "stream",
     "text": [
      "Epoch 49, Loss: 21.9881\n"
     ]
    },
    {
     "name": "stderr",
     "output_type": "stream",
     "text": [
      "\n",
      "poch 50/300: 100%|██████████| 991/991 [00:10<00:00, 96.08batch/s, batch_loss=15.7, batch_index=991, batch_size=220]"
     ]
    },
    {
     "name": "stdout",
     "output_type": "stream",
     "text": [
      "Epoch 50, Loss: 21.2015\n"
     ]
    },
    {
     "name": "stderr",
     "output_type": "stream",
     "text": [
      "\n",
      "poch 51/300: 100%|███████████| 991/991 [00:09<00:00, 104.21batch/s, batch_loss=15, batch_index=991, batch_size=220]"
     ]
    },
    {
     "name": "stdout",
     "output_type": "stream",
     "text": [
      "Epoch 51, Loss: 20.0813\n"
     ]
    },
    {
     "name": "stderr",
     "output_type": "stream",
     "text": [
      "\n",
      "poch 52/300: 100%|███████████| 991/991 [00:09<00:00, 107.72batch/s, batch_loss=15, batch_index=991, batch_size=220]"
     ]
    },
    {
     "name": "stdout",
     "output_type": "stream",
     "text": [
      "Epoch 52, Loss: 24.4056\n"
     ]
    },
    {
     "name": "stderr",
     "output_type": "stream",
     "text": [
      "\n",
      "poch 53/300: 100%|█████████| 991/991 [00:09<00:00, 107.66batch/s, batch_loss=15.5, batch_index=991, batch_size=220]"
     ]
    },
    {
     "name": "stdout",
     "output_type": "stream",
     "text": [
      "Epoch 53, Loss: 25.3753\n"
     ]
    },
    {
     "name": "stderr",
     "output_type": "stream",
     "text": [
      "\n",
      "poch 54/300: 100%|█████████| 991/991 [00:09<00:00, 108.43batch/s, batch_loss=16.1, batch_index=991, batch_size=220]"
     ]
    },
    {
     "name": "stdout",
     "output_type": "stream",
     "text": [
      "Epoch 54, Loss: 21.4710\n"
     ]
    },
    {
     "name": "stderr",
     "output_type": "stream",
     "text": [
      "\n",
      "poch 55/300: 100%|█████████| 991/991 [00:09<00:00, 108.66batch/s, batch_loss=15.1, batch_index=991, batch_size=220]"
     ]
    },
    {
     "name": "stdout",
     "output_type": "stream",
     "text": [
      "Epoch 55, Loss: 17.6475\n"
     ]
    },
    {
     "name": "stderr",
     "output_type": "stream",
     "text": [
      "\n",
      "poch 56/300: 100%|█████████| 991/991 [00:09<00:00, 107.79batch/s, batch_loss=15.1, batch_index=991, batch_size=220]"
     ]
    },
    {
     "name": "stdout",
     "output_type": "stream",
     "text": [
      "Epoch 56, Loss: 34.8611\n"
     ]
    },
    {
     "name": "stderr",
     "output_type": "stream",
     "text": [
      "\n",
      "poch 57/300: 100%|█████████| 991/991 [00:09<00:00, 107.75batch/s, batch_loss=14.1, batch_index=991, batch_size=220]"
     ]
    },
    {
     "name": "stdout",
     "output_type": "stream",
     "text": [
      "Epoch 57, Loss: 25.0563\n"
     ]
    },
    {
     "name": "stderr",
     "output_type": "stream",
     "text": [
      "\n",
      "poch 58/300: 100%|█████████| 991/991 [00:09<00:00, 108.55batch/s, batch_loss=15.1, batch_index=991, batch_size=220]"
     ]
    },
    {
     "name": "stdout",
     "output_type": "stream",
     "text": [
      "Epoch 58, Loss: 20.3745\n"
     ]
    },
    {
     "name": "stderr",
     "output_type": "stream",
     "text": [
      "\n",
      "poch 59/300: 100%|█████████| 991/991 [00:09<00:00, 107.78batch/s, batch_loss=15.4, batch_index=991, batch_size=220]"
     ]
    },
    {
     "name": "stdout",
     "output_type": "stream",
     "text": [
      "Epoch 59, Loss: 19.2197\n"
     ]
    },
    {
     "name": "stderr",
     "output_type": "stream",
     "text": [
      "\n",
      "poch 60/300: 100%|███████████| 991/991 [00:09<00:00, 107.33batch/s, batch_loss=15, batch_index=991, batch_size=220]"
     ]
    },
    {
     "name": "stdout",
     "output_type": "stream",
     "text": [
      "Epoch 60, Loss: 15.7495\n"
     ]
    },
    {
     "name": "stderr",
     "output_type": "stream",
     "text": [
      "\n",
      "poch 61/300: 100%|███████████| 991/991 [00:09<00:00, 109.07batch/s, batch_loss=15, batch_index=991, batch_size=220]"
     ]
    },
    {
     "name": "stdout",
     "output_type": "stream",
     "text": [
      "Epoch 61, Loss: 18.5136\n"
     ]
    },
    {
     "name": "stderr",
     "output_type": "stream",
     "text": [
      "\n",
      "poch 62/300: 100%|█████████| 991/991 [00:09<00:00, 108.14batch/s, batch_loss=14.3, batch_index=991, batch_size=220]"
     ]
    },
    {
     "name": "stdout",
     "output_type": "stream",
     "text": [
      "Epoch 62, Loss: 15.8145\n"
     ]
    },
    {
     "name": "stderr",
     "output_type": "stream",
     "text": [
      "\n",
      "poch 63/300: 100%|█████████| 991/991 [00:09<00:00, 107.09batch/s, batch_loss=13.8, batch_index=991, batch_size=220]"
     ]
    },
    {
     "name": "stdout",
     "output_type": "stream",
     "text": [
      "Epoch 63, Loss: 16.7763\n"
     ]
    },
    {
     "name": "stderr",
     "output_type": "stream",
     "text": [
      "\n",
      "poch 64/300: 100%|███████████| 991/991 [00:09<00:00, 107.76batch/s, batch_loss=14, batch_index=991, batch_size=220]"
     ]
    },
    {
     "name": "stdout",
     "output_type": "stream",
     "text": [
      "Epoch 64, Loss: 18.9302\n"
     ]
    },
    {
     "name": "stderr",
     "output_type": "stream",
     "text": [
      "\n",
      "poch 65/300: 100%|█████████| 991/991 [00:09<00:00, 107.65batch/s, batch_loss=12.6, batch_index=991, batch_size=220]"
     ]
    },
    {
     "name": "stdout",
     "output_type": "stream",
     "text": [
      "Epoch 65, Loss: 18.5425\n"
     ]
    },
    {
     "name": "stderr",
     "output_type": "stream",
     "text": [
      "\n",
      "poch 66/300: 100%|█████████| 991/991 [00:09<00:00, 107.16batch/s, batch_loss=13.4, batch_index=991, batch_size=220]"
     ]
    },
    {
     "name": "stdout",
     "output_type": "stream",
     "text": [
      "Epoch 66, Loss: 15.9930\n"
     ]
    },
    {
     "name": "stderr",
     "output_type": "stream",
     "text": [
      "\n",
      "poch 67/300: 100%|██████████| 991/991 [00:10<00:00, 93.86batch/s, batch_loss=12.3, batch_index=991, batch_size=220]"
     ]
    },
    {
     "name": "stdout",
     "output_type": "stream",
     "text": [
      "Epoch 67, Loss: 17.3231\n"
     ]
    },
    {
     "name": "stderr",
     "output_type": "stream",
     "text": [
      "\n",
      "poch 68/300: 100%|█████████| 991/991 [00:09<00:00, 100.58batch/s, batch_loss=13.7, batch_index=991, batch_size=220]"
     ]
    },
    {
     "name": "stdout",
     "output_type": "stream",
     "text": [
      "Epoch 68, Loss: 16.8205\n"
     ]
    },
    {
     "name": "stderr",
     "output_type": "stream",
     "text": [
      "\n",
      "poch 69/300: 100%|██████████| 991/991 [00:09<00:00, 99.67batch/s, batch_loss=13.5, batch_index=991, batch_size=220]"
     ]
    },
    {
     "name": "stdout",
     "output_type": "stream",
     "text": [
      "Epoch 69, Loss: 18.1343\n"
     ]
    },
    {
     "name": "stderr",
     "output_type": "stream",
     "text": [
      "\n",
      "poch 70/300: 100%|██████████| 991/991 [00:09<00:00, 99.10batch/s, batch_loss=12.8, batch_index=991, batch_size=220]"
     ]
    },
    {
     "name": "stdout",
     "output_type": "stream",
     "text": [
      "Epoch 70, Loss: 16.4663\n"
     ]
    },
    {
     "name": "stderr",
     "output_type": "stream",
     "text": [
      "\n",
      "poch 71/300: 100%|█████████| 991/991 [00:09<00:00, 100.78batch/s, batch_loss=13.7, batch_index=991, batch_size=220]"
     ]
    },
    {
     "name": "stdout",
     "output_type": "stream",
     "text": [
      "Epoch 71, Loss: 15.3407\n"
     ]
    },
    {
     "name": "stderr",
     "output_type": "stream",
     "text": [
      "\n",
      "poch 72/300: 100%|█████████| 991/991 [00:09<00:00, 100.48batch/s, batch_loss=13.6, batch_index=991, batch_size=220]"
     ]
    },
    {
     "name": "stdout",
     "output_type": "stream",
     "text": [
      "Epoch 72, Loss: 15.8863\n"
     ]
    },
    {
     "name": "stderr",
     "output_type": "stream",
     "text": [
      "\n",
      "poch 73/300: 100%|█████████| 991/991 [00:09<00:00, 100.65batch/s, batch_loss=12.4, batch_index=991, batch_size=220]"
     ]
    },
    {
     "name": "stdout",
     "output_type": "stream",
     "text": [
      "Epoch 73, Loss: 15.0867\n"
     ]
    },
    {
     "name": "stderr",
     "output_type": "stream",
     "text": [
      "\n",
      "poch 74/300: 100%|██████████| 991/991 [00:09<00:00, 99.71batch/s, batch_loss=12.1, batch_index=991, batch_size=220]"
     ]
    },
    {
     "name": "stdout",
     "output_type": "stream",
     "text": [
      "Epoch 74, Loss: 15.4158\n"
     ]
    },
    {
     "name": "stderr",
     "output_type": "stream",
     "text": [
      "\n",
      "poch 75/300: 100%|██████████| 991/991 [00:10<00:00, 96.93batch/s, batch_loss=12.8, batch_index=991, batch_size=220]"
     ]
    },
    {
     "name": "stdout",
     "output_type": "stream",
     "text": [
      "Epoch 75, Loss: 17.2750\n"
     ]
    },
    {
     "name": "stderr",
     "output_type": "stream",
     "text": [
      "\n",
      "poch 76/300: 100%|█████████| 991/991 [00:09<00:00, 103.46batch/s, batch_loss=12.6, batch_index=991, batch_size=220]"
     ]
    },
    {
     "name": "stdout",
     "output_type": "stream",
     "text": [
      "Epoch 76, Loss: 15.7463\n"
     ]
    },
    {
     "name": "stderr",
     "output_type": "stream",
     "text": [
      "\n",
      "poch 77/300: 100%|█████████| 991/991 [00:09<00:00, 107.63batch/s, batch_loss=12.3, batch_index=991, batch_size=220]"
     ]
    },
    {
     "name": "stdout",
     "output_type": "stream",
     "text": [
      "Epoch 77, Loss: 12.6495\n"
     ]
    },
    {
     "name": "stderr",
     "output_type": "stream",
     "text": [
      "\n",
      "poch 78/300: 100%|█████████| 991/991 [00:09<00:00, 108.80batch/s, batch_loss=12.2, batch_index=991, batch_size=220]"
     ]
    },
    {
     "name": "stdout",
     "output_type": "stream",
     "text": [
      "Epoch 78, Loss: 13.1739\n"
     ]
    },
    {
     "name": "stderr",
     "output_type": "stream",
     "text": [
      "\n",
      "poch 79/300: 100%|█████████| 991/991 [00:09<00:00, 108.49batch/s, batch_loss=12.2, batch_index=991, batch_size=220]"
     ]
    },
    {
     "name": "stdout",
     "output_type": "stream",
     "text": [
      "Epoch 79, Loss: 13.2259\n"
     ]
    },
    {
     "name": "stderr",
     "output_type": "stream",
     "text": [
      "\n",
      "poch 80/300: 100%|███████████| 991/991 [00:09<00:00, 108.98batch/s, batch_loss=12, batch_index=991, batch_size=220]"
     ]
    },
    {
     "name": "stdout",
     "output_type": "stream",
     "text": [
      "Epoch 80, Loss: 12.9028\n"
     ]
    },
    {
     "name": "stderr",
     "output_type": "stream",
     "text": [
      "\n",
      "poch 81/300: 100%|█████████| 991/991 [00:09<00:00, 107.47batch/s, batch_loss=11.8, batch_index=991, batch_size=220]"
     ]
    },
    {
     "name": "stdout",
     "output_type": "stream",
     "text": [
      "Epoch 81, Loss: 12.5161\n"
     ]
    },
    {
     "name": "stderr",
     "output_type": "stream",
     "text": [
      "\n",
      "poch 82/300: 100%|█████████| 991/991 [00:09<00:00, 109.03batch/s, batch_loss=12.7, batch_index=991, batch_size=220]"
     ]
    },
    {
     "name": "stdout",
     "output_type": "stream",
     "text": [
      "Epoch 82, Loss: 12.3695\n"
     ]
    },
    {
     "name": "stderr",
     "output_type": "stream",
     "text": [
      "\n",
      "poch 83/300: 100%|█████████| 991/991 [00:09<00:00, 109.66batch/s, batch_loss=12.5, batch_index=991, batch_size=220]"
     ]
    },
    {
     "name": "stdout",
     "output_type": "stream",
     "text": [
      "Epoch 83, Loss: 12.3029\n"
     ]
    },
    {
     "name": "stderr",
     "output_type": "stream",
     "text": [
      "\n",
      "poch 84/300: 100%|█████████| 991/991 [00:09<00:00, 108.71batch/s, batch_loss=12.2, batch_index=991, batch_size=220]"
     ]
    },
    {
     "name": "stdout",
     "output_type": "stream",
     "text": [
      "Epoch 84, Loss: 14.5415\n"
     ]
    },
    {
     "name": "stderr",
     "output_type": "stream",
     "text": [
      "\n",
      "poch 85/300: 100%|██████████| 991/991 [00:10<00:00, 93.25batch/s, batch_loss=12.1, batch_index=991, batch_size=220]"
     ]
    },
    {
     "name": "stdout",
     "output_type": "stream",
     "text": [
      "Epoch 85, Loss: 15.1335\n"
     ]
    },
    {
     "name": "stderr",
     "output_type": "stream",
     "text": [
      "\n",
      "poch 86/300: 100%|█████████| 991/991 [00:09<00:00, 101.89batch/s, batch_loss=11.1, batch_index=991, batch_size=220]"
     ]
    },
    {
     "name": "stdout",
     "output_type": "stream",
     "text": [
      "Epoch 86, Loss: 13.4780\n"
     ]
    },
    {
     "name": "stderr",
     "output_type": "stream",
     "text": [
      "\n",
      "poch 87/300: 100%|█████████| 991/991 [00:09<00:00, 100.53batch/s, batch_loss=12.3, batch_index=991, batch_size=220]"
     ]
    },
    {
     "name": "stdout",
     "output_type": "stream",
     "text": [
      "Epoch 87, Loss: 12.0207\n"
     ]
    },
    {
     "name": "stderr",
     "output_type": "stream",
     "text": [
      "\n",
      "poch 88/300: 100%|█████████| 991/991 [00:09<00:00, 100.18batch/s, batch_loss=11.7, batch_index=991, batch_size=220]"
     ]
    },
    {
     "name": "stdout",
     "output_type": "stream",
     "text": [
      "Epoch 88, Loss: 10.0853\n"
     ]
    },
    {
     "name": "stderr",
     "output_type": "stream",
     "text": [
      "\n",
      "poch 89/300: 100%|█████████| 991/991 [00:09<00:00, 100.74batch/s, batch_loss=11.5, batch_index=991, batch_size=220]"
     ]
    },
    {
     "name": "stdout",
     "output_type": "stream",
     "text": [
      "Epoch 89, Loss: 11.9032\n"
     ]
    },
    {
     "name": "stderr",
     "output_type": "stream",
     "text": [
      "\n",
      "poch 90/300: 100%|█████████| 991/991 [00:09<00:00, 100.07batch/s, batch_loss=10.6, batch_index=991, batch_size=220]"
     ]
    },
    {
     "name": "stdout",
     "output_type": "stream",
     "text": [
      "Epoch 90, Loss: 15.0409\n"
     ]
    },
    {
     "name": "stderr",
     "output_type": "stream",
     "text": [
      "\n",
      "poch 91/300: 100%|█████████| 991/991 [00:09<00:00, 100.11batch/s, batch_loss=11.2, batch_index=991, batch_size=220]"
     ]
    },
    {
     "name": "stdout",
     "output_type": "stream",
     "text": [
      "Epoch 91, Loss: 12.0082\n"
     ]
    },
    {
     "name": "stderr",
     "output_type": "stream",
     "text": [
      "\n",
      "poch 92/300: 100%|██████████| 991/991 [00:09<00:00, 99.86batch/s, batch_loss=12.5, batch_index=991, batch_size=220]"
     ]
    },
    {
     "name": "stdout",
     "output_type": "stream",
     "text": [
      "Epoch 92, Loss: 12.4814\n"
     ]
    },
    {
     "name": "stderr",
     "output_type": "stream",
     "text": [
      "\n",
      "poch 93/300: 100%|█████████| 991/991 [00:09<00:00, 100.60batch/s, batch_loss=11.9, batch_index=991, batch_size=220]"
     ]
    },
    {
     "name": "stdout",
     "output_type": "stream",
     "text": [
      "Epoch 93, Loss: 14.4724\n"
     ]
    },
    {
     "name": "stderr",
     "output_type": "stream",
     "text": [
      "\n",
      "poch 94/300: 100%|██████████| 991/991 [00:10<00:00, 98.26batch/s, batch_loss=11.6, batch_index=991, batch_size=220]"
     ]
    },
    {
     "name": "stdout",
     "output_type": "stream",
     "text": [
      "Epoch 94, Loss: 12.3818\n"
     ]
    },
    {
     "name": "stderr",
     "output_type": "stream",
     "text": [
      "\n",
      "poch 95/300: 100%|██████████| 991/991 [00:09<00:00, 99.27batch/s, batch_loss=12.2, batch_index=991, batch_size=220]"
     ]
    },
    {
     "name": "stdout",
     "output_type": "stream",
     "text": [
      "Epoch 95, Loss: 10.5921\n"
     ]
    },
    {
     "name": "stderr",
     "output_type": "stream",
     "text": [
      "\n",
      "poch 96/300: 100%|█████████| 991/991 [00:09<00:00, 100.49batch/s, batch_loss=11.6, batch_index=991, batch_size=220]"
     ]
    },
    {
     "name": "stdout",
     "output_type": "stream",
     "text": [
      "Epoch 96, Loss: 11.7679\n"
     ]
    },
    {
     "name": "stderr",
     "output_type": "stream",
     "text": [
      "\n",
      "poch 97/300: 100%|██████████| 991/991 [00:09<00:00, 99.57batch/s, batch_loss=11.4, batch_index=991, batch_size=220]"
     ]
    },
    {
     "name": "stdout",
     "output_type": "stream",
     "text": [
      "Epoch 97, Loss: 13.2121\n"
     ]
    },
    {
     "name": "stderr",
     "output_type": "stream",
     "text": [
      "\n",
      "poch 98/300: 100%|██████████| 991/991 [00:09<00:00, 99.59batch/s, batch_loss=11.3, batch_index=991, batch_size=220]"
     ]
    },
    {
     "name": "stdout",
     "output_type": "stream",
     "text": [
      "Epoch 98, Loss: 12.1394\n"
     ]
    },
    {
     "name": "stderr",
     "output_type": "stream",
     "text": [
      "\n",
      "poch 99/300: 100%|█████████| 991/991 [00:09<00:00, 100.23batch/s, batch_loss=10.7, batch_index=991, batch_size=220]"
     ]
    },
    {
     "name": "stdout",
     "output_type": "stream",
     "text": [
      "Epoch 99, Loss: 9.0206\n"
     ]
    },
    {
     "name": "stderr",
     "output_type": "stream",
     "text": [
      "\n",
      "poch 100/300: 100%|█████████| 991/991 [00:10<00:00, 98.15batch/s, batch_loss=10.6, batch_index=991, batch_size=220]"
     ]
    },
    {
     "name": "stdout",
     "output_type": "stream",
     "text": [
      "Epoch 100, Loss: 10.1316\n"
     ]
    },
    {
     "name": "stderr",
     "output_type": "stream",
     "text": [
      "\n",
      "poch 101/300: 100%|████████| 991/991 [00:09<00:00, 100.28batch/s, batch_loss=9.49, batch_index=991, batch_size=220]"
     ]
    },
    {
     "name": "stdout",
     "output_type": "stream",
     "text": [
      "Epoch 101, Loss: 11.0104\n"
     ]
    },
    {
     "name": "stderr",
     "output_type": "stream",
     "text": [
      "\n",
      "poch 102/300: 100%|████████| 991/991 [00:09<00:00, 100.26batch/s, batch_loss=10.6, batch_index=991, batch_size=220]"
     ]
    },
    {
     "name": "stdout",
     "output_type": "stream",
     "text": [
      "Epoch 102, Loss: 13.2713\n"
     ]
    },
    {
     "name": "stderr",
     "output_type": "stream",
     "text": [
      "\n",
      "poch 103/300: 100%|█████████| 991/991 [00:11<00:00, 89.11batch/s, batch_loss=11.4, batch_index=991, batch_size=220]"
     ]
    },
    {
     "name": "stdout",
     "output_type": "stream",
     "text": [
      "Epoch 103, Loss: 11.3395\n"
     ]
    },
    {
     "name": "stderr",
     "output_type": "stream",
     "text": [
      "\n",
      "poch 104/300: 100%|████████| 991/991 [00:09<00:00, 100.23batch/s, batch_loss=11.4, batch_index=991, batch_size=220]"
     ]
    },
    {
     "name": "stdout",
     "output_type": "stream",
     "text": [
      "Epoch 104, Loss: 10.4331\n"
     ]
    },
    {
     "name": "stderr",
     "output_type": "stream",
     "text": [
      "\n",
      "poch 105/300: 100%|█████████| 991/991 [00:09<00:00, 99.85batch/s, batch_loss=11.7, batch_index=991, batch_size=220]"
     ]
    },
    {
     "name": "stdout",
     "output_type": "stream",
     "text": [
      "Epoch 105, Loss: 11.6209\n"
     ]
    },
    {
     "name": "stderr",
     "output_type": "stream",
     "text": [
      "\n",
      "poch 106/300: 100%|█████████| 991/991 [00:10<00:00, 98.40batch/s, batch_loss=10.7, batch_index=991, batch_size=220]"
     ]
    },
    {
     "name": "stdout",
     "output_type": "stream",
     "text": [
      "Epoch 106, Loss: 9.1995\n"
     ]
    },
    {
     "name": "stderr",
     "output_type": "stream",
     "text": [
      "\n",
      "poch 107/300: 100%|██████████| 991/991 [00:09<00:00, 100.17batch/s, batch_loss=12, batch_index=991, batch_size=220]"
     ]
    },
    {
     "name": "stdout",
     "output_type": "stream",
     "text": [
      "Epoch 107, Loss: 10.3929\n"
     ]
    },
    {
     "name": "stderr",
     "output_type": "stream",
     "text": [
      "\n",
      "poch 108/300: 100%|█████████| 991/991 [00:10<00:00, 98.89batch/s, batch_loss=11.1, batch_index=991, batch_size=220]"
     ]
    },
    {
     "name": "stdout",
     "output_type": "stream",
     "text": [
      "Epoch 108, Loss: 8.6054\n"
     ]
    },
    {
     "name": "stderr",
     "output_type": "stream",
     "text": [
      "\n",
      "poch 109/300: 100%|█████████| 991/991 [00:10<00:00, 99.06batch/s, batch_loss=12.2, batch_index=991, batch_size=220]"
     ]
    },
    {
     "name": "stdout",
     "output_type": "stream",
     "text": [
      "Epoch 109, Loss: 13.0482\n"
     ]
    },
    {
     "name": "stderr",
     "output_type": "stream",
     "text": [
      "\n",
      "poch 110/300: 100%|█████████| 991/991 [00:10<00:00, 98.48batch/s, batch_loss=11.6, batch_index=991, batch_size=220]"
     ]
    },
    {
     "name": "stdout",
     "output_type": "stream",
     "text": [
      "Epoch 110, Loss: 12.4331\n"
     ]
    },
    {
     "name": "stderr",
     "output_type": "stream",
     "text": [
      "\n",
      "poch 111/300: 100%|████████| 991/991 [00:09<00:00, 100.08batch/s, batch_loss=10.8, batch_index=991, batch_size=220]"
     ]
    },
    {
     "name": "stdout",
     "output_type": "stream",
     "text": [
      "Epoch 111, Loss: 10.1327\n"
     ]
    },
    {
     "name": "stderr",
     "output_type": "stream",
     "text": [
      "\n",
      "poch 112/300: 100%|█████████| 991/991 [00:09<00:00, 99.72batch/s, batch_loss=10.7, batch_index=991, batch_size=220]"
     ]
    },
    {
     "name": "stdout",
     "output_type": "stream",
     "text": [
      "Epoch 112, Loss: 9.8499\n"
     ]
    },
    {
     "name": "stderr",
     "output_type": "stream",
     "text": [
      "\n",
      "poch 113/300: 100%|█████████| 991/991 [00:09<00:00, 99.88batch/s, batch_loss=10.3, batch_index=991, batch_size=220]"
     ]
    },
    {
     "name": "stdout",
     "output_type": "stream",
     "text": [
      "Epoch 113, Loss: 10.9639\n"
     ]
    },
    {
     "name": "stderr",
     "output_type": "stream",
     "text": [
      "\n",
      "poch 114/300: 100%|█████████| 991/991 [00:09<00:00, 99.62batch/s, batch_loss=9.52, batch_index=991, batch_size=220]"
     ]
    },
    {
     "name": "stdout",
     "output_type": "stream",
     "text": [
      "Epoch 114, Loss: 8.6117\n"
     ]
    },
    {
     "name": "stderr",
     "output_type": "stream",
     "text": [
      "\n",
      "poch 115/300: 100%|█████████| 991/991 [00:10<00:00, 97.40batch/s, batch_loss=10.4, batch_index=991, batch_size=220]"
     ]
    },
    {
     "name": "stdout",
     "output_type": "stream",
     "text": [
      "Epoch 115, Loss: 7.9572\n"
     ]
    },
    {
     "name": "stderr",
     "output_type": "stream",
     "text": [
      "\n",
      "poch 116/300: 100%|█████████| 991/991 [00:09<00:00, 99.49batch/s, batch_loss=10.2, batch_index=991, batch_size=220]"
     ]
    },
    {
     "name": "stdout",
     "output_type": "stream",
     "text": [
      "Epoch 116, Loss: 9.5458\n"
     ]
    },
    {
     "name": "stderr",
     "output_type": "stream",
     "text": [
      "\n",
      "poch 117/300: 100%|█████████| 991/991 [00:09<00:00, 99.48batch/s, batch_loss=9.47, batch_index=991, batch_size=220]"
     ]
    },
    {
     "name": "stdout",
     "output_type": "stream",
     "text": [
      "Epoch 117, Loss: 9.1915\n"
     ]
    },
    {
     "name": "stderr",
     "output_type": "stream",
     "text": [
      "\n",
      "poch 118/300: 100%|█████████| 991/991 [00:10<00:00, 98.79batch/s, batch_loss=9.74, batch_index=991, batch_size=220]"
     ]
    },
    {
     "name": "stdout",
     "output_type": "stream",
     "text": [
      "Epoch 118, Loss: 8.5401\n"
     ]
    },
    {
     "name": "stderr",
     "output_type": "stream",
     "text": [
      "\n",
      "poch 119/300: 100%|█████████| 991/991 [00:09<00:00, 99.13batch/s, batch_loss=9.97, batch_index=991, batch_size=220]"
     ]
    },
    {
     "name": "stdout",
     "output_type": "stream",
     "text": [
      "Epoch 119, Loss: 9.6663\n"
     ]
    },
    {
     "name": "stderr",
     "output_type": "stream",
     "text": [
      "\n",
      "poch 120/300: 100%|██████████| 991/991 [00:09<00:00, 100.56batch/s, batch_loss=11, batch_index=991, batch_size=220]"
     ]
    },
    {
     "name": "stdout",
     "output_type": "stream",
     "text": [
      "Epoch 120, Loss: 8.4122\n"
     ]
    },
    {
     "name": "stderr",
     "output_type": "stream",
     "text": [
      "\n",
      "poch 121/300: 100%|██████████| 991/991 [00:11<00:00, 90.06batch/s, batch_loss=9.8, batch_index=991, batch_size=220]"
     ]
    },
    {
     "name": "stdout",
     "output_type": "stream",
     "text": [
      "Epoch 121, Loss: 12.6000\n"
     ]
    },
    {
     "name": "stderr",
     "output_type": "stream",
     "text": [
      "\n",
      "poch 122/300: 100%|█████████| 991/991 [00:09<00:00, 99.34batch/s, batch_loss=10.5, batch_index=991, batch_size=220]"
     ]
    },
    {
     "name": "stdout",
     "output_type": "stream",
     "text": [
      "Epoch 122, Loss: 11.7744\n"
     ]
    },
    {
     "name": "stderr",
     "output_type": "stream",
     "text": [
      "\n",
      "poch 123/300: 100%|████████| 991/991 [00:09<00:00, 100.41batch/s, batch_loss=9.78, batch_index=991, batch_size=220]"
     ]
    },
    {
     "name": "stdout",
     "output_type": "stream",
     "text": [
      "Epoch 123, Loss: 9.0401\n"
     ]
    },
    {
     "name": "stderr",
     "output_type": "stream",
     "text": [
      "\n",
      "poch 124/300: 100%|█████████| 991/991 [00:10<00:00, 95.87batch/s, batch_loss=10.3, batch_index=991, batch_size=220]"
     ]
    },
    {
     "name": "stdout",
     "output_type": "stream",
     "text": [
      "Epoch 124, Loss: 8.4300\n"
     ]
    },
    {
     "name": "stderr",
     "output_type": "stream",
     "text": [
      "\n",
      "poch 125/300: 100%|████████| 991/991 [00:09<00:00, 108.64batch/s, batch_loss=10.9, batch_index=991, batch_size=220]"
     ]
    },
    {
     "name": "stdout",
     "output_type": "stream",
     "text": [
      "Epoch 125, Loss: 8.5274\n"
     ]
    },
    {
     "name": "stderr",
     "output_type": "stream",
     "text": [
      "\n",
      "poch 126/300: 100%|████████| 991/991 [00:09<00:00, 108.89batch/s, batch_loss=10.1, batch_index=991, batch_size=220]"
     ]
    },
    {
     "name": "stdout",
     "output_type": "stream",
     "text": [
      "Epoch 126, Loss: 8.5155\n"
     ]
    },
    {
     "name": "stderr",
     "output_type": "stream",
     "text": [
      "\n",
      "poch 127/300: 100%|████████| 991/991 [00:09<00:00, 106.68batch/s, batch_loss=9.74, batch_index=991, batch_size=220]"
     ]
    },
    {
     "name": "stdout",
     "output_type": "stream",
     "text": [
      "Epoch 127, Loss: 7.7960\n"
     ]
    },
    {
     "name": "stderr",
     "output_type": "stream",
     "text": [
      "\n",
      "poch 128/300: 100%|████████| 991/991 [00:09<00:00, 107.59batch/s, batch_loss=10.1, batch_index=991, batch_size=220]"
     ]
    },
    {
     "name": "stdout",
     "output_type": "stream",
     "text": [
      "Epoch 128, Loss: 8.1486\n"
     ]
    },
    {
     "name": "stderr",
     "output_type": "stream",
     "text": [
      "\n",
      "poch 129/300: 100%|████████| 991/991 [00:09<00:00, 107.20batch/s, batch_loss=10.1, batch_index=991, batch_size=220]"
     ]
    },
    {
     "name": "stdout",
     "output_type": "stream",
     "text": [
      "Epoch 129, Loss: 9.6174\n"
     ]
    },
    {
     "name": "stderr",
     "output_type": "stream",
     "text": [
      "\n",
      "poch 130/300: 100%|████████| 991/991 [00:09<00:00, 107.22batch/s, batch_loss=9.68, batch_index=991, batch_size=220]"
     ]
    },
    {
     "name": "stdout",
     "output_type": "stream",
     "text": [
      "Epoch 130, Loss: 8.7537\n"
     ]
    },
    {
     "name": "stderr",
     "output_type": "stream",
     "text": [
      "\n",
      "poch 131/300: 100%|██████████| 991/991 [00:09<00:00, 107.42batch/s, batch_loss=10, batch_index=991, batch_size=220]"
     ]
    },
    {
     "name": "stdout",
     "output_type": "stream",
     "text": [
      "Epoch 131, Loss: 9.0570\n"
     ]
    },
    {
     "name": "stderr",
     "output_type": "stream",
     "text": [
      "\n",
      "poch 132/300: 100%|████████| 991/991 [00:09<00:00, 107.92batch/s, batch_loss=10.4, batch_index=991, batch_size=220]"
     ]
    },
    {
     "name": "stdout",
     "output_type": "stream",
     "text": [
      "Epoch 132, Loss: 8.6078\n"
     ]
    },
    {
     "name": "stderr",
     "output_type": "stream",
     "text": [
      "\n",
      "poch 133/300: 100%|████████| 991/991 [00:09<00:00, 107.81batch/s, batch_loss=9.82, batch_index=991, batch_size=220]"
     ]
    },
    {
     "name": "stdout",
     "output_type": "stream",
     "text": [
      "Epoch 133, Loss: 8.6086\n"
     ]
    },
    {
     "name": "stderr",
     "output_type": "stream",
     "text": [
      "\n",
      "poch 134/300: 100%|████████| 991/991 [00:09<00:00, 109.02batch/s, batch_loss=9.56, batch_index=991, batch_size=220]"
     ]
    },
    {
     "name": "stdout",
     "output_type": "stream",
     "text": [
      "Epoch 134, Loss: 8.7717\n"
     ]
    },
    {
     "name": "stderr",
     "output_type": "stream",
     "text": [
      "\n",
      "poch 135/300: 100%|█████████| 991/991 [00:09<00:00, 107.37batch/s, batch_loss=9.4, batch_index=991, batch_size=220]"
     ]
    },
    {
     "name": "stdout",
     "output_type": "stream",
     "text": [
      "Epoch 135, Loss: 7.5405\n"
     ]
    },
    {
     "name": "stderr",
     "output_type": "stream",
     "text": [
      "\n",
      "poch 136/300: 100%|████████| 991/991 [00:09<00:00, 107.75batch/s, batch_loss=9.91, batch_index=991, batch_size=220]"
     ]
    },
    {
     "name": "stdout",
     "output_type": "stream",
     "text": [
      "Epoch 136, Loss: 7.5020\n"
     ]
    },
    {
     "name": "stderr",
     "output_type": "stream",
     "text": [
      "\n",
      "poch 137/300: 100%|████████| 991/991 [00:09<00:00, 108.53batch/s, batch_loss=9.47, batch_index=991, batch_size=220]"
     ]
    },
    {
     "name": "stdout",
     "output_type": "stream",
     "text": [
      "Epoch 137, Loss: 8.1845\n"
     ]
    },
    {
     "name": "stderr",
     "output_type": "stream",
     "text": [
      "\n",
      "poch 138/300: 100%|██████████| 991/991 [00:09<00:00, 106.72batch/s, batch_loss=10, batch_index=991, batch_size=220]"
     ]
    },
    {
     "name": "stdout",
     "output_type": "stream",
     "text": [
      "Epoch 138, Loss: 8.6806\n"
     ]
    },
    {
     "name": "stderr",
     "output_type": "stream",
     "text": [
      "\n",
      "poch 139/300: 100%|█████████| 991/991 [00:10<00:00, 93.06batch/s, batch_loss=11.2, batch_index=991, batch_size=220]"
     ]
    },
    {
     "name": "stdout",
     "output_type": "stream",
     "text": [
      "Epoch 139, Loss: 13.4513\n"
     ]
    },
    {
     "name": "stderr",
     "output_type": "stream",
     "text": [
      "\n",
      "poch 140/300: 100%|████████| 991/991 [00:09<00:00, 100.26batch/s, batch_loss=10.2, batch_index=991, batch_size=220]"
     ]
    },
    {
     "name": "stdout",
     "output_type": "stream",
     "text": [
      "Epoch 140, Loss: 8.7432\n"
     ]
    },
    {
     "name": "stderr",
     "output_type": "stream",
     "text": [
      "\n",
      "poch 141/300: 100%|████████| 991/991 [00:09<00:00, 101.95batch/s, batch_loss=10.3, batch_index=991, batch_size=220]"
     ]
    },
    {
     "name": "stdout",
     "output_type": "stream",
     "text": [
      "Epoch 141, Loss: 7.4098\n"
     ]
    },
    {
     "name": "stderr",
     "output_type": "stream",
     "text": [
      "\n",
      "poch 142/300: 100%|████████| 991/991 [00:09<00:00, 100.86batch/s, batch_loss=9.86, batch_index=991, batch_size=220]"
     ]
    },
    {
     "name": "stdout",
     "output_type": "stream",
     "text": [
      "Epoch 142, Loss: 10.4687\n"
     ]
    },
    {
     "name": "stderr",
     "output_type": "stream",
     "text": [
      "\n",
      "poch 143/300: 100%|█████████| 991/991 [00:10<00:00, 97.05batch/s, batch_loss=9.91, batch_index=991, batch_size=220]"
     ]
    },
    {
     "name": "stdout",
     "output_type": "stream",
     "text": [
      "Epoch 143, Loss: 7.9561\n"
     ]
    },
    {
     "name": "stderr",
     "output_type": "stream",
     "text": [
      "\n",
      "poch 144/300: 100%|█████████| 991/991 [00:09<00:00, 99.63batch/s, batch_loss=9.49, batch_index=991, batch_size=220]"
     ]
    },
    {
     "name": "stdout",
     "output_type": "stream",
     "text": [
      "Epoch 144, Loss: 7.0597\n"
     ]
    },
    {
     "name": "stderr",
     "output_type": "stream",
     "text": [
      "\n",
      "poch 145/300: 100%|████████| 991/991 [00:09<00:00, 100.01batch/s, batch_loss=9.73, batch_index=991, batch_size=220]"
     ]
    },
    {
     "name": "stdout",
     "output_type": "stream",
     "text": [
      "Epoch 145, Loss: 6.2447\n"
     ]
    },
    {
     "name": "stderr",
     "output_type": "stream",
     "text": [
      "\n",
      "poch 146/300: 100%|█████████| 991/991 [00:10<00:00, 93.90batch/s, batch_loss=9.78, batch_index=991, batch_size=220]"
     ]
    },
    {
     "name": "stdout",
     "output_type": "stream",
     "text": [
      "Epoch 146, Loss: 7.5067\n"
     ]
    },
    {
     "name": "stderr",
     "output_type": "stream",
     "text": [
      "\n",
      "poch 147/300: 100%|█████████| 991/991 [00:10<00:00, 94.82batch/s, batch_loss=10.5, batch_index=991, batch_size=220]"
     ]
    },
    {
     "name": "stdout",
     "output_type": "stream",
     "text": [
      "Epoch 147, Loss: 8.3512\n"
     ]
    },
    {
     "name": "stderr",
     "output_type": "stream",
     "text": [
      "\n",
      "poch 148/300: 100%|█████████| 991/991 [00:10<00:00, 97.01batch/s, batch_loss=9.68, batch_index=991, batch_size=220]"
     ]
    },
    {
     "name": "stdout",
     "output_type": "stream",
     "text": [
      "Epoch 148, Loss: 7.6216\n"
     ]
    },
    {
     "name": "stderr",
     "output_type": "stream",
     "text": [
      "\n",
      "poch 149/300: 100%|█████████| 991/991 [00:09<00:00, 99.44batch/s, batch_loss=9.52, batch_index=991, batch_size=220]"
     ]
    },
    {
     "name": "stdout",
     "output_type": "stream",
     "text": [
      "Epoch 149, Loss: 7.7568\n"
     ]
    },
    {
     "name": "stderr",
     "output_type": "stream",
     "text": [
      "\n",
      "poch 150/300: 100%|█████████| 991/991 [00:09<00:00, 99.66batch/s, batch_loss=9.81, batch_index=991, batch_size=220]"
     ]
    },
    {
     "name": "stdout",
     "output_type": "stream",
     "text": [
      "Epoch 150, Loss: 6.9555\n"
     ]
    },
    {
     "name": "stderr",
     "output_type": "stream",
     "text": [
      "\n",
      "poch 151/300: 100%|██████████| 991/991 [00:09<00:00, 99.82batch/s, batch_loss=9.6, batch_index=991, batch_size=220]"
     ]
    },
    {
     "name": "stdout",
     "output_type": "stream",
     "text": [
      "Epoch 151, Loss: 6.1985\n"
     ]
    },
    {
     "name": "stderr",
     "output_type": "stream",
     "text": [
      "\n",
      "poch 152/300: 100%|█████████| 991/991 [00:10<00:00, 98.86batch/s, batch_loss=10.5, batch_index=991, batch_size=220]"
     ]
    },
    {
     "name": "stdout",
     "output_type": "stream",
     "text": [
      "Epoch 152, Loss: 7.1338\n"
     ]
    },
    {
     "name": "stderr",
     "output_type": "stream",
     "text": [
      "\n",
      "poch 153/300: 100%|█████████| 991/991 [00:09<00:00, 99.91batch/s, batch_loss=8.93, batch_index=991, batch_size=220]"
     ]
    },
    {
     "name": "stdout",
     "output_type": "stream",
     "text": [
      "Epoch 153, Loss: 8.8512\n"
     ]
    },
    {
     "name": "stderr",
     "output_type": "stream",
     "text": [
      "\n",
      "poch 154/300: 100%|████████| 991/991 [00:09<00:00, 100.17batch/s, batch_loss=9.71, batch_index=991, batch_size=220]"
     ]
    },
    {
     "name": "stdout",
     "output_type": "stream",
     "text": [
      "Epoch 154, Loss: 7.2455\n"
     ]
    },
    {
     "name": "stderr",
     "output_type": "stream",
     "text": [
      "\n",
      "poch 155/300: 100%|█████████| 991/991 [00:10<00:00, 98.90batch/s, batch_loss=10.1, batch_index=991, batch_size=220]"
     ]
    },
    {
     "name": "stdout",
     "output_type": "stream",
     "text": [
      "Epoch 155, Loss: 7.3745\n"
     ]
    },
    {
     "name": "stderr",
     "output_type": "stream",
     "text": [
      "\n",
      "poch 156/300: 100%|█████████| 991/991 [00:09<00:00, 99.55batch/s, batch_loss=9.25, batch_index=991, batch_size=220]"
     ]
    },
    {
     "name": "stdout",
     "output_type": "stream",
     "text": [
      "Epoch 156, Loss: 7.7329\n"
     ]
    },
    {
     "name": "stderr",
     "output_type": "stream",
     "text": [
      "\n",
      "poch 157/300: 100%|█████████| 991/991 [00:11<00:00, 89.70batch/s, batch_loss=8.38, batch_index=991, batch_size=220]"
     ]
    },
    {
     "name": "stdout",
     "output_type": "stream",
     "text": [
      "Epoch 157, Loss: 7.1956\n"
     ]
    },
    {
     "name": "stderr",
     "output_type": "stream",
     "text": [
      "\n",
      "poch 158/300: 100%|████████| 991/991 [00:09<00:00, 100.07batch/s, batch_loss=10.2, batch_index=991, batch_size=220]"
     ]
    },
    {
     "name": "stdout",
     "output_type": "stream",
     "text": [
      "Epoch 158, Loss: 8.2028\n"
     ]
    },
    {
     "name": "stderr",
     "output_type": "stream",
     "text": [
      "\n",
      "poch 159/300: 100%|████████| 991/991 [00:09<00:00, 100.04batch/s, batch_loss=9.22, batch_index=991, batch_size=220]"
     ]
    },
    {
     "name": "stdout",
     "output_type": "stream",
     "text": [
      "Epoch 159, Loss: 7.1320\n"
     ]
    },
    {
     "name": "stderr",
     "output_type": "stream",
     "text": [
      "\n",
      "poch 160/300: 100%|█████████| 991/991 [00:09<00:00, 99.96batch/s, batch_loss=9.23, batch_index=991, batch_size=220]"
     ]
    },
    {
     "name": "stdout",
     "output_type": "stream",
     "text": [
      "Epoch 160, Loss: 7.6338\n"
     ]
    },
    {
     "name": "stderr",
     "output_type": "stream",
     "text": [
      "\n",
      "poch 161/300: 100%|█████████| 991/991 [00:10<00:00, 97.79batch/s, batch_loss=9.49, batch_index=991, batch_size=220]"
     ]
    },
    {
     "name": "stdout",
     "output_type": "stream",
     "text": [
      "Epoch 161, Loss: 7.4255\n"
     ]
    },
    {
     "name": "stderr",
     "output_type": "stream",
     "text": [
      "\n",
      "poch 162/300: 100%|█████████| 991/991 [00:09<00:00, 99.69batch/s, batch_loss=8.84, batch_index=991, batch_size=220]"
     ]
    },
    {
     "name": "stdout",
     "output_type": "stream",
     "text": [
      "Epoch 162, Loss: 6.6303\n"
     ]
    },
    {
     "name": "stderr",
     "output_type": "stream",
     "text": [
      "\n",
      "poch 163/300: 100%|█████████| 991/991 [00:09<00:00, 99.79batch/s, batch_loss=9.43, batch_index=991, batch_size=220]"
     ]
    },
    {
     "name": "stdout",
     "output_type": "stream",
     "text": [
      "Epoch 163, Loss: 7.1703\n"
     ]
    },
    {
     "name": "stderr",
     "output_type": "stream",
     "text": [
      "\n",
      "poch 164/300: 100%|█████████| 991/991 [00:10<00:00, 98.08batch/s, batch_loss=9.62, batch_index=991, batch_size=220]"
     ]
    },
    {
     "name": "stdout",
     "output_type": "stream",
     "text": [
      "Epoch 164, Loss: 7.9525\n"
     ]
    },
    {
     "name": "stderr",
     "output_type": "stream",
     "text": [
      "\n",
      "poch 165/300: 100%|█████████| 991/991 [00:09<00:00, 99.46batch/s, batch_loss=9.43, batch_index=991, batch_size=220]"
     ]
    },
    {
     "name": "stdout",
     "output_type": "stream",
     "text": [
      "Epoch 165, Loss: 8.7876\n"
     ]
    },
    {
     "name": "stderr",
     "output_type": "stream",
     "text": [
      "\n",
      "poch 166/300: 100%|█████████| 991/991 [00:09<00:00, 99.76batch/s, batch_loss=9.13, batch_index=991, batch_size=220]"
     ]
    },
    {
     "name": "stdout",
     "output_type": "stream",
     "text": [
      "Epoch 166, Loss: 7.6181\n"
     ]
    },
    {
     "name": "stderr",
     "output_type": "stream",
     "text": [
      "\n",
      "poch 167/300: 100%|█████████| 991/991 [00:09<00:00, 99.44batch/s, batch_loss=9.48, batch_index=991, batch_size=220]"
     ]
    },
    {
     "name": "stdout",
     "output_type": "stream",
     "text": [
      "Epoch 167, Loss: 7.7999\n"
     ]
    },
    {
     "name": "stderr",
     "output_type": "stream",
     "text": [
      "\n",
      "poch 168/300: 100%|████████| 991/991 [00:09<00:00, 100.11batch/s, batch_loss=8.94, batch_index=991, batch_size=220]"
     ]
    },
    {
     "name": "stdout",
     "output_type": "stream",
     "text": [
      "Epoch 168, Loss: 6.6166\n"
     ]
    },
    {
     "name": "stderr",
     "output_type": "stream",
     "text": [
      "\n",
      "poch 169/300: 100%|█████████| 991/991 [00:09<00:00, 99.31batch/s, batch_loss=8.96, batch_index=991, batch_size=220]"
     ]
    },
    {
     "name": "stdout",
     "output_type": "stream",
     "text": [
      "Epoch 169, Loss: 7.0764\n"
     ]
    },
    {
     "name": "stderr",
     "output_type": "stream",
     "text": [
      "\n",
      "poch 170/300: 100%|█████████| 991/991 [00:09<00:00, 99.44batch/s, batch_loss=8.62, batch_index=991, batch_size=220]"
     ]
    },
    {
     "name": "stdout",
     "output_type": "stream",
     "text": [
      "Epoch 170, Loss: 7.0660\n"
     ]
    },
    {
     "name": "stderr",
     "output_type": "stream",
     "text": [
      "\n",
      "poch 171/300: 100%|█████████| 991/991 [00:10<00:00, 98.49batch/s, batch_loss=9.08, batch_index=991, batch_size=220]"
     ]
    },
    {
     "name": "stdout",
     "output_type": "stream",
     "text": [
      "Epoch 171, Loss: 7.0531\n"
     ]
    },
    {
     "name": "stderr",
     "output_type": "stream",
     "text": [
      "\n",
      "poch 172/300: 100%|█████████| 991/991 [00:10<00:00, 98.85batch/s, batch_loss=8.87, batch_index=991, batch_size=220]"
     ]
    },
    {
     "name": "stdout",
     "output_type": "stream",
     "text": [
      "Epoch 172, Loss: 6.7301\n"
     ]
    },
    {
     "name": "stderr",
     "output_type": "stream",
     "text": [
      "\n",
      "poch 173/300: 100%|█████████| 991/991 [00:09<00:00, 99.88batch/s, batch_loss=9.67, batch_index=991, batch_size=220]"
     ]
    },
    {
     "name": "stdout",
     "output_type": "stream",
     "text": [
      "Epoch 173, Loss: 6.7798\n"
     ]
    },
    {
     "name": "stderr",
     "output_type": "stream",
     "text": [
      "\n",
      "poch 174/300: 100%|█████████| 991/991 [00:10<00:00, 97.97batch/s, batch_loss=8.61, batch_index=991, batch_size=220]"
     ]
    },
    {
     "name": "stdout",
     "output_type": "stream",
     "text": [
      "Epoch 174, Loss: 6.3770\n"
     ]
    },
    {
     "name": "stderr",
     "output_type": "stream",
     "text": [
      "\n",
      "poch 175/300: 100%|█████████| 991/991 [00:11<00:00, 89.18batch/s, batch_loss=9.02, batch_index=991, batch_size=220]"
     ]
    },
    {
     "name": "stdout",
     "output_type": "stream",
     "text": [
      "Epoch 175, Loss: 7.7898\n"
     ]
    },
    {
     "name": "stderr",
     "output_type": "stream",
     "text": [
      "\n",
      "poch 176/300: 100%|█████████| 991/991 [00:09<00:00, 99.14batch/s, batch_loss=7.99, batch_index=991, batch_size=220]"
     ]
    },
    {
     "name": "stdout",
     "output_type": "stream",
     "text": [
      "Epoch 176, Loss: 7.1395\n"
     ]
    },
    {
     "name": "stderr",
     "output_type": "stream",
     "text": [
      "\n",
      "poch 177/300: 100%|█████████| 991/991 [00:09<00:00, 99.70batch/s, batch_loss=8.58, batch_index=991, batch_size=220]"
     ]
    },
    {
     "name": "stdout",
     "output_type": "stream",
     "text": [
      "Epoch 177, Loss: 6.1525\n"
     ]
    },
    {
     "name": "stderr",
     "output_type": "stream",
     "text": [
      "\n",
      "poch 178/300: 100%|█████████| 991/991 [00:09<00:00, 99.81batch/s, batch_loss=8.41, batch_index=991, batch_size=220]"
     ]
    },
    {
     "name": "stdout",
     "output_type": "stream",
     "text": [
      "Epoch 178, Loss: 6.7949\n"
     ]
    },
    {
     "name": "stderr",
     "output_type": "stream",
     "text": [
      "\n",
      "poch 179/300: 100%|█████████| 991/991 [00:09<00:00, 99.16batch/s, batch_loss=8.63, batch_index=991, batch_size=220]"
     ]
    },
    {
     "name": "stdout",
     "output_type": "stream",
     "text": [
      "Epoch 179, Loss: 6.5814\n"
     ]
    },
    {
     "name": "stderr",
     "output_type": "stream",
     "text": [
      "\n",
      "poch 180/300: 100%|████████████| 991/991 [00:09<00:00, 99.70batch/s, batch_loss=9, batch_index=991, batch_size=220]"
     ]
    },
    {
     "name": "stdout",
     "output_type": "stream",
     "text": [
      "Epoch 180, Loss: 8.3124\n"
     ]
    },
    {
     "name": "stderr",
     "output_type": "stream",
     "text": [
      "\n",
      "poch 181/300: 100%|█████████| 991/991 [00:09<00:00, 99.78batch/s, batch_loss=8.11, batch_index=991, batch_size=220]"
     ]
    },
    {
     "name": "stdout",
     "output_type": "stream",
     "text": [
      "Epoch 181, Loss: 7.0037\n"
     ]
    },
    {
     "name": "stderr",
     "output_type": "stream",
     "text": [
      "\n",
      "poch 182/300: 100%|████████| 991/991 [00:09<00:00, 100.58batch/s, batch_loss=8.92, batch_index=991, batch_size=220]"
     ]
    },
    {
     "name": "stdout",
     "output_type": "stream",
     "text": [
      "Epoch 182, Loss: 7.4166\n"
     ]
    },
    {
     "name": "stderr",
     "output_type": "stream",
     "text": [
      "\n",
      "poch 183/300: 100%|█████████| 991/991 [00:09<00:00, 99.78batch/s, batch_loss=8.61, batch_index=991, batch_size=220]"
     ]
    },
    {
     "name": "stdout",
     "output_type": "stream",
     "text": [
      "Epoch 183, Loss: 7.9405\n"
     ]
    },
    {
     "name": "stderr",
     "output_type": "stream",
     "text": [
      "\n",
      "poch 184/300: 100%|█████████| 991/991 [00:09<00:00, 99.54batch/s, batch_loss=8.14, batch_index=991, batch_size=220]"
     ]
    },
    {
     "name": "stdout",
     "output_type": "stream",
     "text": [
      "Epoch 184, Loss: 6.3994\n"
     ]
    },
    {
     "name": "stderr",
     "output_type": "stream",
     "text": [
      "\n",
      "poch 185/300: 100%|█████████| 991/991 [00:10<00:00, 98.79batch/s, batch_loss=8.85, batch_index=991, batch_size=220]"
     ]
    },
    {
     "name": "stdout",
     "output_type": "stream",
     "text": [
      "Epoch 185, Loss: 7.4397\n"
     ]
    },
    {
     "name": "stderr",
     "output_type": "stream",
     "text": [
      "\n",
      "poch 186/300: 100%|████████| 991/991 [00:09<00:00, 100.01batch/s, batch_loss=9.25, batch_index=991, batch_size=220]"
     ]
    },
    {
     "name": "stdout",
     "output_type": "stream",
     "text": [
      "Epoch 186, Loss: 8.1022\n"
     ]
    },
    {
     "name": "stderr",
     "output_type": "stream",
     "text": [
      "\n",
      "poch 187/300: 100%|█████████| 991/991 [00:09<00:00, 99.19batch/s, batch_loss=9.55, batch_index=991, batch_size=220]"
     ]
    },
    {
     "name": "stdout",
     "output_type": "stream",
     "text": [
      "Epoch 187, Loss: 7.8955\n"
     ]
    },
    {
     "name": "stderr",
     "output_type": "stream",
     "text": [
      "\n",
      "poch 188/300: 100%|█████████| 991/991 [00:10<00:00, 99.02batch/s, batch_loss=8.96, batch_index=991, batch_size=220]"
     ]
    },
    {
     "name": "stdout",
     "output_type": "stream",
     "text": [
      "Epoch 188, Loss: 6.2417\n"
     ]
    },
    {
     "name": "stderr",
     "output_type": "stream",
     "text": [
      "\n",
      "poch 189/300: 100%|█████████| 991/991 [00:10<00:00, 98.99batch/s, batch_loss=8.73, batch_index=991, batch_size=220]"
     ]
    },
    {
     "name": "stdout",
     "output_type": "stream",
     "text": [
      "Epoch 189, Loss: 6.0634\n"
     ]
    },
    {
     "name": "stderr",
     "output_type": "stream",
     "text": [
      "\n",
      "poch 190/300: 100%|█████████| 991/991 [00:10<00:00, 98.95batch/s, batch_loss=9.35, batch_index=991, batch_size=220]"
     ]
    },
    {
     "name": "stdout",
     "output_type": "stream",
     "text": [
      "Epoch 190, Loss: 6.8381\n"
     ]
    },
    {
     "name": "stderr",
     "output_type": "stream",
     "text": [
      "\n",
      "poch 191/300: 100%|█████████| 991/991 [00:09<00:00, 99.16batch/s, batch_loss=9.02, batch_index=991, batch_size=220]"
     ]
    },
    {
     "name": "stdout",
     "output_type": "stream",
     "text": [
      "Epoch 191, Loss: 5.6003\n"
     ]
    },
    {
     "name": "stderr",
     "output_type": "stream",
     "text": [
      "\n",
      "poch 192/300: 100%|█████████| 991/991 [00:09<00:00, 99.58batch/s, batch_loss=8.95, batch_index=991, batch_size=220]"
     ]
    },
    {
     "name": "stdout",
     "output_type": "stream",
     "text": [
      "Epoch 192, Loss: 6.5125\n"
     ]
    },
    {
     "name": "stderr",
     "output_type": "stream",
     "text": [
      "\n",
      "poch 193/300: 100%|█████████| 991/991 [00:11<00:00, 90.04batch/s, batch_loss=8.11, batch_index=991, batch_size=220]"
     ]
    },
    {
     "name": "stdout",
     "output_type": "stream",
     "text": [
      "Epoch 193, Loss: 6.8571\n"
     ]
    },
    {
     "name": "stderr",
     "output_type": "stream",
     "text": [
      "\n",
      "poch 194/300: 100%|█████████| 991/991 [00:10<00:00, 98.75batch/s, batch_loss=9.58, batch_index=991, batch_size=220]"
     ]
    },
    {
     "name": "stdout",
     "output_type": "stream",
     "text": [
      "Epoch 194, Loss: 8.1279\n"
     ]
    },
    {
     "name": "stderr",
     "output_type": "stream",
     "text": [
      "\n",
      "poch 195/300: 100%|████████| 991/991 [00:09<00:00, 100.80batch/s, batch_loss=9.12, batch_index=991, batch_size=220]"
     ]
    },
    {
     "name": "stdout",
     "output_type": "stream",
     "text": [
      "Epoch 195, Loss: 5.5848\n"
     ]
    },
    {
     "name": "stderr",
     "output_type": "stream",
     "text": [
      "\n",
      "poch 196/300: 100%|█████████| 991/991 [00:10<00:00, 99.00batch/s, batch_loss=9.14, batch_index=991, batch_size=220]"
     ]
    },
    {
     "name": "stdout",
     "output_type": "stream",
     "text": [
      "Epoch 196, Loss: 6.5158\n"
     ]
    },
    {
     "name": "stderr",
     "output_type": "stream",
     "text": [
      "\n",
      "poch 197/300: 100%|█████████| 991/991 [00:10<00:00, 98.11batch/s, batch_loss=8.97, batch_index=991, batch_size=220]"
     ]
    },
    {
     "name": "stdout",
     "output_type": "stream",
     "text": [
      "Epoch 197, Loss: 5.7306\n"
     ]
    },
    {
     "name": "stderr",
     "output_type": "stream",
     "text": [
      "\n",
      "poch 198/300: 100%|█████████| 991/991 [00:09<00:00, 99.24batch/s, batch_loss=9.24, batch_index=991, batch_size=220]"
     ]
    },
    {
     "name": "stdout",
     "output_type": "stream",
     "text": [
      "Epoch 198, Loss: 6.5108\n"
     ]
    },
    {
     "name": "stderr",
     "output_type": "stream",
     "text": [
      "\n",
      "poch 199/300: 100%|████████| 991/991 [00:09<00:00, 100.20batch/s, batch_loss=9.32, batch_index=991, batch_size=220]"
     ]
    },
    {
     "name": "stdout",
     "output_type": "stream",
     "text": [
      "Epoch 199, Loss: 6.9250\n"
     ]
    },
    {
     "name": "stderr",
     "output_type": "stream",
     "text": [
      "\n",
      "poch 200/300: 100%|█████████| 991/991 [00:09<00:00, 99.44batch/s, batch_loss=9.42, batch_index=991, batch_size=220]"
     ]
    },
    {
     "name": "stdout",
     "output_type": "stream",
     "text": [
      "Epoch 200, Loss: 6.7187\n"
     ]
    },
    {
     "name": "stderr",
     "output_type": "stream",
     "text": [
      "\n",
      "poch 201/300: 100%|█████████| 991/991 [00:09<00:00, 99.97batch/s, batch_loss=9.52, batch_index=991, batch_size=220]"
     ]
    },
    {
     "name": "stdout",
     "output_type": "stream",
     "text": [
      "Epoch 201, Loss: 6.5041\n"
     ]
    },
    {
     "name": "stderr",
     "output_type": "stream",
     "text": [
      "\n",
      "poch 202/300: 100%|█████████| 991/991 [00:10<00:00, 98.91batch/s, batch_loss=8.64, batch_index=991, batch_size=220]"
     ]
    },
    {
     "name": "stdout",
     "output_type": "stream",
     "text": [
      "Epoch 202, Loss: 6.2257\n"
     ]
    },
    {
     "name": "stderr",
     "output_type": "stream",
     "text": [
      "\n",
      "poch 203/300: 100%|█████████| 991/991 [00:09<00:00, 99.27batch/s, batch_loss=9.23, batch_index=991, batch_size=220]"
     ]
    },
    {
     "name": "stdout",
     "output_type": "stream",
     "text": [
      "Epoch 203, Loss: 5.9999\n"
     ]
    },
    {
     "name": "stderr",
     "output_type": "stream",
     "text": [
      "\n",
      "poch 204/300: 100%|█████████| 991/991 [00:09<00:00, 99.24batch/s, batch_loss=8.93, batch_index=991, batch_size=220]"
     ]
    },
    {
     "name": "stdout",
     "output_type": "stream",
     "text": [
      "Epoch 204, Loss: 6.7760\n"
     ]
    },
    {
     "name": "stderr",
     "output_type": "stream",
     "text": [
      "\n",
      "poch 205/300: 100%|█████████| 991/991 [00:09<00:00, 99.31batch/s, batch_loss=8.67, batch_index=991, batch_size=220]"
     ]
    },
    {
     "name": "stdout",
     "output_type": "stream",
     "text": [
      "Epoch 205, Loss: 6.6672\n"
     ]
    },
    {
     "name": "stderr",
     "output_type": "stream",
     "text": [
      "\n",
      "poch 206/300: 100%|██████████| 991/991 [00:10<00:00, 98.59batch/s, batch_loss=9.6, batch_index=991, batch_size=220]"
     ]
    },
    {
     "name": "stdout",
     "output_type": "stream",
     "text": [
      "Epoch 206, Loss: 5.5616\n"
     ]
    },
    {
     "name": "stderr",
     "output_type": "stream",
     "text": [
      "\n",
      "poch 207/300: 100%|█████████| 991/991 [00:09<00:00, 99.48batch/s, batch_loss=9.34, batch_index=991, batch_size=220]"
     ]
    },
    {
     "name": "stdout",
     "output_type": "stream",
     "text": [
      "Epoch 207, Loss: 5.2871\n"
     ]
    },
    {
     "name": "stderr",
     "output_type": "stream",
     "text": [
      "\n",
      "poch 208/300: 100%|████████| 991/991 [00:09<00:00, 100.11batch/s, batch_loss=8.63, batch_index=991, batch_size=220]"
     ]
    },
    {
     "name": "stdout",
     "output_type": "stream",
     "text": [
      "Epoch 208, Loss: 5.8558\n"
     ]
    },
    {
     "name": "stderr",
     "output_type": "stream",
     "text": [
      "\n",
      "poch 209/300: 100%|█████████| 991/991 [00:09<00:00, 99.96batch/s, batch_loss=8.14, batch_index=991, batch_size=220]"
     ]
    },
    {
     "name": "stdout",
     "output_type": "stream",
     "text": [
      "Epoch 209, Loss: 6.3500\n"
     ]
    },
    {
     "name": "stderr",
     "output_type": "stream",
     "text": [
      "\n",
      "poch 210/300: 100%|█████████| 991/991 [00:09<00:00, 99.71batch/s, batch_loss=8.81, batch_index=991, batch_size=220]"
     ]
    },
    {
     "name": "stdout",
     "output_type": "stream",
     "text": [
      "Epoch 210, Loss: 6.5008\n"
     ]
    },
    {
     "name": "stderr",
     "output_type": "stream",
     "text": [
      "\n",
      "poch 211/300: 100%|█████████| 991/991 [00:11<00:00, 89.26batch/s, batch_loss=8.62, batch_index=991, batch_size=220]"
     ]
    },
    {
     "name": "stdout",
     "output_type": "stream",
     "text": [
      "Epoch 211, Loss: 8.6105\n"
     ]
    },
    {
     "name": "stderr",
     "output_type": "stream",
     "text": [
      "\n",
      "poch 212/300: 100%|█████████| 991/991 [00:09<00:00, 99.60batch/s, batch_loss=8.09, batch_index=991, batch_size=220]"
     ]
    },
    {
     "name": "stdout",
     "output_type": "stream",
     "text": [
      "Epoch 212, Loss: 7.2863\n"
     ]
    },
    {
     "name": "stderr",
     "output_type": "stream",
     "text": [
      "\n",
      "poch 213/300: 100%|█████████| 991/991 [00:10<00:00, 98.86batch/s, batch_loss=8.74, batch_index=991, batch_size=220]"
     ]
    },
    {
     "name": "stdout",
     "output_type": "stream",
     "text": [
      "Epoch 213, Loss: 5.3012\n"
     ]
    },
    {
     "name": "stderr",
     "output_type": "stream",
     "text": [
      "\n",
      "poch 214/300: 100%|████████| 991/991 [00:09<00:00, 100.48batch/s, batch_loss=9.37, batch_index=991, batch_size=220]"
     ]
    },
    {
     "name": "stdout",
     "output_type": "stream",
     "text": [
      "Epoch 214, Loss: 5.8239\n"
     ]
    },
    {
     "name": "stderr",
     "output_type": "stream",
     "text": [
      "\n",
      "poch 215/300: 100%|█████████| 991/991 [00:10<00:00, 98.88batch/s, batch_loss=8.58, batch_index=991, batch_size=220]"
     ]
    },
    {
     "name": "stdout",
     "output_type": "stream",
     "text": [
      "Epoch 215, Loss: 6.9766\n"
     ]
    },
    {
     "name": "stderr",
     "output_type": "stream",
     "text": [
      "\n",
      "poch 216/300: 100%|█████████| 991/991 [00:10<00:00, 98.79batch/s, batch_loss=8.96, batch_index=991, batch_size=220]"
     ]
    },
    {
     "name": "stdout",
     "output_type": "stream",
     "text": [
      "Epoch 216, Loss: 7.8075\n"
     ]
    },
    {
     "name": "stderr",
     "output_type": "stream",
     "text": [
      "\n",
      "poch 217/300: 100%|█████████| 991/991 [00:10<00:00, 98.44batch/s, batch_loss=8.93, batch_index=991, batch_size=220]"
     ]
    },
    {
     "name": "stdout",
     "output_type": "stream",
     "text": [
      "Epoch 217, Loss: 5.2902\n"
     ]
    },
    {
     "name": "stderr",
     "output_type": "stream",
     "text": [
      "\n",
      "poch 218/300: 100%|█████████| 991/991 [00:09<00:00, 99.66batch/s, batch_loss=9.07, batch_index=991, batch_size=220]"
     ]
    },
    {
     "name": "stdout",
     "output_type": "stream",
     "text": [
      "Epoch 218, Loss: 5.0304\n"
     ]
    },
    {
     "name": "stderr",
     "output_type": "stream",
     "text": [
      "\n",
      "poch 219/300: 100%|█████████| 991/991 [00:10<00:00, 98.54batch/s, batch_loss=9.47, batch_index=991, batch_size=220]"
     ]
    },
    {
     "name": "stdout",
     "output_type": "stream",
     "text": [
      "Epoch 219, Loss: 6.4614\n"
     ]
    },
    {
     "name": "stderr",
     "output_type": "stream",
     "text": [
      "\n",
      "poch 220/300: 100%|████████| 991/991 [00:09<00:00, 100.36batch/s, batch_loss=9.62, batch_index=991, batch_size=220]"
     ]
    },
    {
     "name": "stdout",
     "output_type": "stream",
     "text": [
      "Epoch 220, Loss: 5.1884\n"
     ]
    },
    {
     "name": "stderr",
     "output_type": "stream",
     "text": [
      "\n",
      "poch 221/300: 100%|█████████| 991/991 [00:09<00:00, 101.69batch/s, batch_loss=8.3, batch_index=991, batch_size=220]"
     ]
    },
    {
     "name": "stdout",
     "output_type": "stream",
     "text": [
      "Epoch 221, Loss: 6.2213\n"
     ]
    },
    {
     "name": "stderr",
     "output_type": "stream",
     "text": [
      "\n",
      "poch 222/300: 100%|█████████| 991/991 [00:10<00:00, 98.86batch/s, batch_loss=9.54, batch_index=991, batch_size=220]"
     ]
    },
    {
     "name": "stdout",
     "output_type": "stream",
     "text": [
      "Epoch 222, Loss: 7.2577\n"
     ]
    },
    {
     "name": "stderr",
     "output_type": "stream",
     "text": [
      "\n",
      "poch 223/300: 100%|█████████| 991/991 [00:10<00:00, 98.39batch/s, batch_loss=9.02, batch_index=991, batch_size=220]"
     ]
    },
    {
     "name": "stdout",
     "output_type": "stream",
     "text": [
      "Epoch 223, Loss: 7.6383\n"
     ]
    },
    {
     "name": "stderr",
     "output_type": "stream",
     "text": [
      "\n",
      "poch 224/300: 100%|█████████| 991/991 [00:10<00:00, 99.06batch/s, batch_loss=9.35, batch_index=991, batch_size=220]"
     ]
    },
    {
     "name": "stdout",
     "output_type": "stream",
     "text": [
      "Epoch 224, Loss: 7.0028\n"
     ]
    },
    {
     "name": "stderr",
     "output_type": "stream",
     "text": [
      "\n",
      "poch 225/300: 100%|█████████| 991/991 [00:09<00:00, 99.48batch/s, batch_loss=8.94, batch_index=991, batch_size=220]"
     ]
    },
    {
     "name": "stdout",
     "output_type": "stream",
     "text": [
      "Epoch 225, Loss: 5.9830\n"
     ]
    },
    {
     "name": "stderr",
     "output_type": "stream",
     "text": [
      "\n",
      "poch 226/300: 100%|██████████| 991/991 [00:09<00:00, 99.56batch/s, batch_loss=8.4, batch_index=991, batch_size=220]"
     ]
    },
    {
     "name": "stdout",
     "output_type": "stream",
     "text": [
      "Epoch 226, Loss: 5.6441\n"
     ]
    },
    {
     "name": "stderr",
     "output_type": "stream",
     "text": [
      "\n",
      "poch 227/300: 100%|█████████| 991/991 [00:09<00:00, 99.72batch/s, batch_loss=9.02, batch_index=991, batch_size=220]"
     ]
    },
    {
     "name": "stdout",
     "output_type": "stream",
     "text": [
      "Epoch 227, Loss: 5.6568\n"
     ]
    },
    {
     "name": "stderr",
     "output_type": "stream",
     "text": [
      "\n",
      "poch 228/300: 100%|█████████| 991/991 [00:10<00:00, 98.27batch/s, batch_loss=8.63, batch_index=991, batch_size=220]"
     ]
    },
    {
     "name": "stdout",
     "output_type": "stream",
     "text": [
      "Epoch 228, Loss: 6.5320\n"
     ]
    },
    {
     "name": "stderr",
     "output_type": "stream",
     "text": [
      "\n",
      "poch 229/300: 100%|█████████| 991/991 [00:11<00:00, 89.81batch/s, batch_loss=10.6, batch_index=991, batch_size=220]"
     ]
    },
    {
     "name": "stdout",
     "output_type": "stream",
     "text": [
      "Epoch 229, Loss: 5.2356\n"
     ]
    },
    {
     "name": "stderr",
     "output_type": "stream",
     "text": [
      "\n",
      "poch 230/300: 100%|████████| 991/991 [00:09<00:00, 100.10batch/s, batch_loss=8.78, batch_index=991, batch_size=220]"
     ]
    },
    {
     "name": "stdout",
     "output_type": "stream",
     "text": [
      "Epoch 230, Loss: 6.2065\n"
     ]
    },
    {
     "name": "stderr",
     "output_type": "stream",
     "text": [
      "\n",
      "poch 231/300: 100%|█████████| 991/991 [00:10<00:00, 98.10batch/s, batch_loss=8.66, batch_index=991, batch_size=220]"
     ]
    },
    {
     "name": "stdout",
     "output_type": "stream",
     "text": [
      "Epoch 231, Loss: 5.0347\n"
     ]
    },
    {
     "name": "stderr",
     "output_type": "stream",
     "text": [
      "\n",
      "poch 232/300: 100%|████████| 991/991 [00:09<00:00, 100.15batch/s, batch_loss=9.83, batch_index=991, batch_size=220]"
     ]
    },
    {
     "name": "stdout",
     "output_type": "stream",
     "text": [
      "Epoch 232, Loss: 5.3657\n"
     ]
    },
    {
     "name": "stderr",
     "output_type": "stream",
     "text": [
      "\n",
      "poch 233/300: 100%|█████████| 991/991 [00:09<00:00, 99.97batch/s, batch_loss=9.22, batch_index=991, batch_size=220]"
     ]
    },
    {
     "name": "stdout",
     "output_type": "stream",
     "text": [
      "Epoch 233, Loss: 6.1756\n"
     ]
    },
    {
     "name": "stderr",
     "output_type": "stream",
     "text": [
      "\n",
      "poch 234/300: 100%|█████████| 991/991 [00:10<00:00, 98.38batch/s, batch_loss=9.53, batch_index=991, batch_size=220]"
     ]
    },
    {
     "name": "stdout",
     "output_type": "stream",
     "text": [
      "Epoch 234, Loss: 7.2155\n"
     ]
    },
    {
     "name": "stderr",
     "output_type": "stream",
     "text": [
      "\n",
      "poch 235/300: 100%|█████████| 991/991 [00:09<00:00, 99.65batch/s, batch_loss=8.84, batch_index=991, batch_size=220]"
     ]
    },
    {
     "name": "stdout",
     "output_type": "stream",
     "text": [
      "Epoch 235, Loss: 6.5318\n"
     ]
    },
    {
     "name": "stderr",
     "output_type": "stream",
     "text": [
      "\n",
      "poch 236/300: 100%|█████████| 991/991 [00:10<00:00, 99.02batch/s, batch_loss=9.48, batch_index=991, batch_size=220]"
     ]
    },
    {
     "name": "stdout",
     "output_type": "stream",
     "text": [
      "Epoch 236, Loss: 5.1487\n"
     ]
    },
    {
     "name": "stderr",
     "output_type": "stream",
     "text": [
      "\n",
      "poch 237/300: 100%|█████████| 991/991 [00:10<00:00, 98.97batch/s, batch_loss=8.93, batch_index=991, batch_size=220]"
     ]
    },
    {
     "name": "stdout",
     "output_type": "stream",
     "text": [
      "Epoch 237, Loss: 4.9215\n"
     ]
    },
    {
     "name": "stderr",
     "output_type": "stream",
     "text": [
      "\n",
      "poch 238/300: 100%|█████████| 991/991 [00:09<00:00, 99.81batch/s, batch_loss=9.03, batch_index=991, batch_size=220]"
     ]
    },
    {
     "name": "stdout",
     "output_type": "stream",
     "text": [
      "Epoch 238, Loss: 5.1467\n"
     ]
    },
    {
     "name": "stderr",
     "output_type": "stream",
     "text": [
      "\n",
      "poch 239/300: 100%|████████| 991/991 [00:09<00:00, 100.07batch/s, batch_loss=9.49, batch_index=991, batch_size=220]"
     ]
    },
    {
     "name": "stdout",
     "output_type": "stream",
     "text": [
      "Epoch 239, Loss: 7.5567\n"
     ]
    },
    {
     "name": "stderr",
     "output_type": "stream",
     "text": [
      "\n",
      "poch 240/300: 100%|██████████| 991/991 [00:10<00:00, 98.62batch/s, batch_loss=8.9, batch_index=991, batch_size=220]"
     ]
    },
    {
     "name": "stdout",
     "output_type": "stream",
     "text": [
      "Epoch 240, Loss: 6.1452\n"
     ]
    },
    {
     "name": "stderr",
     "output_type": "stream",
     "text": [
      "\n",
      "poch 241/300: 100%|█████████| 991/991 [00:09<00:00, 99.97batch/s, batch_loss=8.92, batch_index=991, batch_size=220]"
     ]
    },
    {
     "name": "stdout",
     "output_type": "stream",
     "text": [
      "Epoch 241, Loss: 6.1088\n"
     ]
    },
    {
     "name": "stderr",
     "output_type": "stream",
     "text": [
      "\n",
      "poch 242/300: 100%|█████████| 991/991 [00:09<00:00, 99.31batch/s, batch_loss=9.26, batch_index=991, batch_size=220]"
     ]
    },
    {
     "name": "stdout",
     "output_type": "stream",
     "text": [
      "Epoch 242, Loss: 5.6144\n"
     ]
    },
    {
     "name": "stderr",
     "output_type": "stream",
     "text": [
      "\n",
      "poch 243/300: 100%|█████████| 991/991 [00:09<00:00, 99.47batch/s, batch_loss=8.61, batch_index=991, batch_size=220]"
     ]
    },
    {
     "name": "stdout",
     "output_type": "stream",
     "text": [
      "Epoch 243, Loss: 4.7128\n"
     ]
    },
    {
     "name": "stderr",
     "output_type": "stream",
     "text": [
      "\n",
      "poch 244/300: 100%|████████| 991/991 [00:09<00:00, 100.04batch/s, batch_loss=8.51, batch_index=991, batch_size=220]"
     ]
    },
    {
     "name": "stdout",
     "output_type": "stream",
     "text": [
      "Epoch 244, Loss: 5.1325\n"
     ]
    },
    {
     "name": "stderr",
     "output_type": "stream",
     "text": [
      "\n",
      "poch 245/300: 100%|█████████| 991/991 [00:10<00:00, 99.08batch/s, batch_loss=8.58, batch_index=991, batch_size=220]"
     ]
    },
    {
     "name": "stdout",
     "output_type": "stream",
     "text": [
      "Epoch 245, Loss: 6.0478\n"
     ]
    },
    {
     "name": "stderr",
     "output_type": "stream",
     "text": [
      "\n",
      "poch 246/300: 100%|████████| 991/991 [00:09<00:00, 100.29batch/s, batch_loss=9.47, batch_index=991, batch_size=220]"
     ]
    },
    {
     "name": "stdout",
     "output_type": "stream",
     "text": [
      "Epoch 246, Loss: 5.9805\n"
     ]
    },
    {
     "name": "stderr",
     "output_type": "stream",
     "text": [
      "\n",
      "poch 247/300: 100%|█████████| 991/991 [00:10<00:00, 90.91batch/s, batch_loss=9.19, batch_index=991, batch_size=220]"
     ]
    },
    {
     "name": "stdout",
     "output_type": "stream",
     "text": [
      "Epoch 247, Loss: 5.2642\n"
     ]
    },
    {
     "name": "stderr",
     "output_type": "stream",
     "text": [
      "\n",
      "poch 248/300: 100%|█████████| 991/991 [00:09<00:00, 99.33batch/s, batch_loss=9.04, batch_index=991, batch_size=220]"
     ]
    },
    {
     "name": "stdout",
     "output_type": "stream",
     "text": [
      "Epoch 248, Loss: 5.2717\n"
     ]
    },
    {
     "name": "stderr",
     "output_type": "stream",
     "text": [
      "\n",
      "poch 249/300: 100%|████████| 991/991 [00:09<00:00, 100.08batch/s, batch_loss=9.05, batch_index=991, batch_size=220]"
     ]
    },
    {
     "name": "stdout",
     "output_type": "stream",
     "text": [
      "Epoch 249, Loss: 6.6397\n"
     ]
    },
    {
     "name": "stderr",
     "output_type": "stream",
     "text": [
      "\n",
      "poch 250/300: 100%|█████████| 991/991 [00:09<00:00, 99.72batch/s, batch_loss=8.71, batch_index=991, batch_size=220]"
     ]
    },
    {
     "name": "stdout",
     "output_type": "stream",
     "text": [
      "Epoch 250, Loss: 5.5543\n"
     ]
    },
    {
     "name": "stderr",
     "output_type": "stream",
     "text": [
      "\n",
      "poch 251/300: 100%|████████| 991/991 [00:09<00:00, 100.18batch/s, batch_loss=8.76, batch_index=991, batch_size=220]"
     ]
    },
    {
     "name": "stdout",
     "output_type": "stream",
     "text": [
      "Epoch 251, Loss: 5.0062\n"
     ]
    },
    {
     "name": "stderr",
     "output_type": "stream",
     "text": [
      "\n",
      "poch 252/300: 100%|█████████| 991/991 [00:10<00:00, 98.42batch/s, batch_loss=8.87, batch_index=991, batch_size=220]"
     ]
    },
    {
     "name": "stdout",
     "output_type": "stream",
     "text": [
      "Epoch 252, Loss: 4.7358\n"
     ]
    },
    {
     "name": "stderr",
     "output_type": "stream",
     "text": [
      "\n",
      "poch 253/300: 100%|█████████| 991/991 [00:10<00:00, 98.78batch/s, batch_loss=9.43, batch_index=991, batch_size=220]"
     ]
    },
    {
     "name": "stdout",
     "output_type": "stream",
     "text": [
      "Epoch 253, Loss: 6.8367\n"
     ]
    },
    {
     "name": "stderr",
     "output_type": "stream",
     "text": [
      "\n",
      "poch 254/300: 100%|█████████| 991/991 [00:09<00:00, 99.69batch/s, batch_loss=8.23, batch_index=991, batch_size=220]"
     ]
    },
    {
     "name": "stdout",
     "output_type": "stream",
     "text": [
      "Epoch 254, Loss: 6.2642\n"
     ]
    },
    {
     "name": "stderr",
     "output_type": "stream",
     "text": [
      "\n",
      "poch 255/300: 100%|████████| 991/991 [00:09<00:00, 100.09batch/s, batch_loss=8.81, batch_index=991, batch_size=220]"
     ]
    },
    {
     "name": "stdout",
     "output_type": "stream",
     "text": [
      "Epoch 255, Loss: 5.4382\n"
     ]
    },
    {
     "name": "stderr",
     "output_type": "stream",
     "text": [
      "\n",
      "poch 256/300: 100%|█████████| 991/991 [00:09<00:00, 99.31batch/s, batch_loss=8.53, batch_index=991, batch_size=220]"
     ]
    },
    {
     "name": "stdout",
     "output_type": "stream",
     "text": [
      "Epoch 256, Loss: 5.1120\n"
     ]
    },
    {
     "name": "stderr",
     "output_type": "stream",
     "text": [
      "\n",
      "poch 257/300: 100%|█████████| 991/991 [00:09<00:00, 99.36batch/s, batch_loss=8.49, batch_index=991, batch_size=220]"
     ]
    },
    {
     "name": "stdout",
     "output_type": "stream",
     "text": [
      "Epoch 257, Loss: 4.7611\n"
     ]
    },
    {
     "name": "stderr",
     "output_type": "stream",
     "text": [
      "\n",
      "poch 258/300: 100%|█████████| 991/991 [00:09<00:00, 99.11batch/s, batch_loss=7.98, batch_index=991, batch_size=220]"
     ]
    },
    {
     "name": "stdout",
     "output_type": "stream",
     "text": [
      "Epoch 258, Loss: 5.2597\n"
     ]
    },
    {
     "name": "stderr",
     "output_type": "stream",
     "text": [
      "\n",
      "poch 259/300: 100%|█████████| 991/991 [00:10<00:00, 98.02batch/s, batch_loss=9.32, batch_index=991, batch_size=220]"
     ]
    },
    {
     "name": "stdout",
     "output_type": "stream",
     "text": [
      "Epoch 259, Loss: 7.1885\n"
     ]
    },
    {
     "name": "stderr",
     "output_type": "stream",
     "text": [
      "\n",
      "poch 260/300: 100%|█████████| 991/991 [00:09<00:00, 100.00batch/s, batch_loss=8.1, batch_index=991, batch_size=220]"
     ]
    },
    {
     "name": "stdout",
     "output_type": "stream",
     "text": [
      "Epoch 260, Loss: 6.6841\n"
     ]
    },
    {
     "name": "stderr",
     "output_type": "stream",
     "text": [
      "\n",
      "poch 261/300: 100%|█████████| 991/991 [00:10<00:00, 98.44batch/s, batch_loss=8.05, batch_index=991, batch_size=220]"
     ]
    },
    {
     "name": "stdout",
     "output_type": "stream",
     "text": [
      "Epoch 261, Loss: 6.0314\n"
     ]
    },
    {
     "name": "stderr",
     "output_type": "stream",
     "text": [
      "\n",
      "poch 262/300: 100%|█████████| 991/991 [00:09<00:00, 99.77batch/s, batch_loss=8.61, batch_index=991, batch_size=220]"
     ]
    },
    {
     "name": "stdout",
     "output_type": "stream",
     "text": [
      "Epoch 262, Loss: 5.8576\n"
     ]
    },
    {
     "name": "stderr",
     "output_type": "stream",
     "text": [
      "\n",
      "poch 263/300: 100%|█████████| 991/991 [00:09<00:00, 99.58batch/s, batch_loss=8.68, batch_index=991, batch_size=220]"
     ]
    },
    {
     "name": "stdout",
     "output_type": "stream",
     "text": [
      "Epoch 263, Loss: 5.2371\n"
     ]
    },
    {
     "name": "stderr",
     "output_type": "stream",
     "text": [
      "\n",
      "poch 264/300: 100%|█████████| 991/991 [00:10<00:00, 98.92batch/s, batch_loss=7.82, batch_index=991, batch_size=220]"
     ]
    },
    {
     "name": "stdout",
     "output_type": "stream",
     "text": [
      "Epoch 264, Loss: 4.7403\n"
     ]
    },
    {
     "name": "stderr",
     "output_type": "stream",
     "text": [
      "\n",
      "poch 265/300: 100%|█████████| 991/991 [00:11<00:00, 89.16batch/s, batch_loss=8.08, batch_index=991, batch_size=220]"
     ]
    },
    {
     "name": "stdout",
     "output_type": "stream",
     "text": [
      "Epoch 265, Loss: 5.1233\n"
     ]
    },
    {
     "name": "stderr",
     "output_type": "stream",
     "text": [
      "\n",
      "poch 266/300: 100%|█████████| 991/991 [00:09<00:00, 99.80batch/s, batch_loss=8.52, batch_index=991, batch_size=220]"
     ]
    },
    {
     "name": "stdout",
     "output_type": "stream",
     "text": [
      "Epoch 266, Loss: 5.6458\n"
     ]
    },
    {
     "name": "stderr",
     "output_type": "stream",
     "text": [
      "\n",
      "poch 267/300: 100%|█████████| 991/991 [00:09<00:00, 100.57batch/s, batch_loss=7.8, batch_index=991, batch_size=220]"
     ]
    },
    {
     "name": "stdout",
     "output_type": "stream",
     "text": [
      "Epoch 267, Loss: 5.4156\n"
     ]
    },
    {
     "name": "stderr",
     "output_type": "stream",
     "text": [
      "\n",
      "poch 268/300: 100%|█████████| 991/991 [00:10<00:00, 98.48batch/s, batch_loss=7.52, batch_index=991, batch_size=220]"
     ]
    },
    {
     "name": "stdout",
     "output_type": "stream",
     "text": [
      "Epoch 268, Loss: 5.3526\n"
     ]
    },
    {
     "name": "stderr",
     "output_type": "stream",
     "text": [
      "\n",
      "poch 269/300: 100%|██████████| 991/991 [00:09<00:00, 99.71batch/s, batch_loss=7.8, batch_index=991, batch_size=220]"
     ]
    },
    {
     "name": "stdout",
     "output_type": "stream",
     "text": [
      "Epoch 269, Loss: 5.6117\n"
     ]
    },
    {
     "name": "stderr",
     "output_type": "stream",
     "text": [
      "\n",
      "poch 270/300: 100%|█████████| 991/991 [00:09<00:00, 99.59batch/s, batch_loss=7.28, batch_index=991, batch_size=220]"
     ]
    },
    {
     "name": "stdout",
     "output_type": "stream",
     "text": [
      "Epoch 270, Loss: 6.0929\n"
     ]
    },
    {
     "name": "stderr",
     "output_type": "stream",
     "text": [
      "\n",
      "poch 271/300: 100%|█████████| 991/991 [00:09<00:00, 99.33batch/s, batch_loss=7.56, batch_index=991, batch_size=220]"
     ]
    },
    {
     "name": "stdout",
     "output_type": "stream",
     "text": [
      "Epoch 271, Loss: 5.0100\n"
     ]
    },
    {
     "name": "stderr",
     "output_type": "stream",
     "text": [
      "\n",
      "poch 272/300: 100%|█████████| 991/991 [00:10<00:00, 98.84batch/s, batch_loss=7.78, batch_index=991, batch_size=220]"
     ]
    },
    {
     "name": "stdout",
     "output_type": "stream",
     "text": [
      "Epoch 272, Loss: 4.3132\n"
     ]
    },
    {
     "name": "stderr",
     "output_type": "stream",
     "text": [
      "\n",
      "poch 273/300: 100%|█████████| 991/991 [00:09<00:00, 99.38batch/s, batch_loss=7.39, batch_index=991, batch_size=220]"
     ]
    },
    {
     "name": "stdout",
     "output_type": "stream",
     "text": [
      "Epoch 273, Loss: 6.0544\n"
     ]
    },
    {
     "name": "stderr",
     "output_type": "stream",
     "text": [
      "\n",
      "poch 274/300: 100%|████████| 991/991 [00:09<00:00, 101.26batch/s, batch_loss=7.48, batch_index=991, batch_size=220]"
     ]
    },
    {
     "name": "stdout",
     "output_type": "stream",
     "text": [
      "Epoch 274, Loss: 5.3705\n"
     ]
    },
    {
     "name": "stderr",
     "output_type": "stream",
     "text": [
      "\n",
      "poch 275/300: 100%|████████| 991/991 [00:09<00:00, 101.20batch/s, batch_loss=7.94, batch_index=991, batch_size=220]"
     ]
    },
    {
     "name": "stdout",
     "output_type": "stream",
     "text": [
      "Epoch 275, Loss: 5.3700\n"
     ]
    },
    {
     "name": "stderr",
     "output_type": "stream",
     "text": [
      "\n",
      "poch 276/300: 100%|█████████| 991/991 [00:10<00:00, 98.71batch/s, batch_loss=8.34, batch_index=991, batch_size=220]"
     ]
    },
    {
     "name": "stdout",
     "output_type": "stream",
     "text": [
      "Epoch 276, Loss: 5.3812\n"
     ]
    },
    {
     "name": "stderr",
     "output_type": "stream",
     "text": [
      "\n",
      "poch 277/300: 100%|██████████| 991/991 [00:09<00:00, 99.29batch/s, batch_loss=7.4, batch_index=991, batch_size=220]"
     ]
    },
    {
     "name": "stdout",
     "output_type": "stream",
     "text": [
      "Epoch 277, Loss: 4.7338\n"
     ]
    },
    {
     "name": "stderr",
     "output_type": "stream",
     "text": [
      "\n",
      "poch 278/300: 100%|████████| 991/991 [00:09<00:00, 100.43batch/s, batch_loss=7.56, batch_index=991, batch_size=220]"
     ]
    },
    {
     "name": "stdout",
     "output_type": "stream",
     "text": [
      "Epoch 278, Loss: 5.1466\n"
     ]
    },
    {
     "name": "stderr",
     "output_type": "stream",
     "text": [
      "\n",
      "poch 279/300: 100%|█████████| 991/991 [00:10<00:00, 98.26batch/s, batch_loss=7.74, batch_index=991, batch_size=220]"
     ]
    },
    {
     "name": "stdout",
     "output_type": "stream",
     "text": [
      "Epoch 279, Loss: 4.8622\n"
     ]
    },
    {
     "name": "stderr",
     "output_type": "stream",
     "text": [
      "\n",
      "poch 280/300: 100%|████████| 991/991 [00:09<00:00, 100.06batch/s, batch_loss=7.02, batch_index=991, batch_size=220]"
     ]
    },
    {
     "name": "stdout",
     "output_type": "stream",
     "text": [
      "Epoch 280, Loss: 5.2982\n"
     ]
    },
    {
     "name": "stderr",
     "output_type": "stream",
     "text": [
      "\n",
      "poch 281/300: 100%|████████| 991/991 [00:09<00:00, 100.03batch/s, batch_loss=8.12, batch_index=991, batch_size=220]"
     ]
    },
    {
     "name": "stdout",
     "output_type": "stream",
     "text": [
      "Epoch 281, Loss: 5.0777\n"
     ]
    },
    {
     "name": "stderr",
     "output_type": "stream",
     "text": [
      "\n",
      "poch 282/300: 100%|█████████| 991/991 [00:11<00:00, 89.43batch/s, batch_loss=7.63, batch_index=991, batch_size=220]"
     ]
    },
    {
     "name": "stdout",
     "output_type": "stream",
     "text": [
      "Epoch 282, Loss: 4.3713\n"
     ]
    },
    {
     "name": "stderr",
     "output_type": "stream",
     "text": [
      "\n",
      "poch 283/300: 100%|█████████| 991/991 [00:09<00:00, 99.17batch/s, batch_loss=7.35, batch_index=991, batch_size=220]"
     ]
    },
    {
     "name": "stdout",
     "output_type": "stream",
     "text": [
      "Epoch 283, Loss: 4.9469\n"
     ]
    },
    {
     "name": "stderr",
     "output_type": "stream",
     "text": [
      "\n",
      "poch 284/300: 100%|██████████| 991/991 [00:09<00:00, 99.42batch/s, batch_loss=8.2, batch_index=991, batch_size=220]"
     ]
    },
    {
     "name": "stdout",
     "output_type": "stream",
     "text": [
      "Epoch 284, Loss: 4.9949\n"
     ]
    },
    {
     "name": "stderr",
     "output_type": "stream",
     "text": [
      "\n",
      "poch 285/300: 100%|█████████| 991/991 [00:09<00:00, 99.43batch/s, batch_loss=7.57, batch_index=991, batch_size=220]"
     ]
    },
    {
     "name": "stdout",
     "output_type": "stream",
     "text": [
      "Epoch 285, Loss: 5.5815\n"
     ]
    },
    {
     "name": "stderr",
     "output_type": "stream",
     "text": [
      "\n",
      "poch 286/300: 100%|████████| 991/991 [00:09<00:00, 101.38batch/s, batch_loss=8.26, batch_index=991, batch_size=220]"
     ]
    },
    {
     "name": "stdout",
     "output_type": "stream",
     "text": [
      "Epoch 286, Loss: 5.6415\n"
     ]
    },
    {
     "name": "stderr",
     "output_type": "stream",
     "text": [
      "\n",
      "poch 287/300: 100%|████████| 991/991 [00:09<00:00, 100.44batch/s, batch_loss=8.05, batch_index=991, batch_size=220]"
     ]
    },
    {
     "name": "stdout",
     "output_type": "stream",
     "text": [
      "Epoch 287, Loss: 4.4831\n"
     ]
    },
    {
     "name": "stderr",
     "output_type": "stream",
     "text": [
      "\n",
      "poch 288/300: 100%|█████████| 991/991 [00:10<00:00, 98.66batch/s, batch_loss=7.68, batch_index=991, batch_size=220]"
     ]
    },
    {
     "name": "stdout",
     "output_type": "stream",
     "text": [
      "Epoch 288, Loss: 4.6621\n"
     ]
    },
    {
     "name": "stderr",
     "output_type": "stream",
     "text": [
      "\n",
      "poch 289/300: 100%|█████████| 991/991 [00:09<00:00, 99.24batch/s, batch_loss=8.55, batch_index=991, batch_size=220]"
     ]
    },
    {
     "name": "stdout",
     "output_type": "stream",
     "text": [
      "Epoch 289, Loss: 4.2625\n"
     ]
    },
    {
     "name": "stderr",
     "output_type": "stream",
     "text": [
      "\n",
      "poch 290/300: 100%|█████████| 991/991 [00:09<00:00, 99.42batch/s, batch_loss=7.48, batch_index=991, batch_size=220]"
     ]
    },
    {
     "name": "stdout",
     "output_type": "stream",
     "text": [
      "Epoch 290, Loss: 5.8712\n"
     ]
    },
    {
     "name": "stderr",
     "output_type": "stream",
     "text": [
      "\n",
      "poch 291/300: 100%|█████████| 991/991 [00:09<00:00, 99.60batch/s, batch_loss=8.57, batch_index=991, batch_size=220]"
     ]
    },
    {
     "name": "stdout",
     "output_type": "stream",
     "text": [
      "Epoch 291, Loss: 4.9946\n"
     ]
    },
    {
     "name": "stderr",
     "output_type": "stream",
     "text": [
      "\n",
      "poch 292/300: 100%|█████████| 991/991 [00:09<00:00, 99.51batch/s, batch_loss=7.71, batch_index=991, batch_size=220]"
     ]
    },
    {
     "name": "stdout",
     "output_type": "stream",
     "text": [
      "Epoch 292, Loss: 4.7960\n"
     ]
    },
    {
     "name": "stderr",
     "output_type": "stream",
     "text": [
      "\n",
      "poch 293/300: 100%|████████| 991/991 [00:09<00:00, 100.14batch/s, batch_loss=8.01, batch_index=991, batch_size=220]"
     ]
    },
    {
     "name": "stdout",
     "output_type": "stream",
     "text": [
      "Epoch 293, Loss: 5.7115\n"
     ]
    },
    {
     "name": "stderr",
     "output_type": "stream",
     "text": [
      "\n",
      "poch 294/300: 100%|████████| 991/991 [00:09<00:00, 100.23batch/s, batch_loss=7.18, batch_index=991, batch_size=220]"
     ]
    },
    {
     "name": "stdout",
     "output_type": "stream",
     "text": [
      "Epoch 294, Loss: 5.0239\n"
     ]
    },
    {
     "name": "stderr",
     "output_type": "stream",
     "text": [
      "\n",
      "poch 295/300: 100%|██████████| 991/991 [00:09<00:00, 99.54batch/s, batch_loss=7.2, batch_index=991, batch_size=220]"
     ]
    },
    {
     "name": "stdout",
     "output_type": "stream",
     "text": [
      "Epoch 295, Loss: 4.6914\n"
     ]
    },
    {
     "name": "stderr",
     "output_type": "stream",
     "text": [
      "\n",
      "poch 296/300: 100%|█████████| 991/991 [00:10<00:00, 97.13batch/s, batch_loss=7.15, batch_index=991, batch_size=220]"
     ]
    },
    {
     "name": "stdout",
     "output_type": "stream",
     "text": [
      "Epoch 296, Loss: 4.9083\n"
     ]
    },
    {
     "name": "stderr",
     "output_type": "stream",
     "text": [
      "\n",
      "poch 297/300: 100%|█████████| 991/991 [00:09<00:00, 99.45batch/s, batch_loss=6.77, batch_index=991, batch_size=220]"
     ]
    },
    {
     "name": "stdout",
     "output_type": "stream",
     "text": [
      "Epoch 297, Loss: 4.5307\n"
     ]
    },
    {
     "name": "stderr",
     "output_type": "stream",
     "text": [
      "\n",
      "poch 298/300: 100%|████████| 991/991 [00:09<00:00, 100.00batch/s, batch_loss=7.13, batch_index=991, batch_size=220]"
     ]
    },
    {
     "name": "stdout",
     "output_type": "stream",
     "text": [
      "Epoch 298, Loss: 4.6331\n"
     ]
    },
    {
     "name": "stderr",
     "output_type": "stream",
     "text": [
      "\n",
      "poch 299/300: 100%|█████████| 991/991 [00:09<00:00, 99.96batch/s, batch_loss=6.63, batch_index=991, batch_size=220]"
     ]
    },
    {
     "name": "stdout",
     "output_type": "stream",
     "text": [
      "Epoch 299, Loss: 5.2045\n"
     ]
    },
    {
     "name": "stderr",
     "output_type": "stream",
     "text": [
      "Epoch 300/300: 100%|█████████| 991/991 [00:11<00:00, 90.00batch/s, batch_loss=6.54, batch_index=991, batch_size=220]"
     ]
    },
    {
     "name": "stdout",
     "output_type": "stream",
     "text": [
      "Epoch 300, Loss: 5.5278\n"
     ]
    },
    {
     "name": "stderr",
     "output_type": "stream",
     "text": [
      "\n"
     ]
    }
   ],
   "source": [
    "batch_size = 256\n",
    "learning_rate = 1e-3\n",
    "num_epochs = 300\n",
    "device = torch.device(\"cuda\" if torch.cuda.is_available() else \"cpu\")\n",
    "print(\"cuda\" if torch.cuda.is_available() else \"cpu\")\n",
    "model = NeuralNetwork(device=device).to(device)\n",
    "\n",
    "train_dataset = DoomMotionDataset()\n",
    "train_loader = DataLoader(train_dataset, batch_size=batch_size, shuffle=False)\n",
    "\n",
    "# Loss function and optimizer\n",
    "criterion = torch.nn.MSELoss()\n",
    "optimizer = optim.Adam(model.parameters(), lr=learning_rate)\n",
    "\n",
    "for epoch in range(num_epochs):\n",
    "    model.train()\n",
    "    running_loss = 0.0\n",
    "    progress_bar = tqdm(train_loader, desc=f\"Epoch {epoch+1}/{num_epochs}\", unit=\"batch\")\n",
    "    for batch_idx, (inputs, targets) in enumerate(progress_bar):\n",
    "        inputs, targets = inputs.to(device), targets.to(device)\n",
    "\n",
    "        optimizer.zero_grad()\n",
    "\n",
    "        outputs = model(inputs)\n",
    "    \n",
    "        loss = criterion(outputs, targets)\n",
    "        loss.backward()\n",
    "\n",
    "        optimizer.step()\n",
    "\n",
    "        running_loss += loss.item()\n",
    "\n",
    "        progress_bar.set_postfix({\n",
    "            \"batch_loss\": loss.item(),\n",
    "            \"batch_index\": batch_idx + 1,\n",
    "            \"batch_size\": inputs.size(0)\n",
    "        })\n",
    "\n",
    "    # Average loss per epoch\n",
    "    epoch_loss = running_loss / len(train_loader)\n",
    "    print(f\"Epoch {epoch+1}, Loss: {epoch_loss:.4f}\")\n",
    "\n",
    "# Save the trained model\n",
    "torch.save(model.state_dict(), \"doom_motion_model.pth\")"
   ]
  },
  {
   "cell_type": "code",
   "execution_count": 18,
   "id": "1ce70e48-3ccb-4628-91f7-19fd56e7f6aa",
   "metadata": {},
   "outputs": [],
   "source": [
    "dataSplit, run = \"run-full-test\", \"run3\"\n",
    "\n",
    "annFile = '{}{}.json'.format(DATADIR,dataSplit)"
   ]
  },
  {
   "cell_type": "code",
   "execution_count": 19,
   "id": "37ba335c-f0e6-473b-b7e7-86ffe38ccecd",
   "metadata": {},
   "outputs": [
    {
     "name": "stdout",
     "output_type": "stream",
     "text": [
      "loading annotations into memory...\n",
      "Done (t=6.31s)\n",
      "creating index...\n",
      "index created!\n"
     ]
    }
   ],
   "source": [
    "coco = COCO(annFile)"
   ]
  },
  {
   "cell_type": "code",
   "execution_count": 20,
   "id": "e1aa8a0f-0cd3-488e-a22c-cc0b355745df",
   "metadata": {},
   "outputs": [
    {
     "name": "stderr",
     "output_type": "stream",
     "text": [
      "Testing: 100%|█████████████| 462/462 [00:03<00:00, 134.77batch/s, batch_loss=0.762, batch_index=462, batch_size=122]"
     ]
    },
    {
     "name": "stdout",
     "output_type": "stream",
     "text": [
      "Test Loss: 174.9421\n"
     ]
    },
    {
     "name": "stderr",
     "output_type": "stream",
     "text": [
      "\n"
     ]
    }
   ],
   "source": [
    "model.eval()  # Set the model to evaluation mode\n",
    "running_loss = 0.0\n",
    "\n",
    "test_dataset = DoomMotionDataset()\n",
    "test_loader = DataLoader(test_dataset, batch_size=batch_size, shuffle=False)\n",
    "progress_bar = tqdm(test_loader, desc=\"Testing\", unit=\"batch\")\n",
    "\n",
    "with torch.no_grad():  # Disable gradient calculations for evaluation\n",
    "    for batch_idx, (inputs, targets) in enumerate(progress_bar):\n",
    "        inputs, targets = inputs.to(device), targets.to(device)\n",
    "        \n",
    "        outputs = model(inputs)\n",
    "        loss = criterion(outputs, targets)\n",
    "        \n",
    "        running_loss += loss.item()\n",
    "        \n",
    "        progress_bar.set_postfix({\n",
    "            \"batch_loss\": loss.item(),\n",
    "            \"batch_index\": batch_idx + 1,\n",
    "            \"batch_size\": inputs.size(0)\n",
    "        })\n",
    "\n",
    "# Average loss over all batches\n",
    "test_loss = running_loss / len(test_loader)\n",
    "print(f\"Test Loss: {test_loss:.4f}\")"
   ]
  },
  {
   "cell_type": "code",
   "execution_count": null,
   "id": "d3c44161-1747-43e2-abe6-6508d3dd74bc",
   "metadata": {},
   "outputs": [],
   "source": []
  }
 ],
 "metadata": {
  "kernelspec": {
   "display_name": "Python 3 (ipykernel)",
   "language": "python",
   "name": "python3"
  },
  "language_info": {
   "codemirror_mode": {
    "name": "ipython",
    "version": 3
   },
   "file_extension": ".py",
   "mimetype": "text/x-python",
   "name": "python",
   "nbconvert_exporter": "python",
   "pygments_lexer": "ipython3",
   "version": "3.11.3"
  }
 },
 "nbformat": 4,
 "nbformat_minor": 5
}
