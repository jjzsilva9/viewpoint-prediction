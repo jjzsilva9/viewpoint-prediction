{
 "cells": [
  {
   "cell_type": "markdown",
   "id": "caac3c60-cbd9-4794-a8c0-ced5b193b331",
   "metadata": {},
   "source": [
    "<h1>NN Model</h1>"
   ]
  },
  {
   "cell_type": "code",
   "execution_count": 1,
   "id": "8c437917-e990-4491-a25e-b7adeb77f372",
   "metadata": {
    "execution": {
     "iopub.execute_input": "2025-03-11T14:03:10.156630Z",
     "iopub.status.busy": "2025-03-11T14:03:10.155312Z",
     "iopub.status.idle": "2025-03-11T14:03:18.736027Z",
     "shell.execute_reply": "2025-03-11T14:03:18.733364Z"
    }
   },
   "outputs": [],
   "source": [
    "from pycocotools.coco import COCO\n",
    "import matplotlib\n",
    "import matplotlib.pyplot as plt\n",
    "import os\n",
    "import cv2\n",
    "import numpy as np\n",
    "from PIL import Image\n",
    "import torch\n",
    "import torch.nn as nn\n",
    "import torch.nn.functional as functions\n",
    "import torch.optim as optim\n",
    "from tqdm import tqdm\n",
    "from torch.utils.data import DataLoader, Dataset\n",
    "#import torchvision\n",
    "#from torchvision import transforms\n",
    "import re"
   ]
  },
  {
   "cell_type": "code",
   "execution_count": 2,
   "id": "edca0610-7a84-420b-81d6-9d3c6063539a",
   "metadata": {
    "execution": {
     "iopub.execute_input": "2025-03-11T14:03:18.744925Z",
     "iopub.status.busy": "2025-03-11T14:03:18.743423Z",
     "iopub.status.idle": "2025-03-11T14:03:18.893632Z",
     "shell.execute_reply": "2025-03-11T14:03:18.891860Z"
    }
   },
   "outputs": [
    {
     "name": "stdout",
     "output_type": "stream",
     "text": [
      "cuda\n"
     ]
    }
   ],
   "source": [
    "print(\"cuda\" if torch.cuda.is_available() else \"cpu\")"
   ]
  },
  {
   "cell_type": "code",
   "execution_count": 3,
   "id": "d9003254-3d2c-4f84-91a9-0c6d966f104e",
   "metadata": {
    "execution": {
     "iopub.execute_input": "2025-03-11T14:03:18.900424Z",
     "iopub.status.busy": "2025-03-11T14:03:18.899719Z",
     "iopub.status.idle": "2025-03-11T14:03:18.909014Z",
     "shell.execute_reply": "2025-03-11T14:03:18.907345Z"
    }
   },
   "outputs": [],
   "source": [
    "DATADIR = \"cocodoom/\"\n",
    "USED_RUNS = [\"run1\", \"run2\", \"run3\"]\n",
    "\n",
    "dataSplit, TRAIN_RUN = \"run-full-train\", \"run1\"\n",
    "\n",
    "annFile = '{}{}.json'.format(DATADIR,dataSplit)"
   ]
  },
  {
   "cell_type": "code",
   "execution_count": 4,
   "id": "e8df8e50-550c-43a3-8b8e-b5a5e41ed0b6",
   "metadata": {
    "execution": {
     "iopub.execute_input": "2025-03-11T14:03:18.915633Z",
     "iopub.status.busy": "2025-03-11T14:03:18.914772Z",
     "iopub.status.idle": "2025-03-11T14:03:43.388098Z",
     "shell.execute_reply": "2025-03-11T14:03:43.386974Z"
    }
   },
   "outputs": [
    {
     "name": "stdout",
     "output_type": "stream",
     "text": [
      "loading annotations into memory...\n"
     ]
    },
    {
     "name": "stdout",
     "output_type": "stream",
     "text": [
      "Done (t=23.31s)\n",
      "creating index...\n"
     ]
    },
    {
     "name": "stdout",
     "output_type": "stream",
     "text": [
      "index created!\n"
     ]
    }
   ],
   "source": [
    "coco_train = COCO(annFile)"
   ]
  },
  {
   "cell_type": "code",
   "execution_count": 5,
   "id": "eeebf160-b14d-425d-bdc9-48f1f985af94",
   "metadata": {
    "execution": {
     "iopub.execute_input": "2025-03-11T14:03:43.391847Z",
     "iopub.status.busy": "2025-03-11T14:03:43.391528Z",
     "iopub.status.idle": "2025-03-11T14:03:43.396367Z",
     "shell.execute_reply": "2025-03-11T14:03:43.395598Z"
    }
   },
   "outputs": [],
   "source": [
    "dataSplit, VAL_RUN = \"run-full-val\", \"run2\"\n",
    "\n",
    "annFile = '{}{}.json'.format(DATADIR,dataSplit)"
   ]
  },
  {
   "cell_type": "code",
   "execution_count": 6,
   "id": "60104674-c925-4c87-a555-90fa0b03f594",
   "metadata": {
    "execution": {
     "iopub.execute_input": "2025-03-11T14:03:43.399466Z",
     "iopub.status.busy": "2025-03-11T14:03:43.399166Z",
     "iopub.status.idle": "2025-03-11T14:04:06.160785Z",
     "shell.execute_reply": "2025-03-11T14:04:06.159645Z"
    }
   },
   "outputs": [
    {
     "name": "stdout",
     "output_type": "stream",
     "text": [
      "loading annotations into memory...\n"
     ]
    },
    {
     "name": "stdout",
     "output_type": "stream",
     "text": [
      "Done (t=18.60s)\n",
      "creating index...\n"
     ]
    },
    {
     "name": "stdout",
     "output_type": "stream",
     "text": [
      "index created!\n"
     ]
    }
   ],
   "source": [
    "coco_val = COCO(annFile)"
   ]
  },
  {
   "cell_type": "code",
   "execution_count": 7,
   "id": "eea8492e-c022-4aec-a314-e723977faa60",
   "metadata": {
    "execution": {
     "iopub.execute_input": "2025-03-11T14:04:06.216855Z",
     "iopub.status.busy": "2025-03-11T14:04:06.167227Z",
     "iopub.status.idle": "2025-03-11T14:04:06.223146Z",
     "shell.execute_reply": "2025-03-11T14:04:06.221830Z"
    }
   },
   "outputs": [],
   "source": [
    "dataSplit, TEST_RUN = \"run-full-test\", \"run3\"\n",
    "\n",
    "annFile = '{}{}.json'.format(DATADIR,dataSplit)"
   ]
  },
  {
   "cell_type": "code",
   "execution_count": 8,
   "id": "e26cddc7-7894-4706-ab35-650913d04a6b",
   "metadata": {
    "execution": {
     "iopub.execute_input": "2025-03-11T14:04:06.227970Z",
     "iopub.status.busy": "2025-03-11T14:04:06.227553Z",
     "iopub.status.idle": "2025-03-11T14:04:18.481549Z",
     "shell.execute_reply": "2025-03-11T14:04:18.480024Z"
    }
   },
   "outputs": [
    {
     "name": "stdout",
     "output_type": "stream",
     "text": [
      "loading annotations into memory...\n"
     ]
    },
    {
     "name": "stdout",
     "output_type": "stream",
     "text": [
      "Done (t=7.61s)\n",
      "creating index...\n"
     ]
    },
    {
     "name": "stdout",
     "output_type": "stream",
     "text": [
      "index created!\n"
     ]
    }
   ],
   "source": [
    "coco_test = COCO(annFile)"
   ]
  },
  {
   "cell_type": "code",
   "execution_count": 9,
   "id": "b2fdf2f3-61ca-4528-909c-5101c530783f",
   "metadata": {
    "execution": {
     "iopub.execute_input": "2025-03-11T14:04:18.485836Z",
     "iopub.status.busy": "2025-03-11T14:04:18.485012Z",
     "iopub.status.idle": "2025-03-11T14:04:23.544911Z",
     "shell.execute_reply": "2025-03-11T14:04:23.543952Z"
    }
   },
   "outputs": [],
   "source": [
    "player_positions = {\"run1\":[], \"run2\":[], \"run3\":[]}\n",
    "motion_vectors = {\"run1\":[], \"run2\":[], \"run3\":[]}\n",
    "\n",
    "for run in USED_RUNS:\n",
    "    with open(DATADIR+run+\"/log.txt\", 'r') as log_file:\n",
    "        for line in log_file:\n",
    "            if \"player\" in line:\n",
    "                line = line.strip()\n",
    "                tic, stats = line.split(\"player:\")\n",
    "                x, y, z, angle = stats.split(\",\")\n",
    "    \n",
    "                # Store position in the dictionary\n",
    "                player_positions[run].append((float(x), float(y), float(z), float(angle)))\n",
    "                if len(player_positions[run]) >= 2:\n",
    "                    player_position = player_positions[run][-1]\n",
    "                    prev_player_position = player_positions[run][-2]\n",
    "                    \n",
    "                    dx = player_position[0] - prev_player_position[0]\n",
    "                    dy = player_position[1] - prev_player_position[1]\n",
    "                    dz = player_position[2] - prev_player_position[2]\n",
    "                    dangle = np.pi - abs(abs(player_position[3] - prev_player_position[3]) - np.pi)\n",
    "                    \n",
    "                    dx_relative = dx * np.cos(2 * np.pi - prev_player_position[3]) + dy * np.cos(prev_player_position[3] - 1/2 * np.pi)\n",
    "                    dy_relative = dx * np.sin(2 * np.pi - prev_player_position[3]) + dy * np.sin(prev_player_position[3] - 1/2 * np.pi)\n",
    "                    motion_vector = (dx_relative, dy_relative, dz, dangle)\n",
    "                    motion_vectors[run].append(motion_vector)"
   ]
  },
  {
   "cell_type": "code",
   "execution_count": 10,
   "id": "a78dd7f8-f3a5-4046-a31d-46f5c3cc747e",
   "metadata": {
    "execution": {
     "iopub.execute_input": "2025-03-11T14:04:23.554258Z",
     "iopub.status.busy": "2025-03-11T14:04:23.553749Z",
     "iopub.status.idle": "2025-03-11T14:04:23.566092Z",
     "shell.execute_reply": "2025-03-11T14:04:23.565100Z"
    }
   },
   "outputs": [],
   "source": [
    "class DoomMotionDataset(Dataset):\n",
    "    def __init__(self, coco, run, input_window, prediction_window, transform=None):\n",
    "        self.coco = coco\n",
    "        self.run = run\n",
    "        self.img_ids = self.coco.getImgIds()\n",
    "        self.transform = transform\n",
    "        self.input_window = input_window\n",
    "        self.prediction_window = prediction_window\n",
    "\n",
    "    def __len__(self):\n",
    "        return len(self.img_ids)\n",
    "\n",
    "    def __getitem__(self, idx):\n",
    "        # Load the RGB image\n",
    "        rgb_filename = self.coco.loadImgs(self.img_ids[idx])[0]['file_name']\n",
    "        tic = int(rgb_filename.replace(\".png\", \"\").split(\"/\")[-1])\n",
    "        next_tic = tic+1\n",
    "        previous_tic = tic-1\n",
    "        prev_motion_vectors = []\n",
    "        next_motion_vectors = []\n",
    "\n",
    "        for t in range(input_window, 0, -1):\n",
    "            if tic-t < 0:\n",
    "                prev_motion_vectors.append(motion_vectors[self.run][0])\n",
    "                continue\n",
    "            elif tic-t >= len(motion_vectors[self.run]):\n",
    "                prev_motion_vectors.append(motion_vectors[self.run][-1])\n",
    "                continue\n",
    "            prev_motion_vectors.append(motion_vectors[self.run][tic-t])\n",
    "\n",
    "        for t in range(1, prediction_window+1):\n",
    "            if tic+t >= len(motion_vectors[self.run]):\n",
    "                next_motion_vectors.append(motion_vectors[self.run][-1])\n",
    "                continue\n",
    "            next_motion_vectors.append(motion_vectors[self.run][tic+t])\n",
    "\n",
    "        # if dx > 1000:\n",
    "        #     print(f\"idx: {idx}\")\n",
    "        #     print(f\"rgb_filename: {rgb_filename}\")\n",
    "        #     print(f\"tic: {tic}\")\n",
    "        #     print(f\"next_tic: {next_tic}\")\n",
    "        #     print(f\"previous_tic: {previous_tic}\")\n",
    "        #     print(f\"Sus {idx}\")\n",
    "        #     print(f\"prev_player_position: {prev_player_position}\")\n",
    "        #     print(f\"player_position: {player_position}\")\n",
    "        #     print(f\"next_player_position: {next_player_position}\")\n",
    "        #     print(f\"prev_motion_vector: {prev_motion_vector}\")\n",
    "        #     print(f\"next_motion_vector: {next_motion_vector}\")\n",
    "\n",
    "        #print(prev_motion_vectors)\n",
    "        #print(next_motion_vectors)\n",
    "            \n",
    "        prev_motion_vectors = torch.tensor(prev_motion_vectors, dtype=torch.float32)\n",
    "        next_motion_vectors = torch.tensor(next_motion_vectors, dtype=torch.float32)\n",
    "        \n",
    "        return prev_motion_vectors, next_motion_vectors\n"
   ]
  },
  {
   "cell_type": "code",
   "execution_count": 11,
   "id": "8680de85-df84-4334-87be-8defcfc6e6fb",
   "metadata": {
    "execution": {
     "iopub.execute_input": "2025-03-11T14:04:23.570065Z",
     "iopub.status.busy": "2025-03-11T14:04:23.569690Z",
     "iopub.status.idle": "2025-03-11T14:04:23.580086Z",
     "shell.execute_reply": "2025-03-11T14:04:23.579219Z"
    }
   },
   "outputs": [],
   "source": [
    "class NeuralNetwork(nn.Module):\n",
    "  def __init__(self, batch_size, input_length, sequence_length, activation_function=functions.relu, device=torch.device(\"cpu\")):\n",
    "    super(NeuralNetwork, self).__init__()\n",
    "    self.batch_size = batch_size\n",
    "    self.input_length = input_length\n",
    "    self.sequence_length = sequence_length\n",
    "      \n",
    "    self.encoder = nn.LSTM(input_size=4, hidden_size=1024, batch_first=True).to(device)\n",
    "    self.decoder = nn.LSTM(input_size=4, hidden_size=1024).to(device)\n",
    "    self.fc = nn.Linear(1024, 4).to(device)\n",
    "\n",
    "  def forward(self, x):\n",
    "    hidden = None\n",
    "    #print(x[:,0].shape)\n",
    "    for t in range(self.input_length):\n",
    "        if hidden != None:\n",
    "            _, hidden = self.encoder(x[:,t], hidden)\n",
    "        else:\n",
    "            _, hidden = self.encoder(x[:,t])\n",
    "    input_decoder = torch.zeros(batch_size, 4, dtype=torch.float).to(x.device)\n",
    "    #input_decoder = x[-1, :, :].unsqueeze(0)\n",
    "    #input_decoder = x[-1]\n",
    "    #print(x)\n",
    "    #print(x[0][-1])\n",
    "    #hidden = hidden[:, -1:, :]\n",
    "    #print(hidden.shape)\n",
    "    #cell = cell[:, -1:, :]\n",
    "    output_tensor = torch.zeros(self.sequence_length, self.batch_size, 4).to(x.device)\n",
    "    for t in range(self.sequence_length):\n",
    "        #print(t)\n",
    "        output_t, hidden = self.decoder(input_decoder, hidden)\n",
    "        #print(output_t.shape)\n",
    "        output_t = self.fc(output_t[-1])\n",
    "        #print(output_t.shape)\n",
    "        output_t = output_t.unsqueeze(0)\n",
    "        #print(output_t.shape)\n",
    "        #print(input_decoder.shape)\n",
    "        #input_decoder_resized = input_decoder.squeeze(0).expand(output_t.shape)\n",
    "        #input_decoder = output_t.unsqueeze(0)\n",
    "        #output_tensor[t] = output_t[0][t]#.unsqueeze(0)\n",
    "        output_tensor[t] = output_t.unsqueeze(0)\n",
    "        \n",
    "    return output_tensor"
   ]
  },
  {
   "cell_type": "code",
   "execution_count": 12,
   "id": "81129192-3f18-4f79-b559-be1db7b544d9",
   "metadata": {
    "execution": {
     "iopub.execute_input": "2025-03-11T14:04:23.585242Z",
     "iopub.status.busy": "2025-03-11T14:04:23.584798Z",
     "iopub.status.idle": "2025-03-11T14:25:50.748409Z",
     "shell.execute_reply": "2025-03-11T14:25:50.747439Z"
    }
   },
   "outputs": [
    {
     "name": "stdout",
     "output_type": "stream",
     "text": [
      "cuda\n"
     ]
    },
    {
     "name": "stderr",
     "output_type": "stream",
     "text": [
      "\r",
      "Epoch 1/10:   0%|                                                                                                                                                                                                                                            | 0/991 [00:00<?, ?batch/s]"
     ]
    },
    {
     "name": "stderr",
     "output_type": "stream",
     "text": [
      "\r",
      "Epoch 1/10:   0%|                                                                                                                                                                                            | 0/991 [00:01<?, ?batch/s, batch_loss=32.4, batch_index=1, batch_size=256]"
     ]
    },
    {
     "name": "stderr",
     "output_type": "stream",
     "text": [
      "\r",
      "Epoch 1/10:   0%|▏                                                                                                                                                                                   | 1/991 [00:01<24:07,  1.46s/batch, batch_loss=32.4, batch_index=1, batch_size=256]"
     ]
    },
    {
     "name": "stderr",
     "output_type": "stream",
     "text": [
      "\r",
      "Epoch 1/10:   0%|▏                                                                                                                                                                                   | 1/991 [00:02<24:07,  1.46s/batch, batch_loss=32.4, batch_index=2, batch_size=256]"
     ]
    },
    {
     "name": "stderr",
     "output_type": "stream",
     "text": [
      "\r",
      "Epoch 1/10:   0%|▎                                                                                                                                                                                   | 2/991 [00:02<22:37,  1.37s/batch, batch_loss=32.4, batch_index=2, batch_size=256]"
     ]
    },
    {
     "name": "stderr",
     "output_type": "stream",
     "text": [
      "\r",
      "Epoch 1/10:   0%|▎                                                                                                                                                                                   | 2/991 [00:04<22:37,  1.37s/batch, batch_loss=26.8, batch_index=3, batch_size=256]"
     ]
    },
    {
     "name": "stderr",
     "output_type": "stream",
     "text": [
      "\r",
      "Epoch 1/10:   0%|▌                                                                                                                                                                                   | 3/991 [00:04<21:55,  1.33s/batch, batch_loss=26.8, batch_index=3, batch_size=256]"
     ]
    },
    {
     "name": "stderr",
     "output_type": "stream",
     "text": [
      "\r",
      "Epoch 1/10:   0%|▌                                                                                                                                                                                     | 3/991 [00:05<21:55,  1.33s/batch, batch_loss=12, batch_index=4, batch_size=256]"
     ]
    },
    {
     "name": "stderr",
     "output_type": "stream",
     "text": [
      "\r",
      "Epoch 1/10:   0%|▋                                                                                                                                                                                     | 4/991 [00:05<21:14,  1.29s/batch, batch_loss=12, batch_index=4, batch_size=256]"
     ]
    },
    {
     "name": "stderr",
     "output_type": "stream",
     "text": [
      "\r",
      "Epoch 1/10:   0%|▋                                                                                                                                                                                     | 4/991 [00:06<21:14,  1.29s/batch, batch_loss=29, batch_index=5, batch_size=256]"
     ]
    },
    {
     "name": "stderr",
     "output_type": "stream",
     "text": [
      "\r",
      "Epoch 1/10:   1%|▉                                                                                                                                                                                     | 5/991 [00:06<21:12,  1.29s/batch, batch_loss=29, batch_index=5, batch_size=256]"
     ]
    },
    {
     "name": "stderr",
     "output_type": "stream",
     "text": [
      "\r",
      "Epoch 1/10:   1%|▉                                                                                                                                                                                   | 5/991 [00:07<21:12,  1.29s/batch, batch_loss=42.8, batch_index=6, batch_size=256]"
     ]
    },
    {
     "name": "stderr",
     "output_type": "stream",
     "text": [
      "\r",
      "Epoch 1/10:   1%|█                                                                                                                                                                                   | 6/991 [00:07<21:10,  1.29s/batch, batch_loss=42.8, batch_index=6, batch_size=256]"
     ]
    },
    {
     "name": "stderr",
     "output_type": "stream",
     "text": [
      "\r",
      "Epoch 1/10:   1%|█                                                                                                                                                                                   | 6/991 [00:09<21:10,  1.29s/batch, batch_loss=27.9, batch_index=7, batch_size=256]"
     ]
    },
    {
     "name": "stderr",
     "output_type": "stream",
     "text": [
      "\r",
      "Epoch 1/10:   1%|█▎                                                                                                                                                                                  | 7/991 [00:09<21:15,  1.30s/batch, batch_loss=27.9, batch_index=7, batch_size=256]"
     ]
    },
    {
     "name": "stderr",
     "output_type": "stream",
     "text": [
      "\r",
      "Epoch 1/10:   1%|█▎                                                                                                                                                                                   | 7/991 [00:10<21:15,  1.30s/batch, batch_loss=610, batch_index=8, batch_size=256]"
     ]
    },
    {
     "name": "stderr",
     "output_type": "stream",
     "text": [
      "\r",
      "Epoch 1/10:   1%|█▍                                                                                                                                                                                   | 8/991 [00:10<21:09,  1.29s/batch, batch_loss=610, batch_index=8, batch_size=256]"
     ]
    },
    {
     "name": "stderr",
     "output_type": "stream",
     "text": [
      "\r",
      "Epoch 1/10:   1%|█▍                                                                                                                                                                                    | 8/991 [00:11<21:09,  1.29s/batch, batch_loss=20, batch_index=9, batch_size=256]"
     ]
    },
    {
     "name": "stderr",
     "output_type": "stream",
     "text": [
      "\r",
      "Epoch 1/10:   1%|█▋                                                                                                                                                                                    | 9/991 [00:11<21:08,  1.29s/batch, batch_loss=20, batch_index=9, batch_size=256]"
     ]
    },
    {
     "name": "stderr",
     "output_type": "stream",
     "text": [
      "\r",
      "Epoch 1/10:   1%|█▋                                                                                                                                                                                 | 9/991 [00:13<21:08,  1.29s/batch, batch_loss=21.3, batch_index=10, batch_size=256]"
     ]
    },
    {
     "name": "stderr",
     "output_type": "stream",
     "text": [
      "\r",
      "Epoch 1/10:   1%|█▊                                                                                                                                                                                | 10/991 [00:13<21:07,  1.29s/batch, batch_loss=21.3, batch_index=10, batch_size=256]"
     ]
    },
    {
     "name": "stderr",
     "output_type": "stream",
     "text": [
      "\r",
      "Epoch 1/10:   1%|█▊                                                                                                                                                                                | 10/991 [00:14<21:07,  1.29s/batch, batch_loss=17.2, batch_index=11, batch_size=256]"
     ]
    },
    {
     "name": "stderr",
     "output_type": "stream",
     "text": [
      "\r",
      "Epoch 1/10:   1%|█▉                                                                                                                                                                                | 11/991 [00:14<21:07,  1.29s/batch, batch_loss=17.2, batch_index=11, batch_size=256]"
     ]
    },
    {
     "name": "stderr",
     "output_type": "stream",
     "text": [
      "\r",
      "Epoch 1/10:   1%|█▉                                                                                                                                                                             | 11/991 [00:15<21:07,  1.29s/batch, batch_loss=2.01e+3, batch_index=12, batch_size=256]"
     ]
    },
    {
     "name": "stderr",
     "output_type": "stream",
     "text": [
      "\r",
      "Epoch 1/10:   1%|██                                                                                                                                                                             | 12/991 [00:15<21:02,  1.29s/batch, batch_loss=2.01e+3, batch_index=12, batch_size=256]"
     ]
    },
    {
     "name": "stderr",
     "output_type": "stream",
     "text": [
      "\r",
      "Epoch 1/10:   1%|██▏                                                                                                                                                                               | 12/991 [00:16<21:02,  1.29s/batch, batch_loss=31.7, batch_index=13, batch_size=256]"
     ]
    },
    {
     "name": "stderr",
     "output_type": "stream",
     "text": [
      "\r",
      "Epoch 1/10:   1%|██▎                                                                                                                                                                               | 13/991 [00:16<21:02,  1.29s/batch, batch_loss=31.7, batch_index=13, batch_size=256]"
     ]
    },
    {
     "name": "stderr",
     "output_type": "stream",
     "text": [
      "\r",
      "Epoch 1/10:   1%|██▎                                                                                                                                                                               | 13/991 [00:18<21:02,  1.29s/batch, batch_loss=16.3, batch_index=14, batch_size=256]"
     ]
    },
    {
     "name": "stderr",
     "output_type": "stream",
     "text": [
      "\r",
      "Epoch 1/10:   1%|██▌                                                                                                                                                                               | 14/991 [00:18<21:02,  1.29s/batch, batch_loss=16.3, batch_index=14, batch_size=256]"
     ]
    },
    {
     "name": "stderr",
     "output_type": "stream",
     "text": [
      "\r",
      "Epoch 1/10:   1%|██▌                                                                                                                                                                               | 14/991 [00:19<21:02,  1.29s/batch, batch_loss=18.6, batch_index=15, batch_size=256]"
     ]
    },
    {
     "name": "stderr",
     "output_type": "stream",
     "text": [
      "\r",
      "Epoch 1/10:   2%|██▋                                                                                                                                                                               | 15/991 [00:19<20:57,  1.29s/batch, batch_loss=18.6, batch_index=15, batch_size=256]"
     ]
    },
    {
     "name": "stderr",
     "output_type": "stream",
     "text": [
      "\r",
      "Epoch 1/10:   2%|██▋                                                                                                                                                                               | 15/991 [00:20<20:57,  1.29s/batch, batch_loss=20.1, batch_index=16, batch_size=256]"
     ]
    },
    {
     "name": "stderr",
     "output_type": "stream",
     "text": [
      "\r",
      "Epoch 1/10:   2%|██▊                                                                                                                                                                               | 16/991 [00:20<21:02,  1.29s/batch, batch_loss=20.1, batch_index=16, batch_size=256]"
     ]
    },
    {
     "name": "stderr",
     "output_type": "stream",
     "text": [
      "\r",
      "Epoch 1/10:   2%|██▊                                                                                                                                                                               | 16/991 [00:22<21:02,  1.29s/batch, batch_loss=22.3, batch_index=17, batch_size=256]"
     ]
    },
    {
     "name": "stderr",
     "output_type": "stream",
     "text": [
      "\r",
      "Epoch 1/10:   2%|███                                                                                                                                                                               | 17/991 [00:22<21:00,  1.29s/batch, batch_loss=22.3, batch_index=17, batch_size=256]"
     ]
    },
    {
     "name": "stderr",
     "output_type": "stream",
     "text": [
      "\r",
      "Epoch 1/10:   2%|███                                                                                                                                                                               | 17/991 [00:23<21:00,  1.29s/batch, batch_loss=14.5, batch_index=18, batch_size=256]"
     ]
    },
    {
     "name": "stderr",
     "output_type": "stream",
     "text": [
      "\r",
      "Epoch 1/10:   2%|███▏                                                                                                                                                                              | 18/991 [00:23<20:57,  1.29s/batch, batch_loss=14.5, batch_index=18, batch_size=256]"
     ]
    },
    {
     "name": "stderr",
     "output_type": "stream",
     "text": [
      "\r",
      "Epoch 1/10:   2%|███▏                                                                                                                                                                           | 18/991 [00:24<20:57,  1.29s/batch, batch_loss=9.03e+3, batch_index=19, batch_size=256]"
     ]
    },
    {
     "name": "stderr",
     "output_type": "stream",
     "text": [
      "\r",
      "Epoch 1/10:   2%|███▎                                                                                                                                                                           | 19/991 [00:24<20:56,  1.29s/batch, batch_loss=9.03e+3, batch_index=19, batch_size=256]"
     ]
    },
    {
     "name": "stderr",
     "output_type": "stream",
     "text": [
      "\r",
      "Epoch 1/10:   2%|███▍                                                                                                                                                                              | 19/991 [00:25<20:56,  1.29s/batch, batch_loss=17.8, batch_index=20, batch_size=256]"
     ]
    },
    {
     "name": "stderr",
     "output_type": "stream",
     "text": [
      "\r",
      "Epoch 1/10:   2%|███▌                                                                                                                                                                              | 20/991 [00:25<20:54,  1.29s/batch, batch_loss=17.8, batch_index=20, batch_size=256]"
     ]
    },
    {
     "name": "stderr",
     "output_type": "stream",
     "text": [
      "\r",
      "Epoch 1/10:   2%|███▌                                                                                                                                                                              | 20/991 [00:27<20:54,  1.29s/batch, batch_loss=29.1, batch_index=21, batch_size=256]"
     ]
    },
    {
     "name": "stderr",
     "output_type": "stream",
     "text": [
      "\r",
      "Epoch 1/10:   2%|███▊                                                                                                                                                                              | 21/991 [00:27<20:51,  1.29s/batch, batch_loss=29.1, batch_index=21, batch_size=256]"
     ]
    },
    {
     "name": "stderr",
     "output_type": "stream",
     "text": [
      "\r",
      "Epoch 1/10:   2%|███▋                                                                                                                                                                           | 21/991 [00:28<20:51,  1.29s/batch, batch_loss=1.08e+3, batch_index=22, batch_size=256]"
     ]
    },
    {
     "name": "stderr",
     "output_type": "stream",
     "text": [
      "\r",
      "Epoch 1/10:   2%|███▉                                                                                                                                                                           | 22/991 [00:28<20:53,  1.29s/batch, batch_loss=1.08e+3, batch_index=22, batch_size=256]"
     ]
    },
    {
     "name": "stderr",
     "output_type": "stream",
     "text": [
      "\r",
      "Epoch 1/10:   2%|███▉                                                                                                                                                                              | 22/991 [00:29<20:53,  1.29s/batch, batch_loss=9.58, batch_index=23, batch_size=256]"
     ]
    },
    {
     "name": "stderr",
     "output_type": "stream",
     "text": [
      "\r",
      "Epoch 1/10:   2%|████▏                                                                                                                                                                             | 23/991 [00:29<20:48,  1.29s/batch, batch_loss=9.58, batch_index=23, batch_size=256]"
     ]
    },
    {
     "name": "stderr",
     "output_type": "stream",
     "text": [
      "\r",
      "Epoch 1/10:   2%|████▏                                                                                                                                                                             | 23/991 [00:31<20:48,  1.29s/batch, batch_loss=21.5, batch_index=24, batch_size=256]"
     ]
    },
    {
     "name": "stderr",
     "output_type": "stream",
     "text": [
      "\r",
      "Epoch 1/10:   2%|████▎                                                                                                                                                                             | 24/991 [00:31<20:45,  1.29s/batch, batch_loss=21.5, batch_index=24, batch_size=256]"
     ]
    },
    {
     "name": "stderr",
     "output_type": "stream",
     "text": [
      "\r",
      "Epoch 1/10:   2%|████▎                                                                                                                                                                             | 24/991 [00:32<20:45,  1.29s/batch, batch_loss=16.3, batch_index=25, batch_size=256]"
     ]
    },
    {
     "name": "stderr",
     "output_type": "stream",
     "text": [
      "\r",
      "Epoch 1/10:   3%|████▍                                                                                                                                                                             | 25/991 [00:32<20:46,  1.29s/batch, batch_loss=16.3, batch_index=25, batch_size=256]"
     ]
    },
    {
     "name": "stderr",
     "output_type": "stream",
     "text": [
      "\r",
      "Epoch 1/10:   3%|████▍                                                                                                                                                                             | 25/991 [00:33<20:46,  1.29s/batch, batch_loss=32.2, batch_index=26, batch_size=256]"
     ]
    },
    {
     "name": "stderr",
     "output_type": "stream",
     "text": [
      "\r",
      "Epoch 1/10:   3%|████▋                                                                                                                                                                             | 26/991 [00:33<20:44,  1.29s/batch, batch_loss=32.2, batch_index=26, batch_size=256]"
     ]
    },
    {
     "name": "stderr",
     "output_type": "stream",
     "text": [
      "\r",
      "Epoch 1/10:   3%|████▋                                                                                                                                                                             | 26/991 [00:34<20:44,  1.29s/batch, batch_loss=24.4, batch_index=27, batch_size=256]"
     ]
    },
    {
     "name": "stderr",
     "output_type": "stream",
     "text": [
      "\r",
      "Epoch 1/10:   3%|████▊                                                                                                                                                                             | 27/991 [00:34<20:47,  1.29s/batch, batch_loss=24.4, batch_index=27, batch_size=256]"
     ]
    },
    {
     "name": "stderr",
     "output_type": "stream",
     "text": [
      "\r",
      "Epoch 1/10:   3%|████▊                                                                                                                                                                          | 27/991 [00:36<20:47,  1.29s/batch, batch_loss=1.13e+3, batch_index=28, batch_size=256]"
     ]
    },
    {
     "name": "stderr",
     "output_type": "stream",
     "text": [
      "\r",
      "Epoch 1/10:   3%|████▉                                                                                                                                                                          | 28/991 [00:36<20:43,  1.29s/batch, batch_loss=1.13e+3, batch_index=28, batch_size=256]"
     ]
    },
    {
     "name": "stderr",
     "output_type": "stream",
     "text": [
      "\r",
      "Epoch 1/10:   3%|█████                                                                                                                                                                             | 28/991 [00:37<20:43,  1.29s/batch, batch_loss=17.8, batch_index=29, batch_size=256]"
     ]
    },
    {
     "name": "stderr",
     "output_type": "stream",
     "text": [
      "\r",
      "Epoch 1/10:   3%|█████▏                                                                                                                                                                            | 29/991 [00:37<20:41,  1.29s/batch, batch_loss=17.8, batch_index=29, batch_size=256]"
     ]
    },
    {
     "name": "stderr",
     "output_type": "stream",
     "text": [
      "\r",
      "Epoch 1/10:   3%|█████▏                                                                                                                                                                            | 29/991 [00:38<20:41,  1.29s/batch, batch_loss=15.6, batch_index=30, batch_size=256]"
     ]
    },
    {
     "name": "stderr",
     "output_type": "stream",
     "text": [
      "\r",
      "Epoch 1/10:   3%|█████▍                                                                                                                                                                            | 30/991 [00:38<20:30,  1.28s/batch, batch_loss=15.6, batch_index=30, batch_size=256]"
     ]
    },
    {
     "name": "stderr",
     "output_type": "stream",
     "text": [
      "\r",
      "Epoch 1/10:   3%|█████▍                                                                                                                                                                            | 30/991 [00:40<20:30,  1.28s/batch, batch_loss=13.3, batch_index=31, batch_size=256]"
     ]
    },
    {
     "name": "stderr",
     "output_type": "stream",
     "text": [
      "\r",
      "Epoch 1/10:   3%|█████▌                                                                                                                                                                            | 31/991 [00:40<20:17,  1.27s/batch, batch_loss=13.3, batch_index=31, batch_size=256]"
     ]
    },
    {
     "name": "stderr",
     "output_type": "stream",
     "text": [
      "\r",
      "Epoch 1/10:   3%|█████▌                                                                                                                                                                          | 31/991 [00:41<20:17,  1.27s/batch, batch_loss=1.3e+4, batch_index=32, batch_size=256]"
     ]
    },
    {
     "name": "stderr",
     "output_type": "stream",
     "text": [
      "\r",
      "Epoch 1/10:   3%|█████▋                                                                                                                                                                          | 32/991 [00:41<20:28,  1.28s/batch, batch_loss=1.3e+4, batch_index=32, batch_size=256]"
     ]
    },
    {
     "name": "stderr",
     "output_type": "stream",
     "text": [
      "\r",
      "Epoch 1/10:   3%|█████▋                                                                                                                                                                            | 32/991 [00:42<20:28,  1.28s/batch, batch_loss=25.3, batch_index=33, batch_size=256]"
     ]
    },
    {
     "name": "stderr",
     "output_type": "stream",
     "text": [
      "\r",
      "Epoch 1/10:   3%|█████▉                                                                                                                                                                            | 33/991 [00:42<20:30,  1.28s/batch, batch_loss=25.3, batch_index=33, batch_size=256]"
     ]
    },
    {
     "name": "stderr",
     "output_type": "stream",
     "text": [
      "\r",
      "Epoch 1/10:   3%|█████▉                                                                                                                                                                            | 33/991 [00:43<20:30,  1.28s/batch, batch_loss=13.6, batch_index=34, batch_size=256]"
     ]
    },
    {
     "name": "stderr",
     "output_type": "stream",
     "text": [
      "\r",
      "Epoch 1/10:   3%|██████                                                                                                                                                                            | 34/991 [00:43<20:30,  1.29s/batch, batch_loss=13.6, batch_index=34, batch_size=256]"
     ]
    },
    {
     "name": "stderr",
     "output_type": "stream",
     "text": [
      "\r",
      "Epoch 1/10:   3%|██████                                                                                                                                                                            | 34/991 [00:45<20:30,  1.29s/batch, batch_loss=19.2, batch_index=35, batch_size=256]"
     ]
    },
    {
     "name": "stderr",
     "output_type": "stream",
     "text": [
      "\r",
      "Epoch 1/10:   4%|██████▎                                                                                                                                                                           | 35/991 [00:45<20:31,  1.29s/batch, batch_loss=19.2, batch_index=35, batch_size=256]"
     ]
    },
    {
     "name": "stderr",
     "output_type": "stream",
     "text": [
      "\r",
      "Epoch 1/10:   4%|██████▎                                                                                                                                                                           | 35/991 [00:46<20:31,  1.29s/batch, batch_loss=12.5, batch_index=36, batch_size=256]"
     ]
    },
    {
     "name": "stderr",
     "output_type": "stream",
     "text": [
      "\r",
      "Epoch 1/10:   4%|██████▍                                                                                                                                                                           | 36/991 [00:46<20:30,  1.29s/batch, batch_loss=12.5, batch_index=36, batch_size=256]"
     ]
    },
    {
     "name": "stderr",
     "output_type": "stream",
     "text": [
      "\r",
      "Epoch 1/10:   4%|██████▍                                                                                                                                                                           | 36/991 [00:47<20:30,  1.29s/batch, batch_loss=17.3, batch_index=37, batch_size=256]"
     ]
    },
    {
     "name": "stderr",
     "output_type": "stream",
     "text": [
      "\r",
      "Epoch 1/10:   4%|██████▋                                                                                                                                                                           | 37/991 [00:47<20:29,  1.29s/batch, batch_loss=17.3, batch_index=37, batch_size=256]"
     ]
    },
    {
     "name": "stderr",
     "output_type": "stream",
     "text": [
      "\r",
      "Epoch 1/10:   4%|██████▋                                                                                                                                                                           | 37/991 [00:49<20:29,  1.29s/batch, batch_loss=13.6, batch_index=38, batch_size=256]"
     ]
    },
    {
     "name": "stderr",
     "output_type": "stream",
     "text": [
      "\r",
      "Epoch 1/10:   4%|██████▊                                                                                                                                                                           | 38/991 [00:49<20:31,  1.29s/batch, batch_loss=13.6, batch_index=38, batch_size=256]"
     ]
    },
    {
     "name": "stderr",
     "output_type": "stream",
     "text": [
      "\r",
      "Epoch 1/10:   4%|██████▋                                                                                                                                                                        | 38/991 [00:50<20:31,  1.29s/batch, batch_loss=1.73e+3, batch_index=39, batch_size=256]"
     ]
    },
    {
     "name": "stderr",
     "output_type": "stream",
     "text": [
      "\r",
      "Epoch 1/10:   4%|██████▉                                                                                                                                                                        | 39/991 [00:50<20:29,  1.29s/batch, batch_loss=1.73e+3, batch_index=39, batch_size=256]"
     ]
    },
    {
     "name": "stderr",
     "output_type": "stream",
     "text": [
      "\r",
      "Epoch 1/10:   4%|███████                                                                                                                                                                           | 39/991 [00:51<20:29,  1.29s/batch, batch_loss=18.7, batch_index=40, batch_size=256]"
     ]
    },
    {
     "name": "stderr",
     "output_type": "stream",
     "text": [
      "\r",
      "Epoch 1/10:   4%|███████▏                                                                                                                                                                          | 40/991 [00:51<20:27,  1.29s/batch, batch_loss=18.7, batch_index=40, batch_size=256]"
     ]
    },
    {
     "name": "stderr",
     "output_type": "stream",
     "text": [
      "\r",
      "Epoch 1/10:   4%|███████                                                                                                                                                                         | 40/991 [00:53<20:27,  1.29s/batch, batch_loss=6.2e+3, batch_index=41, batch_size=256]"
     ]
    },
    {
     "name": "stderr",
     "output_type": "stream",
     "text": [
      "\r",
      "Epoch 1/10:   4%|███████▎                                                                                                                                                                        | 41/991 [00:53<20:26,  1.29s/batch, batch_loss=6.2e+3, batch_index=41, batch_size=256]"
     ]
    },
    {
     "name": "stderr",
     "output_type": "stream",
     "text": [
      "\r",
      "Epoch 1/10:   4%|███████▎                                                                                                                                                                          | 41/991 [00:54<20:26,  1.29s/batch, batch_loss=21.8, batch_index=42, batch_size=256]"
     ]
    },
    {
     "name": "stderr",
     "output_type": "stream",
     "text": [
      "\r",
      "Epoch 1/10:   4%|███████▌                                                                                                                                                                          | 42/991 [00:54<20:22,  1.29s/batch, batch_loss=21.8, batch_index=42, batch_size=256]"
     ]
    },
    {
     "name": "stderr",
     "output_type": "stream",
     "text": [
      "\r",
      "Epoch 1/10:   4%|███████▌                                                                                                                                                                          | 42/991 [00:55<20:22,  1.29s/batch, batch_loss=13.5, batch_index=43, batch_size=256]"
     ]
    },
    {
     "name": "stderr",
     "output_type": "stream",
     "text": [
      "\r",
      "Epoch 1/10:   4%|███████▋                                                                                                                                                                          | 43/991 [00:55<20:23,  1.29s/batch, batch_loss=13.5, batch_index=43, batch_size=256]"
     ]
    },
    {
     "name": "stderr",
     "output_type": "stream",
     "text": [
      "\r",
      "Epoch 1/10:   4%|███████▋                                                                                                                                                                          | 43/991 [00:56<20:23,  1.29s/batch, batch_loss=20.8, batch_index=44, batch_size=256]"
     ]
    },
    {
     "name": "stderr",
     "output_type": "stream",
     "text": [
      "\r",
      "Epoch 1/10:   4%|███████▉                                                                                                                                                                          | 44/991 [00:56<20:22,  1.29s/batch, batch_loss=20.8, batch_index=44, batch_size=256]"
     ]
    },
    {
     "name": "stderr",
     "output_type": "stream",
     "text": [
      "\r",
      "Epoch 1/10:   4%|███████▉                                                                                                                                                                          | 44/991 [00:58<20:22,  1.29s/batch, batch_loss=25.3, batch_index=45, batch_size=256]"
     ]
    },
    {
     "name": "stderr",
     "output_type": "stream",
     "text": [
      "\r",
      "Epoch 1/10:   5%|████████                                                                                                                                                                          | 45/991 [00:58<20:20,  1.29s/batch, batch_loss=25.3, batch_index=45, batch_size=256]"
     ]
    },
    {
     "name": "stderr",
     "output_type": "stream",
     "text": [
      "\r",
      "Epoch 1/10:   5%|████████                                                                                                                                                                          | 45/991 [00:59<20:20,  1.29s/batch, batch_loss=18.4, batch_index=46, batch_size=256]"
     ]
    },
    {
     "name": "stderr",
     "output_type": "stream",
     "text": [
      "\r",
      "Epoch 1/10:   5%|████████▎                                                                                                                                                                         | 46/991 [00:59<20:20,  1.29s/batch, batch_loss=18.4, batch_index=46, batch_size=256]"
     ]
    },
    {
     "name": "stderr",
     "output_type": "stream",
     "text": [
      "\r",
      "Epoch 1/10:   5%|████████▎                                                                                                                                                                         | 46/991 [01:00<20:20,  1.29s/batch, batch_loss=9.92, batch_index=47, batch_size=256]"
     ]
    },
    {
     "name": "stderr",
     "output_type": "stream",
     "text": [
      "\r",
      "Epoch 1/10:   5%|████████▍                                                                                                                                                                         | 47/991 [01:00<20:21,  1.29s/batch, batch_loss=9.92, batch_index=47, batch_size=256]"
     ]
    },
    {
     "name": "stderr",
     "output_type": "stream",
     "text": [
      "\r",
      "Epoch 1/10:   5%|████████▍                                                                                                                                                                         | 47/991 [01:02<20:21,  1.29s/batch, batch_loss=15.1, batch_index=48, batch_size=256]"
     ]
    },
    {
     "name": "stderr",
     "output_type": "stream",
     "text": [
      "\r",
      "Epoch 1/10:   5%|████████▌                                                                                                                                                                         | 48/991 [01:02<20:19,  1.29s/batch, batch_loss=15.1, batch_index=48, batch_size=256]"
     ]
    },
    {
     "name": "stderr",
     "output_type": "stream",
     "text": [
      "\r",
      "Epoch 1/10:   5%|████████▌                                                                                                                                                                         | 48/991 [01:03<20:19,  1.29s/batch, batch_loss=15.4, batch_index=49, batch_size=256]"
     ]
    },
    {
     "name": "stderr",
     "output_type": "stream",
     "text": [
      "\r",
      "Epoch 1/10:   5%|████████▊                                                                                                                                                                         | 49/991 [01:03<20:16,  1.29s/batch, batch_loss=15.4, batch_index=49, batch_size=256]"
     ]
    },
    {
     "name": "stderr",
     "output_type": "stream",
     "text": [
      "\r",
      "Epoch 1/10:   5%|████████▊                                                                                                                                                                         | 49/991 [01:04<20:16,  1.29s/batch, batch_loss=27.8, batch_index=50, batch_size=256]"
     ]
    },
    {
     "name": "stderr",
     "output_type": "stream",
     "text": [
      "\r",
      "Epoch 1/10:   5%|████████▉                                                                                                                                                                         | 50/991 [01:04<20:12,  1.29s/batch, batch_loss=27.8, batch_index=50, batch_size=256]"
     ]
    },
    {
     "name": "stderr",
     "output_type": "stream",
     "text": [
      "\r",
      "Epoch 1/10:   5%|████████▉                                                                                                                                                                         | 50/991 [01:05<20:12,  1.29s/batch, batch_loss=10.2, batch_index=51, batch_size=256]"
     ]
    },
    {
     "name": "stderr",
     "output_type": "stream",
     "text": [
      "\r",
      "Epoch 1/10:   5%|█████████▏                                                                                                                                                                        | 51/991 [01:05<20:10,  1.29s/batch, batch_loss=10.2, batch_index=51, batch_size=256]"
     ]
    },
    {
     "name": "stderr",
     "output_type": "stream",
     "text": [
      "\r",
      "Epoch 1/10:   5%|█████████▏                                                                                                                                                                        | 51/991 [01:07<20:10,  1.29s/batch, batch_loss=20.5, batch_index=52, batch_size=256]"
     ]
    },
    {
     "name": "stderr",
     "output_type": "stream",
     "text": [
      "\r",
      "Epoch 1/10:   5%|█████████▎                                                                                                                                                                        | 52/991 [01:07<20:05,  1.28s/batch, batch_loss=20.5, batch_index=52, batch_size=256]"
     ]
    },
    {
     "name": "stderr",
     "output_type": "stream",
     "text": [
      "\r",
      "Epoch 1/10:   5%|█████████▎                                                                                                                                                                        | 52/991 [01:08<20:05,  1.28s/batch, batch_loss=20.3, batch_index=53, batch_size=256]"
     ]
    },
    {
     "name": "stderr",
     "output_type": "stream",
     "text": [
      "\r",
      "Epoch 1/10:   5%|█████████▌                                                                                                                                                                        | 53/991 [01:08<20:06,  1.29s/batch, batch_loss=20.3, batch_index=53, batch_size=256]"
     ]
    },
    {
     "name": "stderr",
     "output_type": "stream",
     "text": [
      "\r",
      "Epoch 1/10:   5%|█████████▌                                                                                                                                                                        | 53/991 [01:09<20:06,  1.29s/batch, batch_loss=13.4, batch_index=54, batch_size=256]"
     ]
    },
    {
     "name": "stderr",
     "output_type": "stream",
     "text": [
      "\r",
      "Epoch 1/10:   5%|█████████▋                                                                                                                                                                        | 54/991 [01:09<20:03,  1.28s/batch, batch_loss=13.4, batch_index=54, batch_size=256]"
     ]
    },
    {
     "name": "stderr",
     "output_type": "stream",
     "text": [
      "\r",
      "Epoch 1/10:   5%|█████████▊                                                                                                                                                                          | 54/991 [01:11<20:03,  1.28s/batch, batch_loss=16, batch_index=55, batch_size=256]"
     ]
    },
    {
     "name": "stderr",
     "output_type": "stream",
     "text": [
      "\r",
      "Epoch 1/10:   6%|█████████▉                                                                                                                                                                          | 55/991 [01:11<20:03,  1.29s/batch, batch_loss=16, batch_index=55, batch_size=256]"
     ]
    },
    {
     "name": "stderr",
     "output_type": "stream",
     "text": [
      "\r",
      "Epoch 1/10:   6%|█████████▉                                                                                                                                                                        | 55/991 [01:12<20:03,  1.29s/batch, batch_loss=14.2, batch_index=56, batch_size=256]"
     ]
    },
    {
     "name": "stderr",
     "output_type": "stream",
     "text": [
      "\r",
      "Epoch 1/10:   6%|██████████                                                                                                                                                                        | 56/991 [01:12<20:00,  1.28s/batch, batch_loss=14.2, batch_index=56, batch_size=256]"
     ]
    },
    {
     "name": "stderr",
     "output_type": "stream",
     "text": [
      "\r",
      "Epoch 1/10:   6%|██████████                                                                                                                                                                        | 56/991 [01:13<20:00,  1.28s/batch, batch_loss=10.9, batch_index=57, batch_size=256]"
     ]
    },
    {
     "name": "stderr",
     "output_type": "stream",
     "text": [
      "\r",
      "Epoch 1/10:   6%|██████████▏                                                                                                                                                                       | 57/991 [01:13<19:55,  1.28s/batch, batch_loss=10.9, batch_index=57, batch_size=256]"
     ]
    },
    {
     "name": "stderr",
     "output_type": "stream",
     "text": [
      "\r",
      "Epoch 1/10:   6%|██████████▏                                                                                                                                                                       | 57/991 [01:14<19:55,  1.28s/batch, batch_loss=32.2, batch_index=58, batch_size=256]"
     ]
    },
    {
     "name": "stderr",
     "output_type": "stream",
     "text": [
      "\r",
      "Epoch 1/10:   6%|██████████▍                                                                                                                                                                       | 58/991 [01:14<19:41,  1.27s/batch, batch_loss=32.2, batch_index=58, batch_size=256]"
     ]
    },
    {
     "name": "stderr",
     "output_type": "stream",
     "text": [
      "\r",
      "Epoch 1/10:   6%|██████████▍                                                                                                                                                                       | 58/991 [01:16<19:41,  1.27s/batch, batch_loss=12.5, batch_index=59, batch_size=256]"
     ]
    },
    {
     "name": "stderr",
     "output_type": "stream",
     "text": [
      "\r",
      "Epoch 1/10:   6%|██████████▌                                                                                                                                                                       | 59/991 [01:16<19:46,  1.27s/batch, batch_loss=12.5, batch_index=59, batch_size=256]"
     ]
    },
    {
     "name": "stderr",
     "output_type": "stream",
     "text": [
      "\r",
      "Epoch 1/10:   6%|██████████▌                                                                                                                                                                       | 59/991 [01:17<19:46,  1.27s/batch, batch_loss=34.5, batch_index=60, batch_size=256]"
     ]
    },
    {
     "name": "stderr",
     "output_type": "stream",
     "text": [
      "\r",
      "Epoch 1/10:   6%|██████████▊                                                                                                                                                                       | 60/991 [01:17<19:50,  1.28s/batch, batch_loss=34.5, batch_index=60, batch_size=256]"
     ]
    },
    {
     "name": "stderr",
     "output_type": "stream",
     "text": [
      "\r",
      "Epoch 1/10:   6%|██████████▊                                                                                                                                                                       | 60/991 [01:18<19:50,  1.28s/batch, batch_loss=17.9, batch_index=61, batch_size=256]"
     ]
    },
    {
     "name": "stderr",
     "output_type": "stream",
     "text": [
      "\r",
      "Epoch 1/10:   6%|██████████▉                                                                                                                                                                       | 61/991 [01:18<19:52,  1.28s/batch, batch_loss=17.9, batch_index=61, batch_size=256]"
     ]
    },
    {
     "name": "stderr",
     "output_type": "stream",
     "text": [
      "\r",
      "Epoch 1/10:   6%|██████████▉                                                                                                                                                                       | 61/991 [01:19<19:52,  1.28s/batch, batch_loss=17.8, batch_index=62, batch_size=256]"
     ]
    },
    {
     "name": "stderr",
     "output_type": "stream",
     "text": [
      "\r",
      "Epoch 1/10:   6%|███████████▏                                                                                                                                                                      | 62/991 [01:19<19:56,  1.29s/batch, batch_loss=17.8, batch_index=62, batch_size=256]"
     ]
    },
    {
     "name": "stderr",
     "output_type": "stream",
     "text": [
      "\r",
      "Epoch 1/10:   6%|███████████▏                                                                                                                                                                       | 62/991 [01:21<19:56,  1.29s/batch, batch_loss=431, batch_index=63, batch_size=256]"
     ]
    },
    {
     "name": "stderr",
     "output_type": "stream",
     "text": [
      "\r",
      "Epoch 1/10:   6%|███████████▍                                                                                                                                                                       | 63/991 [01:21<19:54,  1.29s/batch, batch_loss=431, batch_index=63, batch_size=256]"
     ]
    },
    {
     "name": "stderr",
     "output_type": "stream",
     "text": [
      "\r",
      "Epoch 1/10:   6%|███████████▍                                                                                                                                                                       | 63/991 [01:22<19:54,  1.29s/batch, batch_loss=793, batch_index=64, batch_size=256]"
     ]
    },
    {
     "name": "stderr",
     "output_type": "stream",
     "text": [
      "\r",
      "Epoch 1/10:   6%|███████████▌                                                                                                                                                                       | 64/991 [01:22<19:54,  1.29s/batch, batch_loss=793, batch_index=64, batch_size=256]"
     ]
    },
    {
     "name": "stderr",
     "output_type": "stream",
     "text": [
      "\r",
      "Epoch 1/10:   6%|███████████▎                                                                                                                                                                   | 64/991 [01:23<19:54,  1.29s/batch, batch_loss=2.55e+3, batch_index=65, batch_size=256]"
     ]
    },
    {
     "name": "stderr",
     "output_type": "stream",
     "text": [
      "\r",
      "Epoch 1/10:   7%|███████████▍                                                                                                                                                                   | 65/991 [01:23<19:57,  1.29s/batch, batch_loss=2.55e+3, batch_index=65, batch_size=256]"
     ]
    },
    {
     "name": "stderr",
     "output_type": "stream",
     "text": [
      "\r",
      "Epoch 1/10:   7%|███████████▋                                                                                                                                                                       | 65/991 [01:25<19:57,  1.29s/batch, batch_loss=6.9, batch_index=66, batch_size=256]"
     ]
    },
    {
     "name": "stderr",
     "output_type": "stream",
     "text": [
      "\r",
      "Epoch 1/10:   7%|███████████▉                                                                                                                                                                       | 66/991 [01:25<19:58,  1.30s/batch, batch_loss=6.9, batch_index=66, batch_size=256]"
     ]
    },
    {
     "name": "stderr",
     "output_type": "stream",
     "text": [
      "\r",
      "Epoch 1/10:   7%|███████████▊                                                                                                                                                                      | 66/991 [01:26<19:58,  1.30s/batch, batch_loss=17.7, batch_index=67, batch_size=256]"
     ]
    },
    {
     "name": "stderr",
     "output_type": "stream",
     "text": [
      "\r",
      "Epoch 1/10:   7%|████████████                                                                                                                                                                      | 67/991 [01:26<19:51,  1.29s/batch, batch_loss=17.7, batch_index=67, batch_size=256]"
     ]
    },
    {
     "name": "stderr",
     "output_type": "stream",
     "text": [
      "\r",
      "Epoch 1/10:   7%|████████████                                                                                                                                                                      | 67/991 [01:27<19:51,  1.29s/batch, batch_loss=13.3, batch_index=68, batch_size=256]"
     ]
    },
    {
     "name": "stderr",
     "output_type": "stream",
     "text": [
      "\r",
      "Epoch 1/10:   7%|████████████▏                                                                                                                                                                     | 68/991 [01:27<19:50,  1.29s/batch, batch_loss=13.3, batch_index=68, batch_size=256]"
     ]
    },
    {
     "name": "stderr",
     "output_type": "stream",
     "text": [
      "\r",
      "Epoch 1/10:   7%|████████████▏                                                                                                                                                                     | 68/991 [01:29<19:50,  1.29s/batch, batch_loss=34.7, batch_index=69, batch_size=256]"
     ]
    },
    {
     "name": "stderr",
     "output_type": "stream",
     "text": [
      "\r",
      "Epoch 1/10:   7%|████████████▍                                                                                                                                                                     | 69/991 [01:29<19:49,  1.29s/batch, batch_loss=34.7, batch_index=69, batch_size=256]"
     ]
    },
    {
     "name": "stderr",
     "output_type": "stream",
     "text": [
      "\r",
      "Epoch 1/10:   7%|████████████▍                                                                                                                                                                      | 69/991 [01:30<19:49,  1.29s/batch, batch_loss=9.6, batch_index=70, batch_size=256]"
     ]
    },
    {
     "name": "stderr",
     "output_type": "stream",
     "text": [
      "\r",
      "Epoch 1/10:   7%|████████████▋                                                                                                                                                                      | 70/991 [01:30<19:47,  1.29s/batch, batch_loss=9.6, batch_index=70, batch_size=256]"
     ]
    },
    {
     "name": "stderr",
     "output_type": "stream",
     "text": [
      "\r",
      "Epoch 1/10:   7%|████████████▌                                                                                                                                                                     | 70/991 [01:31<19:47,  1.29s/batch, batch_loss=27.1, batch_index=71, batch_size=256]"
     ]
    },
    {
     "name": "stderr",
     "output_type": "stream",
     "text": [
      "\r",
      "Epoch 1/10:   7%|████████████▊                                                                                                                                                                     | 71/991 [01:31<19:47,  1.29s/batch, batch_loss=27.1, batch_index=71, batch_size=256]"
     ]
    },
    {
     "name": "stderr",
     "output_type": "stream",
     "text": [
      "\r",
      "Epoch 1/10:   7%|████████████▉                                                                                                                                                                       | 71/991 [01:32<19:47,  1.29s/batch, batch_loss=19, batch_index=72, batch_size=256]"
     ]
    },
    {
     "name": "stderr",
     "output_type": "stream",
     "text": [
      "\r",
      "Epoch 1/10:   7%|█████████████                                                                                                                                                                       | 72/991 [01:32<19:44,  1.29s/batch, batch_loss=19, batch_index=72, batch_size=256]"
     ]
    },
    {
     "name": "stderr",
     "output_type": "stream",
     "text": [
      "\r",
      "Epoch 1/10:   7%|████████████▉                                                                                                                                                                     | 72/991 [01:34<19:44,  1.29s/batch, batch_loss=31.3, batch_index=73, batch_size=256]"
     ]
    },
    {
     "name": "stderr",
     "output_type": "stream",
     "text": [
      "\r",
      "Epoch 1/10:   7%|█████████████                                                                                                                                                                     | 73/991 [01:34<19:39,  1.28s/batch, batch_loss=31.3, batch_index=73, batch_size=256]"
     ]
    },
    {
     "name": "stderr",
     "output_type": "stream",
     "text": [
      "\r",
      "Epoch 1/10:   7%|████████████▉                                                                                                                                                                  | 73/991 [01:35<19:39,  1.28s/batch, batch_loss=1.74e+3, batch_index=74, batch_size=256]"
     ]
    },
    {
     "name": "stderr",
     "output_type": "stream",
     "text": [
      "\r",
      "Epoch 1/10:   7%|█████████████                                                                                                                                                                  | 74/991 [01:35<19:39,  1.29s/batch, batch_loss=1.74e+3, batch_index=74, batch_size=256]"
     ]
    },
    {
     "name": "stderr",
     "output_type": "stream",
     "text": [
      "\r",
      "Epoch 1/10:   7%|█████████████▎                                                                                                                                                                    | 74/991 [01:36<19:39,  1.29s/batch, batch_loss=24.8, batch_index=75, batch_size=256]"
     ]
    },
    {
     "name": "stderr",
     "output_type": "stream",
     "text": [
      "\r",
      "Epoch 1/10:   8%|█████████████▍                                                                                                                                                                    | 75/991 [01:36<19:41,  1.29s/batch, batch_loss=24.8, batch_index=75, batch_size=256]"
     ]
    },
    {
     "name": "stderr",
     "output_type": "stream",
     "text": [
      "\r",
      "Epoch 1/10:   8%|█████████████▍                                                                                                                                                                    | 75/991 [01:38<19:41,  1.29s/batch, batch_loss=15.5, batch_index=76, batch_size=256]"
     ]
    },
    {
     "name": "stderr",
     "output_type": "stream",
     "text": [
      "\r",
      "Epoch 1/10:   8%|█████████████▋                                                                                                                                                                    | 76/991 [01:38<19:38,  1.29s/batch, batch_loss=15.5, batch_index=76, batch_size=256]"
     ]
    },
    {
     "name": "stderr",
     "output_type": "stream",
     "text": [
      "\r",
      "Epoch 1/10:   8%|█████████████▋                                                                                                                                                                    | 76/991 [01:39<19:38,  1.29s/batch, batch_loss=15.3, batch_index=77, batch_size=256]"
     ]
    },
    {
     "name": "stderr",
     "output_type": "stream",
     "text": [
      "\r",
      "Epoch 1/10:   8%|█████████████▊                                                                                                                                                                    | 77/991 [01:39<19:34,  1.28s/batch, batch_loss=15.3, batch_index=77, batch_size=256]"
     ]
    },
    {
     "name": "stderr",
     "output_type": "stream",
     "text": [
      "\r",
      "Epoch 1/10:   8%|█████████████▊                                                                                                                                                                    | 77/991 [01:40<19:34,  1.28s/batch, batch_loss=13.6, batch_index=78, batch_size=256]"
     ]
    },
    {
     "name": "stderr",
     "output_type": "stream",
     "text": [
      "\r",
      "Epoch 1/10:   8%|██████████████                                                                                                                                                                    | 78/991 [01:40<19:33,  1.29s/batch, batch_loss=13.6, batch_index=78, batch_size=256]"
     ]
    },
    {
     "name": "stderr",
     "output_type": "stream",
     "text": [
      "\r",
      "Epoch 1/10:   8%|██████████████                                                                                                                                                                    | 78/991 [01:41<19:33,  1.29s/batch, batch_loss=11.9, batch_index=79, batch_size=256]"
     ]
    },
    {
     "name": "stderr",
     "output_type": "stream",
     "text": [
      "\r",
      "Epoch 1/10:   8%|██████████████▏                                                                                                                                                                   | 79/991 [01:41<19:36,  1.29s/batch, batch_loss=11.9, batch_index=79, batch_size=256]"
     ]
    },
    {
     "name": "stderr",
     "output_type": "stream",
     "text": [
      "\r",
      "Epoch 1/10:   8%|██████████████▏                                                                                                                                                                   | 79/991 [01:43<19:36,  1.29s/batch, batch_loss=15.7, batch_index=80, batch_size=256]"
     ]
    },
    {
     "name": "stderr",
     "output_type": "stream",
     "text": [
      "\r",
      "Epoch 1/10:   8%|██████████████▎                                                                                                                                                                   | 80/991 [01:43<19:36,  1.29s/batch, batch_loss=15.7, batch_index=80, batch_size=256]"
     ]
    },
    {
     "name": "stderr",
     "output_type": "stream",
     "text": [
      "\r",
      "Epoch 1/10:   8%|██████████████▎                                                                                                                                                                   | 80/991 [01:44<19:36,  1.29s/batch, batch_loss=20.6, batch_index=81, batch_size=256]"
     ]
    },
    {
     "name": "stderr",
     "output_type": "stream",
     "text": [
      "\r",
      "Epoch 1/10:   8%|██████████████▌                                                                                                                                                                   | 81/991 [01:44<19:39,  1.30s/batch, batch_loss=20.6, batch_index=81, batch_size=256]"
     ]
    },
    {
     "name": "stderr",
     "output_type": "stream",
     "text": [
      "\r",
      "Epoch 1/10:   8%|██████████████▌                                                                                                                                                                   | 81/991 [01:45<19:39,  1.30s/batch, batch_loss=21.3, batch_index=82, batch_size=256]"
     ]
    },
    {
     "name": "stderr",
     "output_type": "stream",
     "text": [
      "\r",
      "Epoch 1/10:   8%|██████████████▋                                                                                                                                                                   | 82/991 [01:45<19:35,  1.29s/batch, batch_loss=21.3, batch_index=82, batch_size=256]"
     ]
    },
    {
     "name": "stderr",
     "output_type": "stream",
     "text": [
      "\r",
      "Epoch 1/10:   8%|██████████████▋                                                                                                                                                                   | 82/991 [01:47<19:35,  1.29s/batch, batch_loss=14.3, batch_index=83, batch_size=256]"
     ]
    },
    {
     "name": "stderr",
     "output_type": "stream",
     "text": [
      "\r",
      "Epoch 1/10:   8%|██████████████▉                                                                                                                                                                   | 83/991 [01:47<19:29,  1.29s/batch, batch_loss=14.3, batch_index=83, batch_size=256]"
     ]
    },
    {
     "name": "stderr",
     "output_type": "stream",
     "text": [
      "\r",
      "Epoch 1/10:   8%|██████████████▉                                                                                                                                                                   | 83/991 [01:48<19:29,  1.29s/batch, batch_loss=16.9, batch_index=84, batch_size=256]"
     ]
    },
    {
     "name": "stderr",
     "output_type": "stream",
     "text": [
      "\r",
      "Epoch 1/10:   8%|███████████████                                                                                                                                                                   | 84/991 [01:48<19:24,  1.28s/batch, batch_loss=16.9, batch_index=84, batch_size=256]"
     ]
    },
    {
     "name": "stderr",
     "output_type": "stream",
     "text": [
      "\r",
      "Epoch 1/10:   8%|███████████████▎                                                                                                                                                                    | 84/991 [01:49<19:24,  1.28s/batch, batch_loss=14, batch_index=85, batch_size=256]"
     ]
    },
    {
     "name": "stderr",
     "output_type": "stream",
     "text": [
      "\r",
      "Epoch 1/10:   9%|███████████████▍                                                                                                                                                                    | 85/991 [01:49<19:06,  1.27s/batch, batch_loss=14, batch_index=85, batch_size=256]"
     ]
    },
    {
     "name": "stderr",
     "output_type": "stream",
     "text": [
      "\r",
      "Epoch 1/10:   9%|███████████████▎                                                                                                                                                                  | 85/991 [01:50<19:06,  1.27s/batch, batch_loss=16.5, batch_index=86, batch_size=256]"
     ]
    },
    {
     "name": "stderr",
     "output_type": "stream",
     "text": [
      "\r",
      "Epoch 1/10:   9%|███████████████▍                                                                                                                                                                  | 86/991 [01:50<19:14,  1.28s/batch, batch_loss=16.5, batch_index=86, batch_size=256]"
     ]
    },
    {
     "name": "stderr",
     "output_type": "stream",
     "text": [
      "\r",
      "Epoch 1/10:   9%|███████████████▌                                                                                                                                                                    | 86/991 [01:52<19:14,  1.28s/batch, batch_loss=13, batch_index=87, batch_size=256]"
     ]
    },
    {
     "name": "stderr",
     "output_type": "stream",
     "text": [
      "\r",
      "Epoch 1/10:   9%|███████████████▊                                                                                                                                                                    | 87/991 [01:52<19:11,  1.27s/batch, batch_loss=13, batch_index=87, batch_size=256]"
     ]
    },
    {
     "name": "stderr",
     "output_type": "stream",
     "text": [
      "\r",
      "Epoch 1/10:   9%|███████████████▋                                                                                                                                                                  | 87/991 [01:53<19:11,  1.27s/batch, batch_loss=17.7, batch_index=88, batch_size=256]"
     ]
    },
    {
     "name": "stderr",
     "output_type": "stream",
     "text": [
      "\r",
      "Epoch 1/10:   9%|███████████████▊                                                                                                                                                                  | 88/991 [01:53<19:15,  1.28s/batch, batch_loss=17.7, batch_index=88, batch_size=256]"
     ]
    },
    {
     "name": "stderr",
     "output_type": "stream",
     "text": [
      "\r",
      "Epoch 1/10:   9%|███████████████▊                                                                                                                                                                  | 88/991 [01:54<19:15,  1.28s/batch, batch_loss=9.58, batch_index=89, batch_size=256]"
     ]
    },
    {
     "name": "stderr",
     "output_type": "stream",
     "text": [
      "\r",
      "Epoch 1/10:   9%|███████████████▉                                                                                                                                                                  | 89/991 [01:54<19:16,  1.28s/batch, batch_loss=9.58, batch_index=89, batch_size=256]"
     ]
    },
    {
     "name": "stderr",
     "output_type": "stream",
     "text": [
      "\r",
      "Epoch 1/10:   9%|████████████████                                                                                                                                                                   | 89/991 [01:56<19:16,  1.28s/batch, batch_loss=244, batch_index=90, batch_size=256]"
     ]
    },
    {
     "name": "stderr",
     "output_type": "stream",
     "text": [
      "\r",
      "Epoch 1/10:   9%|████████████████▎                                                                                                                                                                  | 90/991 [01:56<19:18,  1.29s/batch, batch_loss=244, batch_index=90, batch_size=256]"
     ]
    },
    {
     "name": "stderr",
     "output_type": "stream",
     "text": [
      "\r",
      "Epoch 1/10:   9%|███████████████▉                                                                                                                                                               | 90/991 [01:57<19:18,  1.29s/batch, batch_loss=1.55e+3, batch_index=91, batch_size=256]"
     ]
    },
    {
     "name": "stderr",
     "output_type": "stream",
     "text": [
      "\r",
      "Epoch 1/10:   9%|████████████████                                                                                                                                                               | 91/991 [01:57<19:18,  1.29s/batch, batch_loss=1.55e+3, batch_index=91, batch_size=256]"
     ]
    },
    {
     "name": "stderr",
     "output_type": "stream",
     "text": [
      "\r",
      "Epoch 1/10:   9%|████████████████▎                                                                                                                                                                 | 91/991 [01:58<19:18,  1.29s/batch, batch_loss=34.9, batch_index=92, batch_size=256]"
     ]
    },
    {
     "name": "stderr",
     "output_type": "stream",
     "text": [
      "\r",
      "Epoch 1/10:   9%|████████████████▌                                                                                                                                                                 | 92/991 [01:58<19:16,  1.29s/batch, batch_loss=34.9, batch_index=92, batch_size=256]"
     ]
    },
    {
     "name": "stderr",
     "output_type": "stream",
     "text": [
      "\r",
      "Epoch 1/10:   9%|████████████████▌                                                                                                                                                                 | 92/991 [01:59<19:16,  1.29s/batch, batch_loss=35.4, batch_index=93, batch_size=256]"
     ]
    },
    {
     "name": "stderr",
     "output_type": "stream",
     "text": [
      "\r",
      "Epoch 1/10:   9%|████████████████▋                                                                                                                                                                 | 93/991 [01:59<19:24,  1.30s/batch, batch_loss=35.4, batch_index=93, batch_size=256]"
     ]
    },
    {
     "name": "stderr",
     "output_type": "stream",
     "text": [
      "\r",
      "Epoch 1/10:   9%|████████████████▋                                                                                                                                                                 | 93/991 [02:01<19:24,  1.30s/batch, batch_loss=37.1, batch_index=94, batch_size=256]"
     ]
    },
    {
     "name": "stderr",
     "output_type": "stream",
     "text": [
      "\r",
      "Epoch 1/10:   9%|████████████████▉                                                                                                                                                                 | 94/991 [02:01<19:18,  1.29s/batch, batch_loss=37.1, batch_index=94, batch_size=256]"
     ]
    },
    {
     "name": "stderr",
     "output_type": "stream",
     "text": [
      "\r",
      "Epoch 1/10:   9%|████████████████▉                                                                                                                                                                 | 94/991 [02:02<19:18,  1.29s/batch, batch_loss=30.6, batch_index=95, batch_size=256]"
     ]
    },
    {
     "name": "stderr",
     "output_type": "stream",
     "text": [
      "\r",
      "Epoch 1/10:  10%|█████████████████                                                                                                                                                                 | 95/991 [02:02<19:18,  1.29s/batch, batch_loss=30.6, batch_index=95, batch_size=256]"
     ]
    },
    {
     "name": "stderr",
     "output_type": "stream",
     "text": [
      "\r",
      "Epoch 1/10:  10%|█████████████████                                                                                                                                                                 | 95/991 [02:03<19:18,  1.29s/batch, batch_loss=28.5, batch_index=96, batch_size=256]"
     ]
    },
    {
     "name": "stderr",
     "output_type": "stream",
     "text": [
      "\r",
      "Epoch 1/10:  10%|█████████████████▏                                                                                                                                                                | 96/991 [02:03<19:19,  1.30s/batch, batch_loss=28.5, batch_index=96, batch_size=256]"
     ]
    },
    {
     "name": "stderr",
     "output_type": "stream",
     "text": [
      "\r",
      "Epoch 1/10:  10%|█████████████████▏                                                                                                                                                                | 96/991 [02:05<19:19,  1.30s/batch, batch_loss=26.2, batch_index=97, batch_size=256]"
     ]
    },
    {
     "name": "stderr",
     "output_type": "stream",
     "text": [
      "\r",
      "Epoch 1/10:  10%|█████████████████▍                                                                                                                                                                | 97/991 [02:05<19:19,  1.30s/batch, batch_loss=26.2, batch_index=97, batch_size=256]"
     ]
    },
    {
     "name": "stderr",
     "output_type": "stream",
     "text": [
      "\r",
      "Epoch 1/10:  10%|█████████████████▍                                                                                                                                                                | 97/991 [02:06<19:19,  1.30s/batch, batch_loss=34.2, batch_index=98, batch_size=256]"
     ]
    },
    {
     "name": "stderr",
     "output_type": "stream",
     "text": [
      "\r",
      "Epoch 1/10:  10%|█████████████████▌                                                                                                                                                                | 98/991 [02:06<19:06,  1.28s/batch, batch_loss=34.2, batch_index=98, batch_size=256]"
     ]
    },
    {
     "name": "stderr",
     "output_type": "stream",
     "text": [
      "\r",
      "Epoch 1/10:  10%|█████████████████▌                                                                                                                                                                | 98/991 [02:07<19:06,  1.28s/batch, batch_loss=27.2, batch_index=99, batch_size=256]"
     ]
    },
    {
     "name": "stderr",
     "output_type": "stream",
     "text": [
      "\r",
      "Epoch 1/10:  10%|█████████████████▊                                                                                                                                                                | 99/991 [02:07<19:09,  1.29s/batch, batch_loss=27.2, batch_index=99, batch_size=256]"
     ]
    },
    {
     "name": "stderr",
     "output_type": "stream",
     "text": [
      "\r",
      "Epoch 1/10:  10%|█████████████████▋                                                                                                                                                               | 99/991 [02:08<19:09,  1.29s/batch, batch_loss=30.9, batch_index=100, batch_size=256]"
     ]
    },
    {
     "name": "stderr",
     "output_type": "stream",
     "text": [
      "\r",
      "Epoch 1/10:  10%|█████████████████▊                                                                                                                                                              | 100/991 [02:08<18:59,  1.28s/batch, batch_loss=30.9, batch_index=100, batch_size=256]"
     ]
    },
    {
     "name": "stderr",
     "output_type": "stream",
     "text": [
      "\r",
      "Epoch 1/10:  10%|█████████████████▊                                                                                                                                                              | 100/991 [02:10<18:59,  1.28s/batch, batch_loss=26.8, batch_index=101, batch_size=256]"
     ]
    },
    {
     "name": "stderr",
     "output_type": "stream",
     "text": [
      "\r",
      "Epoch 1/10:  10%|█████████████████▉                                                                                                                                                              | 101/991 [02:10<19:01,  1.28s/batch, batch_loss=26.8, batch_index=101, batch_size=256]"
     ]
    },
    {
     "name": "stderr",
     "output_type": "stream",
     "text": [
      "\r",
      "Epoch 1/10:  10%|█████████████████▉                                                                                                                                                              | 101/991 [02:11<19:01,  1.28s/batch, batch_loss=63.6, batch_index=102, batch_size=256]"
     ]
    },
    {
     "name": "stderr",
     "output_type": "stream",
     "text": [
      "\r",
      "Epoch 1/10:  10%|██████████████████                                                                                                                                                              | 102/991 [02:11<19:04,  1.29s/batch, batch_loss=63.6, batch_index=102, batch_size=256]"
     ]
    },
    {
     "name": "stderr",
     "output_type": "stream",
     "text": [
      "\r",
      "Epoch 1/10:  10%|██████████████████▏                                                                                                                                                              | 102/991 [02:12<19:04,  1.29s/batch, batch_loss=939, batch_index=103, batch_size=256]"
     ]
    },
    {
     "name": "stderr",
     "output_type": "stream",
     "text": [
      "\r",
      "Epoch 1/10:  10%|██████████████████▍                                                                                                                                                              | 103/991 [02:12<19:01,  1.29s/batch, batch_loss=939, batch_index=103, batch_size=256]"
     ]
    },
    {
     "name": "stderr",
     "output_type": "stream",
     "text": [
      "\r",
      "Epoch 1/10:  10%|██████████████████▎                                                                                                                                                             | 103/991 [02:14<19:01,  1.29s/batch, batch_loss=26.6, batch_index=104, batch_size=256]"
     ]
    },
    {
     "name": "stderr",
     "output_type": "stream",
     "text": [
      "\r",
      "Epoch 1/10:  10%|██████████████████▍                                                                                                                                                             | 104/991 [02:14<19:05,  1.29s/batch, batch_loss=26.6, batch_index=104, batch_size=256]"
     ]
    },
    {
     "name": "stderr",
     "output_type": "stream",
     "text": [
      "\r",
      "Epoch 1/10:  10%|██████████████████▍                                                                                                                                                             | 104/991 [02:15<19:05,  1.29s/batch, batch_loss=15.1, batch_index=105, batch_size=256]"
     ]
    },
    {
     "name": "stderr",
     "output_type": "stream",
     "text": [
      "\r",
      "Epoch 1/10:  11%|██████████████████▋                                                                                                                                                             | 105/991 [02:15<19:04,  1.29s/batch, batch_loss=15.1, batch_index=105, batch_size=256]"
     ]
    },
    {
     "name": "stderr",
     "output_type": "stream",
     "text": [
      "\r",
      "Epoch 1/10:  11%|██████████████████▋                                                                                                                                                             | 105/991 [02:16<19:04,  1.29s/batch, batch_loss=22.3, batch_index=106, batch_size=256]"
     ]
    },
    {
     "name": "stderr",
     "output_type": "stream",
     "text": [
      "\r",
      "Epoch 1/10:  11%|██████████████████▊                                                                                                                                                             | 106/991 [02:16<19:00,  1.29s/batch, batch_loss=22.3, batch_index=106, batch_size=256]"
     ]
    },
    {
     "name": "stderr",
     "output_type": "stream",
     "text": [
      "\r",
      "Epoch 1/10:  11%|██████████████████▊                                                                                                                                                             | 106/991 [02:17<19:00,  1.29s/batch, batch_loss=26.9, batch_index=107, batch_size=256]"
     ]
    },
    {
     "name": "stderr",
     "output_type": "stream",
     "text": [
      "\r",
      "Epoch 1/10:  11%|███████████████████                                                                                                                                                             | 107/991 [02:17<19:02,  1.29s/batch, batch_loss=26.9, batch_index=107, batch_size=256]"
     ]
    },
    {
     "name": "stderr",
     "output_type": "stream",
     "text": [
      "\r",
      "Epoch 1/10:  11%|███████████████████▏                                                                                                                                                              | 107/991 [02:19<19:02,  1.29s/batch, batch_loss=37, batch_index=108, batch_size=256]"
     ]
    },
    {
     "name": "stderr",
     "output_type": "stream",
     "text": [
      "\r",
      "Epoch 1/10:  11%|███████████████████▍                                                                                                                                                              | 108/991 [02:19<18:59,  1.29s/batch, batch_loss=37, batch_index=108, batch_size=256]"
     ]
    },
    {
     "name": "stderr",
     "output_type": "stream",
     "text": [
      "\r",
      "Epoch 1/10:  11%|███████████████████▏                                                                                                                                                            | 108/991 [02:20<18:59,  1.29s/batch, batch_loss=28.8, batch_index=109, batch_size=256]"
     ]
    },
    {
     "name": "stderr",
     "output_type": "stream",
     "text": [
      "\r",
      "Epoch 1/10:  11%|███████████████████▎                                                                                                                                                            | 109/991 [02:20<18:58,  1.29s/batch, batch_loss=28.8, batch_index=109, batch_size=256]"
     ]
    },
    {
     "name": "stderr",
     "output_type": "stream",
     "text": [
      "\r",
      "Epoch 1/10:  11%|███████████████████▎                                                                                                                                                            | 109/991 [02:21<18:58,  1.29s/batch, batch_loss=24.2, batch_index=110, batch_size=256]"
     ]
    },
    {
     "name": "stderr",
     "output_type": "stream",
     "text": [
      "\r",
      "Epoch 1/10:  11%|███████████████████▌                                                                                                                                                            | 110/991 [02:21<18:56,  1.29s/batch, batch_loss=24.2, batch_index=110, batch_size=256]"
     ]
    },
    {
     "name": "stderr",
     "output_type": "stream",
     "text": [
      "\r",
      "Epoch 1/10:  11%|███████████████████▌                                                                                                                                                            | 110/991 [02:23<18:56,  1.29s/batch, batch_loss=39.8, batch_index=111, batch_size=256]"
     ]
    },
    {
     "name": "stderr",
     "output_type": "stream",
     "text": [
      "\r",
      "Epoch 1/10:  11%|███████████████████▋                                                                                                                                                            | 111/991 [02:23<18:59,  1.29s/batch, batch_loss=39.8, batch_index=111, batch_size=256]"
     ]
    },
    {
     "name": "stderr",
     "output_type": "stream",
     "text": [
      "\r",
      "Epoch 1/10:  11%|███████████████████▋                                                                                                                                                            | 111/991 [02:24<18:59,  1.29s/batch, batch_loss=33.8, batch_index=112, batch_size=256]"
     ]
    },
    {
     "name": "stderr",
     "output_type": "stream",
     "text": [
      "\r",
      "Epoch 1/10:  11%|███████████████████▉                                                                                                                                                            | 112/991 [02:24<18:22,  1.25s/batch, batch_loss=33.8, batch_index=112, batch_size=256]"
     ]
    },
    {
     "name": "stderr",
     "output_type": "stream",
     "text": [
      "\r",
      "Epoch 1/10:  11%|███████████████████▉                                                                                                                                                            | 112/991 [02:25<18:22,  1.25s/batch, batch_loss=24.8, batch_index=113, batch_size=256]"
     ]
    },
    {
     "name": "stderr",
     "output_type": "stream",
     "text": [
      "\r",
      "Epoch 1/10:  11%|████████████████████                                                                                                                                                            | 113/991 [02:25<18:32,  1.27s/batch, batch_loss=24.8, batch_index=113, batch_size=256]"
     ]
    },
    {
     "name": "stderr",
     "output_type": "stream",
     "text": [
      "\r",
      "Epoch 1/10:  11%|████████████████████▎                                                                                                                                                             | 113/991 [02:26<18:32,  1.27s/batch, batch_loss=21, batch_index=114, batch_size=256]"
     ]
    },
    {
     "name": "stderr",
     "output_type": "stream",
     "text": [
      "\r",
      "Epoch 1/10:  12%|████████████████████▍                                                                                                                                                             | 114/991 [02:26<18:36,  1.27s/batch, batch_loss=21, batch_index=114, batch_size=256]"
     ]
    },
    {
     "name": "stderr",
     "output_type": "stream",
     "text": [
      "\r",
      "Epoch 1/10:  12%|████████████████████▏                                                                                                                                                           | 114/991 [02:28<18:36,  1.27s/batch, batch_loss=51.3, batch_index=115, batch_size=256]"
     ]
    },
    {
     "name": "stderr",
     "output_type": "stream",
     "text": [
      "\r",
      "Epoch 1/10:  12%|████████████████████▍                                                                                                                                                           | 115/991 [02:28<18:37,  1.28s/batch, batch_loss=51.3, batch_index=115, batch_size=256]"
     ]
    },
    {
     "name": "stderr",
     "output_type": "stream",
     "text": [
      "\r",
      "Epoch 1/10:  12%|████████████████████▍                                                                                                                                                           | 115/991 [02:29<18:37,  1.28s/batch, batch_loss=17.8, batch_index=116, batch_size=256]"
     ]
    },
    {
     "name": "stderr",
     "output_type": "stream",
     "text": [
      "\r",
      "Epoch 1/10:  12%|████████████████████▌                                                                                                                                                           | 116/991 [02:29<18:43,  1.28s/batch, batch_loss=17.8, batch_index=116, batch_size=256]"
     ]
    },
    {
     "name": "stderr",
     "output_type": "stream",
     "text": [
      "\r",
      "Epoch 1/10:  12%|████████████████████▌                                                                                                                                                           | 116/991 [02:30<18:43,  1.28s/batch, batch_loss=22.6, batch_index=117, batch_size=256]"
     ]
    },
    {
     "name": "stderr",
     "output_type": "stream",
     "text": [
      "\r",
      "Epoch 1/10:  12%|████████████████████▊                                                                                                                                                           | 117/991 [02:30<18:42,  1.28s/batch, batch_loss=22.6, batch_index=117, batch_size=256]"
     ]
    },
    {
     "name": "stderr",
     "output_type": "stream",
     "text": [
      "\r",
      "Epoch 1/10:  12%|████████████████████▊                                                                                                                                                           | 117/991 [02:32<18:42,  1.28s/batch, batch_loss=35.2, batch_index=118, batch_size=256]"
     ]
    },
    {
     "name": "stderr",
     "output_type": "stream",
     "text": [
      "\r",
      "Epoch 1/10:  12%|████████████████████▉                                                                                                                                                           | 118/991 [02:32<18:41,  1.28s/batch, batch_loss=35.2, batch_index=118, batch_size=256]"
     ]
    },
    {
     "name": "stderr",
     "output_type": "stream",
     "text": [
      "\r",
      "Epoch 1/10:  12%|████████████████████▉                                                                                                                                                           | 118/991 [02:33<18:41,  1.28s/batch, batch_loss=51.1, batch_index=119, batch_size=256]"
     ]
    },
    {
     "name": "stderr",
     "output_type": "stream",
     "text": [
      "\r",
      "Epoch 1/10:  12%|█████████████████████▏                                                                                                                                                          | 119/991 [02:33<18:42,  1.29s/batch, batch_loss=51.1, batch_index=119, batch_size=256]"
     ]
    },
    {
     "name": "stderr",
     "output_type": "stream",
     "text": [
      "\r",
      "Epoch 1/10:  12%|█████████████████████▏                                                                                                                                                          | 119/991 [02:34<18:42,  1.29s/batch, batch_loss=19.9, batch_index=120, batch_size=256]"
     ]
    },
    {
     "name": "stderr",
     "output_type": "stream",
     "text": [
      "\r",
      "Epoch 1/10:  12%|█████████████████████▎                                                                                                                                                          | 120/991 [02:34<18:41,  1.29s/batch, batch_loss=19.9, batch_index=120, batch_size=256]"
     ]
    },
    {
     "name": "stderr",
     "output_type": "stream",
     "text": [
      "\r",
      "Epoch 1/10:  12%|█████████████████████▎                                                                                                                                                          | 120/991 [02:35<18:41,  1.29s/batch, batch_loss=49.1, batch_index=121, batch_size=256]"
     ]
    },
    {
     "name": "stderr",
     "output_type": "stream",
     "text": [
      "\r",
      "Epoch 1/10:  12%|█████████████████████▍                                                                                                                                                          | 121/991 [02:35<18:41,  1.29s/batch, batch_loss=49.1, batch_index=121, batch_size=256]"
     ]
    },
    {
     "name": "stderr",
     "output_type": "stream",
     "text": [
      "\r",
      "Epoch 1/10:  12%|█████████████████████▍                                                                                                                                                          | 121/991 [02:37<18:41,  1.29s/batch, batch_loss=13.7, batch_index=122, batch_size=256]"
     ]
    },
    {
     "name": "stderr",
     "output_type": "stream",
     "text": [
      "\r",
      "Epoch 1/10:  12%|█████████████████████▋                                                                                                                                                          | 122/991 [02:37<18:43,  1.29s/batch, batch_loss=13.7, batch_index=122, batch_size=256]"
     ]
    },
    {
     "name": "stderr",
     "output_type": "stream",
     "text": [
      "\r",
      "Epoch 1/10:  12%|█████████████████████▋                                                                                                                                                          | 122/991 [02:38<18:43,  1.29s/batch, batch_loss=30.2, batch_index=123, batch_size=256]"
     ]
    },
    {
     "name": "stderr",
     "output_type": "stream",
     "text": [
      "\r",
      "Epoch 1/10:  12%|█████████████████████▊                                                                                                                                                          | 123/991 [02:38<18:44,  1.30s/batch, batch_loss=30.2, batch_index=123, batch_size=256]"
     ]
    },
    {
     "name": "stderr",
     "output_type": "stream",
     "text": [
      "\r",
      "Epoch 1/10:  12%|█████████████████████▍                                                                                                                                                       | 123/991 [02:39<18:44,  1.30s/batch, batch_loss=3.52e+3, batch_index=124, batch_size=256]"
     ]
    },
    {
     "name": "stderr",
     "output_type": "stream",
     "text": [
      "\r",
      "Epoch 1/10:  13%|█████████████████████▋                                                                                                                                                       | 124/991 [02:39<18:40,  1.29s/batch, batch_loss=3.52e+3, batch_index=124, batch_size=256]"
     ]
    },
    {
     "name": "stderr",
     "output_type": "stream",
     "text": [
      "\r",
      "Epoch 1/10:  13%|██████████████████████                                                                                                                                                          | 124/991 [02:41<18:40,  1.29s/batch, batch_loss=11.6, batch_index=125, batch_size=256]"
     ]
    },
    {
     "name": "stderr",
     "output_type": "stream",
     "text": [
      "\r",
      "Epoch 1/10:  13%|██████████████████████▏                                                                                                                                                         | 125/991 [02:41<18:38,  1.29s/batch, batch_loss=11.6, batch_index=125, batch_size=256]"
     ]
    },
    {
     "name": "stderr",
     "output_type": "stream",
     "text": [
      "\r",
      "Epoch 1/10:  13%|██████████████████████▏                                                                                                                                                         | 125/991 [02:42<18:38,  1.29s/batch, batch_loss=18.5, batch_index=126, batch_size=256]"
     ]
    },
    {
     "name": "stderr",
     "output_type": "stream",
     "text": [
      "\r",
      "Epoch 1/10:  13%|██████████████████████▍                                                                                                                                                         | 126/991 [02:42<18:37,  1.29s/batch, batch_loss=18.5, batch_index=126, batch_size=256]"
     ]
    },
    {
     "name": "stderr",
     "output_type": "stream",
     "text": [
      "\r",
      "Epoch 1/10:  13%|██████████████████████                                                                                                                                                        | 126/991 [02:43<18:37,  1.29s/batch, batch_loss=1.9e+3, batch_index=127, batch_size=256]"
     ]
    },
    {
     "name": "stderr",
     "output_type": "stream",
     "text": [
      "\r",
      "Epoch 1/10:  13%|██████████████████████▎                                                                                                                                                       | 127/991 [02:43<18:33,  1.29s/batch, batch_loss=1.9e+3, batch_index=127, batch_size=256]"
     ]
    },
    {
     "name": "stderr",
     "output_type": "stream",
     "text": [
      "\r",
      "Epoch 1/10:  13%|██████████████████████▏                                                                                                                                                      | 127/991 [02:44<18:33,  1.29s/batch, batch_loss=1.59e+3, batch_index=128, batch_size=256]"
     ]
    },
    {
     "name": "stderr",
     "output_type": "stream",
     "text": [
      "\r",
      "Epoch 1/10:  13%|██████████████████████▎                                                                                                                                                      | 128/991 [02:44<18:33,  1.29s/batch, batch_loss=1.59e+3, batch_index=128, batch_size=256]"
     ]
    },
    {
     "name": "stderr",
     "output_type": "stream",
     "text": [
      "\r",
      "Epoch 1/10:  13%|██████████████████████▊                                                                                                                                                          | 128/991 [02:46<18:33,  1.29s/batch, batch_loss=236, batch_index=129, batch_size=256]"
     ]
    },
    {
     "name": "stderr",
     "output_type": "stream",
     "text": [
      "\r",
      "Epoch 1/10:  13%|███████████████████████                                                                                                                                                          | 129/991 [02:46<18:32,  1.29s/batch, batch_loss=236, batch_index=129, batch_size=256]"
     ]
    },
    {
     "name": "stderr",
     "output_type": "stream",
     "text": [
      "\r",
      "Epoch 1/10:  13%|██████████████████████▌                                                                                                                                                      | 129/991 [02:47<18:32,  1.29s/batch, batch_loss=1.02e+3, batch_index=130, batch_size=256]"
     ]
    },
    {
     "name": "stderr",
     "output_type": "stream",
     "text": [
      "\r",
      "Epoch 1/10:  13%|██████████████████████▋                                                                                                                                                      | 130/991 [02:47<18:30,  1.29s/batch, batch_loss=1.02e+3, batch_index=130, batch_size=256]"
     ]
    },
    {
     "name": "stderr",
     "output_type": "stream",
     "text": [
      "\r",
      "Epoch 1/10:  13%|██████████████████████▋                                                                                                                                                      | 130/991 [02:48<18:30,  1.29s/batch, batch_loss=8.37e+3, batch_index=131, batch_size=256]"
     ]
    },
    {
     "name": "stderr",
     "output_type": "stream",
     "text": [
      "\r",
      "Epoch 1/10:  13%|██████████████████████▊                                                                                                                                                      | 131/991 [02:48<18:27,  1.29s/batch, batch_loss=8.37e+3, batch_index=131, batch_size=256]"
     ]
    },
    {
     "name": "stderr",
     "output_type": "stream",
     "text": [
      "\r",
      "Epoch 1/10:  13%|███████████████████████▎                                                                                                                                                        | 131/991 [02:50<18:27,  1.29s/batch, batch_loss=24.6, batch_index=132, batch_size=256]"
     ]
    },
    {
     "name": "stderr",
     "output_type": "stream",
     "text": [
      "\r",
      "Epoch 1/10:  13%|███████████████████████▍                                                                                                                                                        | 132/991 [02:50<18:23,  1.29s/batch, batch_loss=24.6, batch_index=132, batch_size=256]"
     ]
    },
    {
     "name": "stderr",
     "output_type": "stream",
     "text": [
      "\r",
      "Epoch 1/10:  13%|███████████████████████▍                                                                                                                                                        | 132/991 [02:51<18:23,  1.29s/batch, batch_loss=13.6, batch_index=133, batch_size=256]"
     ]
    },
    {
     "name": "stderr",
     "output_type": "stream",
     "text": [
      "\r",
      "Epoch 1/10:  13%|███████████████████████▌                                                                                                                                                        | 133/991 [02:51<18:29,  1.29s/batch, batch_loss=13.6, batch_index=133, batch_size=256]"
     ]
    },
    {
     "name": "stderr",
     "output_type": "stream",
     "text": [
      "\r",
      "Epoch 1/10:  13%|███████████████████████▌                                                                                                                                                        | 133/991 [02:52<18:29,  1.29s/batch, batch_loss=16.9, batch_index=134, batch_size=256]"
     ]
    },
    {
     "name": "stderr",
     "output_type": "stream",
     "text": [
      "\r",
      "Epoch 1/10:  14%|███████████████████████▊                                                                                                                                                        | 134/991 [02:52<18:25,  1.29s/batch, batch_loss=16.9, batch_index=134, batch_size=256]"
     ]
    },
    {
     "name": "stderr",
     "output_type": "stream",
     "text": [
      "\r",
      "Epoch 1/10:  14%|███████████████████████▊                                                                                                                                                        | 134/991 [02:53<18:25,  1.29s/batch, batch_loss=45.5, batch_index=135, batch_size=256]"
     ]
    },
    {
     "name": "stderr",
     "output_type": "stream",
     "text": [
      "\r",
      "Epoch 1/10:  14%|███████████████████████▉                                                                                                                                                        | 135/991 [02:53<18:22,  1.29s/batch, batch_loss=45.5, batch_index=135, batch_size=256]"
     ]
    },
    {
     "name": "stderr",
     "output_type": "stream",
     "text": [
      "\r",
      "Epoch 1/10:  14%|███████████████████████▉                                                                                                                                                        | 135/991 [02:55<18:22,  1.29s/batch, batch_loss=19.3, batch_index=136, batch_size=256]"
     ]
    },
    {
     "name": "stderr",
     "output_type": "stream",
     "text": [
      "\r",
      "Epoch 1/10:  14%|████████████████████████▏                                                                                                                                                       | 136/991 [02:55<18:24,  1.29s/batch, batch_loss=19.3, batch_index=136, batch_size=256]"
     ]
    },
    {
     "name": "stderr",
     "output_type": "stream",
     "text": [
      "\r",
      "Epoch 1/10:  14%|████████████████████████▏                                                                                                                                                       | 136/991 [02:56<18:24,  1.29s/batch, batch_loss=15.8, batch_index=137, batch_size=256]"
     ]
    },
    {
     "name": "stderr",
     "output_type": "stream",
     "text": [
      "\r",
      "Epoch 1/10:  14%|████████████████████████▎                                                                                                                                                       | 137/991 [02:56<18:23,  1.29s/batch, batch_loss=15.8, batch_index=137, batch_size=256]"
     ]
    },
    {
     "name": "stderr",
     "output_type": "stream",
     "text": [
      "\r",
      "Epoch 1/10:  14%|████████████████████████▎                                                                                                                                                       | 137/991 [02:57<18:23,  1.29s/batch, batch_loss=20.5, batch_index=138, batch_size=256]"
     ]
    },
    {
     "name": "stderr",
     "output_type": "stream",
     "text": [
      "\r",
      "Epoch 1/10:  14%|████████████████████████▌                                                                                                                                                       | 138/991 [02:57<18:20,  1.29s/batch, batch_loss=20.5, batch_index=138, batch_size=256]"
     ]
    },
    {
     "name": "stderr",
     "output_type": "stream",
     "text": [
      "\r",
      "Epoch 1/10:  14%|████████████████████████▌                                                                                                                                                       | 138/991 [02:59<18:20,  1.29s/batch, batch_loss=11.4, batch_index=139, batch_size=256]"
     ]
    },
    {
     "name": "stderr",
     "output_type": "stream",
     "text": [
      "\r",
      "Epoch 1/10:  14%|████████████████████████▋                                                                                                                                                       | 139/991 [02:59<18:03,  1.27s/batch, batch_loss=11.4, batch_index=139, batch_size=256]"
     ]
    },
    {
     "name": "stderr",
     "output_type": "stream",
     "text": [
      "\r",
      "Epoch 1/10:  14%|████████████████████████▉                                                                                                                                                         | 139/991 [03:00<18:03,  1.27s/batch, batch_loss=15, batch_index=140, batch_size=256]"
     ]
    },
    {
     "name": "stderr",
     "output_type": "stream",
     "text": [
      "\r",
      "Epoch 1/10:  14%|█████████████████████████▏                                                                                                                                                        | 140/991 [03:00<18:07,  1.28s/batch, batch_loss=15, batch_index=140, batch_size=256]"
     ]
    },
    {
     "name": "stderr",
     "output_type": "stream",
     "text": [
      "\r",
      "Epoch 1/10:  14%|████████████████████████▊                                                                                                                                                       | 140/991 [03:01<18:07,  1.28s/batch, batch_loss=8.31, batch_index=141, batch_size=256]"
     ]
    },
    {
     "name": "stderr",
     "output_type": "stream",
     "text": [
      "\r",
      "Epoch 1/10:  14%|█████████████████████████                                                                                                                                                       | 141/991 [03:01<18:12,  1.29s/batch, batch_loss=8.31, batch_index=141, batch_size=256]"
     ]
    },
    {
     "name": "stderr",
     "output_type": "stream",
     "text": [
      "\r",
      "Epoch 1/10:  14%|█████████████████████████                                                                                                                                                       | 141/991 [03:02<18:12,  1.29s/batch, batch_loss=7.81, batch_index=142, batch_size=256]"
     ]
    },
    {
     "name": "stderr",
     "output_type": "stream",
     "text": [
      "\r",
      "Epoch 1/10:  14%|█████████████████████████▏                                                                                                                                                      | 142/991 [03:02<18:13,  1.29s/batch, batch_loss=7.81, batch_index=142, batch_size=256]"
     ]
    },
    {
     "name": "stderr",
     "output_type": "stream",
     "text": [
      "\r",
      "Epoch 1/10:  14%|█████████████████████████▏                                                                                                                                                      | 142/991 [03:04<18:13,  1.29s/batch, batch_loss=14.3, batch_index=143, batch_size=256]"
     ]
    },
    {
     "name": "stderr",
     "output_type": "stream",
     "text": [
      "\r",
      "Epoch 1/10:  14%|█████████████████████████▍                                                                                                                                                      | 143/991 [03:04<18:14,  1.29s/batch, batch_loss=14.3, batch_index=143, batch_size=256]"
     ]
    },
    {
     "name": "stderr",
     "output_type": "stream",
     "text": [
      "\r",
      "Epoch 1/10:  14%|█████████████████████████▍                                                                                                                                                      | 143/991 [03:05<18:14,  1.29s/batch, batch_loss=32.6, batch_index=144, batch_size=256]"
     ]
    },
    {
     "name": "stderr",
     "output_type": "stream",
     "text": [
      "\r",
      "Epoch 1/10:  15%|█████████████████████████▌                                                                                                                                                      | 144/991 [03:05<17:46,  1.26s/batch, batch_loss=32.6, batch_index=144, batch_size=256]"
     ]
    },
    {
     "name": "stderr",
     "output_type": "stream",
     "text": [
      "\r",
      "Epoch 1/10:  15%|█████████████████████████▌                                                                                                                                                      | 144/991 [03:06<17:46,  1.26s/batch, batch_loss=25.7, batch_index=145, batch_size=256]"
     ]
    },
    {
     "name": "stderr",
     "output_type": "stream",
     "text": [
      "\r",
      "Epoch 1/10:  15%|█████████████████████████▊                                                                                                                                                      | 145/991 [03:06<17:53,  1.27s/batch, batch_loss=25.7, batch_index=145, batch_size=256]"
     ]
    },
    {
     "name": "stderr",
     "output_type": "stream",
     "text": [
      "\r",
      "Epoch 1/10:  15%|█████████████████████████▊                                                                                                                                                      | 145/991 [03:08<17:53,  1.27s/batch, batch_loss=22.8, batch_index=146, batch_size=256]"
     ]
    },
    {
     "name": "stderr",
     "output_type": "stream",
     "text": [
      "\r",
      "Epoch 1/10:  15%|█████████████████████████▉                                                                                                                                                      | 146/991 [03:08<17:56,  1.27s/batch, batch_loss=22.8, batch_index=146, batch_size=256]"
     ]
    },
    {
     "name": "stderr",
     "output_type": "stream",
     "text": [
      "\r",
      "Epoch 1/10:  15%|█████████████████████████▉                                                                                                                                                      | 146/991 [03:09<17:56,  1.27s/batch, batch_loss=10.8, batch_index=147, batch_size=256]"
     ]
    },
    {
     "name": "stderr",
     "output_type": "stream",
     "text": [
      "\r",
      "Epoch 1/10:  15%|██████████████████████████                                                                                                                                                      | 147/991 [03:09<18:02,  1.28s/batch, batch_loss=10.8, batch_index=147, batch_size=256]"
     ]
    },
    {
     "name": "stderr",
     "output_type": "stream",
     "text": [
      "\r",
      "Epoch 1/10:  15%|██████████████████████████                                                                                                                                                      | 147/991 [03:10<18:02,  1.28s/batch, batch_loss=38.9, batch_index=148, batch_size=256]"
     ]
    },
    {
     "name": "stderr",
     "output_type": "stream",
     "text": [
      "\r",
      "Epoch 1/10:  15%|██████████████████████████▎                                                                                                                                                     | 148/991 [03:10<18:05,  1.29s/batch, batch_loss=38.9, batch_index=148, batch_size=256]"
     ]
    },
    {
     "name": "stderr",
     "output_type": "stream",
     "text": [
      "\r",
      "Epoch 1/10:  15%|██████████████████████████▎                                                                                                                                                     | 148/991 [03:11<18:05,  1.29s/batch, batch_loss=26.3, batch_index=149, batch_size=256]"
     ]
    },
    {
     "name": "stderr",
     "output_type": "stream",
     "text": [
      "\r",
      "Epoch 1/10:  15%|██████████████████████████▍                                                                                                                                                     | 149/991 [03:11<18:03,  1.29s/batch, batch_loss=26.3, batch_index=149, batch_size=256]"
     ]
    },
    {
     "name": "stderr",
     "output_type": "stream",
     "text": [
      "\r",
      "Epoch 1/10:  15%|██████████████████████████▍                                                                                                                                                     | 149/991 [03:13<18:03,  1.29s/batch, batch_loss=20.7, batch_index=150, batch_size=256]"
     ]
    },
    {
     "name": "stderr",
     "output_type": "stream",
     "text": [
      "\r",
      "Epoch 1/10:  15%|██████████████████████████▋                                                                                                                                                     | 150/991 [03:13<18:05,  1.29s/batch, batch_loss=20.7, batch_index=150, batch_size=256]"
     ]
    },
    {
     "name": "stderr",
     "output_type": "stream",
     "text": [
      "\r",
      "Epoch 1/10:  15%|██████████████████████████▉                                                                                                                                                       | 150/991 [03:14<18:05,  1.29s/batch, batch_loss=32, batch_index=151, batch_size=256]"
     ]
    },
    {
     "name": "stderr",
     "output_type": "stream",
     "text": [
      "\r",
      "Epoch 1/10:  15%|███████████████████████████                                                                                                                                                       | 151/991 [03:14<18:03,  1.29s/batch, batch_loss=32, batch_index=151, batch_size=256]"
     ]
    },
    {
     "name": "stderr",
     "output_type": "stream",
     "text": [
      "\r",
      "Epoch 1/10:  15%|██████████████████████████▊                                                                                                                                                     | 151/991 [03:15<18:03,  1.29s/batch, batch_loss=22.2, batch_index=152, batch_size=256]"
     ]
    },
    {
     "name": "stderr",
     "output_type": "stream",
     "text": [
      "\r",
      "Epoch 1/10:  15%|██████████████████████████▉                                                                                                                                                     | 152/991 [03:15<18:04,  1.29s/batch, batch_loss=22.2, batch_index=152, batch_size=256]"
     ]
    },
    {
     "name": "stderr",
     "output_type": "stream",
     "text": [
      "\r",
      "Epoch 1/10:  15%|███████████████████████████▎                                                                                                                                                      | 152/991 [03:17<18:04,  1.29s/batch, batch_loss=34, batch_index=153, batch_size=256]"
     ]
    },
    {
     "name": "stderr",
     "output_type": "stream",
     "text": [
      "\r",
      "Epoch 1/10:  15%|███████████████████████████▍                                                                                                                                                      | 153/991 [03:17<18:05,  1.29s/batch, batch_loss=34, batch_index=153, batch_size=256]"
     ]
    },
    {
     "name": "stderr",
     "output_type": "stream",
     "text": [
      "\r",
      "Epoch 1/10:  15%|███████████████████████████▏                                                                                                                                                    | 153/991 [03:18<18:05,  1.29s/batch, batch_loss=31.3, batch_index=154, batch_size=256]"
     ]
    },
    {
     "name": "stderr",
     "output_type": "stream",
     "text": [
      "\r",
      "Epoch 1/10:  16%|███████████████████████████▎                                                                                                                                                    | 154/991 [03:18<18:00,  1.29s/batch, batch_loss=31.3, batch_index=154, batch_size=256]"
     ]
    },
    {
     "name": "stderr",
     "output_type": "stream",
     "text": [
      "\r",
      "Epoch 1/10:  16%|███████████████████████████▎                                                                                                                                                    | 154/991 [03:19<18:00,  1.29s/batch, batch_loss=40.7, batch_index=155, batch_size=256]"
     ]
    },
    {
     "name": "stderr",
     "output_type": "stream",
     "text": [
      "\r",
      "Epoch 1/10:  16%|███████████████████████████▌                                                                                                                                                    | 155/991 [03:19<17:58,  1.29s/batch, batch_loss=40.7, batch_index=155, batch_size=256]"
     ]
    },
    {
     "name": "stderr",
     "output_type": "stream",
     "text": [
      "\r",
      "Epoch 1/10:  16%|███████████████████████████▌                                                                                                                                                    | 155/991 [03:20<17:58,  1.29s/batch, batch_loss=11.3, batch_index=156, batch_size=256]"
     ]
    },
    {
     "name": "stderr",
     "output_type": "stream",
     "text": [
      "\r",
      "Epoch 1/10:  16%|███████████████████████████▋                                                                                                                                                    | 156/991 [03:20<17:56,  1.29s/batch, batch_loss=11.3, batch_index=156, batch_size=256]"
     ]
    },
    {
     "name": "stderr",
     "output_type": "stream",
     "text": [
      "\r",
      "Epoch 1/10:  16%|███████████████████████████▋                                                                                                                                                    | 156/991 [03:22<17:56,  1.29s/batch, batch_loss=43.6, batch_index=157, batch_size=256]"
     ]
    },
    {
     "name": "stderr",
     "output_type": "stream",
     "text": [
      "\r",
      "Epoch 1/10:  16%|███████████████████████████▉                                                                                                                                                    | 157/991 [03:22<17:59,  1.29s/batch, batch_loss=43.6, batch_index=157, batch_size=256]"
     ]
    },
    {
     "name": "stderr",
     "output_type": "stream",
     "text": [
      "\r",
      "Epoch 1/10:  16%|███████████████████████████▉                                                                                                                                                    | 157/991 [03:23<17:59,  1.29s/batch, batch_loss=17.6, batch_index=158, batch_size=256]"
     ]
    },
    {
     "name": "stderr",
     "output_type": "stream",
     "text": [
      "\r",
      "Epoch 1/10:  16%|████████████████████████████                                                                                                                                                    | 158/991 [03:23<17:56,  1.29s/batch, batch_loss=17.6, batch_index=158, batch_size=256]"
     ]
    },
    {
     "name": "stderr",
     "output_type": "stream",
     "text": [
      "\r",
      "Epoch 1/10:  16%|████████████████████████████                                                                                                                                                    | 158/991 [03:24<17:56,  1.29s/batch, batch_loss=11.9, batch_index=159, batch_size=256]"
     ]
    },
    {
     "name": "stderr",
     "output_type": "stream",
     "text": [
      "\r",
      "Epoch 1/10:  16%|████████████████████████████▏                                                                                                                                                   | 159/991 [03:24<17:54,  1.29s/batch, batch_loss=11.9, batch_index=159, batch_size=256]"
     ]
    },
    {
     "name": "stderr",
     "output_type": "stream",
     "text": [
      "\r",
      "Epoch 1/10:  16%|████████████████████████████▏                                                                                                                                                   | 159/991 [03:26<17:54,  1.29s/batch, batch_loss=14.4, batch_index=160, batch_size=256]"
     ]
    },
    {
     "name": "stderr",
     "output_type": "stream",
     "text": [
      "\r",
      "Epoch 1/10:  16%|████████████████████████████▍                                                                                                                                                   | 160/991 [03:26<17:54,  1.29s/batch, batch_loss=14.4, batch_index=160, batch_size=256]"
     ]
    },
    {
     "name": "stderr",
     "output_type": "stream",
     "text": [
      "\r",
      "Epoch 1/10:  16%|████████████████████████████▌                                                                                                                                                    | 160/991 [03:27<17:54,  1.29s/batch, batch_loss=468, batch_index=161, batch_size=256]"
     ]
    },
    {
     "name": "stderr",
     "output_type": "stream",
     "text": [
      "\r",
      "Epoch 1/10:  16%|████████████████████████████▊                                                                                                                                                    | 161/991 [03:27<17:53,  1.29s/batch, batch_loss=468, batch_index=161, batch_size=256]"
     ]
    },
    {
     "name": "stderr",
     "output_type": "stream",
     "text": [
      "\r",
      "Epoch 1/10:  16%|████████████████████████████▌                                                                                                                                                   | 161/991 [03:28<17:53,  1.29s/batch, batch_loss=29.7, batch_index=162, batch_size=256]"
     ]
    },
    {
     "name": "stderr",
     "output_type": "stream",
     "text": [
      "\r",
      "Epoch 1/10:  16%|████████████████████████████▊                                                                                                                                                   | 162/991 [03:28<17:51,  1.29s/batch, batch_loss=29.7, batch_index=162, batch_size=256]"
     ]
    },
    {
     "name": "stderr",
     "output_type": "stream",
     "text": [
      "\r",
      "Epoch 1/10:  16%|████████████████████████████▊                                                                                                                                                   | 162/991 [03:30<17:51,  1.29s/batch, batch_loss=9.41, batch_index=163, batch_size=256]"
     ]
    },
    {
     "name": "stderr",
     "output_type": "stream",
     "text": [
      "\r",
      "Epoch 1/10:  16%|████████████████████████████▉                                                                                                                                                   | 163/991 [03:30<17:50,  1.29s/batch, batch_loss=9.41, batch_index=163, batch_size=256]"
     ]
    },
    {
     "name": "stderr",
     "output_type": "stream",
     "text": [
      "\r",
      "Epoch 1/10:  16%|████████████████████████████▉                                                                                                                                                   | 163/991 [03:31<17:50,  1.29s/batch, batch_loss=19.3, batch_index=164, batch_size=256]"
     ]
    },
    {
     "name": "stderr",
     "output_type": "stream",
     "text": [
      "\r",
      "Epoch 1/10:  17%|█████████████████████████████▏                                                                                                                                                  | 164/991 [03:31<17:50,  1.29s/batch, batch_loss=19.3, batch_index=164, batch_size=256]"
     ]
    },
    {
     "name": "stderr",
     "output_type": "stream",
     "text": [
      "\r",
      "Epoch 1/10:  17%|█████████████████████████████▏                                                                                                                                                  | 164/991 [03:32<17:50,  1.29s/batch, batch_loss=22.6, batch_index=165, batch_size=256]"
     ]
    },
    {
     "name": "stderr",
     "output_type": "stream",
     "text": [
      "\r",
      "Epoch 1/10:  17%|█████████████████████████████▎                                                                                                                                                  | 165/991 [03:32<17:46,  1.29s/batch, batch_loss=22.6, batch_index=165, batch_size=256]"
     ]
    },
    {
     "name": "stderr",
     "output_type": "stream",
     "text": [
      "\r",
      "Epoch 1/10:  17%|█████████████████████████████▎                                                                                                                                                  | 165/991 [03:33<17:46,  1.29s/batch, batch_loss=14.5, batch_index=166, batch_size=256]"
     ]
    },
    {
     "name": "stderr",
     "output_type": "stream",
     "text": [
      "\r",
      "Epoch 1/10:  17%|█████████████████████████████▍                                                                                                                                                  | 166/991 [03:33<17:31,  1.27s/batch, batch_loss=14.5, batch_index=166, batch_size=256]"
     ]
    },
    {
     "name": "stderr",
     "output_type": "stream",
     "text": [
      "\r",
      "Epoch 1/10:  17%|█████████████████████████████▍                                                                                                                                                  | 166/991 [03:35<17:31,  1.27s/batch, batch_loss=42.9, batch_index=167, batch_size=256]"
     ]
    },
    {
     "name": "stderr",
     "output_type": "stream",
     "text": [
      "\r",
      "Epoch 1/10:  17%|█████████████████████████████▋                                                                                                                                                  | 167/991 [03:35<17:34,  1.28s/batch, batch_loss=42.9, batch_index=167, batch_size=256]"
     ]
    },
    {
     "name": "stderr",
     "output_type": "stream",
     "text": [
      "\r",
      "Epoch 1/10:  17%|█████████████████████████████▋                                                                                                                                                  | 167/991 [03:36<17:34,  1.28s/batch, batch_loss=24.9, batch_index=168, batch_size=256]"
     ]
    },
    {
     "name": "stderr",
     "output_type": "stream",
     "text": [
      "\r",
      "Epoch 1/10:  17%|█████████████████████████████▊                                                                                                                                                  | 168/991 [03:36<17:33,  1.28s/batch, batch_loss=24.9, batch_index=168, batch_size=256]"
     ]
    },
    {
     "name": "stderr",
     "output_type": "stream",
     "text": [
      "\r",
      "Epoch 1/10:  17%|█████████████████████████████▊                                                                                                                                                  | 168/991 [03:37<17:33,  1.28s/batch, batch_loss=27.4, batch_index=169, batch_size=256]"
     ]
    },
    {
     "name": "stderr",
     "output_type": "stream",
     "text": [
      "\r",
      "Epoch 1/10:  17%|██████████████████████████████                                                                                                                                                  | 169/991 [03:37<17:37,  1.29s/batch, batch_loss=27.4, batch_index=169, batch_size=256]"
     ]
    },
    {
     "name": "stderr",
     "output_type": "stream",
     "text": [
      "\r",
      "Epoch 1/10:  17%|██████████████████████████████                                                                                                                                                  | 169/991 [03:39<17:37,  1.29s/batch, batch_loss=14.3, batch_index=170, batch_size=256]"
     ]
    },
    {
     "name": "stderr",
     "output_type": "stream",
     "text": [
      "\r",
      "Epoch 1/10:  17%|██████████████████████████████▏                                                                                                                                                 | 170/991 [03:39<17:41,  1.29s/batch, batch_loss=14.3, batch_index=170, batch_size=256]"
     ]
    },
    {
     "name": "stderr",
     "output_type": "stream",
     "text": [
      "\r",
      "Epoch 1/10:  17%|██████████████████████████████▏                                                                                                                                                 | 170/991 [03:40<17:41,  1.29s/batch, batch_loss=10.6, batch_index=171, batch_size=256]"
     ]
    },
    {
     "name": "stderr",
     "output_type": "stream",
     "text": [
      "\r",
      "Epoch 1/10:  17%|██████████████████████████████▎                                                                                                                                                 | 171/991 [03:40<17:44,  1.30s/batch, batch_loss=10.6, batch_index=171, batch_size=256]"
     ]
    },
    {
     "name": "stderr",
     "output_type": "stream",
     "text": [
      "\r",
      "Epoch 1/10:  17%|██████████████████████████████▎                                                                                                                                                 | 171/991 [03:41<17:44,  1.30s/batch, batch_loss=15.8, batch_index=172, batch_size=256]"
     ]
    },
    {
     "name": "stderr",
     "output_type": "stream",
     "text": [
      "\r",
      "Epoch 1/10:  17%|██████████████████████████████▌                                                                                                                                                 | 172/991 [03:41<17:40,  1.29s/batch, batch_loss=15.8, batch_index=172, batch_size=256]"
     ]
    },
    {
     "name": "stderr",
     "output_type": "stream",
     "text": [
      "\r",
      "Epoch 1/10:  17%|██████████████████████████████▌                                                                                                                                                 | 172/991 [03:42<17:40,  1.29s/batch, batch_loss=12.4, batch_index=173, batch_size=256]"
     ]
    },
    {
     "name": "stderr",
     "output_type": "stream",
     "text": [
      "\r",
      "Epoch 1/10:  17%|██████████████████████████████▋                                                                                                                                                 | 173/991 [03:42<17:40,  1.30s/batch, batch_loss=12.4, batch_index=173, batch_size=256]"
     ]
    },
    {
     "name": "stderr",
     "output_type": "stream",
     "text": [
      "\r",
      "Epoch 1/10:  17%|██████████████████████████████▏                                                                                                                                              | 173/991 [03:44<17:40,  1.30s/batch, batch_loss=3.02e+4, batch_index=174, batch_size=256]"
     ]
    },
    {
     "name": "stderr",
     "output_type": "stream",
     "text": [
      "\r",
      "Epoch 1/10:  18%|██████████████████████████████▍                                                                                                                                              | 174/991 [03:44<17:34,  1.29s/batch, batch_loss=3.02e+4, batch_index=174, batch_size=256]"
     ]
    },
    {
     "name": "stderr",
     "output_type": "stream",
     "text": [
      "\r",
      "Epoch 1/10:  18%|██████████████████████████████▉                                                                                                                                                 | 174/991 [03:45<17:34,  1.29s/batch, batch_loss=35.3, batch_index=175, batch_size=256]"
     ]
    },
    {
     "name": "stderr",
     "output_type": "stream",
     "text": [
      "\r",
      "Epoch 1/10:  18%|███████████████████████████████                                                                                                                                                 | 175/991 [03:45<17:34,  1.29s/batch, batch_loss=35.3, batch_index=175, batch_size=256]"
     ]
    },
    {
     "name": "stderr",
     "output_type": "stream",
     "text": [
      "\r",
      "Epoch 1/10:  18%|███████████████████████████████                                                                                                                                                 | 175/991 [03:46<17:34,  1.29s/batch, batch_loss=63.5, batch_index=176, batch_size=256]"
     ]
    },
    {
     "name": "stderr",
     "output_type": "stream",
     "text": [
      "\r",
      "Epoch 1/10:  18%|███████████████████████████████▎                                                                                                                                                | 176/991 [03:46<17:35,  1.29s/batch, batch_loss=63.5, batch_index=176, batch_size=256]"
     ]
    },
    {
     "name": "stderr",
     "output_type": "stream",
     "text": [
      "\r",
      "Epoch 1/10:  18%|███████████████████████████████▎                                                                                                                                                | 176/991 [03:48<17:35,  1.29s/batch, batch_loss=54.9, batch_index=177, batch_size=256]"
     ]
    },
    {
     "name": "stderr",
     "output_type": "stream",
     "text": [
      "\r",
      "Epoch 1/10:  18%|███████████████████████████████▍                                                                                                                                                | 177/991 [03:48<17:33,  1.29s/batch, batch_loss=54.9, batch_index=177, batch_size=256]"
     ]
    },
    {
     "name": "stderr",
     "output_type": "stream",
     "text": [
      "\r",
      "Epoch 1/10:  18%|███████████████████████████████▍                                                                                                                                                | 177/991 [03:49<17:33,  1.29s/batch, batch_loss=41.3, batch_index=178, batch_size=256]"
     ]
    },
    {
     "name": "stderr",
     "output_type": "stream",
     "text": [
      "\r",
      "Epoch 1/10:  18%|███████████████████████████████▌                                                                                                                                                | 178/991 [03:49<17:33,  1.30s/batch, batch_loss=41.3, batch_index=178, batch_size=256]"
     ]
    },
    {
     "name": "stderr",
     "output_type": "stream",
     "text": [
      "\r",
      "Epoch 1/10:  18%|███████████████████████████████▌                                                                                                                                                | 178/991 [03:50<17:33,  1.30s/batch, batch_loss=21.9, batch_index=179, batch_size=256]"
     ]
    },
    {
     "name": "stderr",
     "output_type": "stream",
     "text": [
      "\r",
      "Epoch 1/10:  18%|███████████████████████████████▊                                                                                                                                                | 179/991 [03:50<17:33,  1.30s/batch, batch_loss=21.9, batch_index=179, batch_size=256]"
     ]
    },
    {
     "name": "stderr",
     "output_type": "stream",
     "text": [
      "\r",
      "Epoch 1/10:  18%|███████████████████████████████▊                                                                                                                                                | 179/991 [03:51<17:33,  1.30s/batch, batch_loss=10.8, batch_index=180, batch_size=256]"
     ]
    },
    {
     "name": "stderr",
     "output_type": "stream",
     "text": [
      "\r",
      "Epoch 1/10:  18%|███████████████████████████████▉                                                                                                                                                | 180/991 [03:51<17:29,  1.29s/batch, batch_loss=10.8, batch_index=180, batch_size=256]"
     ]
    },
    {
     "name": "stderr",
     "output_type": "stream",
     "text": [
      "\r",
      "Epoch 1/10:  18%|███████████████████████████████▍                                                                                                                                             | 180/991 [03:53<17:29,  1.29s/batch, batch_loss=2.52e+4, batch_index=181, batch_size=256]"
     ]
    },
    {
     "name": "stderr",
     "output_type": "stream",
     "text": [
      "\r",
      "Epoch 1/10:  18%|███████████████████████████████▌                                                                                                                                             | 181/991 [03:53<17:27,  1.29s/batch, batch_loss=2.52e+4, batch_index=181, batch_size=256]"
     ]
    },
    {
     "name": "stderr",
     "output_type": "stream",
     "text": [
      "\r",
      "Epoch 1/10:  18%|████████████████████████████████▏                                                                                                                                               | 181/991 [03:54<17:27,  1.29s/batch, batch_loss=16.3, batch_index=182, batch_size=256]"
     ]
    },
    {
     "name": "stderr",
     "output_type": "stream",
     "text": [
      "\r",
      "Epoch 1/10:  18%|████████████████████████████████▎                                                                                                                                               | 182/991 [03:54<17:25,  1.29s/batch, batch_loss=16.3, batch_index=182, batch_size=256]"
     ]
    },
    {
     "name": "stderr",
     "output_type": "stream",
     "text": [
      "\r",
      "Epoch 1/10:  18%|████████████████████████████████▎                                                                                                                                               | 182/991 [03:55<17:25,  1.29s/batch, batch_loss=26.4, batch_index=183, batch_size=256]"
     ]
    },
    {
     "name": "stderr",
     "output_type": "stream",
     "text": [
      "\r",
      "Epoch 1/10:  18%|████████████████████████████████▌                                                                                                                                               | 183/991 [03:55<17:22,  1.29s/batch, batch_loss=26.4, batch_index=183, batch_size=256]"
     ]
    },
    {
     "name": "stderr",
     "output_type": "stream",
     "text": [
      "\r",
      "Epoch 1/10:  18%|████████████████████████████████▊                                                                                                                                                 | 183/991 [03:57<17:22,  1.29s/batch, batch_loss=25, batch_index=184, batch_size=256]"
     ]
    },
    {
     "name": "stderr",
     "output_type": "stream",
     "text": [
      "\r",
      "Epoch 1/10:  19%|█████████████████████████████████                                                                                                                                                 | 184/991 [03:57<17:21,  1.29s/batch, batch_loss=25, batch_index=184, batch_size=256]"
     ]
    },
    {
     "name": "stderr",
     "output_type": "stream",
     "text": [
      "\r",
      "Epoch 1/10:  19%|████████████████████████████████▋                                                                                                                                               | 184/991 [03:58<17:21,  1.29s/batch, batch_loss=26.8, batch_index=185, batch_size=256]"
     ]
    },
    {
     "name": "stderr",
     "output_type": "stream",
     "text": [
      "\r",
      "Epoch 1/10:  19%|████████████████████████████████▊                                                                                                                                               | 185/991 [03:58<17:20,  1.29s/batch, batch_loss=26.8, batch_index=185, batch_size=256]"
     ]
    },
    {
     "name": "stderr",
     "output_type": "stream",
     "text": [
      "\r",
      "Epoch 1/10:  19%|████████████████████████████████▊                                                                                                                                               | 185/991 [03:59<17:20,  1.29s/batch, batch_loss=22.4, batch_index=186, batch_size=256]"
     ]
    },
    {
     "name": "stderr",
     "output_type": "stream",
     "text": [
      "\r",
      "Epoch 1/10:  19%|█████████████████████████████████                                                                                                                                               | 186/991 [03:59<17:19,  1.29s/batch, batch_loss=22.4, batch_index=186, batch_size=256]"
     ]
    },
    {
     "name": "stderr",
     "output_type": "stream",
     "text": [
      "\r",
      "Epoch 1/10:  19%|█████████████████████████████████                                                                                                                                               | 186/991 [04:00<17:19,  1.29s/batch, batch_loss=17.6, batch_index=187, batch_size=256]"
     ]
    },
    {
     "name": "stderr",
     "output_type": "stream",
     "text": [
      "\r",
      "Epoch 1/10:  19%|█████████████████████████████████▏                                                                                                                                              | 187/991 [04:00<17:19,  1.29s/batch, batch_loss=17.6, batch_index=187, batch_size=256]"
     ]
    },
    {
     "name": "stderr",
     "output_type": "stream",
     "text": [
      "\r",
      "Epoch 1/10:  19%|█████████████████████████████████▏                                                                                                                                              | 187/991 [04:02<17:19,  1.29s/batch, batch_loss=19.1, batch_index=188, batch_size=256]"
     ]
    },
    {
     "name": "stderr",
     "output_type": "stream",
     "text": [
      "\r",
      "Epoch 1/10:  19%|█████████████████████████████████▍                                                                                                                                              | 188/991 [04:02<17:19,  1.29s/batch, batch_loss=19.1, batch_index=188, batch_size=256]"
     ]
    },
    {
     "name": "stderr",
     "output_type": "stream",
     "text": [
      "\r",
      "Epoch 1/10:  19%|█████████████████████████████████▍                                                                                                                                              | 188/991 [04:03<17:19,  1.29s/batch, batch_loss=33.3, batch_index=189, batch_size=256]"
     ]
    },
    {
     "name": "stderr",
     "output_type": "stream",
     "text": [
      "\r",
      "Epoch 1/10:  19%|█████████████████████████████████▌                                                                                                                                              | 189/991 [04:03<17:16,  1.29s/batch, batch_loss=33.3, batch_index=189, batch_size=256]"
     ]
    },
    {
     "name": "stderr",
     "output_type": "stream",
     "text": [
      "\r",
      "Epoch 1/10:  19%|█████████████████████████████████▌                                                                                                                                              | 189/991 [04:04<17:16,  1.29s/batch, batch_loss=32.3, batch_index=190, batch_size=256]"
     ]
    },
    {
     "name": "stderr",
     "output_type": "stream",
     "text": [
      "\r",
      "Epoch 1/10:  19%|█████████████████████████████████▋                                                                                                                                              | 190/991 [04:04<17:15,  1.29s/batch, batch_loss=32.3, batch_index=190, batch_size=256]"
     ]
    },
    {
     "name": "stderr",
     "output_type": "stream",
     "text": [
      "\r",
      "Epoch 1/10:  19%|█████████████████████████████████▋                                                                                                                                              | 190/991 [04:06<17:15,  1.29s/batch, batch_loss=30.7, batch_index=191, batch_size=256]"
     ]
    },
    {
     "name": "stderr",
     "output_type": "stream",
     "text": [
      "\r",
      "Epoch 1/10:  19%|█████████████████████████████████▉                                                                                                                                              | 191/991 [04:06<17:16,  1.30s/batch, batch_loss=30.7, batch_index=191, batch_size=256]"
     ]
    },
    {
     "name": "stderr",
     "output_type": "stream",
     "text": [
      "\r",
      "Epoch 1/10:  19%|█████████████████████████████████▉                                                                                                                                              | 191/991 [04:07<17:16,  1.30s/batch, batch_loss=26.8, batch_index=192, batch_size=256]"
     ]
    },
    {
     "name": "stderr",
     "output_type": "stream",
     "text": [
      "\r",
      "Epoch 1/10:  19%|██████████████████████████████████                                                                                                                                              | 192/991 [04:07<17:12,  1.29s/batch, batch_loss=26.8, batch_index=192, batch_size=256]"
     ]
    },
    {
     "name": "stderr",
     "output_type": "stream",
     "text": [
      "\r",
      "Epoch 1/10:  19%|██████████████████████████████████                                                                                                                                              | 192/991 [04:08<17:12,  1.29s/batch, batch_loss=30.5, batch_index=193, batch_size=256]"
     ]
    },
    {
     "name": "stderr",
     "output_type": "stream",
     "text": [
      "\r",
      "Epoch 1/10:  19%|██████████████████████████████████▎                                                                                                                                             | 193/991 [04:08<16:57,  1.27s/batch, batch_loss=30.5, batch_index=193, batch_size=256]"
     ]
    },
    {
     "name": "stderr",
     "output_type": "stream",
     "text": [
      "\r",
      "Epoch 1/10:  19%|██████████████████████████████████▎                                                                                                                                             | 193/991 [04:09<16:57,  1.27s/batch, batch_loss=13.9, batch_index=194, batch_size=256]"
     ]
    },
    {
     "name": "stderr",
     "output_type": "stream",
     "text": [
      "\r",
      "Epoch 1/10:  20%|██████████████████████████████████▍                                                                                                                                             | 194/991 [04:09<16:55,  1.27s/batch, batch_loss=13.9, batch_index=194, batch_size=256]"
     ]
    },
    {
     "name": "stderr",
     "output_type": "stream",
     "text": [
      "\r",
      "Epoch 1/10:  20%|██████████████████████████████████▍                                                                                                                                             | 194/991 [04:11<16:55,  1.27s/batch, batch_loss=11.2, batch_index=195, batch_size=256]"
     ]
    },
    {
     "name": "stderr",
     "output_type": "stream",
     "text": [
      "\r",
      "Epoch 1/10:  20%|██████████████████████████████████▋                                                                                                                                             | 195/991 [04:11<17:01,  1.28s/batch, batch_loss=11.2, batch_index=195, batch_size=256]"
     ]
    },
    {
     "name": "stderr",
     "output_type": "stream",
     "text": [
      "\r",
      "Epoch 1/10:  20%|██████████████████████████████████▋                                                                                                                                             | 195/991 [04:12<17:01,  1.28s/batch, batch_loss=15.2, batch_index=196, batch_size=256]"
     ]
    },
    {
     "name": "stderr",
     "output_type": "stream",
     "text": [
      "\r",
      "Epoch 1/10:  20%|██████████████████████████████████▊                                                                                                                                             | 196/991 [04:12<17:02,  1.29s/batch, batch_loss=15.2, batch_index=196, batch_size=256]"
     ]
    },
    {
     "name": "stderr",
     "output_type": "stream",
     "text": [
      "\r",
      "Epoch 1/10:  20%|██████████████████████████████████▊                                                                                                                                             | 196/991 [04:13<17:02,  1.29s/batch, batch_loss=18.5, batch_index=197, batch_size=256]"
     ]
    },
    {
     "name": "stderr",
     "output_type": "stream",
     "text": [
      "\r",
      "Epoch 1/10:  20%|██████████████████████████████████▉                                                                                                                                             | 197/991 [04:13<17:02,  1.29s/batch, batch_loss=18.5, batch_index=197, batch_size=256]"
     ]
    },
    {
     "name": "stderr",
     "output_type": "stream",
     "text": [
      "\r",
      "Epoch 1/10:  20%|██████████████████████████████████▉                                                                                                                                             | 197/991 [04:15<17:02,  1.29s/batch, batch_loss=11.8, batch_index=198, batch_size=256]"
     ]
    },
    {
     "name": "stderr",
     "output_type": "stream",
     "text": [
      "\r",
      "Epoch 1/10:  20%|███████████████████████████████████▏                                                                                                                                            | 198/991 [04:15<17:07,  1.30s/batch, batch_loss=11.8, batch_index=198, batch_size=256]"
     ]
    },
    {
     "name": "stderr",
     "output_type": "stream",
     "text": [
      "\r",
      "Epoch 1/10:  20%|███████████████████████████████████▏                                                                                                                                            | 198/991 [04:16<17:07,  1.30s/batch, batch_loss=24.6, batch_index=199, batch_size=256]"
     ]
    },
    {
     "name": "stderr",
     "output_type": "stream",
     "text": [
      "\r",
      "Epoch 1/10:  20%|███████████████████████████████████▎                                                                                                                                            | 199/991 [04:16<17:03,  1.29s/batch, batch_loss=24.6, batch_index=199, batch_size=256]"
     ]
    },
    {
     "name": "stderr",
     "output_type": "stream",
     "text": [
      "\r",
      "Epoch 1/10:  20%|███████████████████████████████████▎                                                                                                                                            | 199/991 [04:17<17:03,  1.29s/batch, batch_loss=15.7, batch_index=200, batch_size=256]"
     ]
    },
    {
     "name": "stderr",
     "output_type": "stream",
     "text": [
      "\r",
      "Epoch 1/10:  20%|███████████████████████████████████▌                                                                                                                                            | 200/991 [04:17<17:01,  1.29s/batch, batch_loss=15.7, batch_index=200, batch_size=256]"
     ]
    },
    {
     "name": "stderr",
     "output_type": "stream",
     "text": [
      "\r",
      "Epoch 1/10:  20%|███████████████████████████████████▌                                                                                                                                            | 200/991 [04:19<17:01,  1.29s/batch, batch_loss=19.7, batch_index=201, batch_size=256]"
     ]
    },
    {
     "name": "stderr",
     "output_type": "stream",
     "text": [
      "\r",
      "Epoch 1/10:  20%|███████████████████████████████████▋                                                                                                                                            | 201/991 [04:19<17:03,  1.30s/batch, batch_loss=19.7, batch_index=201, batch_size=256]"
     ]
    },
    {
     "name": "stderr",
     "output_type": "stream",
     "text": [
      "\r",
      "Epoch 1/10:  20%|███████████████████████████████████▋                                                                                                                                            | 201/991 [04:20<17:03,  1.30s/batch, batch_loss=16.2, batch_index=202, batch_size=256]"
     ]
    },
    {
     "name": "stderr",
     "output_type": "stream",
     "text": [
      "\r",
      "Epoch 1/10:  20%|███████████████████████████████████▊                                                                                                                                            | 202/991 [04:20<17:00,  1.29s/batch, batch_loss=16.2, batch_index=202, batch_size=256]"
     ]
    },
    {
     "name": "stderr",
     "output_type": "stream",
     "text": [
      "\r",
      "Epoch 1/10:  20%|███████████████████████████████████▊                                                                                                                                            | 202/991 [04:21<17:00,  1.29s/batch, batch_loss=19.4, batch_index=203, batch_size=256]"
     ]
    },
    {
     "name": "stderr",
     "output_type": "stream",
     "text": [
      "\r",
      "Epoch 1/10:  20%|████████████████████████████████████                                                                                                                                            | 203/991 [04:21<16:59,  1.29s/batch, batch_loss=19.4, batch_index=203, batch_size=256]"
     ]
    },
    {
     "name": "stderr",
     "output_type": "stream",
     "text": [
      "\r",
      "Epoch 1/10:  20%|████████████████████████████████████                                                                                                                                            | 203/991 [04:22<16:59,  1.29s/batch, batch_loss=50.2, batch_index=204, batch_size=256]"
     ]
    },
    {
     "name": "stderr",
     "output_type": "stream",
     "text": [
      "\r",
      "Epoch 1/10:  21%|████████████████████████████████████▏                                                                                                                                           | 204/991 [04:22<16:52,  1.29s/batch, batch_loss=50.2, batch_index=204, batch_size=256]"
     ]
    },
    {
     "name": "stderr",
     "output_type": "stream",
     "text": [
      "\r",
      "Epoch 1/10:  21%|████████████████████████████████████▏                                                                                                                                           | 204/991 [04:24<16:52,  1.29s/batch, batch_loss=35.9, batch_index=205, batch_size=256]"
     ]
    },
    {
     "name": "stderr",
     "output_type": "stream",
     "text": [
      "\r",
      "Epoch 1/10:  21%|████████████████████████████████████▍                                                                                                                                           | 205/991 [04:24<16:54,  1.29s/batch, batch_loss=35.9, batch_index=205, batch_size=256]"
     ]
    },
    {
     "name": "stderr",
     "output_type": "stream",
     "text": [
      "\r",
      "Epoch 1/10:  21%|████████████████████████████████████▍                                                                                                                                           | 205/991 [04:25<16:54,  1.29s/batch, batch_loss=11.8, batch_index=206, batch_size=256]"
     ]
    },
    {
     "name": "stderr",
     "output_type": "stream",
     "text": [
      "\r",
      "Epoch 1/10:  21%|████████████████████████████████████▌                                                                                                                                           | 206/991 [04:25<16:53,  1.29s/batch, batch_loss=11.8, batch_index=206, batch_size=256]"
     ]
    },
    {
     "name": "stderr",
     "output_type": "stream",
     "text": [
      "\r",
      "Epoch 1/10:  21%|████████████████████████████████████▌                                                                                                                                           | 206/991 [04:26<16:53,  1.29s/batch, batch_loss=12.3, batch_index=207, batch_size=256]"
     ]
    },
    {
     "name": "stderr",
     "output_type": "stream",
     "text": [
      "\r",
      "Epoch 1/10:  21%|████████████████████████████████████▊                                                                                                                                           | 207/991 [04:26<16:54,  1.29s/batch, batch_loss=12.3, batch_index=207, batch_size=256]"
     ]
    },
    {
     "name": "stderr",
     "output_type": "stream",
     "text": [
      "\r",
      "Epoch 1/10:  21%|████████████████████████████████████▊                                                                                                                                           | 207/991 [04:28<16:54,  1.29s/batch, batch_loss=15.4, batch_index=208, batch_size=256]"
     ]
    },
    {
     "name": "stderr",
     "output_type": "stream",
     "text": [
      "\r",
      "Epoch 1/10:  21%|████████████████████████████████████▉                                                                                                                                           | 208/991 [04:28<16:52,  1.29s/batch, batch_loss=15.4, batch_index=208, batch_size=256]"
     ]
    },
    {
     "name": "stderr",
     "output_type": "stream",
     "text": [
      "\r",
      "Epoch 1/10:  21%|████████████████████████████████████▉                                                                                                                                           | 208/991 [04:29<16:52,  1.29s/batch, batch_loss=11.4, batch_index=209, batch_size=256]"
     ]
    },
    {
     "name": "stderr",
     "output_type": "stream",
     "text": [
      "\r",
      "Epoch 1/10:  21%|█████████████████████████████████████                                                                                                                                           | 209/991 [04:29<16:49,  1.29s/batch, batch_loss=11.4, batch_index=209, batch_size=256]"
     ]
    },
    {
     "name": "stderr",
     "output_type": "stream",
     "text": [
      "\r",
      "Epoch 1/10:  21%|█████████████████████████████████████                                                                                                                                           | 209/991 [04:30<16:49,  1.29s/batch, batch_loss=32.5, batch_index=210, batch_size=256]"
     ]
    },
    {
     "name": "stderr",
     "output_type": "stream",
     "text": [
      "\r",
      "Epoch 1/10:  21%|█████████████████████████████████████▎                                                                                                                                          | 210/991 [04:30<16:49,  1.29s/batch, batch_loss=32.5, batch_index=210, batch_size=256]"
     ]
    },
    {
     "name": "stderr",
     "output_type": "stream",
     "text": [
      "\r",
      "Epoch 1/10:  21%|█████████████████████████████████████▎                                                                                                                                          | 210/991 [04:31<16:49,  1.29s/batch, batch_loss=16.1, batch_index=211, batch_size=256]"
     ]
    },
    {
     "name": "stderr",
     "output_type": "stream",
     "text": [
      "\r",
      "Epoch 1/10:  21%|█████████████████████████████████████▍                                                                                                                                          | 211/991 [04:31<16:49,  1.29s/batch, batch_loss=16.1, batch_index=211, batch_size=256]"
     ]
    },
    {
     "name": "stderr",
     "output_type": "stream",
     "text": [
      "\r",
      "Epoch 1/10:  21%|█████████████████████████████████████▍                                                                                                                                          | 211/991 [04:33<16:49,  1.29s/batch, batch_loss=31.4, batch_index=212, batch_size=256]"
     ]
    },
    {
     "name": "stderr",
     "output_type": "stream",
     "text": [
      "\r",
      "Epoch 1/10:  21%|█████████████████████████████████████▋                                                                                                                                          | 212/991 [04:33<16:53,  1.30s/batch, batch_loss=31.4, batch_index=212, batch_size=256]"
     ]
    },
    {
     "name": "stderr",
     "output_type": "stream",
     "text": [
      "\r",
      "Epoch 1/10:  21%|█████████████████████████████████████▋                                                                                                                                          | 212/991 [04:34<16:53,  1.30s/batch, batch_loss=7.51, batch_index=213, batch_size=256]"
     ]
    },
    {
     "name": "stderr",
     "output_type": "stream",
     "text": [
      "\r",
      "Epoch 1/10:  21%|█████████████████████████████████████▊                                                                                                                                          | 213/991 [04:34<16:48,  1.30s/batch, batch_loss=7.51, batch_index=213, batch_size=256]"
     ]
    },
    {
     "name": "stderr",
     "output_type": "stream",
     "text": [
      "\r",
      "Epoch 1/10:  21%|██████████████████████████████████████▎                                                                                                                                           | 213/991 [04:35<16:48,  1.30s/batch, batch_loss=19, batch_index=214, batch_size=256]"
     ]
    },
    {
     "name": "stderr",
     "output_type": "stream",
     "text": [
      "\r",
      "Epoch 1/10:  22%|██████████████████████████████████████▍                                                                                                                                           | 214/991 [04:35<16:49,  1.30s/batch, batch_loss=19, batch_index=214, batch_size=256]"
     ]
    },
    {
     "name": "stderr",
     "output_type": "stream",
     "text": [
      "\r",
      "Epoch 1/10:  22%|██████████████████████████████████████                                                                                                                                          | 214/991 [04:37<16:49,  1.30s/batch, batch_loss=26.1, batch_index=215, batch_size=256]"
     ]
    },
    {
     "name": "stderr",
     "output_type": "stream",
     "text": [
      "\r",
      "Epoch 1/10:  22%|██████████████████████████████████████▏                                                                                                                                         | 215/991 [04:37<16:47,  1.30s/batch, batch_loss=26.1, batch_index=215, batch_size=256]"
     ]
    },
    {
     "name": "stderr",
     "output_type": "stream",
     "text": [
      "\r",
      "Epoch 1/10:  22%|██████████████████████████████████████▏                                                                                                                                         | 215/991 [04:38<16:47,  1.30s/batch, batch_loss=16.5, batch_index=216, batch_size=256]"
     ]
    },
    {
     "name": "stderr",
     "output_type": "stream",
     "text": [
      "\r",
      "Epoch 1/10:  22%|██████████████████████████████████████▎                                                                                                                                         | 216/991 [04:38<16:46,  1.30s/batch, batch_loss=16.5, batch_index=216, batch_size=256]"
     ]
    },
    {
     "name": "stderr",
     "output_type": "stream",
     "text": [
      "\r",
      "Epoch 1/10:  22%|██████████████████████████████████████▎                                                                                                                                         | 216/991 [04:39<16:46,  1.30s/batch, batch_loss=23.4, batch_index=217, batch_size=256]"
     ]
    },
    {
     "name": "stderr",
     "output_type": "stream",
     "text": [
      "\r",
      "Epoch 1/10:  22%|██████████████████████████████████████▌                                                                                                                                         | 217/991 [04:39<16:42,  1.29s/batch, batch_loss=23.4, batch_index=217, batch_size=256]"
     ]
    },
    {
     "name": "stderr",
     "output_type": "stream",
     "text": [
      "\r",
      "Epoch 1/10:  22%|██████████████████████████████████████▌                                                                                                                                         | 217/991 [04:41<16:42,  1.29s/batch, batch_loss=29.5, batch_index=218, batch_size=256]"
     ]
    },
    {
     "name": "stderr",
     "output_type": "stream",
     "text": [
      "\r",
      "Epoch 1/10:  22%|██████████████████████████████████████▋                                                                                                                                         | 218/991 [04:41<16:37,  1.29s/batch, batch_loss=29.5, batch_index=218, batch_size=256]"
     ]
    },
    {
     "name": "stderr",
     "output_type": "stream",
     "text": [
      "\r",
      "Epoch 1/10:  22%|██████████████████████████████████████▋                                                                                                                                         | 218/991 [04:42<16:37,  1.29s/batch, batch_loss=38.3, batch_index=219, batch_size=256]"
     ]
    },
    {
     "name": "stderr",
     "output_type": "stream",
     "text": [
      "\r",
      "Epoch 1/10:  22%|██████████████████████████████████████▉                                                                                                                                         | 219/991 [04:42<16:34,  1.29s/batch, batch_loss=38.3, batch_index=219, batch_size=256]"
     ]
    },
    {
     "name": "stderr",
     "output_type": "stream",
     "text": [
      "\r",
      "Epoch 1/10:  22%|██████████████████████████████████████▉                                                                                                                                         | 219/991 [04:43<16:34,  1.29s/batch, batch_loss=42.2, batch_index=220, batch_size=256]"
     ]
    },
    {
     "name": "stderr",
     "output_type": "stream",
     "text": [
      "\r",
      "Epoch 1/10:  22%|███████████████████████████████████████                                                                                                                                         | 220/991 [04:43<16:17,  1.27s/batch, batch_loss=42.2, batch_index=220, batch_size=256]"
     ]
    },
    {
     "name": "stderr",
     "output_type": "stream",
     "text": [
      "\r",
      "Epoch 1/10:  22%|███████████████████████████████████████                                                                                                                                         | 220/991 [04:44<16:17,  1.27s/batch, batch_loss=30.5, batch_index=221, batch_size=256]"
     ]
    },
    {
     "name": "stderr",
     "output_type": "stream",
     "text": [
      "\r",
      "Epoch 1/10:  22%|███████████████████████████████████████▏                                                                                                                                        | 221/991 [04:44<16:24,  1.28s/batch, batch_loss=30.5, batch_index=221, batch_size=256]"
     ]
    },
    {
     "name": "stderr",
     "output_type": "stream",
     "text": [
      "\r",
      "Epoch 1/10:  22%|███████████████████████████████████████▏                                                                                                                                        | 221/991 [04:46<16:24,  1.28s/batch, batch_loss=27.4, batch_index=222, batch_size=256]"
     ]
    },
    {
     "name": "stderr",
     "output_type": "stream",
     "text": [
      "\r",
      "Epoch 1/10:  22%|███████████████████████████████████████▍                                                                                                                                        | 222/991 [04:46<16:26,  1.28s/batch, batch_loss=27.4, batch_index=222, batch_size=256]"
     ]
    },
    {
     "name": "stderr",
     "output_type": "stream",
     "text": [
      "\r",
      "Epoch 1/10:  22%|███████████████████████████████████████▍                                                                                                                                        | 222/991 [04:47<16:26,  1.28s/batch, batch_loss=46.3, batch_index=223, batch_size=256]"
     ]
    },
    {
     "name": "stderr",
     "output_type": "stream",
     "text": [
      "\r",
      "Epoch 1/10:  23%|███████████████████████████████████████▌                                                                                                                                        | 223/991 [04:47<16:28,  1.29s/batch, batch_loss=46.3, batch_index=223, batch_size=256]"
     ]
    },
    {
     "name": "stderr",
     "output_type": "stream",
     "text": [
      "\r",
      "Epoch 1/10:  23%|███████████████████████████████████████▌                                                                                                                                        | 223/991 [04:48<16:28,  1.29s/batch, batch_loss=23.7, batch_index=224, batch_size=256]"
     ]
    },
    {
     "name": "stderr",
     "output_type": "stream",
     "text": [
      "\r",
      "Epoch 1/10:  23%|███████████████████████████████████████▊                                                                                                                                        | 224/991 [04:48<16:24,  1.28s/batch, batch_loss=23.7, batch_index=224, batch_size=256]"
     ]
    },
    {
     "name": "stderr",
     "output_type": "stream",
     "text": [
      "\r",
      "Epoch 1/10:  23%|███████████████████████████████████████▊                                                                                                                                        | 224/991 [04:50<16:24,  1.28s/batch, batch_loss=15.6, batch_index=225, batch_size=256]"
     ]
    },
    {
     "name": "stderr",
     "output_type": "stream",
     "text": [
      "\r",
      "Epoch 1/10:  23%|███████████████████████████████████████▉                                                                                                                                        | 225/991 [04:50<16:28,  1.29s/batch, batch_loss=15.6, batch_index=225, batch_size=256]"
     ]
    },
    {
     "name": "stderr",
     "output_type": "stream",
     "text": [
      "\r",
      "Epoch 1/10:  23%|███████████████████████████████████████▉                                                                                                                                        | 225/991 [04:51<16:28,  1.29s/batch, batch_loss=37.3, batch_index=226, batch_size=256]"
     ]
    },
    {
     "name": "stderr",
     "output_type": "stream",
     "text": [
      "\r",
      "Epoch 1/10:  23%|████████████████████████████████████████▏                                                                                                                                       | 226/991 [04:51<16:27,  1.29s/batch, batch_loss=37.3, batch_index=226, batch_size=256]"
     ]
    },
    {
     "name": "stderr",
     "output_type": "stream",
     "text": [
      "\r",
      "Epoch 1/10:  23%|███████████████████████████████████████▍                                                                                                                                     | 226/991 [04:52<16:27,  1.29s/batch, batch_loss=2.42e+3, batch_index=227, batch_size=256]"
     ]
    },
    {
     "name": "stderr",
     "output_type": "stream",
     "text": [
      "\r",
      "Epoch 1/10:  23%|███████████████████████████████████████▋                                                                                                                                     | 227/991 [04:52<16:30,  1.30s/batch, batch_loss=2.42e+3, batch_index=227, batch_size=256]"
     ]
    },
    {
     "name": "stderr",
     "output_type": "stream",
     "text": [
      "\r",
      "Epoch 1/10:  23%|███████████████████████████████████████▋                                                                                                                                     | 227/991 [04:53<16:30,  1.30s/batch, batch_loss=3.61e+3, batch_index=228, batch_size=256]"
     ]
    },
    {
     "name": "stderr",
     "output_type": "stream",
     "text": [
      "\r",
      "Epoch 1/10:  23%|███████████████████████████████████████▊                                                                                                                                     | 228/991 [04:53<16:29,  1.30s/batch, batch_loss=3.61e+3, batch_index=228, batch_size=256]"
     ]
    },
    {
     "name": "stderr",
     "output_type": "stream",
     "text": [
      "\r",
      "Epoch 1/10:  23%|████████████████████████████████████████▍                                                                                                                                       | 228/991 [04:55<16:29,  1.30s/batch, batch_loss=15.7, batch_index=229, batch_size=256]"
     ]
    },
    {
     "name": "stderr",
     "output_type": "stream",
     "text": [
      "\r",
      "Epoch 1/10:  23%|████████████████████████████████████████▋                                                                                                                                       | 229/991 [04:55<16:26,  1.29s/batch, batch_loss=15.7, batch_index=229, batch_size=256]"
     ]
    },
    {
     "name": "stderr",
     "output_type": "stream",
     "text": [
      "\r",
      "Epoch 1/10:  23%|████████████████████████████████████████▋                                                                                                                                       | 229/991 [04:56<16:26,  1.29s/batch, batch_loss=15.6, batch_index=230, batch_size=256]"
     ]
    },
    {
     "name": "stderr",
     "output_type": "stream",
     "text": [
      "\r",
      "Epoch 1/10:  23%|████████████████████████████████████████▊                                                                                                                                       | 230/991 [04:56<16:23,  1.29s/batch, batch_loss=15.6, batch_index=230, batch_size=256]"
     ]
    },
    {
     "name": "stderr",
     "output_type": "stream",
     "text": [
      "\r",
      "Epoch 1/10:  23%|████████████████████████████████████████▊                                                                                                                                       | 230/991 [04:57<16:23,  1.29s/batch, batch_loss=20.4, batch_index=231, batch_size=256]"
     ]
    },
    {
     "name": "stderr",
     "output_type": "stream",
     "text": [
      "\r",
      "Epoch 1/10:  23%|█████████████████████████████████████████                                                                                                                                       | 231/991 [04:57<16:22,  1.29s/batch, batch_loss=20.4, batch_index=231, batch_size=256]"
     ]
    },
    {
     "name": "stderr",
     "output_type": "stream",
     "text": [
      "\r",
      "Epoch 1/10:  23%|█████████████████████████████████████████▍                                                                                                                                        | 231/991 [04:59<16:22,  1.29s/batch, batch_loss=14, batch_index=232, batch_size=256]"
     ]
    },
    {
     "name": "stderr",
     "output_type": "stream",
     "text": [
      "\r",
      "Epoch 1/10:  23%|█████████████████████████████████████████▋                                                                                                                                        | 232/991 [04:59<16:23,  1.30s/batch, batch_loss=14, batch_index=232, batch_size=256]"
     ]
    },
    {
     "name": "stderr",
     "output_type": "stream",
     "text": [
      "\r",
      "Epoch 1/10:  23%|█████████████████████████████████████████▏                                                                                                                                      | 232/991 [05:00<16:23,  1.30s/batch, batch_loss=13.4, batch_index=233, batch_size=256]"
     ]
    },
    {
     "name": "stderr",
     "output_type": "stream",
     "text": [
      "\r",
      "Epoch 1/10:  24%|█████████████████████████████████████████▍                                                                                                                                      | 233/991 [05:00<16:22,  1.30s/batch, batch_loss=13.4, batch_index=233, batch_size=256]"
     ]
    },
    {
     "name": "stderr",
     "output_type": "stream",
     "text": [
      "\r",
      "Epoch 1/10:  24%|█████████████████████████████████████████▍                                                                                                                                      | 233/991 [05:01<16:22,  1.30s/batch, batch_loss=20.6, batch_index=234, batch_size=256]"
     ]
    },
    {
     "name": "stderr",
     "output_type": "stream",
     "text": [
      "\r",
      "Epoch 1/10:  24%|█████████████████████████████████████████▌                                                                                                                                      | 234/991 [05:01<16:17,  1.29s/batch, batch_loss=20.6, batch_index=234, batch_size=256]"
     ]
    },
    {
     "name": "stderr",
     "output_type": "stream",
     "text": [
      "\r",
      "Epoch 1/10:  24%|█████████████████████████████████████████▌                                                                                                                                      | 234/991 [05:02<16:17,  1.29s/batch, batch_loss=22.1, batch_index=235, batch_size=256]"
     ]
    },
    {
     "name": "stderr",
     "output_type": "stream",
     "text": [
      "\r",
      "Epoch 1/10:  24%|█████████████████████████████████████████▋                                                                                                                                      | 235/991 [05:02<16:16,  1.29s/batch, batch_loss=22.1, batch_index=235, batch_size=256]"
     ]
    },
    {
     "name": "stderr",
     "output_type": "stream",
     "text": [
      "\r",
      "Epoch 1/10:  24%|█████████████████████████████████████████▋                                                                                                                                      | 235/991 [05:04<16:16,  1.29s/batch, batch_loss=37.3, batch_index=236, batch_size=256]"
     ]
    },
    {
     "name": "stderr",
     "output_type": "stream",
     "text": [
      "\r",
      "Epoch 1/10:  24%|█████████████████████████████████████████▉                                                                                                                                      | 236/991 [05:04<16:14,  1.29s/batch, batch_loss=37.3, batch_index=236, batch_size=256]"
     ]
    },
    {
     "name": "stderr",
     "output_type": "stream",
     "text": [
      "\r",
      "Epoch 1/10:  24%|█████████████████████████████████████████▉                                                                                                                                      | 236/991 [05:05<16:14,  1.29s/batch, batch_loss=36.2, batch_index=237, batch_size=256]"
     ]
    },
    {
     "name": "stderr",
     "output_type": "stream",
     "text": [
      "\r",
      "Epoch 1/10:  24%|██████████████████████████████████████████                                                                                                                                      | 237/991 [05:05<16:17,  1.30s/batch, batch_loss=36.2, batch_index=237, batch_size=256]"
     ]
    },
    {
     "name": "stderr",
     "output_type": "stream",
     "text": [
      "\r",
      "Epoch 1/10:  24%|██████████████████████████████████████████▌                                                                                                                                       | 237/991 [05:06<16:17,  1.30s/batch, batch_loss=30, batch_index=238, batch_size=256]"
     ]
    },
    {
     "name": "stderr",
     "output_type": "stream",
     "text": [
      "\r",
      "Epoch 1/10:  24%|██████████████████████████████████████████▋                                                                                                                                       | 238/991 [05:06<16:17,  1.30s/batch, batch_loss=30, batch_index=238, batch_size=256]"
     ]
    },
    {
     "name": "stderr",
     "output_type": "stream",
     "text": [
      "\r",
      "Epoch 1/10:  24%|██████████████████████████████████████████▎                                                                                                                                     | 238/991 [05:08<16:17,  1.30s/batch, batch_loss=12.5, batch_index=239, batch_size=256]"
     ]
    },
    {
     "name": "stderr",
     "output_type": "stream",
     "text": [
      "\r",
      "Epoch 1/10:  24%|██████████████████████████████████████████▍                                                                                                                                     | 239/991 [05:08<16:24,  1.31s/batch, batch_loss=12.5, batch_index=239, batch_size=256]"
     ]
    },
    {
     "name": "stderr",
     "output_type": "stream",
     "text": [
      "\r",
      "Epoch 1/10:  24%|██████████████████████████████████████████▍                                                                                                                                     | 239/991 [05:09<16:24,  1.31s/batch, batch_loss=12.6, batch_index=240, batch_size=256]"
     ]
    },
    {
     "name": "stderr",
     "output_type": "stream",
     "text": [
      "\r",
      "Epoch 1/10:  24%|██████████████████████████████████████████▌                                                                                                                                     | 240/991 [05:09<16:19,  1.30s/batch, batch_loss=12.6, batch_index=240, batch_size=256]"
     ]
    },
    {
     "name": "stderr",
     "output_type": "stream",
     "text": [
      "\r",
      "Epoch 1/10:  24%|██████████████████████████████████████████▌                                                                                                                                     | 240/991 [05:10<16:19,  1.30s/batch, batch_loss=12.8, batch_index=241, batch_size=256]"
     ]
    },
    {
     "name": "stderr",
     "output_type": "stream",
     "text": [
      "\r",
      "Epoch 1/10:  24%|██████████████████████████████████████████▊                                                                                                                                     | 241/991 [05:10<16:17,  1.30s/batch, batch_loss=12.8, batch_index=241, batch_size=256]"
     ]
    },
    {
     "name": "stderr",
     "output_type": "stream",
     "text": [
      "\r",
      "Epoch 1/10:  24%|██████████████████████████████████████████▊                                                                                                                                     | 241/991 [05:12<16:17,  1.30s/batch, batch_loss=42.9, batch_index=242, batch_size=256]"
     ]
    },
    {
     "name": "stderr",
     "output_type": "stream",
     "text": [
      "\r",
      "Epoch 1/10:  24%|██████████████████████████████████████████▉                                                                                                                                     | 242/991 [05:12<16:13,  1.30s/batch, batch_loss=42.9, batch_index=242, batch_size=256]"
     ]
    },
    {
     "name": "stderr",
     "output_type": "stream",
     "text": [
      "\r",
      "Epoch 1/10:  24%|███████████████████████████████████████████▏                                                                                                                                     | 242/991 [05:13<16:13,  1.30s/batch, batch_loss=278, batch_index=243, batch_size=256]"
     ]
    },
    {
     "name": "stderr",
     "output_type": "stream",
     "text": [
      "\r",
      "Epoch 1/10:  25%|███████████████████████████████████████████▍                                                                                                                                     | 243/991 [05:13<16:10,  1.30s/batch, batch_loss=278, batch_index=243, batch_size=256]"
     ]
    },
    {
     "name": "stderr",
     "output_type": "stream",
     "text": [
      "\r",
      "Epoch 1/10:  25%|███████████████████████████████████████████▏                                                                                                                                    | 243/991 [05:14<16:10,  1.30s/batch, batch_loss=32.7, batch_index=244, batch_size=256]"
     ]
    },
    {
     "name": "stderr",
     "output_type": "stream",
     "text": [
      "\r",
      "Epoch 1/10:  25%|███████████████████████████████████████████▎                                                                                                                                    | 244/991 [05:14<16:06,  1.29s/batch, batch_loss=32.7, batch_index=244, batch_size=256]"
     ]
    },
    {
     "name": "stderr",
     "output_type": "stream",
     "text": [
      "\r",
      "Epoch 1/10:  25%|███████████████████████████████████████████▎                                                                                                                                    | 244/991 [05:15<16:06,  1.29s/batch, batch_loss=13.8, batch_index=245, batch_size=256]"
     ]
    },
    {
     "name": "stderr",
     "output_type": "stream",
     "text": [
      "\r",
      "Epoch 1/10:  25%|███████████████████████████████████████████▌                                                                                                                                    | 245/991 [05:15<16:05,  1.29s/batch, batch_loss=13.8, batch_index=245, batch_size=256]"
     ]
    },
    {
     "name": "stderr",
     "output_type": "stream",
     "text": [
      "\r",
      "Epoch 1/10:  25%|███████████████████████████████████████████▌                                                                                                                                    | 245/991 [05:17<16:05,  1.29s/batch, batch_loss=11.2, batch_index=246, batch_size=256]"
     ]
    },
    {
     "name": "stderr",
     "output_type": "stream",
     "text": [
      "\r",
      "Epoch 1/10:  25%|███████████████████████████████████████████▋                                                                                                                                    | 246/991 [05:17<15:56,  1.28s/batch, batch_loss=11.2, batch_index=246, batch_size=256]"
     ]
    },
    {
     "name": "stderr",
     "output_type": "stream",
     "text": [
      "\r",
      "Epoch 1/10:  25%|███████████████████████████████████████████▋                                                                                                                                    | 246/991 [05:18<15:56,  1.28s/batch, batch_loss=23.6, batch_index=247, batch_size=256]"
     ]
    },
    {
     "name": "stderr",
     "output_type": "stream",
     "text": [
      "\r",
      "Epoch 1/10:  25%|███████████████████████████████████████████▊                                                                                                                                    | 247/991 [05:18<15:41,  1.27s/batch, batch_loss=23.6, batch_index=247, batch_size=256]"
     ]
    },
    {
     "name": "stderr",
     "output_type": "stream",
     "text": [
      "\r",
      "Epoch 1/10:  25%|████████████████████████████████████████████▌                                                                                                                                      | 247/991 [05:19<15:41,  1.27s/batch, batch_loss=8, batch_index=248, batch_size=256]"
     ]
    },
    {
     "name": "stderr",
     "output_type": "stream",
     "text": [
      "\r",
      "Epoch 1/10:  25%|████████████████████████████████████████████▊                                                                                                                                      | 248/991 [05:19<15:48,  1.28s/batch, batch_loss=8, batch_index=248, batch_size=256]"
     ]
    },
    {
     "name": "stderr",
     "output_type": "stream",
     "text": [
      "\r",
      "Epoch 1/10:  25%|████████████████████████████████████████████                                                                                                                                    | 248/991 [05:21<15:48,  1.28s/batch, batch_loss=17.3, batch_index=249, batch_size=256]"
     ]
    },
    {
     "name": "stderr",
     "output_type": "stream",
     "text": [
      "\r",
      "Epoch 1/10:  25%|████████████████████████████████████████████▏                                                                                                                                   | 249/991 [05:21<15:48,  1.28s/batch, batch_loss=17.3, batch_index=249, batch_size=256]"
     ]
    },
    {
     "name": "stderr",
     "output_type": "stream",
     "text": [
      "\r",
      "Epoch 1/10:  25%|████████████████████████████████████████████▏                                                                                                                                   | 249/991 [05:22<15:48,  1.28s/batch, batch_loss=14.4, batch_index=250, batch_size=256]"
     ]
    },
    {
     "name": "stderr",
     "output_type": "stream",
     "text": [
      "\r",
      "Epoch 1/10:  25%|████████████████████████████████████████████▍                                                                                                                                   | 250/991 [05:22<15:49,  1.28s/batch, batch_loss=14.4, batch_index=250, batch_size=256]"
     ]
    },
    {
     "name": "stderr",
     "output_type": "stream",
     "text": [
      "\r",
      "Epoch 1/10:  25%|████████████████████████████████████████████▍                                                                                                                                   | 250/991 [05:23<15:49,  1.28s/batch, batch_loss=9.02, batch_index=251, batch_size=256]"
     ]
    },
    {
     "name": "stderr",
     "output_type": "stream",
     "text": [
      "\r",
      "Epoch 1/10:  25%|████████████████████████████████████████████▌                                                                                                                                   | 251/991 [05:23<15:51,  1.29s/batch, batch_loss=9.02, batch_index=251, batch_size=256]"
     ]
    },
    {
     "name": "stderr",
     "output_type": "stream",
     "text": [
      "\r",
      "Epoch 1/10:  25%|████████████████████████████████████████████▌                                                                                                                                   | 251/991 [05:24<15:51,  1.29s/batch, batch_loss=23.6, batch_index=252, batch_size=256]"
     ]
    },
    {
     "name": "stderr",
     "output_type": "stream",
     "text": [
      "\r",
      "Epoch 1/10:  25%|████████████████████████████████████████████▊                                                                                                                                   | 252/991 [05:24<15:52,  1.29s/batch, batch_loss=23.6, batch_index=252, batch_size=256]"
     ]
    },
    {
     "name": "stderr",
     "output_type": "stream",
     "text": [
      "\r",
      "Epoch 1/10:  25%|████████████████████████████████████████████▊                                                                                                                                   | 252/991 [05:26<15:52,  1.29s/batch, batch_loss=10.5, batch_index=253, batch_size=256]"
     ]
    },
    {
     "name": "stderr",
     "output_type": "stream",
     "text": [
      "\r",
      "Epoch 1/10:  26%|████████████████████████████████████████████▉                                                                                                                                   | 253/991 [05:26<15:55,  1.30s/batch, batch_loss=10.5, batch_index=253, batch_size=256]"
     ]
    },
    {
     "name": "stderr",
     "output_type": "stream",
     "text": [
      "\r",
      "Epoch 1/10:  26%|████████████████████████████████████████████▉                                                                                                                                   | 253/991 [05:27<15:55,  1.30s/batch, batch_loss=23.5, batch_index=254, batch_size=256]"
     ]
    },
    {
     "name": "stderr",
     "output_type": "stream",
     "text": [
      "\r",
      "Epoch 1/10:  26%|█████████████████████████████████████████████                                                                                                                                   | 254/991 [05:27<15:51,  1.29s/batch, batch_loss=23.5, batch_index=254, batch_size=256]"
     ]
    },
    {
     "name": "stderr",
     "output_type": "stream",
     "text": [
      "\r",
      "Epoch 1/10:  26%|█████████████████████████████████████████████                                                                                                                                   | 254/991 [05:28<15:51,  1.29s/batch, batch_loss=20.3, batch_index=255, batch_size=256]"
     ]
    },
    {
     "name": "stderr",
     "output_type": "stream",
     "text": [
      "\r",
      "Epoch 1/10:  26%|█████████████████████████████████████████████▎                                                                                                                                  | 255/991 [05:28<15:50,  1.29s/batch, batch_loss=20.3, batch_index=255, batch_size=256]"
     ]
    },
    {
     "name": "stderr",
     "output_type": "stream",
     "text": [
      "\r",
      "Epoch 1/10:  26%|█████████████████████████████████████████████▌                                                                                                                                   | 255/991 [05:30<15:50,  1.29s/batch, batch_loss=698, batch_index=256, batch_size=256]"
     ]
    },
    {
     "name": "stderr",
     "output_type": "stream",
     "text": [
      "\r",
      "Epoch 1/10:  26%|█████████████████████████████████████████████▋                                                                                                                                   | 256/991 [05:30<15:48,  1.29s/batch, batch_loss=698, batch_index=256, batch_size=256]"
     ]
    },
    {
     "name": "stderr",
     "output_type": "stream",
     "text": [
      "\r",
      "Epoch 1/10:  26%|█████████████████████████████████████████████▍                                                                                                                                  | 256/991 [05:31<15:48,  1.29s/batch, batch_loss=29.6, batch_index=257, batch_size=256]"
     ]
    },
    {
     "name": "stderr",
     "output_type": "stream",
     "text": [
      "\r",
      "Epoch 1/10:  26%|█████████████████████████████████████████████▋                                                                                                                                  | 257/991 [05:31<15:48,  1.29s/batch, batch_loss=29.6, batch_index=257, batch_size=256]"
     ]
    },
    {
     "name": "stderr",
     "output_type": "stream",
     "text": [
      "\r",
      "Epoch 1/10:  26%|█████████████████████████████████████████████▉                                                                                                                                   | 257/991 [05:32<15:48,  1.29s/batch, batch_loss=212, batch_index=258, batch_size=256]"
     ]
    },
    {
     "name": "stderr",
     "output_type": "stream",
     "text": [
      "\r",
      "Epoch 1/10:  26%|██████████████████████████████████████████████                                                                                                                                   | 258/991 [05:32<15:49,  1.30s/batch, batch_loss=212, batch_index=258, batch_size=256]"
     ]
    },
    {
     "name": "stderr",
     "output_type": "stream",
     "text": [
      "\r",
      "Epoch 1/10:  26%|█████████████████████████████████████████████▊                                                                                                                                  | 258/991 [05:33<15:49,  1.30s/batch, batch_loss=20.3, batch_index=259, batch_size=256]"
     ]
    },
    {
     "name": "stderr",
     "output_type": "stream",
     "text": [
      "\r",
      "Epoch 1/10:  26%|█████████████████████████████████████████████▉                                                                                                                                  | 259/991 [05:33<15:43,  1.29s/batch, batch_loss=20.3, batch_index=259, batch_size=256]"
     ]
    },
    {
     "name": "stderr",
     "output_type": "stream",
     "text": [
      "\r",
      "Epoch 1/10:  26%|█████████████████████████████████████████████▉                                                                                                                                  | 259/991 [05:35<15:43,  1.29s/batch, batch_loss=69.9, batch_index=260, batch_size=256]"
     ]
    },
    {
     "name": "stderr",
     "output_type": "stream",
     "text": [
      "\r",
      "Epoch 1/10:  26%|██████████████████████████████████████████████▏                                                                                                                                 | 260/991 [05:35<15:45,  1.29s/batch, batch_loss=69.9, batch_index=260, batch_size=256]"
     ]
    },
    {
     "name": "stderr",
     "output_type": "stream",
     "text": [
      "\r",
      "Epoch 1/10:  26%|██████████████████████████████████████████████▋                                                                                                                                   | 260/991 [05:36<15:45,  1.29s/batch, batch_loss=33, batch_index=261, batch_size=256]"
     ]
    },
    {
     "name": "stderr",
     "output_type": "stream",
     "text": [
      "\r",
      "Epoch 1/10:  26%|██████████████████████████████████████████████▉                                                                                                                                   | 261/991 [05:36<15:47,  1.30s/batch, batch_loss=33, batch_index=261, batch_size=256]"
     ]
    },
    {
     "name": "stderr",
     "output_type": "stream",
     "text": [
      "\r",
      "Epoch 1/10:  26%|██████████████████████████████████████████████▎                                                                                                                                 | 261/991 [05:37<15:47,  1.30s/batch, batch_loss=15.5, batch_index=262, batch_size=256]"
     ]
    },
    {
     "name": "stderr",
     "output_type": "stream",
     "text": [
      "\r",
      "Epoch 1/10:  26%|██████████████████████████████████████████████▌                                                                                                                                 | 262/991 [05:37<15:43,  1.29s/batch, batch_loss=15.5, batch_index=262, batch_size=256]"
     ]
    },
    {
     "name": "stderr",
     "output_type": "stream",
     "text": [
      "\r",
      "Epoch 1/10:  26%|██████████████████████████████████████████████▌                                                                                                                                 | 262/991 [05:39<15:43,  1.29s/batch, batch_loss=17.9, batch_index=263, batch_size=256]"
     ]
    },
    {
     "name": "stderr",
     "output_type": "stream",
     "text": [
      "\r",
      "Epoch 1/10:  27%|██████████████████████████████████████████████▋                                                                                                                                 | 263/991 [05:39<15:41,  1.29s/batch, batch_loss=17.9, batch_index=263, batch_size=256]"
     ]
    },
    {
     "name": "stderr",
     "output_type": "stream",
     "text": [
      "\r",
      "Epoch 1/10:  27%|██████████████████████████████████████████████▋                                                                                                                                 | 263/991 [05:40<15:41,  1.29s/batch, batch_loss=29.7, batch_index=264, batch_size=256]"
     ]
    },
    {
     "name": "stderr",
     "output_type": "stream",
     "text": [
      "\r",
      "Epoch 1/10:  27%|██████████████████████████████████████████████▉                                                                                                                                 | 264/991 [05:40<15:37,  1.29s/batch, batch_loss=29.7, batch_index=264, batch_size=256]"
     ]
    },
    {
     "name": "stderr",
     "output_type": "stream",
     "text": [
      "\r",
      "Epoch 1/10:  27%|██████████████████████████████████████████████▉                                                                                                                                 | 264/991 [05:41<15:37,  1.29s/batch, batch_loss=23.8, batch_index=265, batch_size=256]"
     ]
    },
    {
     "name": "stderr",
     "output_type": "stream",
     "text": [
      "\r",
      "Epoch 1/10:  27%|███████████████████████████████████████████████                                                                                                                                 | 265/991 [05:41<15:40,  1.30s/batch, batch_loss=23.8, batch_index=265, batch_size=256]"
     ]
    },
    {
     "name": "stderr",
     "output_type": "stream",
     "text": [
      "\r",
      "Epoch 1/10:  27%|███████████████████████████████████████████████                                                                                                                                 | 265/991 [05:43<15:40,  1.30s/batch, batch_loss=22.7, batch_index=266, batch_size=256]"
     ]
    },
    {
     "name": "stderr",
     "output_type": "stream",
     "text": [
      "\r",
      "Epoch 1/10:  27%|███████████████████████████████████████████████▏                                                                                                                                | 266/991 [05:43<15:38,  1.29s/batch, batch_loss=22.7, batch_index=266, batch_size=256]"
     ]
    },
    {
     "name": "stderr",
     "output_type": "stream",
     "text": [
      "\r",
      "Epoch 1/10:  27%|███████████████████████████████████████████████▊                                                                                                                                  | 266/991 [05:44<15:38,  1.29s/batch, batch_loss=21, batch_index=267, batch_size=256]"
     ]
    },
    {
     "name": "stderr",
     "output_type": "stream",
     "text": [
      "\r",
      "Epoch 1/10:  27%|███████████████████████████████████████████████▉                                                                                                                                  | 267/991 [05:44<15:36,  1.29s/batch, batch_loss=21, batch_index=267, batch_size=256]"
     ]
    },
    {
     "name": "stderr",
     "output_type": "stream",
     "text": [
      "\r",
      "Epoch 1/10:  27%|███████████████████████████████████████████████▍                                                                                                                                | 267/991 [05:45<15:36,  1.29s/batch, batch_loss=10.4, batch_index=268, batch_size=256]"
     ]
    },
    {
     "name": "stderr",
     "output_type": "stream",
     "text": [
      "\r",
      "Epoch 1/10:  27%|███████████████████████████████████████████████▌                                                                                                                                | 268/991 [05:45<15:34,  1.29s/batch, batch_loss=10.4, batch_index=268, batch_size=256]"
     ]
    },
    {
     "name": "stderr",
     "output_type": "stream",
     "text": [
      "\r",
      "Epoch 1/10:  27%|████████████████████████████████████████████████▏                                                                                                                                 | 268/991 [05:46<15:34,  1.29s/batch, batch_loss=24, batch_index=269, batch_size=256]"
     ]
    },
    {
     "name": "stderr",
     "output_type": "stream",
     "text": [
      "\r",
      "Epoch 1/10:  27%|████████████████████████████████████████████████▎                                                                                                                                 | 269/991 [05:46<15:37,  1.30s/batch, batch_loss=24, batch_index=269, batch_size=256]"
     ]
    },
    {
     "name": "stderr",
     "output_type": "stream",
     "text": [
      "\r",
      "Epoch 1/10:  27%|███████████████████████████████████████████████▊                                                                                                                                | 269/991 [05:48<15:37,  1.30s/batch, batch_loss=5.24, batch_index=270, batch_size=256]"
     ]
    },
    {
     "name": "stderr",
     "output_type": "stream",
     "text": [
      "\r",
      "Epoch 1/10:  27%|███████████████████████████████████████████████▉                                                                                                                                | 270/991 [05:48<15:33,  1.29s/batch, batch_loss=5.24, batch_index=270, batch_size=256]"
     ]
    },
    {
     "name": "stderr",
     "output_type": "stream",
     "text": [
      "\r",
      "Epoch 1/10:  27%|███████████████████████████████████████████████▉                                                                                                                                | 270/991 [05:49<15:33,  1.29s/batch, batch_loss=28.5, batch_index=271, batch_size=256]"
     ]
    },
    {
     "name": "stderr",
     "output_type": "stream",
     "text": [
      "\r",
      "Epoch 1/10:  27%|████████████████████████████████████████████████▏                                                                                                                               | 271/991 [05:49<15:31,  1.29s/batch, batch_loss=28.5, batch_index=271, batch_size=256]"
     ]
    },
    {
     "name": "stderr",
     "output_type": "stream",
     "text": [
      "\r",
      "Epoch 1/10:  27%|████████████████████████████████████████████████▏                                                                                                                               | 271/991 [05:50<15:31,  1.29s/batch, batch_loss=21.2, batch_index=272, batch_size=256]"
     ]
    },
    {
     "name": "stderr",
     "output_type": "stream",
     "text": [
      "\r",
      "Epoch 1/10:  27%|████████████████████████████████████████████████▎                                                                                                                               | 272/991 [05:50<15:29,  1.29s/batch, batch_loss=21.2, batch_index=272, batch_size=256]"
     ]
    },
    {
     "name": "stderr",
     "output_type": "stream",
     "text": [
      "\r",
      "Epoch 1/10:  27%|████████████████████████████████████████████████▎                                                                                                                               | 272/991 [05:52<15:29,  1.29s/batch, batch_loss=45.3, batch_index=273, batch_size=256]"
     ]
    },
    {
     "name": "stderr",
     "output_type": "stream",
     "text": [
      "\r",
      "Epoch 1/10:  28%|████████████████████████████████████████████████▍                                                                                                                               | 273/991 [05:52<15:22,  1.28s/batch, batch_loss=45.3, batch_index=273, batch_size=256]"
     ]
    },
    {
     "name": "stderr",
     "output_type": "stream",
     "text": [
      "\r",
      "Epoch 1/10:  28%|████████████████████████████████████████████████▍                                                                                                                               | 273/991 [05:53<15:22,  1.28s/batch, batch_loss=18.6, batch_index=274, batch_size=256]"
     ]
    },
    {
     "name": "stderr",
     "output_type": "stream",
     "text": [
      "\r",
      "Epoch 1/10:  28%|████████████████████████████████████████████████▋                                                                                                                               | 274/991 [05:53<15:03,  1.26s/batch, batch_loss=18.6, batch_index=274, batch_size=256]"
     ]
    },
    {
     "name": "stderr",
     "output_type": "stream",
     "text": [
      "\r",
      "Epoch 1/10:  28%|███████████████████████████████████████████████▊                                                                                                                             | 274/991 [05:54<15:03,  1.26s/batch, batch_loss=3.31e+3, batch_index=275, batch_size=256]"
     ]
    },
    {
     "name": "stderr",
     "output_type": "stream",
     "text": [
      "\r",
      "Epoch 1/10:  28%|████████████████████████████████████████████████                                                                                                                             | 275/991 [05:54<15:05,  1.26s/batch, batch_loss=3.31e+3, batch_index=275, batch_size=256]"
     ]
    },
    {
     "name": "stderr",
     "output_type": "stream",
     "text": [
      "\r",
      "Epoch 1/10:  28%|█████████████████████████████████████████████████▍                                                                                                                                | 275/991 [05:55<15:05,  1.26s/batch, batch_loss=23, batch_index=276, batch_size=256]"
     ]
    },
    {
     "name": "stderr",
     "output_type": "stream",
     "text": [
      "\r",
      "Epoch 1/10:  28%|█████████████████████████████████████████████████▌                                                                                                                                | 276/991 [05:55<15:08,  1.27s/batch, batch_loss=23, batch_index=276, batch_size=256]"
     ]
    },
    {
     "name": "stderr",
     "output_type": "stream",
     "text": [
      "\r",
      "Epoch 1/10:  28%|████████████████████████████████████████████████▏                                                                                                                            | 276/991 [05:57<15:08,  1.27s/batch, batch_loss=4.81e+3, batch_index=277, batch_size=256]"
     ]
    },
    {
     "name": "stderr",
     "output_type": "stream",
     "text": [
      "\r",
      "Epoch 1/10:  28%|████████████████████████████████████████████████▎                                                                                                                            | 277/991 [05:57<15:12,  1.28s/batch, batch_loss=4.81e+3, batch_index=277, batch_size=256]"
     ]
    },
    {
     "name": "stderr",
     "output_type": "stream",
     "text": [
      "\r",
      "Epoch 1/10:  28%|█████████████████████████████████████████████████▏                                                                                                                              | 277/991 [05:58<15:12,  1.28s/batch, batch_loss=22.7, batch_index=278, batch_size=256]"
     ]
    },
    {
     "name": "stderr",
     "output_type": "stream",
     "text": [
      "\r",
      "Epoch 1/10:  28%|█████████████████████████████████████████████████▎                                                                                                                              | 278/991 [05:58<15:14,  1.28s/batch, batch_loss=22.7, batch_index=278, batch_size=256]"
     ]
    },
    {
     "name": "stderr",
     "output_type": "stream",
     "text": [
      "\r",
      "Epoch 1/10:  28%|█████████████████████████████████████████████████▎                                                                                                                              | 278/991 [05:59<15:14,  1.28s/batch, batch_loss=32.7, batch_index=279, batch_size=256]"
     ]
    },
    {
     "name": "stderr",
     "output_type": "stream",
     "text": [
      "\r",
      "Epoch 1/10:  28%|█████████████████████████████████████████████████▌                                                                                                                              | 279/991 [05:59<15:13,  1.28s/batch, batch_loss=32.7, batch_index=279, batch_size=256]"
     ]
    },
    {
     "name": "stderr",
     "output_type": "stream",
     "text": [
      "\r",
      "Epoch 1/10:  28%|█████████████████████████████████████████████████▌                                                                                                                              | 279/991 [06:00<15:13,  1.28s/batch, batch_loss=23.2, batch_index=280, batch_size=256]"
     ]
    },
    {
     "name": "stderr",
     "output_type": "stream",
     "text": [
      "\r",
      "Epoch 1/10:  28%|█████████████████████████████████████████████████▋                                                                                                                              | 280/991 [06:00<15:16,  1.29s/batch, batch_loss=23.2, batch_index=280, batch_size=256]"
     ]
    },
    {
     "name": "stderr",
     "output_type": "stream",
     "text": [
      "\r",
      "Epoch 1/10:  28%|█████████████████████████████████████████████████▋                                                                                                                              | 280/991 [06:02<15:16,  1.29s/batch, batch_loss=15.8, batch_index=281, batch_size=256]"
     ]
    },
    {
     "name": "stderr",
     "output_type": "stream",
     "text": [
      "\r",
      "Epoch 1/10:  28%|█████████████████████████████████████████████████▉                                                                                                                              | 281/991 [06:02<15:15,  1.29s/batch, batch_loss=15.8, batch_index=281, batch_size=256]"
     ]
    },
    {
     "name": "stderr",
     "output_type": "stream",
     "text": [
      "\r",
      "Epoch 1/10:  28%|█████████████████████████████████████████████████▉                                                                                                                              | 281/991 [06:03<15:15,  1.29s/batch, batch_loss=11.3, batch_index=282, batch_size=256]"
     ]
    },
    {
     "name": "stderr",
     "output_type": "stream",
     "text": [
      "\r",
      "Epoch 1/10:  28%|██████████████████████████████████████████████████                                                                                                                              | 282/991 [06:03<15:13,  1.29s/batch, batch_loss=11.3, batch_index=282, batch_size=256]"
     ]
    },
    {
     "name": "stderr",
     "output_type": "stream",
     "text": [
      "\r",
      "Epoch 1/10:  28%|██████████████████████████████████████████████████                                                                                                                              | 282/991 [06:04<15:13,  1.29s/batch, batch_loss=25.4, batch_index=283, batch_size=256]"
     ]
    },
    {
     "name": "stderr",
     "output_type": "stream",
     "text": [
      "\r",
      "Epoch 1/10:  29%|██████████████████████████████████████████████████▎                                                                                                                             | 283/991 [06:04<15:14,  1.29s/batch, batch_loss=25.4, batch_index=283, batch_size=256]"
     ]
    },
    {
     "name": "stderr",
     "output_type": "stream",
     "text": [
      "\r",
      "Epoch 1/10:  29%|██████████████████████████████████████████████████▎                                                                                                                             | 283/991 [06:06<15:14,  1.29s/batch, batch_loss=66.8, batch_index=284, batch_size=256]"
     ]
    },
    {
     "name": "stderr",
     "output_type": "stream",
     "text": [
      "\r",
      "Epoch 1/10:  29%|██████████████████████████████████████████████████▍                                                                                                                             | 284/991 [06:06<15:15,  1.30s/batch, batch_loss=66.8, batch_index=284, batch_size=256]"
     ]
    },
    {
     "name": "stderr",
     "output_type": "stream",
     "text": [
      "\r",
      "Epoch 1/10:  29%|██████████████████████████████████████████████████▍                                                                                                                             | 284/991 [06:07<15:15,  1.30s/batch, batch_loss=21.7, batch_index=285, batch_size=256]"
     ]
    },
    {
     "name": "stderr",
     "output_type": "stream",
     "text": [
      "\r",
      "Epoch 1/10:  29%|██████████████████████████████████████████████████▌                                                                                                                             | 285/991 [06:07<15:11,  1.29s/batch, batch_loss=21.7, batch_index=285, batch_size=256]"
     ]
    },
    {
     "name": "stderr",
     "output_type": "stream",
     "text": [
      "\r",
      "Epoch 1/10:  29%|██████████████████████████████████████████████████▌                                                                                                                             | 285/991 [06:08<15:11,  1.29s/batch, batch_loss=11.8, batch_index=286, batch_size=256]"
     ]
    },
    {
     "name": "stderr",
     "output_type": "stream",
     "text": [
      "\r",
      "Epoch 1/10:  29%|██████████████████████████████████████████████████▊                                                                                                                             | 286/991 [06:08<15:10,  1.29s/batch, batch_loss=11.8, batch_index=286, batch_size=256]"
     ]
    },
    {
     "name": "stderr",
     "output_type": "stream",
     "text": [
      "\r",
      "Epoch 1/10:  29%|███████████████████████████████████████████████████▎                                                                                                                              | 286/991 [06:10<15:10,  1.29s/batch, batch_loss=11, batch_index=287, batch_size=256]"
     ]
    },
    {
     "name": "stderr",
     "output_type": "stream",
     "text": [
      "\r",
      "Epoch 1/10:  29%|███████████████████████████████████████████████████▌                                                                                                                              | 287/991 [06:10<15:07,  1.29s/batch, batch_loss=11, batch_index=287, batch_size=256]"
     ]
    },
    {
     "name": "stderr",
     "output_type": "stream",
     "text": [
      "\r",
      "Epoch 1/10:  29%|██████████████████████████████████████████████████                                                                                                                           | 287/991 [06:11<15:07,  1.29s/batch, batch_loss=2.59e+3, batch_index=288, batch_size=256]"
     ]
    },
    {
     "name": "stderr",
     "output_type": "stream",
     "text": [
      "\r",
      "Epoch 1/10:  29%|██████████████████████████████████████████████████▎                                                                                                                          | 288/991 [06:11<15:07,  1.29s/batch, batch_loss=2.59e+3, batch_index=288, batch_size=256]"
     ]
    },
    {
     "name": "stderr",
     "output_type": "stream",
     "text": [
      "\r",
      "Epoch 1/10:  29%|██████████████████████████████████████████████████▎                                                                                                                          | 288/991 [06:12<15:07,  1.29s/batch, batch_loss=1.26e+3, batch_index=289, batch_size=256]"
     ]
    },
    {
     "name": "stderr",
     "output_type": "stream",
     "text": [
      "\r",
      "Epoch 1/10:  29%|██████████████████████████████████████████████████▍                                                                                                                          | 289/991 [06:12<15:10,  1.30s/batch, batch_loss=1.26e+3, batch_index=289, batch_size=256]"
     ]
    },
    {
     "name": "stderr",
     "output_type": "stream",
     "text": [
      "\r",
      "Epoch 1/10:  29%|███████████████████████████████████████████████████▎                                                                                                                            | 289/991 [06:13<15:10,  1.30s/batch, batch_loss=20.1, batch_index=290, batch_size=256]"
     ]
    },
    {
     "name": "stderr",
     "output_type": "stream",
     "text": [
      "\r",
      "Epoch 1/10:  29%|███████████████████████████████████████████████████▌                                                                                                                            | 290/991 [06:13<15:08,  1.30s/batch, batch_loss=20.1, batch_index=290, batch_size=256]"
     ]
    },
    {
     "name": "stderr",
     "output_type": "stream",
     "text": [
      "\r",
      "Epoch 1/10:  29%|███████████████████████████████████████████████████▌                                                                                                                            | 290/991 [06:15<15:08,  1.30s/batch, batch_loss=8.22, batch_index=291, batch_size=256]"
     ]
    },
    {
     "name": "stderr",
     "output_type": "stream",
     "text": [
      "\r",
      "Epoch 1/10:  29%|███████████████████████████████████████████████████▋                                                                                                                            | 291/991 [06:15<15:06,  1.29s/batch, batch_loss=8.22, batch_index=291, batch_size=256]"
     ]
    },
    {
     "name": "stderr",
     "output_type": "stream",
     "text": [
      "\r",
      "Epoch 1/10:  29%|███████████████████████████████████████████████████▋                                                                                                                            | 291/991 [06:16<15:06,  1.29s/batch, batch_loss=19.1, batch_index=292, batch_size=256]"
     ]
    },
    {
     "name": "stderr",
     "output_type": "stream",
     "text": [
      "\r",
      "Epoch 1/10:  29%|███████████████████████████████████████████████████▊                                                                                                                            | 292/991 [06:16<15:03,  1.29s/batch, batch_loss=19.1, batch_index=292, batch_size=256]"
     ]
    },
    {
     "name": "stderr",
     "output_type": "stream",
     "text": [
      "\r",
      "Epoch 1/10:  29%|███████████████████████████████████████████████████▊                                                                                                                            | 292/991 [06:17<15:03,  1.29s/batch, batch_loss=18.4, batch_index=293, batch_size=256]"
     ]
    },
    {
     "name": "stderr",
     "output_type": "stream",
     "text": [
      "\r",
      "Epoch 1/10:  30%|████████████████████████████████████████████████████                                                                                                                            | 293/991 [06:17<15:01,  1.29s/batch, batch_loss=18.4, batch_index=293, batch_size=256]"
     ]
    },
    {
     "name": "stderr",
     "output_type": "stream",
     "text": [
      "\r",
      "Epoch 1/10:  30%|████████████████████████████████████████████████████                                                                                                                            | 293/991 [06:19<15:01,  1.29s/batch, batch_loss=17.4, batch_index=294, batch_size=256]"
     ]
    },
    {
     "name": "stderr",
     "output_type": "stream",
     "text": [
      "\r",
      "Epoch 1/10:  30%|████████████████████████████████████████████████████▏                                                                                                                           | 294/991 [06:19<14:55,  1.28s/batch, batch_loss=17.4, batch_index=294, batch_size=256]"
     ]
    },
    {
     "name": "stderr",
     "output_type": "stream",
     "text": [
      "\r",
      "Epoch 1/10:  30%|████████████████████████████████████████████████████▏                                                                                                                           | 294/991 [06:20<14:55,  1.28s/batch, batch_loss=14.8, batch_index=295, batch_size=256]"
     ]
    },
    {
     "name": "stderr",
     "output_type": "stream",
     "text": [
      "\r",
      "Epoch 1/10:  30%|████████████████████████████████████████████████████▍                                                                                                                           | 295/991 [06:20<14:54,  1.29s/batch, batch_loss=14.8, batch_index=295, batch_size=256]"
     ]
    },
    {
     "name": "stderr",
     "output_type": "stream",
     "text": [
      "\r",
      "Epoch 1/10:  30%|████████████████████████████████████████████████████▍                                                                                                                           | 295/991 [06:21<14:54,  1.29s/batch, batch_loss=22.4, batch_index=296, batch_size=256]"
     ]
    },
    {
     "name": "stderr",
     "output_type": "stream",
     "text": [
      "\r",
      "Epoch 1/10:  30%|████████████████████████████████████████████████████▌                                                                                                                           | 296/991 [06:21<14:57,  1.29s/batch, batch_loss=22.4, batch_index=296, batch_size=256]"
     ]
    },
    {
     "name": "stderr",
     "output_type": "stream",
     "text": [
      "\r",
      "Epoch 1/10:  30%|████████████████████████████████████████████████████▌                                                                                                                           | 296/991 [06:22<14:57,  1.29s/batch, batch_loss=19.8, batch_index=297, batch_size=256]"
     ]
    },
    {
     "name": "stderr",
     "output_type": "stream",
     "text": [
      "\r",
      "Epoch 1/10:  30%|████████████████████████████████████████████████████▋                                                                                                                           | 297/991 [06:22<14:55,  1.29s/batch, batch_loss=19.8, batch_index=297, batch_size=256]"
     ]
    },
    {
     "name": "stderr",
     "output_type": "stream",
     "text": [
      "\r",
      "Epoch 1/10:  30%|███████████████████████████████████████████████████▊                                                                                                                         | 297/991 [06:24<14:55,  1.29s/batch, batch_loss=3.25e+4, batch_index=298, batch_size=256]"
     ]
    },
    {
     "name": "stderr",
     "output_type": "stream",
     "text": [
      "\r",
      "Epoch 1/10:  30%|████████████████████████████████████████████████████                                                                                                                         | 298/991 [06:24<14:55,  1.29s/batch, batch_loss=3.25e+4, batch_index=298, batch_size=256]"
     ]
    },
    {
     "name": "stderr",
     "output_type": "stream",
     "text": [
      "\r",
      "Epoch 1/10:  30%|████████████████████████████████████████████████████▉                                                                                                                           | 298/991 [06:25<14:55,  1.29s/batch, batch_loss=29.3, batch_index=299, batch_size=256]"
     ]
    },
    {
     "name": "stderr",
     "output_type": "stream",
     "text": [
      "\r",
      "Epoch 1/10:  30%|█████████████████████████████████████████████████████                                                                                                                           | 299/991 [06:25<14:56,  1.29s/batch, batch_loss=29.3, batch_index=299, batch_size=256]"
     ]
    },
    {
     "name": "stderr",
     "output_type": "stream",
     "text": [
      "\r",
      "Epoch 1/10:  30%|█████████████████████████████████████████████████████                                                                                                                           | 299/991 [06:26<14:56,  1.29s/batch, batch_loss=10.8, batch_index=300, batch_size=256]"
     ]
    },
    {
     "name": "stderr",
     "output_type": "stream",
     "text": [
      "\r",
      "Epoch 1/10:  30%|█████████████████████████████████████████████████████▎                                                                                                                          | 300/991 [06:26<14:57,  1.30s/batch, batch_loss=10.8, batch_index=300, batch_size=256]"
     ]
    },
    {
     "name": "stderr",
     "output_type": "stream",
     "text": [
      "\r",
      "Epoch 1/10:  30%|█████████████████████████████████████████████████████▎                                                                                                                          | 300/991 [06:28<14:57,  1.30s/batch, batch_loss=10.6, batch_index=301, batch_size=256]"
     ]
    },
    {
     "name": "stderr",
     "output_type": "stream",
     "text": [
      "\r",
      "Epoch 1/10:  30%|█████████████████████████████████████████████████████▍                                                                                                                          | 301/991 [06:28<14:33,  1.27s/batch, batch_loss=10.6, batch_index=301, batch_size=256]"
     ]
    },
    {
     "name": "stderr",
     "output_type": "stream",
     "text": [
      "\r",
      "Epoch 1/10:  30%|█████████████████████████████████████████████████████▍                                                                                                                          | 301/991 [06:29<14:33,  1.27s/batch, batch_loss=13.4, batch_index=302, batch_size=256]"
     ]
    },
    {
     "name": "stderr",
     "output_type": "stream",
     "text": [
      "\r",
      "Epoch 1/10:  30%|█████████████████████████████████████████████████████▋                                                                                                                          | 302/991 [06:29<14:36,  1.27s/batch, batch_loss=13.4, batch_index=302, batch_size=256]"
     ]
    },
    {
     "name": "stderr",
     "output_type": "stream",
     "text": [
      "\r",
      "Epoch 1/10:  30%|█████████████████████████████████████████████████████▋                                                                                                                          | 302/991 [06:30<14:36,  1.27s/batch, batch_loss=15.2, batch_index=303, batch_size=256]"
     ]
    },
    {
     "name": "stderr",
     "output_type": "stream",
     "text": [
      "\r",
      "Epoch 1/10:  31%|█████████████████████████████████████████████████████▊                                                                                                                          | 303/991 [06:30<14:38,  1.28s/batch, batch_loss=15.2, batch_index=303, batch_size=256]"
     ]
    },
    {
     "name": "stderr",
     "output_type": "stream",
     "text": [
      "\r",
      "Epoch 1/10:  31%|█████████████████████████████████████████████████████▊                                                                                                                          | 303/991 [06:31<14:38,  1.28s/batch, batch_loss=8.93, batch_index=304, batch_size=256]"
     ]
    },
    {
     "name": "stderr",
     "output_type": "stream",
     "text": [
      "\r",
      "Epoch 1/10:  31%|█████████████████████████████████████████████████████▉                                                                                                                          | 304/991 [06:31<14:41,  1.28s/batch, batch_loss=8.93, batch_index=304, batch_size=256]"
     ]
    },
    {
     "name": "stderr",
     "output_type": "stream",
     "text": [
      "\r",
      "Epoch 1/10:  31%|█████████████████████████████████████████████████████▉                                                                                                                          | 304/991 [06:33<14:41,  1.28s/batch, batch_loss=16.8, batch_index=305, batch_size=256]"
     ]
    },
    {
     "name": "stderr",
     "output_type": "stream",
     "text": [
      "\r",
      "Epoch 1/10:  31%|██████████████████████████████████████████████████████▏                                                                                                                         | 305/991 [06:33<14:42,  1.29s/batch, batch_loss=16.8, batch_index=305, batch_size=256]"
     ]
    },
    {
     "name": "stderr",
     "output_type": "stream",
     "text": [
      "\r",
      "Epoch 1/10:  31%|██████████████████████████████████████████████████████▏                                                                                                                         | 305/991 [06:34<14:42,  1.29s/batch, batch_loss=16.1, batch_index=306, batch_size=256]"
     ]
    },
    {
     "name": "stderr",
     "output_type": "stream",
     "text": [
      "\r",
      "Epoch 1/10:  31%|██████████████████████████████████████████████████████▎                                                                                                                         | 306/991 [06:34<14:41,  1.29s/batch, batch_loss=16.1, batch_index=306, batch_size=256]"
     ]
    },
    {
     "name": "stderr",
     "output_type": "stream",
     "text": [
      "\r",
      "Epoch 1/10:  31%|█████████████████████████████████████████████████████▋                                                                                                                        | 306/991 [06:35<14:41,  1.29s/batch, batch_loss=6.3e+3, batch_index=307, batch_size=256]"
     ]
    },
    {
     "name": "stderr",
     "output_type": "stream",
     "text": [
      "\r",
      "Epoch 1/10:  31%|█████████████████████████████████████████████████████▉                                                                                                                        | 307/991 [06:35<14:42,  1.29s/batch, batch_loss=6.3e+3, batch_index=307, batch_size=256]"
     ]
    },
    {
     "name": "stderr",
     "output_type": "stream",
     "text": [
      "\r",
      "Epoch 1/10:  31%|██████████████████████████████████████████████████████▌                                                                                                                         | 307/991 [06:37<14:42,  1.29s/batch, batch_loss=17.7, batch_index=308, batch_size=256]"
     ]
    },
    {
     "name": "stderr",
     "output_type": "stream",
     "text": [
      "\r",
      "Epoch 1/10:  31%|██████████████████████████████████████████████████████▋                                                                                                                         | 308/991 [06:37<14:43,  1.29s/batch, batch_loss=17.7, batch_index=308, batch_size=256]"
     ]
    },
    {
     "name": "stderr",
     "output_type": "stream",
     "text": [
      "\r",
      "Epoch 1/10:  31%|██████████████████████████████████████████████████████▋                                                                                                                         | 308/991 [06:38<14:43,  1.29s/batch, batch_loss=40.2, batch_index=309, batch_size=256]"
     ]
    },
    {
     "name": "stderr",
     "output_type": "stream",
     "text": [
      "\r",
      "Epoch 1/10:  31%|██████████████████████████████████████████████████████▉                                                                                                                         | 309/991 [06:38<14:43,  1.30s/batch, batch_loss=40.2, batch_index=309, batch_size=256]"
     ]
    },
    {
     "name": "stderr",
     "output_type": "stream",
     "text": [
      "\r",
      "Epoch 1/10:  31%|███████████████████████████████████████████████████████▌                                                                                                                          | 309/991 [06:39<14:43,  1.30s/batch, batch_loss=37, batch_index=310, batch_size=256]"
     ]
    },
    {
     "name": "stderr",
     "output_type": "stream",
     "text": [
      "\r",
      "Epoch 1/10:  31%|███████████████████████████████████████████████████████▋                                                                                                                          | 310/991 [06:39<14:43,  1.30s/batch, batch_loss=37, batch_index=310, batch_size=256]"
     ]
    },
    {
     "name": "stderr",
     "output_type": "stream",
     "text": [
      "\r",
      "Epoch 1/10:  31%|███████████████████████████████████████████████████████                                                                                                                         | 310/991 [06:40<14:43,  1.30s/batch, batch_loss=42.7, batch_index=311, batch_size=256]"
     ]
    },
    {
     "name": "stderr",
     "output_type": "stream",
     "text": [
      "\r",
      "Epoch 1/10:  31%|███████████████████████████████████████████████████████▏                                                                                                                        | 311/991 [06:40<14:40,  1.30s/batch, batch_loss=42.7, batch_index=311, batch_size=256]"
     ]
    },
    {
     "name": "stderr",
     "output_type": "stream",
     "text": [
      "\r",
      "Epoch 1/10:  31%|███████████████████████████████████████████████████████▏                                                                                                                        | 311/991 [06:42<14:40,  1.30s/batch, batch_loss=19.6, batch_index=312, batch_size=256]"
     ]
    },
    {
     "name": "stderr",
     "output_type": "stream",
     "text": [
      "\r",
      "Epoch 1/10:  31%|███████████████████████████████████████████████████████▍                                                                                                                        | 312/991 [06:42<14:38,  1.29s/batch, batch_loss=19.6, batch_index=312, batch_size=256]"
     ]
    },
    {
     "name": "stderr",
     "output_type": "stream",
     "text": [
      "\r",
      "Epoch 1/10:  31%|██████████████████████████████████████████████████████▍                                                                                                                      | 312/991 [06:43<14:38,  1.29s/batch, batch_loss=1.06e+4, batch_index=313, batch_size=256]"
     ]
    },
    {
     "name": "stderr",
     "output_type": "stream",
     "text": [
      "\r",
      "Epoch 1/10:  32%|██████████████████████████████████████████████████████▋                                                                                                                      | 313/991 [06:43<14:39,  1.30s/batch, batch_loss=1.06e+4, batch_index=313, batch_size=256]"
     ]
    },
    {
     "name": "stderr",
     "output_type": "stream",
     "text": [
      "\r",
      "Epoch 1/10:  32%|███████████████████████████████████████████████████████▉                                                                                                                         | 313/991 [06:44<14:39,  1.30s/batch, batch_loss=9.4, batch_index=314, batch_size=256]"
     ]
    },
    {
     "name": "stderr",
     "output_type": "stream",
     "text": [
      "\r",
      "Epoch 1/10:  32%|████████████████████████████████████████████████████████                                                                                                                         | 314/991 [06:44<14:37,  1.30s/batch, batch_loss=9.4, batch_index=314, batch_size=256]"
     ]
    },
    {
     "name": "stderr",
     "output_type": "stream",
     "text": [
      "\r",
      "Epoch 1/10:  32%|███████████████████████████████████████████████████████▊                                                                                                                        | 314/991 [06:46<14:37,  1.30s/batch, batch_loss=17.8, batch_index=315, batch_size=256]"
     ]
    },
    {
     "name": "stderr",
     "output_type": "stream",
     "text": [
      "\r",
      "Epoch 1/10:  32%|███████████████████████████████████████████████████████▉                                                                                                                        | 315/991 [06:46<14:34,  1.29s/batch, batch_loss=17.8, batch_index=315, batch_size=256]"
     ]
    },
    {
     "name": "stderr",
     "output_type": "stream",
     "text": [
      "\r",
      "Epoch 1/10:  32%|███████████████████████████████████████████████████████▉                                                                                                                        | 315/991 [06:47<14:34,  1.29s/batch, batch_loss=31.3, batch_index=316, batch_size=256]"
     ]
    },
    {
     "name": "stderr",
     "output_type": "stream",
     "text": [
      "\r",
      "Epoch 1/10:  32%|████████████████████████████████████████████████████████                                                                                                                        | 316/991 [06:47<14:35,  1.30s/batch, batch_loss=31.3, batch_index=316, batch_size=256]"
     ]
    },
    {
     "name": "stderr",
     "output_type": "stream",
     "text": [
      "\r",
      "Epoch 1/10:  32%|████████████████████████████████████████████████████████                                                                                                                        | 316/991 [06:48<14:35,  1.30s/batch, batch_loss=35.4, batch_index=317, batch_size=256]"
     ]
    },
    {
     "name": "stderr",
     "output_type": "stream",
     "text": [
      "\r",
      "Epoch 1/10:  32%|████████████████████████████████████████████████████████▎                                                                                                                       | 317/991 [06:48<14:32,  1.30s/batch, batch_loss=35.4, batch_index=317, batch_size=256]"
     ]
    },
    {
     "name": "stderr",
     "output_type": "stream",
     "text": [
      "\r",
      "Epoch 1/10:  32%|████████████████████████████████████████████████████████▎                                                                                                                       | 317/991 [06:50<14:32,  1.30s/batch, batch_loss=38.8, batch_index=318, batch_size=256]"
     ]
    },
    {
     "name": "stderr",
     "output_type": "stream",
     "text": [
      "\r",
      "Epoch 1/10:  32%|████████████████████████████████████████████████████████▍                                                                                                                       | 318/991 [06:50<14:31,  1.29s/batch, batch_loss=38.8, batch_index=318, batch_size=256]"
     ]
    },
    {
     "name": "stderr",
     "output_type": "stream",
     "text": [
      "\r",
      "Epoch 1/10:  32%|████████████████████████████████████████████████████████▍                                                                                                                       | 318/991 [06:51<14:31,  1.29s/batch, batch_loss=46.8, batch_index=319, batch_size=256]"
     ]
    },
    {
     "name": "stderr",
     "output_type": "stream",
     "text": [
      "\r",
      "Epoch 1/10:  32%|████████████████████████████████████████████████████████▋                                                                                                                       | 319/991 [06:51<14:29,  1.29s/batch, batch_loss=46.8, batch_index=319, batch_size=256]"
     ]
    },
    {
     "name": "stderr",
     "output_type": "stream",
     "text": [
      "\r",
      "Epoch 1/10:  32%|████████████████████████████████████████████████████████▋                                                                                                                       | 319/991 [06:52<14:29,  1.29s/batch, batch_loss=24.1, batch_index=320, batch_size=256]"
     ]
    },
    {
     "name": "stderr",
     "output_type": "stream",
     "text": [
      "\r",
      "Epoch 1/10:  32%|████████████████████████████████████████████████████████▊                                                                                                                       | 320/991 [06:52<14:29,  1.30s/batch, batch_loss=24.1, batch_index=320, batch_size=256]"
     ]
    },
    {
     "name": "stderr",
     "output_type": "stream",
     "text": [
      "\r",
      "Epoch 1/10:  32%|████████████████████████████████████████████████████████▊                                                                                                                       | 320/991 [06:53<14:29,  1.30s/batch, batch_loss=52.1, batch_index=321, batch_size=256]"
     ]
    },
    {
     "name": "stderr",
     "output_type": "stream",
     "text": [
      "\r",
      "Epoch 1/10:  32%|█████████████████████████████████████████████████████████                                                                                                                       | 321/991 [06:53<14:27,  1.30s/batch, batch_loss=52.1, batch_index=321, batch_size=256]"
     ]
    },
    {
     "name": "stderr",
     "output_type": "stream",
     "text": [
      "\r",
      "Epoch 1/10:  32%|█████████████████████████████████████████████████████████▋                                                                                                                        | 321/991 [06:55<14:27,  1.30s/batch, batch_loss=14, batch_index=322, batch_size=256]"
     ]
    },
    {
     "name": "stderr",
     "output_type": "stream",
     "text": [
      "\r",
      "Epoch 1/10:  32%|█████████████████████████████████████████████████████████▊                                                                                                                        | 322/991 [06:55<14:26,  1.30s/batch, batch_loss=14, batch_index=322, batch_size=256]"
     ]
    },
    {
     "name": "stderr",
     "output_type": "stream",
     "text": [
      "\r",
      "Epoch 1/10:  32%|█████████████████████████████████████████████████████████▏                                                                                                                      | 322/991 [06:56<14:26,  1.30s/batch, batch_loss=17.1, batch_index=323, batch_size=256]"
     ]
    },
    {
     "name": "stderr",
     "output_type": "stream",
     "text": [
      "\r",
      "Epoch 1/10:  33%|█████████████████████████████████████████████████████████▎                                                                                                                      | 323/991 [06:56<14:27,  1.30s/batch, batch_loss=17.1, batch_index=323, batch_size=256]"
     ]
    },
    {
     "name": "stderr",
     "output_type": "stream",
     "text": [
      "\r",
      "Epoch 1/10:  33%|█████████████████████████████████████████████████████████▎                                                                                                                      | 323/991 [06:57<14:27,  1.30s/batch, batch_loss=35.2, batch_index=324, batch_size=256]"
     ]
    },
    {
     "name": "stderr",
     "output_type": "stream",
     "text": [
      "\r",
      "Epoch 1/10:  33%|█████████████████████████████████████████████████████████▌                                                                                                                      | 324/991 [06:57<14:23,  1.30s/batch, batch_loss=35.2, batch_index=324, batch_size=256]"
     ]
    },
    {
     "name": "stderr",
     "output_type": "stream",
     "text": [
      "\r",
      "Epoch 1/10:  33%|██████████████████████████████████████████████████████████▏                                                                                                                       | 324/991 [06:59<14:23,  1.30s/batch, batch_loss=17, batch_index=325, batch_size=256]"
     ]
    },
    {
     "name": "stderr",
     "output_type": "stream",
     "text": [
      "\r",
      "Epoch 1/10:  33%|██████████████████████████████████████████████████████████▍                                                                                                                       | 325/991 [06:59<14:20,  1.29s/batch, batch_loss=17, batch_index=325, batch_size=256]"
     ]
    },
    {
     "name": "stderr",
     "output_type": "stream",
     "text": [
      "\r",
      "Epoch 1/10:  33%|█████████████████████████████████████████████████████████▋                                                                                                                      | 325/991 [07:00<14:20,  1.29s/batch, batch_loss=49.1, batch_index=326, batch_size=256]"
     ]
    },
    {
     "name": "stderr",
     "output_type": "stream",
     "text": [
      "\r",
      "Epoch 1/10:  33%|█████████████████████████████████████████████████████████▉                                                                                                                      | 326/991 [07:00<14:21,  1.30s/batch, batch_loss=49.1, batch_index=326, batch_size=256]"
     ]
    },
    {
     "name": "stderr",
     "output_type": "stream",
     "text": [
      "\r",
      "Epoch 1/10:  33%|████████████████████████████████████████████████████████▉                                                                                                                    | 326/991 [07:01<14:21,  1.30s/batch, batch_loss=3.05e+3, batch_index=327, batch_size=256]"
     ]
    },
    {
     "name": "stderr",
     "output_type": "stream",
     "text": [
      "\r",
      "Epoch 1/10:  33%|█████████████████████████████████████████████████████████                                                                                                                    | 327/991 [07:01<14:18,  1.29s/batch, batch_loss=3.05e+3, batch_index=327, batch_size=256]"
     ]
    },
    {
     "name": "stderr",
     "output_type": "stream",
     "text": [
      "\r",
      "Epoch 1/10:  33%|██████████████████████████████████████████████████████████                                                                                                                      | 327/991 [07:02<14:18,  1.29s/batch, batch_loss=14.2, batch_index=328, batch_size=256]"
     ]
    },
    {
     "name": "stderr",
     "output_type": "stream",
     "text": [
      "\r",
      "Epoch 1/10:  33%|██████████████████████████████████████████████████████████▎                                                                                                                     | 328/991 [07:02<14:04,  1.27s/batch, batch_loss=14.2, batch_index=328, batch_size=256]"
     ]
    },
    {
     "name": "stderr",
     "output_type": "stream",
     "text": [
      "\r",
      "Epoch 1/10:  33%|██████████████████████████████████████████████████████████▉                                                                                                                       | 328/991 [07:04<14:04,  1.27s/batch, batch_loss=35, batch_index=329, batch_size=256]"
     ]
    },
    {
     "name": "stderr",
     "output_type": "stream",
     "text": [
      "\r",
      "Epoch 1/10:  33%|███████████████████████████████████████████████████████████                                                                                                                       | 329/991 [07:04<14:08,  1.28s/batch, batch_loss=35, batch_index=329, batch_size=256]"
     ]
    },
    {
     "name": "stderr",
     "output_type": "stream",
     "text": [
      "\r",
      "Epoch 1/10:  33%|██████████████████████████████████████████████████████████▍                                                                                                                     | 329/991 [07:05<14:08,  1.28s/batch, batch_loss=33.9, batch_index=330, batch_size=256]"
     ]
    },
    {
     "name": "stderr",
     "output_type": "stream",
     "text": [
      "\r",
      "Epoch 1/10:  33%|██████████████████████████████████████████████████████████▌                                                                                                                     | 330/991 [07:05<14:12,  1.29s/batch, batch_loss=33.9, batch_index=330, batch_size=256]"
     ]
    },
    {
     "name": "stderr",
     "output_type": "stream",
     "text": [
      "\r",
      "Epoch 1/10:  33%|██████████████████████████████████████████████████████████▌                                                                                                                     | 330/991 [07:06<14:12,  1.29s/batch, batch_loss=24.2, batch_index=331, batch_size=256]"
     ]
    },
    {
     "name": "stderr",
     "output_type": "stream",
     "text": [
      "\r",
      "Epoch 1/10:  33%|██████████████████████████████████████████████████████████▊                                                                                                                     | 331/991 [07:06<14:10,  1.29s/batch, batch_loss=24.2, batch_index=331, batch_size=256]"
     ]
    },
    {
     "name": "stderr",
     "output_type": "stream",
     "text": [
      "\r",
      "Epoch 1/10:  33%|██████████████████████████████████████████████████████████▊                                                                                                                     | 331/991 [07:08<14:10,  1.29s/batch, batch_loss=27.7, batch_index=332, batch_size=256]"
     ]
    },
    {
     "name": "stderr",
     "output_type": "stream",
     "text": [
      "\r",
      "Epoch 1/10:  34%|██████████████████████████████████████████████████████████▉                                                                                                                     | 332/991 [07:08<14:12,  1.29s/batch, batch_loss=27.7, batch_index=332, batch_size=256]"
     ]
    },
    {
     "name": "stderr",
     "output_type": "stream",
     "text": [
      "\r",
      "Epoch 1/10:  34%|██████████████████████████████████████████████████████████▉                                                                                                                     | 332/991 [07:09<14:12,  1.29s/batch, batch_loss=29.8, batch_index=333, batch_size=256]"
     ]
    },
    {
     "name": "stderr",
     "output_type": "stream",
     "text": [
      "\r",
      "Epoch 1/10:  34%|███████████████████████████████████████████████████████████▏                                                                                                                    | 333/991 [07:09<14:08,  1.29s/batch, batch_loss=29.8, batch_index=333, batch_size=256]"
     ]
    },
    {
     "name": "stderr",
     "output_type": "stream",
     "text": [
      "\r",
      "Epoch 1/10:  34%|███████████████████████████████████████████████████████████▏                                                                                                                    | 333/991 [07:10<14:08,  1.29s/batch, batch_loss=28.4, batch_index=334, batch_size=256]"
     ]
    },
    {
     "name": "stderr",
     "output_type": "stream",
     "text": [
      "\r",
      "Epoch 1/10:  34%|███████████████████████████████████████████████████████████▎                                                                                                                    | 334/991 [07:10<14:07,  1.29s/batch, batch_loss=28.4, batch_index=334, batch_size=256]"
     ]
    },
    {
     "name": "stderr",
     "output_type": "stream",
     "text": [
      "\r",
      "Epoch 1/10:  34%|███████████████████████████████████████████████████████████▎                                                                                                                    | 334/991 [07:11<14:07,  1.29s/batch, batch_loss=10.2, batch_index=335, batch_size=256]"
     ]
    },
    {
     "name": "stderr",
     "output_type": "stream",
     "text": [
      "\r",
      "Epoch 1/10:  34%|███████████████████████████████████████████████████████████▍                                                                                                                    | 335/991 [07:11<14:08,  1.29s/batch, batch_loss=10.2, batch_index=335, batch_size=256]"
     ]
    },
    {
     "name": "stderr",
     "output_type": "stream",
     "text": [
      "\r",
      "Epoch 1/10:  34%|██████████████████████████████████████████████████████████▍                                                                                                                  | 335/991 [07:13<14:08,  1.29s/batch, batch_loss=8.46e+3, batch_index=336, batch_size=256]"
     ]
    },
    {
     "name": "stderr",
     "output_type": "stream",
     "text": [
      "\r",
      "Epoch 1/10:  34%|██████████████████████████████████████████████████████████▋                                                                                                                  | 336/991 [07:13<14:05,  1.29s/batch, batch_loss=8.46e+3, batch_index=336, batch_size=256]"
     ]
    },
    {
     "name": "stderr",
     "output_type": "stream",
     "text": [
      "\r",
      "Epoch 1/10:  34%|██████████████████████████████████████████████████████████▋                                                                                                                  | 336/991 [07:14<14:05,  1.29s/batch, batch_loss=2.38e+3, batch_index=337, batch_size=256]"
     ]
    },
    {
     "name": "stderr",
     "output_type": "stream",
     "text": [
      "\r",
      "Epoch 1/10:  34%|██████████████████████████████████████████████████████████▊                                                                                                                  | 337/991 [07:14<14:03,  1.29s/batch, batch_loss=2.38e+3, batch_index=337, batch_size=256]"
     ]
    },
    {
     "name": "stderr",
     "output_type": "stream",
     "text": [
      "\r",
      "Epoch 1/10:  34%|███████████████████████████████████████████████████████████▊                                                                                                                    | 337/991 [07:15<14:03,  1.29s/batch, batch_loss=10.9, batch_index=338, batch_size=256]"
     ]
    },
    {
     "name": "stderr",
     "output_type": "stream",
     "text": [
      "\r",
      "Epoch 1/10:  34%|████████████████████████████████████████████████████████████                                                                                                                    | 338/991 [07:15<14:03,  1.29s/batch, batch_loss=10.9, batch_index=338, batch_size=256]"
     ]
    },
    {
     "name": "stderr",
     "output_type": "stream",
     "text": [
      "\r",
      "Epoch 1/10:  34%|████████████████████████████████████████████████████████████                                                                                                                    | 338/991 [07:17<14:03,  1.29s/batch, batch_loss=55.6, batch_index=339, batch_size=256]"
     ]
    },
    {
     "name": "stderr",
     "output_type": "stream",
     "text": [
      "\r",
      "Epoch 1/10:  34%|████████████████████████████████████████████████████████████▏                                                                                                                   | 339/991 [07:17<14:01,  1.29s/batch, batch_loss=55.6, batch_index=339, batch_size=256]"
     ]
    },
    {
     "name": "stderr",
     "output_type": "stream",
     "text": [
      "\r",
      "Epoch 1/10:  34%|████████████████████████████████████████████████████████████▏                                                                                                                   | 339/991 [07:18<14:01,  1.29s/batch, batch_loss=16.2, batch_index=340, batch_size=256]"
     ]
    },
    {
     "name": "stderr",
     "output_type": "stream",
     "text": [
      "\r",
      "Epoch 1/10:  34%|████████████████████████████████████████████████████████████▍                                                                                                                   | 340/991 [07:18<14:01,  1.29s/batch, batch_loss=16.2, batch_index=340, batch_size=256]"
     ]
    },
    {
     "name": "stderr",
     "output_type": "stream",
     "text": [
      "\r",
      "Epoch 1/10:  34%|█████████████████████████████████████████████████████████████                                                                                                                     | 340/991 [07:19<14:01,  1.29s/batch, batch_loss=13, batch_index=341, batch_size=256]"
     ]
    },
    {
     "name": "stderr",
     "output_type": "stream",
     "text": [
      "\r",
      "Epoch 1/10:  34%|█████████████████████████████████████████████████████████████▏                                                                                                                    | 341/991 [07:19<14:00,  1.29s/batch, batch_loss=13, batch_index=341, batch_size=256]"
     ]
    },
    {
     "name": "stderr",
     "output_type": "stream",
     "text": [
      "\r",
      "Epoch 1/10:  34%|████████████████████████████████████████████████████████████▌                                                                                                                   | 341/991 [07:21<14:00,  1.29s/batch, batch_loss=6.06, batch_index=342, batch_size=256]"
     ]
    },
    {
     "name": "stderr",
     "output_type": "stream",
     "text": [
      "\r",
      "Epoch 1/10:  35%|████████████████████████████████████████████████████████████▋                                                                                                                   | 342/991 [07:21<13:58,  1.29s/batch, batch_loss=6.06, batch_index=342, batch_size=256]"
     ]
    },
    {
     "name": "stderr",
     "output_type": "stream",
     "text": [
      "\r",
      "Epoch 1/10:  35%|████████████████████████████████████████████████████████████▋                                                                                                                   | 342/991 [07:22<13:58,  1.29s/batch, batch_loss=14.1, batch_index=343, batch_size=256]"
     ]
    },
    {
     "name": "stderr",
     "output_type": "stream",
     "text": [
      "\r",
      "Epoch 1/10:  35%|████████████████████████████████████████████████████████████▉                                                                                                                   | 343/991 [07:22<14:00,  1.30s/batch, batch_loss=14.1, batch_index=343, batch_size=256]"
     ]
    },
    {
     "name": "stderr",
     "output_type": "stream",
     "text": [
      "\r",
      "Epoch 1/10:  35%|████████████████████████████████████████████████████████████▉                                                                                                                   | 343/991 [07:23<14:00,  1.30s/batch, batch_loss=40.7, batch_index=344, batch_size=256]"
     ]
    },
    {
     "name": "stderr",
     "output_type": "stream",
     "text": [
      "\r",
      "Epoch 1/10:  35%|█████████████████████████████████████████████████████████████                                                                                                                   | 344/991 [07:23<13:57,  1.29s/batch, batch_loss=40.7, batch_index=344, batch_size=256]"
     ]
    },
    {
     "name": "stderr",
     "output_type": "stream",
     "text": [
      "\r",
      "Epoch 1/10:  35%|█████████████████████████████████████████████████████████████▍                                                                                                                   | 344/991 [07:24<13:57,  1.29s/batch, batch_loss=134, batch_index=345, batch_size=256]"
     ]
    },
    {
     "name": "stderr",
     "output_type": "stream",
     "text": [
      "\r",
      "Epoch 1/10:  35%|█████████████████████████████████████████████████████████████▌                                                                                                                   | 345/991 [07:24<13:56,  1.29s/batch, batch_loss=134, batch_index=345, batch_size=256]"
     ]
    },
    {
     "name": "stderr",
     "output_type": "stream",
     "text": [
      "\r",
      "Epoch 1/10:  35%|█████████████████████████████████████████████████████████████▎                                                                                                                  | 345/991 [07:26<13:56,  1.29s/batch, batch_loss=20.3, batch_index=346, batch_size=256]"
     ]
    },
    {
     "name": "stderr",
     "output_type": "stream",
     "text": [
      "\r",
      "Epoch 1/10:  35%|█████████████████████████████████████████████████████████████▍                                                                                                                  | 346/991 [07:26<13:58,  1.30s/batch, batch_loss=20.3, batch_index=346, batch_size=256]"
     ]
    },
    {
     "name": "stderr",
     "output_type": "stream",
     "text": [
      "\r",
      "Epoch 1/10:  35%|██████████████████████████████████████████████████████████████▏                                                                                                                   | 346/991 [07:27<13:58,  1.30s/batch, batch_loss=15, batch_index=347, batch_size=256]"
     ]
    },
    {
     "name": "stderr",
     "output_type": "stream",
     "text": [
      "\r",
      "Epoch 1/10:  35%|██████████████████████████████████████████████████████████████▎                                                                                                                   | 347/991 [07:27<13:55,  1.30s/batch, batch_loss=15, batch_index=347, batch_size=256]"
     ]
    },
    {
     "name": "stderr",
     "output_type": "stream",
     "text": [
      "\r",
      "Epoch 1/10:  35%|█████████████████████████████████████████████████████████████▋                                                                                                                  | 347/991 [07:28<13:55,  1.30s/batch, batch_loss=21.6, batch_index=348, batch_size=256]"
     ]
    },
    {
     "name": "stderr",
     "output_type": "stream",
     "text": [
      "\r",
      "Epoch 1/10:  35%|█████████████████████████████████████████████████████████████▊                                                                                                                  | 348/991 [07:28<13:54,  1.30s/batch, batch_loss=21.6, batch_index=348, batch_size=256]"
     ]
    },
    {
     "name": "stderr",
     "output_type": "stream",
     "text": [
      "\r",
      "Epoch 1/10:  35%|█████████████████████████████████████████████████████████████▊                                                                                                                  | 348/991 [07:30<13:54,  1.30s/batch, batch_loss=12.7, batch_index=349, batch_size=256]"
     ]
    },
    {
     "name": "stderr",
     "output_type": "stream",
     "text": [
      "\r",
      "Epoch 1/10:  35%|█████████████████████████████████████████████████████████████▉                                                                                                                  | 349/991 [07:30<13:52,  1.30s/batch, batch_loss=12.7, batch_index=349, batch_size=256]"
     ]
    },
    {
     "name": "stderr",
     "output_type": "stream",
     "text": [
      "\r",
      "Epoch 1/10:  35%|█████████████████████████████████████████████████████████████▉                                                                                                                  | 349/991 [07:31<13:52,  1.30s/batch, batch_loss=16.8, batch_index=350, batch_size=256]"
     ]
    },
    {
     "name": "stderr",
     "output_type": "stream",
     "text": [
      "\r",
      "Epoch 1/10:  35%|██████████████████████████████████████████████████████████████▏                                                                                                                 | 350/991 [07:31<13:50,  1.30s/batch, batch_loss=16.8, batch_index=350, batch_size=256]"
     ]
    },
    {
     "name": "stderr",
     "output_type": "stream",
     "text": [
      "\r",
      "Epoch 1/10:  35%|██████████████████████████████████████████████████████████████▏                                                                                                                 | 350/991 [07:32<13:50,  1.30s/batch, batch_loss=12.4, batch_index=351, batch_size=256]"
     ]
    },
    {
     "name": "stderr",
     "output_type": "stream",
     "text": [
      "\r",
      "Epoch 1/10:  35%|██████████████████████████████████████████████████████████████▎                                                                                                                 | 351/991 [07:32<13:48,  1.30s/batch, batch_loss=12.4, batch_index=351, batch_size=256]"
     ]
    },
    {
     "name": "stderr",
     "output_type": "stream",
     "text": [
      "\r",
      "Epoch 1/10:  35%|██████████████████████████████████████████████████████████████▎                                                                                                                 | 351/991 [07:33<13:48,  1.30s/batch, batch_loss=23.2, batch_index=352, batch_size=256]"
     ]
    },
    {
     "name": "stderr",
     "output_type": "stream",
     "text": [
      "\r",
      "Epoch 1/10:  36%|██████████████████████████████████████████████████████████████▌                                                                                                                 | 352/991 [07:34<13:48,  1.30s/batch, batch_loss=23.2, batch_index=352, batch_size=256]"
     ]
    },
    {
     "name": "stderr",
     "output_type": "stream",
     "text": [
      "\r",
      "Epoch 1/10:  36%|██████████████████████████████████████████████████████████████▌                                                                                                                 | 352/991 [07:35<13:48,  1.30s/batch, batch_loss=34.1, batch_index=353, batch_size=256]"
     ]
    },
    {
     "name": "stderr",
     "output_type": "stream",
     "text": [
      "\r",
      "Epoch 1/10:  36%|██████████████████████████████████████████████████████████████▋                                                                                                                 | 353/991 [07:35<13:46,  1.29s/batch, batch_loss=34.1, batch_index=353, batch_size=256]"
     ]
    },
    {
     "name": "stderr",
     "output_type": "stream",
     "text": [
      "\r",
      "Epoch 1/10:  36%|██████████████████████████████████████████████████████████████▋                                                                                                                 | 353/991 [07:36<13:46,  1.29s/batch, batch_loss=29.6, batch_index=354, batch_size=256]"
     ]
    },
    {
     "name": "stderr",
     "output_type": "stream",
     "text": [
      "\r",
      "Epoch 1/10:  36%|██████████████████████████████████████████████████████████████▊                                                                                                                 | 354/991 [07:36<13:43,  1.29s/batch, batch_loss=29.6, batch_index=354, batch_size=256]"
     ]
    },
    {
     "name": "stderr",
     "output_type": "stream",
     "text": [
      "\r",
      "Epoch 1/10:  36%|██████████████████████████████████████████████████████████████▊                                                                                                                 | 354/991 [07:37<13:43,  1.29s/batch, batch_loss=14.8, batch_index=355, batch_size=256]"
     ]
    },
    {
     "name": "stderr",
     "output_type": "stream",
     "text": [
      "\r",
      "Epoch 1/10:  36%|███████████████████████████████████████████████████████████████                                                                                                                 | 355/991 [07:37<13:29,  1.27s/batch, batch_loss=14.8, batch_index=355, batch_size=256]"
     ]
    },
    {
     "name": "stderr",
     "output_type": "stream",
     "text": [
      "\r",
      "Epoch 1/10:  36%|███████████████████████████████████████████████████████████████                                                                                                                 | 355/991 [07:39<13:29,  1.27s/batch, batch_loss=26.6, batch_index=356, batch_size=256]"
     ]
    },
    {
     "name": "stderr",
     "output_type": "stream",
     "text": [
      "\r",
      "Epoch 1/10:  36%|███████████████████████████████████████████████████████████████▏                                                                                                                | 356/991 [07:39<13:36,  1.29s/batch, batch_loss=26.6, batch_index=356, batch_size=256]"
     ]
    },
    {
     "name": "stderr",
     "output_type": "stream",
     "text": [
      "\r",
      "Epoch 1/10:  36%|███████████████████████████████████████████████████████████████▏                                                                                                                | 356/991 [07:40<13:36,  1.29s/batch, batch_loss=30.4, batch_index=357, batch_size=256]"
     ]
    },
    {
     "name": "stderr",
     "output_type": "stream",
     "text": [
      "\r",
      "Epoch 1/10:  36%|███████████████████████████████████████████████████████████████▍                                                                                                                | 357/991 [07:40<13:35,  1.29s/batch, batch_loss=30.4, batch_index=357, batch_size=256]"
     ]
    },
    {
     "name": "stderr",
     "output_type": "stream",
     "text": [
      "\r",
      "Epoch 1/10:  36%|████████████████████████████████████████████████████████████████                                                                                                                  | 357/991 [07:41<13:35,  1.29s/batch, batch_loss=19, batch_index=358, batch_size=256]"
     ]
    },
    {
     "name": "stderr",
     "output_type": "stream",
     "text": [
      "\r",
      "Epoch 1/10:  36%|████████████████████████████████████████████████████████████████▎                                                                                                                 | 358/991 [07:41<13:35,  1.29s/batch, batch_loss=19, batch_index=358, batch_size=256]"
     ]
    },
    {
     "name": "stderr",
     "output_type": "stream",
     "text": [
      "\r",
      "Epoch 1/10:  36%|███████████████████████████████████████████████████████████████▌                                                                                                                | 358/991 [07:42<13:35,  1.29s/batch, batch_loss=8.81, batch_index=359, batch_size=256]"
     ]
    },
    {
     "name": "stderr",
     "output_type": "stream",
     "text": [
      "\r",
      "Epoch 1/10:  36%|███████████████████████████████████████████████████████████████▊                                                                                                                | 359/991 [07:42<13:34,  1.29s/batch, batch_loss=8.81, batch_index=359, batch_size=256]"
     ]
    },
    {
     "name": "stderr",
     "output_type": "stream",
     "text": [
      "\r",
      "Epoch 1/10:  36%|███████████████████████████████████████████████████████████████▊                                                                                                                | 359/991 [07:44<13:34,  1.29s/batch, batch_loss=15.6, batch_index=360, batch_size=256]"
     ]
    },
    {
     "name": "stderr",
     "output_type": "stream",
     "text": [
      "\r",
      "Epoch 1/10:  36%|███████████████████████████████████████████████████████████████▉                                                                                                                | 360/991 [07:44<13:34,  1.29s/batch, batch_loss=15.6, batch_index=360, batch_size=256]"
     ]
    },
    {
     "name": "stderr",
     "output_type": "stream",
     "text": [
      "\r",
      "Epoch 1/10:  36%|████████████████████████████████████████████████████████████████▋                                                                                                                 | 360/991 [07:45<13:34,  1.29s/batch, batch_loss=43, batch_index=361, batch_size=256]"
     ]
    },
    {
     "name": "stderr",
     "output_type": "stream",
     "text": [
      "\r",
      "Epoch 1/10:  36%|████████████████████████████████████████████████████████████████▊                                                                                                                 | 361/991 [07:45<13:33,  1.29s/batch, batch_loss=43, batch_index=361, batch_size=256]"
     ]
    },
    {
     "name": "stderr",
     "output_type": "stream",
     "text": [
      "\r",
      "Epoch 1/10:  36%|████████████████████████████████████████████████████████████████                                                                                                                | 361/991 [07:46<13:33,  1.29s/batch, batch_loss=33.5, batch_index=362, batch_size=256]"
     ]
    },
    {
     "name": "stderr",
     "output_type": "stream",
     "text": [
      "\r",
      "Epoch 1/10:  37%|████████████████████████████████████████████████████████████████▎                                                                                                               | 362/991 [07:46<13:33,  1.29s/batch, batch_loss=33.5, batch_index=362, batch_size=256]"
     ]
    },
    {
     "name": "stderr",
     "output_type": "stream",
     "text": [
      "\r",
      "Epoch 1/10:  37%|████████████████████████████████████████████████████████████████▎                                                                                                               | 362/991 [07:48<13:33,  1.29s/batch, batch_loss=21.4, batch_index=363, batch_size=256]"
     ]
    },
    {
     "name": "stderr",
     "output_type": "stream",
     "text": [
      "\r",
      "Epoch 1/10:  37%|████████████████████████████████████████████████████████████████▍                                                                                                               | 363/991 [07:48<13:35,  1.30s/batch, batch_loss=21.4, batch_index=363, batch_size=256]"
     ]
    },
    {
     "name": "stderr",
     "output_type": "stream",
     "text": [
      "\r",
      "Epoch 1/10:  37%|█████████████████████████████████████████████████████████████████▏                                                                                                                | 363/991 [07:49<13:35,  1.30s/batch, batch_loss=23, batch_index=364, batch_size=256]"
     ]
    },
    {
     "name": "stderr",
     "output_type": "stream",
     "text": [
      "\r",
      "Epoch 1/10:  37%|█████████████████████████████████████████████████████████████████▍                                                                                                                | 364/991 [07:49<13:33,  1.30s/batch, batch_loss=23, batch_index=364, batch_size=256]"
     ]
    },
    {
     "name": "stderr",
     "output_type": "stream",
     "text": [
      "\r",
      "Epoch 1/10:  37%|████████████████████████████████████████████████████████████████▋                                                                                                               | 364/991 [07:50<13:33,  1.30s/batch, batch_loss=15.5, batch_index=365, batch_size=256]"
     ]
    },
    {
     "name": "stderr",
     "output_type": "stream",
     "text": [
      "\r",
      "Epoch 1/10:  37%|████████████████████████████████████████████████████████████████▊                                                                                                               | 365/991 [07:50<13:32,  1.30s/batch, batch_loss=15.5, batch_index=365, batch_size=256]"
     ]
    },
    {
     "name": "stderr",
     "output_type": "stream",
     "text": [
      "\r",
      "Epoch 1/10:  37%|████████████████████████████████████████████████████████████████▊                                                                                                               | 365/991 [07:52<13:32,  1.30s/batch, batch_loss=16.8, batch_index=366, batch_size=256]"
     ]
    },
    {
     "name": "stderr",
     "output_type": "stream",
     "text": [
      "\r",
      "Epoch 1/10:  37%|█████████████████████████████████████████████████████████████████                                                                                                               | 366/991 [07:52<13:29,  1.29s/batch, batch_loss=16.8, batch_index=366, batch_size=256]"
     ]
    },
    {
     "name": "stderr",
     "output_type": "stream",
     "text": [
      "\r",
      "Epoch 1/10:  37%|█████████████████████████████████████████████████████████████████                                                                                                               | 366/991 [07:53<13:29,  1.29s/batch, batch_loss=29.3, batch_index=367, batch_size=256]"
     ]
    },
    {
     "name": "stderr",
     "output_type": "stream",
     "text": [
      "\r",
      "Epoch 1/10:  37%|█████████████████████████████████████████████████████████████████▏                                                                                                              | 367/991 [07:53<13:28,  1.30s/batch, batch_loss=29.3, batch_index=367, batch_size=256]"
     ]
    },
    {
     "name": "stderr",
     "output_type": "stream",
     "text": [
      "\r",
      "Epoch 1/10:  37%|█████████████████████████████████████████████████████████████████▏                                                                                                              | 367/991 [07:54<13:28,  1.30s/batch, batch_loss=35.8, batch_index=368, batch_size=256]"
     ]
    },
    {
     "name": "stderr",
     "output_type": "stream",
     "text": [
      "\r",
      "Epoch 1/10:  37%|█████████████████████████████████████████████████████████████████▎                                                                                                              | 368/991 [07:54<13:27,  1.30s/batch, batch_loss=35.8, batch_index=368, batch_size=256]"
     ]
    },
    {
     "name": "stderr",
     "output_type": "stream",
     "text": [
      "\r",
      "Epoch 1/10:  37%|█████████████████████████████████████████████████████████████████▎                                                                                                              | 368/991 [07:55<13:27,  1.30s/batch, batch_loss=14.5, batch_index=369, batch_size=256]"
     ]
    },
    {
     "name": "stderr",
     "output_type": "stream",
     "text": [
      "\r",
      "Epoch 1/10:  37%|█████████████████████████████████████████████████████████████████▌                                                                                                              | 369/991 [07:55<13:24,  1.29s/batch, batch_loss=14.5, batch_index=369, batch_size=256]"
     ]
    },
    {
     "name": "stderr",
     "output_type": "stream",
     "text": [
      "\r",
      "Epoch 1/10:  37%|████████████████████████████████████████████████████████████████▍                                                                                                            | 369/991 [07:57<13:24,  1.29s/batch, batch_loss=1.21e+4, batch_index=370, batch_size=256]"
     ]
    },
    {
     "name": "stderr",
     "output_type": "stream",
     "text": [
      "\r",
      "Epoch 1/10:  37%|████████████████████████████████████████████████████████████████▌                                                                                                            | 370/991 [07:57<13:23,  1.29s/batch, batch_loss=1.21e+4, batch_index=370, batch_size=256]"
     ]
    },
    {
     "name": "stderr",
     "output_type": "stream",
     "text": [
      "\r",
      "Epoch 1/10:  37%|█████████████████████████████████████████████████████████████████▋                                                                                                              | 370/991 [07:58<13:23,  1.29s/batch, batch_loss=35.4, batch_index=371, batch_size=256]"
     ]
    },
    {
     "name": "stderr",
     "output_type": "stream",
     "text": [
      "\r",
      "Epoch 1/10:  37%|█████████████████████████████████████████████████████████████████▉                                                                                                              | 371/991 [07:58<13:21,  1.29s/batch, batch_loss=35.4, batch_index=371, batch_size=256]"
     ]
    },
    {
     "name": "stderr",
     "output_type": "stream",
     "text": [
      "\r",
      "Epoch 1/10:  37%|█████████████████████████████████████████████████████████████████▉                                                                                                              | 371/991 [07:59<13:21,  1.29s/batch, batch_loss=18.1, batch_index=372, batch_size=256]"
     ]
    },
    {
     "name": "stderr",
     "output_type": "stream",
     "text": [
      "\r",
      "Epoch 1/10:  38%|██████████████████████████████████████████████████████████████████                                                                                                              | 372/991 [07:59<13:22,  1.30s/batch, batch_loss=18.1, batch_index=372, batch_size=256]"
     ]
    },
    {
     "name": "stderr",
     "output_type": "stream",
     "text": [
      "\r",
      "Epoch 1/10:  38%|██████████████████████████████████████████████████████████████████                                                                                                              | 372/991 [08:01<13:22,  1.30s/batch, batch_loss=33.3, batch_index=373, batch_size=256]"
     ]
    },
    {
     "name": "stderr",
     "output_type": "stream",
     "text": [
      "\r",
      "Epoch 1/10:  38%|██████████████████████████████████████████████████████████████████▏                                                                                                             | 373/991 [08:01<13:20,  1.30s/batch, batch_loss=33.3, batch_index=373, batch_size=256]"
     ]
    },
    {
     "name": "stderr",
     "output_type": "stream",
     "text": [
      "\r",
      "Epoch 1/10:  38%|██████████████████████████████████████████████████████████████████▌                                                                                                              | 373/991 [08:02<13:20,  1.30s/batch, batch_loss=489, batch_index=374, batch_size=256]"
     ]
    },
    {
     "name": "stderr",
     "output_type": "stream",
     "text": [
      "\r",
      "Epoch 1/10:  38%|██████████████████████████████████████████████████████████████████▊                                                                                                              | 374/991 [08:02<13:18,  1.29s/batch, batch_loss=489, batch_index=374, batch_size=256]"
     ]
    },
    {
     "name": "stderr",
     "output_type": "stream",
     "text": [
      "\r",
      "Epoch 1/10:  38%|█████████████████████████████████████████████████████████████████▎                                                                                                           | 374/991 [08:03<13:18,  1.29s/batch, batch_loss=1.43e+3, batch_index=375, batch_size=256]"
     ]
    },
    {
     "name": "stderr",
     "output_type": "stream",
     "text": [
      "\r",
      "Epoch 1/10:  38%|█████████████████████████████████████████████████████████████████▍                                                                                                           | 375/991 [08:03<13:15,  1.29s/batch, batch_loss=1.43e+3, batch_index=375, batch_size=256]"
     ]
    },
    {
     "name": "stderr",
     "output_type": "stream",
     "text": [
      "\r",
      "Epoch 1/10:  38%|█████████████████████████████████████████████████████████████████▍                                                                                                           | 375/991 [08:04<13:15,  1.29s/batch, batch_loss=1.21e+3, batch_index=376, batch_size=256]"
     ]
    },
    {
     "name": "stderr",
     "output_type": "stream",
     "text": [
      "\r",
      "Epoch 1/10:  38%|█████████████████████████████████████████████████████████████████▋                                                                                                           | 376/991 [08:04<13:13,  1.29s/batch, batch_loss=1.21e+3, batch_index=376, batch_size=256]"
     ]
    },
    {
     "name": "stderr",
     "output_type": "stream",
     "text": [
      "\r",
      "Epoch 1/10:  38%|██████████████████████████████████████████████████████████████████▊                                                                                                             | 376/991 [08:06<13:13,  1.29s/batch, batch_loss=29.7, batch_index=377, batch_size=256]"
     ]
    },
    {
     "name": "stderr",
     "output_type": "stream",
     "text": [
      "\r",
      "Epoch 1/10:  38%|██████████████████████████████████████████████████████████████████▉                                                                                                             | 377/991 [08:06<13:13,  1.29s/batch, batch_loss=29.7, batch_index=377, batch_size=256]"
     ]
    },
    {
     "name": "stderr",
     "output_type": "stream",
     "text": [
      "\r",
      "Epoch 1/10:  38%|█████████████████████████████████████████████████████████████████▊                                                                                                           | 377/991 [08:07<13:13,  1.29s/batch, batch_loss=1.17e+3, batch_index=378, batch_size=256]"
     ]
    },
    {
     "name": "stderr",
     "output_type": "stream",
     "text": [
      "\r",
      "Epoch 1/10:  38%|█████████████████████████████████████████████████████████████████▉                                                                                                           | 378/991 [08:07<13:11,  1.29s/batch, batch_loss=1.17e+3, batch_index=378, batch_size=256]"
     ]
    },
    {
     "name": "stderr",
     "output_type": "stream",
     "text": [
      "\r",
      "Epoch 1/10:  38%|███████████████████████████████████████████████████████████████████▏                                                                                                            | 378/991 [08:08<13:11,  1.29s/batch, batch_loss=15.4, batch_index=379, batch_size=256]"
     ]
    },
    {
     "name": "stderr",
     "output_type": "stream",
     "text": [
      "\r",
      "Epoch 1/10:  38%|███████████████████████████████████████████████████████████████████▎                                                                                                            | 379/991 [08:08<13:12,  1.29s/batch, batch_loss=15.4, batch_index=379, batch_size=256]"
     ]
    },
    {
     "name": "stderr",
     "output_type": "stream",
     "text": [
      "\r",
      "Epoch 1/10:  38%|███████████████████████████████████████████████████████████████████▎                                                                                                            | 379/991 [08:10<13:12,  1.29s/batch, batch_loss=24.1, batch_index=380, batch_size=256]"
     ]
    },
    {
     "name": "stderr",
     "output_type": "stream",
     "text": [
      "\r",
      "Epoch 1/10:  38%|███████████████████████████████████████████████████████████████████▍                                                                                                            | 380/991 [08:10<13:08,  1.29s/batch, batch_loss=24.1, batch_index=380, batch_size=256]"
     ]
    },
    {
     "name": "stderr",
     "output_type": "stream",
     "text": [
      "\r",
      "Epoch 1/10:  38%|███████████████████████████████████████████████████████████████████▍                                                                                                            | 380/991 [08:11<13:08,  1.29s/batch, batch_loss=27.5, batch_index=381, batch_size=256]"
     ]
    },
    {
     "name": "stderr",
     "output_type": "stream",
     "text": [
      "\r",
      "Epoch 1/10:  38%|███████████████████████████████████████████████████████████████████▋                                                                                                            | 381/991 [08:11<13:04,  1.29s/batch, batch_loss=27.5, batch_index=381, batch_size=256]"
     ]
    },
    {
     "name": "stderr",
     "output_type": "stream",
     "text": [
      "\r",
      "Epoch 1/10:  38%|███████████████████████████████████████████████████████████████████▋                                                                                                            | 381/991 [08:12<13:04,  1.29s/batch, batch_loss=14.2, batch_index=382, batch_size=256]"
     ]
    },
    {
     "name": "stderr",
     "output_type": "stream",
     "text": [
      "\r",
      "Epoch 1/10:  39%|███████████████████████████████████████████████████████████████████▊                                                                                                            | 382/991 [08:12<12:54,  1.27s/batch, batch_loss=14.2, batch_index=382, batch_size=256]"
     ]
    },
    {
     "name": "stderr",
     "output_type": "stream",
     "text": [
      "\r",
      "Epoch 1/10:  39%|███████████████████████████████████████████████████████████████████▊                                                                                                            | 382/991 [08:13<12:54,  1.27s/batch, batch_loss=14.6, batch_index=383, batch_size=256]"
     ]
    },
    {
     "name": "stderr",
     "output_type": "stream",
     "text": [
      "\r",
      "Epoch 1/10:  39%|████████████████████████████████████████████████████████████████████                                                                                                            | 383/991 [08:13<12:56,  1.28s/batch, batch_loss=14.6, batch_index=383, batch_size=256]"
     ]
    },
    {
     "name": "stderr",
     "output_type": "stream",
     "text": [
      "\r",
      "Epoch 1/10:  39%|████████████████████████████████████████████████████████████████████                                                                                                            | 383/991 [08:15<12:56,  1.28s/batch, batch_loss=33.5, batch_index=384, batch_size=256]"
     ]
    },
    {
     "name": "stderr",
     "output_type": "stream",
     "text": [
      "\r",
      "Epoch 1/10:  39%|████████████████████████████████████████████████████████████████████▏                                                                                                           | 384/991 [08:15<12:40,  1.25s/batch, batch_loss=33.5, batch_index=384, batch_size=256]"
     ]
    },
    {
     "name": "stderr",
     "output_type": "stream",
     "text": [
      "\r",
      "Epoch 1/10:  39%|████████████████████████████████████████████████████████████████████▏                                                                                                           | 384/991 [08:16<12:40,  1.25s/batch, batch_loss=10.9, batch_index=385, batch_size=256]"
     ]
    },
    {
     "name": "stderr",
     "output_type": "stream",
     "text": [
      "\r",
      "Epoch 1/10:  39%|████████████████████████████████████████████████████████████████████▍                                                                                                           | 385/991 [08:16<12:42,  1.26s/batch, batch_loss=10.9, batch_index=385, batch_size=256]"
     ]
    },
    {
     "name": "stderr",
     "output_type": "stream",
     "text": [
      "\r",
      "Epoch 1/10:  39%|████████████████████████████████████████████████████████████████████▍                                                                                                           | 385/991 [08:17<12:42,  1.26s/batch, batch_loss=28.1, batch_index=386, batch_size=256]"
     ]
    },
    {
     "name": "stderr",
     "output_type": "stream",
     "text": [
      "\r",
      "Epoch 1/10:  39%|████████████████████████████████████████████████████████████████████▌                                                                                                           | 386/991 [08:17<12:48,  1.27s/batch, batch_loss=28.1, batch_index=386, batch_size=256]"
     ]
    },
    {
     "name": "stderr",
     "output_type": "stream",
     "text": [
      "\r",
      "Epoch 1/10:  39%|████████████████████████████████████████████████████████████████████▌                                                                                                           | 386/991 [08:19<12:48,  1.27s/batch, batch_loss=51.8, batch_index=387, batch_size=256]"
     ]
    },
    {
     "name": "stderr",
     "output_type": "stream",
     "text": [
      "\r",
      "Epoch 1/10:  39%|████████████████████████████████████████████████████████████████████▋                                                                                                           | 387/991 [08:19<12:53,  1.28s/batch, batch_loss=51.8, batch_index=387, batch_size=256]"
     ]
    },
    {
     "name": "stderr",
     "output_type": "stream",
     "text": [
      "\r",
      "Epoch 1/10:  39%|█████████████████████████████████████████████████████████████████████                                                                                                            | 387/991 [08:20<12:53,  1.28s/batch, batch_loss=831, batch_index=388, batch_size=256]"
     ]
    },
    {
     "name": "stderr",
     "output_type": "stream",
     "text": [
      "\r",
      "Epoch 1/10:  39%|█████████████████████████████████████████████████████████████████████▎                                                                                                           | 388/991 [08:20<12:54,  1.28s/batch, batch_loss=831, batch_index=388, batch_size=256]"
     ]
    },
    {
     "name": "stderr",
     "output_type": "stream",
     "text": [
      "\r",
      "Epoch 1/10:  39%|████████████████████████████████████████████████████████████████████▉                                                                                                           | 388/991 [08:21<12:54,  1.28s/batch, batch_loss=20.3, batch_index=389, batch_size=256]"
     ]
    },
    {
     "name": "stderr",
     "output_type": "stream",
     "text": [
      "\r",
      "Epoch 1/10:  39%|█████████████████████████████████████████████████████████████████████                                                                                                           | 389/991 [08:21<12:53,  1.28s/batch, batch_loss=20.3, batch_index=389, batch_size=256]"
     ]
    },
    {
     "name": "stderr",
     "output_type": "stream",
     "text": [
      "\r",
      "Epoch 1/10:  39%|█████████████████████████████████████████████████████████████████████▍                                                                                                           | 389/991 [08:22<12:53,  1.28s/batch, batch_loss=893, batch_index=390, batch_size=256]"
     ]
    },
    {
     "name": "stderr",
     "output_type": "stream",
     "text": [
      "\r",
      "Epoch 1/10:  39%|█████████████████████████████████████████████████████████████████████▋                                                                                                           | 390/991 [08:22<12:54,  1.29s/batch, batch_loss=893, batch_index=390, batch_size=256]"
     ]
    },
    {
     "name": "stderr",
     "output_type": "stream",
     "text": [
      "\r",
      "Epoch 1/10:  39%|█████████████████████████████████████████████████████████████████████▎                                                                                                          | 390/991 [08:24<12:54,  1.29s/batch, batch_loss=30.6, batch_index=391, batch_size=256]"
     ]
    },
    {
     "name": "stderr",
     "output_type": "stream",
     "text": [
      "\r",
      "Epoch 1/10:  39%|█████████████████████████████████████████████████████████████████████▍                                                                                                          | 391/991 [08:24<12:53,  1.29s/batch, batch_loss=30.6, batch_index=391, batch_size=256]"
     ]
    },
    {
     "name": "stderr",
     "output_type": "stream",
     "text": [
      "\r",
      "Epoch 1/10:  39%|█████████████████████████████████████████████████████████████████████▍                                                                                                          | 391/991 [08:25<12:53,  1.29s/batch, batch_loss=32.9, batch_index=392, batch_size=256]"
     ]
    },
    {
     "name": "stderr",
     "output_type": "stream",
     "text": [
      "\r",
      "Epoch 1/10:  40%|█████████████████████████████████████████████████████████████████████▌                                                                                                          | 392/991 [08:25<12:51,  1.29s/batch, batch_loss=32.9, batch_index=392, batch_size=256]"
     ]
    },
    {
     "name": "stderr",
     "output_type": "stream",
     "text": [
      "\r",
      "Epoch 1/10:  40%|█████████████████████████████████████████████████████████████████████▌                                                                                                          | 392/991 [08:26<12:51,  1.29s/batch, batch_loss=38.7, batch_index=393, batch_size=256]"
     ]
    },
    {
     "name": "stderr",
     "output_type": "stream",
     "text": [
      "\r",
      "Epoch 1/10:  40%|█████████████████████████████████████████████████████████████████████▊                                                                                                          | 393/991 [08:26<12:51,  1.29s/batch, batch_loss=38.7, batch_index=393, batch_size=256]"
     ]
    },
    {
     "name": "stderr",
     "output_type": "stream",
     "text": [
      "\r",
      "Epoch 1/10:  40%|██████████████████████████████████████████████████████████████████████▏                                                                                                          | 393/991 [08:28<12:51,  1.29s/batch, batch_loss=620, batch_index=394, batch_size=256]"
     ]
    },
    {
     "name": "stderr",
     "output_type": "stream",
     "text": [
      "\r",
      "Epoch 1/10:  40%|██████████████████████████████████████████████████████████████████████▎                                                                                                          | 394/991 [08:28<12:51,  1.29s/batch, batch_loss=620, batch_index=394, batch_size=256]"
     ]
    },
    {
     "name": "stderr",
     "output_type": "stream",
     "text": [
      "\r",
      "Epoch 1/10:  40%|██████████████████████████████████████████████████████████████████████▊                                                                                                           | 394/991 [08:29<12:51,  1.29s/batch, batch_loss=26, batch_index=395, batch_size=256]"
     ]
    },
    {
     "name": "stderr",
     "output_type": "stream",
     "text": [
      "\r",
      "Epoch 1/10:  40%|██████████████████████████████████████████████████████████████████████▉                                                                                                           | 395/991 [08:29<12:51,  1.29s/batch, batch_loss=26, batch_index=395, batch_size=256]"
     ]
    },
    {
     "name": "stderr",
     "output_type": "stream",
     "text": [
      "\r",
      "Epoch 1/10:  40%|██████████████████████████████████████████████████████████████████████▏                                                                                                         | 395/991 [08:30<12:51,  1.29s/batch, batch_loss=14.7, batch_index=396, batch_size=256]"
     ]
    },
    {
     "name": "stderr",
     "output_type": "stream",
     "text": [
      "\r",
      "Epoch 1/10:  40%|██████████████████████████████████████████████████████████████████████▎                                                                                                         | 396/991 [08:30<12:49,  1.29s/batch, batch_loss=14.7, batch_index=396, batch_size=256]"
     ]
    },
    {
     "name": "stderr",
     "output_type": "stream",
     "text": [
      "\r",
      "Epoch 1/10:  40%|██████████████████████████████████████████████████████████████████████▎                                                                                                         | 396/991 [08:31<12:49,  1.29s/batch, batch_loss=20.4, batch_index=397, batch_size=256]"
     ]
    },
    {
     "name": "stderr",
     "output_type": "stream",
     "text": [
      "\r",
      "Epoch 1/10:  40%|██████████████████████████████████████████████████████████████████████▌                                                                                                         | 397/991 [08:31<12:47,  1.29s/batch, batch_loss=20.4, batch_index=397, batch_size=256]"
     ]
    },
    {
     "name": "stderr",
     "output_type": "stream",
     "text": [
      "\r",
      "Epoch 1/10:  40%|██████████████████████████████████████████████████████████████████████▌                                                                                                         | 397/991 [08:33<12:47,  1.29s/batch, batch_loss=20.6, batch_index=398, batch_size=256]"
     ]
    },
    {
     "name": "stderr",
     "output_type": "stream",
     "text": [
      "\r",
      "Epoch 1/10:  40%|██████████████████████████████████████████████████████████████████████▋                                                                                                         | 398/991 [08:33<12:46,  1.29s/batch, batch_loss=20.6, batch_index=398, batch_size=256]"
     ]
    },
    {
     "name": "stderr",
     "output_type": "stream",
     "text": [
      "\r",
      "Epoch 1/10:  40%|██████████████████████████████████████████████████████████████████████▋                                                                                                         | 398/991 [08:34<12:46,  1.29s/batch, batch_loss=38.5, batch_index=399, batch_size=256]"
     ]
    },
    {
     "name": "stderr",
     "output_type": "stream",
     "text": [
      "\r",
      "Epoch 1/10:  40%|██████████████████████████████████████████████████████████████████████▊                                                                                                         | 399/991 [08:34<12:45,  1.29s/batch, batch_loss=38.5, batch_index=399, batch_size=256]"
     ]
    },
    {
     "name": "stderr",
     "output_type": "stream",
     "text": [
      "\r",
      "Epoch 1/10:  40%|██████████████████████████████████████████████████████████████████████▊                                                                                                         | 399/991 [08:35<12:45,  1.29s/batch, batch_loss=17.3, batch_index=400, batch_size=256]"
     ]
    },
    {
     "name": "stderr",
     "output_type": "stream",
     "text": [
      "\r",
      "Epoch 1/10:  40%|███████████████████████████████████████████████████████████████████████                                                                                                         | 400/991 [08:35<12:44,  1.29s/batch, batch_loss=17.3, batch_index=400, batch_size=256]"
     ]
    },
    {
     "name": "stderr",
     "output_type": "stream",
     "text": [
      "\r",
      "Epoch 1/10:  40%|███████████████████████████████████████████████████████████████████████                                                                                                         | 400/991 [08:37<12:44,  1.29s/batch, batch_loss=15.4, batch_index=401, batch_size=256]"
     ]
    },
    {
     "name": "stderr",
     "output_type": "stream",
     "text": [
      "\r",
      "Epoch 1/10:  40%|███████████████████████████████████████████████████████████████████████▏                                                                                                        | 401/991 [08:37<12:45,  1.30s/batch, batch_loss=15.4, batch_index=401, batch_size=256]"
     ]
    },
    {
     "name": "stderr",
     "output_type": "stream",
     "text": [
      "\r",
      "Epoch 1/10:  40%|███████████████████████████████████████████████████████████████████████▏                                                                                                        | 401/991 [08:38<12:45,  1.30s/batch, batch_loss=25.2, batch_index=402, batch_size=256]"
     ]
    },
    {
     "name": "stderr",
     "output_type": "stream",
     "text": [
      "\r",
      "Epoch 1/10:  41%|███████████████████████████████████████████████████████████████████████▍                                                                                                        | 402/991 [08:38<12:43,  1.30s/batch, batch_loss=25.2, batch_index=402, batch_size=256]"
     ]
    },
    {
     "name": "stderr",
     "output_type": "stream",
     "text": [
      "\r",
      "Epoch 1/10:  41%|███████████████████████████████████████████████████████████████████████▍                                                                                                        | 402/991 [08:39<12:43,  1.30s/batch, batch_loss=17.3, batch_index=403, batch_size=256]"
     ]
    },
    {
     "name": "stderr",
     "output_type": "stream",
     "text": [
      "\r",
      "Epoch 1/10:  41%|███████████████████████████████████████████████████████████████████████▌                                                                                                        | 403/991 [08:39<12:40,  1.29s/batch, batch_loss=17.3, batch_index=403, batch_size=256]"
     ]
    },
    {
     "name": "stderr",
     "output_type": "stream",
     "text": [
      "\r",
      "Epoch 1/10:  41%|███████████████████████████████████████████████████████████████████████▌                                                                                                        | 403/991 [08:41<12:40,  1.29s/batch, batch_loss=16.7, batch_index=404, batch_size=256]"
     ]
    },
    {
     "name": "stderr",
     "output_type": "stream",
     "text": [
      "\r",
      "Epoch 1/10:  41%|███████████████████████████████████████████████████████████████████████▋                                                                                                        | 404/991 [08:41<12:37,  1.29s/batch, batch_loss=16.7, batch_index=404, batch_size=256]"
     ]
    },
    {
     "name": "stderr",
     "output_type": "stream",
     "text": [
      "\r",
      "Epoch 1/10:  41%|███████████████████████████████████████████████████████████████████████▋                                                                                                        | 404/991 [08:42<12:37,  1.29s/batch, batch_loss=15.8, batch_index=405, batch_size=256]"
     ]
    },
    {
     "name": "stderr",
     "output_type": "stream",
     "text": [
      "\r",
      "Epoch 1/10:  41%|███████████████████████████████████████████████████████████████████████▉                                                                                                        | 405/991 [08:42<12:36,  1.29s/batch, batch_loss=15.8, batch_index=405, batch_size=256]"
     ]
    },
    {
     "name": "stderr",
     "output_type": "stream",
     "text": [
      "\r",
      "Epoch 1/10:  41%|████████████████████████████████████████████████████████████████████████▋                                                                                                         | 405/991 [08:43<12:36,  1.29s/batch, batch_loss=14, batch_index=406, batch_size=256]"
     ]
    },
    {
     "name": "stderr",
     "output_type": "stream",
     "text": [
      "\r",
      "Epoch 1/10:  41%|████████████████████████████████████████████████████████████████████████▉                                                                                                         | 406/991 [08:43<12:37,  1.29s/batch, batch_loss=14, batch_index=406, batch_size=256]"
     ]
    },
    {
     "name": "stderr",
     "output_type": "stream",
     "text": [
      "\r",
      "Epoch 1/10:  41%|████████████████████████████████████████████████████████████████████████                                                                                                        | 406/991 [08:44<12:37,  1.29s/batch, batch_loss=27.3, batch_index=407, batch_size=256]"
     ]
    },
    {
     "name": "stderr",
     "output_type": "stream",
     "text": [
      "\r",
      "Epoch 1/10:  41%|████████████████████████████████████████████████████████████████████████▎                                                                                                       | 407/991 [08:44<12:33,  1.29s/batch, batch_loss=27.3, batch_index=407, batch_size=256]"
     ]
    },
    {
     "name": "stderr",
     "output_type": "stream",
     "text": [
      "\r",
      "Epoch 1/10:  41%|████████████████████████████████████████████████████████████████████████▎                                                                                                       | 407/991 [08:46<12:33,  1.29s/batch, batch_loss=14.4, batch_index=408, batch_size=256]"
     ]
    },
    {
     "name": "stderr",
     "output_type": "stream",
     "text": [
      "\r",
      "Epoch 1/10:  41%|████████████████████████████████████████████████████████████████████████▍                                                                                                       | 408/991 [08:46<12:29,  1.29s/batch, batch_loss=14.4, batch_index=408, batch_size=256]"
     ]
    },
    {
     "name": "stderr",
     "output_type": "stream",
     "text": [
      "\r",
      "Epoch 1/10:  41%|████████████████████████████████████████████████████████████████████████▍                                                                                                       | 408/991 [08:47<12:29,  1.29s/batch, batch_loss=25.4, batch_index=409, batch_size=256]"
     ]
    },
    {
     "name": "stderr",
     "output_type": "stream",
     "text": [
      "\r",
      "Epoch 1/10:  41%|████████████████████████████████████████████████████████████████████████▋                                                                                                       | 409/991 [08:47<12:19,  1.27s/batch, batch_loss=25.4, batch_index=409, batch_size=256]"
     ]
    },
    {
     "name": "stderr",
     "output_type": "stream",
     "text": [
      "\r",
      "Epoch 1/10:  41%|████████████████████████████████████████████████████████████████████████▋                                                                                                       | 409/991 [08:48<12:19,  1.27s/batch, batch_loss=42.6, batch_index=410, batch_size=256]"
     ]
    },
    {
     "name": "stderr",
     "output_type": "stream",
     "text": [
      "\r",
      "Epoch 1/10:  41%|████████████████████████████████████████████████████████████████████████▊                                                                                                       | 410/991 [08:48<12:21,  1.28s/batch, batch_loss=42.6, batch_index=410, batch_size=256]"
     ]
    },
    {
     "name": "stderr",
     "output_type": "stream",
     "text": [
      "\r",
      "Epoch 1/10:  41%|█████████████████████████████████████████████████████████████████████████▋                                                                                                        | 410/991 [08:49<12:21,  1.28s/batch, batch_loss=26, batch_index=411, batch_size=256]"
     ]
    },
    {
     "name": "stderr",
     "output_type": "stream",
     "text": [
      "\r",
      "Epoch 1/10:  41%|█████████████████████████████████████████████████████████████████████████▊                                                                                                        | 411/991 [08:49<12:23,  1.28s/batch, batch_loss=26, batch_index=411, batch_size=256]"
     ]
    },
    {
     "name": "stderr",
     "output_type": "stream",
     "text": [
      "\r",
      "Epoch 1/10:  41%|████████████████████████████████████████████████████████████████████████▉                                                                                                       | 411/991 [08:51<12:23,  1.28s/batch, batch_loss=26.1, batch_index=412, batch_size=256]"
     ]
    },
    {
     "name": "stderr",
     "output_type": "stream",
     "text": [
      "\r",
      "Epoch 1/10:  42%|█████████████████████████████████████████████████████████████████████████▏                                                                                                      | 412/991 [08:51<12:22,  1.28s/batch, batch_loss=26.1, batch_index=412, batch_size=256]"
     ]
    },
    {
     "name": "stderr",
     "output_type": "stream",
     "text": [
      "\r",
      "Epoch 1/10:  42%|█████████████████████████████████████████████████████████████████████████▏                                                                                                      | 412/991 [08:52<12:22,  1.28s/batch, batch_loss=32.2, batch_index=413, batch_size=256]"
     ]
    },
    {
     "name": "stderr",
     "output_type": "stream",
     "text": [
      "\r",
      "Epoch 1/10:  42%|█████████████████████████████████████████████████████████████████████████▎                                                                                                      | 413/991 [08:52<12:23,  1.29s/batch, batch_loss=32.2, batch_index=413, batch_size=256]"
     ]
    },
    {
     "name": "stderr",
     "output_type": "stream",
     "text": [
      "\r",
      "Epoch 1/10:  42%|█████████████████████████████████████████████████████████████████████████▎                                                                                                      | 413/991 [08:53<12:23,  1.29s/batch, batch_loss=21.1, batch_index=414, batch_size=256]"
     ]
    },
    {
     "name": "stderr",
     "output_type": "stream",
     "text": [
      "\r",
      "Epoch 1/10:  42%|█████████████████████████████████████████████████████████████████████████▌                                                                                                      | 414/991 [08:53<12:24,  1.29s/batch, batch_loss=21.1, batch_index=414, batch_size=256]"
     ]
    },
    {
     "name": "stderr",
     "output_type": "stream",
     "text": [
      "\r",
      "Epoch 1/10:  42%|█████████████████████████████████████████████████████████████████████████▌                                                                                                      | 414/991 [08:55<12:24,  1.29s/batch, batch_loss=14.6, batch_index=415, batch_size=256]"
     ]
    },
    {
     "name": "stderr",
     "output_type": "stream",
     "text": [
      "\r",
      "Epoch 1/10:  42%|█████████████████████████████████████████████████████████████████████████▋                                                                                                      | 415/991 [08:55<12:21,  1.29s/batch, batch_loss=14.6, batch_index=415, batch_size=256]"
     ]
    },
    {
     "name": "stderr",
     "output_type": "stream",
     "text": [
      "\r",
      "Epoch 1/10:  42%|█████████████████████████████████████████████████████████████████████████▋                                                                                                      | 415/991 [08:56<12:21,  1.29s/batch, batch_loss=17.9, batch_index=416, batch_size=256]"
     ]
    },
    {
     "name": "stderr",
     "output_type": "stream",
     "text": [
      "\r",
      "Epoch 1/10:  42%|█████████████████████████████████████████████████████████████████████████▉                                                                                                      | 416/991 [08:56<12:23,  1.29s/batch, batch_loss=17.9, batch_index=416, batch_size=256]"
     ]
    },
    {
     "name": "stderr",
     "output_type": "stream",
     "text": [
      "\r",
      "Epoch 1/10:  42%|█████████████████████████████████████████████████████████████████████████▉                                                                                                      | 416/991 [08:57<12:23,  1.29s/batch, batch_loss=10.8, batch_index=417, batch_size=256]"
     ]
    },
    {
     "name": "stderr",
     "output_type": "stream",
     "text": [
      "\r",
      "Epoch 1/10:  42%|██████████████████████████████████████████████████████████████████████████                                                                                                      | 417/991 [08:57<12:22,  1.29s/batch, batch_loss=10.8, batch_index=417, batch_size=256]"
     ]
    },
    {
     "name": "stderr",
     "output_type": "stream",
     "text": [
      "\r",
      "Epoch 1/10:  42%|██████████████████████████████████████████████████████████████████████████                                                                                                      | 417/991 [08:59<12:22,  1.29s/batch, batch_loss=15.2, batch_index=418, batch_size=256]"
     ]
    },
    {
     "name": "stderr",
     "output_type": "stream",
     "text": [
      "\r",
      "Epoch 1/10:  42%|██████████████████████████████████████████████████████████████████████████▏                                                                                                     | 418/991 [08:59<12:20,  1.29s/batch, batch_loss=15.2, batch_index=418, batch_size=256]"
     ]
    },
    {
     "name": "stderr",
     "output_type": "stream",
     "text": [
      "\r",
      "Epoch 1/10:  42%|████████████████████████████████████████████████████████████████████████▉                                                                                                    | 418/991 [09:00<12:20,  1.29s/batch, batch_loss=1.31e+3, batch_index=419, batch_size=256]"
     ]
    },
    {
     "name": "stderr",
     "output_type": "stream",
     "text": [
      "\r",
      "Epoch 1/10:  42%|█████████████████████████████████████████████████████████████████████████▏                                                                                                   | 419/991 [09:00<12:18,  1.29s/batch, batch_loss=1.31e+3, batch_index=419, batch_size=256]"
     ]
    },
    {
     "name": "stderr",
     "output_type": "stream",
     "text": [
      "\r",
      "Epoch 1/10:  42%|██████████████████████████████████████████████████████████████████████████▍                                                                                                     | 419/991 [09:01<12:18,  1.29s/batch, batch_loss=26.1, batch_index=420, batch_size=256]"
     ]
    },
    {
     "name": "stderr",
     "output_type": "stream",
     "text": [
      "\r",
      "Epoch 1/10:  42%|██████████████████████████████████████████████████████████████████████████▌                                                                                                     | 420/991 [09:01<12:19,  1.30s/batch, batch_loss=26.1, batch_index=420, batch_size=256]"
     ]
    },
    {
     "name": "stderr",
     "output_type": "stream",
     "text": [
      "\r",
      "Epoch 1/10:  42%|██████████████████████████████████████████████████████████████████████████▌                                                                                                     | 420/991 [09:02<12:19,  1.30s/batch, batch_loss=21.5, batch_index=421, batch_size=256]"
     ]
    },
    {
     "name": "stderr",
     "output_type": "stream",
     "text": [
      "\r",
      "Epoch 1/10:  42%|██████████████████████████████████████████████████████████████████████████▊                                                                                                     | 421/991 [09:02<12:18,  1.30s/batch, batch_loss=21.5, batch_index=421, batch_size=256]"
     ]
    },
    {
     "name": "stderr",
     "output_type": "stream",
     "text": [
      "\r",
      "Epoch 1/10:  42%|██████████████████████████████████████████████████████████████████████████▊                                                                                                     | 421/991 [09:04<12:18,  1.30s/batch, batch_loss=11.6, batch_index=422, batch_size=256]"
     ]
    },
    {
     "name": "stderr",
     "output_type": "stream",
     "text": [
      "\r",
      "Epoch 1/10:  43%|██████████████████████████████████████████████████████████████████████████▉                                                                                                     | 422/991 [09:04<12:18,  1.30s/batch, batch_loss=11.6, batch_index=422, batch_size=256]"
     ]
    },
    {
     "name": "stderr",
     "output_type": "stream",
     "text": [
      "\r",
      "Epoch 1/10:  43%|██████████████████████████████████████████████████████████████████████████▉                                                                                                     | 422/991 [09:05<12:18,  1.30s/batch, batch_loss=11.7, batch_index=423, batch_size=256]"
     ]
    },
    {
     "name": "stderr",
     "output_type": "stream",
     "text": [
      "\r",
      "Epoch 1/10:  43%|███████████████████████████████████████████████████████████████████████████                                                                                                     | 423/991 [09:05<12:16,  1.30s/batch, batch_loss=11.7, batch_index=423, batch_size=256]"
     ]
    },
    {
     "name": "stderr",
     "output_type": "stream",
     "text": [
      "\r",
      "Epoch 1/10:  43%|███████████████████████████████████████████████████████████████████████████                                                                                                     | 423/991 [09:06<12:16,  1.30s/batch, batch_loss=14.3, batch_index=424, batch_size=256]"
     ]
    },
    {
     "name": "stderr",
     "output_type": "stream",
     "text": [
      "\r",
      "Epoch 1/10:  43%|███████████████████████████████████████████████████████████████████████████▎                                                                                                    | 424/991 [09:06<12:14,  1.29s/batch, batch_loss=14.3, batch_index=424, batch_size=256]"
     ]
    },
    {
     "name": "stderr",
     "output_type": "stream",
     "text": [
      "\r",
      "Epoch 1/10:  43%|████████████████████████████████████████████████████████████████████████████▏                                                                                                     | 424/991 [09:08<12:14,  1.29s/batch, batch_loss=12, batch_index=425, batch_size=256]"
     ]
    },
    {
     "name": "stderr",
     "output_type": "stream",
     "text": [
      "\r",
      "Epoch 1/10:  43%|████████████████████████████████████████████████████████████████████████████▎                                                                                                     | 425/991 [09:08<12:11,  1.29s/batch, batch_loss=12, batch_index=425, batch_size=256]"
     ]
    },
    {
     "name": "stderr",
     "output_type": "stream",
     "text": [
      "\r",
      "Epoch 1/10:  43%|███████████████████████████████████████████████████████████████████████████▍                                                                                                    | 425/991 [09:09<12:11,  1.29s/batch, batch_loss=4.94, batch_index=426, batch_size=256]"
     ]
    },
    {
     "name": "stderr",
     "output_type": "stream",
     "text": [
      "\r",
      "Epoch 1/10:  43%|███████████████████████████████████████████████████████████████████████████▋                                                                                                    | 426/991 [09:09<12:10,  1.29s/batch, batch_loss=4.94, batch_index=426, batch_size=256]"
     ]
    },
    {
     "name": "stderr",
     "output_type": "stream",
     "text": [
      "\r",
      "Epoch 1/10:  43%|███████████████████████████████████████████████████████████████████████████▋                                                                                                    | 426/991 [09:10<12:10,  1.29s/batch, batch_loss=16.3, batch_index=427, batch_size=256]"
     ]
    },
    {
     "name": "stderr",
     "output_type": "stream",
     "text": [
      "\r",
      "Epoch 1/10:  43%|███████████████████████████████████████████████████████████████████████████▊                                                                                                    | 427/991 [09:10<12:10,  1.30s/batch, batch_loss=16.3, batch_index=427, batch_size=256]"
     ]
    },
    {
     "name": "stderr",
     "output_type": "stream",
     "text": [
      "\r",
      "Epoch 1/10:  43%|███████████████████████████████████████████████████████████████████████████▊                                                                                                    | 427/991 [09:11<12:10,  1.30s/batch, batch_loss=33.8, batch_index=428, batch_size=256]"
     ]
    },
    {
     "name": "stderr",
     "output_type": "stream",
     "text": [
      "\r",
      "Epoch 1/10:  43%|████████████████████████████████████████████████████████████████████████████                                                                                                    | 428/991 [09:11<12:08,  1.29s/batch, batch_loss=33.8, batch_index=428, batch_size=256]"
     ]
    },
    {
     "name": "stderr",
     "output_type": "stream",
     "text": [
      "\r",
      "Epoch 1/10:  43%|████████████████████████████████████████████████████████████████████████████▉                                                                                                     | 428/991 [09:13<12:08,  1.29s/batch, batch_loss=57, batch_index=429, batch_size=256]"
     ]
    },
    {
     "name": "stderr",
     "output_type": "stream",
     "text": [
      "\r",
      "Epoch 1/10:  43%|█████████████████████████████████████████████████████████████████████████████                                                                                                     | 429/991 [09:13<12:07,  1.29s/batch, batch_loss=57, batch_index=429, batch_size=256]"
     ]
    },
    {
     "name": "stderr",
     "output_type": "stream",
     "text": [
      "\r",
      "Epoch 1/10:  43%|██████████████████████████████████████████████████████████████████████████▉                                                                                                  | 429/991 [09:14<12:07,  1.29s/batch, batch_loss=9.27e+3, batch_index=430, batch_size=256]"
     ]
    },
    {
     "name": "stderr",
     "output_type": "stream",
     "text": [
      "\r",
      "Epoch 1/10:  43%|███████████████████████████████████████████████████████████████████████████                                                                                                  | 430/991 [09:14<12:04,  1.29s/batch, batch_loss=9.27e+3, batch_index=430, batch_size=256]"
     ]
    },
    {
     "name": "stderr",
     "output_type": "stream",
     "text": [
      "\r",
      "Epoch 1/10:  43%|████████████████████████████████████████████████████████████████████████████▎                                                                                                   | 430/991 [09:15<12:04,  1.29s/batch, batch_loss=36.5, batch_index=431, batch_size=256]"
     ]
    },
    {
     "name": "stderr",
     "output_type": "stream",
     "text": [
      "\r",
      "Epoch 1/10:  43%|████████████████████████████████████████████████████████████████████████████▌                                                                                                   | 431/991 [09:15<12:03,  1.29s/batch, batch_loss=36.5, batch_index=431, batch_size=256]"
     ]
    },
    {
     "name": "stderr",
     "output_type": "stream",
     "text": [
      "\r",
      "Epoch 1/10:  43%|████████████████████████████████████████████████████████████████████████████▌                                                                                                   | 431/991 [09:17<12:03,  1.29s/batch, batch_loss=37.8, batch_index=432, batch_size=256]"
     ]
    },
    {
     "name": "stderr",
     "output_type": "stream",
     "text": [
      "\r",
      "Epoch 1/10:  44%|████████████████████████████████████████████████████████████████████████████▋                                                                                                   | 432/991 [09:17<12:03,  1.29s/batch, batch_loss=37.8, batch_index=432, batch_size=256]"
     ]
    },
    {
     "name": "stderr",
     "output_type": "stream",
     "text": [
      "\r",
      "Epoch 1/10:  44%|████████████████████████████████████████████████████████████████████████████▋                                                                                                   | 432/991 [09:18<12:03,  1.29s/batch, batch_loss=19.5, batch_index=433, batch_size=256]"
     ]
    },
    {
     "name": "stderr",
     "output_type": "stream",
     "text": [
      "\r",
      "Epoch 1/10:  44%|████████████████████████████████████████████████████████████████████████████▉                                                                                                   | 433/991 [09:18<12:03,  1.30s/batch, batch_loss=19.5, batch_index=433, batch_size=256]"
     ]
    },
    {
     "name": "stderr",
     "output_type": "stream",
     "text": [
      "\r",
      "Epoch 1/10:  44%|████████████████████████████████████████████████████████████████████████████▉                                                                                                   | 433/991 [09:19<12:03,  1.30s/batch, batch_loss=36.4, batch_index=434, batch_size=256]"
     ]
    },
    {
     "name": "stderr",
     "output_type": "stream",
     "text": [
      "\r",
      "Epoch 1/10:  44%|█████████████████████████████████████████████████████████████████████████████                                                                                                   | 434/991 [09:19<11:59,  1.29s/batch, batch_loss=36.4, batch_index=434, batch_size=256]"
     ]
    },
    {
     "name": "stderr",
     "output_type": "stream",
     "text": [
      "\r",
      "Epoch 1/10:  44%|█████████████████████████████████████████████████████████████████████████████                                                                                                   | 434/991 [09:21<11:59,  1.29s/batch, batch_loss=21.8, batch_index=435, batch_size=256]"
     ]
    },
    {
     "name": "stderr",
     "output_type": "stream",
     "text": [
      "\r",
      "Epoch 1/10:  44%|█████████████████████████████████████████████████████████████████████████████▎                                                                                                  | 435/991 [09:21<11:55,  1.29s/batch, batch_loss=21.8, batch_index=435, batch_size=256]"
     ]
    },
    {
     "name": "stderr",
     "output_type": "stream",
     "text": [
      "\r",
      "Epoch 1/10:  44%|█████████████████████████████████████████████████████████████████████████████▎                                                                                                  | 435/991 [09:22<11:55,  1.29s/batch, batch_loss=26.6, batch_index=436, batch_size=256]"
     ]
    },
    {
     "name": "stderr",
     "output_type": "stream",
     "text": [
      "\r",
      "Epoch 1/10:  44%|█████████████████████████████████████████████████████████████████████████████▍                                                                                                  | 436/991 [09:22<11:49,  1.28s/batch, batch_loss=26.6, batch_index=436, batch_size=256]"
     ]
    },
    {
     "name": "stderr",
     "output_type": "stream",
     "text": [
      "\r",
      "Epoch 1/10:  44%|█████████████████████████████████████████████████████████████████████████████▍                                                                                                  | 436/991 [09:23<11:49,  1.28s/batch, batch_loss=26.4, batch_index=437, batch_size=256]"
     ]
    },
    {
     "name": "stderr",
     "output_type": "stream",
     "text": [
      "\r",
      "Epoch 1/10:  44%|█████████████████████████████████████████████████████████████████████████████▌                                                                                                  | 437/991 [09:23<11:50,  1.28s/batch, batch_loss=26.4, batch_index=437, batch_size=256]"
     ]
    },
    {
     "name": "stderr",
     "output_type": "stream",
     "text": [
      "\r",
      "Epoch 1/10:  44%|██████████████████████████████████████████████████████████████████████████████▍                                                                                                   | 437/991 [09:24<11:50,  1.28s/batch, batch_loss=51, batch_index=438, batch_size=256]"
     ]
    },
    {
     "name": "stderr",
     "output_type": "stream",
     "text": [
      "\r",
      "Epoch 1/10:  44%|██████████████████████████████████████████████████████████████████████████████▋                                                                                                   | 438/991 [09:24<11:52,  1.29s/batch, batch_loss=51, batch_index=438, batch_size=256]"
     ]
    },
    {
     "name": "stderr",
     "output_type": "stream",
     "text": [
      "\r",
      "Epoch 1/10:  44%|█████████████████████████████████████████████████████████████████████████████▊                                                                                                  | 438/991 [09:26<11:52,  1.29s/batch, batch_loss=28.5, batch_index=439, batch_size=256]"
     ]
    },
    {
     "name": "stderr",
     "output_type": "stream",
     "text": [
      "\r",
      "Epoch 1/10:  44%|█████████████████████████████████████████████████████████████████████████████▉                                                                                                  | 439/991 [09:26<11:50,  1.29s/batch, batch_loss=28.5, batch_index=439, batch_size=256]"
     ]
    },
    {
     "name": "stderr",
     "output_type": "stream",
     "text": [
      "\r",
      "Epoch 1/10:  44%|█████████████████████████████████████████████████████████████████████████████▉                                                                                                  | 439/991 [09:27<11:50,  1.29s/batch, batch_loss=53.8, batch_index=440, batch_size=256]"
     ]
    },
    {
     "name": "stderr",
     "output_type": "stream",
     "text": [
      "\r",
      "Epoch 1/10:  44%|██████████████████████████████████████████████████████████████████████████████▏                                                                                                 | 440/991 [09:27<11:50,  1.29s/batch, batch_loss=53.8, batch_index=440, batch_size=256]"
     ]
    },
    {
     "name": "stderr",
     "output_type": "stream",
     "text": [
      "\r",
      "Epoch 1/10:  44%|██████████████████████████████████████████████████████████████████████████████▏                                                                                                 | 440/991 [09:28<11:50,  1.29s/batch, batch_loss=38.7, batch_index=441, batch_size=256]"
     ]
    },
    {
     "name": "stderr",
     "output_type": "stream",
     "text": [
      "\r",
      "Epoch 1/10:  45%|██████████████████████████████████████████████████████████████████████████████▎                                                                                                 | 441/991 [09:28<11:51,  1.29s/batch, batch_loss=38.7, batch_index=441, batch_size=256]"
     ]
    },
    {
     "name": "stderr",
     "output_type": "stream",
     "text": [
      "\r",
      "Epoch 1/10:  45%|██████████████████████████████████████████████████████████████████████████████▎                                                                                                 | 441/991 [09:30<11:51,  1.29s/batch, batch_loss=25.6, batch_index=442, batch_size=256]"
     ]
    },
    {
     "name": "stderr",
     "output_type": "stream",
     "text": [
      "\r",
      "Epoch 1/10:  45%|██████████████████████████████████████████████████████████████████████████████▍                                                                                                 | 442/991 [09:30<11:48,  1.29s/batch, batch_loss=25.6, batch_index=442, batch_size=256]"
     ]
    },
    {
     "name": "stderr",
     "output_type": "stream",
     "text": [
      "\r",
      "Epoch 1/10:  45%|██████████████████████████████████████████████████████████████████████████████▍                                                                                                 | 442/991 [09:31<11:48,  1.29s/batch, batch_loss=33.1, batch_index=443, batch_size=256]"
     ]
    },
    {
     "name": "stderr",
     "output_type": "stream",
     "text": [
      "\r",
      "Epoch 1/10:  45%|██████████████████████████████████████████████████████████████████████████████▋                                                                                                 | 443/991 [09:31<11:46,  1.29s/batch, batch_loss=33.1, batch_index=443, batch_size=256]"
     ]
    },
    {
     "name": "stderr",
     "output_type": "stream",
     "text": [
      "\r",
      "Epoch 1/10:  45%|██████████████████████████████████████████████████████████████████████████████▋                                                                                                 | 443/991 [09:32<11:46,  1.29s/batch, batch_loss=29.4, batch_index=444, batch_size=256]"
     ]
    },
    {
     "name": "stderr",
     "output_type": "stream",
     "text": [
      "\r",
      "Epoch 1/10:  45%|██████████████████████████████████████████████████████████████████████████████▊                                                                                                 | 444/991 [09:32<11:47,  1.29s/batch, batch_loss=29.4, batch_index=444, batch_size=256]"
     ]
    },
    {
     "name": "stderr",
     "output_type": "stream",
     "text": [
      "\r",
      "Epoch 1/10:  45%|██████████████████████████████████████████████████████████████████████████████▊                                                                                                 | 444/991 [09:33<11:47,  1.29s/batch, batch_loss=32.4, batch_index=445, batch_size=256]"
     ]
    },
    {
     "name": "stderr",
     "output_type": "stream",
     "text": [
      "\r",
      "Epoch 1/10:  45%|███████████████████████████████████████████████████████████████████████████████                                                                                                 | 445/991 [09:33<11:43,  1.29s/batch, batch_loss=32.4, batch_index=445, batch_size=256]"
     ]
    },
    {
     "name": "stderr",
     "output_type": "stream",
     "text": [
      "\r",
      "Epoch 1/10:  45%|███████████████████████████████████████████████████████████████████████████████▉                                                                                                  | 445/991 [09:35<11:43,  1.29s/batch, batch_loss=42, batch_index=446, batch_size=256]"
     ]
    },
    {
     "name": "stderr",
     "output_type": "stream",
     "text": [
      "\r",
      "Epoch 1/10:  45%|████████████████████████████████████████████████████████████████████████████████                                                                                                  | 446/991 [09:35<11:44,  1.29s/batch, batch_loss=42, batch_index=446, batch_size=256]"
     ]
    },
    {
     "name": "stderr",
     "output_type": "stream",
     "text": [
      "\r",
      "Epoch 1/10:  45%|███████████████████████████████████████████████████████████████████████████████▏                                                                                                | 446/991 [09:36<11:44,  1.29s/batch, batch_loss=25.5, batch_index=447, batch_size=256]"
     ]
    },
    {
     "name": "stderr",
     "output_type": "stream",
     "text": [
      "\r",
      "Epoch 1/10:  45%|███████████████████████████████████████████████████████████████████████████████▍                                                                                                | 447/991 [09:36<11:44,  1.29s/batch, batch_loss=25.5, batch_index=447, batch_size=256]"
     ]
    },
    {
     "name": "stderr",
     "output_type": "stream",
     "text": [
      "\r",
      "Epoch 1/10:  45%|███████████████████████████████████████████████████████████████████████████████▍                                                                                                | 447/991 [09:37<11:44,  1.29s/batch, batch_loss=30.1, batch_index=448, batch_size=256]"
     ]
    },
    {
     "name": "stderr",
     "output_type": "stream",
     "text": [
      "\r",
      "Epoch 1/10:  45%|███████████████████████████████████████████████████████████████████████████████▌                                                                                                | 448/991 [09:37<11:43,  1.29s/batch, batch_loss=30.1, batch_index=448, batch_size=256]"
     ]
    },
    {
     "name": "stderr",
     "output_type": "stream",
     "text": [
      "\r",
      "Epoch 1/10:  45%|███████████████████████████████████████████████████████████████████████████████▌                                                                                                | 448/991 [09:39<11:43,  1.29s/batch, batch_loss=30.9, batch_index=449, batch_size=256]"
     ]
    },
    {
     "name": "stderr",
     "output_type": "stream",
     "text": [
      "\r",
      "Epoch 1/10:  45%|███████████████████████████████████████████████████████████████████████████████▋                                                                                                | 449/991 [09:39<11:43,  1.30s/batch, batch_loss=30.9, batch_index=449, batch_size=256]"
     ]
    },
    {
     "name": "stderr",
     "output_type": "stream",
     "text": [
      "\r",
      "Epoch 1/10:  45%|███████████████████████████████████████████████████████████████████████████████▋                                                                                                | 449/991 [09:40<11:43,  1.30s/batch, batch_loss=42.1, batch_index=450, batch_size=256]"
     ]
    },
    {
     "name": "stderr",
     "output_type": "stream",
     "text": [
      "\r",
      "Epoch 1/10:  45%|███████████████████████████████████████████████████████████████████████████████▉                                                                                                | 450/991 [09:40<11:40,  1.29s/batch, batch_loss=42.1, batch_index=450, batch_size=256]"
     ]
    },
    {
     "name": "stderr",
     "output_type": "stream",
     "text": [
      "\r",
      "Epoch 1/10:  45%|████████████████████████████████████████████████████████████████████████████████▊                                                                                                 | 450/991 [09:41<11:40,  1.29s/batch, batch_loss=29, batch_index=451, batch_size=256]"
     ]
    },
    {
     "name": "stderr",
     "output_type": "stream",
     "text": [
      "\r",
      "Epoch 1/10:  46%|█████████████████████████████████████████████████████████████████████████████████                                                                                                 | 451/991 [09:41<11:40,  1.30s/batch, batch_loss=29, batch_index=451, batch_size=256]"
     ]
    },
    {
     "name": "stderr",
     "output_type": "stream",
     "text": [
      "\r",
      "Epoch 1/10:  46%|████████████████████████████████████████████████████████████████████████████████                                                                                                | 451/991 [09:42<11:40,  1.30s/batch, batch_loss=31.7, batch_index=452, batch_size=256]"
     ]
    },
    {
     "name": "stderr",
     "output_type": "stream",
     "text": [
      "\r",
      "Epoch 1/10:  46%|████████████████████████████████████████████████████████████████████████████████▎                                                                                               | 452/991 [09:42<11:39,  1.30s/batch, batch_loss=31.7, batch_index=452, batch_size=256]"
     ]
    },
    {
     "name": "stderr",
     "output_type": "stream",
     "text": [
      "\r",
      "Epoch 1/10:  46%|████████████████████████████████████████████████████████████████████████████████▎                                                                                               | 452/991 [09:44<11:39,  1.30s/batch, batch_loss=34.4, batch_index=453, batch_size=256]"
     ]
    },
    {
     "name": "stderr",
     "output_type": "stream",
     "text": [
      "\r",
      "Epoch 1/10:  46%|████████████████████████████████████████████████████████████████████████████████▍                                                                                               | 453/991 [09:44<11:36,  1.29s/batch, batch_loss=34.4, batch_index=453, batch_size=256]"
     ]
    },
    {
     "name": "stderr",
     "output_type": "stream",
     "text": [
      "\r",
      "Epoch 1/10:  46%|███████████████████████████████████████████████████████████████████████████████                                                                                              | 453/991 [09:45<11:36,  1.29s/batch, batch_loss=7.22e+3, batch_index=454, batch_size=256]"
     ]
    },
    {
     "name": "stderr",
     "output_type": "stream",
     "text": [
      "\r",
      "Epoch 1/10:  46%|███████████████████████████████████████████████████████████████████████████████▎                                                                                             | 454/991 [09:45<11:34,  1.29s/batch, batch_loss=7.22e+3, batch_index=454, batch_size=256]"
     ]
    },
    {
     "name": "stderr",
     "output_type": "stream",
     "text": [
      "\r",
      "Epoch 1/10:  46%|████████████████████████████████████████████████████████████████████████████████▋                                                                                               | 454/991 [09:46<11:34,  1.29s/batch, batch_loss=69.8, batch_index=455, batch_size=256]"
     ]
    },
    {
     "name": "stderr",
     "output_type": "stream",
     "text": [
      "\r",
      "Epoch 1/10:  46%|████████████████████████████████████████████████████████████████████████████████▊                                                                                               | 455/991 [09:46<11:34,  1.30s/batch, batch_loss=69.8, batch_index=455, batch_size=256]"
     ]
    },
    {
     "name": "stderr",
     "output_type": "stream",
     "text": [
      "\r",
      "Epoch 1/10:  46%|████████████████████████████████████████████████████████████████████████████████▊                                                                                               | 455/991 [09:48<11:34,  1.30s/batch, batch_loss=47.5, batch_index=456, batch_size=256]"
     ]
    },
    {
     "name": "stderr",
     "output_type": "stream",
     "text": [
      "\r",
      "Epoch 1/10:  46%|████████████████████████████████████████████████████████████████████████████████▉                                                                                               | 456/991 [09:48<11:31,  1.29s/batch, batch_loss=47.5, batch_index=456, batch_size=256]"
     ]
    },
    {
     "name": "stderr",
     "output_type": "stream",
     "text": [
      "\r",
      "Epoch 1/10:  46%|████████████████████████████████████████████████████████████████████████████████▉                                                                                               | 456/991 [09:49<11:31,  1.29s/batch, batch_loss=23.5, batch_index=457, batch_size=256]"
     ]
    },
    {
     "name": "stderr",
     "output_type": "stream",
     "text": [
      "\r",
      "Epoch 1/10:  46%|█████████████████████████████████████████████████████████████████████████████████▏                                                                                              | 457/991 [09:49<11:29,  1.29s/batch, batch_loss=23.5, batch_index=457, batch_size=256]"
     ]
    },
    {
     "name": "stderr",
     "output_type": "stream",
     "text": [
      "\r",
      "Epoch 1/10:  46%|█████████████████████████████████████████████████████████████████████████████████▏                                                                                              | 457/991 [09:50<11:29,  1.29s/batch, batch_loss=34.7, batch_index=458, batch_size=256]"
     ]
    },
    {
     "name": "stderr",
     "output_type": "stream",
     "text": [
      "\r",
      "Epoch 1/10:  46%|█████████████████████████████████████████████████████████████████████████████████▎                                                                                              | 458/991 [09:50<11:29,  1.29s/batch, batch_loss=34.7, batch_index=458, batch_size=256]"
     ]
    },
    {
     "name": "stderr",
     "output_type": "stream",
     "text": [
      "\r",
      "Epoch 1/10:  46%|█████████████████████████████████████████████████████████████████████████████████▎                                                                                              | 458/991 [09:52<11:29,  1.29s/batch, batch_loss=55.6, batch_index=459, batch_size=256]"
     ]
    },
    {
     "name": "stderr",
     "output_type": "stream",
     "text": [
      "\r",
      "Epoch 1/10:  46%|█████████████████████████████████████████████████████████████████████████████████▌                                                                                              | 459/991 [09:52<11:27,  1.29s/batch, batch_loss=55.6, batch_index=459, batch_size=256]"
     ]
    },
    {
     "name": "stderr",
     "output_type": "stream",
     "text": [
      "\r",
      "Epoch 1/10:  46%|█████████████████████████████████████████████████████████████████████████████████▌                                                                                              | 459/991 [09:53<11:27,  1.29s/batch, batch_loss=53.6, batch_index=460, batch_size=256]"
     ]
    },
    {
     "name": "stderr",
     "output_type": "stream",
     "text": [
      "\r",
      "Epoch 1/10:  46%|█████████████████████████████████████████████████████████████████████████████████▋                                                                                              | 460/991 [09:53<11:27,  1.29s/batch, batch_loss=53.6, batch_index=460, batch_size=256]"
     ]
    },
    {
     "name": "stderr",
     "output_type": "stream",
     "text": [
      "\r",
      "Epoch 1/10:  46%|█████████████████████████████████████████████████████████████████████████████████▋                                                                                              | 460/991 [09:54<11:27,  1.29s/batch, batch_loss=97.7, batch_index=461, batch_size=256]"
     ]
    },
    {
     "name": "stderr",
     "output_type": "stream",
     "text": [
      "\r",
      "Epoch 1/10:  47%|█████████████████████████████████████████████████████████████████████████████████▊                                                                                              | 461/991 [09:54<11:26,  1.30s/batch, batch_loss=97.7, batch_index=461, batch_size=256]"
     ]
    },
    {
     "name": "stderr",
     "output_type": "stream",
     "text": [
      "\r",
      "Epoch 1/10:  47%|█████████████████████████████████████████████████████████████████████████████████▊                                                                                              | 461/991 [09:55<11:26,  1.30s/batch, batch_loss=22.9, batch_index=462, batch_size=256]"
     ]
    },
    {
     "name": "stderr",
     "output_type": "stream",
     "text": [
      "\r",
      "Epoch 1/10:  47%|██████████████████████████████████████████████████████████████████████████████████                                                                                              | 462/991 [09:55<11:21,  1.29s/batch, batch_loss=22.9, batch_index=462, batch_size=256]"
     ]
    },
    {
     "name": "stderr",
     "output_type": "stream",
     "text": [
      "\r",
      "Epoch 1/10:  47%|████████████████████████████████████████████████████████████████████████████████▋                                                                                            | 462/991 [09:57<11:21,  1.29s/batch, batch_loss=6.21e+4, batch_index=463, batch_size=256]"
     ]
    },
    {
     "name": "stderr",
     "output_type": "stream",
     "text": [
      "\r",
      "Epoch 1/10:  47%|████████████████████████████████████████████████████████████████████████████████▊                                                                                            | 463/991 [09:57<11:13,  1.27s/batch, batch_loss=6.21e+4, batch_index=463, batch_size=256]"
     ]
    },
    {
     "name": "stderr",
     "output_type": "stream",
     "text": [
      "\r",
      "Epoch 1/10:  47%|██████████████████████████████████████████████████████████████████████████████████▏                                                                                             | 463/991 [09:58<11:13,  1.27s/batch, batch_loss=31.5, batch_index=464, batch_size=256]"
     ]
    },
    {
     "name": "stderr",
     "output_type": "stream",
     "text": [
      "\r",
      "Epoch 1/10:  47%|██████████████████████████████████████████████████████████████████████████████████▍                                                                                             | 464/991 [09:58<11:13,  1.28s/batch, batch_loss=31.5, batch_index=464, batch_size=256]"
     ]
    },
    {
     "name": "stderr",
     "output_type": "stream",
     "text": [
      "\r",
      "Epoch 1/10:  47%|██████████████████████████████████████████████████████████████████████████████████▍                                                                                             | 464/991 [09:59<11:13,  1.28s/batch, batch_loss=30.4, batch_index=465, batch_size=256]"
     ]
    },
    {
     "name": "stderr",
     "output_type": "stream",
     "text": [
      "\r",
      "Epoch 1/10:  47%|██████████████████████████████████████████████████████████████████████████████████▌                                                                                             | 465/991 [09:59<11:12,  1.28s/batch, batch_loss=30.4, batch_index=465, batch_size=256]"
     ]
    },
    {
     "name": "stderr",
     "output_type": "stream",
     "text": [
      "\r",
      "Epoch 1/10:  47%|███████████████████████████████████████████████████████████████████████████████████▌                                                                                              | 465/991 [10:01<11:12,  1.28s/batch, batch_loss=20, batch_index=466, batch_size=256]"
     ]
    },
    {
     "name": "stderr",
     "output_type": "stream",
     "text": [
      "\r",
      "Epoch 1/10:  47%|███████████████████████████████████████████████████████████████████████████████████▋                                                                                              | 466/991 [10:01<11:15,  1.29s/batch, batch_loss=20, batch_index=466, batch_size=256]"
     ]
    },
    {
     "name": "stderr",
     "output_type": "stream",
     "text": [
      "\r",
      "Epoch 1/10:  47%|██████████████████████████████████████████████████████████████████████████████████▊                                                                                             | 466/991 [10:02<11:15,  1.29s/batch, batch_loss=24.2, batch_index=467, batch_size=256]"
     ]
    },
    {
     "name": "stderr",
     "output_type": "stream",
     "text": [
      "\r",
      "Epoch 1/10:  47%|██████████████████████████████████████████████████████████████████████████████████▉                                                                                             | 467/991 [10:02<11:14,  1.29s/batch, batch_loss=24.2, batch_index=467, batch_size=256]"
     ]
    },
    {
     "name": "stderr",
     "output_type": "stream",
     "text": [
      "\r",
      "Epoch 1/10:  47%|██████████████████████████████████████████████████████████████████████████████████▉                                                                                             | 467/991 [10:03<11:14,  1.29s/batch, batch_loss=29.9, batch_index=468, batch_size=256]"
     ]
    },
    {
     "name": "stderr",
     "output_type": "stream",
     "text": [
      "\r",
      "Epoch 1/10:  47%|███████████████████████████████████████████████████████████████████████████████████                                                                                             | 468/991 [10:03<11:18,  1.30s/batch, batch_loss=29.9, batch_index=468, batch_size=256]"
     ]
    },
    {
     "name": "stderr",
     "output_type": "stream",
     "text": [
      "\r",
      "Epoch 1/10:  47%|███████████████████████████████████████████████████████████████████████████████████                                                                                             | 468/991 [10:04<11:18,  1.30s/batch, batch_loss=38.2, batch_index=469, batch_size=256]"
     ]
    },
    {
     "name": "stderr",
     "output_type": "stream",
     "text": [
      "\r",
      "Epoch 1/10:  47%|███████████████████████████████████████████████████████████████████████████████████▎                                                                                            | 469/991 [10:04<11:15,  1.29s/batch, batch_loss=38.2, batch_index=469, batch_size=256]"
     ]
    },
    {
     "name": "stderr",
     "output_type": "stream",
     "text": [
      "\r",
      "Epoch 1/10:  47%|███████████████████████████████████████████████████████████████████████████████████▎                                                                                            | 469/991 [10:06<11:15,  1.29s/batch, batch_loss=24.5, batch_index=470, batch_size=256]"
     ]
    },
    {
     "name": "stderr",
     "output_type": "stream",
     "text": [
      "\r",
      "Epoch 1/10:  47%|███████████████████████████████████████████████████████████████████████████████████▍                                                                                            | 470/991 [10:06<11:13,  1.29s/batch, batch_loss=24.5, batch_index=470, batch_size=256]"
     ]
    },
    {
     "name": "stderr",
     "output_type": "stream",
     "text": [
      "\r",
      "Epoch 1/10:  47%|███████████████████████████████████████████████████████████████████████████████████▍                                                                                            | 470/991 [10:07<11:13,  1.29s/batch, batch_loss=46.7, batch_index=471, batch_size=256]"
     ]
    },
    {
     "name": "stderr",
     "output_type": "stream",
     "text": [
      "\r",
      "Epoch 1/10:  48%|███████████████████████████████████████████████████████████████████████████████████▋                                                                                            | 471/991 [10:07<11:12,  1.29s/batch, batch_loss=46.7, batch_index=471, batch_size=256]"
     ]
    },
    {
     "name": "stderr",
     "output_type": "stream",
     "text": [
      "\r",
      "Epoch 1/10:  48%|███████████████████████████████████████████████████████████████████████████████████▋                                                                                            | 471/991 [10:08<11:12,  1.29s/batch, batch_loss=47.9, batch_index=472, batch_size=256]"
     ]
    },
    {
     "name": "stderr",
     "output_type": "stream",
     "text": [
      "\r",
      "Epoch 1/10:  48%|███████████████████████████████████████████████████████████████████████████████████▊                                                                                            | 472/991 [10:08<11:13,  1.30s/batch, batch_loss=47.9, batch_index=472, batch_size=256]"
     ]
    },
    {
     "name": "stderr",
     "output_type": "stream",
     "text": [
      "\r",
      "Epoch 1/10:  48%|███████████████████████████████████████████████████████████████████████████████████▊                                                                                            | 472/991 [10:10<11:13,  1.30s/batch, batch_loss=29.6, batch_index=473, batch_size=256]"
     ]
    },
    {
     "name": "stderr",
     "output_type": "stream",
     "text": [
      "\r",
      "Epoch 1/10:  48%|████████████████████████████████████████████████████████████████████████████████████                                                                                            | 473/991 [10:10<11:11,  1.30s/batch, batch_loss=29.6, batch_index=473, batch_size=256]"
     ]
    },
    {
     "name": "stderr",
     "output_type": "stream",
     "text": [
      "\r",
      "Epoch 1/10:  48%|████████████████████████████████████████████████████████████████████████████████████                                                                                            | 473/991 [10:11<11:11,  1.30s/batch, batch_loss=21.9, batch_index=474, batch_size=256]"
     ]
    },
    {
     "name": "stderr",
     "output_type": "stream",
     "text": [
      "\r",
      "Epoch 1/10:  48%|████████████████████████████████████████████████████████████████████████████████████▏                                                                                           | 474/991 [10:11<11:06,  1.29s/batch, batch_loss=21.9, batch_index=474, batch_size=256]"
     ]
    },
    {
     "name": "stderr",
     "output_type": "stream",
     "text": [
      "\r",
      "Epoch 1/10:  48%|██████████████████████████████████████████████████████████████████████████████████▋                                                                                          | 474/991 [10:12<11:06,  1.29s/batch, batch_loss=2.42e+3, batch_index=475, batch_size=256]"
     ]
    },
    {
     "name": "stderr",
     "output_type": "stream",
     "text": [
      "\r",
      "Epoch 1/10:  48%|██████████████████████████████████████████████████████████████████████████████████▉                                                                                          | 475/991 [10:12<11:05,  1.29s/batch, batch_loss=2.42e+3, batch_index=475, batch_size=256]"
     ]
    },
    {
     "name": "stderr",
     "output_type": "stream",
     "text": [
      "\r",
      "Epoch 1/10:  48%|████████████████████████████████████████████████████████████████████████████████████▎                                                                                           | 475/991 [10:13<11:05,  1.29s/batch, batch_loss=36.2, batch_index=476, batch_size=256]"
     ]
    },
    {
     "name": "stderr",
     "output_type": "stream",
     "text": [
      "\r",
      "Epoch 1/10:  48%|████████████████████████████████████████████████████████████████████████████████████▌                                                                                           | 476/991 [10:13<11:07,  1.30s/batch, batch_loss=36.2, batch_index=476, batch_size=256]"
     ]
    },
    {
     "name": "stderr",
     "output_type": "stream",
     "text": [
      "\r",
      "Epoch 1/10:  48%|████████████████████████████████████████████████████████████████████████████████████▌                                                                                           | 476/991 [10:15<11:07,  1.30s/batch, batch_loss=43.3, batch_index=477, batch_size=256]"
     ]
    },
    {
     "name": "stderr",
     "output_type": "stream",
     "text": [
      "\r",
      "Epoch 1/10:  48%|████████████████████████████████████████████████████████████████████████████████████▋                                                                                           | 477/991 [10:15<11:05,  1.30s/batch, batch_loss=43.3, batch_index=477, batch_size=256]"
     ]
    },
    {
     "name": "stderr",
     "output_type": "stream",
     "text": [
      "\r",
      "Epoch 1/10:  48%|████████████████████████████████████████████████████████████████████████████████████▋                                                                                           | 477/991 [10:16<11:05,  1.30s/batch, batch_loss=23.8, batch_index=478, batch_size=256]"
     ]
    },
    {
     "name": "stderr",
     "output_type": "stream",
     "text": [
      "\r",
      "Epoch 1/10:  48%|████████████████████████████████████████████████████████████████████████████████████▉                                                                                           | 478/991 [10:16<11:04,  1.30s/batch, batch_loss=23.8, batch_index=478, batch_size=256]"
     ]
    },
    {
     "name": "stderr",
     "output_type": "stream",
     "text": [
      "\r",
      "Epoch 1/10:  48%|████████████████████████████████████████████████████████████████████████████████████▉                                                                                           | 478/991 [10:17<11:04,  1.30s/batch, batch_loss=33.6, batch_index=479, batch_size=256]"
     ]
    },
    {
     "name": "stderr",
     "output_type": "stream",
     "text": [
      "\r",
      "Epoch 1/10:  48%|█████████████████████████████████████████████████████████████████████████████████████                                                                                           | 479/991 [10:17<11:02,  1.29s/batch, batch_loss=33.6, batch_index=479, batch_size=256]"
     ]
    },
    {
     "name": "stderr",
     "output_type": "stream",
     "text": [
      "\r",
      "Epoch 1/10:  48%|█████████████████████████████████████████████████████████████████████████████████████                                                                                           | 479/991 [10:19<11:02,  1.29s/batch, batch_loss=25.8, batch_index=480, batch_size=256]"
     ]
    },
    {
     "name": "stderr",
     "output_type": "stream",
     "text": [
      "\r",
      "Epoch 1/10:  48%|█████████████████████████████████████████████████████████████████████████████████████▏                                                                                          | 480/991 [10:19<11:00,  1.29s/batch, batch_loss=25.8, batch_index=480, batch_size=256]"
     ]
    },
    {
     "name": "stderr",
     "output_type": "stream",
     "text": [
      "\r",
      "Epoch 1/10:  48%|█████████████████████████████████████████████████████████████████████████████████████▏                                                                                          | 480/991 [10:20<11:00,  1.29s/batch, batch_loss=47.9, batch_index=481, batch_size=256]"
     ]
    },
    {
     "name": "stderr",
     "output_type": "stream",
     "text": [
      "\r",
      "Epoch 1/10:  49%|█████████████████████████████████████████████████████████████████████████████████████▍                                                                                          | 481/991 [10:20<10:57,  1.29s/batch, batch_loss=47.9, batch_index=481, batch_size=256]"
     ]
    },
    {
     "name": "stderr",
     "output_type": "stream",
     "text": [
      "\r",
      "Epoch 1/10:  49%|█████████████████████████████████████████████████████████████████████████████████████▍                                                                                          | 481/991 [10:21<10:57,  1.29s/batch, batch_loss=37.6, batch_index=482, batch_size=256]"
     ]
    },
    {
     "name": "stderr",
     "output_type": "stream",
     "text": [
      "\r",
      "Epoch 1/10:  49%|█████████████████████████████████████████████████████████████████████████████████████▌                                                                                          | 482/991 [10:21<11:00,  1.30s/batch, batch_loss=37.6, batch_index=482, batch_size=256]"
     ]
    },
    {
     "name": "stderr",
     "output_type": "stream",
     "text": [
      "\r",
      "Epoch 1/10:  49%|█████████████████████████████████████████████████████████████████████████████████████▌                                                                                          | 482/991 [10:23<11:00,  1.30s/batch, batch_loss=40.1, batch_index=483, batch_size=256]"
     ]
    },
    {
     "name": "stderr",
     "output_type": "stream",
     "text": [
      "\r",
      "Epoch 1/10:  49%|█████████████████████████████████████████████████████████████████████████████████████▊                                                                                          | 483/991 [10:23<10:57,  1.29s/batch, batch_loss=40.1, batch_index=483, batch_size=256]"
     ]
    },
    {
     "name": "stderr",
     "output_type": "stream",
     "text": [
      "\r",
      "Epoch 1/10:  49%|█████████████████████████████████████████████████████████████████████████████████████▊                                                                                          | 483/991 [10:24<10:57,  1.29s/batch, batch_loss=37.8, batch_index=484, batch_size=256]"
     ]
    },
    {
     "name": "stderr",
     "output_type": "stream",
     "text": [
      "\r",
      "Epoch 1/10:  49%|█████████████████████████████████████████████████████████████████████████████████████▉                                                                                          | 484/991 [10:24<10:55,  1.29s/batch, batch_loss=37.8, batch_index=484, batch_size=256]"
     ]
    },
    {
     "name": "stderr",
     "output_type": "stream",
     "text": [
      "\r",
      "Epoch 1/10:  49%|█████████████████████████████████████████████████████████████████████████████████████▉                                                                                          | 484/991 [10:25<10:55,  1.29s/batch, batch_loss=15.2, batch_index=485, batch_size=256]"
     ]
    },
    {
     "name": "stderr",
     "output_type": "stream",
     "text": [
      "\r",
      "Epoch 1/10:  49%|██████████████████████████████████████████████████████████████████████████████████████▏                                                                                         | 485/991 [10:25<10:55,  1.30s/batch, batch_loss=15.2, batch_index=485, batch_size=256]"
     ]
    },
    {
     "name": "stderr",
     "output_type": "stream",
     "text": [
      "\r",
      "Epoch 1/10:  49%|██████████████████████████████████████████████████████████████████████████████████████▏                                                                                         | 485/991 [10:26<10:55,  1.30s/batch, batch_loss=78.3, batch_index=486, batch_size=256]"
     ]
    },
    {
     "name": "stderr",
     "output_type": "stream",
     "text": [
      "\r",
      "Epoch 1/10:  49%|██████████████████████████████████████████████████████████████████████████████████████▎                                                                                         | 486/991 [10:26<10:53,  1.29s/batch, batch_loss=78.3, batch_index=486, batch_size=256]"
     ]
    },
    {
     "name": "stderr",
     "output_type": "stream",
     "text": [
      "\r",
      "Epoch 1/10:  49%|██████████████████████████████████████████████████████████████████████████████████████▎                                                                                         | 486/991 [10:28<10:53,  1.29s/batch, batch_loss=22.8, batch_index=487, batch_size=256]"
     ]
    },
    {
     "name": "stderr",
     "output_type": "stream",
     "text": [
      "\r",
      "Epoch 1/10:  49%|██████████████████████████████████████████████████████████████████████████████████████▍                                                                                         | 487/991 [10:28<10:52,  1.29s/batch, batch_loss=22.8, batch_index=487, batch_size=256]"
     ]
    },
    {
     "name": "stderr",
     "output_type": "stream",
     "text": [
      "\r",
      "Epoch 1/10:  49%|███████████████████████████████████████████████████████████████████████████████████████▍                                                                                          | 487/991 [10:29<10:52,  1.29s/batch, batch_loss=16, batch_index=488, batch_size=256]"
     ]
    },
    {
     "name": "stderr",
     "output_type": "stream",
     "text": [
      "\r",
      "Epoch 1/10:  49%|███████████████████████████████████████████████████████████████████████████████████████▋                                                                                          | 488/991 [10:29<10:50,  1.29s/batch, batch_loss=16, batch_index=488, batch_size=256]"
     ]
    },
    {
     "name": "stderr",
     "output_type": "stream",
     "text": [
      "\r",
      "Epoch 1/10:  49%|██████████████████████████████████████████████████████████████████████████████████████▋                                                                                         | 488/991 [10:30<10:50,  1.29s/batch, batch_loss=15.8, batch_index=489, batch_size=256]"
     ]
    },
    {
     "name": "stderr",
     "output_type": "stream",
     "text": [
      "\r",
      "Epoch 1/10:  49%|██████████████████████████████████████████████████████████████████████████████████████▊                                                                                         | 489/991 [10:30<10:41,  1.28s/batch, batch_loss=15.8, batch_index=489, batch_size=256]"
     ]
    },
    {
     "name": "stderr",
     "output_type": "stream",
     "text": [
      "\r",
      "Epoch 1/10:  49%|██████████████████████████████████████████████████████████████████████████████████████▊                                                                                         | 489/991 [10:32<10:41,  1.28s/batch, batch_loss=17.5, batch_index=490, batch_size=256]"
     ]
    },
    {
     "name": "stderr",
     "output_type": "stream",
     "text": [
      "\r",
      "Epoch 1/10:  49%|███████████████████████████████████████████████████████████████████████████████████████                                                                                         | 490/991 [10:32<10:39,  1.28s/batch, batch_loss=17.5, batch_index=490, batch_size=256]"
     ]
    },
    {
     "name": "stderr",
     "output_type": "stream",
     "text": [
      "\r",
      "Epoch 1/10:  49%|███████████████████████████████████████████████████████████████████████████████████████                                                                                         | 490/991 [10:33<10:39,  1.28s/batch, batch_loss=27.5, batch_index=491, batch_size=256]"
     ]
    },
    {
     "name": "stderr",
     "output_type": "stream",
     "text": [
      "\r",
      "Epoch 1/10:  50%|███████████████████████████████████████████████████████████████████████████████████████▏                                                                                        | 491/991 [10:33<10:40,  1.28s/batch, batch_loss=27.5, batch_index=491, batch_size=256]"
     ]
    },
    {
     "name": "stderr",
     "output_type": "stream",
     "text": [
      "\r",
      "Epoch 1/10:  50%|███████████████████████████████████████████████████████████████████████████████████████▏                                                                                        | 491/991 [10:34<10:40,  1.28s/batch, batch_loss=54.5, batch_index=492, batch_size=256]"
     ]
    },
    {
     "name": "stderr",
     "output_type": "stream",
     "text": [
      "\r",
      "Epoch 1/10:  50%|███████████████████████████████████████████████████████████████████████████████████████▍                                                                                        | 492/991 [10:34<10:41,  1.28s/batch, batch_loss=54.5, batch_index=492, batch_size=256]"
     ]
    },
    {
     "name": "stderr",
     "output_type": "stream",
     "text": [
      "\r",
      "Epoch 1/10:  50%|███████████████████████████████████████████████████████████████████████████████████████▍                                                                                        | 492/991 [10:35<10:41,  1.28s/batch, batch_loss=61.8, batch_index=493, batch_size=256]"
     ]
    },
    {
     "name": "stderr",
     "output_type": "stream",
     "text": [
      "\r",
      "Epoch 1/10:  50%|███████████████████████████████████████████████████████████████████████████████████████▌                                                                                        | 493/991 [10:35<10:39,  1.28s/batch, batch_loss=61.8, batch_index=493, batch_size=256]"
     ]
    },
    {
     "name": "stderr",
     "output_type": "stream",
     "text": [
      "\r",
      "Epoch 1/10:  50%|███████████████████████████████████████████████████████████████████████████████████████▌                                                                                        | 493/991 [10:37<10:39,  1.28s/batch, batch_loss=17.2, batch_index=494, batch_size=256]"
     ]
    },
    {
     "name": "stderr",
     "output_type": "stream",
     "text": [
      "\r",
      "Epoch 1/10:  50%|███████████████████████████████████████████████████████████████████████████████████████▋                                                                                        | 494/991 [10:37<10:40,  1.29s/batch, batch_loss=17.2, batch_index=494, batch_size=256]"
     ]
    },
    {
     "name": "stderr",
     "output_type": "stream",
     "text": [
      "\r",
      "Epoch 1/10:  50%|██████████████████████████████████████████████████████████████████████████████████████▏                                                                                      | 494/991 [10:38<10:40,  1.29s/batch, batch_loss=85341.0, batch_index=495, batch_size=256]"
     ]
    },
    {
     "name": "stderr",
     "output_type": "stream",
     "text": [
      "\r",
      "Epoch 1/10:  50%|██████████████████████████████████████████████████████████████████████████████████████▍                                                                                      | 495/991 [10:38<10:42,  1.29s/batch, batch_loss=85341.0, batch_index=495, batch_size=256]"
     ]
    },
    {
     "name": "stderr",
     "output_type": "stream",
     "text": [
      "\r",
      "Epoch 1/10:  50%|███████████████████████████████████████████████████████████████████████████████████████▉                                                                                        | 495/991 [10:39<10:42,  1.29s/batch, batch_loss=25.8, batch_index=496, batch_size=256]"
     ]
    },
    {
     "name": "stderr",
     "output_type": "stream",
     "text": [
      "\r",
      "Epoch 1/10:  50%|████████████████████████████████████████████████████████████████████████████████████████                                                                                        | 496/991 [10:39<10:42,  1.30s/batch, batch_loss=25.8, batch_index=496, batch_size=256]"
     ]
    },
    {
     "name": "stderr",
     "output_type": "stream",
     "text": [
      "\r",
      "Epoch 1/10:  50%|████████████████████████████████████████████████████████████████████████████████████████▌                                                                                        | 496/991 [10:41<10:42,  1.30s/batch, batch_loss=179, batch_index=497, batch_size=256]"
     ]
    },
    {
     "name": "stderr",
     "output_type": "stream",
     "text": [
      "\r",
      "Epoch 1/10:  50%|████████████████████████████████████████████████████████████████████████████████████████▊                                                                                        | 497/991 [10:41<10:40,  1.30s/batch, batch_loss=179, batch_index=497, batch_size=256]"
     ]
    },
    {
     "name": "stderr",
     "output_type": "stream",
     "text": [
      "\r",
      "Epoch 1/10:  50%|████████████████████████████████████████████████████████████████████████████████████████▎                                                                                       | 497/991 [10:42<10:40,  1.30s/batch, batch_loss=20.2, batch_index=498, batch_size=256]"
     ]
    },
    {
     "name": "stderr",
     "output_type": "stream",
     "text": [
      "\r",
      "Epoch 1/10:  50%|████████████████████████████████████████████████████████████████████████████████████████▍                                                                                       | 498/991 [10:42<10:38,  1.30s/batch, batch_loss=20.2, batch_index=498, batch_size=256]"
     ]
    },
    {
     "name": "stderr",
     "output_type": "stream",
     "text": [
      "\r",
      "Epoch 1/10:  50%|████████████████████████████████████████████████████████████████████████████████████████▉                                                                                        | 498/991 [10:43<10:38,  1.30s/batch, batch_loss=412, batch_index=499, batch_size=256]"
     ]
    },
    {
     "name": "stderr",
     "output_type": "stream",
     "text": [
      "\r",
      "Epoch 1/10:  50%|█████████████████████████████████████████████████████████████████████████████████████████▏                                                                                       | 499/991 [10:43<10:37,  1.30s/batch, batch_loss=412, batch_index=499, batch_size=256]"
     ]
    },
    {
     "name": "stderr",
     "output_type": "stream",
     "text": [
      "\r",
      "Epoch 1/10:  50%|████████████████████████████████████████████████████████████████████████████████████████▌                                                                                       | 499/991 [10:44<10:37,  1.30s/batch, batch_loss=22.4, batch_index=500, batch_size=256]"
     ]
    },
    {
     "name": "stderr",
     "output_type": "stream",
     "text": [
      "\r",
      "Epoch 1/10:  50%|████████████████████████████████████████████████████████████████████████████████████████▊                                                                                       | 500/991 [10:44<10:35,  1.29s/batch, batch_loss=22.4, batch_index=500, batch_size=256]"
     ]
    },
    {
     "name": "stderr",
     "output_type": "stream",
     "text": [
      "\r",
      "Epoch 1/10:  50%|████████████████████████████████████████████████████████████████████████████████████████▊                                                                                       | 500/991 [10:46<10:35,  1.29s/batch, batch_loss=10.8, batch_index=501, batch_size=256]"
     ]
    },
    {
     "name": "stderr",
     "output_type": "stream",
     "text": [
      "\r",
      "Epoch 1/10:  51%|████████████████████████████████████████████████████████████████████████████████████████▉                                                                                       | 501/991 [10:46<10:34,  1.29s/batch, batch_loss=10.8, batch_index=501, batch_size=256]"
     ]
    },
    {
     "name": "stderr",
     "output_type": "stream",
     "text": [
      "\r",
      "Epoch 1/10:  51%|████████████████████████████████████████████████████████████████████████████████████████▉                                                                                       | 501/991 [10:47<10:34,  1.29s/batch, batch_loss=11.5, batch_index=502, batch_size=256]"
     ]
    },
    {
     "name": "stderr",
     "output_type": "stream",
     "text": [
      "\r",
      "Epoch 1/10:  51%|█████████████████████████████████████████████████████████████████████████████████████████▏                                                                                      | 502/991 [10:47<10:32,  1.29s/batch, batch_loss=11.5, batch_index=502, batch_size=256]"
     ]
    },
    {
     "name": "stderr",
     "output_type": "stream",
     "text": [
      "\r",
      "Epoch 1/10:  51%|█████████████████████████████████████████████████████████████████████████████████████████▏                                                                                      | 502/991 [10:48<10:32,  1.29s/batch, batch_loss=30.9, batch_index=503, batch_size=256]"
     ]
    },
    {
     "name": "stderr",
     "output_type": "stream",
     "text": [
      "\r",
      "Epoch 1/10:  51%|█████████████████████████████████████████████████████████████████████████████████████████▎                                                                                      | 503/991 [10:48<10:31,  1.29s/batch, batch_loss=30.9, batch_index=503, batch_size=256]"
     ]
    },
    {
     "name": "stderr",
     "output_type": "stream",
     "text": [
      "\r",
      "Epoch 1/10:  51%|█████████████████████████████████████████████████████████████████████████████████████████▎                                                                                      | 503/991 [10:50<10:31,  1.29s/batch, batch_loss=11.8, batch_index=504, batch_size=256]"
     ]
    },
    {
     "name": "stderr",
     "output_type": "stream",
     "text": [
      "\r",
      "Epoch 1/10:  51%|█████████████████████████████████████████████████████████████████████████████████████████▌                                                                                      | 504/991 [10:50<10:29,  1.29s/batch, batch_loss=11.8, batch_index=504, batch_size=256]"
     ]
    },
    {
     "name": "stderr",
     "output_type": "stream",
     "text": [
      "\r",
      "Epoch 1/10:  51%|█████████████████████████████████████████████████████████████████████████████████████████▌                                                                                      | 504/991 [10:51<10:29,  1.29s/batch, batch_loss=15.5, batch_index=505, batch_size=256]"
     ]
    },
    {
     "name": "stderr",
     "output_type": "stream",
     "text": [
      "\r",
      "Epoch 1/10:  51%|█████████████████████████████████████████████████████████████████████████████████████████▋                                                                                      | 505/991 [10:51<10:27,  1.29s/batch, batch_loss=15.5, batch_index=505, batch_size=256]"
     ]
    },
    {
     "name": "stderr",
     "output_type": "stream",
     "text": [
      "\r",
      "Epoch 1/10:  51%|█████████████████████████████████████████████████████████████████████████████████████████▋                                                                                      | 505/991 [10:52<10:27,  1.29s/batch, batch_loss=18.3, batch_index=506, batch_size=256]"
     ]
    },
    {
     "name": "stderr",
     "output_type": "stream",
     "text": [
      "\r",
      "Epoch 1/10:  51%|█████████████████████████████████████████████████████████████████████████████████████████▊                                                                                      | 506/991 [10:52<10:26,  1.29s/batch, batch_loss=18.3, batch_index=506, batch_size=256]"
     ]
    },
    {
     "name": "stderr",
     "output_type": "stream",
     "text": [
      "\r",
      "Epoch 1/10:  51%|█████████████████████████████████████████████████████████████████████████████████████████▊                                                                                      | 506/991 [10:54<10:26,  1.29s/batch, batch_loss=19.3, batch_index=507, batch_size=256]"
     ]
    },
    {
     "name": "stderr",
     "output_type": "stream",
     "text": [
      "\r",
      "Epoch 1/10:  51%|██████████████████████████████████████████████████████████████████████████████████████████                                                                                      | 507/991 [10:54<10:27,  1.30s/batch, batch_loss=19.3, batch_index=507, batch_size=256]"
     ]
    },
    {
     "name": "stderr",
     "output_type": "stream",
     "text": [
      "\r",
      "Epoch 1/10:  51%|██████████████████████████████████████████████████████████████████████████████████████████                                                                                      | 507/991 [10:55<10:27,  1.30s/batch, batch_loss=22.3, batch_index=508, batch_size=256]"
     ]
    },
    {
     "name": "stderr",
     "output_type": "stream",
     "text": [
      "\r",
      "Epoch 1/10:  51%|██████████████████████████████████████████████████████████████████████████████████████████▏                                                                                     | 508/991 [10:55<10:23,  1.29s/batch, batch_loss=22.3, batch_index=508, batch_size=256]"
     ]
    },
    {
     "name": "stderr",
     "output_type": "stream",
     "text": [
      "\r",
      "Epoch 1/10:  51%|██████████████████████████████████████████████████████████████████████████████████████████▏                                                                                     | 508/991 [10:56<10:23,  1.29s/batch, batch_loss=19.6, batch_index=509, batch_size=256]"
     ]
    },
    {
     "name": "stderr",
     "output_type": "stream",
     "text": [
      "\r",
      "Epoch 1/10:  51%|██████████████████████████████████████████████████████████████████████████████████████████▍                                                                                     | 509/991 [10:56<10:24,  1.30s/batch, batch_loss=19.6, batch_index=509, batch_size=256]"
     ]
    },
    {
     "name": "stderr",
     "output_type": "stream",
     "text": [
      "\r",
      "Epoch 1/10:  51%|██████████████████████████████████████████████████████████████████████████████████████████▍                                                                                     | 509/991 [10:57<10:24,  1.30s/batch, batch_loss=22.5, batch_index=510, batch_size=256]"
     ]
    },
    {
     "name": "stderr",
     "output_type": "stream",
     "text": [
      "\r",
      "Epoch 1/10:  51%|██████████████████████████████████████████████████████████████████████████████████████████▌                                                                                     | 510/991 [10:57<10:22,  1.29s/batch, batch_loss=22.5, batch_index=510, batch_size=256]"
     ]
    },
    {
     "name": "stderr",
     "output_type": "stream",
     "text": [
      "\r",
      "Epoch 1/10:  51%|██████████████████████████████████████████████████████████████████████████████████████████▌                                                                                     | 510/991 [10:59<10:22,  1.29s/batch, batch_loss=15.7, batch_index=511, batch_size=256]"
     ]
    },
    {
     "name": "stderr",
     "output_type": "stream",
     "text": [
      "\r",
      "Epoch 1/10:  52%|██████████████████████████████████████████████████████████████████████████████████████████▊                                                                                     | 511/991 [10:59<10:20,  1.29s/batch, batch_loss=15.7, batch_index=511, batch_size=256]"
     ]
    },
    {
     "name": "stderr",
     "output_type": "stream",
     "text": [
      "\r",
      "Epoch 1/10:  52%|██████████████████████████████████████████████████████████████████████████████████████████▊                                                                                     | 511/991 [11:00<10:20,  1.29s/batch, batch_loss=12.9, batch_index=512, batch_size=256]"
     ]
    },
    {
     "name": "stderr",
     "output_type": "stream",
     "text": [
      "\r",
      "Epoch 1/10:  52%|██████████████████████████████████████████████████████████████████████████████████████████▉                                                                                     | 512/991 [11:00<10:19,  1.29s/batch, batch_loss=12.9, batch_index=512, batch_size=256]"
     ]
    },
    {
     "name": "stderr",
     "output_type": "stream",
     "text": [
      "\r",
      "Epoch 1/10:  52%|██████████████████████████████████████████████████████████████████████████████████████████▉                                                                                     | 512/991 [11:01<10:19,  1.29s/batch, batch_loss=11.9, batch_index=513, batch_size=256]"
     ]
    },
    {
     "name": "stderr",
     "output_type": "stream",
     "text": [
      "\r",
      "Epoch 1/10:  52%|███████████████████████████████████████████████████████████████████████████████████████████                                                                                     | 513/991 [11:01<10:17,  1.29s/batch, batch_loss=11.9, batch_index=513, batch_size=256]"
     ]
    },
    {
     "name": "stderr",
     "output_type": "stream",
     "text": [
      "\r",
      "Epoch 1/10:  52%|███████████████████████████████████████████████████████████████████████████████████████████                                                                                     | 513/991 [11:03<10:17,  1.29s/batch, batch_loss=20.2, batch_index=514, batch_size=256]"
     ]
    },
    {
     "name": "stderr",
     "output_type": "stream",
     "text": [
      "\r",
      "Epoch 1/10:  52%|███████████████████████████████████████████████████████████████████████████████████████████▎                                                                                    | 514/991 [11:03<10:16,  1.29s/batch, batch_loss=20.2, batch_index=514, batch_size=256]"
     ]
    },
    {
     "name": "stderr",
     "output_type": "stream",
     "text": [
      "\r",
      "Epoch 1/10:  52%|███████████████████████████████████████████████████████████████████████████████████████████▎                                                                                    | 514/991 [11:04<10:16,  1.29s/batch, batch_loss=22.7, batch_index=515, batch_size=256]"
     ]
    },
    {
     "name": "stderr",
     "output_type": "stream",
     "text": [
      "\r",
      "Epoch 1/10:  52%|███████████████████████████████████████████████████████████████████████████████████████████▍                                                                                    | 515/991 [11:04<10:15,  1.29s/batch, batch_loss=22.7, batch_index=515, batch_size=256]"
     ]
    },
    {
     "name": "stderr",
     "output_type": "stream",
     "text": [
      "\r",
      "Epoch 1/10:  52%|███████████████████████████████████████████████████████████████████████████████████████████▍                                                                                    | 515/991 [11:05<10:15,  1.29s/batch, batch_loss=22.6, batch_index=516, batch_size=256]"
     ]
    },
    {
     "name": "stderr",
     "output_type": "stream",
     "text": [
      "\r",
      "Epoch 1/10:  52%|███████████████████████████████████████████████████████████████████████████████████████████▋                                                                                    | 516/991 [11:05<10:07,  1.28s/batch, batch_loss=22.6, batch_index=516, batch_size=256]"
     ]
    },
    {
     "name": "stderr",
     "output_type": "stream",
     "text": [
      "\r",
      "Epoch 1/10:  52%|███████████████████████████████████████████████████████████████████████████████████████████▋                                                                                    | 516/991 [11:06<10:07,  1.28s/batch, batch_loss=11.5, batch_index=517, batch_size=256]"
     ]
    },
    {
     "name": "stderr",
     "output_type": "stream",
     "text": [
      "\r",
      "Epoch 1/10:  52%|███████████████████████████████████████████████████████████████████████████████████████████▊                                                                                    | 517/991 [11:06<10:05,  1.28s/batch, batch_loss=11.5, batch_index=517, batch_size=256]"
     ]
    },
    {
     "name": "stderr",
     "output_type": "stream",
     "text": [
      "\r",
      "Epoch 1/10:  52%|████████████████████████████████████████████████████████████████████████████████████████████▊                                                                                     | 517/991 [11:08<10:05,  1.28s/batch, batch_loss=34, batch_index=518, batch_size=256]"
     ]
    },
    {
     "name": "stderr",
     "output_type": "stream",
     "text": [
      "\r",
      "Epoch 1/10:  52%|█████████████████████████████████████████████████████████████████████████████████████████████                                                                                     | 518/991 [11:08<10:08,  1.29s/batch, batch_loss=34, batch_index=518, batch_size=256]"
     ]
    },
    {
     "name": "stderr",
     "output_type": "stream",
     "text": [
      "\r",
      "Epoch 1/10:  52%|███████████████████████████████████████████████████████████████████████████████████████████▉                                                                                    | 518/991 [11:09<10:08,  1.29s/batch, batch_loss=18.7, batch_index=519, batch_size=256]"
     ]
    },
    {
     "name": "stderr",
     "output_type": "stream",
     "text": [
      "\r",
      "Epoch 1/10:  52%|████████████████████████████████████████████████████████████████████████████████████████████▏                                                                                   | 519/991 [11:09<10:08,  1.29s/batch, batch_loss=18.7, batch_index=519, batch_size=256]"
     ]
    },
    {
     "name": "stderr",
     "output_type": "stream",
     "text": [
      "\r",
      "Epoch 1/10:  52%|████████████████████████████████████████████████████████████████████████████████████████████▏                                                                                   | 519/991 [11:10<10:08,  1.29s/batch, batch_loss=19.2, batch_index=520, batch_size=256]"
     ]
    },
    {
     "name": "stderr",
     "output_type": "stream",
     "text": [
      "\r",
      "Epoch 1/10:  52%|████████████████████████████████████████████████████████████████████████████████████████████▎                                                                                   | 520/991 [11:10<10:07,  1.29s/batch, batch_loss=19.2, batch_index=520, batch_size=256]"
     ]
    },
    {
     "name": "stderr",
     "output_type": "stream",
     "text": [
      "\r",
      "Epoch 1/10:  52%|████████████████████████████████████████████████████████████████████████████████████████████▎                                                                                   | 520/991 [11:12<10:07,  1.29s/batch, batch_loss=11.9, batch_index=521, batch_size=256]"
     ]
    },
    {
     "name": "stderr",
     "output_type": "stream",
     "text": [
      "\r",
      "Epoch 1/10:  53%|████████████████████████████████████████████████████████████████████████████████████████████▌                                                                                   | 521/991 [11:12<10:06,  1.29s/batch, batch_loss=11.9, batch_index=521, batch_size=256]"
     ]
    },
    {
     "name": "stderr",
     "output_type": "stream",
     "text": [
      "\r",
      "Epoch 1/10:  53%|████████████████████████████████████████████████████████████████████████████████████████████▌                                                                                   | 521/991 [11:13<10:06,  1.29s/batch, batch_loss=12.3, batch_index=522, batch_size=256]"
     ]
    },
    {
     "name": "stderr",
     "output_type": "stream",
     "text": [
      "\r",
      "Epoch 1/10:  53%|████████████████████████████████████████████████████████████████████████████████████████████▋                                                                                   | 522/991 [11:13<10:07,  1.29s/batch, batch_loss=12.3, batch_index=522, batch_size=256]"
     ]
    },
    {
     "name": "stderr",
     "output_type": "stream",
     "text": [
      "\r",
      "Epoch 1/10:  53%|█████████████████████████████████████████████████████████████████████████████████████████████▏                                                                                   | 522/991 [11:14<10:07,  1.29s/batch, batch_loss=5.1, batch_index=523, batch_size=256]"
     ]
    },
    {
     "name": "stderr",
     "output_type": "stream",
     "text": [
      "\r",
      "Epoch 1/10:  53%|█████████████████████████████████████████████████████████████████████████████████████████████▍                                                                                   | 523/991 [11:14<10:04,  1.29s/batch, batch_loss=5.1, batch_index=523, batch_size=256]"
     ]
    },
    {
     "name": "stderr",
     "output_type": "stream",
     "text": [
      "\r",
      "Epoch 1/10:  53%|████████████████████████████████████████████████████████████████████████████████████████████▉                                                                                   | 523/991 [11:15<10:04,  1.29s/batch, batch_loss=11.4, batch_index=524, batch_size=256]"
     ]
    },
    {
     "name": "stderr",
     "output_type": "stream",
     "text": [
      "\r",
      "Epoch 1/10:  53%|█████████████████████████████████████████████████████████████████████████████████████████████                                                                                   | 524/991 [11:15<10:03,  1.29s/batch, batch_loss=11.4, batch_index=524, batch_size=256]"
     ]
    },
    {
     "name": "stderr",
     "output_type": "stream",
     "text": [
      "\r",
      "Epoch 1/10:  53%|█████████████████████████████████████████████████████████████████████████████████████████████                                                                                   | 524/991 [11:17<10:03,  1.29s/batch, batch_loss=9.43, batch_index=525, batch_size=256]"
     ]
    },
    {
     "name": "stderr",
     "output_type": "stream",
     "text": [
      "\r",
      "Epoch 1/10:  53%|█████████████████████████████████████████████████████████████████████████████████████████████▏                                                                                  | 525/991 [11:17<10:02,  1.29s/batch, batch_loss=9.43, batch_index=525, batch_size=256]"
     ]
    },
    {
     "name": "stderr",
     "output_type": "stream",
     "text": [
      "\r",
      "Epoch 1/10:  53%|█████████████████████████████████████████████████████████████████████████████████████████████▏                                                                                  | 525/991 [11:18<10:02,  1.29s/batch, batch_loss=10.3, batch_index=526, batch_size=256]"
     ]
    },
    {
     "name": "stderr",
     "output_type": "stream",
     "text": [
      "\r",
      "Epoch 1/10:  53%|█████████████████████████████████████████████████████████████████████████████████████████████▍                                                                                  | 526/991 [11:18<10:00,  1.29s/batch, batch_loss=10.3, batch_index=526, batch_size=256]"
     ]
    },
    {
     "name": "stderr",
     "output_type": "stream",
     "text": [
      "\r",
      "Epoch 1/10:  53%|█████████████████████████████████████████████████████████████████████████████████████████████▍                                                                                  | 526/991 [11:19<10:00,  1.29s/batch, batch_loss=21.5, batch_index=527, batch_size=256]"
     ]
    },
    {
     "name": "stderr",
     "output_type": "stream",
     "text": [
      "\r",
      "Epoch 1/10:  53%|█████████████████████████████████████████████████████████████████████████████████████████████▌                                                                                  | 527/991 [11:19<09:58,  1.29s/batch, batch_loss=21.5, batch_index=527, batch_size=256]"
     ]
    },
    {
     "name": "stderr",
     "output_type": "stream",
     "text": [
      "\r",
      "Epoch 1/10:  53%|██████████████████████████████████████████████████████████████████████████████████████████████▋                                                                                   | 527/991 [11:21<09:58,  1.29s/batch, batch_loss=20, batch_index=528, batch_size=256]"
     ]
    },
    {
     "name": "stderr",
     "output_type": "stream",
     "text": [
      "\r",
      "Epoch 1/10:  53%|██████████████████████████████████████████████████████████████████████████████████████████████▊                                                                                   | 528/991 [11:21<09:58,  1.29s/batch, batch_loss=20, batch_index=528, batch_size=256]"
     ]
    },
    {
     "name": "stderr",
     "output_type": "stream",
     "text": [
      "\r",
      "Epoch 1/10:  53%|█████████████████████████████████████████████████████████████████████████████████████████████▊                                                                                  | 528/991 [11:22<09:58,  1.29s/batch, batch_loss=10.5, batch_index=529, batch_size=256]"
     ]
    },
    {
     "name": "stderr",
     "output_type": "stream",
     "text": [
      "\r",
      "Epoch 1/10:  53%|█████████████████████████████████████████████████████████████████████████████████████████████▉                                                                                  | 529/991 [11:22<09:57,  1.29s/batch, batch_loss=10.5, batch_index=529, batch_size=256]"
     ]
    },
    {
     "name": "stderr",
     "output_type": "stream",
     "text": [
      "\r",
      "Epoch 1/10:  53%|███████████████████████████████████████████████████████████████████████████████████████████████                                                                                   | 529/991 [11:23<09:57,  1.29s/batch, batch_loss=23, batch_index=530, batch_size=256]"
     ]
    },
    {
     "name": "stderr",
     "output_type": "stream",
     "text": [
      "\r",
      "Epoch 1/10:  53%|███████████████████████████████████████████████████████████████████████████████████████████████▏                                                                                  | 530/991 [11:23<09:56,  1.29s/batch, batch_loss=23, batch_index=530, batch_size=256]"
     ]
    },
    {
     "name": "stderr",
     "output_type": "stream",
     "text": [
      "\r",
      "Epoch 1/10:  53%|██████████████████████████████████████████████████████████████████████████████████████████████▏                                                                                 | 530/991 [11:25<09:56,  1.29s/batch, batch_loss=19.7, batch_index=531, batch_size=256]"
     ]
    },
    {
     "name": "stderr",
     "output_type": "stream",
     "text": [
      "\r",
      "Epoch 1/10:  54%|██████████████████████████████████████████████████████████████████████████████████████████████▎                                                                                 | 531/991 [11:25<09:55,  1.30s/batch, batch_loss=19.7, batch_index=531, batch_size=256]"
     ]
    },
    {
     "name": "stderr",
     "output_type": "stream",
     "text": [
      "\r",
      "Epoch 1/10:  54%|██████████████████████████████████████████████████████████████████████████████████████████████▎                                                                                 | 531/991 [11:26<09:55,  1.30s/batch, batch_loss=18.7, batch_index=532, batch_size=256]"
     ]
    },
    {
     "name": "stderr",
     "output_type": "stream",
     "text": [
      "\r",
      "Epoch 1/10:  54%|██████████████████████████████████████████████████████████████████████████████████████████████▍                                                                                 | 532/991 [11:26<09:53,  1.29s/batch, batch_loss=18.7, batch_index=532, batch_size=256]"
     ]
    },
    {
     "name": "stderr",
     "output_type": "stream",
     "text": [
      "\r",
      "Epoch 1/10:  54%|██████████████████████████████████████████████████████████████████████████████████████████████▍                                                                                 | 532/991 [11:27<09:53,  1.29s/batch, batch_loss=19.2, batch_index=533, batch_size=256]"
     ]
    },
    {
     "name": "stderr",
     "output_type": "stream",
     "text": [
      "\r",
      "Epoch 1/10:  54%|██████████████████████████████████████████████████████████████████████████████████████████████▋                                                                                 | 533/991 [11:27<09:52,  1.29s/batch, batch_loss=19.2, batch_index=533, batch_size=256]"
     ]
    },
    {
     "name": "stderr",
     "output_type": "stream",
     "text": [
      "\r",
      "Epoch 1/10:  54%|██████████████████████████████████████████████████████████████████████████████████████████████▋                                                                                 | 533/991 [11:28<09:52,  1.29s/batch, batch_loss=20.6, batch_index=534, batch_size=256]"
     ]
    },
    {
     "name": "stderr",
     "output_type": "stream",
     "text": [
      "\r",
      "Epoch 1/10:  54%|██████████████████████████████████████████████████████████████████████████████████████████████▊                                                                                 | 534/991 [11:28<09:51,  1.30s/batch, batch_loss=20.6, batch_index=534, batch_size=256]"
     ]
    },
    {
     "name": "stderr",
     "output_type": "stream",
     "text": [
      "\r",
      "Epoch 1/10:  54%|██████████████████████████████████████████████████████████████████████████████████████████████▊                                                                                 | 534/991 [11:30<09:51,  1.30s/batch, batch_loss=29.2, batch_index=535, batch_size=256]"
     ]
    },
    {
     "name": "stderr",
     "output_type": "stream",
     "text": [
      "\r",
      "Epoch 1/10:  54%|███████████████████████████████████████████████████████████████████████████████████████████████                                                                                 | 535/991 [11:30<09:49,  1.29s/batch, batch_loss=29.2, batch_index=535, batch_size=256]"
     ]
    },
    {
     "name": "stderr",
     "output_type": "stream",
     "text": [
      "\r",
      "Epoch 1/10:  54%|███████████████████████████████████████████████████████████████████████████████████████████████                                                                                 | 535/991 [11:31<09:49,  1.29s/batch, batch_loss=29.5, batch_index=536, batch_size=256]"
     ]
    },
    {
     "name": "stderr",
     "output_type": "stream",
     "text": [
      "\r",
      "Epoch 1/10:  54%|███████████████████████████████████████████████████████████████████████████████████████████████▏                                                                                | 536/991 [11:31<09:47,  1.29s/batch, batch_loss=29.5, batch_index=536, batch_size=256]"
     ]
    },
    {
     "name": "stderr",
     "output_type": "stream",
     "text": [
      "\r",
      "Epoch 1/10:  54%|███████████████████████████████████████████████████████████████████████████████████████████████▏                                                                                | 536/991 [11:32<09:47,  1.29s/batch, batch_loss=14.5, batch_index=537, batch_size=256]"
     ]
    },
    {
     "name": "stderr",
     "output_type": "stream",
     "text": [
      "\r",
      "Epoch 1/10:  54%|███████████████████████████████████████████████████████████████████████████████████████████████▎                                                                                | 537/991 [11:32<09:46,  1.29s/batch, batch_loss=14.5, batch_index=537, batch_size=256]"
     ]
    },
    {
     "name": "stderr",
     "output_type": "stream",
     "text": [
      "\r",
      "Epoch 1/10:  54%|█████████████████████████████████████████████████████████████████████████████████████████████▋                                                                               | 537/991 [11:34<09:46,  1.29s/batch, batch_loss=1.78e+3, batch_index=538, batch_size=256]"
     ]
    },
    {
     "name": "stderr",
     "output_type": "stream",
     "text": [
      "\r",
      "Epoch 1/10:  54%|█████████████████████████████████████████████████████████████████████████████████████████████▉                                                                               | 538/991 [11:34<09:44,  1.29s/batch, batch_loss=1.78e+3, batch_index=538, batch_size=256]"
     ]
    },
    {
     "name": "stderr",
     "output_type": "stream",
     "text": [
      "\r",
      "Epoch 1/10:  54%|███████████████████████████████████████████████████████████████████████████████████████████████▌                                                                                | 538/991 [11:35<09:44,  1.29s/batch, batch_loss=62.8, batch_index=539, batch_size=256]"
     ]
    },
    {
     "name": "stderr",
     "output_type": "stream",
     "text": [
      "\r",
      "Epoch 1/10:  54%|███████████████████████████████████████████████████████████████████████████████████████████████▋                                                                                | 539/991 [11:35<09:43,  1.29s/batch, batch_loss=62.8, batch_index=539, batch_size=256]"
     ]
    },
    {
     "name": "stderr",
     "output_type": "stream",
     "text": [
      "\r",
      "Epoch 1/10:  54%|████████████████████████████████████████████████████████████████████████████████████████████████▊                                                                                 | 539/991 [11:36<09:43,  1.29s/batch, batch_loss=58, batch_index=540, batch_size=256]"
     ]
    },
    {
     "name": "stderr",
     "output_type": "stream",
     "text": [
      "\r",
      "Epoch 1/10:  54%|████████████████████████████████████████████████████████████████████████████████████████████████▉                                                                                 | 540/991 [11:36<09:42,  1.29s/batch, batch_loss=58, batch_index=540, batch_size=256]"
     ]
    },
    {
     "name": "stderr",
     "output_type": "stream",
     "text": [
      "\r",
      "Epoch 1/10:  54%|██████████████████████████████████████████████████████████████████████████████████████████████▊                                                                               | 540/991 [11:37<09:42,  1.29s/batch, batch_loss=1.3e+4, batch_index=541, batch_size=256]"
     ]
    },
    {
     "name": "stderr",
     "output_type": "stream",
     "text": [
      "\r",
      "Epoch 1/10:  55%|██████████████████████████████████████████████████████████████████████████████████████████████▉                                                                               | 541/991 [11:37<09:41,  1.29s/batch, batch_loss=1.3e+4, batch_index=541, batch_size=256]"
     ]
    },
    {
     "name": "stderr",
     "output_type": "stream",
     "text": [
      "\r",
      "Epoch 1/10:  55%|██████████████████████████████████████████████████████████████████████████████████████████████▍                                                                              | 541/991 [11:39<09:41,  1.29s/batch, batch_loss=2.89e+3, batch_index=542, batch_size=256]"
     ]
    },
    {
     "name": "stderr",
     "output_type": "stream",
     "text": [
      "\r",
      "Epoch 1/10:  55%|██████████████████████████████████████████████████████████████████████████████████████████████▌                                                                              | 542/991 [11:39<09:40,  1.29s/batch, batch_loss=2.89e+3, batch_index=542, batch_size=256]"
     ]
    },
    {
     "name": "stderr",
     "output_type": "stream",
     "text": [
      "\r",
      "Epoch 1/10:  55%|████████████████████████████████████████████████████████████████████████████████████████████████▎                                                                               | 542/991 [11:40<09:40,  1.29s/batch, batch_loss=65.1, batch_index=543, batch_size=256]"
     ]
    },
    {
     "name": "stderr",
     "output_type": "stream",
     "text": [
      "\r",
      "Epoch 1/10:  55%|████████████████████████████████████████████████████████████████████████████████████████████████▍                                                                               | 543/991 [11:40<09:29,  1.27s/batch, batch_loss=65.1, batch_index=543, batch_size=256]"
     ]
    },
    {
     "name": "stderr",
     "output_type": "stream",
     "text": [
      "\r",
      "Epoch 1/10:  55%|████████████████████████████████████████████████████████████████████████████████████████████████▍                                                                               | 543/991 [11:41<09:29,  1.27s/batch, batch_loss=28.8, batch_index=544, batch_size=256]"
     ]
    },
    {
     "name": "stderr",
     "output_type": "stream",
     "text": [
      "\r",
      "Epoch 1/10:  55%|████████████████████████████████████████████████████████████████████████████████████████████████▌                                                                               | 544/991 [11:41<09:28,  1.27s/batch, batch_loss=28.8, batch_index=544, batch_size=256]"
     ]
    },
    {
     "name": "stderr",
     "output_type": "stream",
     "text": [
      "\r",
      "Epoch 1/10:  55%|████████████████████████████████████████████████████████████████████████████████████████████████▌                                                                               | 544/991 [11:43<09:28,  1.27s/batch, batch_loss=25.1, batch_index=545, batch_size=256]"
     ]
    },
    {
     "name": "stderr",
     "output_type": "stream",
     "text": [
      "\r",
      "Epoch 1/10:  55%|████████████████████████████████████████████████████████████████████████████████████████████████▊                                                                               | 545/991 [11:43<09:30,  1.28s/batch, batch_loss=25.1, batch_index=545, batch_size=256]"
     ]
    },
    {
     "name": "stderr",
     "output_type": "stream",
     "text": [
      "\r",
      "Epoch 1/10:  55%|█████████████████████████████████████████████████████████████████████████████████████████████████▎                                                                               | 545/991 [11:44<09:30,  1.28s/batch, batch_loss=303, batch_index=546, batch_size=256]"
     ]
    },
    {
     "name": "stderr",
     "output_type": "stream",
     "text": [
      "\r",
      "Epoch 1/10:  55%|█████████████████████████████████████████████████████████████████████████████████████████████████▌                                                                               | 546/991 [11:44<09:32,  1.29s/batch, batch_loss=303, batch_index=546, batch_size=256]"
     ]
    },
    {
     "name": "stderr",
     "output_type": "stream",
     "text": [
      "\r",
      "Epoch 1/10:  55%|████████████████████████████████████████████████████████████████████████████████████████████████▉                                                                               | 546/991 [11:45<09:32,  1.29s/batch, batch_loss=22.6, batch_index=547, batch_size=256]"
     ]
    },
    {
     "name": "stderr",
     "output_type": "stream",
     "text": [
      "\r",
      "Epoch 1/10:  55%|█████████████████████████████████████████████████████████████████████████████████████████████████▏                                                                              | 547/991 [11:45<09:31,  1.29s/batch, batch_loss=22.6, batch_index=547, batch_size=256]"
     ]
    },
    {
     "name": "stderr",
     "output_type": "stream",
     "text": [
      "\r",
      "Epoch 1/10:  55%|█████████████████████████████████████████████████████████████████████████████████████████████████▏                                                                              | 547/991 [11:46<09:31,  1.29s/batch, batch_loss=48.2, batch_index=548, batch_size=256]"
     ]
    },
    {
     "name": "stderr",
     "output_type": "stream",
     "text": [
      "\r",
      "Epoch 1/10:  55%|█████████████████████████████████████████████████████████████████████████████████████████████████▎                                                                              | 548/991 [11:46<09:29,  1.29s/batch, batch_loss=48.2, batch_index=548, batch_size=256]"
     ]
    },
    {
     "name": "stderr",
     "output_type": "stream",
     "text": [
      "\r",
      "Epoch 1/10:  55%|█████████████████████████████████████████████████████████████████████████████████████████████████▎                                                                              | 548/991 [11:48<09:29,  1.29s/batch, batch_loss=13.3, batch_index=549, batch_size=256]"
     ]
    },
    {
     "name": "stderr",
     "output_type": "stream",
     "text": [
      "\r",
      "Epoch 1/10:  55%|█████████████████████████████████████████████████████████████████████████████████████████████████▌                                                                              | 549/991 [11:48<09:28,  1.29s/batch, batch_loss=13.3, batch_index=549, batch_size=256]"
     ]
    },
    {
     "name": "stderr",
     "output_type": "stream",
     "text": [
      "\r",
      "Epoch 1/10:  55%|█████████████████████████████████████████████████████████████████████████████████████████████████▌                                                                              | 549/991 [11:49<09:28,  1.29s/batch, batch_loss=42.3, batch_index=550, batch_size=256]"
     ]
    },
    {
     "name": "stderr",
     "output_type": "stream",
     "text": [
      "\r",
      "Epoch 1/10:  55%|█████████████████████████████████████████████████████████████████████████████████████████████████▋                                                                              | 550/991 [11:49<09:30,  1.29s/batch, batch_loss=42.3, batch_index=550, batch_size=256]"
     ]
    },
    {
     "name": "stderr",
     "output_type": "stream",
     "text": [
      "\r",
      "Epoch 1/10:  55%|██████████████████████████████████████████████████████████████████████████████████████████████████▊                                                                               | 550/991 [11:50<09:30,  1.29s/batch, batch_loss=27, batch_index=551, batch_size=256]"
     ]
    },
    {
     "name": "stderr",
     "output_type": "stream",
     "text": [
      "\r",
      "Epoch 1/10:  56%|██████████████████████████████████████████████████████████████████████████████████████████████████▉                                                                               | 551/991 [11:50<09:28,  1.29s/batch, batch_loss=27, batch_index=551, batch_size=256]"
     ]
    },
    {
     "name": "stderr",
     "output_type": "stream",
     "text": [
      "\r",
      "Epoch 1/10:  56%|█████████████████████████████████████████████████████████████████████████████████████████████████▊                                                                              | 551/991 [11:52<09:28,  1.29s/batch, batch_loss=16.7, batch_index=552, batch_size=256]"
     ]
    },
    {
     "name": "stderr",
     "output_type": "stream",
     "text": [
      "\r",
      "Epoch 1/10:  56%|██████████████████████████████████████████████████████████████████████████████████████████████████                                                                              | 552/991 [11:52<09:28,  1.30s/batch, batch_loss=16.7, batch_index=552, batch_size=256]"
     ]
    },
    {
     "name": "stderr",
     "output_type": "stream",
     "text": [
      "\r",
      "Epoch 1/10:  56%|██████████████████████████████████████████████████████████████████████████████████████████████████                                                                              | 552/991 [11:53<09:28,  1.30s/batch, batch_loss=26.5, batch_index=553, batch_size=256]"
     ]
    },
    {
     "name": "stderr",
     "output_type": "stream",
     "text": [
      "\r",
      "Epoch 1/10:  56%|██████████████████████████████████████████████████████████████████████████████████████████████████▏                                                                             | 553/991 [11:53<09:27,  1.29s/batch, batch_loss=26.5, batch_index=553, batch_size=256]"
     ]
    },
    {
     "name": "stderr",
     "output_type": "stream",
     "text": [
      "\r",
      "Epoch 1/10:  56%|████████████████████████████████████████████████████████████████████████████████████████████████▌                                                                            | 553/991 [11:54<09:27,  1.29s/batch, batch_loss=5.71e+3, batch_index=554, batch_size=256]"
     ]
    },
    {
     "name": "stderr",
     "output_type": "stream",
     "text": [
      "\r",
      "Epoch 1/10:  56%|████████████████████████████████████████████████████████████████████████████████████████████████▋                                                                            | 554/991 [11:54<09:25,  1.29s/batch, batch_loss=5.71e+3, batch_index=554, batch_size=256]"
     ]
    },
    {
     "name": "stderr",
     "output_type": "stream",
     "text": [
      "\r",
      "Epoch 1/10:  56%|█████████████████████████████████████████████████████████████████████████████████████████████████▎                                                                            | 554/991 [11:55<09:25,  1.29s/batch, batch_loss=2.6e+3, batch_index=555, batch_size=256]"
     ]
    },
    {
     "name": "stderr",
     "output_type": "stream",
     "text": [
      "\r",
      "Epoch 1/10:  56%|█████████████████████████████████████████████████████████████████████████████████████████████████▍                                                                            | 555/991 [11:55<09:26,  1.30s/batch, batch_loss=2.6e+3, batch_index=555, batch_size=256]"
     ]
    },
    {
     "name": "stderr",
     "output_type": "stream",
     "text": [
      "\r",
      "Epoch 1/10:  56%|██████████████████████████████████████████████████████████████████████████████████████████████████▌                                                                             | 555/991 [11:57<09:26,  1.30s/batch, batch_loss=31.8, batch_index=556, batch_size=256]"
     ]
    },
    {
     "name": "stderr",
     "output_type": "stream",
     "text": [
      "\r",
      "Epoch 1/10:  56%|██████████████████████████████████████████████████████████████████████████████████████████████████▋                                                                             | 556/991 [11:57<09:25,  1.30s/batch, batch_loss=31.8, batch_index=556, batch_size=256]"
     ]
    },
    {
     "name": "stderr",
     "output_type": "stream",
     "text": [
      "\r",
      "Epoch 1/10:  56%|█████████████████████████████████████████████████████████████████████████████████████████████████                                                                            | 556/991 [11:58<09:25,  1.30s/batch, batch_loss=1.27e+4, batch_index=557, batch_size=256]"
     ]
    },
    {
     "name": "stderr",
     "output_type": "stream",
     "text": [
      "\r",
      "Epoch 1/10:  56%|█████████████████████████████████████████████████████████████████████████████████████████████████▏                                                                           | 557/991 [11:58<09:24,  1.30s/batch, batch_loss=1.27e+4, batch_index=557, batch_size=256]"
     ]
    },
    {
     "name": "stderr",
     "output_type": "stream",
     "text": [
      "\r",
      "Epoch 1/10:  56%|██████████████████████████████████████████████████████████████████████████████████████████████████▉                                                                             | 557/991 [11:59<09:24,  1.30s/batch, batch_loss=12.1, batch_index=558, batch_size=256]"
     ]
    },
    {
     "name": "stderr",
     "output_type": "stream",
     "text": [
      "\r",
      "Epoch 1/10:  56%|███████████████████████████████████████████████████████████████████████████████████████████████████                                                                             | 558/991 [11:59<09:22,  1.30s/batch, batch_loss=12.1, batch_index=558, batch_size=256]"
     ]
    },
    {
     "name": "stderr",
     "output_type": "stream",
     "text": [
      "\r",
      "Epoch 1/10:  56%|███████████████████████████████████████████████████████████████████████████████████████████████████                                                                             | 558/991 [12:01<09:22,  1.30s/batch, batch_loss=17.8, batch_index=559, batch_size=256]"
     ]
    },
    {
     "name": "stderr",
     "output_type": "stream",
     "text": [
      "\r",
      "Epoch 1/10:  56%|███████████████████████████████████████████████████████████████████████████████████████████████████▎                                                                            | 559/991 [12:01<09:19,  1.30s/batch, batch_loss=17.8, batch_index=559, batch_size=256]"
     ]
    },
    {
     "name": "stderr",
     "output_type": "stream",
     "text": [
      "\r",
      "Epoch 1/10:  56%|███████████████████████████████████████████████████████████████████████████████████████████████████▎                                                                            | 559/991 [12:02<09:19,  1.30s/batch, batch_loss=11.3, batch_index=560, batch_size=256]"
     ]
    },
    {
     "name": "stderr",
     "output_type": "stream",
     "text": [
      "\r",
      "Epoch 1/10:  57%|███████████████████████████████████████████████████████████████████████████████████████████████████▍                                                                            | 560/991 [12:02<09:17,  1.29s/batch, batch_loss=11.3, batch_index=560, batch_size=256]"
     ]
    },
    {
     "name": "stderr",
     "output_type": "stream",
     "text": [
      "\r",
      "Epoch 1/10:  57%|███████████████████████████████████████████████████████████████████████████████████████████████████▍                                                                            | 560/991 [12:03<09:17,  1.29s/batch, batch_loss=11.3, batch_index=561, batch_size=256]"
     ]
    },
    {
     "name": "stderr",
     "output_type": "stream",
     "text": [
      "\r",
      "Epoch 1/10:  57%|███████████████████████████████████████████████████████████████████████████████████████████████████▋                                                                            | 561/991 [12:03<09:16,  1.29s/batch, batch_loss=11.3, batch_index=561, batch_size=256]"
     ]
    },
    {
     "name": "stderr",
     "output_type": "stream",
     "text": [
      "\r",
      "Epoch 1/10:  57%|███████████████████████████████████████████████████████████████████████████████████████████████████▋                                                                            | 561/991 [12:05<09:16,  1.29s/batch, batch_loss=21.4, batch_index=562, batch_size=256]"
     ]
    },
    {
     "name": "stderr",
     "output_type": "stream",
     "text": [
      "\r",
      "Epoch 1/10:  57%|███████████████████████████████████████████████████████████████████████████████████████████████████▊                                                                            | 562/991 [12:05<09:13,  1.29s/batch, batch_loss=21.4, batch_index=562, batch_size=256]"
     ]
    },
    {
     "name": "stderr",
     "output_type": "stream",
     "text": [
      "\r",
      "Epoch 1/10:  57%|███████████████████████████████████████████████████████████████████████████████████████████████████▊                                                                            | 562/991 [12:06<09:13,  1.29s/batch, batch_loss=15.5, batch_index=563, batch_size=256]"
     ]
    },
    {
     "name": "stderr",
     "output_type": "stream",
     "text": [
      "\r",
      "Epoch 1/10:  57%|███████████████████████████████████████████████████████████████████████████████████████████████████▉                                                                            | 563/991 [12:06<09:13,  1.29s/batch, batch_loss=15.5, batch_index=563, batch_size=256]"
     ]
    },
    {
     "name": "stderr",
     "output_type": "stream",
     "text": [
      "\r",
      "Epoch 1/10:  57%|█████████████████████████████████████████████████████████████████████████████████████████████████████                                                                             | 563/991 [12:07<09:13,  1.29s/batch, batch_loss=11, batch_index=564, batch_size=256]"
     ]
    },
    {
     "name": "stderr",
     "output_type": "stream",
     "text": [
      "\r",
      "Epoch 1/10:  57%|█████████████████████████████████████████████████████████████████████████████████████████████████████▎                                                                            | 564/991 [12:07<09:12,  1.29s/batch, batch_loss=11, batch_index=564, batch_size=256]"
     ]
    },
    {
     "name": "stderr",
     "output_type": "stream",
     "text": [
      "\r",
      "Epoch 1/10:  57%|████████████████████████████████████████████████████████████████████████████████████████████████████▋                                                                            | 564/991 [12:08<09:12,  1.29s/batch, batch_loss=504, batch_index=565, batch_size=256]"
     ]
    },
    {
     "name": "stderr",
     "output_type": "stream",
     "text": [
      "\r",
      "Epoch 1/10:  57%|████████████████████████████████████████████████████████████████████████████████████████████████████▉                                                                            | 565/991 [12:08<09:11,  1.29s/batch, batch_loss=504, batch_index=565, batch_size=256]"
     ]
    },
    {
     "name": "stderr",
     "output_type": "stream",
     "text": [
      "\r",
      "Epoch 1/10:  57%|████████████████████████████████████████████████████████████████████████████████████████████████████▎                                                                           | 565/991 [12:10<09:11,  1.29s/batch, batch_loss=19.8, batch_index=566, batch_size=256]"
     ]
    },
    {
     "name": "stderr",
     "output_type": "stream",
     "text": [
      "\r",
      "Epoch 1/10:  57%|████████████████████████████████████████████████████████████████████████████████████████████████████▌                                                                           | 566/991 [12:10<09:12,  1.30s/batch, batch_loss=19.8, batch_index=566, batch_size=256]"
     ]
    },
    {
     "name": "stderr",
     "output_type": "stream",
     "text": [
      "\r",
      "Epoch 1/10:  57%|████████████████████████████████████████████████████████████████████████████████████████████████████▌                                                                           | 566/991 [12:11<09:12,  1.30s/batch, batch_loss=19.1, batch_index=567, batch_size=256]"
     ]
    },
    {
     "name": "stderr",
     "output_type": "stream",
     "text": [
      "\r",
      "Epoch 1/10:  57%|████████████████████████████████████████████████████████████████████████████████████████████████████▋                                                                           | 567/991 [12:11<09:11,  1.30s/batch, batch_loss=19.1, batch_index=567, batch_size=256]"
     ]
    },
    {
     "name": "stderr",
     "output_type": "stream",
     "text": [
      "\r",
      "Epoch 1/10:  57%|█████████████████████████████████████████████████████████████████████████████████████████████████████▎                                                                           | 567/991 [12:12<09:11,  1.30s/batch, batch_loss=322, batch_index=568, batch_size=256]"
     ]
    },
    {
     "name": "stderr",
     "output_type": "stream",
     "text": [
      "\r",
      "Epoch 1/10:  57%|█████████████████████████████████████████████████████████████████████████████████████████████████████▍                                                                           | 568/991 [12:12<09:07,  1.29s/batch, batch_loss=322, batch_index=568, batch_size=256]"
     ]
    },
    {
     "name": "stderr",
     "output_type": "stream",
     "text": [
      "\r",
      "Epoch 1/10:  57%|████████████████████████████████████████████████████████████████████████████████████████████████████▉                                                                           | 568/991 [12:14<09:07,  1.29s/batch, batch_loss=66.5, batch_index=569, batch_size=256]"
     ]
    },
    {
     "name": "stderr",
     "output_type": "stream",
     "text": [
      "\r",
      "Epoch 1/10:  57%|█████████████████████████████████████████████████████████████████████████████████████████████████████                                                                           | 569/991 [12:14<09:05,  1.29s/batch, batch_loss=66.5, batch_index=569, batch_size=256]"
     ]
    },
    {
     "name": "stderr",
     "output_type": "stream",
     "text": [
      "\r",
      "Epoch 1/10:  57%|███████████████████████████████████████████████████████████████████████████████████████████████████▎                                                                         | 569/991 [12:15<09:05,  1.29s/batch, batch_loss=8.46e+3, batch_index=570, batch_size=256]"
     ]
    },
    {
     "name": "stderr",
     "output_type": "stream",
     "text": [
      "\r",
      "Epoch 1/10:  58%|███████████████████████████████████████████████████████████████████████████████████████████████████▌                                                                         | 570/991 [12:15<08:55,  1.27s/batch, batch_loss=8.46e+3, batch_index=570, batch_size=256]"
     ]
    },
    {
     "name": "stderr",
     "output_type": "stream",
     "text": [
      "\r",
      "Epoch 1/10:  58%|█████████████████████████████████████████████████████████████████████████████████████████████████████▏                                                                          | 570/991 [12:16<08:55,  1.27s/batch, batch_loss=15.8, batch_index=571, batch_size=256]"
     ]
    },
    {
     "name": "stderr",
     "output_type": "stream",
     "text": [
      "\r",
      "Epoch 1/10:  58%|█████████████████████████████████████████████████████████████████████████████████████████████████████▍                                                                          | 571/991 [12:16<08:56,  1.28s/batch, batch_loss=15.8, batch_index=571, batch_size=256]"
     ]
    },
    {
     "name": "stderr",
     "output_type": "stream",
     "text": [
      "\r",
      "Epoch 1/10:  58%|█████████████████████████████████████████████████████████████████████████████████████████████████████▍                                                                          | 571/991 [12:17<08:56,  1.28s/batch, batch_loss=15.1, batch_index=572, batch_size=256]"
     ]
    },
    {
     "name": "stderr",
     "output_type": "stream",
     "text": [
      "\r",
      "Epoch 1/10:  58%|█████████████████████████████████████████████████████████████████████████████████████████████████████▌                                                                          | 572/991 [12:17<08:58,  1.28s/batch, batch_loss=15.1, batch_index=572, batch_size=256]"
     ]
    },
    {
     "name": "stderr",
     "output_type": "stream",
     "text": [
      "\r",
      "Epoch 1/10:  58%|██████████████████████████████████████████████████████████████████████████████████████████████████████▋                                                                           | 572/991 [12:19<08:58,  1.28s/batch, batch_loss=11, batch_index=573, batch_size=256]"
     ]
    },
    {
     "name": "stderr",
     "output_type": "stream",
     "text": [
      "\r",
      "Epoch 1/10:  58%|██████████████████████████████████████████████████████████████████████████████████████████████████████▉                                                                           | 573/991 [12:19<08:58,  1.29s/batch, batch_loss=11, batch_index=573, batch_size=256]"
     ]
    },
    {
     "name": "stderr",
     "output_type": "stream",
     "text": [
      "\r",
      "Epoch 1/10:  58%|█████████████████████████████████████████████████████████████████████████████████████████████████████▊                                                                          | 573/991 [12:20<08:58,  1.29s/batch, batch_loss=17.5, batch_index=574, batch_size=256]"
     ]
    },
    {
     "name": "stderr",
     "output_type": "stream",
     "text": [
      "\r",
      "Epoch 1/10:  58%|█████████████████████████████████████████████████████████████████████████████████████████████████████▉                                                                          | 574/991 [12:20<08:57,  1.29s/batch, batch_loss=17.5, batch_index=574, batch_size=256]"
     ]
    },
    {
     "name": "stderr",
     "output_type": "stream",
     "text": [
      "\r",
      "Epoch 1/10:  58%|█████████████████████████████████████████████████████████████████████████████████████████████████████▉                                                                          | 574/991 [12:21<08:57,  1.29s/batch, batch_loss=34.3, batch_index=575, batch_size=256]"
     ]
    },
    {
     "name": "stderr",
     "output_type": "stream",
     "text": [
      "\r",
      "Epoch 1/10:  58%|██████████████████████████████████████████████████████████████████████████████████████████████████████                                                                          | 575/991 [12:21<08:57,  1.29s/batch, batch_loss=34.3, batch_index=575, batch_size=256]"
     ]
    },
    {
     "name": "stderr",
     "output_type": "stream",
     "text": [
      "\r",
      "Epoch 1/10:  58%|██████████████████████████████████████████████████████████████████████████████████████████████████████                                                                          | 575/991 [12:23<08:57,  1.29s/batch, batch_loss=49.3, batch_index=576, batch_size=256]"
     ]
    },
    {
     "name": "stderr",
     "output_type": "stream",
     "text": [
      "\r",
      "Epoch 1/10:  58%|██████████████████████████████████████████████████████████████████████████████████████████████████████▎                                                                         | 576/991 [12:23<08:57,  1.29s/batch, batch_loss=49.3, batch_index=576, batch_size=256]"
     ]
    },
    {
     "name": "stderr",
     "output_type": "stream",
     "text": [
      "\r",
      "Epoch 1/10:  58%|██████████████████████████████████████████████████████████████████████████████████████████████████████▎                                                                         | 576/991 [12:24<08:57,  1.29s/batch, batch_loss=13.7, batch_index=577, batch_size=256]"
     ]
    },
    {
     "name": "stderr",
     "output_type": "stream",
     "text": [
      "\r",
      "Epoch 1/10:  58%|██████████████████████████████████████████████████████████████████████████████████████████████████████▍                                                                         | 577/991 [12:24<08:56,  1.30s/batch, batch_loss=13.7, batch_index=577, batch_size=256]"
     ]
    },
    {
     "name": "stderr",
     "output_type": "stream",
     "text": [
      "\r",
      "Epoch 1/10:  58%|██████████████████████████████████████████████████████████████████████████████████████████████████████▍                                                                         | 577/991 [12:25<08:56,  1.30s/batch, batch_loss=13.1, batch_index=578, batch_size=256]"
     ]
    },
    {
     "name": "stderr",
     "output_type": "stream",
     "text": [
      "\r",
      "Epoch 1/10:  58%|██████████████████████████████████████████████████████████████████████████████████████████████████████▋                                                                         | 578/991 [12:25<08:53,  1.29s/batch, batch_loss=13.1, batch_index=578, batch_size=256]"
     ]
    },
    {
     "name": "stderr",
     "output_type": "stream",
     "text": [
      "\r",
      "Epoch 1/10:  58%|██████████████████████████████████████████████████████████████████████████████████████████████████████▋                                                                         | 578/991 [12:26<08:53,  1.29s/batch, batch_loss=18.1, batch_index=579, batch_size=256]"
     ]
    },
    {
     "name": "stderr",
     "output_type": "stream",
     "text": [
      "\r",
      "Epoch 1/10:  58%|██████████████████████████████████████████████████████████████████████████████████████████████████████▊                                                                         | 579/991 [12:26<08:52,  1.29s/batch, batch_loss=18.1, batch_index=579, batch_size=256]"
     ]
    },
    {
     "name": "stderr",
     "output_type": "stream",
     "text": [
      "\r",
      "Epoch 1/10:  58%|██████████████████████████████████████████████████████████████████████████████████████████████████████▊                                                                         | 579/991 [12:28<08:52,  1.29s/batch, batch_loss=19.6, batch_index=580, batch_size=256]"
     ]
    },
    {
     "name": "stderr",
     "output_type": "stream",
     "text": [
      "\r",
      "Epoch 1/10:  59%|███████████████████████████████████████████████████████████████████████████████████████████████████████                                                                         | 580/991 [12:28<08:51,  1.29s/batch, batch_loss=19.6, batch_index=580, batch_size=256]"
     ]
    },
    {
     "name": "stderr",
     "output_type": "stream",
     "text": [
      "\r",
      "Epoch 1/10:  59%|███████████████████████████████████████████████████████████████████████████████████████████████████████                                                                         | 580/991 [12:29<08:51,  1.29s/batch, batch_loss=14.9, batch_index=581, batch_size=256]"
     ]
    },
    {
     "name": "stderr",
     "output_type": "stream",
     "text": [
      "\r",
      "Epoch 1/10:  59%|███████████████████████████████████████████████████████████████████████████████████████████████████████▏                                                                        | 581/991 [12:29<08:50,  1.29s/batch, batch_loss=14.9, batch_index=581, batch_size=256]"
     ]
    },
    {
     "name": "stderr",
     "output_type": "stream",
     "text": [
      "\r",
      "Epoch 1/10:  59%|███████████████████████████████████████████████████████████████████████████████████████████████████████▏                                                                        | 581/991 [12:30<08:50,  1.29s/batch, batch_loss=7.26, batch_index=582, batch_size=256]"
     ]
    },
    {
     "name": "stderr",
     "output_type": "stream",
     "text": [
      "\r",
      "Epoch 1/10:  59%|███████████████████████████████████████████████████████████████████████████████████████████████████████▎                                                                        | 582/991 [12:30<08:48,  1.29s/batch, batch_loss=7.26, batch_index=582, batch_size=256]"
     ]
    },
    {
     "name": "stderr",
     "output_type": "stream",
     "text": [
      "\r",
      "Epoch 1/10:  59%|█████████████████████████████████████████████████████████████████████████████████████████████████████▌                                                                       | 582/991 [12:32<08:48,  1.29s/batch, batch_loss=6.61e+3, batch_index=583, batch_size=256]"
     ]
    },
    {
     "name": "stderr",
     "output_type": "stream",
     "text": [
      "\r",
      "Epoch 1/10:  59%|█████████████████████████████████████████████████████████████████████████████████████████████████████▊                                                                       | 583/991 [12:32<08:46,  1.29s/batch, batch_loss=6.61e+3, batch_index=583, batch_size=256]"
     ]
    },
    {
     "name": "stderr",
     "output_type": "stream",
     "text": [
      "\r",
      "Epoch 1/10:  59%|███████████████████████████████████████████████████████████████████████████████████████████████████████▌                                                                        | 583/991 [12:33<08:46,  1.29s/batch, batch_loss=16.5, batch_index=584, batch_size=256]"
     ]
    },
    {
     "name": "stderr",
     "output_type": "stream",
     "text": [
      "\r",
      "Epoch 1/10:  59%|███████████████████████████████████████████████████████████████████████████████████████████████████████▋                                                                        | 584/991 [12:33<08:45,  1.29s/batch, batch_loss=16.5, batch_index=584, batch_size=256]"
     ]
    },
    {
     "name": "stderr",
     "output_type": "stream",
     "text": [
      "\r",
      "Epoch 1/10:  59%|███████████████████████████████████████████████████████████████████████████████████████████████████████▋                                                                        | 584/991 [12:34<08:45,  1.29s/batch, batch_loss=13.6, batch_index=585, batch_size=256]"
     ]
    },
    {
     "name": "stderr",
     "output_type": "stream",
     "text": [
      "\r",
      "Epoch 1/10:  59%|███████████████████████████████████████████████████████████████████████████████████████████████████████▉                                                                        | 585/991 [12:34<08:44,  1.29s/batch, batch_loss=13.6, batch_index=585, batch_size=256]"
     ]
    },
    {
     "name": "stderr",
     "output_type": "stream",
     "text": [
      "\r",
      "Epoch 1/10:  59%|█████████████████████████████████████████████████████████████████████████████████████████████████████████                                                                         | 585/991 [12:36<08:44,  1.29s/batch, batch_loss=44, batch_index=586, batch_size=256]"
     ]
    },
    {
     "name": "stderr",
     "output_type": "stream",
     "text": [
      "\r",
      "Epoch 1/10:  59%|█████████████████████████████████████████████████████████████████████████████████████████████████████████▎                                                                        | 586/991 [12:36<08:43,  1.29s/batch, batch_loss=44, batch_index=586, batch_size=256]"
     ]
    },
    {
     "name": "stderr",
     "output_type": "stream",
     "text": [
      "\r",
      "Epoch 1/10:  59%|████████████████████████████████████████████████████████████████████████████████████████████████████████                                                                        | 586/991 [12:37<08:43,  1.29s/batch, batch_loss=37.5, batch_index=587, batch_size=256]"
     ]
    },
    {
     "name": "stderr",
     "output_type": "stream",
     "text": [
      "\r",
      "Epoch 1/10:  59%|████████████████████████████████████████████████████████████████████████████████████████████████████████▎                                                                       | 587/991 [12:37<08:43,  1.30s/batch, batch_loss=37.5, batch_index=587, batch_size=256]"
     ]
    },
    {
     "name": "stderr",
     "output_type": "stream",
     "text": [
      "\r",
      "Epoch 1/10:  59%|████████████████████████████████████████████████████████████████████████████████████████████████████████▎                                                                       | 587/991 [12:38<08:43,  1.30s/batch, batch_loss=28.1, batch_index=588, batch_size=256]"
     ]
    },
    {
     "name": "stderr",
     "output_type": "stream",
     "text": [
      "\r",
      "Epoch 1/10:  59%|████████████████████████████████████████████████████████████████████████████████████████████████████████▍                                                                       | 588/991 [12:38<08:41,  1.29s/batch, batch_loss=28.1, batch_index=588, batch_size=256]"
     ]
    },
    {
     "name": "stderr",
     "output_type": "stream",
     "text": [
      "\r",
      "Epoch 1/10:  59%|████████████████████████████████████████████████████████████████████████████████████████████████████████▍                                                                       | 588/991 [12:39<08:41,  1.29s/batch, batch_loss=12.5, batch_index=589, batch_size=256]"
     ]
    },
    {
     "name": "stderr",
     "output_type": "stream",
     "text": [
      "\r",
      "Epoch 1/10:  59%|████████████████████████████████████████████████████████████████████████████████████████████████████████▌                                                                       | 589/991 [12:39<08:39,  1.29s/batch, batch_loss=12.5, batch_index=589, batch_size=256]"
     ]
    },
    {
     "name": "stderr",
     "output_type": "stream",
     "text": [
      "\r",
      "Epoch 1/10:  59%|████████████████████████████████████████████████████████████████████████████████████████████████████████▌                                                                       | 589/991 [12:41<08:39,  1.29s/batch, batch_loss=23.1, batch_index=590, batch_size=256]"
     ]
    },
    {
     "name": "stderr",
     "output_type": "stream",
     "text": [
      "\r",
      "Epoch 1/10:  60%|████████████████████████████████████████████████████████████████████████████████████████████████████████▊                                                                       | 590/991 [12:41<08:38,  1.29s/batch, batch_loss=23.1, batch_index=590, batch_size=256]"
     ]
    },
    {
     "name": "stderr",
     "output_type": "stream",
     "text": [
      "\r",
      "Epoch 1/10:  60%|████████████████████████████████████████████████████████████████████████████████████████████████████████▊                                                                       | 590/991 [12:42<08:38,  1.29s/batch, batch_loss=21.7, batch_index=591, batch_size=256]"
     ]
    },
    {
     "name": "stderr",
     "output_type": "stream",
     "text": [
      "\r",
      "Epoch 1/10:  60%|████████████████████████████████████████████████████████████████████████████████████████████████████████▉                                                                       | 591/991 [12:42<08:37,  1.29s/batch, batch_loss=21.7, batch_index=591, batch_size=256]"
     ]
    },
    {
     "name": "stderr",
     "output_type": "stream",
     "text": [
      "\r",
      "Epoch 1/10:  60%|████████████████████████████████████████████████████████████████████████████████████████████████████████▉                                                                       | 591/991 [12:43<08:37,  1.29s/batch, batch_loss=10.5, batch_index=592, batch_size=256]"
     ]
    },
    {
     "name": "stderr",
     "output_type": "stream",
     "text": [
      "\r",
      "Epoch 1/10:  60%|█████████████████████████████████████████████████████████████████████████████████████████████████████████▏                                                                      | 592/991 [12:43<08:35,  1.29s/batch, batch_loss=10.5, batch_index=592, batch_size=256]"
     ]
    },
    {
     "name": "stderr",
     "output_type": "stream",
     "text": [
      "\r",
      "Epoch 1/10:  60%|█████████████████████████████████████████████████████████████████████████████████████████████████████████▏                                                                      | 592/991 [12:45<08:35,  1.29s/batch, batch_loss=12.5, batch_index=593, batch_size=256]"
     ]
    },
    {
     "name": "stderr",
     "output_type": "stream",
     "text": [
      "\r",
      "Epoch 1/10:  60%|█████████████████████████████████████████████████████████████████████████████████████████████████████████▎                                                                      | 593/991 [12:45<08:34,  1.29s/batch, batch_loss=12.5, batch_index=593, batch_size=256]"
     ]
    },
    {
     "name": "stderr",
     "output_type": "stream",
     "text": [
      "\r",
      "Epoch 1/10:  60%|█████████████████████████████████████████████████████████████████████████████████████████████████████████▎                                                                      | 593/991 [12:46<08:34,  1.29s/batch, batch_loss=15.8, batch_index=594, batch_size=256]"
     ]
    },
    {
     "name": "stderr",
     "output_type": "stream",
     "text": [
      "\r",
      "Epoch 1/10:  60%|█████████████████████████████████████████████████████████████████████████████████████████████████████████▍                                                                      | 594/991 [12:46<08:31,  1.29s/batch, batch_loss=15.8, batch_index=594, batch_size=256]"
     ]
    },
    {
     "name": "stderr",
     "output_type": "stream",
     "text": [
      "\r",
      "Epoch 1/10:  60%|█████████████████████████████████████████████████████████████████████████████████████████████████████████▍                                                                      | 594/991 [12:47<08:31,  1.29s/batch, batch_loss=11.5, batch_index=595, batch_size=256]"
     ]
    },
    {
     "name": "stderr",
     "output_type": "stream",
     "text": [
      "\r",
      "Epoch 1/10:  60%|█████████████████████████████████████████████████████████████████████████████████████████████████████████▋                                                                      | 595/991 [12:47<08:31,  1.29s/batch, batch_loss=11.5, batch_index=595, batch_size=256]"
     ]
    },
    {
     "name": "stderr",
     "output_type": "stream",
     "text": [
      "\r",
      "Epoch 1/10:  60%|█████████████████████████████████████████████████████████████████████████████████████████████████████████▋                                                                      | 595/991 [12:48<08:31,  1.29s/batch, batch_loss=13.3, batch_index=596, batch_size=256]"
     ]
    },
    {
     "name": "stderr",
     "output_type": "stream",
     "text": [
      "\r",
      "Epoch 1/10:  60%|█████████████████████████████████████████████████████████████████████████████████████████████████████████▊                                                                      | 596/991 [12:48<08:30,  1.29s/batch, batch_loss=13.3, batch_index=596, batch_size=256]"
     ]
    },
    {
     "name": "stderr",
     "output_type": "stream",
     "text": [
      "\r",
      "Epoch 1/10:  60%|█████████████████████████████████████████████████████████████████████████████████████████████████████████▊                                                                      | 596/991 [12:50<08:30,  1.29s/batch, batch_loss=40.3, batch_index=597, batch_size=256]"
     ]
    },
    {
     "name": "stderr",
     "output_type": "stream",
     "text": [
      "\r",
      "Epoch 1/10:  60%|██████████████████████████████████████████████████████████████████████████████████████████████████████████                                                                      | 597/991 [12:50<08:21,  1.27s/batch, batch_loss=40.3, batch_index=597, batch_size=256]"
     ]
    },
    {
     "name": "stderr",
     "output_type": "stream",
     "text": [
      "\r",
      "Epoch 1/10:  60%|██████████████████████████████████████████████████████████████████████████████████████████████████████████                                                                      | 597/991 [12:51<08:21,  1.27s/batch, batch_loss=11.6, batch_index=598, batch_size=256]"
     ]
    },
    {
     "name": "stderr",
     "output_type": "stream",
     "text": [
      "\r",
      "Epoch 1/10:  60%|██████████████████████████████████████████████████████████████████████████████████████████████████████████▏                                                                     | 598/991 [12:51<08:22,  1.28s/batch, batch_loss=11.6, batch_index=598, batch_size=256]"
     ]
    },
    {
     "name": "stderr",
     "output_type": "stream",
     "text": [
      "\r",
      "Epoch 1/10:  60%|██████████████████████████████████████████████████████████████████████████████████████████████████████████▏                                                                     | 598/991 [12:52<08:22,  1.28s/batch, batch_loss=26.1, batch_index=599, batch_size=256]"
     ]
    },
    {
     "name": "stderr",
     "output_type": "stream",
     "text": [
      "\r",
      "Epoch 1/10:  60%|██████████████████████████████████████████████████████████████████████████████████████████████████████████▍                                                                     | 599/991 [12:52<08:23,  1.28s/batch, batch_loss=26.1, batch_index=599, batch_size=256]"
     ]
    },
    {
     "name": "stderr",
     "output_type": "stream",
     "text": [
      "\r",
      "Epoch 1/10:  60%|███████████████████████████████████████████████████████████████████████████████████████████████████████████▌                                                                      | 599/991 [12:54<08:23,  1.28s/batch, batch_loss=21, batch_index=600, batch_size=256]"
     ]
    },
    {
     "name": "stderr",
     "output_type": "stream",
     "text": [
      "\r",
      "Epoch 1/10:  61%|███████████████████████████████████████████████████████████████████████████████████████████████████████████▊                                                                      | 600/991 [12:54<08:23,  1.29s/batch, batch_loss=21, batch_index=600, batch_size=256]"
     ]
    },
    {
     "name": "stderr",
     "output_type": "stream",
     "text": [
      "\r",
      "Epoch 1/10:  61%|██████████████████████████████████████████████████████████████████████████████████████████████████████████▌                                                                     | 600/991 [12:55<08:23,  1.29s/batch, batch_loss=22.4, batch_index=601, batch_size=256]"
     ]
    },
    {
     "name": "stderr",
     "output_type": "stream",
     "text": [
      "\r",
      "Epoch 1/10:  61%|██████████████████████████████████████████████████████████████████████████████████████████████████████████▋                                                                     | 601/991 [12:55<08:21,  1.29s/batch, batch_loss=22.4, batch_index=601, batch_size=256]"
     ]
    },
    {
     "name": "stderr",
     "output_type": "stream",
     "text": [
      "\r",
      "Epoch 1/10:  61%|██████████████████████████████████████████████████████████████████████████████████████████████████████████▋                                                                     | 601/991 [12:56<08:21,  1.29s/batch, batch_loss=18.1, batch_index=602, batch_size=256]"
     ]
    },
    {
     "name": "stderr",
     "output_type": "stream",
     "text": [
      "\r",
      "Epoch 1/10:  61%|██████████████████████████████████████████████████████████████████████████████████████████████████████████▉                                                                     | 602/991 [12:56<08:21,  1.29s/batch, batch_loss=18.1, batch_index=602, batch_size=256]"
     ]
    },
    {
     "name": "stderr",
     "output_type": "stream",
     "text": [
      "\r",
      "Epoch 1/10:  61%|██████████████████████████████████████████████████████████████████████████████████████████████████████████▉                                                                     | 602/991 [12:57<08:21,  1.29s/batch, batch_loss=14.8, batch_index=603, batch_size=256]"
     ]
    },
    {
     "name": "stderr",
     "output_type": "stream",
     "text": [
      "\r",
      "Epoch 1/10:  61%|███████████████████████████████████████████████████████████████████████████████████████████████████████████                                                                     | 603/991 [12:57<08:20,  1.29s/batch, batch_loss=14.8, batch_index=603, batch_size=256]"
     ]
    },
    {
     "name": "stderr",
     "output_type": "stream",
     "text": [
      "\r",
      "Epoch 1/10:  61%|█████████████████████████████████████████████████████████████████████████████████████████████████████████▎                                                                   | 603/991 [12:59<08:20,  1.29s/batch, batch_loss=1.01e+4, batch_index=604, batch_size=256]"
     ]
    },
    {
     "name": "stderr",
     "output_type": "stream",
     "text": [
      "\r",
      "Epoch 1/10:  61%|█████████████████████████████████████████████████████████████████████████████████████████████████████████▍                                                                   | 604/991 [12:59<08:20,  1.29s/batch, batch_loss=1.01e+4, batch_index=604, batch_size=256]"
     ]
    },
    {
     "name": "stderr",
     "output_type": "stream",
     "text": [
      "\r",
      "Epoch 1/10:  61%|███████████████████████████████████████████████████████████████████████████████████████████████████████████▎                                                                    | 604/991 [13:00<08:20,  1.29s/batch, batch_loss=15.1, batch_index=605, batch_size=256]"
     ]
    },
    {
     "name": "stderr",
     "output_type": "stream",
     "text": [
      "\r",
      "Epoch 1/10:  61%|███████████████████████████████████████████████████████████████████████████████████████████████████████████▍                                                                    | 605/991 [13:00<08:19,  1.29s/batch, batch_loss=15.1, batch_index=605, batch_size=256]"
     ]
    },
    {
     "name": "stderr",
     "output_type": "stream",
     "text": [
      "\r",
      "Epoch 1/10:  61%|███████████████████████████████████████████████████████████████████████████████████████████████████████████▍                                                                    | 605/991 [13:01<08:19,  1.29s/batch, batch_loss=16.3, batch_index=606, batch_size=256]"
     ]
    },
    {
     "name": "stderr",
     "output_type": "stream",
     "text": [
      "\r",
      "Epoch 1/10:  61%|███████████████████████████████████████████████████████████████████████████████████████████████████████████▌                                                                    | 606/991 [13:01<08:18,  1.29s/batch, batch_loss=16.3, batch_index=606, batch_size=256]"
     ]
    },
    {
     "name": "stderr",
     "output_type": "stream",
     "text": [
      "\r",
      "Epoch 1/10:  61%|███████████████████████████████████████████████████████████████████████████████████████████████████████████▌                                                                    | 606/991 [13:03<08:18,  1.29s/batch, batch_loss=13.5, batch_index=607, batch_size=256]"
     ]
    },
    {
     "name": "stderr",
     "output_type": "stream",
     "text": [
      "\r",
      "Epoch 1/10:  61%|███████████████████████████████████████████████████████████████████████████████████████████████████████████▊                                                                    | 607/991 [13:03<08:16,  1.29s/batch, batch_loss=13.5, batch_index=607, batch_size=256]"
     ]
    },
    {
     "name": "stderr",
     "output_type": "stream",
     "text": [
      "\r",
      "Epoch 1/10:  61%|███████████████████████████████████████████████████████████████████████████████████████████████████████████▊                                                                    | 607/991 [13:04<08:16,  1.29s/batch, batch_loss=22.8, batch_index=608, batch_size=256]"
     ]
    },
    {
     "name": "stderr",
     "output_type": "stream",
     "text": [
      "\r",
      "Epoch 1/10:  61%|███████████████████████████████████████████████████████████████████████████████████████████████████████████▉                                                                    | 608/991 [13:04<08:14,  1.29s/batch, batch_loss=22.8, batch_index=608, batch_size=256]"
     ]
    },
    {
     "name": "stderr",
     "output_type": "stream",
     "text": [
      "\r",
      "Epoch 1/10:  61%|█████████████████████████████████████████████████████████████████████████████████████████████████████████████▏                                                                    | 608/991 [13:05<08:14,  1.29s/batch, batch_loss=22, batch_index=609, batch_size=256]"
     ]
    },
    {
     "name": "stderr",
     "output_type": "stream",
     "text": [
      "\r",
      "Epoch 1/10:  61%|█████████████████████████████████████████████████████████████████████████████████████████████████████████████▍                                                                    | 609/991 [13:05<08:14,  1.30s/batch, batch_loss=22, batch_index=609, batch_size=256]"
     ]
    },
    {
     "name": "stderr",
     "output_type": "stream",
     "text": [
      "\r",
      "Epoch 1/10:  61%|████████████████████████████████████████████████████████████████████████████████████████████████████████████▏                                                                   | 609/991 [13:07<08:14,  1.30s/batch, batch_loss=31.7, batch_index=610, batch_size=256]"
     ]
    },
    {
     "name": "stderr",
     "output_type": "stream",
     "text": [
      "\r",
      "Epoch 1/10:  62%|████████████████████████████████████████████████████████████████████████████████████████████████████████████▎                                                                   | 610/991 [13:07<08:14,  1.30s/batch, batch_loss=31.7, batch_index=610, batch_size=256]"
     ]
    },
    {
     "name": "stderr",
     "output_type": "stream",
     "text": [
      "\r",
      "Epoch 1/10:  62%|████████████████████████████████████████████████████████████████████████████████████████████████████████████▎                                                                   | 610/991 [13:08<08:14,  1.30s/batch, batch_loss=48.3, batch_index=611, batch_size=256]"
     ]
    },
    {
     "name": "stderr",
     "output_type": "stream",
     "text": [
      "\r",
      "Epoch 1/10:  62%|████████████████████████████████████████████████████████████████████████████████████████████████████████████▌                                                                   | 611/991 [13:08<08:11,  1.29s/batch, batch_loss=48.3, batch_index=611, batch_size=256]"
     ]
    },
    {
     "name": "stderr",
     "output_type": "stream",
     "text": [
      "\r",
      "Epoch 1/10:  62%|█████████████████████████████████████████████████████████████████████████████████████████████████████████████▋                                                                    | 611/991 [13:09<08:11,  1.29s/batch, batch_loss=17, batch_index=612, batch_size=256]"
     ]
    },
    {
     "name": "stderr",
     "output_type": "stream",
     "text": [
      "\r",
      "Epoch 1/10:  62%|█████████████████████████████████████████████████████████████████████████████████████████████████████████████▉                                                                    | 612/991 [13:09<08:11,  1.30s/batch, batch_loss=17, batch_index=612, batch_size=256]"
     ]
    },
    {
     "name": "stderr",
     "output_type": "stream",
     "text": [
      "\r",
      "Epoch 1/10:  62%|█████████████████████████████████████████████████████████████████████████████████████████████████████████████▉                                                                    | 612/991 [13:10<08:11,  1.30s/batch, batch_loss=21, batch_index=613, batch_size=256]"
     ]
    },
    {
     "name": "stderr",
     "output_type": "stream",
     "text": [
      "\r",
      "Epoch 1/10:  62%|██████████████████████████████████████████████████████████████████████████████████████████████████████████████                                                                    | 613/991 [13:10<08:09,  1.30s/batch, batch_loss=21, batch_index=613, batch_size=256]"
     ]
    },
    {
     "name": "stderr",
     "output_type": "stream",
     "text": [
      "\r",
      "Epoch 1/10:  62%|███████████████████████████████████████████████████████████████████████████████████████████████████████████                                                                  | 613/991 [13:12<08:09,  1.30s/batch, batch_loss=1.74e+4, batch_index=614, batch_size=256]"
     ]
    },
    {
     "name": "stderr",
     "output_type": "stream",
     "text": [
      "\r",
      "Epoch 1/10:  62%|███████████████████████████████████████████████████████████████████████████████████████████████████████████▏                                                                 | 614/991 [13:12<08:07,  1.29s/batch, batch_loss=1.74e+4, batch_index=614, batch_size=256]"
     ]
    },
    {
     "name": "stderr",
     "output_type": "stream",
     "text": [
      "\r",
      "Epoch 1/10:  62%|███████████████████████████████████████████████████████████████████████████████████████████████████████████▏                                                                 | 614/991 [13:13<08:07,  1.29s/batch, batch_loss=1.02e+3, batch_index=615, batch_size=256]"
     ]
    },
    {
     "name": "stderr",
     "output_type": "stream",
     "text": [
      "\r",
      "Epoch 1/10:  62%|███████████████████████████████████████████████████████████████████████████████████████████████████████████▎                                                                 | 615/991 [13:13<08:07,  1.30s/batch, batch_loss=1.02e+3, batch_index=615, batch_size=256]"
     ]
    },
    {
     "name": "stderr",
     "output_type": "stream",
     "text": [
      "\r",
      "Epoch 1/10:  62%|█████████████████████████████████████████████████████████████████████████████████████████████████████████████▏                                                                  | 615/991 [13:14<08:07,  1.30s/batch, batch_loss=15.2, batch_index=616, batch_size=256]"
     ]
    },
    {
     "name": "stderr",
     "output_type": "stream",
     "text": [
      "\r",
      "Epoch 1/10:  62%|█████████████████████████████████████████████████████████████████████████████████████████████████████████████▍                                                                  | 616/991 [13:14<08:05,  1.30s/batch, batch_loss=15.2, batch_index=616, batch_size=256]"
     ]
    },
    {
     "name": "stderr",
     "output_type": "stream",
     "text": [
      "\r",
      "Epoch 1/10:  62%|█████████████████████████████████████████████████████████████████████████████████████████████████████████████▍                                                                  | 616/991 [13:16<08:05,  1.30s/batch, batch_loss=34.9, batch_index=617, batch_size=256]"
     ]
    },
    {
     "name": "stderr",
     "output_type": "stream",
     "text": [
      "\r",
      "Epoch 1/10:  62%|█████████████████████████████████████████████████████████████████████████████████████████████████████████████▌                                                                  | 617/991 [13:16<08:03,  1.29s/batch, batch_loss=34.9, batch_index=617, batch_size=256]"
     ]
    },
    {
     "name": "stderr",
     "output_type": "stream",
     "text": [
      "\r",
      "Epoch 1/10:  62%|██████████████████████████████████████████████████████████████████████████████████████████████████████████████▊                                                                   | 617/991 [13:17<08:03,  1.29s/batch, batch_loss=17, batch_index=618, batch_size=256]"
     ]
    },
    {
     "name": "stderr",
     "output_type": "stream",
     "text": [
      "\r",
      "Epoch 1/10:  62%|███████████████████████████████████████████████████████████████████████████████████████████████████████████████                                                                   | 618/991 [13:17<08:02,  1.29s/batch, batch_loss=17, batch_index=618, batch_size=256]"
     ]
    },
    {
     "name": "stderr",
     "output_type": "stream",
     "text": [
      "\r",
      "Epoch 1/10:  62%|█████████████████████████████████████████████████████████████████████████████████████████████████████████████▊                                                                  | 618/991 [13:18<08:02,  1.29s/batch, batch_loss=37.9, batch_index=619, batch_size=256]"
     ]
    },
    {
     "name": "stderr",
     "output_type": "stream",
     "text": [
      "\r",
      "Epoch 1/10:  62%|█████████████████████████████████████████████████████████████████████████████████████████████████████████████▉                                                                  | 619/991 [13:18<08:01,  1.29s/batch, batch_loss=37.9, batch_index=619, batch_size=256]"
     ]
    },
    {
     "name": "stderr",
     "output_type": "stream",
     "text": [
      "\r",
      "Epoch 1/10:  62%|███████████████████████████████████████████████████████████████████████████████████████████████████████████████▏                                                                  | 619/991 [13:19<08:01,  1.29s/batch, batch_loss=22, batch_index=620, batch_size=256]"
     ]
    },
    {
     "name": "stderr",
     "output_type": "stream",
     "text": [
      "\r",
      "Epoch 1/10:  63%|███████████████████████████████████████████████████████████████████████████████████████████████████████████████▎                                                                  | 620/991 [13:19<07:58,  1.29s/batch, batch_loss=22, batch_index=620, batch_size=256]"
     ]
    },
    {
     "name": "stderr",
     "output_type": "stream",
     "text": [
      "\r",
      "Epoch 1/10:  63%|██████████████████████████████████████████████████████████████████████████████████████████████████████████████                                                                  | 620/991 [13:21<07:58,  1.29s/batch, batch_loss=10.2, batch_index=621, batch_size=256]"
     ]
    },
    {
     "name": "stderr",
     "output_type": "stream",
     "text": [
      "\r",
      "Epoch 1/10:  63%|██████████████████████████████████████████████████████████████████████████████████████████████████████████████▎                                                                 | 621/991 [13:21<07:56,  1.29s/batch, batch_loss=10.2, batch_index=621, batch_size=256]"
     ]
    },
    {
     "name": "stderr",
     "output_type": "stream",
     "text": [
      "\r",
      "Epoch 1/10:  63%|████████████████████████████████████████████████████████████████████████████████████████████████████████████▍                                                                | 621/991 [13:22<07:56,  1.29s/batch, batch_loss=5.49e+3, batch_index=622, batch_size=256]"
     ]
    },
    {
     "name": "stderr",
     "output_type": "stream",
     "text": [
      "\r",
      "Epoch 1/10:  63%|████████████████████████████████████████████████████████████████████████████████████████████████████████████▌                                                                | 622/991 [13:22<07:57,  1.29s/batch, batch_loss=5.49e+3, batch_index=622, batch_size=256]"
     ]
    },
    {
     "name": "stderr",
     "output_type": "stream",
     "text": [
      "\r",
      "Epoch 1/10:  63%|██████████████████████████████████████████████████████████████████████████████████████████████████████████████▍                                                                 | 622/991 [13:23<07:57,  1.29s/batch, batch_loss=59.9, batch_index=623, batch_size=256]"
     ]
    },
    {
     "name": "stderr",
     "output_type": "stream",
     "text": [
      "\r",
      "Epoch 1/10:  63%|██████████████████████████████████████████████████████████████████████████████████████████████████████████████▋                                                                 | 623/991 [13:23<07:55,  1.29s/batch, batch_loss=59.9, batch_index=623, batch_size=256]"
     ]
    },
    {
     "name": "stderr",
     "output_type": "stream",
     "text": [
      "\r",
      "Epoch 1/10:  63%|████████████████████████████████████████████████████████████████████████████████████████████████████████████▊                                                                | 623/991 [13:24<07:55,  1.29s/batch, batch_loss=1.61e+4, batch_index=624, batch_size=256]"
     ]
    },
    {
     "name": "stderr",
     "output_type": "stream",
     "text": [
      "\r",
      "Epoch 1/10:  63%|████████████████████████████████████████████████████████████████████████████████████████████████████████████▉                                                                | 624/991 [13:24<07:42,  1.26s/batch, batch_loss=1.61e+4, batch_index=624, batch_size=256]"
     ]
    },
    {
     "name": "stderr",
     "output_type": "stream",
     "text": [
      "\r",
      "Epoch 1/10:  63%|██████████████████████████████████████████████████████████████████████████████████████████████████████████████▊                                                                 | 624/991 [13:26<07:42,  1.26s/batch, batch_loss=12.6, batch_index=625, batch_size=256]"
     ]
    },
    {
     "name": "stderr",
     "output_type": "stream",
     "text": [
      "\r",
      "Epoch 1/10:  63%|██████████████████████████████████████████████████████████████████████████████████████████████████████████████▉                                                                 | 625/991 [13:26<07:44,  1.27s/batch, batch_loss=12.6, batch_index=625, batch_size=256]"
     ]
    },
    {
     "name": "stderr",
     "output_type": "stream",
     "text": [
      "\r",
      "Epoch 1/10:  63%|██████████████████████████████████████████████████████████████████████████████████████████████████████████████▉                                                                 | 625/991 [13:27<07:44,  1.27s/batch, batch_loss=7.65, batch_index=626, batch_size=256]"
     ]
    },
    {
     "name": "stderr",
     "output_type": "stream",
     "text": [
      "\r",
      "Epoch 1/10:  63%|███████████████████████████████████████████████████████████████████████████████████████████████████████████████▏                                                                | 626/991 [13:27<07:44,  1.27s/batch, batch_loss=7.65, batch_index=626, batch_size=256]"
     ]
    },
    {
     "name": "stderr",
     "output_type": "stream",
     "text": [
      "\r",
      "Epoch 1/10:  63%|█████████████████████████████████████████████████████████████████████████████████████████████████████████████▎                                                               | 626/991 [13:28<07:44,  1.27s/batch, batch_loss=4.31e+3, batch_index=627, batch_size=256]"
     ]
    },
    {
     "name": "stderr",
     "output_type": "stream",
     "text": [
      "\r",
      "Epoch 1/10:  63%|█████████████████████████████████████████████████████████████████████████████████████████████████████████████▍                                                               | 627/991 [13:28<07:46,  1.28s/batch, batch_loss=4.31e+3, batch_index=627, batch_size=256]"
     ]
    },
    {
     "name": "stderr",
     "output_type": "stream",
     "text": [
      "\r",
      "Epoch 1/10:  63%|█████████████████████████████████████████████████████████████████████████████████████████████████████████████▍                                                               | 627/991 [13:30<07:46,  1.28s/batch, batch_loss=1.07e+3, batch_index=628, batch_size=256]"
     ]
    },
    {
     "name": "stderr",
     "output_type": "stream",
     "text": [
      "\r",
      "Epoch 1/10:  63%|█████████████████████████████████████████████████████████████████████████████████████████████████████████████▋                                                               | 628/991 [13:30<07:46,  1.28s/batch, batch_loss=1.07e+3, batch_index=628, batch_size=256]"
     ]
    },
    {
     "name": "stderr",
     "output_type": "stream",
     "text": [
      "\r",
      "Epoch 1/10:  63%|███████████████████████████████████████████████████████████████████████████████████████████████████████████████▌                                                                | 628/991 [13:31<07:46,  1.28s/batch, batch_loss=16.9, batch_index=629, batch_size=256]"
     ]
    },
    {
     "name": "stderr",
     "output_type": "stream",
     "text": [
      "\r",
      "Epoch 1/10:  63%|███████████████████████████████████████████████████████████████████████████████████████████████████████████████▋                                                                | 629/991 [13:31<07:44,  1.28s/batch, batch_loss=16.9, batch_index=629, batch_size=256]"
     ]
    },
    {
     "name": "stderr",
     "output_type": "stream",
     "text": [
      "\r",
      "Epoch 1/10:  63%|███████████████████████████████████████████████████████████████████████████████████████████████████████████████▋                                                                | 629/991 [13:32<07:44,  1.28s/batch, batch_loss=44.6, batch_index=630, batch_size=256]"
     ]
    },
    {
     "name": "stderr",
     "output_type": "stream",
     "text": [
      "\r",
      "Epoch 1/10:  64%|███████████████████████████████████████████████████████████████████████████████████████████████████████████████▉                                                                | 630/991 [13:32<07:42,  1.28s/batch, batch_loss=44.6, batch_index=630, batch_size=256]"
     ]
    },
    {
     "name": "stderr",
     "output_type": "stream",
     "text": [
      "\r",
      "Epoch 1/10:  64%|███████████████████████████████████████████████████████████████████████████████████████████████████████████████▉                                                                | 630/991 [13:34<07:42,  1.28s/batch, batch_loss=36.3, batch_index=631, batch_size=256]"
     ]
    },
    {
     "name": "stderr",
     "output_type": "stream",
     "text": [
      "\r",
      "Epoch 1/10:  64%|████████████████████████████████████████████████████████████████████████████████████████████████████████████████                                                                | 631/991 [13:34<07:43,  1.29s/batch, batch_loss=36.3, batch_index=631, batch_size=256]"
     ]
    },
    {
     "name": "stderr",
     "output_type": "stream",
     "text": [
      "\r",
      "Epoch 1/10:  64%|████████████████████████████████████████████████████████████████████████████████████████████████████████████████                                                                | 631/991 [13:35<07:43,  1.29s/batch, batch_loss=10.4, batch_index=632, batch_size=256]"
     ]
    },
    {
     "name": "stderr",
     "output_type": "stream",
     "text": [
      "\r",
      "Epoch 1/10:  64%|████████████████████████████████████████████████████████████████████████████████████████████████████████████████▏                                                               | 632/991 [13:35<07:42,  1.29s/batch, batch_loss=10.4, batch_index=632, batch_size=256]"
     ]
    },
    {
     "name": "stderr",
     "output_type": "stream",
     "text": [
      "\r",
      "Epoch 1/10:  64%|████████████████████████████████████████████████████████████████████████████████████████████████████████████████▏                                                               | 632/991 [13:36<07:42,  1.29s/batch, batch_loss=45.2, batch_index=633, batch_size=256]"
     ]
    },
    {
     "name": "stderr",
     "output_type": "stream",
     "text": [
      "\r",
      "Epoch 1/10:  64%|████████████████████████████████████████████████████████████████████████████████████████████████████████████████▍                                                               | 633/991 [13:36<07:41,  1.29s/batch, batch_loss=45.2, batch_index=633, batch_size=256]"
     ]
    },
    {
     "name": "stderr",
     "output_type": "stream",
     "text": [
      "\r",
      "Epoch 1/10:  64%|████████████████████████████████████████████████████████████████████████████████████████████████████████████████▍                                                               | 633/991 [13:37<07:41,  1.29s/batch, batch_loss=43.8, batch_index=634, batch_size=256]"
     ]
    },
    {
     "name": "stderr",
     "output_type": "stream",
     "text": [
      "\r",
      "Epoch 1/10:  64%|████████████████████████████████████████████████████████████████████████████████████████████████████████████████▌                                                               | 634/991 [13:37<07:42,  1.29s/batch, batch_loss=43.8, batch_index=634, batch_size=256]"
     ]
    },
    {
     "name": "stderr",
     "output_type": "stream",
     "text": [
      "\r",
      "Epoch 1/10:  64%|████████████████████████████████████████████████████████████████████████████████████████████████████████████████▌                                                               | 634/991 [13:39<07:42,  1.29s/batch, batch_loss=40.7, batch_index=635, batch_size=256]"
     ]
    },
    {
     "name": "stderr",
     "output_type": "stream",
     "text": [
      "\r",
      "Epoch 1/10:  64%|████████████████████████████████████████████████████████████████████████████████████████████████████████████████▊                                                               | 635/991 [13:39<07:40,  1.29s/batch, batch_loss=40.7, batch_index=635, batch_size=256]"
     ]
    },
    {
     "name": "stderr",
     "output_type": "stream",
     "text": [
      "\r",
      "Epoch 1/10:  64%|████████████████████████████████████████████████████████████████████████████████████████████████████████████████▊                                                               | 635/991 [13:40<07:40,  1.29s/batch, batch_loss=25.8, batch_index=636, batch_size=256]"
     ]
    },
    {
     "name": "stderr",
     "output_type": "stream",
     "text": [
      "\r",
      "Epoch 1/10:  64%|████████████████████████████████████████████████████████████████████████████████████████████████████████████████▉                                                               | 636/991 [13:40<07:38,  1.29s/batch, batch_loss=25.8, batch_index=636, batch_size=256]"
     ]
    },
    {
     "name": "stderr",
     "output_type": "stream",
     "text": [
      "\r",
      "Epoch 1/10:  64%|████████████████████████████████████████████████████████████████████████████████████████████████████████████████▉                                                               | 636/991 [13:41<07:38,  1.29s/batch, batch_loss=31.7, batch_index=637, batch_size=256]"
     ]
    },
    {
     "name": "stderr",
     "output_type": "stream",
     "text": [
      "\r",
      "Epoch 1/10:  64%|█████████████████████████████████████████████████████████████████████████████████████████████████████████████████▏                                                              | 637/991 [13:41<07:38,  1.29s/batch, batch_loss=31.7, batch_index=637, batch_size=256]"
     ]
    },
    {
     "name": "stderr",
     "output_type": "stream",
     "text": [
      "\r",
      "Epoch 1/10:  64%|█████████████████████████████████████████████████████████████████████████████████████████████████████████████████▏                                                              | 637/991 [13:43<07:38,  1.29s/batch, batch_loss=34.4, batch_index=638, batch_size=256]"
     ]
    },
    {
     "name": "stderr",
     "output_type": "stream",
     "text": [
      "\r",
      "Epoch 1/10:  64%|█████████████████████████████████████████████████████████████████████████████████████████████████████████████████▎                                                              | 638/991 [13:43<07:34,  1.29s/batch, batch_loss=34.4, batch_index=638, batch_size=256]"
     ]
    },
    {
     "name": "stderr",
     "output_type": "stream",
     "text": [
      "\r",
      "Epoch 1/10:  64%|█████████████████████████████████████████████████████████████████████████████████████████████████████████████████▎                                                              | 638/991 [13:44<07:34,  1.29s/batch, batch_loss=15.3, batch_index=639, batch_size=256]"
     ]
    },
    {
     "name": "stderr",
     "output_type": "stream",
     "text": [
      "\r",
      "Epoch 1/10:  64%|█████████████████████████████████████████████████████████████████████████████████████████████████████████████████▍                                                              | 639/991 [13:44<07:34,  1.29s/batch, batch_loss=15.3, batch_index=639, batch_size=256]"
     ]
    },
    {
     "name": "stderr",
     "output_type": "stream",
     "text": [
      "\r",
      "Epoch 1/10:  64%|██████████████████████████████████████████████████████████████████████████████████████████████████████████████████▏                                                              | 639/991 [13:45<07:34,  1.29s/batch, batch_loss=706, batch_index=640, batch_size=256]"
     ]
    },
    {
     "name": "stderr",
     "output_type": "stream",
     "text": [
      "\r",
      "Epoch 1/10:  65%|██████████████████████████████████████████████████████████████████████████████████████████████████████████████████▎                                                              | 640/991 [13:45<07:33,  1.29s/batch, batch_loss=706, batch_index=640, batch_size=256]"
     ]
    },
    {
     "name": "stderr",
     "output_type": "stream",
     "text": [
      "\r",
      "Epoch 1/10:  65%|██████████████████████████████████████████████████████████████████████████████████████████████████████████████████▉                                                               | 640/991 [13:46<07:33,  1.29s/batch, batch_loss=22, batch_index=641, batch_size=256]"
     ]
    },
    {
     "name": "stderr",
     "output_type": "stream",
     "text": [
      "\r",
      "Epoch 1/10:  65%|███████████████████████████████████████████████████████████████████████████████████████████████████████████████████▏                                                              | 641/991 [13:46<07:33,  1.30s/batch, batch_loss=22, batch_index=641, batch_size=256]"
     ]
    },
    {
     "name": "stderr",
     "output_type": "stream",
     "text": [
      "\r",
      "Epoch 1/10:  65%|█████████████████████████████████████████████████████████████████████████████████████████████████████████████████▊                                                              | 641/991 [13:48<07:33,  1.30s/batch, batch_loss=13.2, batch_index=642, batch_size=256]"
     ]
    },
    {
     "name": "stderr",
     "output_type": "stream",
     "text": [
      "\r",
      "Epoch 1/10:  65%|██████████████████████████████████████████████████████████████████████████████████████████████████████████████████                                                              | 642/991 [13:48<07:32,  1.30s/batch, batch_loss=13.2, batch_index=642, batch_size=256]"
     ]
    },
    {
     "name": "stderr",
     "output_type": "stream",
     "text": [
      "\r",
      "Epoch 1/10:  65%|████████████████████████████████████████████████████████████████████████████████████████████████████████████████                                                             | 642/991 [13:49<07:32,  1.30s/batch, batch_loss=2.13e+4, batch_index=643, batch_size=256]"
     ]
    },
    {
     "name": "stderr",
     "output_type": "stream",
     "text": [
      "\r",
      "Epoch 1/10:  65%|████████████████████████████████████████████████████████████████████████████████████████████████████████████████▏                                                            | 643/991 [13:49<07:31,  1.30s/batch, batch_loss=2.13e+4, batch_index=643, batch_size=256]"
     ]
    },
    {
     "name": "stderr",
     "output_type": "stream",
     "text": [
      "\r",
      "Epoch 1/10:  65%|████████████████████████████████████████████████████████████████████████████████████████████████████████████████▏                                                            | 643/991 [13:50<07:31,  1.30s/batch, batch_loss=1.76e+4, batch_index=644, batch_size=256]"
     ]
    },
    {
     "name": "stderr",
     "output_type": "stream",
     "text": [
      "\r",
      "Epoch 1/10:  65%|████████████████████████████████████████████████████████████████████████████████████████████████████████████████▍                                                            | 644/991 [13:50<07:29,  1.29s/batch, batch_loss=1.76e+4, batch_index=644, batch_size=256]"
     ]
    },
    {
     "name": "stderr",
     "output_type": "stream",
     "text": [
      "\r",
      "Epoch 1/10:  65%|████████████████████████████████████████████████████████████████████████████████████████████████████████████████▍                                                            | 644/991 [13:52<07:29,  1.29s/batch, batch_loss=2.21e+3, batch_index=645, batch_size=256]"
     ]
    },
    {
     "name": "stderr",
     "output_type": "stream",
     "text": [
      "\r",
      "Epoch 1/10:  65%|████████████████████████████████████████████████████████████████████████████████████████████████████████████████▌                                                            | 645/991 [13:52<07:28,  1.30s/batch, batch_loss=2.21e+3, batch_index=645, batch_size=256]"
     ]
    },
    {
     "name": "stderr",
     "output_type": "stream",
     "text": [
      "\r",
      "Epoch 1/10:  65%|██████████████████████████████████████████████████████████████████████████████████████████████████████████████████▌                                                             | 645/991 [13:53<07:28,  1.30s/batch, batch_loss=25.7, batch_index=646, batch_size=256]"
     ]
    },
    {
     "name": "stderr",
     "output_type": "stream",
     "text": [
      "\r",
      "Epoch 1/10:  65%|██████████████████████████████████████████████████████████████████████████████████████████████████████████████████▋                                                             | 646/991 [13:53<07:27,  1.30s/batch, batch_loss=25.7, batch_index=646, batch_size=256]"
     ]
    },
    {
     "name": "stderr",
     "output_type": "stream",
     "text": [
      "\r",
      "Epoch 1/10:  65%|██████████████████████████████████████████████████████████████████████████████████████████████████████████████████▋                                                             | 646/991 [13:54<07:27,  1.30s/batch, batch_loss=16.9, batch_index=647, batch_size=256]"
     ]
    },
    {
     "name": "stderr",
     "output_type": "stream",
     "text": [
      "\r",
      "Epoch 1/10:  65%|██████████████████████████████████████████████████████████████████████████████████████████████████████████████████▉                                                             | 647/991 [13:54<07:24,  1.29s/batch, batch_loss=16.9, batch_index=647, batch_size=256]"
     ]
    },
    {
     "name": "stderr",
     "output_type": "stream",
     "text": [
      "\r",
      "Epoch 1/10:  65%|██████████████████████████████████████████████████████████████████████████████████████████████████████████████████▉                                                             | 647/991 [13:56<07:24,  1.29s/batch, batch_loss=18.5, batch_index=648, batch_size=256]"
     ]
    },
    {
     "name": "stderr",
     "output_type": "stream",
     "text": [
      "\r",
      "Epoch 1/10:  65%|███████████████████████████████████████████████████████████████████████████████████████████████████████████████████                                                             | 648/991 [13:56<07:22,  1.29s/batch, batch_loss=18.5, batch_index=648, batch_size=256]"
     ]
    },
    {
     "name": "stderr",
     "output_type": "stream",
     "text": [
      "\r",
      "Epoch 1/10:  65%|███████████████████████████████████████████████████████████████████████████████████████████████████████████████████                                                             | 648/991 [13:57<07:22,  1.29s/batch, batch_loss=15.2, batch_index=649, batch_size=256]"
     ]
    },
    {
     "name": "stderr",
     "output_type": "stream",
     "text": [
      "\r",
      "Epoch 1/10:  65%|███████████████████████████████████████████████████████████████████████████████████████████████████████████████████▎                                                            | 649/991 [13:57<07:22,  1.29s/batch, batch_loss=15.2, batch_index=649, batch_size=256]"
     ]
    },
    {
     "name": "stderr",
     "output_type": "stream",
     "text": [
      "\r",
      "Epoch 1/10:  65%|█████████████████████████████████████████████████████████████████████████████████████████████████████████████████▎                                                           | 649/991 [13:58<07:22,  1.29s/batch, batch_loss=1.34e+4, batch_index=650, batch_size=256]"
     ]
    },
    {
     "name": "stderr",
     "output_type": "stream",
     "text": [
      "\r",
      "Epoch 1/10:  66%|█████████████████████████████████████████████████████████████████████████████████████████████████████████████████▍                                                           | 650/991 [13:58<07:21,  1.29s/batch, batch_loss=1.34e+4, batch_index=650, batch_size=256]"
     ]
    },
    {
     "name": "stderr",
     "output_type": "stream",
     "text": [
      "\r",
      "Epoch 1/10:  66%|███████████████████████████████████████████████████████████████████████████████████████████████████████████████████▍                                                            | 650/991 [13:59<07:21,  1.29s/batch, batch_loss=13.4, batch_index=651, batch_size=256]"
     ]
    },
    {
     "name": "stderr",
     "output_type": "stream",
     "text": [
      "\r",
      "Epoch 1/10:  66%|███████████████████████████████████████████████████████████████████████████████████████████████████████████████████▌                                                            | 651/991 [13:59<07:11,  1.27s/batch, batch_loss=13.4, batch_index=651, batch_size=256]"
     ]
    },
    {
     "name": "stderr",
     "output_type": "stream",
     "text": [
      "\r",
      "Epoch 1/10:  66%|███████████████████████████████████████████████████████████████████████████████████████████████████████████████████▌                                                            | 651/991 [14:01<07:11,  1.27s/batch, batch_loss=14.2, batch_index=652, batch_size=256]"
     ]
    },
    {
     "name": "stderr",
     "output_type": "stream",
     "text": [
      "\r",
      "Epoch 1/10:  66%|███████████████████████████████████████████████████████████████████████████████████████████████████████████████████▊                                                            | 652/991 [14:01<07:11,  1.27s/batch, batch_loss=14.2, batch_index=652, batch_size=256]"
     ]
    },
    {
     "name": "stderr",
     "output_type": "stream",
     "text": [
      "\r",
      "Epoch 1/10:  66%|███████████████████████████████████████████████████████████████████████████████████████████████████████████████████▊                                                            | 652/991 [14:02<07:11,  1.27s/batch, batch_loss=28.3, batch_index=653, batch_size=256]"
     ]
    },
    {
     "name": "stderr",
     "output_type": "stream",
     "text": [
      "\r",
      "Epoch 1/10:  66%|███████████████████████████████████████████████████████████████████████████████████████████████████████████████████▉                                                            | 653/991 [14:02<07:11,  1.28s/batch, batch_loss=28.3, batch_index=653, batch_size=256]"
     ]
    },
    {
     "name": "stderr",
     "output_type": "stream",
     "text": [
      "\r",
      "Epoch 1/10:  66%|█████████████████████████████████████████████████████████████████████████████████████████████████████████████████████▎                                                            | 653/991 [14:03<07:11,  1.28s/batch, batch_loss=25, batch_index=654, batch_size=256]"
     ]
    },
    {
     "name": "stderr",
     "output_type": "stream",
     "text": [
      "\r",
      "Epoch 1/10:  66%|█████████████████████████████████████████████████████████████████████████████████████████████████████████████████████▍                                                            | 654/991 [14:03<07:12,  1.28s/batch, batch_loss=25, batch_index=654, batch_size=256]"
     ]
    },
    {
     "name": "stderr",
     "output_type": "stream",
     "text": [
      "\r",
      "Epoch 1/10:  66%|██████████████████████████████████████████████████████████████████████████████████████████████████████████████████▏                                                          | 654/991 [14:04<07:12,  1.28s/batch, batch_loss=3.88e+3, batch_index=655, batch_size=256]"
     ]
    },
    {
     "name": "stderr",
     "output_type": "stream",
     "text": [
      "\r",
      "Epoch 1/10:  66%|██████████████████████████████████████████████████████████████████████████████████████████████████████████████████▎                                                          | 655/991 [14:04<07:12,  1.29s/batch, batch_loss=3.88e+3, batch_index=655, batch_size=256]"
     ]
    },
    {
     "name": "stderr",
     "output_type": "stream",
     "text": [
      "\r",
      "Epoch 1/10:  66%|██████████████████████████████████████████████████████████████████████████████████████████████████████████████████▎                                                          | 655/991 [14:06<07:12,  1.29s/batch, batch_loss=5.23e+3, batch_index=656, batch_size=256]"
     ]
    },
    {
     "name": "stderr",
     "output_type": "stream",
     "text": [
      "\r",
      "Epoch 1/10:  66%|██████████████████████████████████████████████████████████████████████████████████████████████████████████████████▌                                                          | 656/991 [14:06<07:10,  1.29s/batch, batch_loss=5.23e+3, batch_index=656, batch_size=256]"
     ]
    },
    {
     "name": "stderr",
     "output_type": "stream",
     "text": [
      "\r",
      "Epoch 1/10:  66%|██████████████████████████████████████████████████████████████████████████████████████████████████████████████████▌                                                          | 656/991 [14:07<07:10,  1.29s/batch, batch_loss=4.24e+3, batch_index=657, batch_size=256]"
     ]
    },
    {
     "name": "stderr",
     "output_type": "stream",
     "text": [
      "\r",
      "Epoch 1/10:  66%|██████████████████████████████████████████████████████████████████████████████████████████████████████████████████▋                                                          | 657/991 [14:07<07:12,  1.29s/batch, batch_loss=4.24e+3, batch_index=657, batch_size=256]"
     ]
    },
    {
     "name": "stderr",
     "output_type": "stream",
     "text": [
      "\r",
      "Epoch 1/10:  66%|██████████████████████████████████████████████████████████████████████████████████████████████████████████████████▋                                                          | 657/991 [14:08<07:12,  1.29s/batch, batch_loss=2.21e+4, batch_index=658, batch_size=256]"
     ]
    },
    {
     "name": "stderr",
     "output_type": "stream",
     "text": [
      "\r",
      "Epoch 1/10:  66%|██████████████████████████████████████████████████████████████████████████████████████████████████████████████████▊                                                          | 658/991 [14:08<07:11,  1.30s/batch, batch_loss=2.21e+4, batch_index=658, batch_size=256]"
     ]
    },
    {
     "name": "stderr",
     "output_type": "stream",
     "text": [
      "\r",
      "Epoch 1/10:  66%|████████████████████████████████████████████████████████████████████████████████████████████████████████████████████▊                                                           | 658/991 [14:10<07:11,  1.30s/batch, batch_loss=6.86, batch_index=659, batch_size=256]"
     ]
    },
    {
     "name": "stderr",
     "output_type": "stream",
     "text": [
      "\r",
      "Epoch 1/10:  66%|█████████████████████████████████████████████████████████████████████████████████████████████████████████████████████                                                           | 659/991 [14:10<07:09,  1.29s/batch, batch_loss=6.86, batch_index=659, batch_size=256]"
     ]
    },
    {
     "name": "stderr",
     "output_type": "stream",
     "text": [
      "\r",
      "Epoch 1/10:  66%|█████████████████████████████████████████████████████████████████████████████████████████████████████████████████████                                                           | 659/991 [14:11<07:09,  1.29s/batch, batch_loss=7.98, batch_index=660, batch_size=256]"
     ]
    },
    {
     "name": "stderr",
     "output_type": "stream",
     "text": [
      "\r",
      "Epoch 1/10:  67%|█████████████████████████████████████████████████████████████████████████████████████████████████████████████████████▏                                                          | 660/991 [14:11<07:07,  1.29s/batch, batch_loss=7.98, batch_index=660, batch_size=256]"
     ]
    },
    {
     "name": "stderr",
     "output_type": "stream",
     "text": [
      "\r",
      "Epoch 1/10:  67%|█████████████████████████████████████████████████████████████████████████████████████████████████████████████████████▏                                                          | 660/991 [14:12<07:07,  1.29s/batch, batch_loss=22.3, batch_index=661, batch_size=256]"
     ]
    },
    {
     "name": "stderr",
     "output_type": "stream",
     "text": [
      "\r",
      "Epoch 1/10:  67%|█████████████████████████████████████████████████████████████████████████████████████████████████████████████████████▍                                                          | 661/991 [14:12<07:06,  1.29s/batch, batch_loss=22.3, batch_index=661, batch_size=256]"
     ]
    },
    {
     "name": "stderr",
     "output_type": "stream",
     "text": [
      "\r",
      "Epoch 1/10:  67%|█████████████████████████████████████████████████████████████████████████████████████████████████████████████████████▍                                                          | 661/991 [14:14<07:06,  1.29s/batch, batch_loss=27.1, batch_index=662, batch_size=256]"
     ]
    },
    {
     "name": "stderr",
     "output_type": "stream",
     "text": [
      "\r",
      "Epoch 1/10:  67%|█████████████████████████████████████████████████████████████████████████████████████████████████████████████████████▌                                                          | 662/991 [14:14<07:04,  1.29s/batch, batch_loss=27.1, batch_index=662, batch_size=256]"
     ]
    },
    {
     "name": "stderr",
     "output_type": "stream",
     "text": [
      "\r",
      "Epoch 1/10:  67%|█████████████████████████████████████████████████████████████████████████████████████████████████████████████████████▌                                                          | 662/991 [14:15<07:04,  1.29s/batch, batch_loss=33.8, batch_index=663, batch_size=256]"
     ]
    },
    {
     "name": "stderr",
     "output_type": "stream",
     "text": [
      "\r",
      "Epoch 1/10:  67%|█████████████████████████████████████████████████████████████████████████████████████████████████████████████████████▋                                                          | 663/991 [14:15<07:03,  1.29s/batch, batch_loss=33.8, batch_index=663, batch_size=256]"
     ]
    },
    {
     "name": "stderr",
     "output_type": "stream",
     "text": [
      "\r",
      "Epoch 1/10:  67%|███████████████████████████████████████████████████████████████████████████████████████████████████████████████████▋                                                         | 663/991 [14:16<07:03,  1.29s/batch, batch_loss=3.01e+3, batch_index=664, batch_size=256]"
     ]
    },
    {
     "name": "stderr",
     "output_type": "stream",
     "text": [
      "\r",
      "Epoch 1/10:  67%|███████████████████████████████████████████████████████████████████████████████████████████████████████████████████▉                                                         | 664/991 [14:16<07:02,  1.29s/batch, batch_loss=3.01e+3, batch_index=664, batch_size=256]"
     ]
    },
    {
     "name": "stderr",
     "output_type": "stream",
     "text": [
      "\r",
      "Epoch 1/10:  67%|█████████████████████████████████████████████████████████████████████████████████████████████████████████████████████▉                                                          | 664/991 [14:17<07:02,  1.29s/batch, batch_loss=28.4, batch_index=665, batch_size=256]"
     ]
    },
    {
     "name": "stderr",
     "output_type": "stream",
     "text": [
      "\r",
      "Epoch 1/10:  67%|██████████████████████████████████████████████████████████████████████████████████████████████████████████████████████                                                          | 665/991 [14:17<07:01,  1.29s/batch, batch_loss=28.4, batch_index=665, batch_size=256]"
     ]
    },
    {
     "name": "stderr",
     "output_type": "stream",
     "text": [
      "\r",
      "Epoch 1/10:  67%|████████████████████████████████████████████████████████████████████████████████████████████████████████████████████                                                         | 665/991 [14:19<07:01,  1.29s/batch, batch_loss=3.03e+3, batch_index=666, batch_size=256]"
     ]
    },
    {
     "name": "stderr",
     "output_type": "stream",
     "text": [
      "\r",
      "Epoch 1/10:  67%|████████████████████████████████████████████████████████████████████████████████████████████████████████████████████▎                                                        | 666/991 [14:19<07:00,  1.29s/batch, batch_loss=3.03e+3, batch_index=666, batch_size=256]"
     ]
    },
    {
     "name": "stderr",
     "output_type": "stream",
     "text": [
      "\r",
      "Epoch 1/10:  67%|██████████████████████████████████████████████████████████████████████████████████████████████████████████████████████▎                                                         | 666/991 [14:20<07:00,  1.29s/batch, batch_loss=25.3, batch_index=667, batch_size=256]"
     ]
    },
    {
     "name": "stderr",
     "output_type": "stream",
     "text": [
      "\r",
      "Epoch 1/10:  67%|██████████████████████████████████████████████████████████████████████████████████████████████████████████████████████▍                                                         | 667/991 [14:20<07:00,  1.30s/batch, batch_loss=25.3, batch_index=667, batch_size=256]"
     ]
    },
    {
     "name": "stderr",
     "output_type": "stream",
     "text": [
      "\r",
      "Epoch 1/10:  67%|███████████████████████████████████████████████████████████████████████████████████████████████████████████████████████▏                                                         | 667/991 [14:21<07:00,  1.30s/batch, batch_loss=409, batch_index=668, batch_size=256]"
     ]
    },
    {
     "name": "stderr",
     "output_type": "stream",
     "text": [
      "\r",
      "Epoch 1/10:  67%|███████████████████████████████████████████████████████████████████████████████████████████████████████████████████████▎                                                         | 668/991 [14:21<07:00,  1.30s/batch, batch_loss=409, batch_index=668, batch_size=256]"
     ]
    },
    {
     "name": "stderr",
     "output_type": "stream",
     "text": [
      "\r",
      "Epoch 1/10:  67%|██████████████████████████████████████████████████████████████████████████████████████████████████████████████████████▋                                                         | 668/991 [14:23<07:00,  1.30s/batch, batch_loss=3e+3, batch_index=669, batch_size=256]"
     ]
    },
    {
     "name": "stderr",
     "output_type": "stream",
     "text": [
      "\r",
      "Epoch 1/10:  68%|██████████████████████████████████████████████████████████████████████████████████████████████████████████████████████▊                                                         | 669/991 [14:23<06:57,  1.30s/batch, batch_loss=3e+3, batch_index=669, batch_size=256]"
     ]
    },
    {
     "name": "stderr",
     "output_type": "stream",
     "text": [
      "\r",
      "Epoch 1/10:  68%|██████████████████████████████████████████████████████████████████████████████████████████████████████████████████████▊                                                         | 669/991 [14:24<06:57,  1.30s/batch, batch_loss=1e+3, batch_index=670, batch_size=256]"
     ]
    },
    {
     "name": "stderr",
     "output_type": "stream",
     "text": [
      "\r",
      "Epoch 1/10:  68%|██████████████████████████████████████████████████████████████████████████████████████████████████████████████████████▉                                                         | 670/991 [14:24<06:55,  1.29s/batch, batch_loss=1e+3, batch_index=670, batch_size=256]"
     ]
    },
    {
     "name": "stderr",
     "output_type": "stream",
     "text": [
      "\r",
      "Epoch 1/10:  68%|██████████████████████████████████████████████████████████████████████████████████████████████████████████████████████▉                                                         | 670/991 [14:25<06:55,  1.29s/batch, batch_loss=16.2, batch_index=671, batch_size=256]"
     ]
    },
    {
     "name": "stderr",
     "output_type": "stream",
     "text": [
      "\r",
      "Epoch 1/10:  68%|███████████████████████████████████████████████████████████████████████████████████████████████████████████████████████▏                                                        | 671/991 [14:25<06:53,  1.29s/batch, batch_loss=16.2, batch_index=671, batch_size=256]"
     ]
    },
    {
     "name": "stderr",
     "output_type": "stream",
     "text": [
      "\r",
      "Epoch 1/10:  68%|███████████████████████████████████████████████████████████████████████████████████████████████████████████████████████▏                                                        | 671/991 [14:26<06:53,  1.29s/batch, batch_loss=23.2, batch_index=672, batch_size=256]"
     ]
    },
    {
     "name": "stderr",
     "output_type": "stream",
     "text": [
      "\r",
      "Epoch 1/10:  68%|███████████████████████████████████████████████████████████████████████████████████████████████████████████████████████▎                                                        | 672/991 [14:26<06:53,  1.30s/batch, batch_loss=23.2, batch_index=672, batch_size=256]"
     ]
    },
    {
     "name": "stderr",
     "output_type": "stream",
     "text": [
      "\r",
      "Epoch 1/10:  68%|███████████████████████████████████████████████████████████████████████████████████████████████████████████████████████▎                                                        | 672/991 [14:28<06:53,  1.30s/batch, batch_loss=26.7, batch_index=673, batch_size=256]"
     ]
    },
    {
     "name": "stderr",
     "output_type": "stream",
     "text": [
      "\r",
      "Epoch 1/10:  68%|███████████████████████████████████████████████████████████████████████████████████████████████████████████████████████▌                                                        | 673/991 [14:28<06:50,  1.29s/batch, batch_loss=26.7, batch_index=673, batch_size=256]"
     ]
    },
    {
     "name": "stderr",
     "output_type": "stream",
     "text": [
      "\r",
      "Epoch 1/10:  68%|████████████████████████████████████████████████████████████████████████████████████████████████████████████████████████▉                                                         | 673/991 [14:29<06:50,  1.29s/batch, batch_loss=25, batch_index=674, batch_size=256]"
     ]
    },
    {
     "name": "stderr",
     "output_type": "stream",
     "text": [
      "\r",
      "Epoch 1/10:  68%|█████████████████████████████████████████████████████████████████████████████████████████████████████████████████████████                                                         | 674/991 [14:29<06:49,  1.29s/batch, batch_loss=25, batch_index=674, batch_size=256]"
     ]
    },
    {
     "name": "stderr",
     "output_type": "stream",
     "text": [
      "\r",
      "Epoch 1/10:  68%|█████████████████████████████████████████████████████████████████████████████████████████████████████████████████████████                                                         | 674/991 [14:30<06:49,  1.29s/batch, batch_loss=11, batch_index=675, batch_size=256]"
     ]
    },
    {
     "name": "stderr",
     "output_type": "stream",
     "text": [
      "\r",
      "Epoch 1/10:  68%|█████████████████████████████████████████████████████████████████████████████████████████████████████████████████████████▏                                                        | 675/991 [14:30<06:49,  1.29s/batch, batch_loss=11, batch_index=675, batch_size=256]"
     ]
    },
    {
     "name": "stderr",
     "output_type": "stream",
     "text": [
      "\r",
      "Epoch 1/10:  68%|███████████████████████████████████████████████████████████████████████████████████████████████████████████████████████▉                                                        | 675/991 [14:32<06:49,  1.29s/batch, batch_loss=22.8, batch_index=676, batch_size=256]"
     ]
    },
    {
     "name": "stderr",
     "output_type": "stream",
     "text": [
      "\r",
      "Epoch 1/10:  68%|████████████████████████████████████████████████████████████████████████████████████████████████████████████████████████                                                        | 676/991 [14:32<06:47,  1.29s/batch, batch_loss=22.8, batch_index=676, batch_size=256]"
     ]
    },
    {
     "name": "stderr",
     "output_type": "stream",
     "text": [
      "\r",
      "Epoch 1/10:  68%|████████████████████████████████████████████████████████████████████████████████████████████████████████████████████████                                                        | 676/991 [14:33<06:47,  1.29s/batch, batch_loss=47.3, batch_index=677, batch_size=256]"
     ]
    },
    {
     "name": "stderr",
     "output_type": "stream",
     "text": [
      "\r",
      "Epoch 1/10:  68%|████████████████████████████████████████████████████████████████████████████████████████████████████████████████████████▏                                                       | 677/991 [14:33<06:46,  1.29s/batch, batch_loss=47.3, batch_index=677, batch_size=256]"
     ]
    },
    {
     "name": "stderr",
     "output_type": "stream",
     "text": [
      "\r",
      "Epoch 1/10:  68%|████████████████████████████████████████████████████████████████████████████████████████████████████████████████████████▏                                                       | 677/991 [14:34<06:46,  1.29s/batch, batch_loss=10.6, batch_index=678, batch_size=256]"
     ]
    },
    {
     "name": "stderr",
     "output_type": "stream",
     "text": [
      "\r",
      "Epoch 1/10:  68%|████████████████████████████████████████████████████████████████████████████████████████████████████████████████████████▍                                                       | 678/991 [14:34<06:38,  1.27s/batch, batch_loss=10.6, batch_index=678, batch_size=256]"
     ]
    },
    {
     "name": "stderr",
     "output_type": "stream",
     "text": [
      "\r",
      "Epoch 1/10:  68%|██████████████████████████████████████████████████████████████████████████████████████████████████████████████████████▎                                                      | 678/991 [14:35<06:38,  1.27s/batch, batch_loss=3.86e+3, batch_index=679, batch_size=256]"
     ]
    },
    {
     "name": "stderr",
     "output_type": "stream",
     "text": [
      "\r",
      "Epoch 1/10:  69%|██████████████████████████████████████████████████████████████████████████████████████████████████████████████████████▌                                                      | 679/991 [14:35<06:38,  1.28s/batch, batch_loss=3.86e+3, batch_index=679, batch_size=256]"
     ]
    },
    {
     "name": "stderr",
     "output_type": "stream",
     "text": [
      "\r",
      "Epoch 1/10:  69%|██████████████████████████████████████████████████████████████████████████████████████████████████████████████████████▌                                                      | 679/991 [14:37<06:38,  1.28s/batch, batch_loss=6.19e+3, batch_index=680, batch_size=256]"
     ]
    },
    {
     "name": "stderr",
     "output_type": "stream",
     "text": [
      "\r",
      "Epoch 1/10:  69%|██████████████████████████████████████████████████████████████████████████████████████████████████████████████████████▋                                                      | 680/991 [14:37<06:39,  1.28s/batch, batch_loss=6.19e+3, batch_index=680, batch_size=256]"
     ]
    },
    {
     "name": "stderr",
     "output_type": "stream",
     "text": [
      "\r",
      "Epoch 1/10:  69%|██████████████████████████████████████████████████████████████████████████████████████████████████████████████████████▋                                                      | 680/991 [14:38<06:39,  1.28s/batch, batch_loss=7.22e+4, batch_index=681, batch_size=256]"
     ]
    },
    {
     "name": "stderr",
     "output_type": "stream",
     "text": [
      "\r",
      "Epoch 1/10:  69%|██████████████████████████████████████████████████████████████████████████████████████████████████████████████████████▉                                                      | 681/991 [14:38<06:40,  1.29s/batch, batch_loss=7.22e+4, batch_index=681, batch_size=256]"
     ]
    },
    {
     "name": "stderr",
     "output_type": "stream",
     "text": [
      "\r",
      "Epoch 1/10:  69%|████████████████████████████████████████████████████████████████████████████████████████████████████████████████████████▉                                                       | 681/991 [14:39<06:40,  1.29s/batch, batch_loss=17.1, batch_index=682, batch_size=256]"
     ]
    },
    {
     "name": "stderr",
     "output_type": "stream",
     "text": [
      "\r",
      "Epoch 1/10:  69%|█████████████████████████████████████████████████████████████████████████████████████████████████████████████████████████                                                       | 682/991 [14:39<06:39,  1.29s/batch, batch_loss=17.1, batch_index=682, batch_size=256]"
     ]
    },
    {
     "name": "stderr",
     "output_type": "stream",
     "text": [
      "\r",
      "Epoch 1/10:  69%|█████████████████████████████████████████████████████████████████████████████████████████████████████████████████████████▊                                                       | 682/991 [14:41<06:39,  1.29s/batch, batch_loss=379, batch_index=683, batch_size=256]"
     ]
    },
    {
     "name": "stderr",
     "output_type": "stream",
     "text": [
      "\r",
      "Epoch 1/10:  69%|█████████████████████████████████████████████████████████████████████████████████████████████████████████████████████████▉                                                       | 683/991 [14:41<06:38,  1.29s/batch, batch_loss=379, batch_index=683, batch_size=256]"
     ]
    },
    {
     "name": "stderr",
     "output_type": "stream",
     "text": [
      "\r",
      "Epoch 1/10:  69%|█████████████████████████████████████████████████████████████████████████████████████████████████████████████████████████▎                                                      | 683/991 [14:42<06:38,  1.29s/batch, batch_loss=8.11, batch_index=684, batch_size=256]"
     ]
    },
    {
     "name": "stderr",
     "output_type": "stream",
     "text": [
      "\r",
      "Epoch 1/10:  69%|█████████████████████████████████████████████████████████████████████████████████████████████████████████████████████████▍                                                      | 684/991 [14:42<06:36,  1.29s/batch, batch_loss=8.11, batch_index=684, batch_size=256]"
     ]
    },
    {
     "name": "stderr",
     "output_type": "stream",
     "text": [
      "\r",
      "Epoch 1/10:  69%|██████████████████████████████████████████████████████████████████████████████████████████████████████████████████████████▊                                                       | 684/991 [14:43<06:36,  1.29s/batch, batch_loss=16, batch_index=685, batch_size=256]"
     ]
    },
    {
     "name": "stderr",
     "output_type": "stream",
     "text": [
      "\r",
      "Epoch 1/10:  69%|███████████████████████████████████████████████████████████████████████████████████████████████████████████████████████████                                                       | 685/991 [14:43<06:34,  1.29s/batch, batch_loss=16, batch_index=685, batch_size=256]"
     ]
    },
    {
     "name": "stderr",
     "output_type": "stream",
     "text": [
      "\r",
      "Epoch 1/10:  69%|█████████████████████████████████████████████████████████████████████████████████████████████████████████████████████████▋                                                      | 685/991 [14:45<06:34,  1.29s/batch, batch_loss=14.3, batch_index=686, batch_size=256]"
     ]
    },
    {
     "name": "stderr",
     "output_type": "stream",
     "text": [
      "\r",
      "Epoch 1/10:  69%|█████████████████████████████████████████████████████████████████████████████████████████████████████████████████████████▊                                                      | 686/991 [14:45<06:33,  1.29s/batch, batch_loss=14.3, batch_index=686, batch_size=256]"
     ]
    },
    {
     "name": "stderr",
     "output_type": "stream",
     "text": [
      "\r",
      "Epoch 1/10:  69%|██████████████████████████████████████████████████████████████████████████████████████████████████████████████████████████▌                                                      | 686/991 [14:46<06:33,  1.29s/batch, batch_loss=534, batch_index=687, batch_size=256]"
     ]
    },
    {
     "name": "stderr",
     "output_type": "stream",
     "text": [
      "\r",
      "Epoch 1/10:  69%|██████████████████████████████████████████████████████████████████████████████████████████████████████████████████████████▋                                                      | 687/991 [14:46<06:31,  1.29s/batch, batch_loss=534, batch_index=687, batch_size=256]"
     ]
    },
    {
     "name": "stderr",
     "output_type": "stream",
     "text": [
      "\r",
      "Epoch 1/10:  69%|██████████████████████████████████████████████████████████████████████████████████████████████████████████████████████████                                                      | 687/991 [14:47<06:31,  1.29s/batch, batch_loss=6.21, batch_index=688, batch_size=256]"
     ]
    },
    {
     "name": "stderr",
     "output_type": "stream",
     "text": [
      "\r",
      "Epoch 1/10:  69%|██████████████████████████████████████████████████████████████████████████████████████████████████████████████████████████▏                                                     | 688/991 [14:47<06:28,  1.28s/batch, batch_loss=6.21, batch_index=688, batch_size=256]"
     ]
    },
    {
     "name": "stderr",
     "output_type": "stream",
     "text": [
      "\r",
      "Epoch 1/10:  69%|██████████████████████████████████████████████████████████████████████████████████████████████████████████████████████████▏                                                     | 688/991 [14:48<06:28,  1.28s/batch, batch_loss=11.2, batch_index=689, batch_size=256]"
     ]
    },
    {
     "name": "stderr",
     "output_type": "stream",
     "text": [
      "\r",
      "Epoch 1/10:  70%|██████████████████████████████████████████████████████████████████████████████████████████████████████████████████████████▎                                                     | 689/991 [14:48<06:29,  1.29s/batch, batch_loss=11.2, batch_index=689, batch_size=256]"
     ]
    },
    {
     "name": "stderr",
     "output_type": "stream",
     "text": [
      "\r",
      "Epoch 1/10:  70%|██████████████████████████████████████████████████████████████████████████████████████████████████████████████████████████▎                                                     | 689/991 [14:50<06:29,  1.29s/batch, batch_loss=15.5, batch_index=690, batch_size=256]"
     ]
    },
    {
     "name": "stderr",
     "output_type": "stream",
     "text": [
      "\r",
      "Epoch 1/10:  70%|██████████████████████████████████████████████████████████████████████████████████████████████████████████████████████████▌                                                     | 690/991 [14:50<06:28,  1.29s/batch, batch_loss=15.5, batch_index=690, batch_size=256]"
     ]
    },
    {
     "name": "stderr",
     "output_type": "stream",
     "text": [
      "\r",
      "Epoch 1/10:  70%|██████████████████████████████████████████████████████████████████████████████████████████████████████████████████████████▌                                                     | 690/991 [14:51<06:28,  1.29s/batch, batch_loss=26.9, batch_index=691, batch_size=256]"
     ]
    },
    {
     "name": "stderr",
     "output_type": "stream",
     "text": [
      "\r",
      "Epoch 1/10:  70%|██████████████████████████████████████████████████████████████████████████████████████████████████████████████████████████▋                                                     | 691/991 [14:51<06:28,  1.29s/batch, batch_loss=26.9, batch_index=691, batch_size=256]"
     ]
    },
    {
     "name": "stderr",
     "output_type": "stream",
     "text": [
      "\r",
      "Epoch 1/10:  70%|██████████████████████████████████████████████████████████████████████████████████████████████████████████████████████████▋                                                     | 691/991 [14:52<06:28,  1.29s/batch, batch_loss=8.47, batch_index=692, batch_size=256]"
     ]
    },
    {
     "name": "stderr",
     "output_type": "stream",
     "text": [
      "\r",
      "Epoch 1/10:  70%|██████████████████████████████████████████████████████████████████████████████████████████████████████████████████████████▉                                                     | 692/991 [14:52<06:26,  1.29s/batch, batch_loss=8.47, batch_index=692, batch_size=256]"
     ]
    },
    {
     "name": "stderr",
     "output_type": "stream",
     "text": [
      "\r",
      "Epoch 1/10:  70%|████████████████████████████████████████████████████████████████████████████████████████████████████████████████████████▊                                                    | 692/991 [14:54<06:26,  1.29s/batch, batch_loss=4.66e+3, batch_index=693, batch_size=256]"
     ]
    },
    {
     "name": "stderr",
     "output_type": "stream",
     "text": [
      "\r",
      "Epoch 1/10:  70%|████████████████████████████████████████████████████████████████████████████████████████████████████████████████████████▉                                                    | 693/991 [14:54<06:25,  1.29s/batch, batch_loss=4.66e+3, batch_index=693, batch_size=256]"
     ]
    },
    {
     "name": "stderr",
     "output_type": "stream",
     "text": [
      "\r",
      "Epoch 1/10:  70%|███████████████████████████████████████████████████████████████████████████████████████████████████████████████████████████▊                                                     | 693/991 [14:55<06:25,  1.29s/batch, batch_loss=466, batch_index=694, batch_size=256]"
     ]
    },
    {
     "name": "stderr",
     "output_type": "stream",
     "text": [
      "\r",
      "Epoch 1/10:  70%|███████████████████████████████████████████████████████████████████████████████████████████████████████████████████████████▉                                                     | 694/991 [14:55<06:23,  1.29s/batch, batch_loss=466, batch_index=694, batch_size=256]"
     ]
    },
    {
     "name": "stderr",
     "output_type": "stream",
     "text": [
      "\r",
      "Epoch 1/10:  70%|███████████████████████████████████████████████████████████████████████████████████████████████████████████████████████████▉                                                     | 694/991 [14:56<06:23,  1.29s/batch, batch_loss=801, batch_index=695, batch_size=256]"
     ]
    },
    {
     "name": "stderr",
     "output_type": "stream",
     "text": [
      "\r",
      "Epoch 1/10:  70%|████████████████████████████████████████████████████████████████████████████████████████████████████████████████████████████▏                                                    | 695/991 [14:56<06:21,  1.29s/batch, batch_loss=801, batch_index=695, batch_size=256]"
     ]
    },
    {
     "name": "stderr",
     "output_type": "stream",
     "text": [
      "\r",
      "Epoch 1/10:  70%|███████████████████████████████████████████████████████████████████████████████████████████████████████████████████████████▍                                                    | 695/991 [14:57<06:21,  1.29s/batch, batch_loss=13.2, batch_index=696, batch_size=256]"
     ]
    },
    {
     "name": "stderr",
     "output_type": "stream",
     "text": [
      "\r",
      "Epoch 1/10:  70%|███████████████████████████████████████████████████████████████████████████████████████████████████████████████████████████▌                                                    | 696/991 [14:57<06:21,  1.29s/batch, batch_loss=13.2, batch_index=696, batch_size=256]"
     ]
    },
    {
     "name": "stderr",
     "output_type": "stream",
     "text": [
      "\r",
      "Epoch 1/10:  70%|█████████████████████████████████████████████████████████████████████████████████████████████████████████████████████████▌                                                   | 696/991 [14:59<06:21,  1.29s/batch, batch_loss=6.82e+3, batch_index=697, batch_size=256]"
     ]
    },
    {
     "name": "stderr",
     "output_type": "stream",
     "text": [
      "\r",
      "Epoch 1/10:  70%|█████████████████████████████████████████████████████████████████████████████████████████████████████████████████████████▋                                                   | 697/991 [14:59<06:21,  1.30s/batch, batch_loss=6.82e+3, batch_index=697, batch_size=256]"
     ]
    },
    {
     "name": "stderr",
     "output_type": "stream",
     "text": [
      "\r",
      "Epoch 1/10:  70%|███████████████████████████████████████████████████████████████████████████████████████████████████████████████████████████▊                                                    | 697/991 [15:00<06:21,  1.30s/batch, batch_loss=15.9, batch_index=698, batch_size=256]"
     ]
    },
    {
     "name": "stderr",
     "output_type": "stream",
     "text": [
      "\r",
      "Epoch 1/10:  70%|███████████████████████████████████████████████████████████████████████████████████████████████████████████████████████████▉                                                    | 698/991 [15:00<06:20,  1.30s/batch, batch_loss=15.9, batch_index=698, batch_size=256]"
     ]
    },
    {
     "name": "stderr",
     "output_type": "stream",
     "text": [
      "\r",
      "Epoch 1/10:  70%|█████████████████████████████████████████████████████████████████████████████████████████████████████████████████████████████▎                                                    | 698/991 [15:01<06:20,  1.30s/batch, batch_loss=11, batch_index=699, batch_size=256]"
     ]
    },
    {
     "name": "stderr",
     "output_type": "stream",
     "text": [
      "\r",
      "Epoch 1/10:  71%|█████████████████████████████████████████████████████████████████████████████████████████████████████████████████████████████▌                                                    | 699/991 [15:01<06:18,  1.30s/batch, batch_loss=11, batch_index=699, batch_size=256]"
     ]
    },
    {
     "name": "stderr",
     "output_type": "stream",
     "text": [
      "\r",
      "Epoch 1/10:  71%|████████████████████████████████████████████████████████████████████████████████████████████████████████████████████████████▏                                                   | 699/991 [15:03<06:18,  1.30s/batch, batch_loss=11.5, batch_index=700, batch_size=256]"
     ]
    },
    {
     "name": "stderr",
     "output_type": "stream",
     "text": [
      "\r",
      "Epoch 1/10:  71%|████████████████████████████████████████████████████████████████████████████████████████████████████████████████████████████▎                                                   | 700/991 [15:03<06:16,  1.29s/batch, batch_loss=11.5, batch_index=700, batch_size=256]"
     ]
    },
    {
     "name": "stderr",
     "output_type": "stream",
     "text": [
      "\r",
      "Epoch 1/10:  71%|█████████████████████████████████████████████████████████████████████████████████████████████████████████████████████████████                                                    | 700/991 [15:04<06:16,  1.29s/batch, batch_loss=217, batch_index=701, batch_size=256]"
     ]
    },
    {
     "name": "stderr",
     "output_type": "stream",
     "text": [
      "\r",
      "Epoch 1/10:  71%|█████████████████████████████████████████████████████████████████████████████████████████████████████████████████████████████▏                                                   | 701/991 [15:04<06:16,  1.30s/batch, batch_loss=217, batch_index=701, batch_size=256]"
     ]
    },
    {
     "name": "stderr",
     "output_type": "stream",
     "text": [
      "\r",
      "Epoch 1/10:  71%|████████████████████████████████████████████████████████████████████████████████████████████████████████████████████████████▍                                                   | 701/991 [15:05<06:16,  1.30s/batch, batch_loss=31.4, batch_index=702, batch_size=256]"
     ]
    },
    {
     "name": "stderr",
     "output_type": "stream",
     "text": [
      "\r",
      "Epoch 1/10:  71%|████████████████████████████████████████████████████████████████████████████████████████████████████████████████████████████▋                                                   | 702/991 [15:05<06:13,  1.29s/batch, batch_loss=31.4, batch_index=702, batch_size=256]"
     ]
    },
    {
     "name": "stderr",
     "output_type": "stream",
     "text": [
      "\r",
      "Epoch 1/10:  71%|█████████████████████████████████████████████████████████████████████████████████████████████████████████████████████████████▍                                                   | 702/991 [15:07<06:13,  1.29s/batch, batch_loss=282, batch_index=703, batch_size=256]"
     ]
    },
    {
     "name": "stderr",
     "output_type": "stream",
     "text": [
      "\r",
      "Epoch 1/10:  71%|█████████████████████████████████████████████████████████████████████████████████████████████████████████████████████████████▌                                                   | 703/991 [15:07<06:12,  1.29s/batch, batch_loss=282, batch_index=703, batch_size=256]"
     ]
    },
    {
     "name": "stderr",
     "output_type": "stream",
     "text": [
      "\r",
      "Epoch 1/10:  71%|████████████████████████████████████████████████████████████████████████████████████████████████████████████████████████████▊                                                   | 703/991 [15:08<06:12,  1.29s/batch, batch_loss=8.92, batch_index=704, batch_size=256]"
     ]
    },
    {
     "name": "stderr",
     "output_type": "stream",
     "text": [
      "\r",
      "Epoch 1/10:  71%|█████████████████████████████████████████████████████████████████████████████████████████████████████████████████████████████                                                   | 704/991 [15:08<06:11,  1.30s/batch, batch_loss=8.92, batch_index=704, batch_size=256]"
     ]
    },
    {
     "name": "stderr",
     "output_type": "stream",
     "text": [
      "\r",
      "Epoch 1/10:  71%|█████████████████████████████████████████████████████████████████████████████████████████████████████████████████████████████                                                   | 704/991 [15:09<06:11,  1.30s/batch, batch_loss=15.6, batch_index=705, batch_size=256]"
     ]
    },
    {
     "name": "stderr",
     "output_type": "stream",
     "text": [
      "\r",
      "Epoch 1/10:  71%|█████████████████████████████████████████████████████████████████████████████████████████████████████████████████████████████▏                                                  | 705/991 [15:09<06:05,  1.28s/batch, batch_loss=15.6, batch_index=705, batch_size=256]"
     ]
    },
    {
     "name": "stderr",
     "output_type": "stream",
     "text": [
      "\r",
      "Epoch 1/10:  71%|█████████████████████████████████████████████████████████████████████████████████████████████████████████████████████████████▏                                                  | 705/991 [15:10<06:05,  1.28s/batch, batch_loss=27.7, batch_index=706, batch_size=256]"
     ]
    },
    {
     "name": "stderr",
     "output_type": "stream",
     "text": [
      "\r",
      "Epoch 1/10:  71%|█████████████████████████████████████████████████████████████████████████████████████████████████████████████████████████████▍                                                  | 706/991 [15:10<06:06,  1.28s/batch, batch_loss=27.7, batch_index=706, batch_size=256]"
     ]
    },
    {
     "name": "stderr",
     "output_type": "stream",
     "text": [
      "\r",
      "Epoch 1/10:  71%|█████████████████████████████████████████████████████████████████████████████████████████████████████████████████████████████▍                                                  | 706/991 [15:12<06:06,  1.28s/batch, batch_loss=28.2, batch_index=707, batch_size=256]"
     ]
    },
    {
     "name": "stderr",
     "output_type": "stream",
     "text": [
      "\r",
      "Epoch 1/10:  71%|█████████████████████████████████████████████████████████████████████████████████████████████████████████████████████████████▌                                                  | 707/991 [15:12<06:05,  1.29s/batch, batch_loss=28.2, batch_index=707, batch_size=256]"
     ]
    },
    {
     "name": "stderr",
     "output_type": "stream",
     "text": [
      "\r",
      "Epoch 1/10:  71%|██████████████████████████████████████████████████████████████████████████████████████████████████████████████████████████████▉                                                   | 707/991 [15:13<06:05,  1.29s/batch, batch_loss=12, batch_index=708, batch_size=256]"
     ]
    },
    {
     "name": "stderr",
     "output_type": "stream",
     "text": [
      "\r",
      "Epoch 1/10:  71%|███████████████████████████████████████████████████████████████████████████████████████████████████████████████████████████████▏                                                  | 708/991 [15:13<06:04,  1.29s/batch, batch_loss=12, batch_index=708, batch_size=256]"
     ]
    },
    {
     "name": "stderr",
     "output_type": "stream",
     "text": [
      "\r",
      "Epoch 1/10:  71%|█████████████████████████████████████████████████████████████████████████████████████████████████████████████████████████████▋                                                  | 708/991 [15:14<06:04,  1.29s/batch, batch_loss=10.9, batch_index=709, batch_size=256]"
     ]
    },
    {
     "name": "stderr",
     "output_type": "stream",
     "text": [
      "\r",
      "Epoch 1/10:  72%|█████████████████████████████████████████████████████████████████████████████████████████████████████████████████████████████▉                                                  | 709/991 [15:14<06:04,  1.29s/batch, batch_loss=10.9, batch_index=709, batch_size=256]"
     ]
    },
    {
     "name": "stderr",
     "output_type": "stream",
     "text": [
      "\r",
      "Epoch 1/10:  72%|█████████████████████████████████████████████████████████████████████████████████████████████████████████████████████████████▉                                                  | 709/991 [15:16<06:04,  1.29s/batch, batch_loss=55.5, batch_index=710, batch_size=256]"
     ]
    },
    {
     "name": "stderr",
     "output_type": "stream",
     "text": [
      "\r",
      "Epoch 1/10:  72%|██████████████████████████████████████████████████████████████████████████████████████████████████████████████████████████████                                                  | 710/991 [15:16<06:03,  1.29s/batch, batch_loss=55.5, batch_index=710, batch_size=256]"
     ]
    },
    {
     "name": "stderr",
     "output_type": "stream",
     "text": [
      "\r",
      "Epoch 1/10:  72%|██████████████████████████████████████████████████████████████████████████████████████████████████████████████████████████████▊                                                  | 710/991 [15:17<06:03,  1.29s/batch, batch_loss=106, batch_index=711, batch_size=256]"
     ]
    },
    {
     "name": "stderr",
     "output_type": "stream",
     "text": [
      "\r",
      "Epoch 1/10:  72%|██████████████████████████████████████████████████████████████████████████████████████████████████████████████████████████████▉                                                  | 711/991 [15:17<06:01,  1.29s/batch, batch_loss=106, batch_index=711, batch_size=256]"
     ]
    },
    {
     "name": "stderr",
     "output_type": "stream",
     "text": [
      "\r",
      "Epoch 1/10:  72%|███████████████████████████████████████████████████████████████████████████████████████████████████████████████████████████████▋                                                  | 711/991 [15:18<06:01,  1.29s/batch, batch_loss=30, batch_index=712, batch_size=256]"
     ]
    },
    {
     "name": "stderr",
     "output_type": "stream",
     "text": [
      "\r",
      "Epoch 1/10:  72%|███████████████████████████████████████████████████████████████████████████████████████████████████████████████████████████████▉                                                  | 712/991 [15:18<06:00,  1.29s/batch, batch_loss=30, batch_index=712, batch_size=256]"
     ]
    },
    {
     "name": "stderr",
     "output_type": "stream",
     "text": [
      "\r",
      "Epoch 1/10:  72%|███████████████████████████████████████████████████████████████████████████████████████████████████████████████████████████████▏                                                 | 712/991 [15:19<06:00,  1.29s/batch, batch_loss=102, batch_index=713, batch_size=256]"
     ]
    },
    {
     "name": "stderr",
     "output_type": "stream",
     "text": [
      "\r",
      "Epoch 1/10:  72%|███████████████████████████████████████████████████████████████████████████████████████████████████████████████████████████████▎                                                 | 713/991 [15:19<05:59,  1.29s/batch, batch_loss=102, batch_index=713, batch_size=256]"
     ]
    },
    {
     "name": "stderr",
     "output_type": "stream",
     "text": [
      "\r",
      "Epoch 1/10:  72%|████████████████████████████████████████████████████████████████████████████████████████████████████████████████████████████████                                                  | 713/991 [15:21<05:59,  1.29s/batch, batch_loss=46, batch_index=714, batch_size=256]"
     ]
    },
    {
     "name": "stderr",
     "output_type": "stream",
     "text": [
      "\r",
      "Epoch 1/10:  72%|████████████████████████████████████████████████████████████████████████████████████████████████████████████████████████████████▏                                                 | 714/991 [15:21<05:58,  1.29s/batch, batch_loss=46, batch_index=714, batch_size=256]"
     ]
    },
    {
     "name": "stderr",
     "output_type": "stream",
     "text": [
      "\r",
      "Epoch 1/10:  72%|██████████████████████████████████████████████████████████████████████████████████████████████████████████████████████████████▊                                                 | 714/991 [15:22<05:58,  1.29s/batch, batch_loss=32.8, batch_index=715, batch_size=256]"
     ]
    },
    {
     "name": "stderr",
     "output_type": "stream",
     "text": [
      "\r",
      "Epoch 1/10:  72%|██████████████████████████████████████████████████████████████████████████████████████████████████████████████████████████████▉                                                 | 715/991 [15:22<05:55,  1.29s/batch, batch_loss=32.8, batch_index=715, batch_size=256]"
     ]
    },
    {
     "name": "stderr",
     "output_type": "stream",
     "text": [
      "\r",
      "Epoch 1/10:  72%|██████████████████████████████████████████████████████████████████████████████████████████████████████████████████████████████▉                                                 | 715/991 [15:23<05:55,  1.29s/batch, batch_loss=16.3, batch_index=716, batch_size=256]"
     ]
    },
    {
     "name": "stderr",
     "output_type": "stream",
     "text": [
      "\r",
      "Epoch 1/10:  72%|███████████████████████████████████████████████████████████████████████████████████████████████████████████████████████████████▏                                                | 716/991 [15:23<05:55,  1.29s/batch, batch_loss=16.3, batch_index=716, batch_size=256]"
     ]
    },
    {
     "name": "stderr",
     "output_type": "stream",
     "text": [
      "\r",
      "Epoch 1/10:  72%|███████████████████████████████████████████████████████████████████████████████████████████████████████████████████████████████▏                                                | 716/991 [15:25<05:55,  1.29s/batch, batch_loss=52.4, batch_index=717, batch_size=256]"
     ]
    },
    {
     "name": "stderr",
     "output_type": "stream",
     "text": [
      "\r",
      "Epoch 1/10:  72%|███████████████████████████████████████████████████████████████████████████████████████████████████████████████████████████████▎                                                | 717/991 [15:25<05:54,  1.30s/batch, batch_loss=52.4, batch_index=717, batch_size=256]"
     ]
    },
    {
     "name": "stderr",
     "output_type": "stream",
     "text": [
      "\r",
      "Epoch 1/10:  72%|███████████████████████████████████████████████████████████████████████████████████████████████████████████████████████████████▎                                                | 717/991 [15:26<05:54,  1.30s/batch, batch_loss=32.4, batch_index=718, batch_size=256]"
     ]
    },
    {
     "name": "stderr",
     "output_type": "stream",
     "text": [
      "\r",
      "Epoch 1/10:  72%|███████████████████████████████████████████████████████████████████████████████████████████████████████████████████████████████▌                                                | 718/991 [15:26<05:53,  1.29s/batch, batch_loss=32.4, batch_index=718, batch_size=256]"
     ]
    },
    {
     "name": "stderr",
     "output_type": "stream",
     "text": [
      "\r",
      "Epoch 1/10:  72%|███████████████████████████████████████████████████████████████████████████████████████████████████████████████████████████████▌                                                | 718/991 [15:27<05:53,  1.29s/batch, batch_loss=18.6, batch_index=719, batch_size=256]"
     ]
    },
    {
     "name": "stderr",
     "output_type": "stream",
     "text": [
      "\r",
      "Epoch 1/10:  73%|███████████████████████████████████████████████████████████████████████████████████████████████████████████████████████████████▋                                                | 719/991 [15:27<05:51,  1.29s/batch, batch_loss=18.6, batch_index=719, batch_size=256]"
     ]
    },
    {
     "name": "stderr",
     "output_type": "stream",
     "text": [
      "\r",
      "Epoch 1/10:  73%|███████████████████████████████████████████████████████████████████████████████████████████████████████████████████████████████▋                                                | 719/991 [15:28<05:51,  1.29s/batch, batch_loss=21.8, batch_index=720, batch_size=256]"
     ]
    },
    {
     "name": "stderr",
     "output_type": "stream",
     "text": [
      "\r",
      "Epoch 1/10:  73%|███████████████████████████████████████████████████████████████████████████████████████████████████████████████████████████████▊                                                | 720/991 [15:28<05:50,  1.29s/batch, batch_loss=21.8, batch_index=720, batch_size=256]"
     ]
    },
    {
     "name": "stderr",
     "output_type": "stream",
     "text": [
      "\r",
      "Epoch 1/10:  73%|███████████████████████████████████████████████████████████████████████████████████████████████████████████████████████████████▊                                                | 720/991 [15:30<05:50,  1.29s/batch, batch_loss=23.9, batch_index=721, batch_size=256]"
     ]
    },
    {
     "name": "stderr",
     "output_type": "stream",
     "text": [
      "\r",
      "Epoch 1/10:  73%|████████████████████████████████████████████████████████████████████████████████████████████████████████████████████████████████                                                | 721/991 [15:30<05:49,  1.30s/batch, batch_loss=23.9, batch_index=721, batch_size=256]"
     ]
    },
    {
     "name": "stderr",
     "output_type": "stream",
     "text": [
      "\r",
      "Epoch 1/10:  73%|████████████████████████████████████████████████████████████████████████████████████████████████████████████████████████████████                                                | 721/991 [15:31<05:49,  1.30s/batch, batch_loss=31.8, batch_index=722, batch_size=256]"
     ]
    },
    {
     "name": "stderr",
     "output_type": "stream",
     "text": [
      "\r",
      "Epoch 1/10:  73%|████████████████████████████████████████████████████████████████████████████████████████████████████████████████████████████████▏                                               | 722/991 [15:31<05:48,  1.29s/batch, batch_loss=31.8, batch_index=722, batch_size=256]"
     ]
    },
    {
     "name": "stderr",
     "output_type": "stream",
     "text": [
      "\r",
      "Epoch 1/10:  73%|██████████████████████████████████████████████████████████████████████████████████████████████████████████████████████████████                                               | 722/991 [15:32<05:48,  1.29s/batch, batch_loss=7.22e+3, batch_index=723, batch_size=256]"
     ]
    },
    {
     "name": "stderr",
     "output_type": "stream",
     "text": [
      "\r",
      "Epoch 1/10:  73%|██████████████████████████████████████████████████████████████████████████████████████████████████████████████████████████████▏                                              | 723/991 [15:32<05:47,  1.30s/batch, batch_loss=7.22e+3, batch_index=723, batch_size=256]"
     ]
    },
    {
     "name": "stderr",
     "output_type": "stream",
     "text": [
      "\r",
      "Epoch 1/10:  73%|██████████████████████████████████████████████████████████████████████████████████████████████████████████████████████████████████▌                                                | 723/991 [15:34<05:47,  1.30s/batch, batch_loss=9, batch_index=724, batch_size=256]"
     ]
    },
    {
     "name": "stderr",
     "output_type": "stream",
     "text": [
      "\r",
      "Epoch 1/10:  73%|██████████████████████████████████████████████████████████████████████████████████████████████████████████████████████████████████▊                                                | 724/991 [15:34<05:45,  1.29s/batch, batch_loss=9, batch_index=724, batch_size=256]"
     ]
    },
    {
     "name": "stderr",
     "output_type": "stream",
     "text": [
      "\r",
      "Epoch 1/10:  73%|████████████████████████████████████████████████████████████████████████████████████████████████████████████████████████████████▌                                               | 724/991 [15:35<05:45,  1.29s/batch, batch_loss=27.6, batch_index=725, batch_size=256]"
     ]
    },
    {
     "name": "stderr",
     "output_type": "stream",
     "text": [
      "\r",
      "Epoch 1/10:  73%|████████████████████████████████████████████████████████████████████████████████████████████████████████████████████████████████▊                                               | 725/991 [15:35<05:43,  1.29s/batch, batch_loss=27.6, batch_index=725, batch_size=256]"
     ]
    },
    {
     "name": "stderr",
     "output_type": "stream",
     "text": [
      "\r",
      "Epoch 1/10:  73%|████████████████████████████████████████████████████████████████████████████████████████████████████████████████████████████████▊                                               | 725/991 [15:36<05:43,  1.29s/batch, batch_loss=17.7, batch_index=726, batch_size=256]"
     ]
    },
    {
     "name": "stderr",
     "output_type": "stream",
     "text": [
      "\r",
      "Epoch 1/10:  73%|████████████████████████████████████████████████████████████████████████████████████████████████████████████████████████████████▉                                               | 726/991 [15:36<05:42,  1.29s/batch, batch_loss=17.7, batch_index=726, batch_size=256]"
     ]
    },
    {
     "name": "stderr",
     "output_type": "stream",
     "text": [
      "\r",
      "Epoch 1/10:  73%|██████████████████████████████████████████████████████████████████████████████████████████████████████████████████████████████▋                                              | 726/991 [15:37<05:42,  1.29s/batch, batch_loss=1.29e+4, batch_index=727, batch_size=256]"
     ]
    },
    {
     "name": "stderr",
     "output_type": "stream",
     "text": [
      "\r",
      "Epoch 1/10:  73%|██████████████████████████████████████████████████████████████████████████████████████████████████████████████████████████████▉                                              | 727/991 [15:37<05:39,  1.29s/batch, batch_loss=1.29e+4, batch_index=727, batch_size=256]"
     ]
    },
    {
     "name": "stderr",
     "output_type": "stream",
     "text": [
      "\r",
      "Epoch 1/10:  73%|█████████████████████████████████████████████████████████████████████████████████████████████████████████████████████████████████                                               | 727/991 [15:39<05:39,  1.29s/batch, batch_loss=20.2, batch_index=728, batch_size=256]"
     ]
    },
    {
     "name": "stderr",
     "output_type": "stream",
     "text": [
      "\r",
      "Epoch 1/10:  73%|█████████████████████████████████████████████████████████████████████████████████████████████████████████████████████████████████▎                                              | 728/991 [15:39<05:38,  1.29s/batch, batch_loss=20.2, batch_index=728, batch_size=256]"
     ]
    },
    {
     "name": "stderr",
     "output_type": "stream",
     "text": [
      "\r",
      "Epoch 1/10:  73%|██████████████████████████████████████████████████████████████████████████████████████████████████████████████████████████████████                                               | 728/991 [15:40<05:38,  1.29s/batch, batch_loss=141, batch_index=729, batch_size=256]"
     ]
    },
    {
     "name": "stderr",
     "output_type": "stream",
     "text": [
      "\r",
      "Epoch 1/10:  74%|██████████████████████████████████████████████████████████████████████████████████████████████████████████████████████████████████▏                                              | 729/991 [15:40<05:37,  1.29s/batch, batch_loss=141, batch_index=729, batch_size=256]"
     ]
    },
    {
     "name": "stderr",
     "output_type": "stream",
     "text": [
      "\r",
      "Epoch 1/10:  74%|█████████████████████████████████████████████████████████████████████████████████████████████████████████████████████████████████▍                                              | 729/991 [15:41<05:37,  1.29s/batch, batch_loss=12.5, batch_index=730, batch_size=256]"
     ]
    },
    {
     "name": "stderr",
     "output_type": "stream",
     "text": [
      "\r",
      "Epoch 1/10:  74%|█████████████████████████████████████████████████████████████████████████████████████████████████████████████████████████████████▋                                              | 730/991 [15:41<05:37,  1.29s/batch, batch_loss=12.5, batch_index=730, batch_size=256]"
     ]
    },
    {
     "name": "stderr",
     "output_type": "stream",
     "text": [
      "\r",
      "Epoch 1/10:  74%|██████████████████████████████████████████████████████████████████████████████████████████████████████████████████████████████████▍                                              | 730/991 [15:43<05:37,  1.29s/batch, batch_loss=129, batch_index=731, batch_size=256]"
     ]
    },
    {
     "name": "stderr",
     "output_type": "stream",
     "text": [
      "\r",
      "Epoch 1/10:  74%|██████████████████████████████████████████████████████████████████████████████████████████████████████████████████████████████████▌                                              | 731/991 [15:43<05:36,  1.29s/batch, batch_loss=129, batch_index=731, batch_size=256]"
     ]
    },
    {
     "name": "stderr",
     "output_type": "stream",
     "text": [
      "\r",
      "Epoch 1/10:  74%|███████████████████████████████████████████████████████████████████████████████████████████████████████████████████████████████▌                                             | 731/991 [15:44<05:36,  1.29s/batch, batch_loss=1.38e+4, batch_index=732, batch_size=256]"
     ]
    },
    {
     "name": "stderr",
     "output_type": "stream",
     "text": [
      "\r",
      "Epoch 1/10:  74%|███████████████████████████████████████████████████████████████████████████████████████████████████████████████████████████████▊                                             | 732/991 [15:44<05:29,  1.27s/batch, batch_loss=1.38e+4, batch_index=732, batch_size=256]"
     ]
    },
    {
     "name": "stderr",
     "output_type": "stream",
     "text": [
      "\r",
      "Epoch 1/10:  74%|██████████████████████████████████████████████████████████████████████████████████████████████████████████████████████████████████                                              | 732/991 [15:45<05:29,  1.27s/batch, batch_loss=34.3, batch_index=733, batch_size=256]"
     ]
    },
    {
     "name": "stderr",
     "output_type": "stream",
     "text": [
      "\r",
      "Epoch 1/10:  74%|██████████████████████████████████████████████████████████████████████████████████████████████████████████████████████████████████▏                                             | 733/991 [15:45<05:29,  1.28s/batch, batch_loss=34.3, batch_index=733, batch_size=256]"
     ]
    },
    {
     "name": "stderr",
     "output_type": "stream",
     "text": [
      "\r",
      "Epoch 1/10:  74%|███████████████████████████████████████████████████████████████████████████████████████████████████████████████████████████████▉                                             | 733/991 [15:46<05:29,  1.28s/batch, batch_loss=6.78e+3, batch_index=734, batch_size=256]"
     ]
    },
    {
     "name": "stderr",
     "output_type": "stream",
     "text": [
      "\r",
      "Epoch 1/10:  74%|████████████████████████████████████████████████████████████████████████████████████████████████████████████████████████████████▏                                            | 734/991 [15:46<05:29,  1.28s/batch, batch_loss=6.78e+3, batch_index=734, batch_size=256]"
     ]
    },
    {
     "name": "stderr",
     "output_type": "stream",
     "text": [
      "\r",
      "Epoch 1/10:  74%|██████████████████████████████████████████████████████████████████████████████████████████████████████████████████████████████████▎                                             | 734/991 [15:48<05:29,  1.28s/batch, batch_loss=35.1, batch_index=735, batch_size=256]"
     ]
    },
    {
     "name": "stderr",
     "output_type": "stream",
     "text": [
      "\r",
      "Epoch 1/10:  74%|██████████████████████████████████████████████████████████████████████████████████████████████████████████████████████████████████▌                                             | 735/991 [15:48<05:29,  1.29s/batch, batch_loss=35.1, batch_index=735, batch_size=256]"
     ]
    },
    {
     "name": "stderr",
     "output_type": "stream",
     "text": [
      "\r",
      "Epoch 1/10:  74%|██████████████████████████████████████████████████████████████████████████████████████████████████████████████████████████████████▌                                             | 735/991 [15:49<05:29,  1.29s/batch, batch_loss=32.7, batch_index=736, batch_size=256]"
     ]
    },
    {
     "name": "stderr",
     "output_type": "stream",
     "text": [
      "\r",
      "Epoch 1/10:  74%|██████████████████████████████████████████████████████████████████████████████████████████████████████████████████████████████████▋                                             | 736/991 [15:49<05:28,  1.29s/batch, batch_loss=32.7, batch_index=736, batch_size=256]"
     ]
    },
    {
     "name": "stderr",
     "output_type": "stream",
     "text": [
      "\r",
      "Epoch 1/10:  74%|██████████████████████████████████████████████████████████████████████████████████████████████████████████████████████████████████▋                                             | 736/991 [15:50<05:28,  1.29s/batch, batch_loss=15.1, batch_index=737, batch_size=256]"
     ]
    },
    {
     "name": "stderr",
     "output_type": "stream",
     "text": [
      "\r",
      "Epoch 1/10:  74%|██████████████████████████████████████████████████████████████████████████████████████████████████████████████████████████████████▉                                             | 737/991 [15:50<05:27,  1.29s/batch, batch_loss=15.1, batch_index=737, batch_size=256]"
     ]
    },
    {
     "name": "stderr",
     "output_type": "stream",
     "text": [
      "\r",
      "Epoch 1/10:  74%|████████████████████████████████████████████████████████████████████████████████████████████████████████████████████████████████▋                                            | 737/991 [15:52<05:27,  1.29s/batch, batch_loss=1.51e+3, batch_index=738, batch_size=256]"
     ]
    },
    {
     "name": "stderr",
     "output_type": "stream",
     "text": [
      "\r",
      "Epoch 1/10:  74%|████████████████████████████████████████████████████████████████████████████████████████████████████████████████████████████████▊                                            | 738/991 [15:52<05:26,  1.29s/batch, batch_loss=1.51e+3, batch_index=738, batch_size=256]"
     ]
    },
    {
     "name": "stderr",
     "output_type": "stream",
     "text": [
      "\r",
      "Epoch 1/10:  74%|███████████████████████████████████████████████████████████████████████████████████████████████████████████████████████████████████                                             | 738/991 [15:53<05:26,  1.29s/batch, batch_loss=59.9, batch_index=739, batch_size=256]"
     ]
    },
    {
     "name": "stderr",
     "output_type": "stream",
     "text": [
      "\r",
      "Epoch 1/10:  75%|███████████████████████████████████████████████████████████████████████████████████████████████████████████████████████████████████▏                                            | 739/991 [15:53<05:24,  1.29s/batch, batch_loss=59.9, batch_index=739, batch_size=256]"
     ]
    },
    {
     "name": "stderr",
     "output_type": "stream",
     "text": [
      "\r",
      "Epoch 1/10:  75%|███████████████████████████████████████████████████████████████████████████████████████████████████████████████████████████████████▏                                            | 739/991 [15:54<05:24,  1.29s/batch, batch_loss=11.2, batch_index=740, batch_size=256]"
     ]
    },
    {
     "name": "stderr",
     "output_type": "stream",
     "text": [
      "\r",
      "Epoch 1/10:  75%|███████████████████████████████████████████████████████████████████████████████████████████████████████████████████████████████████▍                                            | 740/991 [15:54<05:24,  1.29s/batch, batch_loss=11.2, batch_index=740, batch_size=256]"
     ]
    },
    {
     "name": "stderr",
     "output_type": "stream",
     "text": [
      "\r",
      "Epoch 1/10:  75%|█████████████████████████████████████████████████████████████████████████████████████████████████████████████████████████████████▏                                           | 740/991 [15:56<05:24,  1.29s/batch, batch_loss=1.82e+4, batch_index=741, batch_size=256]"
     ]
    },
    {
     "name": "stderr",
     "output_type": "stream",
     "text": [
      "\r",
      "Epoch 1/10:  75%|█████████████████████████████████████████████████████████████████████████████████████████████████████████████████████████████████▎                                           | 741/991 [15:56<05:22,  1.29s/batch, batch_loss=1.82e+4, batch_index=741, batch_size=256]"
     ]
    },
    {
     "name": "stderr",
     "output_type": "stream",
     "text": [
      "\r",
      "Epoch 1/10:  75%|█████████████████████████████████████████████████████████████████████████████████████████████████████████████████████████████████▎                                           | 741/991 [15:57<05:22,  1.29s/batch, batch_loss=2.27e+3, batch_index=742, batch_size=256]"
     ]
    },
    {
     "name": "stderr",
     "output_type": "stream",
     "text": [
      "\r",
      "Epoch 1/10:  75%|█████████████████████████████████████████████████████████████████████████████████████████████████████████████████████████████████▌                                           | 742/991 [15:57<05:21,  1.29s/batch, batch_loss=2.27e+3, batch_index=742, batch_size=256]"
     ]
    },
    {
     "name": "stderr",
     "output_type": "stream",
     "text": [
      "\r",
      "Epoch 1/10:  75%|███████████████████████████████████████████████████████████████████████████████████████████████████████████████████████████████████▊                                            | 742/991 [15:58<05:21,  1.29s/batch, batch_loss=14.9, batch_index=743, batch_size=256]"
     ]
    },
    {
     "name": "stderr",
     "output_type": "stream",
     "text": [
      "\r",
      "Epoch 1/10:  75%|███████████████████████████████████████████████████████████████████████████████████████████████████████████████████████████████████▉                                            | 743/991 [15:58<05:20,  1.29s/batch, batch_loss=14.9, batch_index=743, batch_size=256]"
     ]
    },
    {
     "name": "stderr",
     "output_type": "stream",
     "text": [
      "\r",
      "Epoch 1/10:  75%|███████████████████████████████████████████████████████████████████████████████████████████████████████████████████████████████████▉                                            | 743/991 [15:59<05:20,  1.29s/batch, batch_loss=22.5, batch_index=744, batch_size=256]"
     ]
    },
    {
     "name": "stderr",
     "output_type": "stream",
     "text": [
      "\r",
      "Epoch 1/10:  75%|████████████████████████████████████████████████████████████████████████████████████████████████████████████████████████████████████▏                                           | 744/991 [15:59<05:19,  1.29s/batch, batch_loss=22.5, batch_index=744, batch_size=256]"
     ]
    },
    {
     "name": "stderr",
     "output_type": "stream",
     "text": [
      "\r",
      "Epoch 1/10:  75%|████████████████████████████████████████████████████████████████████████████████████████████████████████████████████████████████████▏                                           | 744/991 [16:01<05:19,  1.29s/batch, batch_loss=24.2, batch_index=745, batch_size=256]"
     ]
    },
    {
     "name": "stderr",
     "output_type": "stream",
     "text": [
      "\r",
      "Epoch 1/10:  75%|████████████████████████████████████████████████████████████████████████████████████████████████████████████████████████████████████▎                                           | 745/991 [16:01<05:16,  1.29s/batch, batch_loss=24.2, batch_index=745, batch_size=256]"
     ]
    },
    {
     "name": "stderr",
     "output_type": "stream",
     "text": [
      "\r",
      "Epoch 1/10:  75%|██████████████████████████████████████████████████████████████████████████████████████████████████████████████████████████████████                                           | 745/991 [16:02<05:16,  1.29s/batch, batch_loss=1.17e+3, batch_index=746, batch_size=256]"
     ]
    },
    {
     "name": "stderr",
     "output_type": "stream",
     "text": [
      "\r",
      "Epoch 1/10:  75%|██████████████████████████████████████████████████████████████████████████████████████████████████████████████████████████████████▏                                          | 746/991 [16:02<05:15,  1.29s/batch, batch_loss=1.17e+3, batch_index=746, batch_size=256]"
     ]
    },
    {
     "name": "stderr",
     "output_type": "stream",
     "text": [
      "\r",
      "Epoch 1/10:  75%|██████████████████████████████████████████████████████████████████████████████████████████████████████████████████████████████████▏                                          | 746/991 [16:03<05:15,  1.29s/batch, batch_loss=3.93e+3, batch_index=747, batch_size=256]"
     ]
    },
    {
     "name": "stderr",
     "output_type": "stream",
     "text": [
      "\r",
      "Epoch 1/10:  75%|██████████████████████████████████████████████████████████████████████████████████████████████████████████████████████████████████▍                                          | 747/991 [16:03<05:14,  1.29s/batch, batch_loss=3.93e+3, batch_index=747, batch_size=256]"
     ]
    },
    {
     "name": "stderr",
     "output_type": "stream",
     "text": [
      "\r",
      "Epoch 1/10:  75%|██████████████████████████████████████████████████████████████████████████████████████████████████████████████████████████████████████▏                                           | 747/991 [16:05<05:14,  1.29s/batch, batch_loss=15, batch_index=748, batch_size=256]"
     ]
    },
    {
     "name": "stderr",
     "output_type": "stream",
     "text": [
      "\r",
      "Epoch 1/10:  75%|██████████████████████████████████████████████████████████████████████████████████████████████████████████████████████████████████████▎                                           | 748/991 [16:05<05:12,  1.29s/batch, batch_loss=15, batch_index=748, batch_size=256]"
     ]
    },
    {
     "name": "stderr",
     "output_type": "stream",
     "text": [
      "\r",
      "Epoch 1/10:  75%|████████████████████████████████████████████████████████████████████████████████████████████████████████████████████████████████████▊                                           | 748/991 [16:06<05:12,  1.29s/batch, batch_loss=17.3, batch_index=749, batch_size=256]"
     ]
    },
    {
     "name": "stderr",
     "output_type": "stream",
     "text": [
      "\r",
      "Epoch 1/10:  76%|█████████████████████████████████████████████████████████████████████████████████████████████████████████████████████████████████████                                           | 749/991 [16:06<05:12,  1.29s/batch, batch_loss=17.3, batch_index=749, batch_size=256]"
     ]
    },
    {
     "name": "stderr",
     "output_type": "stream",
     "text": [
      "\r",
      "Epoch 1/10:  76%|█████████████████████████████████████████████████████████████████████████████████████████████████████████████████████████████████████                                           | 749/991 [16:07<05:12,  1.29s/batch, batch_loss=15.4, batch_index=750, batch_size=256]"
     ]
    },
    {
     "name": "stderr",
     "output_type": "stream",
     "text": [
      "\r",
      "Epoch 1/10:  76%|█████████████████████████████████████████████████████████████████████████████████████████████████████████████████████████████████████▏                                          | 750/991 [16:07<05:10,  1.29s/batch, batch_loss=15.4, batch_index=750, batch_size=256]"
     ]
    },
    {
     "name": "stderr",
     "output_type": "stream",
     "text": [
      "\r",
      "Epoch 1/10:  76%|█████████████████████████████████████████████████████████████████████████████████████████████████████████████████████████████████████▏                                          | 750/991 [16:08<05:10,  1.29s/batch, batch_loss=9.73, batch_index=751, batch_size=256]"
     ]
    },
    {
     "name": "stderr",
     "output_type": "stream",
     "text": [
      "\r",
      "Epoch 1/10:  76%|█████████████████████████████████████████████████████████████████████████████████████████████████████████████████████████████████████▍                                          | 751/991 [16:08<05:09,  1.29s/batch, batch_loss=9.73, batch_index=751, batch_size=256]"
     ]
    },
    {
     "name": "stderr",
     "output_type": "stream",
     "text": [
      "\r",
      "Epoch 1/10:  76%|█████████████████████████████████████████████████████████████████████████████████████████████████████████████████████████████████████▍                                          | 751/991 [16:10<05:09,  1.29s/batch, batch_loss=9.52, batch_index=752, batch_size=256]"
     ]
    },
    {
     "name": "stderr",
     "output_type": "stream",
     "text": [
      "\r",
      "Epoch 1/10:  76%|█████████████████████████████████████████████████████████████████████████████████████████████████████████████████████████████████████▌                                          | 752/991 [16:10<05:09,  1.29s/batch, batch_loss=9.52, batch_index=752, batch_size=256]"
     ]
    },
    {
     "name": "stderr",
     "output_type": "stream",
     "text": [
      "\r",
      "Epoch 1/10:  76%|█████████████████████████████████████████████████████████████████████████████████████████████████████████████████████████████████████▌                                          | 752/991 [16:11<05:09,  1.29s/batch, batch_loss=11.1, batch_index=753, batch_size=256]"
     ]
    },
    {
     "name": "stderr",
     "output_type": "stream",
     "text": [
      "\r",
      "Epoch 1/10:  76%|█████████████████████████████████████████████████████████████████████████████████████████████████████████████████████████████████████▋                                          | 753/991 [16:11<05:08,  1.30s/batch, batch_loss=11.1, batch_index=753, batch_size=256]"
     ]
    },
    {
     "name": "stderr",
     "output_type": "stream",
     "text": [
      "\r",
      "Epoch 1/10:  76%|█████████████████████████████████████████████████████████████████████████████████████████████████████████████████████████████████████▋                                          | 753/991 [16:12<05:08,  1.30s/batch, batch_loss=7.74, batch_index=754, batch_size=256]"
     ]
    },
    {
     "name": "stderr",
     "output_type": "stream",
     "text": [
      "\r",
      "Epoch 1/10:  76%|█████████████████████████████████████████████████████████████████████████████████████████████████████████████████████████████████████▉                                          | 754/991 [16:12<05:06,  1.29s/batch, batch_loss=7.74, batch_index=754, batch_size=256]"
     ]
    },
    {
     "name": "stderr",
     "output_type": "stream",
     "text": [
      "\r",
      "Epoch 1/10:  76%|█████████████████████████████████████████████████████████████████████████████████████████████████████████████████████████████████████▉                                          | 754/991 [16:14<05:06,  1.29s/batch, batch_loss=31.5, batch_index=755, batch_size=256]"
     ]
    },
    {
     "name": "stderr",
     "output_type": "stream",
     "text": [
      "\r",
      "Epoch 1/10:  76%|██████████████████████████████████████████████████████████████████████████████████████████████████████████████████████████████████████                                          | 755/991 [16:14<05:05,  1.29s/batch, batch_loss=31.5, batch_index=755, batch_size=256]"
     ]
    },
    {
     "name": "stderr",
     "output_type": "stream",
     "text": [
      "\r",
      "Epoch 1/10:  76%|██████████████████████████████████████████████████████████████████████████████████████████████████████████████████████████████████████                                          | 755/991 [16:15<05:05,  1.29s/batch, batch_loss=29.3, batch_index=756, batch_size=256]"
     ]
    },
    {
     "name": "stderr",
     "output_type": "stream",
     "text": [
      "\r",
      "Epoch 1/10:  76%|██████████████████████████████████████████████████████████████████████████████████████████████████████████████████████████████████████▎                                         | 756/991 [16:15<05:05,  1.30s/batch, batch_loss=29.3, batch_index=756, batch_size=256]"
     ]
    },
    {
     "name": "stderr",
     "output_type": "stream",
     "text": [
      "\r",
      "Epoch 1/10:  76%|██████████████████████████████████████████████████████████████████████████████████████████████████████████████████████████████████████▎                                         | 756/991 [16:16<05:05,  1.30s/batch, batch_loss=9.65, batch_index=757, batch_size=256]"
     ]
    },
    {
     "name": "stderr",
     "output_type": "stream",
     "text": [
      "\r",
      "Epoch 1/10:  76%|██████████████████████████████████████████████████████████████████████████████████████████████████████████████████████████████████████▍                                         | 757/991 [16:16<05:03,  1.30s/batch, batch_loss=9.65, batch_index=757, batch_size=256]"
     ]
    },
    {
     "name": "stderr",
     "output_type": "stream",
     "text": [
      "\r",
      "Epoch 1/10:  76%|██████████████████████████████████████████████████████████████████████████████████████████████████████████████████████████████████████▍                                         | 757/991 [16:18<05:03,  1.30s/batch, batch_loss=14.5, batch_index=758, batch_size=256]"
     ]
    },
    {
     "name": "stderr",
     "output_type": "stream",
     "text": [
      "\r",
      "Epoch 1/10:  76%|██████████████████████████████████████████████████████████████████████████████████████████████████████████████████████████████████████▌                                         | 758/991 [16:18<05:02,  1.30s/batch, batch_loss=14.5, batch_index=758, batch_size=256]"
     ]
    },
    {
     "name": "stderr",
     "output_type": "stream",
     "text": [
      "\r",
      "Epoch 1/10:  76%|██████████████████████████████████████████████████████████████████████████████████████████████████████████████████████████████████████▌                                         | 758/991 [16:19<05:02,  1.30s/batch, batch_loss=15.8, batch_index=759, batch_size=256]"
     ]
    },
    {
     "name": "stderr",
     "output_type": "stream",
     "text": [
      "\r",
      "Epoch 1/10:  77%|██████████████████████████████████████████████████████████████████████████████████████████████████████████████████████████████████████▊                                         | 759/991 [16:19<04:56,  1.28s/batch, batch_loss=15.8, batch_index=759, batch_size=256]"
     ]
    },
    {
     "name": "stderr",
     "output_type": "stream",
     "text": [
      "\r",
      "Epoch 1/10:  77%|██████████████████████████████████████████████████████████████████████████████████████████████████████████████████████████████████████▊                                         | 759/991 [16:20<04:56,  1.28s/batch, batch_loss=26.4, batch_index=760, batch_size=256]"
     ]
    },
    {
     "name": "stderr",
     "output_type": "stream",
     "text": [
      "\r",
      "Epoch 1/10:  77%|██████████████████████████████████████████████████████████████████████████████████████████████████████████████████████████████████████▉                                         | 760/991 [16:20<04:57,  1.29s/batch, batch_loss=26.4, batch_index=760, batch_size=256]"
     ]
    },
    {
     "name": "stderr",
     "output_type": "stream",
     "text": [
      "\r",
      "Epoch 1/10:  77%|██████████████████████████████████████████████████████████████████████████████████████████████████████████████████████████████████████▉                                         | 760/991 [16:21<04:57,  1.29s/batch, batch_loss=47.5, batch_index=761, batch_size=256]"
     ]
    },
    {
     "name": "stderr",
     "output_type": "stream",
     "text": [
      "\r",
      "Epoch 1/10:  77%|███████████████████████████████████████████████████████████████████████████████████████████████████████████████████████████████████████▏                                        | 761/991 [16:21<04:55,  1.29s/batch, batch_loss=47.5, batch_index=761, batch_size=256]"
     ]
    },
    {
     "name": "stderr",
     "output_type": "stream",
     "text": [
      "\r",
      "Epoch 1/10:  77%|███████████████████████████████████████████████████████████████████████████████████████████████████████████████████████████████████████▏                                        | 761/991 [16:23<04:55,  1.29s/batch, batch_loss=32.7, batch_index=762, batch_size=256]"
     ]
    },
    {
     "name": "stderr",
     "output_type": "stream",
     "text": [
      "\r",
      "Epoch 1/10:  77%|███████████████████████████████████████████████████████████████████████████████████████████████████████████████████████████████████████▎                                        | 762/991 [16:23<04:55,  1.29s/batch, batch_loss=32.7, batch_index=762, batch_size=256]"
     ]
    },
    {
     "name": "stderr",
     "output_type": "stream",
     "text": [
      "\r",
      "Epoch 1/10:  77%|████████████████████████████████████████████████████████████████████████████████████████████████████████████████████████████████████████                                         | 762/991 [16:24<04:55,  1.29s/batch, batch_loss=536, batch_index=763, batch_size=256]"
     ]
    },
    {
     "name": "stderr",
     "output_type": "stream",
     "text": [
      "\r",
      "Epoch 1/10:  77%|████████████████████████████████████████████████████████████████████████████████████████████████████████████████████████████████████████▎                                        | 763/991 [16:24<04:55,  1.30s/batch, batch_loss=536, batch_index=763, batch_size=256]"
     ]
    },
    {
     "name": "stderr",
     "output_type": "stream",
     "text": [
      "\r",
      "Epoch 1/10:  77%|███████████████████████████████████████████████████████████████████████████████████████████████████████████████████████████████████████▌                                        | 763/991 [16:25<04:55,  1.30s/batch, batch_loss=20.6, batch_index=764, batch_size=256]"
     ]
    },
    {
     "name": "stderr",
     "output_type": "stream",
     "text": [
      "\r",
      "Epoch 1/10:  77%|███████████████████████████████████████████████████████████████████████████████████████████████████████████████████████████████████████▋                                        | 764/991 [16:25<04:53,  1.29s/batch, batch_loss=20.6, batch_index=764, batch_size=256]"
     ]
    },
    {
     "name": "stderr",
     "output_type": "stream",
     "text": [
      "\r",
      "Epoch 1/10:  77%|███████████████████████████████████████████████████████████████████████████████████████████████████████████████████████████████████████▋                                        | 764/991 [16:27<04:53,  1.29s/batch, batch_loss=10.3, batch_index=765, batch_size=256]"
     ]
    },
    {
     "name": "stderr",
     "output_type": "stream",
     "text": [
      "\r",
      "Epoch 1/10:  77%|███████████████████████████████████████████████████████████████████████████████████████████████████████████████████████████████████████▊                                        | 765/991 [16:27<04:52,  1.29s/batch, batch_loss=10.3, batch_index=765, batch_size=256]"
     ]
    },
    {
     "name": "stderr",
     "output_type": "stream",
     "text": [
      "\r",
      "Epoch 1/10:  77%|███████████████████████████████████████████████████████████████████████████████████████████████████████████████████████████████████████▊                                        | 765/991 [16:28<04:52,  1.29s/batch, batch_loss=15.6, batch_index=766, batch_size=256]"
     ]
    },
    {
     "name": "stderr",
     "output_type": "stream",
     "text": [
      "\r",
      "Epoch 1/10:  77%|████████████████████████████████████████████████████████████████████████████████████████████████████████████████████████████████████████                                        | 766/991 [16:28<04:52,  1.30s/batch, batch_loss=15.6, batch_index=766, batch_size=256]"
     ]
    },
    {
     "name": "stderr",
     "output_type": "stream",
     "text": [
      "\r",
      "Epoch 1/10:  77%|████████████████████████████████████████████████████████████████████████████████████████████████████████████████████████████████████████                                        | 766/991 [16:29<04:52,  1.30s/batch, batch_loss=24.1, batch_index=767, batch_size=256]"
     ]
    },
    {
     "name": "stderr",
     "output_type": "stream",
     "text": [
      "\r",
      "Epoch 1/10:  77%|████████████████████████████████████████████████████████████████████████████████████████████████████████████████████████████████████████▏                                       | 767/991 [16:29<04:50,  1.30s/batch, batch_loss=24.1, batch_index=767, batch_size=256]"
     ]
    },
    {
     "name": "stderr",
     "output_type": "stream",
     "text": [
      "\r",
      "Epoch 1/10:  77%|████████████████████████████████████████████████████████████████████████████████████████████████████████████████████████████████████████▏                                       | 767/991 [16:30<04:50,  1.30s/batch, batch_loss=7.09, batch_index=768, batch_size=256]"
     ]
    },
    {
     "name": "stderr",
     "output_type": "stream",
     "text": [
      "\r",
      "Epoch 1/10:  77%|████████████████████████████████████████████████████████████████████████████████████████████████████████████████████████████████████████▍                                       | 768/991 [16:30<04:48,  1.30s/batch, batch_loss=7.09, batch_index=768, batch_size=256]"
     ]
    },
    {
     "name": "stderr",
     "output_type": "stream",
     "text": [
      "\r",
      "Epoch 1/10:  77%|████████████████████████████████████████████████████████████████████████████████████████████████████████████████████████████████████████▍                                       | 768/991 [16:32<04:48,  1.30s/batch, batch_loss=7.66, batch_index=769, batch_size=256]"
     ]
    },
    {
     "name": "stderr",
     "output_type": "stream",
     "text": [
      "\r",
      "Epoch 1/10:  78%|████████████████████████████████████████████████████████████████████████████████████████████████████████████████████████████████████████▌                                       | 769/991 [16:32<04:47,  1.30s/batch, batch_loss=7.66, batch_index=769, batch_size=256]"
     ]
    },
    {
     "name": "stderr",
     "output_type": "stream",
     "text": [
      "\r",
      "Epoch 1/10:  78%|████████████████████████████████████████████████████████████████████████████████████████████████████████████████████████████████████████▌                                       | 769/991 [16:33<04:47,  1.30s/batch, batch_loss=18.9, batch_index=770, batch_size=256]"
     ]
    },
    {
     "name": "stderr",
     "output_type": "stream",
     "text": [
      "\r",
      "Epoch 1/10:  78%|████████████████████████████████████████████████████████████████████████████████████████████████████████████████████████████████████████▊                                       | 770/991 [16:33<04:45,  1.29s/batch, batch_loss=18.9, batch_index=770, batch_size=256]"
     ]
    },
    {
     "name": "stderr",
     "output_type": "stream",
     "text": [
      "\r",
      "Epoch 1/10:  78%|██████████████████████████████████████████████████████████████████████████████████████████████████████████████████████████████████████▍                                      | 770/991 [16:34<04:45,  1.29s/batch, batch_loss=2.77e+3, batch_index=771, batch_size=256]"
     ]
    },
    {
     "name": "stderr",
     "output_type": "stream",
     "text": [
      "\r",
      "Epoch 1/10:  78%|██████████████████████████████████████████████████████████████████████████████████████████████████████████████████████████████████████▌                                      | 771/991 [16:34<04:43,  1.29s/batch, batch_loss=2.77e+3, batch_index=771, batch_size=256]"
     ]
    },
    {
     "name": "stderr",
     "output_type": "stream",
     "text": [
      "\r",
      "Epoch 1/10:  78%|████████████████████████████████████████████████████████████████████████████████████████████████████████████████████████████████████████▉                                       | 771/991 [16:36<04:43,  1.29s/batch, batch_loss=10.6, batch_index=772, batch_size=256]"
     ]
    },
    {
     "name": "stderr",
     "output_type": "stream",
     "text": [
      "\r",
      "Epoch 1/10:  78%|█████████████████████████████████████████████████████████████████████████████████████████████████████████████████████████████████████████                                       | 772/991 [16:36<04:42,  1.29s/batch, batch_loss=10.6, batch_index=772, batch_size=256]"
     ]
    },
    {
     "name": "stderr",
     "output_type": "stream",
     "text": [
      "\r",
      "Epoch 1/10:  78%|█████████████████████████████████████████████████████████████████████████████████████████████████████████████████████████████████████████                                       | 772/991 [16:37<04:42,  1.29s/batch, batch_loss=7.76, batch_index=773, batch_size=256]"
     ]
    },
    {
     "name": "stderr",
     "output_type": "stream",
     "text": [
      "\r",
      "Epoch 1/10:  78%|█████████████████████████████████████████████████████████████████████████████████████████████████████████████████████████████████████████▎                                      | 773/991 [16:37<04:41,  1.29s/batch, batch_loss=7.76, batch_index=773, batch_size=256]"
     ]
    },
    {
     "name": "stderr",
     "output_type": "stream",
     "text": [
      "\r",
      "Epoch 1/10:  78%|█████████████████████████████████████████████████████████████████████████████████████████████████████████████████████████████████████████▎                                      | 773/991 [16:38<04:41,  1.29s/batch, batch_loss=13.1, batch_index=774, batch_size=256]"
     ]
    },
    {
     "name": "stderr",
     "output_type": "stream",
     "text": [
      "\r",
      "Epoch 1/10:  78%|█████████████████████████████████████████████████████████████████████████████████████████████████████████████████████████████████████████▍                                      | 774/991 [16:38<04:40,  1.29s/batch, batch_loss=13.1, batch_index=774, batch_size=256]"
     ]
    },
    {
     "name": "stderr",
     "output_type": "stream",
     "text": [
      "\r",
      "Epoch 1/10:  78%|█████████████████████████████████████████████████████████████████████████████████████████████████████████████████████████████████████████▍                                      | 774/991 [16:39<04:40,  1.29s/batch, batch_loss=13.6, batch_index=775, batch_size=256]"
     ]
    },
    {
     "name": "stderr",
     "output_type": "stream",
     "text": [
      "\r",
      "Epoch 1/10:  78%|█████████████████████████████████████████████████████████████████████████████████████████████████████████████████████████████████████████▋                                      | 775/991 [16:39<04:39,  1.29s/batch, batch_loss=13.6, batch_index=775, batch_size=256]"
     ]
    },
    {
     "name": "stderr",
     "output_type": "stream",
     "text": [
      "\r",
      "Epoch 1/10:  78%|██████████████████████████████████████████████████████████████████████████████████████████████████████████████████████████████████████████▍                                      | 775/991 [16:41<04:39,  1.29s/batch, batch_loss=270, batch_index=776, batch_size=256]"
     ]
    },
    {
     "name": "stderr",
     "output_type": "stream",
     "text": [
      "\r",
      "Epoch 1/10:  78%|██████████████████████████████████████████████████████████████████████████████████████████████████████████████████████████████████████████▌                                      | 776/991 [16:41<04:38,  1.30s/batch, batch_loss=270, batch_index=776, batch_size=256]"
     ]
    },
    {
     "name": "stderr",
     "output_type": "stream",
     "text": [
      "\r",
      "Epoch 1/10:  78%|█████████████████████████████████████████████████████████████████████████████████████████████████████████████████████████████████████████▊                                      | 776/991 [16:42<04:38,  1.30s/batch, batch_loss=5.74, batch_index=777, batch_size=256]"
     ]
    },
    {
     "name": "stderr",
     "output_type": "stream",
     "text": [
      "\r",
      "Epoch 1/10:  78%|█████████████████████████████████████████████████████████████████████████████████████████████████████████████████████████████████████████▉                                      | 777/991 [16:42<04:37,  1.30s/batch, batch_loss=5.74, batch_index=777, batch_size=256]"
     ]
    },
    {
     "name": "stderr",
     "output_type": "stream",
     "text": [
      "\r",
      "Epoch 1/10:  78%|█████████████████████████████████████████████████████████████████████████████████████████████████████████████████████████████████████████▉                                      | 777/991 [16:43<04:37,  1.30s/batch, batch_loss=6.04, batch_index=778, batch_size=256]"
     ]
    },
    {
     "name": "stderr",
     "output_type": "stream",
     "text": [
      "\r",
      "Epoch 1/10:  79%|██████████████████████████████████████████████████████████████████████████████████████████████████████████████████████████████████████████▏                                     | 778/991 [16:43<04:35,  1.29s/batch, batch_loss=6.04, batch_index=778, batch_size=256]"
     ]
    },
    {
     "name": "stderr",
     "output_type": "stream",
     "text": [
      "\r",
      "Epoch 1/10:  79%|██████████████████████████████████████████████████████████████████████████████████████████████████████████████████████████████████████████▏                                     | 778/991 [16:45<04:35,  1.29s/batch, batch_loss=8.52, batch_index=779, batch_size=256]"
     ]
    },
    {
     "name": "stderr",
     "output_type": "stream",
     "text": [
      "\r",
      "Epoch 1/10:  79%|██████████████████████████████████████████████████████████████████████████████████████████████████████████████████████████████████████████▎                                     | 779/991 [16:45<04:34,  1.30s/batch, batch_loss=8.52, batch_index=779, batch_size=256]"
     ]
    },
    {
     "name": "stderr",
     "output_type": "stream",
     "text": [
      "\r",
      "Epoch 1/10:  79%|██████████████████████████████████████████████████████████████████████████████████████████████████████████████████████████████████████████▎                                     | 779/991 [16:46<04:34,  1.30s/batch, batch_loss=3.92, batch_index=780, batch_size=256]"
     ]
    },
    {
     "name": "stderr",
     "output_type": "stream",
     "text": [
      "\r",
      "Epoch 1/10:  79%|██████████████████████████████████████████████████████████████████████████████████████████████████████████████████████████████████████████▌                                     | 780/991 [16:46<04:33,  1.29s/batch, batch_loss=3.92, batch_index=780, batch_size=256]"
     ]
    },
    {
     "name": "stderr",
     "output_type": "stream",
     "text": [
      "\r",
      "Epoch 1/10:  79%|██████████████████████████████████████████████████████████████████████████████████████████████████████████████████████████████████████████▌                                     | 780/991 [16:47<04:33,  1.29s/batch, batch_loss=6.68, batch_index=781, batch_size=256]"
     ]
    },
    {
     "name": "stderr",
     "output_type": "stream",
     "text": [
      "\r",
      "Epoch 1/10:  79%|██████████████████████████████████████████████████████████████████████████████████████████████████████████████████████████████████████████▋                                     | 781/991 [16:47<04:32,  1.30s/batch, batch_loss=6.68, batch_index=781, batch_size=256]"
     ]
    },
    {
     "name": "stderr",
     "output_type": "stream",
     "text": [
      "\r",
      "Epoch 1/10:  79%|█████████████████████████████████████████████████████████████████████████████████████████████████████████████████████████████████████████▏                                    | 781/991 [16:49<04:32,  1.30s/batch, batch_loss=2.5e+4, batch_index=782, batch_size=256]"
     ]
    },
    {
     "name": "stderr",
     "output_type": "stream",
     "text": [
      "\r",
      "Epoch 1/10:  79%|█████████████████████████████████████████████████████████████████████████████████████████████████████████████████████████████████████████▎                                    | 782/991 [16:49<04:31,  1.30s/batch, batch_loss=2.5e+4, batch_index=782, batch_size=256]"
     ]
    },
    {
     "name": "stderr",
     "output_type": "stream",
     "text": [
      "\r",
      "Epoch 1/10:  79%|██████████████████████████████████████████████████████████████████████████████████████████████████████████████████████████████████████████▉                                     | 782/991 [16:50<04:31,  1.30s/batch, batch_loss=32.6, batch_index=783, batch_size=256]"
     ]
    },
    {
     "name": "stderr",
     "output_type": "stream",
     "text": [
      "\r",
      "Epoch 1/10:  79%|███████████████████████████████████████████████████████████████████████████████████████████████████████████████████████████████████████████                                     | 783/991 [16:50<04:29,  1.29s/batch, batch_loss=32.6, batch_index=783, batch_size=256]"
     ]
    },
    {
     "name": "stderr",
     "output_type": "stream",
     "text": [
      "\r",
      "Epoch 1/10:  79%|███████████████████████████████████████████████████████████████████████████████████████████████████████████████████████████████████████████                                     | 783/991 [16:51<04:29,  1.29s/batch, batch_loss=14.8, batch_index=784, batch_size=256]"
     ]
    },
    {
     "name": "stderr",
     "output_type": "stream",
     "text": [
      "\r",
      "Epoch 1/10:  79%|███████████████████████████████████████████████████████████████████████████████████████████████████████████████████████████████████████████▏                                    | 784/991 [16:51<04:28,  1.30s/batch, batch_loss=14.8, batch_index=784, batch_size=256]"
     ]
    },
    {
     "name": "stderr",
     "output_type": "stream",
     "text": [
      "\r",
      "Epoch 1/10:  79%|███████████████████████████████████████████████████████████████████████████████████████████████████████████████████████████████████████████▏                                    | 784/991 [16:52<04:28,  1.30s/batch, batch_loss=18.3, batch_index=785, batch_size=256]"
     ]
    },
    {
     "name": "stderr",
     "output_type": "stream",
     "text": [
      "\r",
      "Epoch 1/10:  79%|███████████████████████████████████████████████████████████████████████████████████████████████████████████████████████████████████████████▍                                    | 785/991 [16:52<04:26,  1.29s/batch, batch_loss=18.3, batch_index=785, batch_size=256]"
     ]
    },
    {
     "name": "stderr",
     "output_type": "stream",
     "text": [
      "\r",
      "Epoch 1/10:  79%|███████████████████████████████████████████████████████████████████████████████████████████████████████████████████████████████████████████▍                                    | 785/991 [16:54<04:26,  1.29s/batch, batch_loss=13.3, batch_index=786, batch_size=256]"
     ]
    },
    {
     "name": "stderr",
     "output_type": "stream",
     "text": [
      "\r",
      "Epoch 1/10:  79%|███████████████████████████████████████████████████████████████████████████████████████████████████████████████████████████████████████████▌                                    | 786/991 [16:54<04:19,  1.27s/batch, batch_loss=13.3, batch_index=786, batch_size=256]"
     ]
    },
    {
     "name": "stderr",
     "output_type": "stream",
     "text": [
      "\r",
      "Epoch 1/10:  79%|█████████████████████████████████████████████████████████████████████████████████████████████████████████████████████████████████████████▏                                   | 786/991 [16:55<04:19,  1.27s/batch, batch_loss=2.48e+4, batch_index=787, batch_size=256]"
     ]
    },
    {
     "name": "stderr",
     "output_type": "stream",
     "text": [
      "\r",
      "Epoch 1/10:  79%|█████████████████████████████████████████████████████████████████████████████████████████████████████████████████████████████████████████▍                                   | 787/991 [16:55<04:19,  1.27s/batch, batch_loss=2.48e+4, batch_index=787, batch_size=256]"
     ]
    },
    {
     "name": "stderr",
     "output_type": "stream",
     "text": [
      "\r",
      "Epoch 1/10:  79%|████████████████████████████████████████████████████████████████████████████████████████████████████████████████████████████████████████████▌                                    | 787/991 [16:56<04:19,  1.27s/batch, batch_loss=686, batch_index=788, batch_size=256]"
     ]
    },
    {
     "name": "stderr",
     "output_type": "stream",
     "text": [
      "\r",
      "Epoch 1/10:  80%|████████████████████████████████████████████████████████████████████████████████████████████████████████████████████████████████████████████▋                                    | 788/991 [16:56<04:19,  1.28s/batch, batch_loss=686, batch_index=788, batch_size=256]"
     ]
    },
    {
     "name": "stderr",
     "output_type": "stream",
     "text": [
      "\r",
      "Epoch 1/10:  80%|███████████████████████████████████████████████████████████████████████████████████████████████████████████████████████████████████████████▉                                    | 788/991 [16:58<04:19,  1.28s/batch, batch_loss=32.6, batch_index=789, batch_size=256]"
     ]
    },
    {
     "name": "stderr",
     "output_type": "stream",
     "text": [
      "\r",
      "Epoch 1/10:  80%|████████████████████████████████████████████████████████████████████████████████████████████████████████████████████████████████████████████▏                                   | 789/991 [16:58<04:19,  1.29s/batch, batch_loss=32.6, batch_index=789, batch_size=256]"
     ]
    },
    {
     "name": "stderr",
     "output_type": "stream",
     "text": [
      "\r",
      "Epoch 1/10:  80%|████████████████████████████████████████████████████████████████████████████████████████████████████████████████████████████████████████████▏                                   | 789/991 [16:59<04:19,  1.29s/batch, batch_loss=27.7, batch_index=790, batch_size=256]"
     ]
    },
    {
     "name": "stderr",
     "output_type": "stream",
     "text": [
      "\r",
      "Epoch 1/10:  80%|████████████████████████████████████████████████████████████████████████████████████████████████████████████████████████████████████████████▎                                   | 790/991 [16:59<04:18,  1.29s/batch, batch_loss=27.7, batch_index=790, batch_size=256]"
     ]
    },
    {
     "name": "stderr",
     "output_type": "stream",
     "text": [
      "\r",
      "Epoch 1/10:  80%|████████████████████████████████████████████████████████████████████████████████████████████████████████████████████████████████████████████▎                                   | 790/991 [17:00<04:18,  1.29s/batch, batch_loss=18.6, batch_index=791, batch_size=256]"
     ]
    },
    {
     "name": "stderr",
     "output_type": "stream",
     "text": [
      "\r",
      "Epoch 1/10:  80%|████████████████████████████████████████████████████████████████████████████████████████████████████████████████████████████████████████████▍                                   | 791/991 [17:00<04:18,  1.29s/batch, batch_loss=18.6, batch_index=791, batch_size=256]"
     ]
    },
    {
     "name": "stderr",
     "output_type": "stream",
     "text": [
      "\r",
      "Epoch 1/10:  80%|██████████████████████████████████████████████████████████████████████████████████████████████████████████████████████████████████████████                                   | 791/991 [17:01<04:18,  1.29s/batch, batch_loss=1.04e+4, batch_index=792, batch_size=256]"
     ]
    },
    {
     "name": "stderr",
     "output_type": "stream",
     "text": [
      "\r",
      "Epoch 1/10:  80%|██████████████████████████████████████████████████████████████████████████████████████████████████████████████████████████████████████████▎                                  | 792/991 [17:01<04:17,  1.29s/batch, batch_loss=1.04e+4, batch_index=792, batch_size=256]"
     ]
    },
    {
     "name": "stderr",
     "output_type": "stream",
     "text": [
      "\r",
      "Epoch 1/10:  80%|████████████████████████████████████████████████████████████████████████████████████████████████████████████████████████████████████████████▋                                   | 792/991 [17:03<04:17,  1.29s/batch, batch_loss=14.6, batch_index=793, batch_size=256]"
     ]
    },
    {
     "name": "stderr",
     "output_type": "stream",
     "text": [
      "\r",
      "Epoch 1/10:  80%|████████████████████████████████████████████████████████████████████████████████████████████████████████████████████████████████████████████▊                                   | 793/991 [17:03<04:15,  1.29s/batch, batch_loss=14.6, batch_index=793, batch_size=256]"
     ]
    },
    {
     "name": "stderr",
     "output_type": "stream",
     "text": [
      "\r",
      "Epoch 1/10:  80%|████████████████████████████████████████████████████████████████████████████████████████████████████████████████████████████████████████████▊                                   | 793/991 [17:04<04:15,  1.29s/batch, batch_loss=4.67, batch_index=794, batch_size=256]"
     ]
    },
    {
     "name": "stderr",
     "output_type": "stream",
     "text": [
      "\r",
      "Epoch 1/10:  80%|█████████████████████████████████████████████████████████████████████████████████████████████████████████████████████████████████████████████                                   | 794/991 [17:04<04:14,  1.29s/batch, batch_loss=4.67, batch_index=794, batch_size=256]"
     ]
    },
    {
     "name": "stderr",
     "output_type": "stream",
     "text": [
      "\r",
      "Epoch 1/10:  80%|█████████████████████████████████████████████████████████████████████████████████████████████████████████████████████████████████████████████                                   | 794/991 [17:05<04:14,  1.29s/batch, batch_loss=10.6, batch_index=795, batch_size=256]"
     ]
    },
    {
     "name": "stderr",
     "output_type": "stream",
     "text": [
      "\r",
      "Epoch 1/10:  80%|█████████████████████████████████████████████████████████████████████████████████████████████████████████████████████████████████████████████▏                                  | 795/991 [17:05<04:13,  1.30s/batch, batch_loss=10.6, batch_index=795, batch_size=256]"
     ]
    },
    {
     "name": "stderr",
     "output_type": "stream",
     "text": [
      "\r",
      "Epoch 1/10:  80%|█████████████████████████████████████████████████████████████████████████████████████████████████████████████████████████████████████████████▏                                  | 795/991 [17:07<04:13,  1.30s/batch, batch_loss=23.3, batch_index=796, batch_size=256]"
     ]
    },
    {
     "name": "stderr",
     "output_type": "stream",
     "text": [
      "\r",
      "Epoch 1/10:  80%|█████████████████████████████████████████████████████████████████████████████████████████████████████████████████████████████████████████████▎                                  | 796/991 [17:07<04:11,  1.29s/batch, batch_loss=23.3, batch_index=796, batch_size=256]"
     ]
    },
    {
     "name": "stderr",
     "output_type": "stream",
     "text": [
      "\r",
      "Epoch 1/10:  80%|█████████████████████████████████████████████████████████████████████████████████████████████████████████████████████████████████████████████▎                                  | 796/991 [17:08<04:11,  1.29s/batch, batch_loss=41.1, batch_index=797, batch_size=256]"
     ]
    },
    {
     "name": "stderr",
     "output_type": "stream",
     "text": [
      "\r",
      "Epoch 1/10:  80%|█████████████████████████████████████████████████████████████████████████████████████████████████████████████████████████████████████████████▌                                  | 797/991 [17:08<04:11,  1.29s/batch, batch_loss=41.1, batch_index=797, batch_size=256]"
     ]
    },
    {
     "name": "stderr",
     "output_type": "stream",
     "text": [
      "\r",
      "Epoch 1/10:  80%|██████████████████████████████████████████████████████████████████████████████████████████████████████████████████████████████████████████████▎                                  | 797/991 [17:09<04:11,  1.29s/batch, batch_loss=353, batch_index=798, batch_size=256]"
     ]
    },
    {
     "name": "stderr",
     "output_type": "stream",
     "text": [
      "\r",
      "Epoch 1/10:  81%|██████████████████████████████████████████████████████████████████████████████████████████████████████████████████████████████████████████████▌                                  | 798/991 [17:09<04:09,  1.29s/batch, batch_loss=353, batch_index=798, batch_size=256]"
     ]
    },
    {
     "name": "stderr",
     "output_type": "stream",
     "text": [
      "\r",
      "Epoch 1/10:  81%|█████████████████████████████████████████████████████████████████████████████████████████████████████████████████████████████████████████████▋                                  | 798/991 [17:10<04:09,  1.29s/batch, batch_loss=14.4, batch_index=799, batch_size=256]"
     ]
    },
    {
     "name": "stderr",
     "output_type": "stream",
     "text": [
      "\r",
      "Epoch 1/10:  81%|█████████████████████████████████████████████████████████████████████████████████████████████████████████████████████████████████████████████▉                                  | 799/991 [17:10<04:08,  1.29s/batch, batch_loss=14.4, batch_index=799, batch_size=256]"
     ]
    },
    {
     "name": "stderr",
     "output_type": "stream",
     "text": [
      "\r",
      "Epoch 1/10:  81%|█████████████████████████████████████████████████████████████████████████████████████████████████████████████████████████████████████████████▉                                  | 799/991 [17:12<04:08,  1.29s/batch, batch_loss=38.1, batch_index=800, batch_size=256]"
     ]
    },
    {
     "name": "stderr",
     "output_type": "stream",
     "text": [
      "\r",
      "Epoch 1/10:  81%|██████████████████████████████████████████████████████████████████████████████████████████████████████████████████████████████████████████████                                  | 800/991 [17:12<04:06,  1.29s/batch, batch_loss=38.1, batch_index=800, batch_size=256]"
     ]
    },
    {
     "name": "stderr",
     "output_type": "stream",
     "text": [
      "\r",
      "Epoch 1/10:  81%|██████████████████████████████████████████████████████████████████████████████████████████████████████████████████████████████████████████████                                  | 800/991 [17:13<04:06,  1.29s/batch, batch_loss=15.4, batch_index=801, batch_size=256]"
     ]
    },
    {
     "name": "stderr",
     "output_type": "stream",
     "text": [
      "\r",
      "Epoch 1/10:  81%|██████████████████████████████████████████████████████████████████████████████████████████████████████████████████████████████████████████████▎                                 | 801/991 [17:13<04:05,  1.29s/batch, batch_loss=15.4, batch_index=801, batch_size=256]"
     ]
    },
    {
     "name": "stderr",
     "output_type": "stream",
     "text": [
      "\r",
      "Epoch 1/10:  81%|███████████████████████████████████████████████████████████████████████████████████████████████████████████████████████████████████████████████▊                                  | 801/991 [17:14<04:05,  1.29s/batch, batch_loss=19, batch_index=802, batch_size=256]"
     ]
    },
    {
     "name": "stderr",
     "output_type": "stream",
     "text": [
      "\r",
      "Epoch 1/10:  81%|████████████████████████████████████████████████████████████████████████████████████████████████████████████████████████████████████████████████                                  | 802/991 [17:14<04:04,  1.29s/batch, batch_loss=19, batch_index=802, batch_size=256]"
     ]
    },
    {
     "name": "stderr",
     "output_type": "stream",
     "text": [
      "\r",
      "Epoch 1/10:  81%|██████████████████████████████████████████████████████████████████████████████████████████████████████████████████████████████████████████████▍                                 | 802/991 [17:16<04:04,  1.29s/batch, batch_loss=8.32, batch_index=803, batch_size=256]"
     ]
    },
    {
     "name": "stderr",
     "output_type": "stream",
     "text": [
      "\r",
      "Epoch 1/10:  81%|██████████████████████████████████████████████████████████████████████████████████████████████████████████████████████████████████████████████▌                                 | 803/991 [17:16<04:03,  1.30s/batch, batch_loss=8.32, batch_index=803, batch_size=256]"
     ]
    },
    {
     "name": "stderr",
     "output_type": "stream",
     "text": [
      "\r",
      "Epoch 1/10:  81%|██████████████████████████████████████████████████████████████████████████████████████████████████████████████████████████████████████████████▌                                 | 803/991 [17:17<04:03,  1.30s/batch, batch_loss=22.4, batch_index=804, batch_size=256]"
     ]
    },
    {
     "name": "stderr",
     "output_type": "stream",
     "text": [
      "\r",
      "Epoch 1/10:  81%|██████████████████████████████████████████████████████████████████████████████████████████████████████████████████████████████████████████████▊                                 | 804/991 [17:17<04:01,  1.29s/batch, batch_loss=22.4, batch_index=804, batch_size=256]"
     ]
    },
    {
     "name": "stderr",
     "output_type": "stream",
     "text": [
      "\r",
      "Epoch 1/10:  81%|██████████████████████████████████████████████████████████████████████████████████████████████████████████████████████████████████████████████▊                                 | 804/991 [17:18<04:01,  1.29s/batch, batch_loss=9.86, batch_index=805, batch_size=256]"
     ]
    },
    {
     "name": "stderr",
     "output_type": "stream",
     "text": [
      "\r",
      "Epoch 1/10:  81%|██████████████████████████████████████████████████████████████████████████████████████████████████████████████████████████████████████████████▉                                 | 805/991 [17:18<04:00,  1.29s/batch, batch_loss=9.86, batch_index=805, batch_size=256]"
     ]
    },
    {
     "name": "stderr",
     "output_type": "stream",
     "text": [
      "\r",
      "Epoch 1/10:  81%|██████████████████████████████████████████████████████████████████████████████████████████████████████████████████████████████████████████████▉                                 | 805/991 [17:19<04:00,  1.29s/batch, batch_loss=14.9, batch_index=806, batch_size=256]"
     ]
    },
    {
     "name": "stderr",
     "output_type": "stream",
     "text": [
      "\r",
      "Epoch 1/10:  81%|███████████████████████████████████████████████████████████████████████████████████████████████████████████████████████████████████████████████▏                                | 806/991 [17:19<03:58,  1.29s/batch, batch_loss=14.9, batch_index=806, batch_size=256]"
     ]
    },
    {
     "name": "stderr",
     "output_type": "stream",
     "text": [
      "\r",
      "Epoch 1/10:  81%|███████████████████████████████████████████████████████████████████████████████████████████████████████████████████████████████████████████████▏                                | 806/991 [17:21<03:58,  1.29s/batch, batch_loss=12.6, batch_index=807, batch_size=256]"
     ]
    },
    {
     "name": "stderr",
     "output_type": "stream",
     "text": [
      "\r",
      "Epoch 1/10:  81%|███████████████████████████████████████████████████████████████████████████████████████████████████████████████████████████████████████████████▎                                | 807/991 [17:21<03:57,  1.29s/batch, batch_loss=12.6, batch_index=807, batch_size=256]"
     ]
    },
    {
     "name": "stderr",
     "output_type": "stream",
     "text": [
      "\r",
      "Epoch 1/10:  81%|███████████████████████████████████████████████████████████████████████████████████████████████████████████████████████████████████████████████▎                                | 807/991 [17:22<03:57,  1.29s/batch, batch_loss=26.6, batch_index=808, batch_size=256]"
     ]
    },
    {
     "name": "stderr",
     "output_type": "stream",
     "text": [
      "\r",
      "Epoch 1/10:  82%|███████████████████████████████████████████████████████████████████████████████████████████████████████████████████████████████████████████████▍                                | 808/991 [17:22<03:56,  1.29s/batch, batch_loss=26.6, batch_index=808, batch_size=256]"
     ]
    },
    {
     "name": "stderr",
     "output_type": "stream",
     "text": [
      "\r",
      "Epoch 1/10:  82%|█████████████████████████████████████████████████████████████████████████████████████████████████████████████████████████████████████████████▊                                | 808/991 [17:23<03:56,  1.29s/batch, batch_loss=1.2e+4, batch_index=809, batch_size=256]"
     ]
    },
    {
     "name": "stderr",
     "output_type": "stream",
     "text": [
      "\r",
      "Epoch 1/10:  82%|██████████████████████████████████████████████████████████████████████████████████████████████████████████████████████████████████████████████                                | 809/991 [17:23<03:55,  1.29s/batch, batch_loss=1.2e+4, batch_index=809, batch_size=256]"
     ]
    },
    {
     "name": "stderr",
     "output_type": "stream",
     "text": [
      "\r",
      "Epoch 1/10:  82%|███████████████████████████████████████████████████████████████████████████████████████████████████████████████████████████████████████████████▋                                | 809/991 [17:25<03:55,  1.29s/batch, batch_loss=22.7, batch_index=810, batch_size=256]"
     ]
    },
    {
     "name": "stderr",
     "output_type": "stream",
     "text": [
      "\r",
      "Epoch 1/10:  82%|███████████████████████████████████████████████████████████████████████████████████████████████████████████████████████████████████████████████▊                                | 810/991 [17:25<03:54,  1.30s/batch, batch_loss=22.7, batch_index=810, batch_size=256]"
     ]
    },
    {
     "name": "stderr",
     "output_type": "stream",
     "text": [
      "\r",
      "Epoch 1/10:  82%|███████████████████████████████████████████████████████████████████████████████████████████████████████████████████████████████████████████████▊                                | 810/991 [17:26<03:54,  1.30s/batch, batch_loss=12.4, batch_index=811, batch_size=256]"
     ]
    },
    {
     "name": "stderr",
     "output_type": "stream",
     "text": [
      "\r",
      "Epoch 1/10:  82%|████████████████████████████████████████████████████████████████████████████████████████████████████████████████████████████████████████████████                                | 811/991 [17:26<03:53,  1.30s/batch, batch_loss=12.4, batch_index=811, batch_size=256]"
     ]
    },
    {
     "name": "stderr",
     "output_type": "stream",
     "text": [
      "\r",
      "Epoch 1/10:  82%|████████████████████████████████████████████████████████████████████████████████████████████████████████████████████████████████████████████████                                | 811/991 [17:27<03:53,  1.30s/batch, batch_loss=9.85, batch_index=812, batch_size=256]"
     ]
    },
    {
     "name": "stderr",
     "output_type": "stream",
     "text": [
      "\r",
      "Epoch 1/10:  82%|████████████████████████████████████████████████████████████████████████████████████████████████████████████████████████████████████████████████▏                               | 812/991 [17:27<03:51,  1.30s/batch, batch_loss=9.85, batch_index=812, batch_size=256]"
     ]
    },
    {
     "name": "stderr",
     "output_type": "stream",
     "text": [
      "\r",
      "Epoch 1/10:  82%|████████████████████████████████████████████████████████████████████████████████████████████████████████████████████████████████████████████████▏                               | 812/991 [17:29<03:51,  1.30s/batch, batch_loss=11.3, batch_index=813, batch_size=256]"
     ]
    },
    {
     "name": "stderr",
     "output_type": "stream",
     "text": [
      "\r",
      "Epoch 1/10:  82%|████████████████████████████████████████████████████████████████████████████████████████████████████████████████████████████████████████████████▍                               | 813/991 [17:29<03:47,  1.28s/batch, batch_loss=11.3, batch_index=813, batch_size=256]"
     ]
    },
    {
     "name": "stderr",
     "output_type": "stream",
     "text": [
      "\r",
      "Epoch 1/10:  82%|██████████████████████████████████████████████████████████████████████████████████████████████████████████████████████████████████████████████████                                | 813/991 [17:30<03:47,  1.28s/batch, batch_loss=18, batch_index=814, batch_size=256]"
     ]
    },
    {
     "name": "stderr",
     "output_type": "stream",
     "text": [
      "\r",
      "Epoch 1/10:  82%|██████████████████████████████████████████████████████████████████████████████████████████████████████████████████████████████████████████████████▏                               | 814/991 [17:30<03:46,  1.28s/batch, batch_loss=18, batch_index=814, batch_size=256]"
     ]
    },
    {
     "name": "stderr",
     "output_type": "stream",
     "text": [
      "\r",
      "Epoch 1/10:  82%|████████████████████████████████████████████████████████████████████████████████████████████████████████████████████████████████████████████████▌                               | 814/991 [17:31<03:46,  1.28s/batch, batch_loss=11.9, batch_index=815, batch_size=256]"
     ]
    },
    {
     "name": "stderr",
     "output_type": "stream",
     "text": [
      "\r",
      "Epoch 1/10:  82%|████████████████████████████████████████████████████████████████████████████████████████████████████████████████████████████████████████████████▋                               | 815/991 [17:31<03:45,  1.28s/batch, batch_loss=11.9, batch_index=815, batch_size=256]"
     ]
    },
    {
     "name": "stderr",
     "output_type": "stream",
     "text": [
      "\r",
      "Epoch 1/10:  82%|████████████████████████████████████████████████████████████████████████████████████████████████████████████████████████████████████████████████▋                               | 815/991 [17:32<03:45,  1.28s/batch, batch_loss=95.5, batch_index=816, batch_size=256]"
     ]
    },
    {
     "name": "stderr",
     "output_type": "stream",
     "text": [
      "\r",
      "Epoch 1/10:  82%|████████████████████████████████████████████████████████████████████████████████████████████████████████████████████████████████████████████████▉                               | 816/991 [17:32<03:45,  1.29s/batch, batch_loss=95.5, batch_index=816, batch_size=256]"
     ]
    },
    {
     "name": "stderr",
     "output_type": "stream",
     "text": [
      "\r",
      "Epoch 1/10:  82%|█████████████████████████████████████████████████████████████████████████████████████████████████████████████████████████████████████████████████▋                               | 816/991 [17:34<03:45,  1.29s/batch, batch_loss=373, batch_index=817, batch_size=256]"
     ]
    },
    {
     "name": "stderr",
     "output_type": "stream",
     "text": [
      "\r",
      "Epoch 1/10:  82%|█████████████████████████████████████████████████████████████████████████████████████████████████████████████████████████████████████████████████▉                               | 817/991 [17:34<03:44,  1.29s/batch, batch_loss=373, batch_index=817, batch_size=256]"
     ]
    },
    {
     "name": "stderr",
     "output_type": "stream",
     "text": [
      "\r",
      "Epoch 1/10:  82%|█████████████████████████████████████████████████████████████████████████████████████████████████████████████████████████████████████████████████▉                               | 817/991 [17:35<03:44,  1.29s/batch, batch_loss=382, batch_index=818, batch_size=256]"
     ]
    },
    {
     "name": "stderr",
     "output_type": "stream",
     "text": [
      "\r",
      "Epoch 1/10:  83%|██████████████████████████████████████████████████████████████████████████████████████████████████████████████████████████████████████████████████                               | 818/991 [17:35<03:44,  1.29s/batch, batch_loss=382, batch_index=818, batch_size=256]"
     ]
    },
    {
     "name": "stderr",
     "output_type": "stream",
     "text": [
      "\r",
      "Epoch 1/10:  83%|█████████████████████████████████████████████████████████████████████████████████████████████████████████████████████████████████████████████████▎                              | 818/991 [17:36<03:44,  1.29s/batch, batch_loss=14.4, batch_index=819, batch_size=256]"
     ]
    },
    {
     "name": "stderr",
     "output_type": "stream",
     "text": [
      "\r",
      "Epoch 1/10:  83%|█████████████████████████████████████████████████████████████████████████████████████████████████████████████████████████████████████████████████▍                              | 819/991 [17:36<03:42,  1.30s/batch, batch_loss=14.4, batch_index=819, batch_size=256]"
     ]
    },
    {
     "name": "stderr",
     "output_type": "stream",
     "text": [
      "\r",
      "Epoch 1/10:  83%|█████████████████████████████████████████████████████████████████████████████████████████████████████████████████████████████████████████████████▍                              | 819/991 [17:38<03:42,  1.30s/batch, batch_loss=9.28, batch_index=820, batch_size=256]"
     ]
    },
    {
     "name": "stderr",
     "output_type": "stream",
     "text": [
      "\r",
      "Epoch 1/10:  83%|█████████████████████████████████████████████████████████████████████████████████████████████████████████████████████████████████████████████████▋                              | 820/991 [17:38<03:41,  1.29s/batch, batch_loss=9.28, batch_index=820, batch_size=256]"
     ]
    },
    {
     "name": "stderr",
     "output_type": "stream",
     "text": [
      "\r",
      "Epoch 1/10:  83%|█████████████████████████████████████████████████████████████████████████████████████████████████████████████████████████████████████████████████▋                              | 820/991 [17:39<03:41,  1.29s/batch, batch_loss=7.97, batch_index=821, batch_size=256]"
     ]
    },
    {
     "name": "stderr",
     "output_type": "stream",
     "text": [
      "\r",
      "Epoch 1/10:  83%|█████████████████████████████████████████████████████████████████████████████████████████████████████████████████████████████████████████████████▊                              | 821/991 [17:39<03:39,  1.29s/batch, batch_loss=7.97, batch_index=821, batch_size=256]"
     ]
    },
    {
     "name": "stderr",
     "output_type": "stream",
     "text": [
      "\r",
      "Epoch 1/10:  83%|█████████████████████████████████████████████████████████████████████████████████████████████████████████████████████████████████████████████████▊                              | 821/991 [17:40<03:39,  1.29s/batch, batch_loss=11.9, batch_index=822, batch_size=256]"
     ]
    },
    {
     "name": "stderr",
     "output_type": "stream",
     "text": [
      "\r",
      "Epoch 1/10:  83%|█████████████████████████████████████████████████████████████████████████████████████████████████████████████████████████████████████████████████▉                              | 822/991 [17:40<03:39,  1.30s/batch, batch_loss=11.9, batch_index=822, batch_size=256]"
     ]
    },
    {
     "name": "stderr",
     "output_type": "stream",
     "text": [
      "\r",
      "Epoch 1/10:  83%|██████████████████████████████████████████████████████████████████████████████████████████████████████████████████████████████████████████████████▊                              | 822/991 [17:41<03:39,  1.30s/batch, batch_loss=155, batch_index=823, batch_size=256]"
     ]
    },
    {
     "name": "stderr",
     "output_type": "stream",
     "text": [
      "\r",
      "Epoch 1/10:  83%|██████████████████████████████████████████████████████████████████████████████████████████████████████████████████████████████████████████████████▉                              | 823/991 [17:41<03:37,  1.30s/batch, batch_loss=155, batch_index=823, batch_size=256]"
     ]
    },
    {
     "name": "stderr",
     "output_type": "stream",
     "text": [
      "\r",
      "Epoch 1/10:  83%|██████████████████████████████████████████████████████████████████████████████████████████████████████████████████████████████████████████████████▏                             | 823/991 [17:43<03:37,  1.30s/batch, batch_loss=8.53, batch_index=824, batch_size=256]"
     ]
    },
    {
     "name": "stderr",
     "output_type": "stream",
     "text": [
      "\r",
      "Epoch 1/10:  83%|██████████████████████████████████████████████████████████████████████████████████████████████████████████████████████████████████████████████████▎                             | 824/991 [17:43<03:36,  1.30s/batch, batch_loss=8.53, batch_index=824, batch_size=256]"
     ]
    },
    {
     "name": "stderr",
     "output_type": "stream",
     "text": [
      "\r",
      "Epoch 1/10:  83%|████████████████████████████████████████████████████████████████████████████████████████████████████████████████████████████████████████████████████                              | 824/991 [17:44<03:36,  1.30s/batch, batch_loss=16, batch_index=825, batch_size=256]"
     ]
    },
    {
     "name": "stderr",
     "output_type": "stream",
     "text": [
      "\r",
      "Epoch 1/10:  83%|████████████████████████████████████████████████████████████████████████████████████████████████████████████████████████████████████████████████████▏                             | 825/991 [17:44<03:35,  1.30s/batch, batch_loss=16, batch_index=825, batch_size=256]"
     ]
    },
    {
     "name": "stderr",
     "output_type": "stream",
     "text": [
      "\r",
      "Epoch 1/10:  83%|████████████████████████████████████████████████████████████████████████████████████████████████████████████████████████████████████████████████▊                             | 825/991 [17:45<03:35,  1.30s/batch, batch_loss=2.6e+3, batch_index=826, batch_size=256]"
     ]
    },
    {
     "name": "stderr",
     "output_type": "stream",
     "text": [
      "\r",
      "Epoch 1/10:  83%|█████████████████████████████████████████████████████████████████████████████████████████████████████████████████████████████████████████████████                             | 826/991 [17:45<03:34,  1.30s/batch, batch_loss=2.6e+3, batch_index=826, batch_size=256]"
     ]
    },
    {
     "name": "stderr",
     "output_type": "stream",
     "text": [
      "\r",
      "Epoch 1/10:  83%|██████████████████████████████████████████████████████████████████████████████████████████████████████████████████████████████████████████████████▋                             | 826/991 [17:47<03:34,  1.30s/batch, batch_loss=27.3, batch_index=827, batch_size=256]"
     ]
    },
    {
     "name": "stderr",
     "output_type": "stream",
     "text": [
      "\r",
      "Epoch 1/10:  83%|██████████████████████████████████████████████████████████████████████████████████████████████████████████████████████████████████████████████████▊                             | 827/991 [17:47<03:32,  1.30s/batch, batch_loss=27.3, batch_index=827, batch_size=256]"
     ]
    },
    {
     "name": "stderr",
     "output_type": "stream",
     "text": [
      "\r",
      "Epoch 1/10:  83%|██████████████████████████████████████████████████████████████████████████████████████████████████████████████████████████████████████████████████▊                             | 827/991 [17:48<03:32,  1.30s/batch, batch_loss=42.1, batch_index=828, batch_size=256]"
     ]
    },
    {
     "name": "stderr",
     "output_type": "stream",
     "text": [
      "\r",
      "Epoch 1/10:  84%|███████████████████████████████████████████████████████████████████████████████████████████████████████████████████████████████████████████████████                             | 828/991 [17:48<03:31,  1.30s/batch, batch_loss=42.1, batch_index=828, batch_size=256]"
     ]
    },
    {
     "name": "stderr",
     "output_type": "stream",
     "text": [
      "\r",
      "Epoch 1/10:  84%|███████████████████████████████████████████████████████████████████████████████████████████████████████████████████████████████████████████████████                             | 828/991 [17:49<03:31,  1.30s/batch, batch_loss=10.1, batch_index=829, batch_size=256]"
     ]
    },
    {
     "name": "stderr",
     "output_type": "stream",
     "text": [
      "\r",
      "Epoch 1/10:  84%|███████████████████████████████████████████████████████████████████████████████████████████████████████████████████████████████████████████████████▏                            | 829/991 [17:49<03:29,  1.30s/batch, batch_loss=10.1, batch_index=829, batch_size=256]"
     ]
    },
    {
     "name": "stderr",
     "output_type": "stream",
     "text": [
      "\r",
      "Epoch 1/10:  84%|███████████████████████████████████████████████████████████████████████████████████████████████████████████████████████████████████████████████████▏                            | 829/991 [17:51<03:29,  1.30s/batch, batch_loss=18.5, batch_index=830, batch_size=256]"
     ]
    },
    {
     "name": "stderr",
     "output_type": "stream",
     "text": [
      "\r",
      "Epoch 1/10:  84%|███████████████████████████████████████████████████████████████████████████████████████████████████████████████████████████████████████████████████▍                            | 830/991 [17:51<03:27,  1.29s/batch, batch_loss=18.5, batch_index=830, batch_size=256]"
     ]
    },
    {
     "name": "stderr",
     "output_type": "stream",
     "text": [
      "\r",
      "Epoch 1/10:  84%|███████████████████████████████████████████████████████████████████████████████████████████████████████████████████████████████████████████████████▍                            | 830/991 [17:52<03:27,  1.29s/batch, batch_loss=14.8, batch_index=831, batch_size=256]"
     ]
    },
    {
     "name": "stderr",
     "output_type": "stream",
     "text": [
      "\r",
      "Epoch 1/10:  84%|███████████████████████████████████████████████████████████████████████████████████████████████████████████████████████████████████████████████████▌                            | 831/991 [17:52<03:27,  1.30s/batch, batch_loss=14.8, batch_index=831, batch_size=256]"
     ]
    },
    {
     "name": "stderr",
     "output_type": "stream",
     "text": [
      "\r",
      "Epoch 1/10:  84%|███████████████████████████████████████████████████████████████████████████████████████████████████████████████████████████████████████████████████▌                            | 831/991 [17:53<03:27,  1.30s/batch, batch_loss=23.5, batch_index=832, batch_size=256]"
     ]
    },
    {
     "name": "stderr",
     "output_type": "stream",
     "text": [
      "\r",
      "Epoch 1/10:  84%|███████████████████████████████████████████████████████████████████████████████████████████████████████████████████████████████████████████████████▊                            | 832/991 [17:53<03:25,  1.29s/batch, batch_loss=23.5, batch_index=832, batch_size=256]"
     ]
    },
    {
     "name": "stderr",
     "output_type": "stream",
     "text": [
      "\r",
      "Epoch 1/10:  84%|████████████████████████████████████████████████████████████████████████████████████████████████████████████████████████████████████████████████████▌                            | 832/991 [17:54<03:25,  1.29s/batch, batch_loss=231, batch_index=833, batch_size=256]"
     ]
    },
    {
     "name": "stderr",
     "output_type": "stream",
     "text": [
      "\r",
      "Epoch 1/10:  84%|████████████████████████████████████████████████████████████████████████████████████████████████████████████████████████████████████████████████████▊                            | 833/991 [17:54<03:23,  1.29s/batch, batch_loss=231, batch_index=833, batch_size=256]"
     ]
    },
    {
     "name": "stderr",
     "output_type": "stream",
     "text": [
      "\r",
      "Epoch 1/10:  84%|███████████████████████████████████████████████████████████████████████████████████████████████████████████████████████████████████████████████████▉                            | 833/991 [17:56<03:23,  1.29s/batch, batch_loss=35.5, batch_index=834, batch_size=256]"
     ]
    },
    {
     "name": "stderr",
     "output_type": "stream",
     "text": [
      "\r",
      "Epoch 1/10:  84%|████████████████████████████████████████████████████████████████████████████████████████████████████████████████████████████████████████████████████                            | 834/991 [17:56<03:22,  1.29s/batch, batch_loss=35.5, batch_index=834, batch_size=256]"
     ]
    },
    {
     "name": "stderr",
     "output_type": "stream",
     "text": [
      "\r",
      "Epoch 1/10:  84%|████████████████████████████████████████████████████████████████████████████████████████████████████████████████████████████████████████████████████                            | 834/991 [17:57<03:22,  1.29s/batch, batch_loss=20.8, batch_index=835, batch_size=256]"
     ]
    },
    {
     "name": "stderr",
     "output_type": "stream",
     "text": [
      "\r",
      "Epoch 1/10:  84%|████████████████████████████████████████████████████████████████████████████████████████████████████████████████████████████████████████████████████▎                           | 835/991 [17:57<03:20,  1.29s/batch, batch_loss=20.8, batch_index=835, batch_size=256]"
     ]
    },
    {
     "name": "stderr",
     "output_type": "stream",
     "text": [
      "\r",
      "Epoch 1/10:  84%|█████████████████████████████████████████████████████████████████████████████████████████████████████████████████████████████████████████████████▊                           | 835/991 [17:58<03:20,  1.29s/batch, batch_loss=3.27e+3, batch_index=836, batch_size=256]"
     ]
    },
    {
     "name": "stderr",
     "output_type": "stream",
     "text": [
      "\r",
      "Epoch 1/10:  84%|█████████████████████████████████████████████████████████████████████████████████████████████████████████████████████████████████████████████████▉                           | 836/991 [17:58<03:19,  1.29s/batch, batch_loss=3.27e+3, batch_index=836, batch_size=256]"
     ]
    },
    {
     "name": "stderr",
     "output_type": "stream",
     "text": [
      "\r",
      "Epoch 1/10:  84%|██████████████████████████████████████████████████████████████████████████████████████████████████████████████████████████████████████████████████▊                           | 836/991 [18:00<03:19,  1.29s/batch, batch_loss=4.9e+3, batch_index=837, batch_size=256]"
     ]
    },
    {
     "name": "stderr",
     "output_type": "stream",
     "text": [
      "\r",
      "Epoch 1/10:  84%|██████████████████████████████████████████████████████████████████████████████████████████████████████████████████████████████████████████████████▉                           | 837/991 [18:00<03:18,  1.29s/batch, batch_loss=4.9e+3, batch_index=837, batch_size=256]"
     ]
    },
    {
     "name": "stderr",
     "output_type": "stream",
     "text": [
      "\r",
      "Epoch 1/10:  84%|████████████████████████████████████████████████████████████████████████████████████████████████████████████████████████████████████████████████████▋                           | 837/991 [18:01<03:18,  1.29s/batch, batch_loss=26.3, batch_index=838, batch_size=256]"
     ]
    },
    {
     "name": "stderr",
     "output_type": "stream",
     "text": [
      "\r",
      "Epoch 1/10:  85%|████████████████████████████████████████████████████████████████████████████████████████████████████████████████████████████████████████████████████▊                           | 838/991 [18:01<03:17,  1.29s/batch, batch_loss=26.3, batch_index=838, batch_size=256]"
     ]
    },
    {
     "name": "stderr",
     "output_type": "stream",
     "text": [
      "\r",
      "Epoch 1/10:  85%|████████████████████████████████████████████████████████████████████████████████████████████████████████████████████████████████████████████████████▊                           | 838/991 [18:02<03:17,  1.29s/batch, batch_loss=8.32, batch_index=839, batch_size=256]"
     ]
    },
    {
     "name": "stderr",
     "output_type": "stream",
     "text": [
      "\r",
      "Epoch 1/10:  85%|█████████████████████████████████████████████████████████████████████████████████████████████████████████████████████████████████████████████████████                           | 839/991 [18:02<03:16,  1.30s/batch, batch_loss=8.32, batch_index=839, batch_size=256]"
     ]
    },
    {
     "name": "stderr",
     "output_type": "stream",
     "text": [
      "\r",
      "Epoch 1/10:  85%|█████████████████████████████████████████████████████████████████████████████████████████████████████████████████████████████████████████████████████                           | 839/991 [18:03<03:16,  1.30s/batch, batch_loss=6.96, batch_index=840, batch_size=256]"
     ]
    },
    {
     "name": "stderr",
     "output_type": "stream",
     "text": [
      "\r",
      "Epoch 1/10:  85%|█████████████████████████████████████████████████████████████████████████████████████████████████████████████████████████████████████████████████████▏                          | 840/991 [18:03<03:12,  1.27s/batch, batch_loss=6.96, batch_index=840, batch_size=256]"
     ]
    },
    {
     "name": "stderr",
     "output_type": "stream",
     "text": [
      "\r",
      "Epoch 1/10:  85%|█████████████████████████████████████████████████████████████████████████████████████████████████████████████████████████████████████████████████████▏                          | 840/991 [18:05<03:12,  1.27s/batch, batch_loss=32.1, batch_index=841, batch_size=256]"
     ]
    },
    {
     "name": "stderr",
     "output_type": "stream",
     "text": [
      "\r",
      "Epoch 1/10:  85%|█████████████████████████████████████████████████████████████████████████████████████████████████████████████████████████████████████████████████████▎                          | 841/991 [18:05<03:11,  1.28s/batch, batch_loss=32.1, batch_index=841, batch_size=256]"
     ]
    },
    {
     "name": "stderr",
     "output_type": "stream",
     "text": [
      "\r",
      "Epoch 1/10:  85%|█████████████████████████████████████████████████████████████████████████████████████████████████████████████████████████████████████████████████████▎                          | 841/991 [18:06<03:11,  1.28s/batch, batch_loss=23.4, batch_index=842, batch_size=256]"
     ]
    },
    {
     "name": "stderr",
     "output_type": "stream",
     "text": [
      "\r",
      "Epoch 1/10:  85%|█████████████████████████████████████████████████████████████████████████████████████████████████████████████████████████████████████████████████████▌                          | 842/991 [18:06<03:11,  1.28s/batch, batch_loss=23.4, batch_index=842, batch_size=256]"
     ]
    },
    {
     "name": "stderr",
     "output_type": "stream",
     "text": [
      "\r",
      "Epoch 1/10:  85%|█████████████████████████████████████████████████████████████████████████████████████████████████████████████████████████████████████████████████████▌                          | 842/991 [18:07<03:11,  1.28s/batch, batch_loss=11.1, batch_index=843, batch_size=256]"
     ]
    },
    {
     "name": "stderr",
     "output_type": "stream",
     "text": [
      "\r",
      "Epoch 1/10:  85%|█████████████████████████████████████████████████████████████████████████████████████████████████████████████████████████████████████████████████████▋                          | 843/991 [18:07<03:10,  1.28s/batch, batch_loss=11.1, batch_index=843, batch_size=256]"
     ]
    },
    {
     "name": "stderr",
     "output_type": "stream",
     "text": [
      "\r",
      "Epoch 1/10:  85%|████████████████████████████████████████████████████████████████████████████████████████████████████████████████████████████████████████████████████                          | 843/991 [18:09<03:10,  1.28s/batch, batch_loss=1.7e+3, batch_index=844, batch_size=256]"
     ]
    },
    {
     "name": "stderr",
     "output_type": "stream",
     "text": [
      "\r",
      "Epoch 1/10:  85%|████████████████████████████████████████████████████████████████████████████████████████████████████████████████████████████████████████████████████▏                         | 844/991 [18:09<03:09,  1.29s/batch, batch_loss=1.7e+3, batch_index=844, batch_size=256]"
     ]
    },
    {
     "name": "stderr",
     "output_type": "stream",
     "text": [
      "\r",
      "Epoch 1/10:  85%|█████████████████████████████████████████████████████████████████████████████████████████████████████████████████████████████████████████████████████▉                          | 844/991 [18:10<03:09,  1.29s/batch, batch_loss=30.3, batch_index=845, batch_size=256]"
     ]
    },
    {
     "name": "stderr",
     "output_type": "stream",
     "text": [
      "\r",
      "Epoch 1/10:  85%|██████████████████████████████████████████████████████████████████████████████████████████████████████████████████████████████████████████████████████                          | 845/991 [18:10<03:08,  1.29s/batch, batch_loss=30.3, batch_index=845, batch_size=256]"
     ]
    },
    {
     "name": "stderr",
     "output_type": "stream",
     "text": [
      "\r",
      "Epoch 1/10:  85%|███████████████████████████████████████████████████████████████████████████████████████████████████████████████████████████████████████████████████▌                         | 845/991 [18:11<03:08,  1.29s/batch, batch_loss=1.17e+4, batch_index=846, batch_size=256]"
     ]
    },
    {
     "name": "stderr",
     "output_type": "stream",
     "text": [
      "\r",
      "Epoch 1/10:  85%|███████████████████████████████████████████████████████████████████████████████████████████████████████████████████████████████████████████████████▋                         | 846/991 [18:11<03:07,  1.29s/batch, batch_loss=1.17e+4, batch_index=846, batch_size=256]"
     ]
    },
    {
     "name": "stderr",
     "output_type": "stream",
     "text": [
      "\r",
      "Epoch 1/10:  85%|███████████████████████████████████████████████████████████████████████████████████████████████████████████████████████████████████████████████████████▉                          | 846/991 [18:12<03:07,  1.29s/batch, batch_loss=58, batch_index=847, batch_size=256]"
     ]
    },
    {
     "name": "stderr",
     "output_type": "stream",
     "text": [
      "\r",
      "Epoch 1/10:  85%|████████████████████████████████████████████████████████████████████████████████████████████████████████████████████████████████████████████████████████▏                         | 847/991 [18:12<03:06,  1.29s/batch, batch_loss=58, batch_index=847, batch_size=256]"
     ]
    },
    {
     "name": "stderr",
     "output_type": "stream",
     "text": [
      "\r",
      "Epoch 1/10:  85%|██████████████████████████████████████████████████████████████████████████████████████████████████████████████████████████████████████████████████████▍                         | 847/991 [18:14<03:06,  1.29s/batch, batch_loss=60.8, batch_index=848, batch_size=256]"
     ]
    },
    {
     "name": "stderr",
     "output_type": "stream",
     "text": [
      "\r",
      "Epoch 1/10:  86%|██████████████████████████████████████████████████████████████████████████████████████████████████████████████████████████████████████████████████████▌                         | 848/991 [18:14<03:05,  1.30s/batch, batch_loss=60.8, batch_index=848, batch_size=256]"
     ]
    },
    {
     "name": "stderr",
     "output_type": "stream",
     "text": [
      "\r",
      "Epoch 1/10:  86%|████████████████████████████████████████████████████████████████████████████████████████████████████████████████████████████████████████████████████                         | 848/991 [18:15<03:05,  1.30s/batch, batch_loss=1.04e+3, batch_index=849, batch_size=256]"
     ]
    },
    {
     "name": "stderr",
     "output_type": "stream",
     "text": [
      "\r",
      "Epoch 1/10:  86%|████████████████████████████████████████████████████████████████████████████████████████████████████████████████████████████████████████████████████▏                        | 849/991 [18:15<03:03,  1.29s/batch, batch_loss=1.04e+3, batch_index=849, batch_size=256]"
     ]
    },
    {
     "name": "stderr",
     "output_type": "stream",
     "text": [
      "\r",
      "Epoch 1/10:  86%|██████████████████████████████████████████████████████████████████████████████████████████████████████████████████████████████████████████████████████▊                         | 849/991 [18:16<03:03,  1.29s/batch, batch_loss=11.2, batch_index=850, batch_size=256]"
     ]
    },
    {
     "name": "stderr",
     "output_type": "stream",
     "text": [
      "\r",
      "Epoch 1/10:  86%|██████████████████████████████████████████████████████████████████████████████████████████████████████████████████████████████████████████████████████▉                         | 850/991 [18:16<03:02,  1.29s/batch, batch_loss=11.2, batch_index=850, batch_size=256]"
     ]
    },
    {
     "name": "stderr",
     "output_type": "stream",
     "text": [
      "\r",
      "Epoch 1/10:  86%|██████████████████████████████████████████████████████████████████████████████████████████████████████████████████████████████████████████████████████▉                         | 850/991 [18:18<03:02,  1.29s/batch, batch_loss=29.2, batch_index=851, batch_size=256]"
     ]
    },
    {
     "name": "stderr",
     "output_type": "stream",
     "text": [
      "\r",
      "Epoch 1/10:  86%|███████████████████████████████████████████████████████████████████████████████████████████████████████████████████████████████████████████████████████▏                        | 851/991 [18:18<03:00,  1.29s/batch, batch_loss=29.2, batch_index=851, batch_size=256]"
     ]
    },
    {
     "name": "stderr",
     "output_type": "stream",
     "text": [
      "\r",
      "Epoch 1/10:  86%|███████████████████████████████████████████████████████████████████████████████████████████████████████████████████████████████████████████████████████▏                        | 851/991 [18:19<03:00,  1.29s/batch, batch_loss=18.7, batch_index=852, batch_size=256]"
     ]
    },
    {
     "name": "stderr",
     "output_type": "stream",
     "text": [
      "\r",
      "Epoch 1/10:  86%|███████████████████████████████████████████████████████████████████████████████████████████████████████████████████████████████████████████████████████▎                        | 852/991 [18:19<02:59,  1.29s/batch, batch_loss=18.7, batch_index=852, batch_size=256]"
     ]
    },
    {
     "name": "stderr",
     "output_type": "stream",
     "text": [
      "\r",
      "Epoch 1/10:  86%|████████████████████████████████████████████████████████████████████████████████████████████████████████████████████████████████████████████████████▋                        | 852/991 [18:20<02:59,  1.29s/batch, batch_loss=7.62e+3, batch_index=853, batch_size=256]"
     ]
    },
    {
     "name": "stderr",
     "output_type": "stream",
     "text": [
      "\r",
      "Epoch 1/10:  86%|████████████████████████████████████████████████████████████████████████████████████████████████████████████████████████████████████████████████████▉                        | 853/991 [18:20<02:58,  1.29s/batch, batch_loss=7.62e+3, batch_index=853, batch_size=256]"
     ]
    },
    {
     "name": "stderr",
     "output_type": "stream",
     "text": [
      "\r",
      "Epoch 1/10:  86%|███████████████████████████████████████████████████████████████████████████████████████████████████████████████████████████████████████████████████████▍                        | 853/991 [18:21<02:58,  1.29s/batch, batch_loss=33.7, batch_index=854, batch_size=256]"
     ]
    },
    {
     "name": "stderr",
     "output_type": "stream",
     "text": [
      "\r",
      "Epoch 1/10:  86%|███████████████████████████████████████████████████████████████████████████████████████████████████████████████████████████████████████████████████████▋                        | 854/991 [18:21<02:56,  1.29s/batch, batch_loss=33.7, batch_index=854, batch_size=256]"
     ]
    },
    {
     "name": "stderr",
     "output_type": "stream",
     "text": [
      "\r",
      "Epoch 1/10:  86%|███████████████████████████████████████████████████████████████████████████████████████████████████████████████████████████████████████████████████████▋                        | 854/991 [18:23<02:56,  1.29s/batch, batch_loss=12.2, batch_index=855, batch_size=256]"
     ]
    },
    {
     "name": "stderr",
     "output_type": "stream",
     "text": [
      "\r",
      "Epoch 1/10:  86%|███████████████████████████████████████████████████████████████████████████████████████████████████████████████████████████████████████████████████████▊                        | 855/991 [18:23<02:55,  1.29s/batch, batch_loss=12.2, batch_index=855, batch_size=256]"
     ]
    },
    {
     "name": "stderr",
     "output_type": "stream",
     "text": [
      "\r",
      "Epoch 1/10:  86%|███████████████████████████████████████████████████████████████████████████████████████████████████████████████████████████████████████████████████████▊                        | 855/991 [18:24<02:55,  1.29s/batch, batch_loss=11.2, batch_index=856, batch_size=256]"
     ]
    },
    {
     "name": "stderr",
     "output_type": "stream",
     "text": [
      "\r",
      "Epoch 1/10:  86%|████████████████████████████████████████████████████████████████████████████████████████████████████████████████████████████████████████████████████████                        | 856/991 [18:24<02:54,  1.29s/batch, batch_loss=11.2, batch_index=856, batch_size=256]"
     ]
    },
    {
     "name": "stderr",
     "output_type": "stream",
     "text": [
      "\r",
      "Epoch 1/10:  86%|████████████████████████████████████████████████████████████████████████████████████████████████████████████████████████████████████████████████████████                        | 856/991 [18:25<02:54,  1.29s/batch, batch_loss=11.8, batch_index=857, batch_size=256]"
     ]
    },
    {
     "name": "stderr",
     "output_type": "stream",
     "text": [
      "\r",
      "Epoch 1/10:  86%|████████████████████████████████████████████████████████████████████████████████████████████████████████████████████████████████████████████████████████▏                       | 857/991 [18:25<02:52,  1.29s/batch, batch_loss=11.8, batch_index=857, batch_size=256]"
     ]
    },
    {
     "name": "stderr",
     "output_type": "stream",
     "text": [
      "\r",
      "Epoch 1/10:  86%|████████████████████████████████████████████████████████████████████████████████████████████████████████████████████████████████████████████████████████▏                       | 857/991 [18:27<02:52,  1.29s/batch, batch_loss=45.2, batch_index=858, batch_size=256]"
     ]
    },
    {
     "name": "stderr",
     "output_type": "stream",
     "text": [
      "\r",
      "Epoch 1/10:  87%|████████████████████████████████████████████████████████████████████████████████████████████████████████████████████████████████████████████████████████▍                       | 858/991 [18:27<02:51,  1.29s/batch, batch_loss=45.2, batch_index=858, batch_size=256]"
     ]
    },
    {
     "name": "stderr",
     "output_type": "stream",
     "text": [
      "\r",
      "Epoch 1/10:  87%|██████████████████████████████████████████████████████████████████████████████████████████████████████████████████████████████████████████████████████████                        | 858/991 [18:28<02:51,  1.29s/batch, batch_loss=26, batch_index=859, batch_size=256]"
     ]
    },
    {
     "name": "stderr",
     "output_type": "stream",
     "text": [
      "\r",
      "Epoch 1/10:  87%|██████████████████████████████████████████████████████████████████████████████████████████████████████████████████████████████████████████████████████████▎                       | 859/991 [18:28<02:51,  1.30s/batch, batch_loss=26, batch_index=859, batch_size=256]"
     ]
    },
    {
     "name": "stderr",
     "output_type": "stream",
     "text": [
      "\r",
      "Epoch 1/10:  87%|████████████████████████████████████████████████████████████████████████████████████████████████████████████████████████████████████████████████████████▌                       | 859/991 [18:29<02:51,  1.30s/batch, batch_loss=33.6, batch_index=860, batch_size=256]"
     ]
    },
    {
     "name": "stderr",
     "output_type": "stream",
     "text": [
      "\r",
      "Epoch 1/10:  87%|████████████████████████████████████████████████████████████████████████████████████████████████████████████████████████████████████████████████████████▋                       | 860/991 [18:29<02:49,  1.30s/batch, batch_loss=33.6, batch_index=860, batch_size=256]"
     ]
    },
    {
     "name": "stderr",
     "output_type": "stream",
     "text": [
      "\r",
      "Epoch 1/10:  87%|████████████████████████████████████████████████████████████████████████████████████████████████████████████████████████████████████████████████████████▋                       | 860/991 [18:31<02:49,  1.30s/batch, batch_loss=10.9, batch_index=861, batch_size=256]"
     ]
    },
    {
     "name": "stderr",
     "output_type": "stream",
     "text": [
      "\r",
      "Epoch 1/10:  87%|████████████████████████████████████████████████████████████████████████████████████████████████████████████████████████████████████████████████████████▉                       | 861/991 [18:31<02:49,  1.30s/batch, batch_loss=10.9, batch_index=861, batch_size=256]"
     ]
    },
    {
     "name": "stderr",
     "output_type": "stream",
     "text": [
      "\r",
      "Epoch 1/10:  87%|████████████████████████████████████████████████████████████████████████████████████████████████████████████████████████████████████████████████████████▉                       | 861/991 [18:32<02:49,  1.30s/batch, batch_loss=27.5, batch_index=862, batch_size=256]"
     ]
    },
    {
     "name": "stderr",
     "output_type": "stream",
     "text": [
      "\r",
      "Epoch 1/10:  87%|█████████████████████████████████████████████████████████████████████████████████████████████████████████████████████████████████████████████████████████                       | 862/991 [18:32<02:47,  1.30s/batch, batch_loss=27.5, batch_index=862, batch_size=256]"
     ]
    },
    {
     "name": "stderr",
     "output_type": "stream",
     "text": [
      "\r",
      "Epoch 1/10:  87%|█████████████████████████████████████████████████████████████████████████████████████████████████████████████████████████████████████████████████████████                       | 862/991 [18:33<02:47,  1.30s/batch, batch_loss=45.3, batch_index=863, batch_size=256]"
     ]
    },
    {
     "name": "stderr",
     "output_type": "stream",
     "text": [
      "\r",
      "Epoch 1/10:  87%|█████████████████████████████████████████████████████████████████████████████████████████████████████████████████████████████████████████████████████████▎                      | 863/991 [18:33<02:45,  1.29s/batch, batch_loss=45.3, batch_index=863, batch_size=256]"
     ]
    },
    {
     "name": "stderr",
     "output_type": "stream",
     "text": [
      "\r",
      "Epoch 1/10:  87%|█████████████████████████████████████████████████████████████████████████████████████████████████████████████████████████████████████████████████████████▎                      | 863/991 [18:34<02:45,  1.29s/batch, batch_loss=15.1, batch_index=864, batch_size=256]"
     ]
    },
    {
     "name": "stderr",
     "output_type": "stream",
     "text": [
      "\r",
      "Epoch 1/10:  87%|█████████████████████████████████████████████████████████████████████████████████████████████████████████████████████████████████████████████████████████▍                      | 864/991 [18:34<02:42,  1.28s/batch, batch_loss=15.1, batch_index=864, batch_size=256]"
     ]
    },
    {
     "name": "stderr",
     "output_type": "stream",
     "text": [
      "\r",
      "Epoch 1/10:  87%|█████████████████████████████████████████████████████████████████████████████████████████████████████████████████████████████████████████████████████████▍                      | 864/991 [18:36<02:42,  1.28s/batch, batch_loss=26.4, batch_index=865, batch_size=256]"
     ]
    },
    {
     "name": "stderr",
     "output_type": "stream",
     "text": [
      "\r",
      "Epoch 1/10:  87%|█████████████████████████████████████████████████████████████████████████████████████████████████████████████████████████████████████████████████████████▌                      | 865/991 [18:36<02:40,  1.27s/batch, batch_loss=26.4, batch_index=865, batch_size=256]"
     ]
    },
    {
     "name": "stderr",
     "output_type": "stream",
     "text": [
      "\r",
      "Epoch 1/10:  87%|█████████████████████████████████████████████████████████████████████████████████████████████████████████████████████████████████████████████████████████▌                      | 865/991 [18:37<02:40,  1.27s/batch, batch_loss=39.8, batch_index=866, batch_size=256]"
     ]
    },
    {
     "name": "stderr",
     "output_type": "stream",
     "text": [
      "\r",
      "Epoch 1/10:  87%|█████████████████████████████████████████████████████████████████████████████████████████████████████████████████████████████████████████████████████████▊                      | 866/991 [18:37<02:39,  1.28s/batch, batch_loss=39.8, batch_index=866, batch_size=256]"
     ]
    },
    {
     "name": "stderr",
     "output_type": "stream",
     "text": [
      "\r",
      "Epoch 1/10:  87%|█████████████████████████████████████████████████████████████████████████████████████████████████████████████████████████████████████████████████████████▊                      | 866/991 [18:38<02:39,  1.28s/batch, batch_loss=38.4, batch_index=867, batch_size=256]"
     ]
    },
    {
     "name": "stderr",
     "output_type": "stream",
     "text": [
      "\r",
      "Epoch 1/10:  87%|█████████████████████████████████████████████████████████████████████████████████████████████████████████████████████████████████████████████████████████▉                      | 867/991 [18:38<02:37,  1.27s/batch, batch_loss=38.4, batch_index=867, batch_size=256]"
     ]
    },
    {
     "name": "stderr",
     "output_type": "stream",
     "text": [
      "\r",
      "Epoch 1/10:  87%|█████████████████████████████████████████████████████████████████████████████████████████████████████████████████████████████████████████████████████████▉                      | 867/991 [18:39<02:37,  1.27s/batch, batch_loss=28.7, batch_index=868, batch_size=256]"
     ]
    },
    {
     "name": "stderr",
     "output_type": "stream",
     "text": [
      "\r",
      "Epoch 1/10:  88%|██████████████████████████████████████████████████████████████████████████████████████████████████████████████████████████████████████████████████████████▏                     | 868/991 [18:39<02:36,  1.28s/batch, batch_loss=28.7, batch_index=868, batch_size=256]"
     ]
    },
    {
     "name": "stderr",
     "output_type": "stream",
     "text": [
      "\r",
      "Epoch 1/10:  88%|██████████████████████████████████████████████████████████████████████████████████████████████████████████████████████████████████████████████████████████▏                     | 868/991 [18:41<02:36,  1.28s/batch, batch_loss=16.8, batch_index=869, batch_size=256]"
     ]
    },
    {
     "name": "stderr",
     "output_type": "stream",
     "text": [
      "\r",
      "Epoch 1/10:  88%|██████████████████████████████████████████████████████████████████████████████████████████████████████████████████████████████████████████████████████████▎                     | 869/991 [18:41<02:36,  1.28s/batch, batch_loss=16.8, batch_index=869, batch_size=256]"
     ]
    },
    {
     "name": "stderr",
     "output_type": "stream",
     "text": [
      "\r",
      "Epoch 1/10:  88%|██████████████████████████████████████████████████████████████████████████████████████████████████████████████████████████████████████████████████████████▎                     | 869/991 [18:42<02:36,  1.28s/batch, batch_loss=19.5, batch_index=870, batch_size=256]"
     ]
    },
    {
     "name": "stderr",
     "output_type": "stream",
     "text": [
      "\r",
      "Epoch 1/10:  88%|██████████████████████████████████████████████████████████████████████████████████████████████████████████████████████████████████████████████████████████▌                     | 870/991 [18:42<02:34,  1.28s/batch, batch_loss=19.5, batch_index=870, batch_size=256]"
     ]
    },
    {
     "name": "stderr",
     "output_type": "stream",
     "text": [
      "\r",
      "Epoch 1/10:  88%|██████████████████████████████████████████████████████████████████████████████████████████████████████████████████████████████████████████████████████████▌                     | 870/991 [18:43<02:34,  1.28s/batch, batch_loss=14.2, batch_index=871, batch_size=256]"
     ]
    },
    {
     "name": "stderr",
     "output_type": "stream",
     "text": [
      "\r",
      "Epoch 1/10:  88%|██████████████████████████████████████████████████████████████████████████████████████████████████████████████████████████████████████████████████████████▋                     | 871/991 [18:43<02:34,  1.28s/batch, batch_loss=14.2, batch_index=871, batch_size=256]"
     ]
    },
    {
     "name": "stderr",
     "output_type": "stream",
     "text": [
      "\r",
      "Epoch 1/10:  88%|██████████████████████████████████████████████████████████████████████████████████████████████████████████████████████████████████████████████████████████▋                     | 871/991 [18:45<02:34,  1.28s/batch, batch_loss=30.2, batch_index=872, batch_size=256]"
     ]
    },
    {
     "name": "stderr",
     "output_type": "stream",
     "text": [
      "\r",
      "Epoch 1/10:  88%|██████████████████████████████████████████████████████████████████████████████████████████████████████████████████████████████████████████████████████████▊                     | 872/991 [18:45<02:32,  1.28s/batch, batch_loss=30.2, batch_index=872, batch_size=256]"
     ]
    },
    {
     "name": "stderr",
     "output_type": "stream",
     "text": [
      "\r",
      "Epoch 1/10:  88%|████████████████████████████████████████████████████████████████████████████████████████████████████████████████████████████████████████████████████████████▋                     | 872/991 [18:46<02:32,  1.28s/batch, batch_loss=23, batch_index=873, batch_size=256]"
     ]
    },
    {
     "name": "stderr",
     "output_type": "stream",
     "text": [
      "\r",
      "Epoch 1/10:  88%|████████████████████████████████████████████████████████████████████████████████████████████████████████████████████████████████████████████████████████████▊                     | 873/991 [18:46<02:31,  1.29s/batch, batch_loss=23, batch_index=873, batch_size=256]"
     ]
    },
    {
     "name": "stderr",
     "output_type": "stream",
     "text": [
      "\r",
      "Epoch 1/10:  88%|████████████████████████████████████████████████████████████████████████████████████████████████████████████████████████████████████████████████████████████▊                     | 873/991 [18:47<02:31,  1.29s/batch, batch_loss=11, batch_index=874, batch_size=256]"
     ]
    },
    {
     "name": "stderr",
     "output_type": "stream",
     "text": [
      "\r",
      "Epoch 1/10:  88%|████████████████████████████████████████████████████████████████████████████████████████████████████████████████████████████████████████████████████████████▉                     | 874/991 [18:47<02:31,  1.29s/batch, batch_loss=11, batch_index=874, batch_size=256]"
     ]
    },
    {
     "name": "stderr",
     "output_type": "stream",
     "text": [
      "\r",
      "Epoch 1/10:  88%|███████████████████████████████████████████████████████████████████████████████████████████████████████████████████████████████████████████████████████████▏                    | 874/991 [18:49<02:31,  1.29s/batch, batch_loss=20.5, batch_index=875, batch_size=256]"
     ]
    },
    {
     "name": "stderr",
     "output_type": "stream",
     "text": [
      "\r",
      "Epoch 1/10:  88%|███████████████████████████████████████████████████████████████████████████████████████████████████████████████████████████████████████████████████████████▍                    | 875/991 [18:49<02:29,  1.29s/batch, batch_loss=20.5, batch_index=875, batch_size=256]"
     ]
    },
    {
     "name": "stderr",
     "output_type": "stream",
     "text": [
      "\r",
      "Epoch 1/10:  88%|███████████████████████████████████████████████████████████████████████████████████████████████████████████████████████████████████████████████████████████▍                    | 875/991 [18:50<02:29,  1.29s/batch, batch_loss=42.1, batch_index=876, batch_size=256]"
     ]
    },
    {
     "name": "stderr",
     "output_type": "stream",
     "text": [
      "\r",
      "Epoch 1/10:  88%|███████████████████████████████████████████████████████████████████████████████████████████████████████████████████████████████████████████████████████████▌                    | 876/991 [18:50<02:27,  1.29s/batch, batch_loss=42.1, batch_index=876, batch_size=256]"
     ]
    },
    {
     "name": "stderr",
     "output_type": "stream",
     "text": [
      "\r",
      "Epoch 1/10:  88%|███████████████████████████████████████████████████████████████████████████████████████████████████████████████████████████████████████████████████████████▌                    | 876/991 [18:51<02:27,  1.29s/batch, batch_loss=28.2, batch_index=877, batch_size=256]"
     ]
    },
    {
     "name": "stderr",
     "output_type": "stream",
     "text": [
      "\r",
      "Epoch 1/10:  88%|███████████████████████████████████████████████████████████████████████████████████████████████████████████████████████████████████████████████████████████▊                    | 877/991 [18:51<02:27,  1.29s/batch, batch_loss=28.2, batch_index=877, batch_size=256]"
     ]
    },
    {
     "name": "stderr",
     "output_type": "stream",
     "text": [
      "\r",
      "Epoch 1/10:  88%|███████████████████████████████████████████████████████████████████████████████████████████████████████████████████████████████████████████████████████████▊                    | 877/991 [18:52<02:27,  1.29s/batch, batch_loss=46.3, batch_index=878, batch_size=256]"
     ]
    },
    {
     "name": "stderr",
     "output_type": "stream",
     "text": [
      "\r",
      "Epoch 1/10:  89%|███████████████████████████████████████████████████████████████████████████████████████████████████████████████████████████████████████████████████████████▉                    | 878/991 [18:52<02:25,  1.29s/batch, batch_loss=46.3, batch_index=878, batch_size=256]"
     ]
    },
    {
     "name": "stderr",
     "output_type": "stream",
     "text": [
      "\r",
      "Epoch 1/10:  89%|███████████████████████████████████████████████████████████████████████████████████████████████████████████████████████████████████████████████████████████▉                    | 878/991 [18:54<02:25,  1.29s/batch, batch_loss=25.4, batch_index=879, batch_size=256]"
     ]
    },
    {
     "name": "stderr",
     "output_type": "stream",
     "text": [
      "\r",
      "Epoch 1/10:  89%|████████████████████████████████████████████████████████████████████████████████████████████████████████████████████████████████████████████████████████████                    | 879/991 [18:54<02:24,  1.29s/batch, batch_loss=25.4, batch_index=879, batch_size=256]"
     ]
    },
    {
     "name": "stderr",
     "output_type": "stream",
     "text": [
      "\r",
      "Epoch 1/10:  89%|████████████████████████████████████████████████████████████████████████████████████████████████████████████████████████████████████████████████████████████                    | 879/991 [18:55<02:24,  1.29s/batch, batch_loss=19.3, batch_index=880, batch_size=256]"
     ]
    },
    {
     "name": "stderr",
     "output_type": "stream",
     "text": [
      "\r",
      "Epoch 1/10:  89%|████████████████████████████████████████████████████████████████████████████████████████████████████████████████████████████████████████████████████████████▎                   | 880/991 [18:55<02:23,  1.29s/batch, batch_loss=19.3, batch_index=880, batch_size=256]"
     ]
    },
    {
     "name": "stderr",
     "output_type": "stream",
     "text": [
      "\r",
      "Epoch 1/10:  89%|█████████████████████████████████████████████████████████████████████████████████████████████████████████████████████████████████████████████████████████▌                   | 880/991 [18:56<02:23,  1.29s/batch, batch_loss=5.16e+3, batch_index=881, batch_size=256]"
     ]
    },
    {
     "name": "stderr",
     "output_type": "stream",
     "text": [
      "\r",
      "Epoch 1/10:  89%|█████████████████████████████████████████████████████████████████████████████████████████████████████████████████████████████████████████████████████████▊                   | 881/991 [18:56<02:22,  1.29s/batch, batch_loss=5.16e+3, batch_index=881, batch_size=256]"
     ]
    },
    {
     "name": "stderr",
     "output_type": "stream",
     "text": [
      "\r",
      "Epoch 1/10:  89%|████████████████████████████████████████████████████████████████████████████████████████████████████████████████████████████████████████████████████████████▍                   | 881/991 [18:58<02:22,  1.29s/batch, batch_loss=23.5, batch_index=882, batch_size=256]"
     ]
    },
    {
     "name": "stderr",
     "output_type": "stream",
     "text": [
      "\r",
      "Epoch 1/10:  89%|████████████████████████████████████████████████████████████████████████████████████████████████████████████████████████████████████████████████████████████▋                   | 882/991 [18:58<02:21,  1.29s/batch, batch_loss=23.5, batch_index=882, batch_size=256]"
     ]
    },
    {
     "name": "stderr",
     "output_type": "stream",
     "text": [
      "\r",
      "Epoch 1/10:  89%|██████████████████████████████████████████████████████████████████████████████████████████████████████████████████████████████████████████████████████████████▍                   | 882/991 [18:59<02:21,  1.29s/batch, batch_loss=33, batch_index=883, batch_size=256]"
     ]
    },
    {
     "name": "stderr",
     "output_type": "stream",
     "text": [
      "\r",
      "Epoch 1/10:  89%|██████████████████████████████████████████████████████████████████████████████████████████████████████████████████████████████████████████████████████████████▌                   | 883/991 [18:59<02:19,  1.29s/batch, batch_loss=33, batch_index=883, batch_size=256]"
     ]
    },
    {
     "name": "stderr",
     "output_type": "stream",
     "text": [
      "\r",
      "Epoch 1/10:  89%|████████████████████████████████████████████████████████████████████████████████████████████████████████████████████████████████████████████████████████████▊                   | 883/991 [19:00<02:19,  1.29s/batch, batch_loss=18.2, batch_index=884, batch_size=256]"
     ]
    },
    {
     "name": "stderr",
     "output_type": "stream",
     "text": [
      "\r",
      "Epoch 1/10:  89%|████████████████████████████████████████████████████████████████████████████████████████████████████████████████████████████████████████████████████████████▉                   | 884/991 [19:00<02:18,  1.29s/batch, batch_loss=18.2, batch_index=884, batch_size=256]"
     ]
    },
    {
     "name": "stderr",
     "output_type": "stream",
     "text": [
      "\r",
      "Epoch 1/10:  89%|████████████████████████████████████████████████████████████████████████████████████████████████████████████████████████████████████████████████████████████▉                   | 884/991 [19:01<02:18,  1.29s/batch, batch_loss=22.3, batch_index=885, batch_size=256]"
     ]
    },
    {
     "name": "stderr",
     "output_type": "stream",
     "text": [
      "\r",
      "Epoch 1/10:  89%|█████████████████████████████████████████████████████████████████████████████████████████████████████████████████████████████████████████████████████████████▏                  | 885/991 [19:01<02:17,  1.30s/batch, batch_loss=22.3, batch_index=885, batch_size=256]"
     ]
    },
    {
     "name": "stderr",
     "output_type": "stream",
     "text": [
      "\r",
      "Epoch 1/10:  89%|█████████████████████████████████████████████████████████████████████████████████████████████████████████████████████████████████████████████████████████████▏                  | 885/991 [19:03<02:17,  1.30s/batch, batch_loss=25.6, batch_index=886, batch_size=256]"
     ]
    },
    {
     "name": "stderr",
     "output_type": "stream",
     "text": [
      "\r",
      "Epoch 1/10:  89%|█████████████████████████████████████████████████████████████████████████████████████████████████████████████████████████████████████████████████████████████▎                  | 886/991 [19:03<02:15,  1.30s/batch, batch_loss=25.6, batch_index=886, batch_size=256]"
     ]
    },
    {
     "name": "stderr",
     "output_type": "stream",
     "text": [
      "\r",
      "Epoch 1/10:  89%|██████████████████████████████████████████████████████████████████████████████████████████████████████████████████████████████████████████████████████████▋                  | 886/991 [19:04<02:15,  1.30s/batch, batch_loss=1.94e+4, batch_index=887, batch_size=256]"
     ]
    },
    {
     "name": "stderr",
     "output_type": "stream",
     "text": [
      "\r",
      "Epoch 1/10:  90%|██████████████████████████████████████████████████████████████████████████████████████████████████████████████████████████████████████████████████████████▊                  | 887/991 [19:04<02:14,  1.29s/batch, batch_loss=1.94e+4, batch_index=887, batch_size=256]"
     ]
    },
    {
     "name": "stderr",
     "output_type": "stream",
     "text": [
      "\r",
      "Epoch 1/10:  90%|█████████████████████████████████████████████████████████████████████████████████████████████████████████████████████████████████████████████████████████████▌                  | 887/991 [19:05<02:14,  1.29s/batch, batch_loss=24.6, batch_index=888, batch_size=256]"
     ]
    },
    {
     "name": "stderr",
     "output_type": "stream",
     "text": [
      "\r",
      "Epoch 1/10:  90%|█████████████████████████████████████████████████████████████████████████████████████████████████████████████████████████████████████████████████████████████▋                  | 888/991 [19:05<02:13,  1.29s/batch, batch_loss=24.6, batch_index=888, batch_size=256]"
     ]
    },
    {
     "name": "stderr",
     "output_type": "stream",
     "text": [
      "\r",
      "Epoch 1/10:  90%|█████████████████████████████████████████████████████████████████████████████████████████████████████████████████████████████████████████████████████████████▋                  | 888/991 [19:07<02:13,  1.29s/batch, batch_loss=24.3, batch_index=889, batch_size=256]"
     ]
    },
    {
     "name": "stderr",
     "output_type": "stream",
     "text": [
      "\r",
      "Epoch 1/10:  90%|█████████████████████████████████████████████████████████████████████████████████████████████████████████████████████████████████████████████████████████████▉                  | 889/991 [19:07<02:11,  1.29s/batch, batch_loss=24.3, batch_index=889, batch_size=256]"
     ]
    },
    {
     "name": "stderr",
     "output_type": "stream",
     "text": [
      "\r",
      "Epoch 1/10:  90%|█████████████████████████████████████████████████████████████████████████████████████████████████████████████████████████████████████████████████████████████▉                  | 889/991 [19:08<02:11,  1.29s/batch, batch_loss=17.8, batch_index=890, batch_size=256]"
     ]
    },
    {
     "name": "stderr",
     "output_type": "stream",
     "text": [
      "\r",
      "Epoch 1/10:  90%|██████████████████████████████████████████████████████████████████████████████████████████████████████████████████████████████████████████████████████████████                  | 890/991 [19:08<02:10,  1.29s/batch, batch_loss=17.8, batch_index=890, batch_size=256]"
     ]
    },
    {
     "name": "stderr",
     "output_type": "stream",
     "text": [
      "\r",
      "Epoch 1/10:  90%|██████████████████████████████████████████████████████████████████████████████████████████████████████████████████████████████████████████████████████████████                  | 890/991 [19:09<02:10,  1.29s/batch, batch_loss=19.5, batch_index=891, batch_size=256]"
     ]
    },
    {
     "name": "stderr",
     "output_type": "stream",
     "text": [
      "\r",
      "Epoch 1/10:  90%|██████████████████████████████████████████████████████████████████████████████████████████████████████████████████████████████████████████████████████████████▏                 | 891/991 [19:09<02:09,  1.30s/batch, batch_loss=19.5, batch_index=891, batch_size=256]"
     ]
    },
    {
     "name": "stderr",
     "output_type": "stream",
     "text": [
      "\r",
      "Epoch 1/10:  90%|██████████████████████████████████████████████████████████████████████████████████████████████████████████████████████████████████████████████████████████████▏                 | 891/991 [19:11<02:09,  1.30s/batch, batch_loss=33.3, batch_index=892, batch_size=256]"
     ]
    },
    {
     "name": "stderr",
     "output_type": "stream",
     "text": [
      "\r",
      "Epoch 1/10:  90%|██████████████████████████████████████████████████████████████████████████████████████████████████████████████████████████████████████████████████████████████▍                 | 892/991 [19:11<02:08,  1.30s/batch, batch_loss=33.3, batch_index=892, batch_size=256]"
     ]
    },
    {
     "name": "stderr",
     "output_type": "stream",
     "text": [
      "\r",
      "Epoch 1/10:  90%|███████████████████████████████████████████████████████████████████████████████████████████████████████████████████████████████████████████████████████████▋                 | 892/991 [19:12<02:08,  1.30s/batch, batch_loss=3.69e+3, batch_index=893, batch_size=256]"
     ]
    },
    {
     "name": "stderr",
     "output_type": "stream",
     "text": [
      "\r",
      "Epoch 1/10:  90%|███████████████████████████████████████████████████████████████████████████████████████████████████████████████████████████████████████████████████████████▉                 | 893/991 [19:12<02:07,  1.30s/batch, batch_loss=3.69e+3, batch_index=893, batch_size=256]"
     ]
    },
    {
     "name": "stderr",
     "output_type": "stream",
     "text": [
      "\r",
      "Epoch 1/10:  90%|██████████████████████████████████████████████████████████████████████████████████████████████████████████████████████████████████████████████████████████████▌                 | 893/991 [19:13<02:07,  1.30s/batch, batch_loss=18.3, batch_index=894, batch_size=256]"
     ]
    },
    {
     "name": "stderr",
     "output_type": "stream",
     "text": [
      "\r",
      "Epoch 1/10:  90%|██████████████████████████████████████████████████████████████████████████████████████████████████████████████████████████████████████████████████████████████▊                 | 894/991 [19:13<02:03,  1.27s/batch, batch_loss=18.3, batch_index=894, batch_size=256]"
     ]
    },
    {
     "name": "stderr",
     "output_type": "stream",
     "text": [
      "\r",
      "Epoch 1/10:  90%|██████████████████████████████████████████████████████████████████████████████████████████████████████████████████████████████████████████████████████████████▊                 | 894/991 [19:14<02:03,  1.27s/batch, batch_loss=20.1, batch_index=895, batch_size=256]"
     ]
    },
    {
     "name": "stderr",
     "output_type": "stream",
     "text": [
      "\r",
      "Epoch 1/10:  90%|██████████████████████████████████████████████████████████████████████████████████████████████████████████████████████████████████████████████████████████████▉                 | 895/991 [19:14<02:02,  1.28s/batch, batch_loss=20.1, batch_index=895, batch_size=256]"
     ]
    },
    {
     "name": "stderr",
     "output_type": "stream",
     "text": [
      "\r",
      "Epoch 1/10:  90%|██████████████████████████████████████████████████████████████████████████████████████████████████████████████████████████████████████████████████████████████▉                 | 895/991 [19:16<02:02,  1.28s/batch, batch_loss=19.4, batch_index=896, batch_size=256]"
     ]
    },
    {
     "name": "stderr",
     "output_type": "stream",
     "text": [
      "\r",
      "Epoch 1/10:  90%|███████████████████████████████████████████████████████████████████████████████████████████████████████████████████████████████████████████████████████████████▏                | 896/991 [19:16<02:02,  1.29s/batch, batch_loss=19.4, batch_index=896, batch_size=256]"
     ]
    },
    {
     "name": "stderr",
     "output_type": "stream",
     "text": [
      "\r",
      "Epoch 1/10:  90%|███████████████████████████████████████████████████████████████████████████████████████████████████████████████████████████████████████████████████████████████▏                | 896/991 [19:17<02:02,  1.29s/batch, batch_loss=32.4, batch_index=897, batch_size=256]"
     ]
    },
    {
     "name": "stderr",
     "output_type": "stream",
     "text": [
      "\r",
      "Epoch 1/10:  91%|███████████████████████████████████████████████████████████████████████████████████████████████████████████████████████████████████████████████████████████████▎                | 897/991 [19:17<02:01,  1.29s/batch, batch_loss=32.4, batch_index=897, batch_size=256]"
     ]
    },
    {
     "name": "stderr",
     "output_type": "stream",
     "text": [
      "\r",
      "Epoch 1/10:  91%|███████████████████████████████████████████████████████████████████████████████████████████████████████████████████████████████████████████████████████████████▎                | 897/991 [19:18<02:01,  1.29s/batch, batch_loss=35.3, batch_index=898, batch_size=256]"
     ]
    },
    {
     "name": "stderr",
     "output_type": "stream",
     "text": [
      "\r",
      "Epoch 1/10:  91%|███████████████████████████████████████████████████████████████████████████████████████████████████████████████████████████████████████████████████████████████▍                | 898/991 [19:18<01:59,  1.29s/batch, batch_loss=35.3, batch_index=898, batch_size=256]"
     ]
    },
    {
     "name": "stderr",
     "output_type": "stream",
     "text": [
      "\r",
      "Epoch 1/10:  91%|█████████████████████████████████████████████████████████████████████████████████████████████████████████████████████████████████████████████████████████████████▎                | 898/991 [19:19<01:59,  1.29s/batch, batch_loss=33, batch_index=899, batch_size=256]"
     ]
    },
    {
     "name": "stderr",
     "output_type": "stream",
     "text": [
      "\r",
      "Epoch 1/10:  91%|█████████████████████████████████████████████████████████████████████████████████████████████████████████████████████████████████████████████████████████████████▍                | 899/991 [19:19<01:58,  1.29s/batch, batch_loss=33, batch_index=899, batch_size=256]"
     ]
    },
    {
     "name": "stderr",
     "output_type": "stream",
     "text": [
      "\r",
      "Epoch 1/10:  91%|███████████████████████████████████████████████████████████████████████████████████████████████████████████████████████████████████████████████████████████████▋                | 899/991 [19:21<01:58,  1.29s/batch, batch_loss=29.3, batch_index=900, batch_size=256]"
     ]
    },
    {
     "name": "stderr",
     "output_type": "stream",
     "text": [
      "\r",
      "Epoch 1/10:  91%|███████████████████████████████████████████████████████████████████████████████████████████████████████████████████████████████████████████████████████████████▊                | 900/991 [19:21<01:57,  1.29s/batch, batch_loss=29.3, batch_index=900, batch_size=256]"
     ]
    },
    {
     "name": "stderr",
     "output_type": "stream",
     "text": [
      "\r",
      "Epoch 1/10:  91%|███████████████████████████████████████████████████████████████████████████████████████████████████████████████████████████████████████████████████████████████▊                | 900/991 [19:22<01:57,  1.29s/batch, batch_loss=34.2, batch_index=901, batch_size=256]"
     ]
    },
    {
     "name": "stderr",
     "output_type": "stream",
     "text": [
      "\r",
      "Epoch 1/10:  91%|████████████████████████████████████████████████████████████████████████████████████████████████████████████████████████████████████████████████████████████████                | 901/991 [19:22<01:56,  1.29s/batch, batch_loss=34.2, batch_index=901, batch_size=256]"
     ]
    },
    {
     "name": "stderr",
     "output_type": "stream",
     "text": [
      "\r",
      "Epoch 1/10:  91%|████████████████████████████████████████████████████████████████████████████████████████████████████████████████████████████████████████████████████████████████                | 901/991 [19:23<01:56,  1.29s/batch, batch_loss=19.7, batch_index=902, batch_size=256]"
     ]
    },
    {
     "name": "stderr",
     "output_type": "stream",
     "text": [
      "\r",
      "Epoch 1/10:  91%|████████████████████████████████████████████████████████████████████████████████████████████████████████████████████████████████████████████████████████████████▏               | 902/991 [19:23<01:55,  1.30s/batch, batch_loss=19.7, batch_index=902, batch_size=256]"
     ]
    },
    {
     "name": "stderr",
     "output_type": "stream",
     "text": [
      "\r",
      "Epoch 1/10:  91%|████████████████████████████████████████████████████████████████████████████████████████████████████████████████████████████████████████████████████████████████▏               | 902/991 [19:25<01:55,  1.30s/batch, batch_loss=11.7, batch_index=903, batch_size=256]"
     ]
    },
    {
     "name": "stderr",
     "output_type": "stream",
     "text": [
      "\r",
      "Epoch 1/10:  91%|████████████████████████████████████████████████████████████████████████████████████████████████████████████████████████████████████████████████████████████████▎               | 903/991 [19:25<01:53,  1.29s/batch, batch_loss=11.7, batch_index=903, batch_size=256]"
     ]
    },
    {
     "name": "stderr",
     "output_type": "stream",
     "text": [
      "\r",
      "Epoch 1/10:  91%|████████████████████████████████████████████████████████████████████████████████████████████████████████████████████████████████████████████████████████████████▎               | 903/991 [19:26<01:53,  1.29s/batch, batch_loss=14.9, batch_index=904, batch_size=256]"
     ]
    },
    {
     "name": "stderr",
     "output_type": "stream",
     "text": [
      "\r",
      "Epoch 1/10:  91%|████████████████████████████████████████████████████████████████████████████████████████████████████████████████████████████████████████████████████████████████▌               | 904/991 [19:26<01:52,  1.29s/batch, batch_loss=14.9, batch_index=904, batch_size=256]"
     ]
    },
    {
     "name": "stderr",
     "output_type": "stream",
     "text": [
      "\r",
      "Epoch 1/10:  91%|████████████████████████████████████████████████████████████████████████████████████████████████████████████████████████████████████████████████████████████████▌               | 904/991 [19:27<01:52,  1.29s/batch, batch_loss=53.9, batch_index=905, batch_size=256]"
     ]
    },
    {
     "name": "stderr",
     "output_type": "stream",
     "text": [
      "\r",
      "Epoch 1/10:  91%|████████████████████████████████████████████████████████████████████████████████████████████████████████████████████████████████████████████████████████████████▋               | 905/991 [19:27<01:51,  1.29s/batch, batch_loss=53.9, batch_index=905, batch_size=256]"
     ]
    },
    {
     "name": "stderr",
     "output_type": "stream",
     "text": [
      "\r",
      "Epoch 1/10:  91%|████████████████████████████████████████████████████████████████████████████████████████████████████████████████████████████████████████████████████████████████▋               | 905/991 [19:29<01:51,  1.29s/batch, batch_loss=40.2, batch_index=906, batch_size=256]"
     ]
    },
    {
     "name": "stderr",
     "output_type": "stream",
     "text": [
      "\r",
      "Epoch 1/10:  91%|████████████████████████████████████████████████████████████████████████████████████████████████████████████████████████████████████████████████████████████████▉               | 906/991 [19:29<01:49,  1.29s/batch, batch_loss=40.2, batch_index=906, batch_size=256]"
     ]
    },
    {
     "name": "stderr",
     "output_type": "stream",
     "text": [
      "\r",
      "Epoch 1/10:  91%|████████████████████████████████████████████████████████████████████████████████████████████████████████████████████████████████████████████████████████████████▉               | 906/991 [19:30<01:49,  1.29s/batch, batch_loss=37.6, batch_index=907, batch_size=256]"
     ]
    },
    {
     "name": "stderr",
     "output_type": "stream",
     "text": [
      "\r",
      "Epoch 1/10:  92%|█████████████████████████████████████████████████████████████████████████████████████████████████████████████████████████████████████████████████████████████████               | 907/991 [19:30<01:48,  1.29s/batch, batch_loss=37.6, batch_index=907, batch_size=256]"
     ]
    },
    {
     "name": "stderr",
     "output_type": "stream",
     "text": [
      "\r",
      "Epoch 1/10:  92%|█████████████████████████████████████████████████████████████████████████████████████████████████████████████████████████████████████████████████████████████████               | 907/991 [19:31<01:48,  1.29s/batch, batch_loss=15.7, batch_index=908, batch_size=256]"
     ]
    },
    {
     "name": "stderr",
     "output_type": "stream",
     "text": [
      "\r",
      "Epoch 1/10:  92%|█████████████████████████████████████████████████████████████████████████████████████████████████████████████████████████████████████████████████████████████████▎              | 908/991 [19:31<01:47,  1.29s/batch, batch_loss=15.7, batch_index=908, batch_size=256]"
     ]
    },
    {
     "name": "stderr",
     "output_type": "stream",
     "text": [
      "\r",
      "Epoch 1/10:  92%|██████████████████████████████████████████████████████████████████████████████████████████████████████████████████████████████████████████████████████████████████▏              | 908/991 [19:32<01:47,  1.29s/batch, batch_loss=8.7, batch_index=909, batch_size=256]"
     ]
    },
    {
     "name": "stderr",
     "output_type": "stream",
     "text": [
      "\r",
      "Epoch 1/10:  92%|██████████████████████████████████████████████████████████████████████████████████████████████████████████████████████████████████████████████████████████████████▎              | 909/991 [19:32<01:45,  1.29s/batch, batch_loss=8.7, batch_index=909, batch_size=256]"
     ]
    },
    {
     "name": "stderr",
     "output_type": "stream",
     "text": [
      "\r",
      "Epoch 1/10:  92%|██████████████████████████████████████████████████████████████████████████████████████████████████████████████████████████████████████████████████████████████████▎              | 909/991 [19:34<01:45,  1.29s/batch, batch_loss=692, batch_index=910, batch_size=256]"
     ]
    },
    {
     "name": "stderr",
     "output_type": "stream",
     "text": [
      "\r",
      "Epoch 1/10:  92%|██████████████████████████████████████████████████████████████████████████████████████████████████████████████████████████████████████████████████████████████████▌              | 910/991 [19:34<01:44,  1.30s/batch, batch_loss=692, batch_index=910, batch_size=256]"
     ]
    },
    {
     "name": "stderr",
     "output_type": "stream",
     "text": [
      "\r",
      "Epoch 1/10:  92%|██████████████████████████████████████████████████████████████████████████████████████████████████████████████████████████████████████████████████████████████▊              | 910/991 [19:35<01:44,  1.30s/batch, batch_loss=1.02e+3, batch_index=911, batch_size=256]"
     ]
    },
    {
     "name": "stderr",
     "output_type": "stream",
     "text": [
      "\r",
      "Epoch 1/10:  92%|███████████████████████████████████████████████████████████████████████████████████████████████████████████████████████████████████████████████████████████████              | 911/991 [19:35<01:43,  1.30s/batch, batch_loss=1.02e+3, batch_index=911, batch_size=256]"
     ]
    },
    {
     "name": "stderr",
     "output_type": "stream",
     "text": [
      "\r",
      "Epoch 1/10:  92%|█████████████████████████████████████████████████████████████████████████████████████████████████████████████████████████████████████████████████████████████████▊              | 911/991 [19:36<01:43,  1.30s/batch, batch_loss=33.5, batch_index=912, batch_size=256]"
     ]
    },
    {
     "name": "stderr",
     "output_type": "stream",
     "text": [
      "\r",
      "Epoch 1/10:  92%|█████████████████████████████████████████████████████████████████████████████████████████████████████████████████████████████████████████████████████████████████▉              | 912/991 [19:36<01:42,  1.29s/batch, batch_loss=33.5, batch_index=912, batch_size=256]"
     ]
    },
    {
     "name": "stderr",
     "output_type": "stream",
     "text": [
      "\r",
      "Epoch 1/10:  92%|█████████████████████████████████████████████████████████████████████████████████████████████████████████████████████████████████████████████████████████████████▉              | 912/991 [19:38<01:42,  1.29s/batch, batch_loss=42.9, batch_index=913, batch_size=256]"
     ]
    },
    {
     "name": "stderr",
     "output_type": "stream",
     "text": [
      "\r",
      "Epoch 1/10:  92%|██████████████████████████████████████████████████████████████████████████████████████████████████████████████████████████████████████████████████████████████████▏             | 913/991 [19:38<01:40,  1.29s/batch, batch_loss=42.9, batch_index=913, batch_size=256]"
     ]
    },
    {
     "name": "stderr",
     "output_type": "stream",
     "text": [
      "\r",
      "Epoch 1/10:  92%|███████████████████████████████████████████████████████████████████████████████████████████████████████████████████████████████████████████████████████████████████▉              | 913/991 [19:39<01:40,  1.29s/batch, batch_loss=31, batch_index=914, batch_size=256]"
     ]
    },
    {
     "name": "stderr",
     "output_type": "stream",
     "text": [
      "\r",
      "Epoch 1/10:  92%|████████████████████████████████████████████████████████████████████████████████████████████████████████████████████████████████████████████████████████████████████▏             | 914/991 [19:39<01:39,  1.30s/batch, batch_loss=31, batch_index=914, batch_size=256]"
     ]
    },
    {
     "name": "stderr",
     "output_type": "stream",
     "text": [
      "\r",
      "Epoch 1/10:  92%|██████████████████████████████████████████████████████████████████████████████████████████████████████████████████████████████████████████████████████████████████▎             | 914/991 [19:40<01:39,  1.30s/batch, batch_loss=40.7, batch_index=915, batch_size=256]"
     ]
    },
    {
     "name": "stderr",
     "output_type": "stream",
     "text": [
      "\r",
      "Epoch 1/10:  92%|██████████████████████████████████████████████████████████████████████████████████████████████████████████████████████████████████████████████████████████████████▌             | 915/991 [19:40<01:38,  1.29s/batch, batch_loss=40.7, batch_index=915, batch_size=256]"
     ]
    },
    {
     "name": "stderr",
     "output_type": "stream",
     "text": [
      "\r",
      "Epoch 1/10:  92%|████████████████████████████████████████████████████████████████████████████████████████████████████████████████████████████████████████████████████████████████████▎             | 915/991 [19:42<01:38,  1.29s/batch, batch_loss=21, batch_index=916, batch_size=256]"
     ]
    },
    {
     "name": "stderr",
     "output_type": "stream",
     "text": [
      "\r",
      "Epoch 1/10:  92%|████████████████████████████████████████████████████████████████████████████████████████████████████████████████████████████████████████████████████████████████████▌             | 916/991 [19:42<01:37,  1.30s/batch, batch_loss=21, batch_index=916, batch_size=256]"
     ]
    },
    {
     "name": "stderr",
     "output_type": "stream",
     "text": [
      "\r",
      "Epoch 1/10:  92%|██████████████████████████████████████████████████████████████████████████████████████████████████████████████████████████████████████████████████████████████████▋             | 916/991 [19:43<01:37,  1.30s/batch, batch_loss=13.4, batch_index=917, batch_size=256]"
     ]
    },
    {
     "name": "stderr",
     "output_type": "stream",
     "text": [
      "\r",
      "Epoch 1/10:  93%|██████████████████████████████████████████████████████████████████████████████████████████████████████████████████████████████████████████████████████████████████▊             | 917/991 [19:43<01:35,  1.29s/batch, batch_loss=13.4, batch_index=917, batch_size=256]"
     ]
    },
    {
     "name": "stderr",
     "output_type": "stream",
     "text": [
      "\r",
      "Epoch 1/10:  93%|██████████████████████████████████████████████████████████████████████████████████████████████████████████████████████████████████████████████████████████████████▊             | 917/991 [19:44<01:35,  1.29s/batch, batch_loss=25.4, batch_index=918, batch_size=256]"
     ]
    },
    {
     "name": "stderr",
     "output_type": "stream",
     "text": [
      "\r",
      "Epoch 1/10:  93%|███████████████████████████████████████████████████████████████████████████████████████████████████████████████████████████████████████████████████████████████████             | 918/991 [19:44<01:34,  1.29s/batch, batch_loss=25.4, batch_index=918, batch_size=256]"
     ]
    },
    {
     "name": "stderr",
     "output_type": "stream",
     "text": [
      "\r",
      "Epoch 1/10:  93%|███████████████████████████████████████████████████████████████████████████████████████████████████████████████████████████████████████████████████████████████████             | 918/991 [19:45<01:34,  1.29s/batch, batch_loss=21.9, batch_index=919, batch_size=256]"
     ]
    },
    {
     "name": "stderr",
     "output_type": "stream",
     "text": [
      "\r",
      "Epoch 1/10:  93%|███████████████████████████████████████████████████████████████████████████████████████████████████████████████████████████████████████████████████████████████████▏            | 919/991 [19:45<01:33,  1.30s/batch, batch_loss=21.9, batch_index=919, batch_size=256]"
     ]
    },
    {
     "name": "stderr",
     "output_type": "stream",
     "text": [
      "\r",
      "Epoch 1/10:  93%|███████████████████████████████████████████████████████████████████████████████████████████████████████████████████████████████████████████████████████████████████▏            | 919/991 [19:47<01:33,  1.30s/batch, batch_loss=26.6, batch_index=920, batch_size=256]"
     ]
    },
    {
     "name": "stderr",
     "output_type": "stream",
     "text": [
      "\r",
      "Epoch 1/10:  93%|███████████████████████████████████████████████████████████████████████████████████████████████████████████████████████████████████████████████████████████████████▍            | 920/991 [19:47<01:31,  1.29s/batch, batch_loss=26.6, batch_index=920, batch_size=256]"
     ]
    },
    {
     "name": "stderr",
     "output_type": "stream",
     "text": [
      "\r",
      "Epoch 1/10:  93%|███████████████████████████████████████████████████████████████████████████████████████████████████████████████████████████████████████████████████████████████████▍            | 920/991 [19:48<01:31,  1.29s/batch, batch_loss=27.6, batch_index=921, batch_size=256]"
     ]
    },
    {
     "name": "stderr",
     "output_type": "stream",
     "text": [
      "\r",
      "Epoch 1/10:  93%|███████████████████████████████████████████████████████████████████████████████████████████████████████████████████████████████████████████████████████████████████▌            | 921/991 [19:48<01:29,  1.27s/batch, batch_loss=27.6, batch_index=921, batch_size=256]"
     ]
    },
    {
     "name": "stderr",
     "output_type": "stream",
     "text": [
      "\r",
      "Epoch 1/10:  93%|███████████████████████████████████████████████████████████████████████████████████████████████████████████████████████████████████████████████████████████████████▌            | 921/991 [19:49<01:29,  1.27s/batch, batch_loss=45.7, batch_index=922, batch_size=256]"
     ]
    },
    {
     "name": "stderr",
     "output_type": "stream",
     "text": [
      "\r",
      "Epoch 1/10:  93%|███████████████████████████████████████████████████████████████████████████████████████████████████████████████████████████████████████████████████████████████████▋            | 922/991 [19:49<01:27,  1.27s/batch, batch_loss=45.7, batch_index=922, batch_size=256]"
     ]
    },
    {
     "name": "stderr",
     "output_type": "stream",
     "text": [
      "\r",
      "Epoch 1/10:  93%|███████████████████████████████████████████████████████████████████████████████████████████████████████████████████████████████████████████████████████████████████▋            | 922/991 [19:50<01:27,  1.27s/batch, batch_loss=16.9, batch_index=923, batch_size=256]"
     ]
    },
    {
     "name": "stderr",
     "output_type": "stream",
     "text": [
      "\r",
      "Epoch 1/10:  93%|███████████████████████████████████████████████████████████████████████████████████████████████████████████████████████████████████████████████████████████████████▉            | 923/991 [19:50<01:27,  1.28s/batch, batch_loss=16.9, batch_index=923, batch_size=256]"
     ]
    },
    {
     "name": "stderr",
     "output_type": "stream",
     "text": [
      "\r",
      "Epoch 1/10:  93%|███████████████████████████████████████████████████████████████████████████████████████████████████████████████████████████████████████████████████████████████████▉            | 923/991 [19:52<01:27,  1.28s/batch, batch_loss=16.1, batch_index=924, batch_size=256]"
     ]
    },
    {
     "name": "stderr",
     "output_type": "stream",
     "text": [
      "\r",
      "Epoch 1/10:  93%|████████████████████████████████████████████████████████████████████████████████████████████████████████████████████████████████████████████████████████████████████            | 924/991 [19:52<01:26,  1.29s/batch, batch_loss=16.1, batch_index=924, batch_size=256]"
     ]
    },
    {
     "name": "stderr",
     "output_type": "stream",
     "text": [
      "\r",
      "Epoch 1/10:  93%|████████████████████████████████████████████████████████████████████████████████████████████████████████████████████████████████████████████████████████████████████            | 924/991 [19:53<01:26,  1.29s/batch, batch_loss=20.6, batch_index=925, batch_size=256]"
     ]
    },
    {
     "name": "stderr",
     "output_type": "stream",
     "text": [
      "\r",
      "Epoch 1/10:  93%|████████████████████████████████████████████████████████████████████████████████████████████████████████████████████████████████████████████████████████████████████▎           | 925/991 [19:53<01:25,  1.29s/batch, batch_loss=20.6, batch_index=925, batch_size=256]"
     ]
    },
    {
     "name": "stderr",
     "output_type": "stream",
     "text": [
      "\r",
      "Epoch 1/10:  93%|█████████████████████████████████████████████████████████████████████████████████████████████████████████████████████████████████████████████████████████████████▍           | 925/991 [19:54<01:25,  1.29s/batch, batch_loss=3.01e+4, batch_index=926, batch_size=256]"
     ]
    },
    {
     "name": "stderr",
     "output_type": "stream",
     "text": [
      "\r",
      "Epoch 1/10:  93%|█████████████████████████████████████████████████████████████████████████████████████████████████████████████████████████████████████████████████████████████████▋           | 926/991 [19:54<01:23,  1.29s/batch, batch_loss=3.01e+4, batch_index=926, batch_size=256]"
     ]
    },
    {
     "name": "stderr",
     "output_type": "stream",
     "text": [
      "\r",
      "Epoch 1/10:  93%|████████████████████████████████████████████████████████████████████████████████████████████████████████████████████████████████████████████████████████████████████▍           | 926/991 [19:56<01:23,  1.29s/batch, batch_loss=13.4, batch_index=927, batch_size=256]"
     ]
    },
    {
     "name": "stderr",
     "output_type": "stream",
     "text": [
      "\r",
      "Epoch 1/10:  94%|████████████████████████████████████████████████████████████████████████████████████████████████████████████████████████████████████████████████████████████████████▋           | 927/991 [19:56<01:22,  1.29s/batch, batch_loss=13.4, batch_index=927, batch_size=256]"
     ]
    },
    {
     "name": "stderr",
     "output_type": "stream",
     "text": [
      "\r",
      "Epoch 1/10:  94%|█████████████████████████████████████████████████████████████████████████████████████████████████████████████████████████████████████████████████████████████████████▌           | 927/991 [19:57<01:22,  1.29s/batch, batch_loss=866, batch_index=928, batch_size=256]"
     ]
    },
    {
     "name": "stderr",
     "output_type": "stream",
     "text": [
      "\r",
      "Epoch 1/10:  94%|█████████████████████████████████████████████████████████████████████████████████████████████████████████████████████████████████████████████████████████████████████▋           | 928/991 [19:57<01:21,  1.30s/batch, batch_loss=866, batch_index=928, batch_size=256]"
     ]
    },
    {
     "name": "stderr",
     "output_type": "stream",
     "text": [
      "\r",
      "Epoch 1/10:  94%|████████████████████████████████████████████████████████████████████████████████████████████████████████████████████████████████████████████████████████████████████▊           | 928/991 [19:58<01:21,  1.30s/batch, batch_loss=12.6, batch_index=929, batch_size=256]"
     ]
    },
    {
     "name": "stderr",
     "output_type": "stream",
     "text": [
      "\r",
      "Epoch 1/10:  94%|████████████████████████████████████████████████████████████████████████████████████████████████████████████████████████████████████████████████████████████████████▉           | 929/991 [19:58<01:20,  1.30s/batch, batch_loss=12.6, batch_index=929, batch_size=256]"
     ]
    },
    {
     "name": "stderr",
     "output_type": "stream",
     "text": [
      "\r",
      "Epoch 1/10:  94%|████████████████████████████████████████████████████████████████████████████████████████████████████████████████████████████████████████████████████████████████████▉           | 929/991 [20:00<01:20,  1.30s/batch, batch_loss=12.9, batch_index=930, batch_size=256]"
     ]
    },
    {
     "name": "stderr",
     "output_type": "stream",
     "text": [
      "\r",
      "Epoch 1/10:  94%|█████████████████████████████████████████████████████████████████████████████████████████████████████████████████████████████████████████████████████████████████████▏          | 930/991 [20:00<01:18,  1.29s/batch, batch_loss=12.9, batch_index=930, batch_size=256]"
     ]
    },
    {
     "name": "stderr",
     "output_type": "stream",
     "text": [
      "\r",
      "Epoch 1/10:  94%|█████████████████████████████████████████████████████████████████████████████████████████████████████████████████████████████████████████████████████████████████████▏          | 930/991 [20:01<01:18,  1.29s/batch, batch_loss=21.6, batch_index=931, batch_size=256]"
     ]
    },
    {
     "name": "stderr",
     "output_type": "stream",
     "text": [
      "\r",
      "Epoch 1/10:  94%|█████████████████████████████████████████████████████████████████████████████████████████████████████████████████████████████████████████████████████████████████████▎          | 931/991 [20:01<01:17,  1.29s/batch, batch_loss=21.6, batch_index=931, batch_size=256]"
     ]
    },
    {
     "name": "stderr",
     "output_type": "stream",
     "text": [
      "\r",
      "Epoch 1/10:  94%|█████████████████████████████████████████████████████████████████████████████████████████████████████████████████████████████████████████████████████████████████████▎          | 931/991 [20:02<01:17,  1.29s/batch, batch_loss=19.2, batch_index=932, batch_size=256]"
     ]
    },
    {
     "name": "stderr",
     "output_type": "stream",
     "text": [
      "\r",
      "Epoch 1/10:  94%|█████████████████████████████████████████████████████████████████████████████████████████████████████████████████████████████████████████████████████████████████████▌          | 932/991 [20:02<01:16,  1.29s/batch, batch_loss=19.2, batch_index=932, batch_size=256]"
     ]
    },
    {
     "name": "stderr",
     "output_type": "stream",
     "text": [
      "\r",
      "Epoch 1/10:  94%|█████████████████████████████████████████████████████████████████████████████████████████████████████████████████████████████████████████████████████████████████████▌          | 932/991 [20:03<01:16,  1.29s/batch, batch_loss=15.1, batch_index=933, batch_size=256]"
     ]
    },
    {
     "name": "stderr",
     "output_type": "stream",
     "text": [
      "\r",
      "Epoch 1/10:  94%|█████████████████████████████████████████████████████████████████████████████████████████████████████████████████████████████████████████████████████████████████████▋          | 933/991 [20:03<01:15,  1.29s/batch, batch_loss=15.1, batch_index=933, batch_size=256]"
     ]
    },
    {
     "name": "stderr",
     "output_type": "stream",
     "text": [
      "\r",
      "Epoch 1/10:  94%|█████████████████████████████████████████████████████████████████████████████████████████████████████████████████████████████████████████████████████████████████████▋          | 933/991 [20:05<01:15,  1.29s/batch, batch_loss=6.75, batch_index=934, batch_size=256]"
     ]
    },
    {
     "name": "stderr",
     "output_type": "stream",
     "text": [
      "\r",
      "Epoch 1/10:  94%|█████████████████████████████████████████████████████████████████████████████████████████████████████████████████████████████████████████████████████████████████████▉          | 934/991 [20:05<01:13,  1.30s/batch, batch_loss=6.75, batch_index=934, batch_size=256]"
     ]
    },
    {
     "name": "stderr",
     "output_type": "stream",
     "text": [
      "\r",
      "Epoch 1/10:  94%|██████████████████████████████████████████████████████████████████████████████████████████████████████████████████████████████████████████████████████████████████████▊          | 934/991 [20:06<01:13,  1.30s/batch, batch_loss=6.7, batch_index=935, batch_size=256]"
     ]
    },
    {
     "name": "stderr",
     "output_type": "stream",
     "text": [
      "\r",
      "Epoch 1/10:  94%|██████████████████████████████████████████████████████████████████████████████████████████████████████████████████████████████████████████████████████████████████████▉          | 935/991 [20:06<01:12,  1.29s/batch, batch_loss=6.7, batch_index=935, batch_size=256]"
     ]
    },
    {
     "name": "stderr",
     "output_type": "stream",
     "text": [
      "\r",
      "Epoch 1/10:  94%|██████████████████████████████████████████████████████████████████████████████████████████████████████████████████████████████████████████████████████████████████████▉          | 935/991 [20:07<01:12,  1.29s/batch, batch_loss=168, batch_index=936, batch_size=256]"
     ]
    },
    {
     "name": "stderr",
     "output_type": "stream",
     "text": [
      "\r",
      "Epoch 1/10:  94%|███████████████████████████████████████████████████████████████████████████████████████████████████████████████████████████████████████████████████████████████████████▏         | 936/991 [20:07<01:11,  1.30s/batch, batch_loss=168, batch_index=936, batch_size=256]"
     ]
    },
    {
     "name": "stderr",
     "output_type": "stream",
     "text": [
      "\r",
      "Epoch 1/10:  94%|████████████████████████████████████████████████████████████████████████████████████████████████████████████████████████████████████████████████████████████████████████          | 936/991 [20:09<01:11,  1.30s/batch, batch_loss=38, batch_index=937, batch_size=256]"
     ]
    },
    {
     "name": "stderr",
     "output_type": "stream",
     "text": [
      "\r",
      "Epoch 1/10:  95%|████████████████████████████████████████████████████████████████████████████████████████████████████████████████████████████████████████████████████████████████████████▎         | 937/991 [20:09<01:09,  1.30s/batch, batch_loss=38, batch_index=937, batch_size=256]"
     ]
    },
    {
     "name": "stderr",
     "output_type": "stream",
     "text": [
      "\r",
      "Epoch 1/10:  95%|██████████████████████████████████████████████████████████████████████████████████████████████████████████████████████████████████████████████████████████████████████▍         | 937/991 [20:10<01:09,  1.30s/batch, batch_loss=14.6, batch_index=938, batch_size=256]"
     ]
    },
    {
     "name": "stderr",
     "output_type": "stream",
     "text": [
      "\r",
      "Epoch 1/10:  95%|██████████████████████████████████████████████████████████████████████████████████████████████████████████████████████████████████████████████████████████████████████▌         | 938/991 [20:10<01:08,  1.29s/batch, batch_loss=14.6, batch_index=938, batch_size=256]"
     ]
    },
    {
     "name": "stderr",
     "output_type": "stream",
     "text": [
      "\r",
      "Epoch 1/10:  95%|██████████████████████████████████████████████████████████████████████████████████████████████████████████████████████████████████████████████████████████████████████▌         | 938/991 [20:11<01:08,  1.29s/batch, batch_loss=13.6, batch_index=939, batch_size=256]"
     ]
    },
    {
     "name": "stderr",
     "output_type": "stream",
     "text": [
      "\r",
      "Epoch 1/10:  95%|██████████████████████████████████████████████████████████████████████████████████████████████████████████████████████████████████████████████████████████████████████▊         | 939/991 [20:11<01:07,  1.30s/batch, batch_loss=13.6, batch_index=939, batch_size=256]"
     ]
    },
    {
     "name": "stderr",
     "output_type": "stream",
     "text": [
      "\r",
      "Epoch 1/10:  95%|███████████████████████████████████████████████████████████████████████████████████████████████████████████████████████████████████████████████████████████████████████▋         | 939/991 [20:12<01:07,  1.30s/batch, batch_loss=439, batch_index=940, batch_size=256]"
     ]
    },
    {
     "name": "stderr",
     "output_type": "stream",
     "text": [
      "\r",
      "Epoch 1/10:  95%|███████████████████████████████████████████████████████████████████████████████████████████████████████████████████████████████████████████████████████████████████████▉         | 940/991 [20:12<01:06,  1.29s/batch, batch_loss=439, batch_index=940, batch_size=256]"
     ]
    },
    {
     "name": "stderr",
     "output_type": "stream",
     "text": [
      "\r",
      "Epoch 1/10:  95%|██████████████████████████████████████████████████████████████████████████████████████████████████████████████████████████████████████████████████████████████████████▉         | 940/991 [20:14<01:06,  1.29s/batch, batch_loss=29.5, batch_index=941, batch_size=256]"
     ]
    },
    {
     "name": "stderr",
     "output_type": "stream",
     "text": [
      "\r",
      "Epoch 1/10:  95%|███████████████████████████████████████████████████████████████████████████████████████████████████████████████████████████████████████████████████████████████████████         | 941/991 [20:14<01:04,  1.29s/batch, batch_loss=29.5, batch_index=941, batch_size=256]"
     ]
    },
    {
     "name": "stderr",
     "output_type": "stream",
     "text": [
      "\r",
      "Epoch 1/10:  95%|█████████████████████████████████████████████████████████████████████████████████████████████████████████████████████████████████████████████████████████████████████████         | 941/991 [20:15<01:04,  1.29s/batch, batch_loss=25, batch_index=942, batch_size=256]"
     ]
    },
    {
     "name": "stderr",
     "output_type": "stream",
     "text": [
      "\r",
      "Epoch 1/10:  95%|█████████████████████████████████████████████████████████████████████████████████████████████████████████████████████████████████████████████████████████████████████████▏        | 942/991 [20:15<01:03,  1.29s/batch, batch_loss=25, batch_index=942, batch_size=256]"
     ]
    },
    {
     "name": "stderr",
     "output_type": "stream",
     "text": [
      "\r",
      "Epoch 1/10:  95%|███████████████████████████████████████████████████████████████████████████████████████████████████████████████████████████████████████████████████████████████████████▎        | 942/991 [20:16<01:03,  1.29s/batch, batch_loss=20.3, batch_index=943, batch_size=256]"
     ]
    },
    {
     "name": "stderr",
     "output_type": "stream",
     "text": [
      "\r",
      "Epoch 1/10:  95%|███████████████████████████████████████████████████████████████████████████████████████████████████████████████████████████████████████████████████████████████████████▍        | 943/991 [20:16<01:02,  1.30s/batch, batch_loss=20.3, batch_index=943, batch_size=256]"
     ]
    },
    {
     "name": "stderr",
     "output_type": "stream",
     "text": [
      "\r",
      "Epoch 1/10:  95%|███████████████████████████████████████████████████████████████████████████████████████████████████████████████████████████████████████████████████████████████████████▍        | 943/991 [20:18<01:02,  1.30s/batch, batch_loss=22.7, batch_index=944, batch_size=256]"
     ]
    },
    {
     "name": "stderr",
     "output_type": "stream",
     "text": [
      "\r",
      "Epoch 1/10:  95%|███████████████████████████████████████████████████████████████████████████████████████████████████████████████████████████████████████████████████████████████████████▋        | 944/991 [20:18<01:00,  1.29s/batch, batch_loss=22.7, batch_index=944, batch_size=256]"
     ]
    },
    {
     "name": "stderr",
     "output_type": "stream",
     "text": [
      "\r",
      "Epoch 1/10:  95%|███████████████████████████████████████████████████████████████████████████████████████████████████████████████████████████████████████████████████████████████████████▋        | 944/991 [20:19<01:00,  1.29s/batch, batch_loss=4.45, batch_index=945, batch_size=256]"
     ]
    },
    {
     "name": "stderr",
     "output_type": "stream",
     "text": [
      "\r",
      "Epoch 1/10:  95%|███████████████████████████████████████████████████████████████████████████████████████████████████████████████████████████████████████████████████████████████████████▊        | 945/991 [20:19<00:59,  1.29s/batch, batch_loss=4.45, batch_index=945, batch_size=256]"
     ]
    },
    {
     "name": "stderr",
     "output_type": "stream",
     "text": [
      "\r",
      "Epoch 1/10:  95%|███████████████████████████████████████████████████████████████████████████████████████████████████████████████████████████████████████████████████████████████████████▊        | 945/991 [20:20<00:59,  1.29s/batch, batch_loss=23.3, batch_index=946, batch_size=256]"
     ]
    },
    {
     "name": "stderr",
     "output_type": "stream",
     "text": [
      "\r",
      "Epoch 1/10:  95%|████████████████████████████████████████████████████████████████████████████████████████████████████████████████████████████████████████████████████████████████████████        | 946/991 [20:20<00:58,  1.29s/batch, batch_loss=23.3, batch_index=946, batch_size=256]"
     ]
    },
    {
     "name": "stderr",
     "output_type": "stream",
     "text": [
      "\r",
      "Epoch 1/10:  95%|████████████████████████████████████████████████████████████████████████████████████████████████████████████████████████████████████████████████████████████████████████        | 946/991 [20:22<00:58,  1.29s/batch, batch_loss=22.6, batch_index=947, batch_size=256]"
     ]
    },
    {
     "name": "stderr",
     "output_type": "stream",
     "text": [
      "\r",
      "Epoch 1/10:  96%|████████████████████████████████████████████████████████████████████████████████████████████████████████████████████████████████████████████████████████████████████████▏       | 947/991 [20:22<00:56,  1.29s/batch, batch_loss=22.6, batch_index=947, batch_size=256]"
     ]
    },
    {
     "name": "stderr",
     "output_type": "stream",
     "text": [
      "\r",
      "Epoch 1/10:  96%|████████████████████████████████████████████████████████████████████████████████████████████████████████████████████████████████████████████████████████████████████████▏       | 947/991 [20:23<00:56,  1.29s/batch, batch_loss=13.6, batch_index=948, batch_size=256]"
     ]
    },
    {
     "name": "stderr",
     "output_type": "stream",
     "text": [
      "\r",
      "Epoch 1/10:  96%|████████████████████████████████████████████████████████████████████████████████████████████████████████████████████████████████████████████████████████████████████████▎       | 948/991 [20:23<00:53,  1.25s/batch, batch_loss=13.6, batch_index=948, batch_size=256]"
     ]
    },
    {
     "name": "stderr",
     "output_type": "stream",
     "text": [
      "\r",
      "Epoch 1/10:  96%|████████████████████████████████████████████████████████████████████████████████████████████████████████████████████████████████████████████████████████████████████████▎       | 948/991 [20:24<00:53,  1.25s/batch, batch_loss=8.49, batch_index=949, batch_size=256]"
     ]
    },
    {
     "name": "stderr",
     "output_type": "stream",
     "text": [
      "\r",
      "Epoch 1/10:  96%|████████████████████████████████████████████████████████████████████████████████████████████████████████████████████████████████████████████████████████████████████████▌       | 949/991 [20:24<00:53,  1.27s/batch, batch_loss=8.49, batch_index=949, batch_size=256]"
     ]
    },
    {
     "name": "stderr",
     "output_type": "stream",
     "text": [
      "\r",
      "Epoch 1/10:  96%|████████████████████████████████████████████████████████████████████████████████████████████████████████████████████████████████████████████████████████████████████████▌       | 949/991 [20:25<00:53,  1.27s/batch, batch_loss=9.51, batch_index=950, batch_size=256]"
     ]
    },
    {
     "name": "stderr",
     "output_type": "stream",
     "text": [
      "\r",
      "Epoch 1/10:  96%|████████████████████████████████████████████████████████████████████████████████████████████████████████████████████████████████████████████████████████████████████████▋       | 950/991 [20:25<00:52,  1.27s/batch, batch_loss=9.51, batch_index=950, batch_size=256]"
     ]
    },
    {
     "name": "stderr",
     "output_type": "stream",
     "text": [
      "\r",
      "Epoch 1/10:  96%|████████████████████████████████████████████████████████████████████████████████████████████████████████████████████████████████████████████████████████████████████████▋       | 950/991 [20:27<00:52,  1.27s/batch, batch_loss=20.4, batch_index=951, batch_size=256]"
     ]
    },
    {
     "name": "stderr",
     "output_type": "stream",
     "text": [
      "\r",
      "Epoch 1/10:  96%|████████████████████████████████████████████████████████████████████████████████████████████████████████████████████████████████████████████████████████████████████████▉       | 951/991 [20:27<00:51,  1.28s/batch, batch_loss=20.4, batch_index=951, batch_size=256]"
     ]
    },
    {
     "name": "stderr",
     "output_type": "stream",
     "text": [
      "\r",
      "Epoch 1/10:  96%|████████████████████████████████████████████████████████████████████████████████████████████████████████████████████████████████████████████████████████████████████████▉       | 951/991 [20:28<00:51,  1.28s/batch, batch_loss=37.3, batch_index=952, batch_size=256]"
     ]
    },
    {
     "name": "stderr",
     "output_type": "stream",
     "text": [
      "\r",
      "Epoch 1/10:  96%|█████████████████████████████████████████████████████████████████████████████████████████████████████████████████████████████████████████████████████████████████████████       | 952/991 [20:28<00:50,  1.29s/batch, batch_loss=37.3, batch_index=952, batch_size=256]"
     ]
    },
    {
     "name": "stderr",
     "output_type": "stream",
     "text": [
      "\r",
      "Epoch 1/10:  96%|█████████████████████████████████████████████████████████████████████████████████████████████████████████████████████████████████████████████████████████████████████████       | 952/991 [20:29<00:50,  1.29s/batch, batch_loss=11.6, batch_index=953, batch_size=256]"
     ]
    },
    {
     "name": "stderr",
     "output_type": "stream",
     "text": [
      "\r",
      "Epoch 1/10:  96%|█████████████████████████████████████████████████████████████████████████████████████████████████████████████████████████████████████████████████████████████████████████▎      | 953/991 [20:29<00:49,  1.29s/batch, batch_loss=11.6, batch_index=953, batch_size=256]"
     ]
    },
    {
     "name": "stderr",
     "output_type": "stream",
     "text": [
      "\r",
      "Epoch 1/10:  96%|██████████████████████████████████████████████████████████████████████████████████████████████████████████████████████████████████████████████████████████████████████████▏      | 953/991 [20:31<00:49,  1.29s/batch, batch_loss=343, batch_index=954, batch_size=256]"
     ]
    },
    {
     "name": "stderr",
     "output_type": "stream",
     "text": [
      "\r",
      "Epoch 1/10:  96%|██████████████████████████████████████████████████████████████████████████████████████████████████████████████████████████████████████████████████████████████████████████▍      | 954/991 [20:31<00:47,  1.29s/batch, batch_loss=343, batch_index=954, batch_size=256]"
     ]
    },
    {
     "name": "stderr",
     "output_type": "stream",
     "text": [
      "\r",
      "Epoch 1/10:  96%|█████████████████████████████████████████████████████████████████████████████████████████████████████████████████████████████████████████████████████████████████████████▍      | 954/991 [20:32<00:47,  1.29s/batch, batch_loss=25.6, batch_index=955, batch_size=256]"
     ]
    },
    {
     "name": "stderr",
     "output_type": "stream",
     "text": [
      "\r",
      "Epoch 1/10:  96%|█████████████████████████████████████████████████████████████████████████████████████████████████████████████████████████████████████████████████████████████████████████▌      | 955/991 [20:32<00:46,  1.29s/batch, batch_loss=25.6, batch_index=955, batch_size=256]"
     ]
    },
    {
     "name": "stderr",
     "output_type": "stream",
     "text": [
      "\r",
      "Epoch 1/10:  96%|█████████████████████████████████████████████████████████████████████████████████████████████████████████████████████████████████████████████████████████████████████████▌      | 955/991 [20:33<00:46,  1.29s/batch, batch_loss=36.1, batch_index=956, batch_size=256]"
     ]
    },
    {
     "name": "stderr",
     "output_type": "stream",
     "text": [
      "\r",
      "Epoch 1/10:  96%|█████████████████████████████████████████████████████████████████████████████████████████████████████████████████████████████████████████████████████████████████████████▊      | 956/991 [20:33<00:45,  1.29s/batch, batch_loss=36.1, batch_index=956, batch_size=256]"
     ]
    },
    {
     "name": "stderr",
     "output_type": "stream",
     "text": [
      "\r",
      "Epoch 1/10:  96%|███████████████████████████████████████████████████████████████████████████████████████████████████████████████████████████████████████████████████████████████████████████▋      | 956/991 [20:34<00:45,  1.29s/batch, batch_loss=29, batch_index=957, batch_size=256]"
     ]
    },
    {
     "name": "stderr",
     "output_type": "stream",
     "text": [
      "\r",
      "Epoch 1/10:  97%|███████████████████████████████████████████████████████████████████████████████████████████████████████████████████████████████████████████████████████████████████████████▉      | 957/991 [20:34<00:44,  1.29s/batch, batch_loss=29, batch_index=957, batch_size=256]"
     ]
    },
    {
     "name": "stderr",
     "output_type": "stream",
     "text": [
      "\r",
      "Epoch 1/10:  97%|█████████████████████████████████████████████████████████████████████████████████████████████████████████████████████████████████████████████████████████████████████████▉      | 957/991 [20:36<00:44,  1.29s/batch, batch_loss=35.3, batch_index=958, batch_size=256]"
     ]
    },
    {
     "name": "stderr",
     "output_type": "stream",
     "text": [
      "\r",
      "Epoch 1/10:  97%|██████████████████████████████████████████████████████████████████████████████████████████████████████████████████████████████████████████████████████████████████████████▏     | 958/991 [20:36<00:42,  1.29s/batch, batch_loss=35.3, batch_index=958, batch_size=256]"
     ]
    },
    {
     "name": "stderr",
     "output_type": "stream",
     "text": [
      "\r",
      "Epoch 1/10:  97%|████████████████████████████████████████████████████████████████████████████████████████████████████████████████████████████████████████████████████████████████████████████      | 958/991 [20:37<00:42,  1.29s/batch, batch_loss=16, batch_index=959, batch_size=256]"
     ]
    },
    {
     "name": "stderr",
     "output_type": "stream",
     "text": [
      "\r",
      "Epoch 1/10:  97%|████████████████████████████████████████████████████████████████████████████████████████████████████████████████████████████████████████████████████████████████████████████▎     | 959/991 [20:37<00:41,  1.29s/batch, batch_loss=16, batch_index=959, batch_size=256]"
     ]
    },
    {
     "name": "stderr",
     "output_type": "stream",
     "text": [
      "\r",
      "Epoch 1/10:  97%|██████████████████████████████████████████████████████████████████████████████████████████████████████████████████████████████████████████████████████████████████████████▎     | 959/991 [20:38<00:41,  1.29s/batch, batch_loss=20.2, batch_index=960, batch_size=256]"
     ]
    },
    {
     "name": "stderr",
     "output_type": "stream",
     "text": [
      "\r",
      "Epoch 1/10:  97%|██████████████████████████████████████████████████████████████████████████████████████████████████████████████████████████████████████████████████████████████████████████▍     | 960/991 [20:38<00:39,  1.29s/batch, batch_loss=20.2, batch_index=960, batch_size=256]"
     ]
    },
    {
     "name": "stderr",
     "output_type": "stream",
     "text": [
      "\r",
      "Epoch 1/10:  97%|██████████████████████████████████████████████████████████████████████████████████████████████████████████████████████████████████████████████████████████████████████████▍     | 960/991 [20:40<00:39,  1.29s/batch, batch_loss=29.6, batch_index=961, batch_size=256]"
     ]
    },
    {
     "name": "stderr",
     "output_type": "stream",
     "text": [
      "\r",
      "Epoch 1/10:  97%|██████████████████████████████████████████████████████████████████████████████████████████████████████████████████████████████████████████████████████████████████████████▋     | 961/991 [20:40<00:38,  1.29s/batch, batch_loss=29.6, batch_index=961, batch_size=256]"
     ]
    },
    {
     "name": "stderr",
     "output_type": "stream",
     "text": [
      "\r",
      "Epoch 1/10:  97%|██████████████████████████████████████████████████████████████████████████████████████████████████████████████████████████████████████████████████████████████████████████▋     | 961/991 [20:41<00:38,  1.29s/batch, batch_loss=11.7, batch_index=962, batch_size=256]"
     ]
    },
    {
     "name": "stderr",
     "output_type": "stream",
     "text": [
      "\r",
      "Epoch 1/10:  97%|██████████████████████████████████████████████████████████████████████████████████████████████████████████████████████████████████████████████████████████████████████████▊     | 962/991 [20:41<00:37,  1.29s/batch, batch_loss=11.7, batch_index=962, batch_size=256]"
     ]
    },
    {
     "name": "stderr",
     "output_type": "stream",
     "text": [
      "\r",
      "Epoch 1/10:  97%|██████████████████████████████████████████████████████████████████████████████████████████████████████████████████████████████████████████████████████████████████████████▊     | 962/991 [20:42<00:37,  1.29s/batch, batch_loss=14.6, batch_index=963, batch_size=256]"
     ]
    },
    {
     "name": "stderr",
     "output_type": "stream",
     "text": [
      "\r",
      "Epoch 1/10:  97%|███████████████████████████████████████████████████████████████████████████████████████████████████████████████████████████████████████████████████████████████████████████     | 963/991 [20:42<00:36,  1.29s/batch, batch_loss=14.6, batch_index=963, batch_size=256]"
     ]
    },
    {
     "name": "stderr",
     "output_type": "stream",
     "text": [
      "\r",
      "Epoch 1/10:  97%|████████████████████████████████████████████████████████████████████████████████████████████████████████████████████████████████████████████████████████████████████████     | 963/991 [20:43<00:36,  1.29s/batch, batch_loss=9.41e+3, batch_index=964, batch_size=256]"
     ]
    },
    {
     "name": "stderr",
     "output_type": "stream",
     "text": [
      "\r",
      "Epoch 1/10:  97%|████████████████████████████████████████████████████████████████████████████████████████████████████████████████████████████████████████████████████████████████████████▎    | 964/991 [20:43<00:34,  1.30s/batch, batch_loss=9.41e+3, batch_index=964, batch_size=256]"
     ]
    },
    {
     "name": "stderr",
     "output_type": "stream",
     "text": [
      "\r",
      "Epoch 1/10:  97%|███████████████████████████████████████████████████████████████████████████████████████████████████████████████████████████████████████████████████████████████████████████▏    | 964/991 [20:45<00:34,  1.30s/batch, batch_loss=30.2, batch_index=965, batch_size=256]"
     ]
    },
    {
     "name": "stderr",
     "output_type": "stream",
     "text": [
      "\r",
      "Epoch 1/10:  97%|███████████████████████████████████████████████████████████████████████████████████████████████████████████████████████████████████████████████████████████████████████████▍    | 965/991 [20:45<00:33,  1.30s/batch, batch_loss=30.2, batch_index=965, batch_size=256]"
     ]
    },
    {
     "name": "stderr",
     "output_type": "stream",
     "text": [
      "\r",
      "Epoch 1/10:  97%|███████████████████████████████████████████████████████████████████████████████████████████████████████████████████████████████████████████████████████████████████████████▍    | 965/991 [20:46<00:33,  1.30s/batch, batch_loss=19.4, batch_index=966, batch_size=256]"
     ]
    },
    {
     "name": "stderr",
     "output_type": "stream",
     "text": [
      "\r",
      "Epoch 1/10:  97%|███████████████████████████████████████████████████████████████████████████████████████████████████████████████████████████████████████████████████████████████████████████▌    | 966/991 [20:46<00:32,  1.29s/batch, batch_loss=19.4, batch_index=966, batch_size=256]"
     ]
    },
    {
     "name": "stderr",
     "output_type": "stream",
     "text": [
      "\r",
      "Epoch 1/10:  97%|█████████████████████████████████████████████████████████████████████████████████████████████████████████████████████████████████████████████████████████████████████████▌    | 966/991 [20:47<00:32,  1.29s/batch, batch_loss=2.4e+4, batch_index=967, batch_size=256]"
     ]
    },
    {
     "name": "stderr",
     "output_type": "stream",
     "text": [
      "\r",
      "Epoch 1/10:  98%|█████████████████████████████████████████████████████████████████████████████████████████████████████████████████████████████████████████████████████████████████████████▊    | 967/991 [20:47<00:31,  1.30s/batch, batch_loss=2.4e+4, batch_index=967, batch_size=256]"
     ]
    },
    {
     "name": "stderr",
     "output_type": "stream",
     "text": [
      "\r",
      "Epoch 1/10:  98%|████████████████████████████████████████████████████████████████████████████████████████████████████████████████████████████████████████████████████████████████████████████▋    | 967/991 [20:49<00:31,  1.30s/batch, batch_loss=444, batch_index=968, batch_size=256]"
     ]
    },
    {
     "name": "stderr",
     "output_type": "stream",
     "text": [
      "\r",
      "Epoch 1/10:  98%|████████████████████████████████████████████████████████████████████████████████████████████████████████████████████████████████████████████████████████████████████████████▉    | 968/991 [20:49<00:29,  1.29s/batch, batch_loss=444, batch_index=968, batch_size=256]"
     ]
    },
    {
     "name": "stderr",
     "output_type": "stream",
     "text": [
      "\r",
      "Epoch 1/10:  98%|███████████████████████████████████████████████████████████████████████████████████████████████████████████████████████████████████████████████████████████████████████████▉    | 968/991 [20:50<00:29,  1.29s/batch, batch_loss=36.9, batch_index=969, batch_size=256]"
     ]
    },
    {
     "name": "stderr",
     "output_type": "stream",
     "text": [
      "\r",
      "Epoch 1/10:  98%|████████████████████████████████████████████████████████████████████████████████████████████████████████████████████████████████████████████████████████████████████████████    | 969/991 [20:50<00:28,  1.29s/batch, batch_loss=36.9, batch_index=969, batch_size=256]"
     ]
    },
    {
     "name": "stderr",
     "output_type": "stream",
     "text": [
      "\r",
      "Epoch 1/10:  98%|████████████████████████████████████████████████████████████████████████████████████████████████████████████████████████████████████████████████████████████████████████████    | 969/991 [20:51<00:28,  1.29s/batch, batch_loss=4.42, batch_index=970, batch_size=256]"
     ]
    },
    {
     "name": "stderr",
     "output_type": "stream",
     "text": [
      "\r",
      "Epoch 1/10:  98%|████████████████████████████████████████████████████████████████████████████████████████████████████████████████████████████████████████████████████████████████████████████▎   | 970/991 [20:51<00:27,  1.29s/batch, batch_loss=4.42, batch_index=970, batch_size=256]"
     ]
    },
    {
     "name": "stderr",
     "output_type": "stream",
     "text": [
      "\r",
      "Epoch 1/10:  98%|████████████████████████████████████████████████████████████████████████████████████████████████████████████████████████████████████████████████████████████████████████████▎   | 970/991 [20:52<00:27,  1.29s/batch, batch_loss=12.8, batch_index=971, batch_size=256]"
     ]
    },
    {
     "name": "stderr",
     "output_type": "stream",
     "text": [
      "\r",
      "Epoch 1/10:  98%|████████████████████████████████████████████████████████████████████████████████████████████████████████████████████████████████████████████████████████████████████████████▍   | 971/991 [20:52<00:25,  1.29s/batch, batch_loss=12.8, batch_index=971, batch_size=256]"
     ]
    },
    {
     "name": "stderr",
     "output_type": "stream",
     "text": [
      "\r",
      "Epoch 1/10:  98%|████████████████████████████████████████████████████████████████████████████████████████████████████████████████████████████████████████████████████████████████████████████▍   | 971/991 [20:54<00:25,  1.29s/batch, batch_loss=40.6, batch_index=972, batch_size=256]"
     ]
    },
    {
     "name": "stderr",
     "output_type": "stream",
     "text": [
      "\r",
      "Epoch 1/10:  98%|████████████████████████████████████████████████████████████████████████████████████████████████████████████████████████████████████████████████████████████████████████████▋   | 972/991 [20:54<00:24,  1.29s/batch, batch_loss=40.6, batch_index=972, batch_size=256]"
     ]
    },
    {
     "name": "stderr",
     "output_type": "stream",
     "text": [
      "\r",
      "Epoch 1/10:  98%|████████████████████████████████████████████████████████████████████████████████████████████████████████████████████████████████████████████████████████████████████████████▋   | 972/991 [20:55<00:24,  1.29s/batch, batch_loss=32.3, batch_index=973, batch_size=256]"
     ]
    },
    {
     "name": "stderr",
     "output_type": "stream",
     "text": [
      "\r",
      "Epoch 1/10:  98%|████████████████████████████████████████████████████████████████████████████████████████████████████████████████████████████████████████████████████████████████████████████▊   | 973/991 [20:55<00:23,  1.29s/batch, batch_loss=32.3, batch_index=973, batch_size=256]"
     ]
    },
    {
     "name": "stderr",
     "output_type": "stream",
     "text": [
      "\r",
      "Epoch 1/10:  98%|████████████████████████████████████████████████████████████████████████████████████████████████████████████████████████████████████████████████████████████████████████████▊   | 973/991 [20:56<00:23,  1.29s/batch, batch_loss=26.9, batch_index=974, batch_size=256]"
     ]
    },
    {
     "name": "stderr",
     "output_type": "stream",
     "text": [
      "\r",
      "Epoch 1/10:  98%|████████████████████████████████████████████████████████████████████████████████████████████████████████████████████████████████████████████████████████████████████████████▉   | 974/991 [20:56<00:22,  1.29s/batch, batch_loss=26.9, batch_index=974, batch_size=256]"
     ]
    },
    {
     "name": "stderr",
     "output_type": "stream",
     "text": [
      "\r",
      "Epoch 1/10:  98%|████████████████████████████████████████████████████████████████████████████████████████████████████████████████████████████████████████████████████████████████████████████▉   | 974/991 [20:58<00:22,  1.29s/batch, batch_loss=16.8, batch_index=975, batch_size=256]"
     ]
    },
    {
     "name": "stderr",
     "output_type": "stream",
     "text": [
      "\r",
      "Epoch 1/10:  98%|█████████████████████████████████████████████████████████████████████████████████████████████████████████████████████████████████████████████████████████████████████████████▏  | 975/991 [20:58<00:20,  1.26s/batch, batch_loss=16.8, batch_index=975, batch_size=256]"
     ]
    },
    {
     "name": "stderr",
     "output_type": "stream",
     "text": [
      "\r",
      "Epoch 1/10:  98%|█████████████████████████████████████████████████████████████████████████████████████████████████████████████████████████████████████████████████████████████████████████████▏  | 975/991 [20:59<00:20,  1.26s/batch, batch_loss=43.6, batch_index=976, batch_size=256]"
     ]
    },
    {
     "name": "stderr",
     "output_type": "stream",
     "text": [
      "\r",
      "Epoch 1/10:  98%|█████████████████████████████████████████████████████████████████████████████████████████████████████████████████████████████████████████████████████████████████████████████▎  | 976/991 [20:59<00:19,  1.27s/batch, batch_loss=43.6, batch_index=976, batch_size=256]"
     ]
    },
    {
     "name": "stderr",
     "output_type": "stream",
     "text": [
      "\r",
      "Epoch 1/10:  98%|█████████████████████████████████████████████████████████████████████████████████████████████████████████████████████████████████████████████████████████████████████████████▎  | 976/991 [21:00<00:19,  1.27s/batch, batch_loss=42.2, batch_index=977, batch_size=256]"
     ]
    },
    {
     "name": "stderr",
     "output_type": "stream",
     "text": [
      "\r",
      "Epoch 1/10:  99%|█████████████████████████████████████████████████████████████████████████████████████████████████████████████████████████████████████████████████████████████████████████████▌  | 977/991 [21:00<00:17,  1.28s/batch, batch_loss=42.2, batch_index=977, batch_size=256]"
     ]
    },
    {
     "name": "stderr",
     "output_type": "stream",
     "text": [
      "\r",
      "Epoch 1/10:  99%|█████████████████████████████████████████████████████████████████████████████████████████████████████████████████████████████████████████████████████████████████████████████▌  | 977/991 [21:01<00:17,  1.28s/batch, batch_loss=41.7, batch_index=978, batch_size=256]"
     ]
    },
    {
     "name": "stderr",
     "output_type": "stream",
     "text": [
      "\r",
      "Epoch 1/10:  99%|█████████████████████████████████████████████████████████████████████████████████████████████████████████████████████████████████████████████████████████████████████████████▋  | 978/991 [21:01<00:16,  1.28s/batch, batch_loss=41.7, batch_index=978, batch_size=256]"
     ]
    },
    {
     "name": "stderr",
     "output_type": "stream",
     "text": [
      "\r",
      "Epoch 1/10:  99%|█████████████████████████████████████████████████████████████████████████████████████████████████████████████████████████████████████████████████████████████████████████████▋  | 978/991 [21:03<00:16,  1.28s/batch, batch_loss=41.1, batch_index=979, batch_size=256]"
     ]
    },
    {
     "name": "stderr",
     "output_type": "stream",
     "text": [
      "\r",
      "Epoch 1/10:  99%|█████████████████████████████████████████████████████████████████████████████████████████████████████████████████████████████████████████████████████████████████████████████▊  | 979/991 [21:03<00:15,  1.28s/batch, batch_loss=41.1, batch_index=979, batch_size=256]"
     ]
    },
    {
     "name": "stderr",
     "output_type": "stream",
     "text": [
      "\r",
      "Epoch 1/10:  99%|█████████████████████████████████████████████████████████████████████████████████████████████████████████████████████████████████████████████████████████████████████████████▊  | 979/991 [21:04<00:15,  1.28s/batch, batch_loss=40.3, batch_index=980, batch_size=256]"
     ]
    },
    {
     "name": "stderr",
     "output_type": "stream",
     "text": [
      "\r",
      "Epoch 1/10:  99%|██████████████████████████████████████████████████████████████████████████████████████████████████████████████████████████████████████████████████████████████████████████████  | 980/991 [21:04<00:14,  1.29s/batch, batch_loss=40.3, batch_index=980, batch_size=256]"
     ]
    },
    {
     "name": "stderr",
     "output_type": "stream",
     "text": [
      "\r",
      "Epoch 1/10:  99%|██████████████████████████████████████████████████████████████████████████████████████████████████████████████████████████████████████████████████████████████████████████████  | 980/991 [21:05<00:14,  1.29s/batch, batch_loss=39.4, batch_index=981, batch_size=256]"
     ]
    },
    {
     "name": "stderr",
     "output_type": "stream",
     "text": [
      "\r",
      "Epoch 1/10:  99%|██████████████████████████████████████████████████████████████████████████████████████████████████████████████████████████████████████████████████████████████████████████████▏ | 981/991 [21:05<00:12,  1.29s/batch, batch_loss=39.4, batch_index=981, batch_size=256]"
     ]
    },
    {
     "name": "stderr",
     "output_type": "stream",
     "text": [
      "\r",
      "Epoch 1/10:  99%|██████████████████████████████████████████████████████████████████████████████████████████████████████████████████████████████████████████████████████████████████████████████▏ | 981/991 [21:07<00:12,  1.29s/batch, batch_loss=38.4, batch_index=982, batch_size=256]"
     ]
    },
    {
     "name": "stderr",
     "output_type": "stream",
     "text": [
      "\r",
      "Epoch 1/10:  99%|██████████████████████████████████████████████████████████████████████████████████████████████████████████████████████████████████████████████████████████████████████████████▍ | 982/991 [21:07<00:11,  1.29s/batch, batch_loss=38.4, batch_index=982, batch_size=256]"
     ]
    },
    {
     "name": "stderr",
     "output_type": "stream",
     "text": [
      "\r",
      "Epoch 1/10:  99%|██████████████████████████████████████████████████████████████████████████████████████████████████████████████████████████████████████████████████████████████████████████████▍ | 982/991 [21:08<00:11,  1.29s/batch, batch_loss=37.5, batch_index=983, batch_size=256]"
     ]
    },
    {
     "name": "stderr",
     "output_type": "stream",
     "text": [
      "\r",
      "Epoch 1/10:  99%|██████████████████████████████████████████████████████████████████████████████████████████████████████████████████████████████████████████████████████████████████████████████▌ | 983/991 [21:08<00:10,  1.30s/batch, batch_loss=37.5, batch_index=983, batch_size=256]"
     ]
    },
    {
     "name": "stderr",
     "output_type": "stream",
     "text": [
      "\r",
      "Epoch 1/10:  99%|██████████████████████████████████████████████████████████████████████████████████████████████████████████████████████████████████████████████████████████████████████████████▌ | 983/991 [21:09<00:10,  1.30s/batch, batch_loss=36.5, batch_index=984, batch_size=256]"
     ]
    },
    {
     "name": "stderr",
     "output_type": "stream",
     "text": [
      "\r",
      "Epoch 1/10:  99%|██████████████████████████████████████████████████████████████████████████████████████████████████████████████████████████████████████████████████████████████████████████████▊ | 984/991 [21:09<00:09,  1.30s/batch, batch_loss=36.5, batch_index=984, batch_size=256]"
     ]
    },
    {
     "name": "stderr",
     "output_type": "stream",
     "text": [
      "\r",
      "Epoch 1/10:  99%|██████████████████████████████████████████████████████████████████████████████████████████████████████████████████████████████████████████████████████████████████████████████▊ | 984/991 [21:10<00:09,  1.30s/batch, batch_loss=35.5, batch_index=985, batch_size=256]"
     ]
    },
    {
     "name": "stderr",
     "output_type": "stream",
     "text": [
      "\r",
      "Epoch 1/10:  99%|██████████████████████████████████████████████████████████████████████████████████████████████████████████████████████████████████████████████████████████████████████████████▉ | 985/991 [21:10<00:07,  1.30s/batch, batch_loss=35.5, batch_index=985, batch_size=256]"
     ]
    },
    {
     "name": "stderr",
     "output_type": "stream",
     "text": [
      "\r",
      "Epoch 1/10:  99%|██████████████████████████████████████████████████████████████████████████████████████████████████████████████████████████████████████████████████████████████████████████████▉ | 985/991 [21:12<00:07,  1.30s/batch, batch_loss=34.4, batch_index=986, batch_size=256]"
     ]
    },
    {
     "name": "stderr",
     "output_type": "stream",
     "text": [
      "\r",
      "Epoch 1/10:  99%|███████████████████████████████████████████████████████████████████████████████████████████████████████████████████████████████████████████████████████████████████████████████ | 986/991 [21:12<00:06,  1.30s/batch, batch_loss=34.4, batch_index=986, batch_size=256]"
     ]
    },
    {
     "name": "stderr",
     "output_type": "stream",
     "text": [
      "\r",
      "Epoch 1/10:  99%|███████████████████████████████████████████████████████████████████████████████████████████████████████████████████████████████████████████████████████████████████████████████ | 986/991 [21:13<00:06,  1.30s/batch, batch_loss=33.3, batch_index=987, batch_size=256]"
     ]
    },
    {
     "name": "stderr",
     "output_type": "stream",
     "text": [
      "\r",
      "Epoch 1/10: 100%|███████████████████████████████████████████████████████████████████████████████████████████████████████████████████████████████████████████████████████████████████████████████▎| 987/991 [21:13<00:05,  1.30s/batch, batch_loss=33.3, batch_index=987, batch_size=256]"
     ]
    },
    {
     "name": "stderr",
     "output_type": "stream",
     "text": [
      "\r",
      "Epoch 1/10: 100%|█████████████████████████████████████████████████████████████████████████████████████████████████████████████████████████████████████████████████████████████████████████████████▎| 987/991 [21:14<00:05,  1.30s/batch, batch_loss=32, batch_index=988, batch_size=256]"
     ]
    },
    {
     "name": "stderr",
     "output_type": "stream",
     "text": [
      "\r",
      "Epoch 1/10: 100%|█████████████████████████████████████████████████████████████████████████████████████████████████████████████████████████████████████████████████████████████████████████████████▍| 988/991 [21:14<00:03,  1.30s/batch, batch_loss=32, batch_index=988, batch_size=256]"
     ]
    },
    {
     "name": "stderr",
     "output_type": "stream",
     "text": [
      "\r",
      "Epoch 1/10: 100%|███████████████████████████████████████████████████████████████████████████████████████████████████████████████████████████████████████████████████████████████████████████████▍| 988/991 [21:16<00:03,  1.30s/batch, batch_loss=30.3, batch_index=989, batch_size=256]"
     ]
    },
    {
     "name": "stderr",
     "output_type": "stream",
     "text": [
      "\r",
      "Epoch 1/10: 100%|███████████████████████████████████████████████████████████████████████████████████████████████████████████████████████████████████████████████████████████████████████████████▋| 989/991 [21:16<00:02,  1.30s/batch, batch_loss=30.3, batch_index=989, batch_size=256]"
     ]
    },
    {
     "name": "stderr",
     "output_type": "stream",
     "text": [
      "\r",
      "Epoch 1/10: 100%|███████████████████████████████████████████████████████████████████████████████████████████████████████████████████████████████████████████████████████████████████████████████▋| 989/991 [21:17<00:02,  1.30s/batch, batch_loss=28.1, batch_index=990, batch_size=256]"
     ]
    },
    {
     "name": "stderr",
     "output_type": "stream",
     "text": [
      "\r",
      "Epoch 1/10: 100%|███████████████████████████████████████████████████████████████████████████████████████████████████████████████████████████████████████████████████████████████████████████████▊| 990/991 [21:17<00:01,  1.30s/batch, batch_loss=28.1, batch_index=990, batch_size=256]"
     ]
    },
    {
     "name": "stderr",
     "output_type": "stream",
     "text": [
      "/shared/storage/cs/studentscratch/js3921/python_environments/envs/project_env_cuda/lib/python3.9/site-packages/torch/nn/modules/loss.py:610: UserWarning: Using a target size (torch.Size([220, 10, 4])) that is different to the input size (torch.Size([256, 10, 4])). This will likely lead to incorrect results due to broadcasting. Please ensure they have the same size.\n",
      "  return F.mse_loss(input, target, reduction=self.reduction)\n",
      "\r",
      "Epoch 1/10: 100%|███████████████████████████████████████████████████████████████████████████████████████████████████████████████████████████████████████████████████████████████████████████████▊| 990/991 [21:17<00:01,  1.29s/batch, batch_loss=28.1, batch_index=990, batch_size=256]"
     ]
    },
    {
     "name": "stderr",
     "output_type": "stream",
     "text": [
      "\n"
     ]
    },
    {
     "ename": "RuntimeError",
     "evalue": "The size of tensor a (256) must match the size of tensor b (220) at non-singleton dimension 0",
     "output_type": "error",
     "traceback": [
      "\u001b[0;31m---------------------------------------------------------------------------\u001b[0m",
      "\u001b[0;31mRuntimeError\u001b[0m                              Traceback (most recent call last)",
      "Cell \u001b[0;32mIn[12], line 34\u001b[0m\n\u001b[1;32m     31\u001b[0m outputs \u001b[38;5;241m=\u001b[39m model(inputs)\n\u001b[1;32m     32\u001b[0m outputs \u001b[38;5;241m=\u001b[39m outputs\u001b[38;5;241m.\u001b[39mpermute(\u001b[38;5;241m1\u001b[39m, \u001b[38;5;241m0\u001b[39m, \u001b[38;5;241m2\u001b[39m)\n\u001b[0;32m---> 34\u001b[0m loss \u001b[38;5;241m=\u001b[39m \u001b[43mcriterion\u001b[49m\u001b[43m(\u001b[49m\u001b[43moutputs\u001b[49m\u001b[43m,\u001b[49m\u001b[43m \u001b[49m\u001b[43mtargets\u001b[49m\u001b[43m)\u001b[49m\n\u001b[1;32m     35\u001b[0m loss\u001b[38;5;241m.\u001b[39mbackward()\n\u001b[1;32m     37\u001b[0m optimizer\u001b[38;5;241m.\u001b[39mstep()\n",
      "File \u001b[0;32m/shared/storage/cs/studentscratch/js3921/python_environments/envs/project_env_cuda/lib/python3.9/site-packages/torch/nn/modules/module.py:1739\u001b[0m, in \u001b[0;36mModule._wrapped_call_impl\u001b[0;34m(self, *args, **kwargs)\u001b[0m\n\u001b[1;32m   1737\u001b[0m     \u001b[38;5;28;01mreturn\u001b[39;00m \u001b[38;5;28mself\u001b[39m\u001b[38;5;241m.\u001b[39m_compiled_call_impl(\u001b[38;5;241m*\u001b[39margs, \u001b[38;5;241m*\u001b[39m\u001b[38;5;241m*\u001b[39mkwargs)  \u001b[38;5;66;03m# type: ignore[misc]\u001b[39;00m\n\u001b[1;32m   1738\u001b[0m \u001b[38;5;28;01melse\u001b[39;00m:\n\u001b[0;32m-> 1739\u001b[0m     \u001b[38;5;28;01mreturn\u001b[39;00m \u001b[38;5;28;43mself\u001b[39;49m\u001b[38;5;241;43m.\u001b[39;49m\u001b[43m_call_impl\u001b[49m\u001b[43m(\u001b[49m\u001b[38;5;241;43m*\u001b[39;49m\u001b[43margs\u001b[49m\u001b[43m,\u001b[49m\u001b[43m \u001b[49m\u001b[38;5;241;43m*\u001b[39;49m\u001b[38;5;241;43m*\u001b[39;49m\u001b[43mkwargs\u001b[49m\u001b[43m)\u001b[49m\n",
      "File \u001b[0;32m/shared/storage/cs/studentscratch/js3921/python_environments/envs/project_env_cuda/lib/python3.9/site-packages/torch/nn/modules/module.py:1750\u001b[0m, in \u001b[0;36mModule._call_impl\u001b[0;34m(self, *args, **kwargs)\u001b[0m\n\u001b[1;32m   1745\u001b[0m \u001b[38;5;66;03m# If we don't have any hooks, we want to skip the rest of the logic in\u001b[39;00m\n\u001b[1;32m   1746\u001b[0m \u001b[38;5;66;03m# this function, and just call forward.\u001b[39;00m\n\u001b[1;32m   1747\u001b[0m \u001b[38;5;28;01mif\u001b[39;00m \u001b[38;5;129;01mnot\u001b[39;00m (\u001b[38;5;28mself\u001b[39m\u001b[38;5;241m.\u001b[39m_backward_hooks \u001b[38;5;129;01mor\u001b[39;00m \u001b[38;5;28mself\u001b[39m\u001b[38;5;241m.\u001b[39m_backward_pre_hooks \u001b[38;5;129;01mor\u001b[39;00m \u001b[38;5;28mself\u001b[39m\u001b[38;5;241m.\u001b[39m_forward_hooks \u001b[38;5;129;01mor\u001b[39;00m \u001b[38;5;28mself\u001b[39m\u001b[38;5;241m.\u001b[39m_forward_pre_hooks\n\u001b[1;32m   1748\u001b[0m         \u001b[38;5;129;01mor\u001b[39;00m _global_backward_pre_hooks \u001b[38;5;129;01mor\u001b[39;00m _global_backward_hooks\n\u001b[1;32m   1749\u001b[0m         \u001b[38;5;129;01mor\u001b[39;00m _global_forward_hooks \u001b[38;5;129;01mor\u001b[39;00m _global_forward_pre_hooks):\n\u001b[0;32m-> 1750\u001b[0m     \u001b[38;5;28;01mreturn\u001b[39;00m \u001b[43mforward_call\u001b[49m\u001b[43m(\u001b[49m\u001b[38;5;241;43m*\u001b[39;49m\u001b[43margs\u001b[49m\u001b[43m,\u001b[49m\u001b[43m \u001b[49m\u001b[38;5;241;43m*\u001b[39;49m\u001b[38;5;241;43m*\u001b[39;49m\u001b[43mkwargs\u001b[49m\u001b[43m)\u001b[49m\n\u001b[1;32m   1752\u001b[0m result \u001b[38;5;241m=\u001b[39m \u001b[38;5;28;01mNone\u001b[39;00m\n\u001b[1;32m   1753\u001b[0m called_always_called_hooks \u001b[38;5;241m=\u001b[39m \u001b[38;5;28mset\u001b[39m()\n",
      "File \u001b[0;32m/shared/storage/cs/studentscratch/js3921/python_environments/envs/project_env_cuda/lib/python3.9/site-packages/torch/nn/modules/loss.py:610\u001b[0m, in \u001b[0;36mMSELoss.forward\u001b[0;34m(self, input, target)\u001b[0m\n\u001b[1;32m    609\u001b[0m \u001b[38;5;28;01mdef\u001b[39;00m \u001b[38;5;21mforward\u001b[39m(\u001b[38;5;28mself\u001b[39m, \u001b[38;5;28minput\u001b[39m: Tensor, target: Tensor) \u001b[38;5;241m-\u001b[39m\u001b[38;5;241m>\u001b[39m Tensor:\n\u001b[0;32m--> 610\u001b[0m     \u001b[38;5;28;01mreturn\u001b[39;00m \u001b[43mF\u001b[49m\u001b[38;5;241;43m.\u001b[39;49m\u001b[43mmse_loss\u001b[49m\u001b[43m(\u001b[49m\u001b[38;5;28;43minput\u001b[39;49m\u001b[43m,\u001b[49m\u001b[43m \u001b[49m\u001b[43mtarget\u001b[49m\u001b[43m,\u001b[49m\u001b[43m \u001b[49m\u001b[43mreduction\u001b[49m\u001b[38;5;241;43m=\u001b[39;49m\u001b[38;5;28;43mself\u001b[39;49m\u001b[38;5;241;43m.\u001b[39;49m\u001b[43mreduction\u001b[49m\u001b[43m)\u001b[49m\n",
      "File \u001b[0;32m/shared/storage/cs/studentscratch/js3921/python_environments/envs/project_env_cuda/lib/python3.9/site-packages/torch/nn/functional.py:3884\u001b[0m, in \u001b[0;36mmse_loss\u001b[0;34m(input, target, size_average, reduce, reduction, weight)\u001b[0m\n\u001b[1;32m   3881\u001b[0m \u001b[38;5;28;01mif\u001b[39;00m size_average \u001b[38;5;129;01mis\u001b[39;00m \u001b[38;5;129;01mnot\u001b[39;00m \u001b[38;5;28;01mNone\u001b[39;00m \u001b[38;5;129;01mor\u001b[39;00m reduce \u001b[38;5;129;01mis\u001b[39;00m \u001b[38;5;129;01mnot\u001b[39;00m \u001b[38;5;28;01mNone\u001b[39;00m:\n\u001b[1;32m   3882\u001b[0m     reduction \u001b[38;5;241m=\u001b[39m _Reduction\u001b[38;5;241m.\u001b[39mlegacy_get_string(size_average, reduce)\n\u001b[0;32m-> 3884\u001b[0m expanded_input, expanded_target \u001b[38;5;241m=\u001b[39m \u001b[43mtorch\u001b[49m\u001b[38;5;241;43m.\u001b[39;49m\u001b[43mbroadcast_tensors\u001b[49m\u001b[43m(\u001b[49m\u001b[38;5;28;43minput\u001b[39;49m\u001b[43m,\u001b[49m\u001b[43m \u001b[49m\u001b[43mtarget\u001b[49m\u001b[43m)\u001b[49m\n\u001b[1;32m   3886\u001b[0m \u001b[38;5;28;01mif\u001b[39;00m weight \u001b[38;5;129;01mis\u001b[39;00m \u001b[38;5;129;01mnot\u001b[39;00m \u001b[38;5;28;01mNone\u001b[39;00m:\n\u001b[1;32m   3887\u001b[0m     \u001b[38;5;28;01mif\u001b[39;00m weight\u001b[38;5;241m.\u001b[39msize() \u001b[38;5;241m!=\u001b[39m \u001b[38;5;28minput\u001b[39m\u001b[38;5;241m.\u001b[39msize():\n",
      "File \u001b[0;32m/shared/storage/cs/studentscratch/js3921/python_environments/envs/project_env_cuda/lib/python3.9/site-packages/torch/functional.py:76\u001b[0m, in \u001b[0;36mbroadcast_tensors\u001b[0;34m(*tensors)\u001b[0m\n\u001b[1;32m     74\u001b[0m \u001b[38;5;28;01mif\u001b[39;00m has_torch_function(tensors):\n\u001b[1;32m     75\u001b[0m     \u001b[38;5;28;01mreturn\u001b[39;00m handle_torch_function(broadcast_tensors, tensors, \u001b[38;5;241m*\u001b[39mtensors)\n\u001b[0;32m---> 76\u001b[0m \u001b[38;5;28;01mreturn\u001b[39;00m \u001b[43m_VF\u001b[49m\u001b[38;5;241;43m.\u001b[39;49m\u001b[43mbroadcast_tensors\u001b[49m\u001b[43m(\u001b[49m\u001b[43mtensors\u001b[49m\u001b[43m)\u001b[49m\n",
      "\u001b[0;31mRuntimeError\u001b[0m: The size of tensor a (256) must match the size of tensor b (220) at non-singleton dimension 0"
     ]
    }
   ],
   "source": [
    "batch_size = 256\n",
    "learning_rate = 1e-3\n",
    "num_epochs = 10\n",
    "input_window = 5\n",
    "prediction_window = 10\n",
    "device = torch.device(\"cuda\" if torch.cuda.is_available() else \"cpu\")\n",
    "print(\"cuda\" if torch.cuda.is_available() else \"cpu\")\n",
    "model = NeuralNetwork(batch_size, input_window, prediction_window, device=device).to(device)\n",
    "\n",
    "train_dataset = DoomMotionDataset(coco_train, TRAIN_RUN, input_window, prediction_window)\n",
    "train_loader = DataLoader(train_dataset, batch_size=batch_size, shuffle=False)\n",
    "\n",
    "val_dataset = DoomMotionDataset(coco_val, VAL_RUN, input_window, prediction_window)\n",
    "val_loader = DataLoader(val_dataset, batch_size=batch_size, shuffle=False)\n",
    "\n",
    "# Loss function and optimizer\n",
    "criterion = torch.nn.MSELoss()\n",
    "optimizer = optim.Adam(model.parameters(), lr=learning_rate)\n",
    "\n",
    "for epoch in range(num_epochs):\n",
    "    model.train()\n",
    "    running_loss = 0.0\n",
    "    progress_bar = tqdm(train_loader, desc=f\"Epoch {epoch+1}/{num_epochs}\", unit=\"batch\")\n",
    "    for batch_idx, (inputs, targets) in enumerate(progress_bar):\n",
    "        inputs, targets = inputs.to(device), targets.to(device)\n",
    "        #print(inputs.shape)\n",
    "        #print(targets.shape)\n",
    "\n",
    "        optimizer.zero_grad()\n",
    "\n",
    "        outputs = model(inputs)\n",
    "        outputs = outputs.permute(1, 0, 2)\n",
    "        \n",
    "        loss = criterion(outputs, targets)\n",
    "        loss.backward()\n",
    "\n",
    "        optimizer.step()\n",
    "\n",
    "        running_loss += loss.item()\n",
    "\n",
    "        progress_bar.set_postfix({\n",
    "            \"batch_loss\": loss.item(),\n",
    "            \"batch_index\": batch_idx + 1,\n",
    "            \"batch_size\": inputs.size(0)\n",
    "        })\n",
    "\n",
    "    # Average loss per epoch\n",
    "    epoch_loss = running_loss / len(train_loader)\n",
    "    print(f\"Epoch {epoch+1}, Loss: {epoch_loss:.4f}\")\n",
    "\n",
    "    model.eval()  # Set the model to evaluation mode\n",
    "    running_loss = 0.0\n",
    "    \n",
    "    \n",
    "    progress_bar = tqdm(val_loader, desc=\"Validation\", unit=\"batch\")\n",
    "    \n",
    "    with torch.no_grad():  # Disable gradient calculations for evaluation\n",
    "        for batch_idx, (inputs, targets) in enumerate(progress_bar):\n",
    "            inputs, targets = inputs.to(device), targets.to(device)\n",
    "            \n",
    "            if inputs.shape[0] != targets.shape[0]:\n",
    "                continue\n",
    "                \n",
    "            outputs = model(inputs)\n",
    "            outputs = outputs.permute(1, 0, 2)\n",
    "            \n",
    "            loss = criterion(outputs, targets)\n",
    "            \n",
    "            running_loss += loss.item()\n",
    "            \n",
    "            progress_bar.set_postfix({\n",
    "                \"batch_loss\": loss.item(),\n",
    "                \"batch_index\": batch_idx + 1,\n",
    "                \"batch_size\": inputs.size(0)\n",
    "            })\n",
    "    \n",
    "    # Average loss over all batches\n",
    "    val_loss = running_loss / len(val_loader)\n",
    "    print(f\"Val Loss: {val_loss:.4f}\")\n",
    "\n",
    "# Save the trained model\n",
    "torch.save(model.state_dict(), \"movement_seq2seq.pth\")"
   ]
  },
  {
   "cell_type": "code",
   "execution_count": 13,
   "id": "21777fac-cf3a-4274-aa67-74c183cc9d4d",
   "metadata": {
    "execution": {
     "iopub.execute_input": "2025-03-11T14:25:50.757105Z",
     "iopub.status.busy": "2025-03-11T14:25:50.756562Z",
     "iopub.status.idle": "2025-03-11T14:25:50.762838Z",
     "shell.execute_reply": "2025-03-11T14:25:50.762056Z"
    }
   },
   "outputs": [
    {
     "name": "stdout",
     "output_type": "stream",
     "text": [
      "torch.Size([256, 10, 4])\n"
     ]
    }
   ],
   "source": [
    "print(outputs.shape)"
   ]
  },
  {
   "cell_type": "code",
   "execution_count": 14,
   "id": "922aeef1-12e6-4378-ac74-3dcffba2132a",
   "metadata": {
    "execution": {
     "iopub.execute_input": "2025-03-11T14:25:50.767705Z",
     "iopub.status.busy": "2025-03-11T14:25:50.767160Z",
     "iopub.status.idle": "2025-03-11T14:25:50.774010Z",
     "shell.execute_reply": "2025-03-11T14:25:50.772797Z"
    }
   },
   "outputs": [
    {
     "name": "stdout",
     "output_type": "stream",
     "text": [
      "torch.Size([220, 10, 4])\n"
     ]
    }
   ],
   "source": [
    "print(targets.shape)"
   ]
  },
  {
   "cell_type": "code",
   "execution_count": 15,
   "id": "f8d938cf-107b-4881-b678-3a53f564548c",
   "metadata": {
    "execution": {
     "iopub.execute_input": "2025-03-11T14:25:50.779018Z",
     "iopub.status.busy": "2025-03-11T14:25:50.778347Z",
     "iopub.status.idle": "2025-03-11T14:25:50.785942Z",
     "shell.execute_reply": "2025-03-11T14:25:50.784511Z"
    }
   },
   "outputs": [
    {
     "name": "stdout",
     "output_type": "stream",
     "text": [
      "torch.Size([220, 5, 4])\n"
     ]
    }
   ],
   "source": [
    "print(inputs.shape)"
   ]
  },
  {
   "cell_type": "code",
   "execution_count": 16,
   "id": "1ce70e48-3ccb-4628-91f7-19fd56e7f6aa",
   "metadata": {
    "execution": {
     "iopub.execute_input": "2025-03-11T14:25:50.792473Z",
     "iopub.status.busy": "2025-03-11T14:25:50.791606Z",
     "iopub.status.idle": "2025-03-11T14:25:51.235839Z",
     "shell.execute_reply": "2025-03-11T14:25:51.233635Z"
    }
   },
   "outputs": [
    {
     "ename": "FileNotFoundError",
     "evalue": "[Errno 2] No such file or directory: 'movement_seq2seq.pth'",
     "output_type": "error",
     "traceback": [
      "\u001b[0;31m---------------------------------------------------------------------------\u001b[0m",
      "\u001b[0;31mFileNotFoundError\u001b[0m                         Traceback (most recent call last)",
      "Cell \u001b[0;32mIn[16], line 4\u001b[0m\n\u001b[1;32m      2\u001b[0m criterion \u001b[38;5;241m=\u001b[39m torch\u001b[38;5;241m.\u001b[39mnn\u001b[38;5;241m.\u001b[39mMSELoss()\n\u001b[1;32m      3\u001b[0m model \u001b[38;5;241m=\u001b[39m NeuralNetwork(batch_size, input_window, prediction_window, device\u001b[38;5;241m=\u001b[39mdevice)\u001b[38;5;241m.\u001b[39mto(device)\n\u001b[0;32m----> 4\u001b[0m model\u001b[38;5;241m.\u001b[39mload_state_dict(\u001b[43mtorch\u001b[49m\u001b[38;5;241;43m.\u001b[39;49m\u001b[43mload\u001b[49m\u001b[43m(\u001b[49m\u001b[38;5;124;43m\"\u001b[39;49m\u001b[38;5;124;43mmovement_seq2seq.pth\u001b[39;49m\u001b[38;5;124;43m\"\u001b[39;49m\u001b[43m,\u001b[49m\u001b[43m \u001b[49m\u001b[43mweights_only\u001b[49m\u001b[38;5;241;43m=\u001b[39;49m\u001b[38;5;28;43;01mTrue\u001b[39;49;00m\u001b[43m)\u001b[49m)\n\u001b[1;32m      6\u001b[0m test_dataset \u001b[38;5;241m=\u001b[39m DoomMotionDataset(coco_test, TEST_RUN, input_window, prediction_window)\n\u001b[1;32m      7\u001b[0m test_loader \u001b[38;5;241m=\u001b[39m DataLoader(test_dataset, batch_size\u001b[38;5;241m=\u001b[39m\u001b[38;5;241m256\u001b[39m, shuffle\u001b[38;5;241m=\u001b[39m\u001b[38;5;28;01mFalse\u001b[39;00m)\n",
      "File \u001b[0;32m/shared/storage/cs/studentscratch/js3921/python_environments/envs/project_env_cuda/lib/python3.9/site-packages/torch/serialization.py:1425\u001b[0m, in \u001b[0;36mload\u001b[0;34m(f, map_location, pickle_module, weights_only, mmap, **pickle_load_args)\u001b[0m\n\u001b[1;32m   1422\u001b[0m \u001b[38;5;28;01mif\u001b[39;00m \u001b[38;5;124m\"\u001b[39m\u001b[38;5;124mencoding\u001b[39m\u001b[38;5;124m\"\u001b[39m \u001b[38;5;129;01mnot\u001b[39;00m \u001b[38;5;129;01min\u001b[39;00m pickle_load_args\u001b[38;5;241m.\u001b[39mkeys():\n\u001b[1;32m   1423\u001b[0m     pickle_load_args[\u001b[38;5;124m\"\u001b[39m\u001b[38;5;124mencoding\u001b[39m\u001b[38;5;124m\"\u001b[39m] \u001b[38;5;241m=\u001b[39m \u001b[38;5;124m\"\u001b[39m\u001b[38;5;124mutf-8\u001b[39m\u001b[38;5;124m\"\u001b[39m\n\u001b[0;32m-> 1425\u001b[0m \u001b[38;5;28;01mwith\u001b[39;00m \u001b[43m_open_file_like\u001b[49m\u001b[43m(\u001b[49m\u001b[43mf\u001b[49m\u001b[43m,\u001b[49m\u001b[43m \u001b[49m\u001b[38;5;124;43m\"\u001b[39;49m\u001b[38;5;124;43mrb\u001b[39;49m\u001b[38;5;124;43m\"\u001b[39;49m\u001b[43m)\u001b[49m \u001b[38;5;28;01mas\u001b[39;00m opened_file:\n\u001b[1;32m   1426\u001b[0m     \u001b[38;5;28;01mif\u001b[39;00m _is_zipfile(opened_file):\n\u001b[1;32m   1427\u001b[0m         \u001b[38;5;66;03m# The zipfile reader is going to advance the current file position.\u001b[39;00m\n\u001b[1;32m   1428\u001b[0m         \u001b[38;5;66;03m# If we want to actually tail call to torch.jit.load, we need to\u001b[39;00m\n\u001b[1;32m   1429\u001b[0m         \u001b[38;5;66;03m# reset back to the original position.\u001b[39;00m\n\u001b[1;32m   1430\u001b[0m         orig_position \u001b[38;5;241m=\u001b[39m opened_file\u001b[38;5;241m.\u001b[39mtell()\n",
      "File \u001b[0;32m/shared/storage/cs/studentscratch/js3921/python_environments/envs/project_env_cuda/lib/python3.9/site-packages/torch/serialization.py:751\u001b[0m, in \u001b[0;36m_open_file_like\u001b[0;34m(name_or_buffer, mode)\u001b[0m\n\u001b[1;32m    749\u001b[0m \u001b[38;5;28;01mdef\u001b[39;00m \u001b[38;5;21m_open_file_like\u001b[39m(name_or_buffer, mode):\n\u001b[1;32m    750\u001b[0m     \u001b[38;5;28;01mif\u001b[39;00m _is_path(name_or_buffer):\n\u001b[0;32m--> 751\u001b[0m         \u001b[38;5;28;01mreturn\u001b[39;00m \u001b[43m_open_file\u001b[49m\u001b[43m(\u001b[49m\u001b[43mname_or_buffer\u001b[49m\u001b[43m,\u001b[49m\u001b[43m \u001b[49m\u001b[43mmode\u001b[49m\u001b[43m)\u001b[49m\n\u001b[1;32m    752\u001b[0m     \u001b[38;5;28;01melse\u001b[39;00m:\n\u001b[1;32m    753\u001b[0m         \u001b[38;5;28;01mif\u001b[39;00m \u001b[38;5;124m\"\u001b[39m\u001b[38;5;124mw\u001b[39m\u001b[38;5;124m\"\u001b[39m \u001b[38;5;129;01min\u001b[39;00m mode:\n",
      "File \u001b[0;32m/shared/storage/cs/studentscratch/js3921/python_environments/envs/project_env_cuda/lib/python3.9/site-packages/torch/serialization.py:732\u001b[0m, in \u001b[0;36m_open_file.__init__\u001b[0;34m(self, name, mode)\u001b[0m\n\u001b[1;32m    731\u001b[0m \u001b[38;5;28;01mdef\u001b[39;00m \u001b[38;5;21m__init__\u001b[39m(\u001b[38;5;28mself\u001b[39m, name, mode):\n\u001b[0;32m--> 732\u001b[0m     \u001b[38;5;28msuper\u001b[39m()\u001b[38;5;241m.\u001b[39m\u001b[38;5;21m__init__\u001b[39m(\u001b[38;5;28;43mopen\u001b[39;49m\u001b[43m(\u001b[49m\u001b[43mname\u001b[49m\u001b[43m,\u001b[49m\u001b[43m \u001b[49m\u001b[43mmode\u001b[49m\u001b[43m)\u001b[49m)\n",
      "\u001b[0;31mFileNotFoundError\u001b[0m: [Errno 2] No such file or directory: 'movement_seq2seq.pth'"
     ]
    }
   ],
   "source": [
    "device = (torch.device(\"cuda\" if torch.cuda.is_available() else \"cpu\"))\n",
    "criterion = torch.nn.MSELoss()\n",
    "model = NeuralNetwork(batch_size, input_window, prediction_window, device=device).to(device)\n",
    "model.load_state_dict(torch.load(\"movement_seq2seq.pth\", weights_only=True))\n",
    "\n",
    "test_dataset = DoomMotionDataset(coco_test, TEST_RUN, input_window, prediction_window)\n",
    "test_loader = DataLoader(test_dataset, batch_size=256, shuffle=False)\n",
    "\n",
    "model.eval()  # Set the model to evaluation mode\n",
    "running_loss = 0.0\n",
    "\n",
    "\n",
    "progress_bar = tqdm(test_loader, desc=\"Testing\", unit=\"batch\")\n",
    "\n",
    "with torch.no_grad():  # Disable gradient calculations for evaluation\n",
    "    for batch_idx, (inputs, targets) in enumerate(progress_bar):\n",
    "        inputs, targets = inputs.to(device), targets.to(device)\n",
    "        \n",
    "        outputs = model(inputs)\n",
    "        outputs = outputs.permute(1, 0, 2)\n",
    "        \n",
    "        loss = criterion(outputs, targets)\n",
    "        \n",
    "        running_loss += loss.item()\n",
    "        \n",
    "        progress_bar.set_postfix({\n",
    "            \"batch_loss\": loss.item(),\n",
    "            \"batch_index\": batch_idx + 1,\n",
    "            \"batch_size\": inputs.size(0)\n",
    "        })\n",
    "\n",
    "# Average loss over all batches\n",
    "test_loss = running_loss / len(test_loader)\n",
    "print(f\"Test Loss: {test_loss:.4f}\")"
   ]
  },
  {
   "cell_type": "code",
   "execution_count": null,
   "id": "98f38629-2cd1-4873-9084-8683c5716ad5",
   "metadata": {},
   "outputs": [],
   "source": []
  }
 ],
 "metadata": {
  "kernelspec": {
   "display_name": "Python 3 (ipykernel)",
   "language": "python",
   "name": "python3"
  },
  "language_info": {
   "codemirror_mode": {
    "name": "ipython",
    "version": 3
   },
   "file_extension": ".py",
   "mimetype": "text/x-python",
   "name": "python",
   "nbconvert_exporter": "python",
   "pygments_lexer": "ipython3",
   "version": "3.9.21"
  }
 },
 "nbformat": 4,
 "nbformat_minor": 5
}
