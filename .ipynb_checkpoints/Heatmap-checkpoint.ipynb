{
 "cells": [
  {
   "cell_type": "markdown",
   "id": "caac3c60-cbd9-4794-a8c0-ced5b193b331",
   "metadata": {},
   "source": [
    "<h1>Dataset Exploration</h1>"
   ]
  },
  {
   "cell_type": "code",
   "execution_count": 1,
   "id": "8c437917-e990-4491-a25e-b7adeb77f372",
   "metadata": {},
   "outputs": [
    {
     "name": "stdout",
     "output_type": "stream",
     "text": [
      "Jupyter environment detected. Enabling Open3D WebVisualizer.\n",
      "[Open3D INFO] WebRTC GUI backend enabled.\n",
      "[Open3D INFO] WebRTCWindowSystem: HTTP handshake server disabled.\n"
     ]
    }
   ],
   "source": [
    "from pycocotools.coco import COCO\n",
    "import matplotlib\n",
    "import matplotlib.pyplot as plt\n",
    "import os\n",
    "import open3d as o3d\n",
    "import cv2\n",
    "import numpy as np\n",
    "from PIL import Image"
   ]
  },
  {
   "cell_type": "code",
   "execution_count": 2,
   "id": "d9003254-3d2c-4f84-91a9-0c6d966f104e",
   "metadata": {},
   "outputs": [],
   "source": [
    "DATADIR = \"cocodoom/\"\n",
    "\n",
    "dataSplit, run = \"run-full-val\", \"run2\"\n",
    "\n",
    "annFile = '{}{}.json'.format(DATADIR,dataSplit)"
   ]
  },
  {
   "cell_type": "code",
   "execution_count": 3,
   "id": "e8df8e50-550c-43a3-8b8e-b5a5e41ed0b6",
   "metadata": {},
   "outputs": [
    {
     "name": "stdout",
     "output_type": "stream",
     "text": [
      "loading annotations into memory...\n",
      "Done (t=15.63s)\n",
      "creating index...\n",
      "index created!\n"
     ]
    }
   ],
   "source": [
    "coco = COCO(annFile)"
   ]
  },
  {
   "cell_type": "code",
   "execution_count": 4,
   "id": "e4028fce-5c65-4a19-928f-600ae8856c7a",
   "metadata": {},
   "outputs": [],
   "source": [
    "player_positions = {\"run1\":[], \"run2\":[], \"run3\":[]}\n",
    "motion_vectors = {\"run1\":[], \"run2\":[], \"run3\":[]}\n",
    "USED_RUNS = [\"run2\"]\n",
    "for run in USED_RUNS:\n",
    "    with open(DATADIR+run+\"/log.txt\", 'r') as log_file:\n",
    "        for line in log_file:\n",
    "            if \"player\" in line:\n",
    "                line = line.strip()\n",
    "                tic, stats = line.split(\"player:\")\n",
    "                x, y, z, angle = stats.split(\",\")\n",
    "    \n",
    "                # Store position in the dictionary\n",
    "                player_positions[run].append((float(x), float(y), float(z), float(angle)))\n",
    "                if len(player_positions[run]) >= 2:\n",
    "                    player_position = player_positions[run][-1]\n",
    "                    prev_player_position = player_positions[run][-2]\n",
    "                    \n",
    "                    dx = player_position[0] - prev_player_position[0]\n",
    "                    dy = player_position[1] - prev_player_position[1]\n",
    "                    dz = player_position[2] - prev_player_position[2]\n",
    "                    dangle = np.pi - abs(abs(player_position[3] - prev_player_position[3]) - np.pi)\n",
    "                    \n",
    "                    dx_relative = dx * np.cos(2 * np.pi - prev_player_position[3]) + dy * np.cos(prev_player_position[3] - 1/2 * np.pi)\n",
    "                    dy_relative = dx * np.sin(2 * np.pi - prev_player_position[3]) + dy * np.sin(prev_player_position[3] - 1/2 * np.pi)\n",
    "                    motion_vector = (dx_relative, dy_relative, dz, dangle)\n",
    "                    motion_vectors[run].append(motion_vector)"
   ]
  },
  {
   "cell_type": "code",
   "execution_count": 5,
   "id": "e816bf65-8db0-4c71-ba88-9a17b530f7f3",
   "metadata": {},
   "outputs": [],
   "source": [
    "def getSegmentationMask(rgb_filename):\n",
    "    return rgb_filename.replace(\"rgb\", \"objects\")\n",
    "\n",
    "def getDepthMask(rgb_filename):\n",
    "    return rgb_filename.replace(\"rgb\", \"depth\")"
   ]
  },
  {
   "cell_type": "code",
   "execution_count": 20,
   "id": "8680de85-df84-4334-87be-8defcfc6e6fb",
   "metadata": {},
   "outputs": [],
   "source": [
    "def toPointCloud(depth):\n",
    "    # https://github.com/mmatl/pyrender/issues/14#issuecomment-485881479 was used as reference\n",
    "    height, width = depth.shape\n",
    "\n",
    "    fy = 200 / np.tan(1.5708 * 0.5)\n",
    "    fx = 320 / np.tan(1.5708 * 0.5)\n",
    "\n",
    "    mask = np.where(depth > 0)\n",
    "\n",
    "    x = mask[1]\n",
    "    y = mask[0]\n",
    "\n",
    "    normalized_x = (x.astype(np.float32) - width * 0.5) #/ width\n",
    "    normalized_y = (y.astype(np.float32) - height * 0.5) #/ height\n",
    "    \n",
    "    world_x = normalized_x * depth[y, x] / fx #* 1000\n",
    "    world_y = normalized_y * depth[y, x] / fy #* 1000\n",
    "    world_z = depth[y, x]\n",
    "    ones = np.ones(world_z.shape[0], dtype=np.float32)\n",
    "\n",
    "    return np.vstack((world_x, world_y, world_z)).T"
   ]
  },
  {
   "cell_type": "code",
   "execution_count": 21,
   "id": "03b80b82-8e4b-46ef-bce5-7ac9ae8e26f6",
   "metadata": {},
   "outputs": [],
   "source": [
    "def visiblePoints(point_cloud, motion_vector):\n",
    "    angle = motion_vector[3]\n",
    "    rotation_matrix = np.array([[np.cos(angle), -1 * np.sin(angle), 0],[np.sin(angle), np.cos(angle), 0],[0, 0, 1]])\n",
    "    print(translated_points.shape)\n",
    "    translated_points = point_cloud - np.array([motion_vector[0], motion_vector[1], motion_vector[2]])\n",
    "    print(translated_points.shape)\n",
    "    print(rotation_matrix.shape)\n",
    "    transformed_points = translated_points @ rotation_matrix\n",
    "\n",
    "    fy = 200 / np.tan(1.5708 * 0.5)\n",
    "    fx = 320 / np.tan(1.5708 * 0.5)\n",
    "    x_proj = transformed_points[:, 0] * fx / transformed_points[:, 2]\n",
    "    y_proj = transformed_points[:, 1] * fy / transformed_points[:, 2]\n",
    "\n",
    "    print(\"Made it here\")\n",
    "\n",
    "    output = np.zeros((200, 320)) # These might need to be switched\n",
    "    visible_point = []\n",
    "    for i, z in enumerate(transformed_points[:, 2]):\n",
    "        if z > 0 and 0 <= x_proj[i] < resolution[0] and 0 <= y_proj[i] < resolution[1]:\n",
    "            output[y_proj[i], x_proj[i]] = 1\n",
    "            visible_point.append([x_proj[i], y_proj[i], z])\n",
    "\n",
    "    return output, transformed_points, visible_point"
   ]
  },
  {
   "cell_type": "code",
   "execution_count": 23,
   "id": "60692dc0-2982-4f3a-9b63-0e2d5757d6d4",
   "metadata": {},
   "outputs": [
    {
     "name": "stdout",
     "output_type": "stream",
     "text": [
      "[[-0.04930208 -0.04930208  0.0986038 ]\n",
      " [-0.04899395 -0.04930208  0.0986038 ]\n",
      " [-0.04868581 -0.04930208  0.0986038 ]\n",
      " ...\n",
      " [ 0.0317427   0.03202575  0.06469826]\n",
      " [ 0.03194488  0.03202575  0.06469826]\n",
      " [ 0.03214706  0.03202575  0.06469826]]\n"
     ]
    },
    {
     "data": {
      "text/plain": [
       "True"
      ]
     },
     "execution_count": 23,
     "metadata": {},
     "output_type": "execute_result"
    }
   ],
   "source": [
    "imgIds = coco.getImgIds();\n",
    "img = coco.loadImgs(imgIds[np.random.randint(0,len(imgIds))])[0]\n",
    "d = plt.imread(DATADIR + getDepthMask(img[\"file_name\"]))\n",
    "\n",
    "print(p:=toPointCloud(d))\n",
    "pcd = o3d.geometry.PointCloud()\n",
    "pcd.points = o3d.utility.Vector3dVector(p)\n",
    "o3d.io.write_point_cloud(\"./data.xyz\", pcd)"
   ]
  },
  {
   "cell_type": "code",
   "execution_count": 14,
   "id": "4c4332f1-cef4-4f0e-9830-76542a21f7b7",
   "metadata": {},
   "outputs": [
    {
     "name": "stdout",
     "output_type": "stream",
     "text": [
      "199.99926536032856\n",
      "319.9988245765257\n"
     ]
    }
   ],
   "source": [
    "print(200 / np.tan(1.5708 * 0.5))\n",
    "print(320 / np.tan(1.5708 * 0.5))"
   ]
  },
  {
   "cell_type": "code",
   "execution_count": 10,
   "id": "5a0e3bc6-7b20-4ead-a95e-2cc08f4cbf09",
   "metadata": {},
   "outputs": [
    {
     "ename": "UnboundLocalError",
     "evalue": "local variable 'translated_points' referenced before assignment",
     "output_type": "error",
     "traceback": [
      "\u001b[0;31m---------------------------------------------------------------------------\u001b[0m",
      "\u001b[0;31mUnboundLocalError\u001b[0m                         Traceback (most recent call last)",
      "Cell \u001b[0;32mIn[10], line 1\u001b[0m\n\u001b[0;32m----> 1\u001b[0m visibility_matrix, transformed_points, visible_point \u001b[38;5;241m=\u001b[39m \u001b[43mvisiblePoints\u001b[49m\u001b[43m(\u001b[49m\u001b[43mp\u001b[49m\u001b[43m,\u001b[49m\u001b[43m \u001b[49m\u001b[43m[\u001b[49m\u001b[38;5;241;43m-\u001b[39;49m\u001b[38;5;241;43m97.2494\u001b[39;49m\u001b[43m,\u001b[49m\u001b[43m \u001b[49m\u001b[38;5;241;43m782.437\u001b[39;49m\u001b[43m,\u001b[49m\u001b[43m \u001b[49m\u001b[38;5;241;43m97.1546\u001b[39;49m\u001b[43m,\u001b[49m\u001b[43m \u001b[49m\u001b[38;5;241;43m1.5708\u001b[39;49m\u001b[43m]\u001b[49m\u001b[43m)\u001b[49m\n",
      "Cell \u001b[0;32mIn[7], line 4\u001b[0m, in \u001b[0;36mvisiblePoints\u001b[0;34m(point_cloud, motion_vector)\u001b[0m\n\u001b[1;32m      2\u001b[0m angle \u001b[38;5;241m=\u001b[39m motion_vector[\u001b[38;5;241m3\u001b[39m]\n\u001b[1;32m      3\u001b[0m rotation_matrix \u001b[38;5;241m=\u001b[39m np\u001b[38;5;241m.\u001b[39marray([[np\u001b[38;5;241m.\u001b[39mcos(angle), \u001b[38;5;241m-\u001b[39m\u001b[38;5;241m1\u001b[39m \u001b[38;5;241m*\u001b[39m np\u001b[38;5;241m.\u001b[39msin(angle), \u001b[38;5;241m0\u001b[39m],[np\u001b[38;5;241m.\u001b[39msin(angle), np\u001b[38;5;241m.\u001b[39mcos(angle), \u001b[38;5;241m0\u001b[39m],[\u001b[38;5;241m0\u001b[39m, \u001b[38;5;241m0\u001b[39m, \u001b[38;5;241m1\u001b[39m]])\n\u001b[0;32m----> 4\u001b[0m \u001b[38;5;28mprint\u001b[39m(\u001b[43mtranslated_points\u001b[49m\u001b[38;5;241m.\u001b[39mshape)\n\u001b[1;32m      5\u001b[0m translated_points \u001b[38;5;241m=\u001b[39m point_cloud \u001b[38;5;241m-\u001b[39m np\u001b[38;5;241m.\u001b[39marray([motion_vector[\u001b[38;5;241m0\u001b[39m], motion_vector[\u001b[38;5;241m1\u001b[39m], motion_vector[\u001b[38;5;241m2\u001b[39m]])\n\u001b[1;32m      6\u001b[0m \u001b[38;5;28mprint\u001b[39m(translated_points\u001b[38;5;241m.\u001b[39mshape)\n",
      "\u001b[0;31mUnboundLocalError\u001b[0m: local variable 'translated_points' referenced before assignment"
     ]
    }
   ],
   "source": [
    "visibility_matrix, transformed_points, visible_point = visiblePoints(p, [-97.2494, 782.437, 97.1546, 1.5708])"
   ]
  },
  {
   "cell_type": "code",
   "execution_count": null,
   "id": "63e50951-7a2f-4a3e-b77b-ecd8c603e413",
   "metadata": {},
   "outputs": [],
   "source": []
  }
 ],
 "metadata": {
  "kernelspec": {
   "display_name": "Python 3 (ipykernel)",
   "language": "python",
   "name": "python3"
  },
  "language_info": {
   "codemirror_mode": {
    "name": "ipython",
    "version": 3
   },
   "file_extension": ".py",
   "mimetype": "text/x-python",
   "name": "python",
   "nbconvert_exporter": "python",
   "pygments_lexer": "ipython3",
   "version": "3.9.21"
  }
 },
 "nbformat": 4,
 "nbformat_minor": 5
}
