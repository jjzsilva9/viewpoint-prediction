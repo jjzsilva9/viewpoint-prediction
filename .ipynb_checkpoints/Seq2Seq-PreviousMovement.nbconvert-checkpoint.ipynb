{
 "cells": [
  {
   "cell_type": "markdown",
   "id": "caac3c60-cbd9-4794-a8c0-ced5b193b331",
   "metadata": {},
   "source": [
    "<h1>NN Model</h1>"
   ]
  },
  {
   "cell_type": "code",
   "execution_count": 1,
   "id": "8c437917-e990-4491-a25e-b7adeb77f372",
   "metadata": {
    "execution": {
     "iopub.execute_input": "2025-03-11T11:40:23.186572Z",
     "iopub.status.busy": "2025-03-11T11:40:23.184812Z",
     "iopub.status.idle": "2025-03-11T11:40:30.309843Z",
     "shell.execute_reply": "2025-03-11T11:40:30.307627Z"
    }
   },
   "outputs": [],
   "source": [
    "from pycocotools.coco import COCO\n",
    "import matplotlib\n",
    "import matplotlib.pyplot as plt\n",
    "import os\n",
    "import cv2\n",
    "import numpy as np\n",
    "from PIL import Image\n",
    "import torch\n",
    "import torch.nn as nn\n",
    "import torch.nn.functional as functions\n",
    "import torch.optim as optim\n",
    "from tqdm import tqdm\n",
    "from torch.utils.data import DataLoader, Dataset\n",
    "#import torchvision\n",
    "#from torchvision import transforms\n",
    "import re"
   ]
  },
  {
   "cell_type": "code",
   "execution_count": 2,
   "id": "edca0610-7a84-420b-81d6-9d3c6063539a",
   "metadata": {
    "execution": {
     "iopub.execute_input": "2025-03-11T11:40:30.318099Z",
     "iopub.status.busy": "2025-03-11T11:40:30.316858Z",
     "iopub.status.idle": "2025-03-11T11:40:30.512414Z",
     "shell.execute_reply": "2025-03-11T11:40:30.510507Z"
    }
   },
   "outputs": [
    {
     "name": "stdout",
     "output_type": "stream",
     "text": [
      "cuda\n"
     ]
    }
   ],
   "source": [
    "print(\"cuda\" if torch.cuda.is_available() else \"cpu\")"
   ]
  },
  {
   "cell_type": "code",
   "execution_count": 3,
   "id": "d9003254-3d2c-4f84-91a9-0c6d966f104e",
   "metadata": {
    "execution": {
     "iopub.execute_input": "2025-03-11T11:40:30.519587Z",
     "iopub.status.busy": "2025-03-11T11:40:30.518452Z",
     "iopub.status.idle": "2025-03-11T11:40:30.527201Z",
     "shell.execute_reply": "2025-03-11T11:40:30.525668Z"
    }
   },
   "outputs": [],
   "source": [
    "DATADIR = \"cocodoom/\"\n",
    "USED_RUNS = [\"run1\", \"run2\", \"run3\"]\n",
    "\n",
    "dataSplit, TRAIN_RUN = \"run-full-train\", \"run1\"\n",
    "\n",
    "annFile = '{}{}.json'.format(DATADIR,dataSplit)"
   ]
  },
  {
   "cell_type": "code",
   "execution_count": 4,
   "id": "e8df8e50-550c-43a3-8b8e-b5a5e41ed0b6",
   "metadata": {
    "execution": {
     "iopub.execute_input": "2025-03-11T11:40:30.533256Z",
     "iopub.status.busy": "2025-03-11T11:40:30.532259Z",
     "iopub.status.idle": "2025-03-11T11:40:55.551493Z",
     "shell.execute_reply": "2025-03-11T11:40:55.550645Z"
    }
   },
   "outputs": [
    {
     "name": "stdout",
     "output_type": "stream",
     "text": [
      "loading annotations into memory...\n"
     ]
    },
    {
     "name": "stdout",
     "output_type": "stream",
     "text": [
      "Done (t=23.65s)\n",
      "creating index...\n"
     ]
    },
    {
     "name": "stdout",
     "output_type": "stream",
     "text": [
      "index created!\n"
     ]
    }
   ],
   "source": [
    "coco_train = COCO(annFile)"
   ]
  },
  {
   "cell_type": "code",
   "execution_count": 5,
   "id": "eeebf160-b14d-425d-bdc9-48f1f985af94",
   "metadata": {
    "execution": {
     "iopub.execute_input": "2025-03-11T11:40:55.557396Z",
     "iopub.status.busy": "2025-03-11T11:40:55.557118Z",
     "iopub.status.idle": "2025-03-11T11:40:55.562541Z",
     "shell.execute_reply": "2025-03-11T11:40:55.561667Z"
    }
   },
   "outputs": [],
   "source": [
    "dataSplit, VAL_RUN = \"run-full-val\", \"run2\"\n",
    "\n",
    "annFile = '{}{}.json'.format(DATADIR,dataSplit)"
   ]
  },
  {
   "cell_type": "code",
   "execution_count": 6,
   "id": "60104674-c925-4c87-a555-90fa0b03f594",
   "metadata": {
    "execution": {
     "iopub.execute_input": "2025-03-11T11:40:55.567602Z",
     "iopub.status.busy": "2025-03-11T11:40:55.567274Z",
     "iopub.status.idle": "2025-03-11T11:41:18.063651Z",
     "shell.execute_reply": "2025-03-11T11:41:18.062425Z"
    }
   },
   "outputs": [
    {
     "name": "stdout",
     "output_type": "stream",
     "text": [
      "loading annotations into memory...\n"
     ]
    },
    {
     "name": "stdout",
     "output_type": "stream",
     "text": [
      "Done (t=18.26s)\n",
      "creating index...\n"
     ]
    },
    {
     "name": "stdout",
     "output_type": "stream",
     "text": [
      "index created!\n"
     ]
    }
   ],
   "source": [
    "coco_val = COCO(annFile)"
   ]
  },
  {
   "cell_type": "code",
   "execution_count": 7,
   "id": "eea8492e-c022-4aec-a314-e723977faa60",
   "metadata": {
    "execution": {
     "iopub.execute_input": "2025-03-11T11:41:18.067022Z",
     "iopub.status.busy": "2025-03-11T11:41:18.066402Z",
     "iopub.status.idle": "2025-03-11T11:41:18.122392Z",
     "shell.execute_reply": "2025-03-11T11:41:18.121110Z"
    }
   },
   "outputs": [],
   "source": [
    "dataSplit, TEST_RUN = \"run-full-test\", \"run3\"\n",
    "\n",
    "annFile = '{}{}.json'.format(DATADIR,dataSplit)"
   ]
  },
  {
   "cell_type": "code",
   "execution_count": 8,
   "id": "e26cddc7-7894-4706-ab35-650913d04a6b",
   "metadata": {
    "execution": {
     "iopub.execute_input": "2025-03-11T11:41:18.127196Z",
     "iopub.status.busy": "2025-03-11T11:41:18.126634Z",
     "iopub.status.idle": "2025-03-11T11:41:30.343776Z",
     "shell.execute_reply": "2025-03-11T11:41:30.342915Z"
    }
   },
   "outputs": [
    {
     "name": "stdout",
     "output_type": "stream",
     "text": [
      "loading annotations into memory...\n"
     ]
    },
    {
     "name": "stdout",
     "output_type": "stream",
     "text": [
      "Done (t=7.55s)\n",
      "creating index...\n"
     ]
    },
    {
     "name": "stdout",
     "output_type": "stream",
     "text": [
      "index created!\n"
     ]
    }
   ],
   "source": [
    "coco_test = COCO(annFile)"
   ]
  },
  {
   "cell_type": "code",
   "execution_count": 9,
   "id": "b2fdf2f3-61ca-4528-909c-5101c530783f",
   "metadata": {
    "execution": {
     "iopub.execute_input": "2025-03-11T11:41:30.349486Z",
     "iopub.status.busy": "2025-03-11T11:41:30.349209Z",
     "iopub.status.idle": "2025-03-11T11:41:35.389323Z",
     "shell.execute_reply": "2025-03-11T11:41:35.388528Z"
    }
   },
   "outputs": [],
   "source": [
    "player_positions = {\"run1\":[], \"run2\":[], \"run3\":[]}\n",
    "motion_vectors = {\"run1\":[], \"run2\":[], \"run3\":[]}\n",
    "\n",
    "for run in USED_RUNS:\n",
    "    with open(DATADIR+run+\"/log.txt\", 'r') as log_file:\n",
    "        for line in log_file:\n",
    "            if \"player\" in line:\n",
    "                line = line.strip()\n",
    "                tic, stats = line.split(\"player:\")\n",
    "                x, y, z, angle = stats.split(\",\")\n",
    "    \n",
    "                # Store position in the dictionary\n",
    "                player_positions[run].append((float(x), float(y), float(z), float(angle)))\n",
    "                if len(player_positions[run]) >= 2:\n",
    "                    player_position = player_positions[run][-1]\n",
    "                    prev_player_position = player_positions[run][-2]\n",
    "                    \n",
    "                    dx = player_position[0] - prev_player_position[0]\n",
    "                    dy = player_position[1] - prev_player_position[1]\n",
    "                    dz = player_position[2] - prev_player_position[2]\n",
    "                    dangle = np.pi - abs(abs(player_position[3] - prev_player_position[3]) - np.pi)\n",
    "                    \n",
    "                    dx_relative = dx * np.cos(2 * np.pi - prev_player_position[3]) + dy * np.cos(prev_player_position[3] - 1/2 * np.pi)\n",
    "                    dy_relative = dx * np.sin(2 * np.pi - prev_player_position[3]) + dy * np.sin(prev_player_position[3] - 1/2 * np.pi)\n",
    "                    motion_vector = (dx_relative, dy_relative, dz, dangle)\n",
    "                    motion_vectors[run].append(motion_vector)"
   ]
  },
  {
   "cell_type": "code",
   "execution_count": 10,
   "id": "a78dd7f8-f3a5-4046-a31d-46f5c3cc747e",
   "metadata": {
    "execution": {
     "iopub.execute_input": "2025-03-11T11:41:35.395306Z",
     "iopub.status.busy": "2025-03-11T11:41:35.395027Z",
     "iopub.status.idle": "2025-03-11T11:41:35.405763Z",
     "shell.execute_reply": "2025-03-11T11:41:35.404885Z"
    }
   },
   "outputs": [],
   "source": [
    "class DoomMotionDataset(Dataset):\n",
    "    def __init__(self, coco, run, input_window, prediction_window, transform=None):\n",
    "        self.coco = coco\n",
    "        self.run = run\n",
    "        self.img_ids = self.coco.getImgIds()\n",
    "        self.transform = transform\n",
    "        self.input_window = input_window\n",
    "        self.prediction_window = prediction_window\n",
    "\n",
    "    def __len__(self):\n",
    "        return len(self.img_ids)\n",
    "\n",
    "    def __getitem__(self, idx):\n",
    "        # Load the RGB image\n",
    "        rgb_filename = self.coco.loadImgs(self.img_ids[idx])[0]['file_name']\n",
    "        tic = int(rgb_filename.replace(\".png\", \"\").split(\"/\")[-1])\n",
    "        next_tic = tic+1\n",
    "        previous_tic = tic-1\n",
    "        prev_motion_vectors = []\n",
    "        next_motion_vectors = []\n",
    "\n",
    "        for t in range(input_window, 0, -1):\n",
    "            if tic-t < 0:\n",
    "                prev_motion_vectors.append(motion_vectors[run][0])\n",
    "                continue\n",
    "            prev_motion_vectors.append(motion_vectors[run][tic-t])\n",
    "\n",
    "        for t in range(1, prediction_window+1):\n",
    "            if tic+t >= len(motion_vectors[self.run]):\n",
    "                next_motion_vectors.append(motion_vectors[run][-1])\n",
    "                continue\n",
    "            next_motion_vectors.append(motion_vectors[run][tic+t])\n",
    "\n",
    "        # if dx > 1000:\n",
    "        #     print(f\"idx: {idx}\")\n",
    "        #     print(f\"rgb_filename: {rgb_filename}\")\n",
    "        #     print(f\"tic: {tic}\")\n",
    "        #     print(f\"next_tic: {next_tic}\")\n",
    "        #     print(f\"previous_tic: {previous_tic}\")\n",
    "        #     print(f\"Sus {idx}\")\n",
    "        #     print(f\"prev_player_position: {prev_player_position}\")\n",
    "        #     print(f\"player_position: {player_position}\")\n",
    "        #     print(f\"next_player_position: {next_player_position}\")\n",
    "        #     print(f\"prev_motion_vector: {prev_motion_vector}\")\n",
    "        #     print(f\"next_motion_vector: {next_motion_vector}\")\n",
    "\n",
    "        #print(prev_motion_vectors)\n",
    "        #print(next_motion_vectors)\n",
    "            \n",
    "        prev_motion_vectors = torch.tensor(prev_motion_vectors, dtype=torch.float32)\n",
    "        next_motion_vectors = torch.tensor(next_motion_vectors, dtype=torch.float32)\n",
    "        \n",
    "        return prev_motion_vectors, next_motion_vectors\n"
   ]
  },
  {
   "cell_type": "code",
   "execution_count": 11,
   "id": "8680de85-df84-4334-87be-8defcfc6e6fb",
   "metadata": {
    "execution": {
     "iopub.execute_input": "2025-03-11T11:41:35.412374Z",
     "iopub.status.busy": "2025-03-11T11:41:35.411842Z",
     "iopub.status.idle": "2025-03-11T11:41:35.424983Z",
     "shell.execute_reply": "2025-03-11T11:41:35.423816Z"
    }
   },
   "outputs": [],
   "source": [
    "class NeuralNetwork(nn.Module):\n",
    "  def __init__(self, batch_size, input_length, sequence_length, activation_function=functions.relu, device=torch.device(\"cpu\")):\n",
    "    super(NeuralNetwork, self).__init__()\n",
    "    self.batch_size = batch_size\n",
    "    self.input_length = input_length\n",
    "    self.sequence_length = sequence_length\n",
    "      \n",
    "    self.encoder = nn.LSTM(input_size=4, hidden_size=1024, batch_first=True).to(device)\n",
    "    self.decoder = nn.LSTM(input_size=4, hidden_size=1024).to(device)\n",
    "    self.fc = nn.Linear(1024, 4).to(device)\n",
    "\n",
    "  def forward(self, x):\n",
    "    hidden = None\n",
    "    #print(x[:,0].shape)\n",
    "    for t in range(self.input_length):\n",
    "        if hidden != None:\n",
    "            _, hidden = self.encoder(x[:,t], hidden)\n",
    "        else:\n",
    "            _, hidden = self.encoder(x[:,t])\n",
    "    input_decoder = torch.zeros(batch_size, 4, dtype=torch.float).to(x.device)\n",
    "    #input_decoder = x[-1, :, :].unsqueeze(0)\n",
    "    #input_decoder = x[-1]\n",
    "    #print(x)\n",
    "    #print(x[0][-1])\n",
    "    #hidden = hidden[:, -1:, :]\n",
    "    #print(hidden.shape)\n",
    "    #cell = cell[:, -1:, :]\n",
    "    output_tensor = torch.zeros(self.sequence_length, self.batch_size, 4).to(x.device)\n",
    "    for t in range(self.sequence_length):\n",
    "        #print(t)\n",
    "        output_t, hidden = self.decoder(input_decoder, hidden)\n",
    "        #print(output_t.shape)\n",
    "        output_t = self.fc(output_t[-1])\n",
    "        #print(output_t.shape)\n",
    "        output_t = output_t.unsqueeze(0)\n",
    "        #print(output_t.shape)\n",
    "        #print(input_decoder.shape)\n",
    "        #input_decoder_resized = input_decoder.squeeze(0).expand(output_t.shape)\n",
    "        #input_decoder = output_t.unsqueeze(0)\n",
    "        #output_tensor[t] = output_t[0][t]#.unsqueeze(0)\n",
    "        output_tensor[t] = output_t.unsqueeze(0)\n",
    "        \n",
    "    return output_tensor"
   ]
  },
  {
   "cell_type": "code",
   "execution_count": 12,
   "id": "81129192-3f18-4f79-b559-be1db7b544d9",
   "metadata": {
    "execution": {
     "iopub.execute_input": "2025-03-11T11:41:35.431626Z",
     "iopub.status.busy": "2025-03-11T11:41:35.430997Z",
     "iopub.status.idle": "2025-03-11T11:51:25.617921Z",
     "shell.execute_reply": "2025-03-11T11:51:25.616865Z"
    }
   },
   "outputs": [
    {
     "name": "stdout",
     "output_type": "stream",
     "text": [
      "cuda\n"
     ]
    },
    {
     "name": "stderr",
     "output_type": "stream",
     "text": [
      "\r",
      "Epoch 1/10:   0%|                                                                                                                                                                     | 0/991 [00:00<?, ?batch/s]"
     ]
    },
    {
     "name": "stderr",
     "output_type": "stream",
     "text": [
      "\r",
      "Epoch 1/10:   0%|                                                                                                                     | 0/991 [00:01<?, ?batch/s, batch_loss=55.3, batch_index=1, batch_size=256]"
     ]
    },
    {
     "name": "stderr",
     "output_type": "stream",
     "text": [
      "\r",
      "Epoch 1/10:   0%|                                                                                                             | 1/991 [00:01<24:14,  1.47s/batch, batch_loss=55.3, batch_index=1, batch_size=256]"
     ]
    },
    {
     "name": "stderr",
     "output_type": "stream",
     "text": [
      "\r",
      "Epoch 1/10:   0%|                                                                                                             | 1/991 [00:02<24:14,  1.47s/batch, batch_loss=19.6, batch_index=2, batch_size=256]"
     ]
    },
    {
     "name": "stderr",
     "output_type": "stream",
     "text": [
      "\r",
      "Epoch 1/10:   0%|▏                                                                                                            | 2/991 [00:02<22:26,  1.36s/batch, batch_loss=19.6, batch_index=2, batch_size=256]"
     ]
    },
    {
     "name": "stderr",
     "output_type": "stream",
     "text": [
      "\r",
      "Epoch 1/10:   0%|▏                                                                                                            | 2/991 [00:04<22:26,  1.36s/batch, batch_loss=51.7, batch_index=3, batch_size=256]"
     ]
    },
    {
     "name": "stderr",
     "output_type": "stream",
     "text": [
      "\r",
      "Epoch 1/10:   0%|▎                                                                                                            | 3/991 [00:04<21:51,  1.33s/batch, batch_loss=51.7, batch_index=3, batch_size=256]"
     ]
    },
    {
     "name": "stderr",
     "output_type": "stream",
     "text": [
      "\r",
      "Epoch 1/10:   0%|▎                                                                                                            | 3/991 [00:05<21:51,  1.33s/batch, batch_loss=68.2, batch_index=4, batch_size=256]"
     ]
    },
    {
     "name": "stderr",
     "output_type": "stream",
     "text": [
      "\r",
      "Epoch 1/10:   0%|▍                                                                                                            | 4/991 [00:05<21:33,  1.31s/batch, batch_loss=68.2, batch_index=4, batch_size=256]"
     ]
    },
    {
     "name": "stderr",
     "output_type": "stream",
     "text": [
      "\r",
      "Epoch 1/10:   0%|▍                                                                                                            | 4/991 [00:06<21:33,  1.31s/batch, batch_loss=37.1, batch_index=5, batch_size=256]"
     ]
    },
    {
     "name": "stderr",
     "output_type": "stream",
     "text": [
      "\r",
      "Epoch 1/10:   1%|▌                                                                                                            | 5/991 [00:06<21:20,  1.30s/batch, batch_loss=37.1, batch_index=5, batch_size=256]"
     ]
    },
    {
     "name": "stderr",
     "output_type": "stream",
     "text": [
      "\r",
      "Epoch 1/10:   1%|▌                                                                                                             | 5/991 [00:07<21:20,  1.30s/batch, batch_loss=490, batch_index=6, batch_size=256]"
     ]
    },
    {
     "name": "stderr",
     "output_type": "stream",
     "text": [
      "\r",
      "Epoch 1/10:   1%|▋                                                                                                             | 6/991 [00:07<21:19,  1.30s/batch, batch_loss=490, batch_index=6, batch_size=256]"
     ]
    },
    {
     "name": "stderr",
     "output_type": "stream",
     "text": [
      "\r",
      "Epoch 1/10:   1%|▋                                                                                                            | 6/991 [00:09<21:19,  1.30s/batch, batch_loss=34.2, batch_index=7, batch_size=256]"
     ]
    },
    {
     "name": "stderr",
     "output_type": "stream",
     "text": [
      "\r",
      "Epoch 1/10:   1%|▊                                                                                                            | 7/991 [00:09<21:11,  1.29s/batch, batch_loss=34.2, batch_index=7, batch_size=256]"
     ]
    },
    {
     "name": "stderr",
     "output_type": "stream",
     "text": [
      "\r",
      "Epoch 1/10:   1%|▊                                                                                                            | 7/991 [00:10<21:11,  1.29s/batch, batch_loss=31.6, batch_index=8, batch_size=256]"
     ]
    },
    {
     "name": "stderr",
     "output_type": "stream",
     "text": [
      "\r",
      "Epoch 1/10:   1%|▉                                                                                                            | 8/991 [00:10<21:05,  1.29s/batch, batch_loss=31.6, batch_index=8, batch_size=256]"
     ]
    },
    {
     "name": "stderr",
     "output_type": "stream",
     "text": [
      "\r",
      "Epoch 1/10:   1%|▉                                                                                                            | 8/991 [00:11<21:05,  1.29s/batch, batch_loss=21.6, batch_index=9, batch_size=256]"
     ]
    },
    {
     "name": "stderr",
     "output_type": "stream",
     "text": [
      "\r",
      "Epoch 1/10:   1%|▉                                                                                                            | 9/991 [00:11<21:05,  1.29s/batch, batch_loss=21.6, batch_index=9, batch_size=256]"
     ]
    },
    {
     "name": "stderr",
     "output_type": "stream",
     "text": [
      "\r",
      "Epoch 1/10:   1%|▉                                                                                                           | 9/991 [00:13<21:05,  1.29s/batch, batch_loss=29.5, batch_index=10, batch_size=256]"
     ]
    },
    {
     "name": "stderr",
     "output_type": "stream",
     "text": [
      "\r",
      "Epoch 1/10:   1%|█                                                                                                          | 10/991 [00:13<21:02,  1.29s/batch, batch_loss=29.5, batch_index=10, batch_size=256]"
     ]
    },
    {
     "name": "stderr",
     "output_type": "stream",
     "text": [
      "\r",
      "Epoch 1/10:   1%|█                                                                                                          | 10/991 [00:14<21:02,  1.29s/batch, batch_loss=29.6, batch_index=11, batch_size=256]"
     ]
    },
    {
     "name": "stderr",
     "output_type": "stream",
     "text": [
      "\r",
      "Epoch 1/10:   1%|█▏                                                                                                         | 11/991 [00:14<20:56,  1.28s/batch, batch_loss=29.6, batch_index=11, batch_size=256]"
     ]
    },
    {
     "name": "stderr",
     "output_type": "stream",
     "text": [
      "\r",
      "Epoch 1/10:   1%|█▏                                                                                                      | 11/991 [00:15<20:56,  1.28s/batch, batch_loss=9.25e+3, batch_index=12, batch_size=256]"
     ]
    },
    {
     "name": "stderr",
     "output_type": "stream",
     "text": [
      "\r",
      "Epoch 1/10:   1%|█▎                                                                                                      | 12/991 [00:15<20:32,  1.26s/batch, batch_loss=9.25e+3, batch_index=12, batch_size=256]"
     ]
    },
    {
     "name": "stderr",
     "output_type": "stream",
     "text": [
      "\r",
      "Epoch 1/10:   1%|█▎                                                                                                         | 12/991 [00:16<20:32,  1.26s/batch, batch_loss=29.3, batch_index=13, batch_size=256]"
     ]
    },
    {
     "name": "stderr",
     "output_type": "stream",
     "text": [
      "\r",
      "Epoch 1/10:   1%|█▍                                                                                                         | 13/991 [00:16<20:19,  1.25s/batch, batch_loss=29.3, batch_index=13, batch_size=256]"
     ]
    },
    {
     "name": "stderr",
     "output_type": "stream",
     "text": [
      "\r",
      "Epoch 1/10:   1%|█▍                                                                                                          | 13/991 [00:18<20:19,  1.25s/batch, batch_loss=921, batch_index=14, batch_size=256]"
     ]
    },
    {
     "name": "stderr",
     "output_type": "stream",
     "text": [
      "\r",
      "Epoch 1/10:   1%|█▌                                                                                                          | 14/991 [00:18<20:32,  1.26s/batch, batch_loss=921, batch_index=14, batch_size=256]"
     ]
    },
    {
     "name": "stderr",
     "output_type": "stream",
     "text": [
      "\r",
      "Epoch 1/10:   1%|█▌                                                                                                         | 14/991 [00:19<20:32,  1.26s/batch, batch_loss=33.3, batch_index=15, batch_size=256]"
     ]
    },
    {
     "name": "stderr",
     "output_type": "stream",
     "text": [
      "\r",
      "Epoch 1/10:   2%|█▌                                                                                                         | 15/991 [00:19<20:37,  1.27s/batch, batch_loss=33.3, batch_index=15, batch_size=256]"
     ]
    },
    {
     "name": "stderr",
     "output_type": "stream",
     "text": [
      "\r",
      "Epoch 1/10:   2%|█▌                                                                                                         | 15/991 [00:20<20:37,  1.27s/batch, batch_loss=37.8, batch_index=16, batch_size=256]"
     ]
    },
    {
     "name": "stderr",
     "output_type": "stream",
     "text": [
      "\r",
      "Epoch 1/10:   2%|█▋                                                                                                         | 16/991 [00:20<20:39,  1.27s/batch, batch_loss=37.8, batch_index=16, batch_size=256]"
     ]
    },
    {
     "name": "stderr",
     "output_type": "stream",
     "text": [
      "\r",
      "Epoch 1/10:   2%|█▋                                                                                                      | 16/991 [00:21<20:39,  1.27s/batch, batch_loss=1.79e+3, batch_index=17, batch_size=256]"
     ]
    },
    {
     "name": "stderr",
     "output_type": "stream",
     "text": [
      "\r",
      "Epoch 1/10:   2%|█▊                                                                                                      | 17/991 [00:21<20:40,  1.27s/batch, batch_loss=1.79e+3, batch_index=17, batch_size=256]"
     ]
    },
    {
     "name": "stderr",
     "output_type": "stream",
     "text": [
      "\r",
      "Epoch 1/10:   2%|█▊                                                                                                      | 17/991 [00:23<20:40,  1.27s/batch, batch_loss=1.72e+3, batch_index=18, batch_size=256]"
     ]
    },
    {
     "name": "stderr",
     "output_type": "stream",
     "text": [
      "\r",
      "Epoch 1/10:   2%|█▉                                                                                                      | 18/991 [00:23<20:42,  1.28s/batch, batch_loss=1.72e+3, batch_index=18, batch_size=256]"
     ]
    },
    {
     "name": "stderr",
     "output_type": "stream",
     "text": [
      "\r",
      "Epoch 1/10:   2%|█▉                                                                                                         | 18/991 [00:24<20:42,  1.28s/batch, batch_loss=19.2, batch_index=19, batch_size=256]"
     ]
    },
    {
     "name": "stderr",
     "output_type": "stream",
     "text": [
      "\r",
      "Epoch 1/10:   2%|██                                                                                                         | 19/991 [00:24<20:42,  1.28s/batch, batch_loss=19.2, batch_index=19, batch_size=256]"
     ]
    },
    {
     "name": "stderr",
     "output_type": "stream",
     "text": [
      "\r",
      "Epoch 1/10:   2%|█▉                                                                                                      | 19/991 [00:25<20:42,  1.28s/batch, batch_loss=1.19e+4, batch_index=20, batch_size=256]"
     ]
    },
    {
     "name": "stderr",
     "output_type": "stream",
     "text": [
      "\r",
      "Epoch 1/10:   2%|██                                                                                                      | 20/991 [00:25<20:40,  1.28s/batch, batch_loss=1.19e+4, batch_index=20, batch_size=256]"
     ]
    },
    {
     "name": "stderr",
     "output_type": "stream",
     "text": [
      "\r",
      "Epoch 1/10:   2%|██▏                                                                                                        | 20/991 [00:26<20:40,  1.28s/batch, batch_loss=30.1, batch_index=21, batch_size=256]"
     ]
    },
    {
     "name": "stderr",
     "output_type": "stream",
     "text": [
      "\r",
      "Epoch 1/10:   2%|██▎                                                                                                        | 21/991 [00:26<20:40,  1.28s/batch, batch_loss=30.1, batch_index=21, batch_size=256]"
     ]
    },
    {
     "name": "stderr",
     "output_type": "stream",
     "text": [
      "\r",
      "Epoch 1/10:   2%|██▎                                                                                                        | 21/991 [00:28<20:40,  1.28s/batch, batch_loss=25.2, batch_index=22, batch_size=256]"
     ]
    },
    {
     "name": "stderr",
     "output_type": "stream",
     "text": [
      "\r",
      "Epoch 1/10:   2%|██▍                                                                                                        | 22/991 [00:28<20:37,  1.28s/batch, batch_loss=25.2, batch_index=22, batch_size=256]"
     ]
    },
    {
     "name": "stderr",
     "output_type": "stream",
     "text": [
      "\r",
      "Epoch 1/10:   2%|██▍                                                                                                          | 22/991 [00:29<20:37,  1.28s/batch, batch_loss=26, batch_index=23, batch_size=256]"
     ]
    },
    {
     "name": "stderr",
     "output_type": "stream",
     "text": [
      "\r",
      "Epoch 1/10:   2%|██▌                                                                                                          | 23/991 [00:29<20:36,  1.28s/batch, batch_loss=26, batch_index=23, batch_size=256]"
     ]
    },
    {
     "name": "stderr",
     "output_type": "stream",
     "text": [
      "\r",
      "Epoch 1/10:   2%|██▌                                                                                                         | 23/991 [00:30<20:36,  1.28s/batch, batch_loss=133, batch_index=24, batch_size=256]"
     ]
    },
    {
     "name": "stderr",
     "output_type": "stream",
     "text": [
      "\r",
      "Epoch 1/10:   2%|██▌                                                                                                         | 24/991 [00:30<20:37,  1.28s/batch, batch_loss=133, batch_index=24, batch_size=256]"
     ]
    },
    {
     "name": "stderr",
     "output_type": "stream",
     "text": [
      "\r",
      "Epoch 1/10:   2%|██▌                                                                                                        | 24/991 [00:32<20:37,  1.28s/batch, batch_loss=44.1, batch_index=25, batch_size=256]"
     ]
    },
    {
     "name": "stderr",
     "output_type": "stream",
     "text": [
      "\r",
      "Epoch 1/10:   3%|██▋                                                                                                        | 25/991 [00:32<20:39,  1.28s/batch, batch_loss=44.1, batch_index=25, batch_size=256]"
     ]
    },
    {
     "name": "stderr",
     "output_type": "stream",
     "text": [
      "\r",
      "Epoch 1/10:   3%|██▌                                                                                                     | 25/991 [00:33<20:39,  1.28s/batch, batch_loss=8.86e+3, batch_index=26, batch_size=256]"
     ]
    },
    {
     "name": "stderr",
     "output_type": "stream",
     "text": [
      "\r",
      "Epoch 1/10:   3%|██▋                                                                                                     | 26/991 [00:33<20:35,  1.28s/batch, batch_loss=8.86e+3, batch_index=26, batch_size=256]"
     ]
    },
    {
     "name": "stderr",
     "output_type": "stream",
     "text": [
      "\r",
      "Epoch 1/10:   3%|██▊                                                                                                        | 26/991 [00:34<20:35,  1.28s/batch, batch_loss=25.9, batch_index=27, batch_size=256]"
     ]
    },
    {
     "name": "stderr",
     "output_type": "stream",
     "text": [
      "\r",
      "Epoch 1/10:   3%|██▉                                                                                                        | 27/991 [00:34<20:32,  1.28s/batch, batch_loss=25.9, batch_index=27, batch_size=256]"
     ]
    },
    {
     "name": "stderr",
     "output_type": "stream",
     "text": [
      "\r",
      "Epoch 1/10:   3%|██▉                                                                                                        | 27/991 [00:35<20:32,  1.28s/batch, batch_loss=20.2, batch_index=28, batch_size=256]"
     ]
    },
    {
     "name": "stderr",
     "output_type": "stream",
     "text": [
      "\r",
      "Epoch 1/10:   3%|███                                                                                                        | 28/991 [00:35<20:31,  1.28s/batch, batch_loss=20.2, batch_index=28, batch_size=256]"
     ]
    },
    {
     "name": "stderr",
     "output_type": "stream",
     "text": [
      "\r",
      "Epoch 1/10:   3%|███                                                                                                        | 28/991 [00:37<20:31,  1.28s/batch, batch_loss=29.4, batch_index=29, batch_size=256]"
     ]
    },
    {
     "name": "stderr",
     "output_type": "stream",
     "text": [
      "\r",
      "Epoch 1/10:   3%|███▏                                                                                                       | 29/991 [00:37<20:34,  1.28s/batch, batch_loss=29.4, batch_index=29, batch_size=256]"
     ]
    },
    {
     "name": "stderr",
     "output_type": "stream",
     "text": [
      "\r",
      "Epoch 1/10:   3%|███▏                                                                                                         | 29/991 [00:38<20:34,  1.28s/batch, batch_loss=29, batch_index=30, batch_size=256]"
     ]
    },
    {
     "name": "stderr",
     "output_type": "stream",
     "text": [
      "\r",
      "Epoch 1/10:   3%|███▎                                                                                                         | 30/991 [00:38<20:31,  1.28s/batch, batch_loss=29, batch_index=30, batch_size=256]"
     ]
    },
    {
     "name": "stderr",
     "output_type": "stream",
     "text": [
      "\r",
      "Epoch 1/10:   3%|███▏                                                                                                       | 30/991 [00:39<20:31,  1.28s/batch, batch_loss=23.5, batch_index=31, batch_size=256]"
     ]
    },
    {
     "name": "stderr",
     "output_type": "stream",
     "text": [
      "\r",
      "Epoch 1/10:   3%|███▎                                                                                                       | 31/991 [00:39<20:29,  1.28s/batch, batch_loss=23.5, batch_index=31, batch_size=256]"
     ]
    },
    {
     "name": "stderr",
     "output_type": "stream",
     "text": [
      "\r",
      "Epoch 1/10:   3%|███▎                                                                                                       | 31/991 [00:41<20:29,  1.28s/batch, batch_loss=35.4, batch_index=32, batch_size=256]"
     ]
    },
    {
     "name": "stderr",
     "output_type": "stream",
     "text": [
      "\r",
      "Epoch 1/10:   3%|███▍                                                                                                       | 32/991 [00:41<20:28,  1.28s/batch, batch_loss=35.4, batch_index=32, batch_size=256]"
     ]
    },
    {
     "name": "stderr",
     "output_type": "stream",
     "text": [
      "\r",
      "Epoch 1/10:   3%|███▍                                                                                                       | 32/991 [00:42<20:28,  1.28s/batch, batch_loss=31.3, batch_index=33, batch_size=256]"
     ]
    },
    {
     "name": "stderr",
     "output_type": "stream",
     "text": [
      "\r",
      "Epoch 1/10:   3%|███▌                                                                                                       | 33/991 [00:42<20:28,  1.28s/batch, batch_loss=31.3, batch_index=33, batch_size=256]"
     ]
    },
    {
     "name": "stderr",
     "output_type": "stream",
     "text": [
      "\r",
      "Epoch 1/10:   3%|███▌                                                                                                       | 33/991 [00:43<20:28,  1.28s/batch, batch_loss=23.9, batch_index=34, batch_size=256]"
     ]
    },
    {
     "name": "stderr",
     "output_type": "stream",
     "text": [
      "\r",
      "Epoch 1/10:   3%|███▋                                                                                                       | 34/991 [00:43<20:28,  1.28s/batch, batch_loss=23.9, batch_index=34, batch_size=256]"
     ]
    },
    {
     "name": "stderr",
     "output_type": "stream",
     "text": [
      "\r",
      "Epoch 1/10:   3%|███▋                                                                                                       | 34/991 [00:44<20:28,  1.28s/batch, batch_loss=29.8, batch_index=35, batch_size=256]"
     ]
    },
    {
     "name": "stderr",
     "output_type": "stream",
     "text": [
      "\r",
      "Epoch 1/10:   4%|███▊                                                                                                       | 35/991 [00:44<20:23,  1.28s/batch, batch_loss=29.8, batch_index=35, batch_size=256]"
     ]
    },
    {
     "name": "stderr",
     "output_type": "stream",
     "text": [
      "\r",
      "Epoch 1/10:   4%|███▊                                                                                                         | 35/991 [00:46<20:23,  1.28s/batch, batch_loss=38, batch_index=36, batch_size=256]"
     ]
    },
    {
     "name": "stderr",
     "output_type": "stream",
     "text": [
      "\r",
      "Epoch 1/10:   4%|███▉                                                                                                         | 36/991 [00:46<20:25,  1.28s/batch, batch_loss=38, batch_index=36, batch_size=256]"
     ]
    },
    {
     "name": "stderr",
     "output_type": "stream",
     "text": [
      "\r",
      "Epoch 1/10:   4%|███▉                                                                                                       | 36/991 [00:47<20:25,  1.28s/batch, batch_loss=30.1, batch_index=37, batch_size=256]"
     ]
    },
    {
     "name": "stderr",
     "output_type": "stream",
     "text": [
      "\r",
      "Epoch 1/10:   4%|███▉                                                                                                       | 37/991 [00:47<20:28,  1.29s/batch, batch_loss=30.1, batch_index=37, batch_size=256]"
     ]
    },
    {
     "name": "stderr",
     "output_type": "stream",
     "text": [
      "\r",
      "Epoch 1/10:   4%|████                                                                                                        | 37/991 [00:48<20:28,  1.29s/batch, batch_loss=485, batch_index=38, batch_size=256]"
     ]
    },
    {
     "name": "stderr",
     "output_type": "stream",
     "text": [
      "\r",
      "Epoch 1/10:   4%|████▏                                                                                                       | 38/991 [00:48<20:26,  1.29s/batch, batch_loss=485, batch_index=38, batch_size=256]"
     ]
    },
    {
     "name": "stderr",
     "output_type": "stream",
     "text": [
      "\r",
      "Epoch 1/10:   4%|███▉                                                                                                    | 38/991 [00:50<20:26,  1.29s/batch, batch_loss=3.39e+3, batch_index=39, batch_size=256]"
     ]
    },
    {
     "name": "stderr",
     "output_type": "stream",
     "text": [
      "\r",
      "Epoch 1/10:   4%|████                                                                                                    | 39/991 [00:50<20:14,  1.28s/batch, batch_loss=3.39e+3, batch_index=39, batch_size=256]"
     ]
    },
    {
     "name": "stderr",
     "output_type": "stream",
     "text": [
      "\r",
      "Epoch 1/10:   4%|████▏                                                                                                      | 39/991 [00:51<20:14,  1.28s/batch, batch_loss=42.2, batch_index=40, batch_size=256]"
     ]
    },
    {
     "name": "stderr",
     "output_type": "stream",
     "text": [
      "\r",
      "Epoch 1/10:   4%|████▎                                                                                                      | 40/991 [00:51<19:34,  1.24s/batch, batch_loss=42.2, batch_index=40, batch_size=256]"
     ]
    },
    {
     "name": "stderr",
     "output_type": "stream",
     "text": [
      "\r",
      "Epoch 1/10:   4%|████▎                                                                                                       | 40/991 [00:52<19:34,  1.24s/batch, batch_loss=179, batch_index=41, batch_size=256]"
     ]
    },
    {
     "name": "stderr",
     "output_type": "stream",
     "text": [
      "\r",
      "Epoch 1/10:   4%|████▍                                                                                                       | 41/991 [00:52<19:45,  1.25s/batch, batch_loss=179, batch_index=41, batch_size=256]"
     ]
    },
    {
     "name": "stderr",
     "output_type": "stream",
     "text": [
      "\r",
      "Epoch 1/10:   4%|████▍                                                                                                      | 41/991 [00:53<19:45,  1.25s/batch, batch_loss=14.6, batch_index=42, batch_size=256]"
     ]
    },
    {
     "name": "stderr",
     "output_type": "stream",
     "text": [
      "\r",
      "Epoch 1/10:   4%|████▌                                                                                                      | 42/991 [00:53<19:53,  1.26s/batch, batch_loss=14.6, batch_index=42, batch_size=256]"
     ]
    },
    {
     "name": "stderr",
     "output_type": "stream",
     "text": [
      "\r",
      "Epoch 1/10:   4%|████▌                                                                                                      | 42/991 [00:54<19:53,  1.26s/batch, batch_loss=26.3, batch_index=43, batch_size=256]"
     ]
    },
    {
     "name": "stderr",
     "output_type": "stream",
     "text": [
      "\r",
      "Epoch 1/10:   4%|████▋                                                                                                      | 43/991 [00:54<19:51,  1.26s/batch, batch_loss=26.3, batch_index=43, batch_size=256]"
     ]
    },
    {
     "name": "stderr",
     "output_type": "stream",
     "text": [
      "\r",
      "Epoch 1/10:   4%|████▋                                                                                                      | 43/991 [00:56<19:51,  1.26s/batch, batch_loss=20.8, batch_index=44, batch_size=256]"
     ]
    },
    {
     "name": "stderr",
     "output_type": "stream",
     "text": [
      "\r",
      "Epoch 1/10:   4%|████▊                                                                                                      | 44/991 [00:56<19:52,  1.26s/batch, batch_loss=20.8, batch_index=44, batch_size=256]"
     ]
    },
    {
     "name": "stderr",
     "output_type": "stream",
     "text": [
      "\r",
      "Epoch 1/10:   4%|████▊                                                                                                      | 44/991 [00:57<19:52,  1.26s/batch, batch_loss=24.4, batch_index=45, batch_size=256]"
     ]
    },
    {
     "name": "stderr",
     "output_type": "stream",
     "text": [
      "\r",
      "Epoch 1/10:   5%|████▊                                                                                                      | 45/991 [00:57<19:58,  1.27s/batch, batch_loss=24.4, batch_index=45, batch_size=256]"
     ]
    },
    {
     "name": "stderr",
     "output_type": "stream",
     "text": [
      "\r",
      "Epoch 1/10:   5%|████▊                                                                                                      | 45/991 [00:58<19:58,  1.27s/batch, batch_loss=38.4, batch_index=46, batch_size=256]"
     ]
    },
    {
     "name": "stderr",
     "output_type": "stream",
     "text": [
      "\r",
      "Epoch 1/10:   5%|████▉                                                                                                      | 46/991 [00:58<20:00,  1.27s/batch, batch_loss=38.4, batch_index=46, batch_size=256]"
     ]
    },
    {
     "name": "stderr",
     "output_type": "stream",
     "text": [
      "\r",
      "Epoch 1/10:   5%|████▉                                                                                                      | 46/991 [01:00<20:00,  1.27s/batch, batch_loss=34.6, batch_index=47, batch_size=256]"
     ]
    },
    {
     "name": "stderr",
     "output_type": "stream",
     "text": [
      "\r",
      "Epoch 1/10:   5%|█████                                                                                                      | 47/991 [01:00<20:01,  1.27s/batch, batch_loss=34.6, batch_index=47, batch_size=256]"
     ]
    },
    {
     "name": "stderr",
     "output_type": "stream",
     "text": [
      "\r",
      "Epoch 1/10:   5%|█████                                                                                                      | 47/991 [01:01<20:01,  1.27s/batch, batch_loss=31.5, batch_index=48, batch_size=256]"
     ]
    },
    {
     "name": "stderr",
     "output_type": "stream",
     "text": [
      "\r",
      "Epoch 1/10:   5%|█████▏                                                                                                     | 48/991 [01:01<20:02,  1.27s/batch, batch_loss=31.5, batch_index=48, batch_size=256]"
     ]
    },
    {
     "name": "stderr",
     "output_type": "stream",
     "text": [
      "\r",
      "Epoch 1/10:   5%|█████▏                                                                                                     | 48/991 [01:02<20:02,  1.27s/batch, batch_loss=21.4, batch_index=49, batch_size=256]"
     ]
    },
    {
     "name": "stderr",
     "output_type": "stream",
     "text": [
      "\r",
      "Epoch 1/10:   5%|█████▎                                                                                                     | 49/991 [01:02<20:03,  1.28s/batch, batch_loss=21.4, batch_index=49, batch_size=256]"
     ]
    },
    {
     "name": "stderr",
     "output_type": "stream",
     "text": [
      "\r",
      "Epoch 1/10:   5%|█████▎                                                                                                     | 49/991 [01:03<20:03,  1.28s/batch, batch_loss=19.8, batch_index=50, batch_size=256]"
     ]
    },
    {
     "name": "stderr",
     "output_type": "stream",
     "text": [
      "\r",
      "Epoch 1/10:   5%|█████▍                                                                                                     | 50/991 [01:03<20:04,  1.28s/batch, batch_loss=19.8, batch_index=50, batch_size=256]"
     ]
    },
    {
     "name": "stderr",
     "output_type": "stream",
     "text": [
      "\r",
      "Epoch 1/10:   5%|█████▍                                                                                                      | 50/991 [01:05<20:04,  1.28s/batch, batch_loss=237, batch_index=51, batch_size=256]"
     ]
    },
    {
     "name": "stderr",
     "output_type": "stream",
     "text": [
      "\r",
      "Epoch 1/10:   5%|█████▌                                                                                                      | 51/991 [01:05<20:04,  1.28s/batch, batch_loss=237, batch_index=51, batch_size=256]"
     ]
    },
    {
     "name": "stderr",
     "output_type": "stream",
     "text": [
      "\r",
      "Epoch 1/10:   5%|█████▎                                                                                                  | 51/991 [01:06<20:04,  1.28s/batch, batch_loss=1.26e+3, batch_index=52, batch_size=256]"
     ]
    },
    {
     "name": "stderr",
     "output_type": "stream",
     "text": [
      "\r",
      "Epoch 1/10:   5%|█████▍                                                                                                  | 52/991 [01:06<20:05,  1.28s/batch, batch_loss=1.26e+3, batch_index=52, batch_size=256]"
     ]
    },
    {
     "name": "stderr",
     "output_type": "stream",
     "text": [
      "\r",
      "Epoch 1/10:   5%|█████▌                                                                                                     | 52/991 [01:07<20:05,  1.28s/batch, batch_loss=46.3, batch_index=53, batch_size=256]"
     ]
    },
    {
     "name": "stderr",
     "output_type": "stream",
     "text": [
      "\r",
      "Epoch 1/10:   5%|█████▋                                                                                                     | 53/991 [01:07<20:09,  1.29s/batch, batch_loss=46.3, batch_index=53, batch_size=256]"
     ]
    },
    {
     "name": "stderr",
     "output_type": "stream",
     "text": [
      "\r",
      "Epoch 1/10:   5%|█████▋                                                                                                     | 53/991 [01:09<20:09,  1.29s/batch, batch_loss=33.3, batch_index=54, batch_size=256]"
     ]
    },
    {
     "name": "stderr",
     "output_type": "stream",
     "text": [
      "\r",
      "Epoch 1/10:   5%|█████▊                                                                                                     | 54/991 [01:09<20:05,  1.29s/batch, batch_loss=33.3, batch_index=54, batch_size=256]"
     ]
    },
    {
     "name": "stderr",
     "output_type": "stream",
     "text": [
      "\r",
      "Epoch 1/10:   5%|█████▊                                                                                                     | 54/991 [01:10<20:05,  1.29s/batch, batch_loss=30.8, batch_index=55, batch_size=256]"
     ]
    },
    {
     "name": "stderr",
     "output_type": "stream",
     "text": [
      "\r",
      "Epoch 1/10:   6%|█████▉                                                                                                     | 55/991 [01:10<20:02,  1.28s/batch, batch_loss=30.8, batch_index=55, batch_size=256]"
     ]
    },
    {
     "name": "stderr",
     "output_type": "stream",
     "text": [
      "\r",
      "Epoch 1/10:   6%|█████▉                                                                                                     | 55/991 [01:11<20:02,  1.28s/batch, batch_loss=33.4, batch_index=56, batch_size=256]"
     ]
    },
    {
     "name": "stderr",
     "output_type": "stream",
     "text": [
      "\r",
      "Epoch 1/10:   6%|██████                                                                                                     | 56/991 [01:11<20:02,  1.29s/batch, batch_loss=33.4, batch_index=56, batch_size=256]"
     ]
    },
    {
     "name": "stderr",
     "output_type": "stream",
     "text": [
      "\r",
      "Epoch 1/10:   6%|██████                                                                                                     | 56/991 [01:12<20:02,  1.29s/batch, batch_loss=37.2, batch_index=57, batch_size=256]"
     ]
    },
    {
     "name": "stderr",
     "output_type": "stream",
     "text": [
      "\r",
      "Epoch 1/10:   6%|██████▏                                                                                                    | 57/991 [01:12<19:59,  1.28s/batch, batch_loss=37.2, batch_index=57, batch_size=256]"
     ]
    },
    {
     "name": "stderr",
     "output_type": "stream",
     "text": [
      "\r",
      "Epoch 1/10:   6%|█████▉                                                                                                  | 57/991 [01:14<19:59,  1.28s/batch, batch_loss=2.85e+4, batch_index=58, batch_size=256]"
     ]
    },
    {
     "name": "stderr",
     "output_type": "stream",
     "text": [
      "\r",
      "Epoch 1/10:   6%|██████                                                                                                  | 58/991 [01:14<20:02,  1.29s/batch, batch_loss=2.85e+4, batch_index=58, batch_size=256]"
     ]
    },
    {
     "name": "stderr",
     "output_type": "stream",
     "text": [
      "\r",
      "Epoch 1/10:   6%|██████▍                                                                                                      | 58/991 [01:15<20:02,  1.29s/batch, batch_loss=39, batch_index=59, batch_size=256]"
     ]
    },
    {
     "name": "stderr",
     "output_type": "stream",
     "text": [
      "\r",
      "Epoch 1/10:   6%|██████▍                                                                                                      | 59/991 [01:15<19:58,  1.29s/batch, batch_loss=39, batch_index=59, batch_size=256]"
     ]
    },
    {
     "name": "stderr",
     "output_type": "stream",
     "text": [
      "\r",
      "Epoch 1/10:   6%|██████▎                                                                                                    | 59/991 [01:16<19:58,  1.29s/batch, batch_loss=71.7, batch_index=60, batch_size=256]"
     ]
    },
    {
     "name": "stderr",
     "output_type": "stream",
     "text": [
      "\r",
      "Epoch 1/10:   6%|██████▍                                                                                                    | 60/991 [01:16<19:58,  1.29s/batch, batch_loss=71.7, batch_index=60, batch_size=256]"
     ]
    },
    {
     "name": "stderr",
     "output_type": "stream",
     "text": [
      "\r",
      "Epoch 1/10:   6%|██████▍                                                                                                    | 60/991 [01:18<19:58,  1.29s/batch, batch_loss=39.5, batch_index=61, batch_size=256]"
     ]
    },
    {
     "name": "stderr",
     "output_type": "stream",
     "text": [
      "\r",
      "Epoch 1/10:   6%|██████▌                                                                                                    | 61/991 [01:18<19:56,  1.29s/batch, batch_loss=39.5, batch_index=61, batch_size=256]"
     ]
    },
    {
     "name": "stderr",
     "output_type": "stream",
     "text": [
      "\r",
      "Epoch 1/10:   6%|██████▋                                                                                                      | 61/991 [01:19<19:56,  1.29s/batch, batch_loss=57, batch_index=62, batch_size=256]"
     ]
    },
    {
     "name": "stderr",
     "output_type": "stream",
     "text": [
      "\r",
      "Epoch 1/10:   6%|██████▊                                                                                                      | 62/991 [01:19<19:55,  1.29s/batch, batch_loss=57, batch_index=62, batch_size=256]"
     ]
    },
    {
     "name": "stderr",
     "output_type": "stream",
     "text": [
      "\r",
      "Epoch 1/10:   6%|██████▋                                                                                                    | 62/991 [01:20<19:55,  1.29s/batch, batch_loss=38.4, batch_index=63, batch_size=256]"
     ]
    },
    {
     "name": "stderr",
     "output_type": "stream",
     "text": [
      "\r",
      "Epoch 1/10:   6%|██████▊                                                                                                    | 63/991 [01:20<19:54,  1.29s/batch, batch_loss=38.4, batch_index=63, batch_size=256]"
     ]
    },
    {
     "name": "stderr",
     "output_type": "stream",
     "text": [
      "\r",
      "Epoch 1/10:   6%|██████▊                                                                                                    | 63/991 [01:21<19:54,  1.29s/batch, batch_loss=59.5, batch_index=64, batch_size=256]"
     ]
    },
    {
     "name": "stderr",
     "output_type": "stream",
     "text": [
      "\r",
      "Epoch 1/10:   6%|██████▉                                                                                                    | 64/991 [01:21<19:53,  1.29s/batch, batch_loss=59.5, batch_index=64, batch_size=256]"
     ]
    },
    {
     "name": "stderr",
     "output_type": "stream",
     "text": [
      "\r",
      "Epoch 1/10:   6%|███████                                                                                                      | 64/991 [01:23<19:53,  1.29s/batch, batch_loss=40, batch_index=65, batch_size=256]"
     ]
    },
    {
     "name": "stderr",
     "output_type": "stream",
     "text": [
      "\r",
      "Epoch 1/10:   7%|███████▏                                                                                                     | 65/991 [01:23<19:53,  1.29s/batch, batch_loss=40, batch_index=65, batch_size=256]"
     ]
    },
    {
     "name": "stderr",
     "output_type": "stream",
     "text": [
      "\r",
      "Epoch 1/10:   7%|███████▏                                                                                                     | 65/991 [01:24<19:53,  1.29s/batch, batch_loss=37, batch_index=66, batch_size=256]"
     ]
    },
    {
     "name": "stderr",
     "output_type": "stream",
     "text": [
      "\r",
      "Epoch 1/10:   7%|███████▎                                                                                                     | 66/991 [01:24<19:47,  1.28s/batch, batch_loss=37, batch_index=66, batch_size=256]"
     ]
    },
    {
     "name": "stderr",
     "output_type": "stream",
     "text": [
      "\r",
      "Epoch 1/10:   7%|███████▏                                                                                                   | 66/991 [01:25<19:47,  1.28s/batch, batch_loss=31.9, batch_index=67, batch_size=256]"
     ]
    },
    {
     "name": "stderr",
     "output_type": "stream",
     "text": [
      "\r",
      "Epoch 1/10:   7%|███████▏                                                                                                   | 67/991 [01:25<19:21,  1.26s/batch, batch_loss=31.9, batch_index=67, batch_size=256]"
     ]
    },
    {
     "name": "stderr",
     "output_type": "stream",
     "text": [
      "\r",
      "Epoch 1/10:   7%|███████                                                                                                 | 67/991 [01:27<19:21,  1.26s/batch, batch_loss=3.63e+3, batch_index=68, batch_size=256]"
     ]
    },
    {
     "name": "stderr",
     "output_type": "stream",
     "text": [
      "\r",
      "Epoch 1/10:   7%|███████▏                                                                                                | 68/991 [01:27<19:30,  1.27s/batch, batch_loss=3.63e+3, batch_index=68, batch_size=256]"
     ]
    },
    {
     "name": "stderr",
     "output_type": "stream",
     "text": [
      "\r",
      "Epoch 1/10:   7%|███████▎                                                                                                   | 68/991 [01:28<19:30,  1.27s/batch, batch_loss=33.6, batch_index=69, batch_size=256]"
     ]
    },
    {
     "name": "stderr",
     "output_type": "stream",
     "text": [
      "\r",
      "Epoch 1/10:   7%|███████▍                                                                                                   | 69/991 [01:28<19:35,  1.27s/batch, batch_loss=33.6, batch_index=69, batch_size=256]"
     ]
    },
    {
     "name": "stderr",
     "output_type": "stream",
     "text": [
      "\r",
      "Epoch 1/10:   7%|███████▎                                                                                                 | 69/991 [01:29<19:35,  1.27s/batch, batch_loss=3.5e+3, batch_index=70, batch_size=256]"
     ]
    },
    {
     "name": "stderr",
     "output_type": "stream",
     "text": [
      "\r",
      "Epoch 1/10:   7%|███████▍                                                                                                 | 70/991 [01:29<19:37,  1.28s/batch, batch_loss=3.5e+3, batch_index=70, batch_size=256]"
     ]
    },
    {
     "name": "stderr",
     "output_type": "stream",
     "text": [
      "\r",
      "Epoch 1/10:   7%|███████▋                                                                                                    | 70/991 [01:30<19:37,  1.28s/batch, batch_loss=191, batch_index=71, batch_size=256]"
     ]
    },
    {
     "name": "stderr",
     "output_type": "stream",
     "text": [
      "\r",
      "Epoch 1/10:   7%|███████▋                                                                                                    | 71/991 [01:30<19:38,  1.28s/batch, batch_loss=191, batch_index=71, batch_size=256]"
     ]
    },
    {
     "name": "stderr",
     "output_type": "stream",
     "text": [
      "\r",
      "Epoch 1/10:   7%|███████▋                                                                                                   | 71/991 [01:32<19:38,  1.28s/batch, batch_loss=32.6, batch_index=72, batch_size=256]"
     ]
    },
    {
     "name": "stderr",
     "output_type": "stream",
     "text": [
      "\r",
      "Epoch 1/10:   7%|███████▊                                                                                                   | 72/991 [01:32<19:38,  1.28s/batch, batch_loss=32.6, batch_index=72, batch_size=256]"
     ]
    },
    {
     "name": "stderr",
     "output_type": "stream",
     "text": [
      "\r",
      "Epoch 1/10:   7%|███████▊                                                                                                   | 72/991 [01:33<19:38,  1.28s/batch, batch_loss=62.3, batch_index=73, batch_size=256]"
     ]
    },
    {
     "name": "stderr",
     "output_type": "stream",
     "text": [
      "\r",
      "Epoch 1/10:   7%|███████▉                                                                                                   | 73/991 [01:33<19:24,  1.27s/batch, batch_loss=62.3, batch_index=73, batch_size=256]"
     ]
    },
    {
     "name": "stderr",
     "output_type": "stream",
     "text": [
      "\r",
      "Epoch 1/10:   7%|███████▉                                                                                                   | 73/991 [01:34<19:24,  1.27s/batch, batch_loss=32.1, batch_index=74, batch_size=256]"
     ]
    },
    {
     "name": "stderr",
     "output_type": "stream",
     "text": [
      "\r",
      "Epoch 1/10:   7%|███████▉                                                                                                   | 74/991 [01:34<19:26,  1.27s/batch, batch_loss=32.1, batch_index=74, batch_size=256]"
     ]
    },
    {
     "name": "stderr",
     "output_type": "stream",
     "text": [
      "\r",
      "Epoch 1/10:   7%|███████▊                                                                                                 | 74/991 [01:35<19:26,  1.27s/batch, batch_loss=5.6e+3, batch_index=75, batch_size=256]"
     ]
    },
    {
     "name": "stderr",
     "output_type": "stream",
     "text": [
      "\r",
      "Epoch 1/10:   8%|███████▉                                                                                                 | 75/991 [01:35<19:26,  1.27s/batch, batch_loss=5.6e+3, batch_index=75, batch_size=256]"
     ]
    },
    {
     "name": "stderr",
     "output_type": "stream",
     "text": [
      "\r",
      "Epoch 1/10:   8%|████████                                                                                                   | 75/991 [01:37<19:26,  1.27s/batch, batch_loss=37.5, batch_index=76, batch_size=256]"
     ]
    },
    {
     "name": "stderr",
     "output_type": "stream",
     "text": [
      "\r",
      "Epoch 1/10:   8%|████████▏                                                                                                  | 76/991 [01:37<19:26,  1.28s/batch, batch_loss=37.5, batch_index=76, batch_size=256]"
     ]
    },
    {
     "name": "stderr",
     "output_type": "stream",
     "text": [
      "\r",
      "Epoch 1/10:   8%|████████▎                                                                                                    | 76/991 [01:38<19:26,  1.28s/batch, batch_loss=33, batch_index=77, batch_size=256]"
     ]
    },
    {
     "name": "stderr",
     "output_type": "stream",
     "text": [
      "\r",
      "Epoch 1/10:   8%|████████▍                                                                                                    | 77/991 [01:38<19:26,  1.28s/batch, batch_loss=33, batch_index=77, batch_size=256]"
     ]
    },
    {
     "name": "stderr",
     "output_type": "stream",
     "text": [
      "\r",
      "Epoch 1/10:   8%|████████▎                                                                                                  | 77/991 [01:39<19:26,  1.28s/batch, batch_loss=42.7, batch_index=78, batch_size=256]"
     ]
    },
    {
     "name": "stderr",
     "output_type": "stream",
     "text": [
      "\r",
      "Epoch 1/10:   8%|████████▍                                                                                                  | 78/991 [01:39<19:27,  1.28s/batch, batch_loss=42.7, batch_index=78, batch_size=256]"
     ]
    },
    {
     "name": "stderr",
     "output_type": "stream",
     "text": [
      "\r",
      "Epoch 1/10:   8%|████████▌                                                                                                    | 78/991 [01:41<19:27,  1.28s/batch, batch_loss=19, batch_index=79, batch_size=256]"
     ]
    },
    {
     "name": "stderr",
     "output_type": "stream",
     "text": [
      "\r",
      "Epoch 1/10:   8%|████████▋                                                                                                    | 79/991 [01:41<19:26,  1.28s/batch, batch_loss=19, batch_index=79, batch_size=256]"
     ]
    },
    {
     "name": "stderr",
     "output_type": "stream",
     "text": [
      "\r",
      "Epoch 1/10:   8%|████████▋                                                                                                    | 79/991 [01:42<19:26,  1.28s/batch, batch_loss=22, batch_index=80, batch_size=256]"
     ]
    },
    {
     "name": "stderr",
     "output_type": "stream",
     "text": [
      "\r",
      "Epoch 1/10:   8%|████████▊                                                                                                    | 80/991 [01:42<19:26,  1.28s/batch, batch_loss=22, batch_index=80, batch_size=256]"
     ]
    },
    {
     "name": "stderr",
     "output_type": "stream",
     "text": [
      "\r",
      "Epoch 1/10:   8%|████████▋                                                                                                  | 80/991 [01:43<19:26,  1.28s/batch, batch_loss=29.5, batch_index=81, batch_size=256]"
     ]
    },
    {
     "name": "stderr",
     "output_type": "stream",
     "text": [
      "\r",
      "Epoch 1/10:   8%|████████▋                                                                                                  | 81/991 [01:43<19:28,  1.28s/batch, batch_loss=29.5, batch_index=81, batch_size=256]"
     ]
    },
    {
     "name": "stderr",
     "output_type": "stream",
     "text": [
      "\r",
      "Epoch 1/10:   8%|████████▉                                                                                                    | 81/991 [01:44<19:28,  1.28s/batch, batch_loss=36, batch_index=82, batch_size=256]"
     ]
    },
    {
     "name": "stderr",
     "output_type": "stream",
     "text": [
      "\r",
      "Epoch 1/10:   8%|█████████                                                                                                    | 82/991 [01:44<19:28,  1.29s/batch, batch_loss=36, batch_index=82, batch_size=256]"
     ]
    },
    {
     "name": "stderr",
     "output_type": "stream",
     "text": [
      "\r",
      "Epoch 1/10:   8%|████████▊                                                                                                  | 82/991 [01:46<19:28,  1.29s/batch, batch_loss=35.8, batch_index=83, batch_size=256]"
     ]
    },
    {
     "name": "stderr",
     "output_type": "stream",
     "text": [
      "\r",
      "Epoch 1/10:   8%|████████▉                                                                                                  | 83/991 [01:46<19:26,  1.28s/batch, batch_loss=35.8, batch_index=83, batch_size=256]"
     ]
    },
    {
     "name": "stderr",
     "output_type": "stream",
     "text": [
      "\r",
      "Epoch 1/10:   8%|████████▉                                                                                                  | 83/991 [01:47<19:26,  1.28s/batch, batch_loss=29.1, batch_index=84, batch_size=256]"
     ]
    },
    {
     "name": "stderr",
     "output_type": "stream",
     "text": [
      "\r",
      "Epoch 1/10:   8%|█████████                                                                                                  | 84/991 [01:47<19:25,  1.29s/batch, batch_loss=29.1, batch_index=84, batch_size=256]"
     ]
    },
    {
     "name": "stderr",
     "output_type": "stream",
     "text": [
      "\r",
      "Epoch 1/10:   8%|█████████▏                                                                                                   | 84/991 [01:48<19:25,  1.29s/batch, batch_loss=28, batch_index=85, batch_size=256]"
     ]
    },
    {
     "name": "stderr",
     "output_type": "stream",
     "text": [
      "\r",
      "Epoch 1/10:   9%|█████████▎                                                                                                   | 85/991 [01:48<19:24,  1.28s/batch, batch_loss=28, batch_index=85, batch_size=256]"
     ]
    },
    {
     "name": "stderr",
     "output_type": "stream",
     "text": [
      "\r",
      "Epoch 1/10:   9%|█████████▏                                                                                                 | 85/991 [01:50<19:24,  1.28s/batch, batch_loss=41.2, batch_index=86, batch_size=256]"
     ]
    },
    {
     "name": "stderr",
     "output_type": "stream",
     "text": [
      "\r",
      "Epoch 1/10:   9%|█████████▎                                                                                                 | 86/991 [01:50<19:23,  1.29s/batch, batch_loss=41.2, batch_index=86, batch_size=256]"
     ]
    },
    {
     "name": "stderr",
     "output_type": "stream",
     "text": [
      "\r",
      "Epoch 1/10:   9%|█████████▎                                                                                                 | 86/991 [01:51<19:23,  1.29s/batch, batch_loss=44.2, batch_index=87, batch_size=256]"
     ]
    },
    {
     "name": "stderr",
     "output_type": "stream",
     "text": [
      "\r",
      "Epoch 1/10:   9%|█████████▍                                                                                                 | 87/991 [01:51<19:21,  1.28s/batch, batch_loss=44.2, batch_index=87, batch_size=256]"
     ]
    },
    {
     "name": "stderr",
     "output_type": "stream",
     "text": [
      "\r",
      "Epoch 1/10:   9%|█████████▍                                                                                                 | 87/991 [01:52<19:21,  1.28s/batch, batch_loss=45.9, batch_index=88, batch_size=256]"
     ]
    },
    {
     "name": "stderr",
     "output_type": "stream",
     "text": [
      "\r",
      "Epoch 1/10:   9%|█████████▌                                                                                                 | 88/991 [01:52<19:21,  1.29s/batch, batch_loss=45.9, batch_index=88, batch_size=256]"
     ]
    },
    {
     "name": "stderr",
     "output_type": "stream",
     "text": [
      "\r",
      "Epoch 1/10:   9%|█████████▌                                                                                                 | 88/991 [01:53<19:21,  1.29s/batch, batch_loss=25.3, batch_index=89, batch_size=256]"
     ]
    },
    {
     "name": "stderr",
     "output_type": "stream",
     "text": [
      "\r",
      "Epoch 1/10:   9%|█████████▌                                                                                                 | 89/991 [01:53<19:18,  1.28s/batch, batch_loss=25.3, batch_index=89, batch_size=256]"
     ]
    },
    {
     "name": "stderr",
     "output_type": "stream",
     "text": [
      "\r",
      "Epoch 1/10:   9%|█████████▋                                                                                                  | 89/991 [01:55<19:18,  1.28s/batch, batch_loss=210, batch_index=90, batch_size=256]"
     ]
    },
    {
     "name": "stderr",
     "output_type": "stream",
     "text": [
      "\r",
      "Epoch 1/10:   9%|█████████▊                                                                                                  | 90/991 [01:55<19:18,  1.29s/batch, batch_loss=210, batch_index=90, batch_size=256]"
     ]
    },
    {
     "name": "stderr",
     "output_type": "stream",
     "text": [
      "\r",
      "Epoch 1/10:   9%|█████████▋                                                                                                 | 90/991 [01:56<19:18,  1.29s/batch, batch_loss=32.4, batch_index=91, batch_size=256]"
     ]
    },
    {
     "name": "stderr",
     "output_type": "stream",
     "text": [
      "\r",
      "Epoch 1/10:   9%|█████████▊                                                                                                 | 91/991 [01:56<19:15,  1.28s/batch, batch_loss=32.4, batch_index=91, batch_size=256]"
     ]
    },
    {
     "name": "stderr",
     "output_type": "stream",
     "text": [
      "\r",
      "Epoch 1/10:   9%|█████████▊                                                                                                 | 91/991 [01:57<19:15,  1.28s/batch, batch_loss=17.8, batch_index=92, batch_size=256]"
     ]
    },
    {
     "name": "stderr",
     "output_type": "stream",
     "text": [
      "\r",
      "Epoch 1/10:   9%|█████████▉                                                                                                 | 92/991 [01:57<19:18,  1.29s/batch, batch_loss=17.8, batch_index=92, batch_size=256]"
     ]
    },
    {
     "name": "stderr",
     "output_type": "stream",
     "text": [
      "\r",
      "Epoch 1/10:   9%|█████████▉                                                                                                 | 92/991 [01:59<19:18,  1.29s/batch, batch_loss=16.1, batch_index=93, batch_size=256]"
     ]
    },
    {
     "name": "stderr",
     "output_type": "stream",
     "text": [
      "\r",
      "Epoch 1/10:   9%|██████████                                                                                                 | 93/991 [01:59<19:15,  1.29s/batch, batch_loss=16.1, batch_index=93, batch_size=256]"
     ]
    },
    {
     "name": "stderr",
     "output_type": "stream",
     "text": [
      "\r",
      "Epoch 1/10:   9%|██████████▏                                                                                                  | 93/991 [02:00<19:15,  1.29s/batch, batch_loss=50, batch_index=94, batch_size=256]"
     ]
    },
    {
     "name": "stderr",
     "output_type": "stream",
     "text": [
      "\r",
      "Epoch 1/10:   9%|██████████▎                                                                                                  | 94/991 [02:00<18:52,  1.26s/batch, batch_loss=50, batch_index=94, batch_size=256]"
     ]
    },
    {
     "name": "stderr",
     "output_type": "stream",
     "text": [
      "\r",
      "Epoch 1/10:   9%|██████████▏                                                                                                | 94/991 [02:01<18:52,  1.26s/batch, batch_loss=50.8, batch_index=95, batch_size=256]"
     ]
    },
    {
     "name": "stderr",
     "output_type": "stream",
     "text": [
      "\r",
      "Epoch 1/10:  10%|██████████▎                                                                                                | 95/991 [02:01<18:57,  1.27s/batch, batch_loss=50.8, batch_index=95, batch_size=256]"
     ]
    },
    {
     "name": "stderr",
     "output_type": "stream",
     "text": [
      "\r",
      "Epoch 1/10:  10%|█████████▉                                                                                              | 95/991 [02:02<18:57,  1.27s/batch, batch_loss=3.21e+4, batch_index=96, batch_size=256]"
     ]
    },
    {
     "name": "stderr",
     "output_type": "stream",
     "text": [
      "\r",
      "Epoch 1/10:  10%|██████████                                                                                              | 96/991 [02:02<19:01,  1.28s/batch, batch_loss=3.21e+4, batch_index=96, batch_size=256]"
     ]
    },
    {
     "name": "stderr",
     "output_type": "stream",
     "text": [
      "\r",
      "Epoch 1/10:  10%|██████████▎                                                                                                | 96/991 [02:04<19:01,  1.28s/batch, batch_loss=77.6, batch_index=97, batch_size=256]"
     ]
    },
    {
     "name": "stderr",
     "output_type": "stream",
     "text": [
      "\r",
      "Epoch 1/10:  10%|██████████▍                                                                                                | 97/991 [02:04<19:00,  1.28s/batch, batch_loss=77.6, batch_index=97, batch_size=256]"
     ]
    },
    {
     "name": "stderr",
     "output_type": "stream",
     "text": [
      "\r",
      "Epoch 1/10:  10%|██████████▍                                                                                                | 97/991 [02:05<19:00,  1.28s/batch, batch_loss=38.9, batch_index=98, batch_size=256]"
     ]
    },
    {
     "name": "stderr",
     "output_type": "stream",
     "text": [
      "\r",
      "Epoch 1/10:  10%|██████████▌                                                                                                | 98/991 [02:05<19:01,  1.28s/batch, batch_loss=38.9, batch_index=98, batch_size=256]"
     ]
    },
    {
     "name": "stderr",
     "output_type": "stream",
     "text": [
      "\r",
      "Epoch 1/10:  10%|██████████▌                                                                                                | 98/991 [02:06<19:01,  1.28s/batch, batch_loss=37.7, batch_index=99, batch_size=256]"
     ]
    },
    {
     "name": "stderr",
     "output_type": "stream",
     "text": [
      "\r",
      "Epoch 1/10:  10%|██████████▋                                                                                                | 99/991 [02:06<19:02,  1.28s/batch, batch_loss=37.7, batch_index=99, batch_size=256]"
     ]
    },
    {
     "name": "stderr",
     "output_type": "stream",
     "text": [
      "\r",
      "Epoch 1/10:  10%|██████████▎                                                                                            | 99/991 [02:08<19:02,  1.28s/batch, batch_loss=2.28e+4, batch_index=100, batch_size=256]"
     ]
    },
    {
     "name": "stderr",
     "output_type": "stream",
     "text": [
      "\r",
      "Epoch 1/10:  10%|██████████▎                                                                                           | 100/991 [02:08<19:00,  1.28s/batch, batch_loss=2.28e+4, batch_index=100, batch_size=256]"
     ]
    },
    {
     "name": "stderr",
     "output_type": "stream",
     "text": [
      "\r",
      "Epoch 1/10:  10%|██████████▌                                                                                              | 100/991 [02:09<19:00,  1.28s/batch, batch_loss=27.1, batch_index=101, batch_size=256]"
     ]
    },
    {
     "name": "stderr",
     "output_type": "stream",
     "text": [
      "\r",
      "Epoch 1/10:  10%|██████████▋                                                                                              | 101/991 [02:09<18:58,  1.28s/batch, batch_loss=27.1, batch_index=101, batch_size=256]"
     ]
    },
    {
     "name": "stderr",
     "output_type": "stream",
     "text": [
      "\r",
      "Epoch 1/10:  10%|██████████▋                                                                                              | 101/991 [02:10<18:58,  1.28s/batch, batch_loss=47.4, batch_index=102, batch_size=256]"
     ]
    },
    {
     "name": "stderr",
     "output_type": "stream",
     "text": [
      "\r",
      "Epoch 1/10:  10%|██████████▊                                                                                              | 102/991 [02:10<18:59,  1.28s/batch, batch_loss=47.4, batch_index=102, batch_size=256]"
     ]
    },
    {
     "name": "stderr",
     "output_type": "stream",
     "text": [
      "\r",
      "Epoch 1/10:  10%|██████████▊                                                                                              | 102/991 [02:11<18:59,  1.28s/batch, batch_loss=41.3, batch_index=103, batch_size=256]"
     ]
    },
    {
     "name": "stderr",
     "output_type": "stream",
     "text": [
      "\r",
      "Epoch 1/10:  10%|██████████▉                                                                                              | 103/991 [02:11<18:52,  1.28s/batch, batch_loss=41.3, batch_index=103, batch_size=256]"
     ]
    },
    {
     "name": "stderr",
     "output_type": "stream",
     "text": [
      "\r",
      "Epoch 1/10:  10%|██████████▉                                                                                              | 103/991 [02:13<18:52,  1.28s/batch, batch_loss=33.7, batch_index=104, batch_size=256]"
     ]
    },
    {
     "name": "stderr",
     "output_type": "stream",
     "text": [
      "\r",
      "Epoch 1/10:  10%|███████████                                                                                              | 104/991 [02:13<18:28,  1.25s/batch, batch_loss=33.7, batch_index=104, batch_size=256]"
     ]
    },
    {
     "name": "stderr",
     "output_type": "stream",
     "text": [
      "\r",
      "Epoch 1/10:  10%|███████████                                                                                              | 104/991 [02:14<18:28,  1.25s/batch, batch_loss=48.5, batch_index=105, batch_size=256]"
     ]
    },
    {
     "name": "stderr",
     "output_type": "stream",
     "text": [
      "\r",
      "Epoch 1/10:  11%|███████████▏                                                                                             | 105/991 [02:14<18:38,  1.26s/batch, batch_loss=48.5, batch_index=105, batch_size=256]"
     ]
    },
    {
     "name": "stderr",
     "output_type": "stream",
     "text": [
      "\r",
      "Epoch 1/10:  11%|███████████▏                                                                                             | 105/991 [02:15<18:38,  1.26s/batch, batch_loss=18.2, batch_index=106, batch_size=256]"
     ]
    },
    {
     "name": "stderr",
     "output_type": "stream",
     "text": [
      "\r",
      "Epoch 1/10:  11%|███████████▏                                                                                             | 106/991 [02:15<18:40,  1.27s/batch, batch_loss=18.2, batch_index=106, batch_size=256]"
     ]
    },
    {
     "name": "stderr",
     "output_type": "stream",
     "text": [
      "\r",
      "Epoch 1/10:  11%|███████████▏                                                                                             | 106/991 [02:16<18:40,  1.27s/batch, batch_loss=39.8, batch_index=107, batch_size=256]"
     ]
    },
    {
     "name": "stderr",
     "output_type": "stream",
     "text": [
      "\r",
      "Epoch 1/10:  11%|███████████▎                                                                                             | 107/991 [02:16<18:43,  1.27s/batch, batch_loss=39.8, batch_index=107, batch_size=256]"
     ]
    },
    {
     "name": "stderr",
     "output_type": "stream",
     "text": [
      "\r",
      "Epoch 1/10:  11%|███████████▎                                                                                             | 107/991 [02:18<18:43,  1.27s/batch, batch_loss=44.3, batch_index=108, batch_size=256]"
     ]
    },
    {
     "name": "stderr",
     "output_type": "stream",
     "text": [
      "\r",
      "Epoch 1/10:  11%|███████████▍                                                                                             | 108/991 [02:18<18:49,  1.28s/batch, batch_loss=44.3, batch_index=108, batch_size=256]"
     ]
    },
    {
     "name": "stderr",
     "output_type": "stream",
     "text": [
      "\r",
      "Epoch 1/10:  11%|███████████▍                                                                                             | 108/991 [02:19<18:49,  1.28s/batch, batch_loss=30.2, batch_index=109, batch_size=256]"
     ]
    },
    {
     "name": "stderr",
     "output_type": "stream",
     "text": [
      "\r",
      "Epoch 1/10:  11%|███████████▌                                                                                             | 109/991 [02:19<18:47,  1.28s/batch, batch_loss=30.2, batch_index=109, batch_size=256]"
     ]
    },
    {
     "name": "stderr",
     "output_type": "stream",
     "text": [
      "\r",
      "Epoch 1/10:  11%|███████████▌                                                                                             | 109/991 [02:20<18:47,  1.28s/batch, batch_loss=36.4, batch_index=110, batch_size=256]"
     ]
    },
    {
     "name": "stderr",
     "output_type": "stream",
     "text": [
      "\r",
      "Epoch 1/10:  11%|███████████▋                                                                                             | 110/991 [02:20<18:52,  1.29s/batch, batch_loss=36.4, batch_index=110, batch_size=256]"
     ]
    },
    {
     "name": "stderr",
     "output_type": "stream",
     "text": [
      "\r",
      "Epoch 1/10:  11%|███████████▋                                                                                             | 110/991 [02:22<18:52,  1.29s/batch, batch_loss=29.6, batch_index=111, batch_size=256]"
     ]
    },
    {
     "name": "stderr",
     "output_type": "stream",
     "text": [
      "\r",
      "Epoch 1/10:  11%|███████████▊                                                                                             | 111/991 [02:22<18:50,  1.28s/batch, batch_loss=29.6, batch_index=111, batch_size=256]"
     ]
    },
    {
     "name": "stderr",
     "output_type": "stream",
     "text": [
      "\r",
      "Epoch 1/10:  11%|███████████▊                                                                                             | 111/991 [02:23<18:50,  1.28s/batch, batch_loss=36.6, batch_index=112, batch_size=256]"
     ]
    },
    {
     "name": "stderr",
     "output_type": "stream",
     "text": [
      "\r",
      "Epoch 1/10:  11%|███████████▊                                                                                             | 112/991 [02:23<18:51,  1.29s/batch, batch_loss=36.6, batch_index=112, batch_size=256]"
     ]
    },
    {
     "name": "stderr",
     "output_type": "stream",
     "text": [
      "\r",
      "Epoch 1/10:  11%|███████████▊                                                                                             | 112/991 [02:24<18:51,  1.29s/batch, batch_loss=26.7, batch_index=113, batch_size=256]"
     ]
    },
    {
     "name": "stderr",
     "output_type": "stream",
     "text": [
      "\r",
      "Epoch 1/10:  11%|███████████▉                                                                                             | 113/991 [02:24<18:50,  1.29s/batch, batch_loss=26.7, batch_index=113, batch_size=256]"
     ]
    },
    {
     "name": "stderr",
     "output_type": "stream",
     "text": [
      "\r",
      "Epoch 1/10:  11%|███████████▉                                                                                             | 113/991 [02:25<18:50,  1.29s/batch, batch_loss=31.1, batch_index=114, batch_size=256]"
     ]
    },
    {
     "name": "stderr",
     "output_type": "stream",
     "text": [
      "\r",
      "Epoch 1/10:  12%|████████████                                                                                             | 114/991 [02:25<18:47,  1.29s/batch, batch_loss=31.1, batch_index=114, batch_size=256]"
     ]
    },
    {
     "name": "stderr",
     "output_type": "stream",
     "text": [
      "\r",
      "Epoch 1/10:  12%|████████████                                                                                             | 114/991 [02:27<18:47,  1.29s/batch, batch_loss=33.4, batch_index=115, batch_size=256]"
     ]
    },
    {
     "name": "stderr",
     "output_type": "stream",
     "text": [
      "\r",
      "Epoch 1/10:  12%|████████████▏                                                                                            | 115/991 [02:27<18:48,  1.29s/batch, batch_loss=33.4, batch_index=115, batch_size=256]"
     ]
    },
    {
     "name": "stderr",
     "output_type": "stream",
     "text": [
      "\r",
      "Epoch 1/10:  12%|████████████▏                                                                                            | 115/991 [02:28<18:48,  1.29s/batch, batch_loss=55.5, batch_index=116, batch_size=256]"
     ]
    },
    {
     "name": "stderr",
     "output_type": "stream",
     "text": [
      "\r",
      "Epoch 1/10:  12%|████████████▎                                                                                            | 116/991 [02:28<18:42,  1.28s/batch, batch_loss=55.5, batch_index=116, batch_size=256]"
     ]
    },
    {
     "name": "stderr",
     "output_type": "stream",
     "text": [
      "\r",
      "Epoch 1/10:  12%|████████████▎                                                                                            | 116/991 [02:29<18:42,  1.28s/batch, batch_loss=30.3, batch_index=117, batch_size=256]"
     ]
    },
    {
     "name": "stderr",
     "output_type": "stream",
     "text": [
      "\r",
      "Epoch 1/10:  12%|████████████▍                                                                                            | 117/991 [02:29<18:43,  1.28s/batch, batch_loss=30.3, batch_index=117, batch_size=256]"
     ]
    },
    {
     "name": "stderr",
     "output_type": "stream",
     "text": [
      "\r",
      "Epoch 1/10:  12%|████████████▍                                                                                            | 117/991 [02:31<18:43,  1.28s/batch, batch_loss=47.8, batch_index=118, batch_size=256]"
     ]
    },
    {
     "name": "stderr",
     "output_type": "stream",
     "text": [
      "\r",
      "Epoch 1/10:  12%|████████████▌                                                                                            | 118/991 [02:31<18:39,  1.28s/batch, batch_loss=47.8, batch_index=118, batch_size=256]"
     ]
    },
    {
     "name": "stderr",
     "output_type": "stream",
     "text": [
      "\r",
      "Epoch 1/10:  12%|████████████▏                                                                                         | 118/991 [02:32<18:39,  1.28s/batch, batch_loss=6.77e+3, batch_index=119, batch_size=256]"
     ]
    },
    {
     "name": "stderr",
     "output_type": "stream",
     "text": [
      "\r",
      "Epoch 1/10:  12%|████████████▏                                                                                         | 119/991 [02:32<18:39,  1.28s/batch, batch_loss=6.77e+3, batch_index=119, batch_size=256]"
     ]
    },
    {
     "name": "stderr",
     "output_type": "stream",
     "text": [
      "\r",
      "Epoch 1/10:  12%|████████████▌                                                                                            | 119/991 [02:33<18:39,  1.28s/batch, batch_loss=24.2, batch_index=120, batch_size=256]"
     ]
    },
    {
     "name": "stderr",
     "output_type": "stream",
     "text": [
      "\r",
      "Epoch 1/10:  12%|████████████▋                                                                                            | 120/991 [02:33<18:40,  1.29s/batch, batch_loss=24.2, batch_index=120, batch_size=256]"
     ]
    },
    {
     "name": "stderr",
     "output_type": "stream",
     "text": [
      "\r",
      "Epoch 1/10:  12%|████████████▋                                                                                            | 120/991 [02:34<18:40,  1.29s/batch, batch_loss=38.1, batch_index=121, batch_size=256]"
     ]
    },
    {
     "name": "stderr",
     "output_type": "stream",
     "text": [
      "\r",
      "Epoch 1/10:  12%|████████████▊                                                                                            | 121/991 [02:34<18:20,  1.27s/batch, batch_loss=38.1, batch_index=121, batch_size=256]"
     ]
    },
    {
     "name": "stderr",
     "output_type": "stream",
     "text": [
      "\r",
      "Epoch 1/10:  12%|████████████▊                                                                                            | 121/991 [02:36<18:20,  1.27s/batch, batch_loss=34.2, batch_index=122, batch_size=256]"
     ]
    },
    {
     "name": "stderr",
     "output_type": "stream",
     "text": [
      "\r",
      "Epoch 1/10:  12%|████████████▉                                                                                            | 122/991 [02:36<18:26,  1.27s/batch, batch_loss=34.2, batch_index=122, batch_size=256]"
     ]
    },
    {
     "name": "stderr",
     "output_type": "stream",
     "text": [
      "\r",
      "Epoch 1/10:  12%|████████████▉                                                                                            | 122/991 [02:37<18:26,  1.27s/batch, batch_loss=56.3, batch_index=123, batch_size=256]"
     ]
    },
    {
     "name": "stderr",
     "output_type": "stream",
     "text": [
      "\r",
      "Epoch 1/10:  12%|█████████████                                                                                            | 123/991 [02:37<18:28,  1.28s/batch, batch_loss=56.3, batch_index=123, batch_size=256]"
     ]
    },
    {
     "name": "stderr",
     "output_type": "stream",
     "text": [
      "\r",
      "Epoch 1/10:  12%|█████████████                                                                                            | 123/991 [02:38<18:28,  1.28s/batch, batch_loss=29.4, batch_index=124, batch_size=256]"
     ]
    },
    {
     "name": "stderr",
     "output_type": "stream",
     "text": [
      "\r",
      "Epoch 1/10:  13%|█████████████▏                                                                                           | 124/991 [02:38<18:28,  1.28s/batch, batch_loss=29.4, batch_index=124, batch_size=256]"
     ]
    },
    {
     "name": "stderr",
     "output_type": "stream",
     "text": [
      "\r",
      "Epoch 1/10:  13%|█████████████▏                                                                                           | 124/991 [02:39<18:28,  1.28s/batch, batch_loss=34.5, batch_index=125, batch_size=256]"
     ]
    },
    {
     "name": "stderr",
     "output_type": "stream",
     "text": [
      "\r",
      "Epoch 1/10:  13%|█████████████▏                                                                                           | 125/991 [02:39<18:29,  1.28s/batch, batch_loss=34.5, batch_index=125, batch_size=256]"
     ]
    },
    {
     "name": "stderr",
     "output_type": "stream",
     "text": [
      "\r",
      "Epoch 1/10:  13%|█████████████▎                                                                                            | 125/991 [02:41<18:29,  1.28s/batch, batch_loss=287, batch_index=126, batch_size=256]"
     ]
    },
    {
     "name": "stderr",
     "output_type": "stream",
     "text": [
      "\r",
      "Epoch 1/10:  13%|█████████████▍                                                                                            | 126/991 [02:41<18:27,  1.28s/batch, batch_loss=287, batch_index=126, batch_size=256]"
     ]
    },
    {
     "name": "stderr",
     "output_type": "stream",
     "text": [
      "\r",
      "Epoch 1/10:  13%|█████████████▎                                                                                           | 126/991 [02:42<18:27,  1.28s/batch, batch_loss=31.7, batch_index=127, batch_size=256]"
     ]
    },
    {
     "name": "stderr",
     "output_type": "stream",
     "text": [
      "\r",
      "Epoch 1/10:  13%|█████████████▍                                                                                           | 127/991 [02:42<18:27,  1.28s/batch, batch_loss=31.7, batch_index=127, batch_size=256]"
     ]
    },
    {
     "name": "stderr",
     "output_type": "stream",
     "text": [
      "\r",
      "Epoch 1/10:  13%|█████████████▍                                                                                           | 127/991 [02:43<18:27,  1.28s/batch, batch_loss=41.4, batch_index=128, batch_size=256]"
     ]
    },
    {
     "name": "stderr",
     "output_type": "stream",
     "text": [
      "\r",
      "Epoch 1/10:  13%|█████████████▌                                                                                           | 128/991 [02:43<18:30,  1.29s/batch, batch_loss=41.4, batch_index=128, batch_size=256]"
     ]
    },
    {
     "name": "stderr",
     "output_type": "stream",
     "text": [
      "\r",
      "Epoch 1/10:  13%|█████████████▌                                                                                           | 128/991 [02:45<18:30,  1.29s/batch, batch_loss=34.3, batch_index=129, batch_size=256]"
     ]
    },
    {
     "name": "stderr",
     "output_type": "stream",
     "text": [
      "\r",
      "Epoch 1/10:  13%|█████████████▋                                                                                           | 129/991 [02:45<18:30,  1.29s/batch, batch_loss=34.3, batch_index=129, batch_size=256]"
     ]
    },
    {
     "name": "stderr",
     "output_type": "stream",
     "text": [
      "\r",
      "Epoch 1/10:  13%|█████████████▉                                                                                             | 129/991 [02:46<18:30,  1.29s/batch, batch_loss=26, batch_index=130, batch_size=256]"
     ]
    },
    {
     "name": "stderr",
     "output_type": "stream",
     "text": [
      "\r",
      "Epoch 1/10:  13%|██████████████                                                                                             | 130/991 [02:46<18:26,  1.28s/batch, batch_loss=26, batch_index=130, batch_size=256]"
     ]
    },
    {
     "name": "stderr",
     "output_type": "stream",
     "text": [
      "\r",
      "Epoch 1/10:  13%|██████████████                                                                                             | 130/991 [02:47<18:26,  1.28s/batch, batch_loss=36, batch_index=131, batch_size=256]"
     ]
    },
    {
     "name": "stderr",
     "output_type": "stream",
     "text": [
      "\r",
      "Epoch 1/10:  13%|██████████████▏                                                                                            | 131/991 [02:47<18:25,  1.29s/batch, batch_loss=36, batch_index=131, batch_size=256]"
     ]
    },
    {
     "name": "stderr",
     "output_type": "stream",
     "text": [
      "\r",
      "Epoch 1/10:  13%|██████████████                                                                                            | 131/991 [02:48<18:25,  1.29s/batch, batch_loss=465, batch_index=132, batch_size=256]"
     ]
    },
    {
     "name": "stderr",
     "output_type": "stream",
     "text": [
      "\r",
      "Epoch 1/10:  13%|██████████████                                                                                            | 132/991 [02:48<18:23,  1.28s/batch, batch_loss=465, batch_index=132, batch_size=256]"
     ]
    },
    {
     "name": "stderr",
     "output_type": "stream",
     "text": [
      "\r",
      "Epoch 1/10:  13%|█████████████▉                                                                                           | 132/991 [02:50<18:23,  1.28s/batch, batch_loss=53.1, batch_index=133, batch_size=256]"
     ]
    },
    {
     "name": "stderr",
     "output_type": "stream",
     "text": [
      "\r",
      "Epoch 1/10:  13%|██████████████                                                                                           | 133/991 [02:50<18:26,  1.29s/batch, batch_loss=53.1, batch_index=133, batch_size=256]"
     ]
    },
    {
     "name": "stderr",
     "output_type": "stream",
     "text": [
      "\r",
      "Epoch 1/10:  13%|██████████████                                                                                           | 133/991 [02:51<18:26,  1.29s/batch, batch_loss=71.8, batch_index=134, batch_size=256]"
     ]
    },
    {
     "name": "stderr",
     "output_type": "stream",
     "text": [
      "\r",
      "Epoch 1/10:  14%|██████████████▏                                                                                          | 134/991 [02:51<18:24,  1.29s/batch, batch_loss=71.8, batch_index=134, batch_size=256]"
     ]
    },
    {
     "name": "stderr",
     "output_type": "stream",
     "text": [
      "\r",
      "Epoch 1/10:  14%|██████████████▏                                                                                          | 134/991 [02:52<18:24,  1.29s/batch, batch_loss=23.7, batch_index=135, batch_size=256]"
     ]
    },
    {
     "name": "stderr",
     "output_type": "stream",
     "text": [
      "\r",
      "Epoch 1/10:  14%|██████████████▎                                                                                          | 135/991 [02:52<18:20,  1.29s/batch, batch_loss=23.7, batch_index=135, batch_size=256]"
     ]
    },
    {
     "name": "stderr",
     "output_type": "stream",
     "text": [
      "\r",
      "Epoch 1/10:  14%|██████████████▎                                                                                          | 135/991 [02:54<18:20,  1.29s/batch, batch_loss=18.9, batch_index=136, batch_size=256]"
     ]
    },
    {
     "name": "stderr",
     "output_type": "stream",
     "text": [
      "\r",
      "Epoch 1/10:  14%|██████████████▍                                                                                          | 136/991 [02:54<18:21,  1.29s/batch, batch_loss=18.9, batch_index=136, batch_size=256]"
     ]
    },
    {
     "name": "stderr",
     "output_type": "stream",
     "text": [
      "\r",
      "Epoch 1/10:  14%|██████████████▌                                                                                           | 136/991 [02:55<18:21,  1.29s/batch, batch_loss=514, batch_index=137, batch_size=256]"
     ]
    },
    {
     "name": "stderr",
     "output_type": "stream",
     "text": [
      "\r",
      "Epoch 1/10:  14%|██████████████▋                                                                                           | 137/991 [02:55<18:24,  1.29s/batch, batch_loss=514, batch_index=137, batch_size=256]"
     ]
    },
    {
     "name": "stderr",
     "output_type": "stream",
     "text": [
      "\r",
      "Epoch 1/10:  14%|██████████████▌                                                                                          | 137/991 [02:56<18:24,  1.29s/batch, batch_loss=32.1, batch_index=138, batch_size=256]"
     ]
    },
    {
     "name": "stderr",
     "output_type": "stream",
     "text": [
      "\r",
      "Epoch 1/10:  14%|██████████████▌                                                                                          | 138/991 [02:56<18:20,  1.29s/batch, batch_loss=32.1, batch_index=138, batch_size=256]"
     ]
    },
    {
     "name": "stderr",
     "output_type": "stream",
     "text": [
      "\r",
      "Epoch 1/10:  14%|██████████████▌                                                                                          | 138/991 [02:58<18:20,  1.29s/batch, batch_loss=66.1, batch_index=139, batch_size=256]"
     ]
    },
    {
     "name": "stderr",
     "output_type": "stream",
     "text": [
      "\r",
      "Epoch 1/10:  14%|██████████████▋                                                                                          | 139/991 [02:58<18:19,  1.29s/batch, batch_loss=66.1, batch_index=139, batch_size=256]"
     ]
    },
    {
     "name": "stderr",
     "output_type": "stream",
     "text": [
      "\r",
      "Epoch 1/10:  14%|██████████████▋                                                                                          | 139/991 [02:59<18:19,  1.29s/batch, batch_loss=30.5, batch_index=140, batch_size=256]"
     ]
    },
    {
     "name": "stderr",
     "output_type": "stream",
     "text": [
      "\r",
      "Epoch 1/10:  14%|██████████████▊                                                                                          | 140/991 [02:59<18:15,  1.29s/batch, batch_loss=30.5, batch_index=140, batch_size=256]"
     ]
    },
    {
     "name": "stderr",
     "output_type": "stream",
     "text": [
      "\r",
      "Epoch 1/10:  14%|██████████████▊                                                                                          | 140/991 [03:00<18:15,  1.29s/batch, batch_loss=33.8, batch_index=141, batch_size=256]"
     ]
    },
    {
     "name": "stderr",
     "output_type": "stream",
     "text": [
      "\r",
      "Epoch 1/10:  14%|██████████████▉                                                                                          | 141/991 [03:00<18:15,  1.29s/batch, batch_loss=33.8, batch_index=141, batch_size=256]"
     ]
    },
    {
     "name": "stderr",
     "output_type": "stream",
     "text": [
      "\r",
      "Epoch 1/10:  14%|██████████████▉                                                                                          | 141/991 [03:01<18:15,  1.29s/batch, batch_loss=32.9, batch_index=142, batch_size=256]"
     ]
    },
    {
     "name": "stderr",
     "output_type": "stream",
     "text": [
      "\r",
      "Epoch 1/10:  14%|███████████████                                                                                          | 142/991 [03:01<18:16,  1.29s/batch, batch_loss=32.9, batch_index=142, batch_size=256]"
     ]
    },
    {
     "name": "stderr",
     "output_type": "stream",
     "text": [
      "\r",
      "Epoch 1/10:  14%|██████████████▌                                                                                       | 142/991 [03:03<18:16,  1.29s/batch, batch_loss=1.16e+3, batch_index=143, batch_size=256]"
     ]
    },
    {
     "name": "stderr",
     "output_type": "stream",
     "text": [
      "\r",
      "Epoch 1/10:  14%|██████████████▋                                                                                       | 143/991 [03:03<18:14,  1.29s/batch, batch_loss=1.16e+3, batch_index=143, batch_size=256]"
     ]
    },
    {
     "name": "stderr",
     "output_type": "stream",
     "text": [
      "\r",
      "Epoch 1/10:  14%|██████████████▋                                                                                       | 143/991 [03:04<18:14,  1.29s/batch, batch_loss=6.06e+3, batch_index=144, batch_size=256]"
     ]
    },
    {
     "name": "stderr",
     "output_type": "stream",
     "text": [
      "\r",
      "Epoch 1/10:  15%|██████████████▊                                                                                       | 144/991 [03:04<18:08,  1.29s/batch, batch_loss=6.06e+3, batch_index=144, batch_size=256]"
     ]
    },
    {
     "name": "stderr",
     "output_type": "stream",
     "text": [
      "\r",
      "Epoch 1/10:  15%|███████████████▎                                                                                         | 144/991 [03:05<18:08,  1.29s/batch, batch_loss=37.1, batch_index=145, batch_size=256]"
     ]
    },
    {
     "name": "stderr",
     "output_type": "stream",
     "text": [
      "\r",
      "Epoch 1/10:  15%|███████████████▎                                                                                         | 145/991 [03:05<18:06,  1.28s/batch, batch_loss=37.1, batch_index=145, batch_size=256]"
     ]
    },
    {
     "name": "stderr",
     "output_type": "stream",
     "text": [
      "\r",
      "Epoch 1/10:  15%|███████████████▋                                                                                           | 145/991 [03:07<18:06,  1.28s/batch, batch_loss=31, batch_index=146, batch_size=256]"
     ]
    },
    {
     "name": "stderr",
     "output_type": "stream",
     "text": [
      "\r",
      "Epoch 1/10:  15%|███████████████▊                                                                                           | 146/991 [03:07<18:06,  1.29s/batch, batch_loss=31, batch_index=146, batch_size=256]"
     ]
    },
    {
     "name": "stderr",
     "output_type": "stream",
     "text": [
      "\r",
      "Epoch 1/10:  15%|███████████████▍                                                                                         | 146/991 [03:08<18:06,  1.29s/batch, batch_loss=53.3, batch_index=147, batch_size=256]"
     ]
    },
    {
     "name": "stderr",
     "output_type": "stream",
     "text": [
      "\r",
      "Epoch 1/10:  15%|███████████████▌                                                                                         | 147/991 [03:08<18:02,  1.28s/batch, batch_loss=53.3, batch_index=147, batch_size=256]"
     ]
    },
    {
     "name": "stderr",
     "output_type": "stream",
     "text": [
      "\r",
      "Epoch 1/10:  15%|███████████████▊                                                                                           | 147/991 [03:09<18:02,  1.28s/batch, batch_loss=40, batch_index=148, batch_size=256]"
     ]
    },
    {
     "name": "stderr",
     "output_type": "stream",
     "text": [
      "\r",
      "Epoch 1/10:  15%|███████████████▉                                                                                           | 148/991 [03:09<17:50,  1.27s/batch, batch_loss=40, batch_index=148, batch_size=256]"
     ]
    },
    {
     "name": "stderr",
     "output_type": "stream",
     "text": [
      "\r",
      "Epoch 1/10:  15%|███████████████▉                                                                                           | 148/991 [03:10<17:50,  1.27s/batch, batch_loss=38, batch_index=149, batch_size=256]"
     ]
    },
    {
     "name": "stderr",
     "output_type": "stream",
     "text": [
      "\r",
      "Epoch 1/10:  15%|████████████████                                                                                           | 149/991 [03:10<17:46,  1.27s/batch, batch_loss=38, batch_index=149, batch_size=256]"
     ]
    },
    {
     "name": "stderr",
     "output_type": "stream",
     "text": [
      "\r",
      "Epoch 1/10:  15%|███████████████▊                                                                                         | 149/991 [03:12<17:46,  1.27s/batch, batch_loss=31.8, batch_index=150, batch_size=256]"
     ]
    },
    {
     "name": "stderr",
     "output_type": "stream",
     "text": [
      "\r",
      "Epoch 1/10:  15%|███████████████▉                                                                                         | 150/991 [03:12<17:52,  1.28s/batch, batch_loss=31.8, batch_index=150, batch_size=256]"
     ]
    },
    {
     "name": "stderr",
     "output_type": "stream",
     "text": [
      "\r",
      "Epoch 1/10:  15%|███████████████▍                                                                                      | 150/991 [03:13<17:52,  1.28s/batch, batch_loss=3.78e+4, batch_index=151, batch_size=256]"
     ]
    },
    {
     "name": "stderr",
     "output_type": "stream",
     "text": [
      "\r",
      "Epoch 1/10:  15%|███████████████▌                                                                                      | 151/991 [03:13<17:53,  1.28s/batch, batch_loss=3.78e+4, batch_index=151, batch_size=256]"
     ]
    },
    {
     "name": "stderr",
     "output_type": "stream",
     "text": [
      "\r",
      "Epoch 1/10:  15%|███████████████▉                                                                                         | 151/991 [03:14<17:53,  1.28s/batch, batch_loss=38.9, batch_index=152, batch_size=256]"
     ]
    },
    {
     "name": "stderr",
     "output_type": "stream",
     "text": [
      "\r",
      "Epoch 1/10:  15%|████████████████                                                                                         | 152/991 [03:14<17:52,  1.28s/batch, batch_loss=38.9, batch_index=152, batch_size=256]"
     ]
    },
    {
     "name": "stderr",
     "output_type": "stream",
     "text": [
      "\r",
      "Epoch 1/10:  15%|████████████████                                                                                         | 152/991 [03:15<17:52,  1.28s/batch, batch_loss=28.2, batch_index=153, batch_size=256]"
     ]
    },
    {
     "name": "stderr",
     "output_type": "stream",
     "text": [
      "\r",
      "Epoch 1/10:  15%|████████████████▏                                                                                        | 153/991 [03:15<17:57,  1.29s/batch, batch_loss=28.2, batch_index=153, batch_size=256]"
     ]
    },
    {
     "name": "stderr",
     "output_type": "stream",
     "text": [
      "\r",
      "Epoch 1/10:  15%|████████████████▏                                                                                        | 153/991 [03:17<17:57,  1.29s/batch, batch_loss=23.2, batch_index=154, batch_size=256]"
     ]
    },
    {
     "name": "stderr",
     "output_type": "stream",
     "text": [
      "\r",
      "Epoch 1/10:  16%|████████████████▎                                                                                        | 154/991 [03:17<18:03,  1.29s/batch, batch_loss=23.2, batch_index=154, batch_size=256]"
     ]
    },
    {
     "name": "stderr",
     "output_type": "stream",
     "text": [
      "\r",
      "Epoch 1/10:  16%|███████████████▊                                                                                      | 154/991 [03:18<18:03,  1.29s/batch, batch_loss=2.19e+3, batch_index=155, batch_size=256]"
     ]
    },
    {
     "name": "stderr",
     "output_type": "stream",
     "text": [
      "\r",
      "Epoch 1/10:  16%|███████████████▉                                                                                      | 155/991 [03:18<17:58,  1.29s/batch, batch_loss=2.19e+3, batch_index=155, batch_size=256]"
     ]
    },
    {
     "name": "stderr",
     "output_type": "stream",
     "text": [
      "\r",
      "Epoch 1/10:  16%|████████████████▍                                                                                        | 155/991 [03:19<17:58,  1.29s/batch, batch_loss=46.7, batch_index=156, batch_size=256]"
     ]
    },
    {
     "name": "stderr",
     "output_type": "stream",
     "text": [
      "\r",
      "Epoch 1/10:  16%|████████████████▌                                                                                        | 156/991 [03:19<17:54,  1.29s/batch, batch_loss=46.7, batch_index=156, batch_size=256]"
     ]
    },
    {
     "name": "stderr",
     "output_type": "stream",
     "text": [
      "\r",
      "Epoch 1/10:  16%|████████████████▊                                                                                          | 156/991 [03:21<17:54,  1.29s/batch, batch_loss=14, batch_index=157, batch_size=256]"
     ]
    },
    {
     "name": "stderr",
     "output_type": "stream",
     "text": [
      "\r",
      "Epoch 1/10:  16%|████████████████▉                                                                                          | 157/991 [03:21<17:52,  1.29s/batch, batch_loss=14, batch_index=157, batch_size=256]"
     ]
    },
    {
     "name": "stderr",
     "output_type": "stream",
     "text": [
      "\r",
      "Epoch 1/10:  16%|████████████████▋                                                                                        | 157/991 [03:22<17:52,  1.29s/batch, batch_loss=16.5, batch_index=158, batch_size=256]"
     ]
    },
    {
     "name": "stderr",
     "output_type": "stream",
     "text": [
      "\r",
      "Epoch 1/10:  16%|████████████████▋                                                                                        | 158/991 [03:22<17:55,  1.29s/batch, batch_loss=16.5, batch_index=158, batch_size=256]"
     ]
    },
    {
     "name": "stderr",
     "output_type": "stream",
     "text": [
      "\r",
      "Epoch 1/10:  16%|████████████████▎                                                                                     | 158/991 [03:23<17:55,  1.29s/batch, batch_loss=4.43e+3, batch_index=159, batch_size=256]"
     ]
    },
    {
     "name": "stderr",
     "output_type": "stream",
     "text": [
      "\r",
      "Epoch 1/10:  16%|████████████████▎                                                                                     | 159/991 [03:23<17:51,  1.29s/batch, batch_loss=4.43e+3, batch_index=159, batch_size=256]"
     ]
    },
    {
     "name": "stderr",
     "output_type": "stream",
     "text": [
      "\r",
      "Epoch 1/10:  16%|████████████████▊                                                                                        | 159/991 [03:24<17:51,  1.29s/batch, batch_loss=18.1, batch_index=160, batch_size=256]"
     ]
    },
    {
     "name": "stderr",
     "output_type": "stream",
     "text": [
      "\r",
      "Epoch 1/10:  16%|████████████████▉                                                                                        | 160/991 [03:24<17:50,  1.29s/batch, batch_loss=18.1, batch_index=160, batch_size=256]"
     ]
    },
    {
     "name": "stderr",
     "output_type": "stream",
     "text": [
      "\r",
      "Epoch 1/10:  16%|█████████████████▎                                                                                         | 160/991 [03:26<17:50,  1.29s/batch, batch_loss=44, batch_index=161, batch_size=256]"
     ]
    },
    {
     "name": "stderr",
     "output_type": "stream",
     "text": [
      "\r",
      "Epoch 1/10:  16%|█████████████████▍                                                                                         | 161/991 [03:26<17:49,  1.29s/batch, batch_loss=44, batch_index=161, batch_size=256]"
     ]
    },
    {
     "name": "stderr",
     "output_type": "stream",
     "text": [
      "\r",
      "Epoch 1/10:  16%|█████████████████                                                                                        | 161/991 [03:27<17:49,  1.29s/batch, batch_loss=50.5, batch_index=162, batch_size=256]"
     ]
    },
    {
     "name": "stderr",
     "output_type": "stream",
     "text": [
      "\r",
      "Epoch 1/10:  16%|█████████████████▏                                                                                       | 162/991 [03:27<17:44,  1.28s/batch, batch_loss=50.5, batch_index=162, batch_size=256]"
     ]
    },
    {
     "name": "stderr",
     "output_type": "stream",
     "text": [
      "\r",
      "Epoch 1/10:  16%|█████████████████▏                                                                                       | 162/991 [03:28<17:44,  1.28s/batch, batch_loss=32.5, batch_index=163, batch_size=256]"
     ]
    },
    {
     "name": "stderr",
     "output_type": "stream",
     "text": [
      "\r",
      "Epoch 1/10:  16%|█████████████████▎                                                                                       | 163/991 [03:28<17:46,  1.29s/batch, batch_loss=32.5, batch_index=163, batch_size=256]"
     ]
    },
    {
     "name": "stderr",
     "output_type": "stream",
     "text": [
      "\r",
      "Epoch 1/10:  16%|████████████████▊                                                                                     | 163/991 [03:30<17:46,  1.29s/batch, batch_loss=4.92e+3, batch_index=164, batch_size=256]"
     ]
    },
    {
     "name": "stderr",
     "output_type": "stream",
     "text": [
      "\r",
      "Epoch 1/10:  17%|████████████████▉                                                                                     | 164/991 [03:30<17:47,  1.29s/batch, batch_loss=4.92e+3, batch_index=164, batch_size=256]"
     ]
    },
    {
     "name": "stderr",
     "output_type": "stream",
     "text": [
      "\r",
      "Epoch 1/10:  17%|████████████████▉                                                                                     | 164/991 [03:31<17:47,  1.29s/batch, batch_loss=2.66e+3, batch_index=165, batch_size=256]"
     ]
    },
    {
     "name": "stderr",
     "output_type": "stream",
     "text": [
      "\r",
      "Epoch 1/10:  17%|████████████████▉                                                                                     | 165/991 [03:31<17:47,  1.29s/batch, batch_loss=2.66e+3, batch_index=165, batch_size=256]"
     ]
    },
    {
     "name": "stderr",
     "output_type": "stream",
     "text": [
      "\r",
      "Epoch 1/10:  17%|█████████████████▍                                                                                       | 165/991 [03:32<17:47,  1.29s/batch, batch_loss=33.7, batch_index=166, batch_size=256]"
     ]
    },
    {
     "name": "stderr",
     "output_type": "stream",
     "text": [
      "\r",
      "Epoch 1/10:  17%|█████████████████▌                                                                                       | 166/991 [03:32<17:46,  1.29s/batch, batch_loss=33.7, batch_index=166, batch_size=256]"
     ]
    },
    {
     "name": "stderr",
     "output_type": "stream",
     "text": [
      "\r",
      "Epoch 1/10:  17%|█████████████████▉                                                                                         | 166/991 [03:34<17:46,  1.29s/batch, batch_loss=36, batch_index=167, batch_size=256]"
     ]
    },
    {
     "name": "stderr",
     "output_type": "stream",
     "text": [
      "\r",
      "Epoch 1/10:  17%|██████████████████                                                                                         | 167/991 [03:34<17:45,  1.29s/batch, batch_loss=36, batch_index=167, batch_size=256]"
     ]
    },
    {
     "name": "stderr",
     "output_type": "stream",
     "text": [
      "\r",
      "Epoch 1/10:  17%|█████████████████▋                                                                                       | 167/991 [03:35<17:45,  1.29s/batch, batch_loss=33.1, batch_index=168, batch_size=256]"
     ]
    },
    {
     "name": "stderr",
     "output_type": "stream",
     "text": [
      "\r",
      "Epoch 1/10:  17%|█████████████████▊                                                                                       | 168/991 [03:35<17:42,  1.29s/batch, batch_loss=33.1, batch_index=168, batch_size=256]"
     ]
    },
    {
     "name": "stderr",
     "output_type": "stream",
     "text": [
      "\r",
      "Epoch 1/10:  17%|█████████████████▊                                                                                       | 168/991 [03:36<17:42,  1.29s/batch, batch_loss=20.1, batch_index=169, batch_size=256]"
     ]
    },
    {
     "name": "stderr",
     "output_type": "stream",
     "text": [
      "\r",
      "Epoch 1/10:  17%|█████████████████▉                                                                                       | 169/991 [03:36<17:40,  1.29s/batch, batch_loss=20.1, batch_index=169, batch_size=256]"
     ]
    },
    {
     "name": "stderr",
     "output_type": "stream",
     "text": [
      "\r",
      "Epoch 1/10:  17%|█████████████████▉                                                                                       | 169/991 [03:37<17:40,  1.29s/batch, batch_loss=34.7, batch_index=170, batch_size=256]"
     ]
    },
    {
     "name": "stderr",
     "output_type": "stream",
     "text": [
      "\r",
      "Epoch 1/10:  17%|██████████████████                                                                                       | 170/991 [03:37<17:39,  1.29s/batch, batch_loss=34.7, batch_index=170, batch_size=256]"
     ]
    },
    {
     "name": "stderr",
     "output_type": "stream",
     "text": [
      "\r",
      "Epoch 1/10:  17%|██████████████████                                                                                       | 170/991 [03:39<17:39,  1.29s/batch, batch_loss=19.3, batch_index=171, batch_size=256]"
     ]
    },
    {
     "name": "stderr",
     "output_type": "stream",
     "text": [
      "\r",
      "Epoch 1/10:  17%|██████████████████                                                                                       | 171/991 [03:39<17:36,  1.29s/batch, batch_loss=19.3, batch_index=171, batch_size=256]"
     ]
    },
    {
     "name": "stderr",
     "output_type": "stream",
     "text": [
      "\r",
      "Epoch 1/10:  17%|██████████████████                                                                                       | 171/991 [03:40<17:36,  1.29s/batch, batch_loss=12.4, batch_index=172, batch_size=256]"
     ]
    },
    {
     "name": "stderr",
     "output_type": "stream",
     "text": [
      "\r",
      "Epoch 1/10:  17%|██████████████████▏                                                                                      | 172/991 [03:40<17:38,  1.29s/batch, batch_loss=12.4, batch_index=172, batch_size=256]"
     ]
    },
    {
     "name": "stderr",
     "output_type": "stream",
     "text": [
      "\r",
      "Epoch 1/10:  17%|██████████████████▏                                                                                      | 172/991 [03:41<17:38,  1.29s/batch, batch_loss=27.1, batch_index=173, batch_size=256]"
     ]
    },
    {
     "name": "stderr",
     "output_type": "stream",
     "text": [
      "\r",
      "Epoch 1/10:  17%|██████████████████▎                                                                                      | 173/991 [03:41<17:36,  1.29s/batch, batch_loss=27.1, batch_index=173, batch_size=256]"
     ]
    },
    {
     "name": "stderr",
     "output_type": "stream",
     "text": [
      "\r",
      "Epoch 1/10:  17%|██████████████████▋                                                                                        | 173/991 [03:43<17:36,  1.29s/batch, batch_loss=40, batch_index=174, batch_size=256]"
     ]
    },
    {
     "name": "stderr",
     "output_type": "stream",
     "text": [
      "\r",
      "Epoch 1/10:  18%|██████████████████▊                                                                                        | 174/991 [03:43<17:37,  1.29s/batch, batch_loss=40, batch_index=174, batch_size=256]"
     ]
    },
    {
     "name": "stderr",
     "output_type": "stream",
     "text": [
      "\r",
      "Epoch 1/10:  18%|██████████████████▌                                                                                       | 174/991 [03:44<17:37,  1.29s/batch, batch_loss=120, batch_index=175, batch_size=256]"
     ]
    },
    {
     "name": "stderr",
     "output_type": "stream",
     "text": [
      "\r",
      "Epoch 1/10:  18%|██████████████████▋                                                                                       | 175/991 [03:44<17:25,  1.28s/batch, batch_loss=120, batch_index=175, batch_size=256]"
     ]
    },
    {
     "name": "stderr",
     "output_type": "stream",
     "text": [
      "\r",
      "Epoch 1/10:  18%|██████████████████▌                                                                                      | 175/991 [03:45<17:25,  1.28s/batch, batch_loss=41.9, batch_index=176, batch_size=256]"
     ]
    },
    {
     "name": "stderr",
     "output_type": "stream",
     "text": [
      "\r",
      "Epoch 1/10:  18%|██████████████████▋                                                                                      | 176/991 [03:45<17:14,  1.27s/batch, batch_loss=41.9, batch_index=176, batch_size=256]"
     ]
    },
    {
     "name": "stderr",
     "output_type": "stream",
     "text": [
      "\r",
      "Epoch 1/10:  18%|██████████████████▋                                                                                      | 176/991 [03:46<17:14,  1.27s/batch, batch_loss=32.2, batch_index=177, batch_size=256]"
     ]
    },
    {
     "name": "stderr",
     "output_type": "stream",
     "text": [
      "\r",
      "Epoch 1/10:  18%|██████████████████▊                                                                                      | 177/991 [03:46<17:18,  1.28s/batch, batch_loss=32.2, batch_index=177, batch_size=256]"
     ]
    },
    {
     "name": "stderr",
     "output_type": "stream",
     "text": [
      "\r",
      "Epoch 1/10:  18%|██████████████████▊                                                                                      | 177/991 [03:48<17:18,  1.28s/batch, batch_loss=30.3, batch_index=178, batch_size=256]"
     ]
    },
    {
     "name": "stderr",
     "output_type": "stream",
     "text": [
      "\r",
      "Epoch 1/10:  18%|██████████████████▊                                                                                      | 178/991 [03:48<17:19,  1.28s/batch, batch_loss=30.3, batch_index=178, batch_size=256]"
     ]
    },
    {
     "name": "stderr",
     "output_type": "stream",
     "text": [
      "\r",
      "Epoch 1/10:  18%|██████████████████▊                                                                                      | 178/991 [03:49<17:19,  1.28s/batch, batch_loss=37.7, batch_index=179, batch_size=256]"
     ]
    },
    {
     "name": "stderr",
     "output_type": "stream",
     "text": [
      "\r",
      "Epoch 1/10:  18%|██████████████████▉                                                                                      | 179/991 [03:49<17:20,  1.28s/batch, batch_loss=37.7, batch_index=179, batch_size=256]"
     ]
    },
    {
     "name": "stderr",
     "output_type": "stream",
     "text": [
      "\r",
      "Epoch 1/10:  18%|███████████████████▎                                                                                       | 179/991 [03:50<17:20,  1.28s/batch, batch_loss=39, batch_index=180, batch_size=256]"
     ]
    },
    {
     "name": "stderr",
     "output_type": "stream",
     "text": [
      "\r",
      "Epoch 1/10:  18%|███████████████████▍                                                                                       | 180/991 [03:50<17:19,  1.28s/batch, batch_loss=39, batch_index=180, batch_size=256]"
     ]
    },
    {
     "name": "stderr",
     "output_type": "stream",
     "text": [
      "\r",
      "Epoch 1/10:  18%|███████████████████                                                                                      | 180/991 [03:51<17:19,  1.28s/batch, batch_loss=30.1, batch_index=181, batch_size=256]"
     ]
    },
    {
     "name": "stderr",
     "output_type": "stream",
     "text": [
      "\r",
      "Epoch 1/10:  18%|███████████████████▏                                                                                     | 181/991 [03:51<17:20,  1.29s/batch, batch_loss=30.1, batch_index=181, batch_size=256]"
     ]
    },
    {
     "name": "stderr",
     "output_type": "stream",
     "text": [
      "\r",
      "Epoch 1/10:  18%|███████████████████▌                                                                                       | 181/991 [03:53<17:20,  1.29s/batch, batch_loss=38, batch_index=182, batch_size=256]"
     ]
    },
    {
     "name": "stderr",
     "output_type": "stream",
     "text": [
      "\r",
      "Epoch 1/10:  18%|███████████████████▋                                                                                       | 182/991 [03:53<17:20,  1.29s/batch, batch_loss=38, batch_index=182, batch_size=256]"
     ]
    },
    {
     "name": "stderr",
     "output_type": "stream",
     "text": [
      "\r",
      "Epoch 1/10:  18%|███████████████████▎                                                                                     | 182/991 [03:54<17:20,  1.29s/batch, batch_loss=39.8, batch_index=183, batch_size=256]"
     ]
    },
    {
     "name": "stderr",
     "output_type": "stream",
     "text": [
      "\r",
      "Epoch 1/10:  18%|███████████████████▍                                                                                     | 183/991 [03:54<17:17,  1.28s/batch, batch_loss=39.8, batch_index=183, batch_size=256]"
     ]
    },
    {
     "name": "stderr",
     "output_type": "stream",
     "text": [
      "\r",
      "Epoch 1/10:  18%|███████████████████▍                                                                                     | 183/991 [03:55<17:17,  1.28s/batch, batch_loss=53.4, batch_index=184, batch_size=256]"
     ]
    },
    {
     "name": "stderr",
     "output_type": "stream",
     "text": [
      "\r",
      "Epoch 1/10:  19%|███████████████████▍                                                                                     | 184/991 [03:55<17:19,  1.29s/batch, batch_loss=53.4, batch_index=184, batch_size=256]"
     ]
    },
    {
     "name": "stderr",
     "output_type": "stream",
     "text": [
      "\r",
      "Epoch 1/10:  19%|███████████████████▍                                                                                     | 184/991 [03:57<17:19,  1.29s/batch, batch_loss=33.1, batch_index=185, batch_size=256]"
     ]
    },
    {
     "name": "stderr",
     "output_type": "stream",
     "text": [
      "\r",
      "Epoch 1/10:  19%|███████████████████▌                                                                                     | 185/991 [03:57<17:17,  1.29s/batch, batch_loss=33.1, batch_index=185, batch_size=256]"
     ]
    },
    {
     "name": "stderr",
     "output_type": "stream",
     "text": [
      "\r",
      "Epoch 1/10:  19%|███████████████████                                                                                   | 185/991 [03:58<17:17,  1.29s/batch, batch_loss=1.71e+4, batch_index=186, batch_size=256]"
     ]
    },
    {
     "name": "stderr",
     "output_type": "stream",
     "text": [
      "\r",
      "Epoch 1/10:  19%|███████████████████▏                                                                                  | 186/991 [03:58<17:15,  1.29s/batch, batch_loss=1.71e+4, batch_index=186, batch_size=256]"
     ]
    },
    {
     "name": "stderr",
     "output_type": "stream",
     "text": [
      "\r",
      "Epoch 1/10:  19%|███████████████████▋                                                                                     | 186/991 [03:59<17:15,  1.29s/batch, batch_loss=69.3, batch_index=187, batch_size=256]"
     ]
    },
    {
     "name": "stderr",
     "output_type": "stream",
     "text": [
      "\r",
      "Epoch 1/10:  19%|███████████████████▊                                                                                     | 187/991 [03:59<17:13,  1.28s/batch, batch_loss=69.3, batch_index=187, batch_size=256]"
     ]
    },
    {
     "name": "stderr",
     "output_type": "stream",
     "text": [
      "\r",
      "Epoch 1/10:  19%|████████████████████                                                                                      | 187/991 [04:00<17:13,  1.28s/batch, batch_loss=560, batch_index=188, batch_size=256]"
     ]
    },
    {
     "name": "stderr",
     "output_type": "stream",
     "text": [
      "\r",
      "Epoch 1/10:  19%|████████████████████                                                                                      | 188/991 [04:00<17:10,  1.28s/batch, batch_loss=560, batch_index=188, batch_size=256]"
     ]
    },
    {
     "name": "stderr",
     "output_type": "stream",
     "text": [
      "\r",
      "Epoch 1/10:  19%|███████████████████▉                                                                                     | 188/991 [04:02<17:10,  1.28s/batch, batch_loss=24.3, batch_index=189, batch_size=256]"
     ]
    },
    {
     "name": "stderr",
     "output_type": "stream",
     "text": [
      "\r",
      "Epoch 1/10:  19%|████████████████████                                                                                     | 189/991 [04:02<17:09,  1.28s/batch, batch_loss=24.3, batch_index=189, batch_size=256]"
     ]
    },
    {
     "name": "stderr",
     "output_type": "stream",
     "text": [
      "\r",
      "Epoch 1/10:  19%|███████████████████▍                                                                                  | 189/991 [04:03<17:09,  1.28s/batch, batch_loss=1.03e+3, batch_index=190, batch_size=256]"
     ]
    },
    {
     "name": "stderr",
     "output_type": "stream",
     "text": [
      "\r",
      "Epoch 1/10:  19%|███████████████████▌                                                                                  | 190/991 [04:03<17:05,  1.28s/batch, batch_loss=1.03e+3, batch_index=190, batch_size=256]"
     ]
    },
    {
     "name": "stderr",
     "output_type": "stream",
     "text": [
      "\r",
      "Epoch 1/10:  19%|████████████████████▏                                                                                    | 190/991 [04:04<17:05,  1.28s/batch, batch_loss=39.2, batch_index=191, batch_size=256]"
     ]
    },
    {
     "name": "stderr",
     "output_type": "stream",
     "text": [
      "\r",
      "Epoch 1/10:  19%|████████████████████▏                                                                                    | 191/991 [04:04<17:06,  1.28s/batch, batch_loss=39.2, batch_index=191, batch_size=256]"
     ]
    },
    {
     "name": "stderr",
     "output_type": "stream",
     "text": [
      "\r",
      "Epoch 1/10:  19%|████████████████████▍                                                                                     | 191/991 [04:06<17:06,  1.28s/batch, batch_loss=346, batch_index=192, batch_size=256]"
     ]
    },
    {
     "name": "stderr",
     "output_type": "stream",
     "text": [
      "\r",
      "Epoch 1/10:  19%|████████████████████▌                                                                                     | 192/991 [04:06<17:07,  1.29s/batch, batch_loss=346, batch_index=192, batch_size=256]"
     ]
    },
    {
     "name": "stderr",
     "output_type": "stream",
     "text": [
      "\r",
      "Epoch 1/10:  19%|████████████████████▎                                                                                    | 192/991 [04:07<17:07,  1.29s/batch, batch_loss=28.9, batch_index=193, batch_size=256]"
     ]
    },
    {
     "name": "stderr",
     "output_type": "stream",
     "text": [
      "\r",
      "Epoch 1/10:  19%|████████████████████▍                                                                                    | 193/991 [04:07<17:05,  1.29s/batch, batch_loss=28.9, batch_index=193, batch_size=256]"
     ]
    },
    {
     "name": "stderr",
     "output_type": "stream",
     "text": [
      "\r",
      "Epoch 1/10:  19%|████████████████████▋                                                                                     | 193/991 [04:08<17:05,  1.29s/batch, batch_loss=225, batch_index=194, batch_size=256]"
     ]
    },
    {
     "name": "stderr",
     "output_type": "stream",
     "text": [
      "\r",
      "Epoch 1/10:  20%|████████████████████▊                                                                                     | 194/991 [04:08<17:03,  1.28s/batch, batch_loss=225, batch_index=194, batch_size=256]"
     ]
    },
    {
     "name": "stderr",
     "output_type": "stream",
     "text": [
      "\r",
      "Epoch 1/10:  20%|███████████████████▉                                                                                  | 194/991 [04:09<17:03,  1.28s/batch, batch_loss=1.06e+3, batch_index=195, batch_size=256]"
     ]
    },
    {
     "name": "stderr",
     "output_type": "stream",
     "text": [
      "\r",
      "Epoch 1/10:  20%|████████████████████                                                                                  | 195/991 [04:09<17:00,  1.28s/batch, batch_loss=1.06e+3, batch_index=195, batch_size=256]"
     ]
    },
    {
     "name": "stderr",
     "output_type": "stream",
     "text": [
      "\r",
      "Epoch 1/10:  20%|████████████████████▋                                                                                    | 195/991 [04:11<17:00,  1.28s/batch, batch_loss=29.2, batch_index=196, batch_size=256]"
     ]
    },
    {
     "name": "stderr",
     "output_type": "stream",
     "text": [
      "\r",
      "Epoch 1/10:  20%|████████████████████▊                                                                                    | 196/991 [04:11<17:01,  1.29s/batch, batch_loss=29.2, batch_index=196, batch_size=256]"
     ]
    },
    {
     "name": "stderr",
     "output_type": "stream",
     "text": [
      "\r",
      "Epoch 1/10:  20%|████████████████████▊                                                                                    | 196/991 [04:12<17:01,  1.29s/batch, batch_loss=43.3, batch_index=197, batch_size=256]"
     ]
    },
    {
     "name": "stderr",
     "output_type": "stream",
     "text": [
      "\r",
      "Epoch 1/10:  20%|████████████████████▊                                                                                    | 197/991 [04:12<17:00,  1.28s/batch, batch_loss=43.3, batch_index=197, batch_size=256]"
     ]
    },
    {
     "name": "stderr",
     "output_type": "stream",
     "text": [
      "\r",
      "Epoch 1/10:  20%|█████████████████████                                                                                     | 197/991 [04:13<17:00,  1.28s/batch, batch_loss=486, batch_index=198, batch_size=256]"
     ]
    },
    {
     "name": "stderr",
     "output_type": "stream",
     "text": [
      "\r",
      "Epoch 1/10:  20%|█████████████████████▏                                                                                    | 198/991 [04:13<17:00,  1.29s/batch, batch_loss=486, batch_index=198, batch_size=256]"
     ]
    },
    {
     "name": "stderr",
     "output_type": "stream",
     "text": [
      "\r",
      "Epoch 1/10:  20%|████████████████████▉                                                                                    | 198/991 [04:15<17:00,  1.29s/batch, batch_loss=63.8, batch_index=199, batch_size=256]"
     ]
    },
    {
     "name": "stderr",
     "output_type": "stream",
     "text": [
      "\r",
      "Epoch 1/10:  20%|█████████████████████                                                                                    | 199/991 [04:15<17:02,  1.29s/batch, batch_loss=63.8, batch_index=199, batch_size=256]"
     ]
    },
    {
     "name": "stderr",
     "output_type": "stream",
     "text": [
      "\r",
      "Epoch 1/10:  20%|█████████████████████                                                                                    | 199/991 [04:16<17:02,  1.29s/batch, batch_loss=23.4, batch_index=200, batch_size=256]"
     ]
    },
    {
     "name": "stderr",
     "output_type": "stream",
     "text": [
      "\r",
      "Epoch 1/10:  20%|█████████████████████▏                                                                                   | 200/991 [04:16<16:59,  1.29s/batch, batch_loss=23.4, batch_index=200, batch_size=256]"
     ]
    },
    {
     "name": "stderr",
     "output_type": "stream",
     "text": [
      "\r",
      "Epoch 1/10:  20%|█████████████████████▏                                                                                   | 200/991 [04:17<16:59,  1.29s/batch, batch_loss=40.3, batch_index=201, batch_size=256]"
     ]
    },
    {
     "name": "stderr",
     "output_type": "stream",
     "text": [
      "\r",
      "Epoch 1/10:  20%|█████████████████████▎                                                                                   | 201/991 [04:17<16:54,  1.28s/batch, batch_loss=40.3, batch_index=201, batch_size=256]"
     ]
    },
    {
     "name": "stderr",
     "output_type": "stream",
     "text": [
      "\r",
      "Epoch 1/10:  20%|█████████████████████▋                                                                                     | 201/991 [04:18<16:54,  1.28s/batch, batch_loss=19, batch_index=202, batch_size=256]"
     ]
    },
    {
     "name": "stderr",
     "output_type": "stream",
     "text": [
      "\r",
      "Epoch 1/10:  20%|█████████████████████▊                                                                                     | 202/991 [04:18<16:49,  1.28s/batch, batch_loss=19, batch_index=202, batch_size=256]"
     ]
    },
    {
     "name": "stderr",
     "output_type": "stream",
     "text": [
      "\r",
      "Epoch 1/10:  20%|█████████████████████▍                                                                                   | 202/991 [04:20<16:49,  1.28s/batch, batch_loss=18.1, batch_index=203, batch_size=256]"
     ]
    },
    {
     "name": "stderr",
     "output_type": "stream",
     "text": [
      "\r",
      "Epoch 1/10:  20%|█████████████████████▌                                                                                   | 203/991 [04:20<16:33,  1.26s/batch, batch_loss=18.1, batch_index=203, batch_size=256]"
     ]
    },
    {
     "name": "stderr",
     "output_type": "stream",
     "text": [
      "\r",
      "Epoch 1/10:  20%|█████████████████████▌                                                                                   | 203/991 [04:21<16:33,  1.26s/batch, batch_loss=43.5, batch_index=204, batch_size=256]"
     ]
    },
    {
     "name": "stderr",
     "output_type": "stream",
     "text": [
      "\r",
      "Epoch 1/10:  21%|█████████████████████▌                                                                                   | 204/991 [04:21<16:35,  1.27s/batch, batch_loss=43.5, batch_index=204, batch_size=256]"
     ]
    },
    {
     "name": "stderr",
     "output_type": "stream",
     "text": [
      "\r",
      "Epoch 1/10:  21%|█████████████████████▌                                                                                   | 204/991 [04:22<16:35,  1.27s/batch, batch_loss=41.6, batch_index=205, batch_size=256]"
     ]
    },
    {
     "name": "stderr",
     "output_type": "stream",
     "text": [
      "\r",
      "Epoch 1/10:  21%|█████████████████████▋                                                                                   | 205/991 [04:22<16:40,  1.27s/batch, batch_loss=41.6, batch_index=205, batch_size=256]"
     ]
    },
    {
     "name": "stderr",
     "output_type": "stream",
     "text": [
      "\r",
      "Epoch 1/10:  21%|█████████████████████▋                                                                                   | 205/991 [04:24<16:40,  1.27s/batch, batch_loss=75.4, batch_index=206, batch_size=256]"
     ]
    },
    {
     "name": "stderr",
     "output_type": "stream",
     "text": [
      "\r",
      "Epoch 1/10:  21%|█████████████████████▊                                                                                   | 206/991 [04:24<16:43,  1.28s/batch, batch_loss=75.4, batch_index=206, batch_size=256]"
     ]
    },
    {
     "name": "stderr",
     "output_type": "stream",
     "text": [
      "\r",
      "Epoch 1/10:  21%|█████████████████████▊                                                                                   | 206/991 [04:25<16:43,  1.28s/batch, batch_loss=39.1, batch_index=207, batch_size=256]"
     ]
    },
    {
     "name": "stderr",
     "output_type": "stream",
     "text": [
      "\r",
      "Epoch 1/10:  21%|█████████████████████▉                                                                                   | 207/991 [04:25<16:43,  1.28s/batch, batch_loss=39.1, batch_index=207, batch_size=256]"
     ]
    },
    {
     "name": "stderr",
     "output_type": "stream",
     "text": [
      "\r",
      "Epoch 1/10:  21%|█████████████████████▉                                                                                   | 207/991 [04:26<16:43,  1.28s/batch, batch_loss=28.4, batch_index=208, batch_size=256]"
     ]
    },
    {
     "name": "stderr",
     "output_type": "stream",
     "text": [
      "\r",
      "Epoch 1/10:  21%|██████████████████████                                                                                   | 208/991 [04:26<16:45,  1.28s/batch, batch_loss=28.4, batch_index=208, batch_size=256]"
     ]
    },
    {
     "name": "stderr",
     "output_type": "stream",
     "text": [
      "\r",
      "Epoch 1/10:  21%|█████████████████████▍                                                                                | 208/991 [04:27<16:45,  1.28s/batch, batch_loss=1.08e+3, batch_index=209, batch_size=256]"
     ]
    },
    {
     "name": "stderr",
     "output_type": "stream",
     "text": [
      "\r",
      "Epoch 1/10:  21%|█████████████████████▌                                                                                | 209/991 [04:27<16:48,  1.29s/batch, batch_loss=1.08e+3, batch_index=209, batch_size=256]"
     ]
    },
    {
     "name": "stderr",
     "output_type": "stream",
     "text": [
      "\r",
      "Epoch 1/10:  21%|██████████████████████▏                                                                                  | 209/991 [04:29<16:48,  1.29s/batch, batch_loss=23.8, batch_index=210, batch_size=256]"
     ]
    },
    {
     "name": "stderr",
     "output_type": "stream",
     "text": [
      "\r",
      "Epoch 1/10:  21%|██████████████████████▎                                                                                  | 210/991 [04:29<16:48,  1.29s/batch, batch_loss=23.8, batch_index=210, batch_size=256]"
     ]
    },
    {
     "name": "stderr",
     "output_type": "stream",
     "text": [
      "\r",
      "Epoch 1/10:  21%|██████████████████████▎                                                                                  | 210/991 [04:30<16:48,  1.29s/batch, batch_loss=38.3, batch_index=211, batch_size=256]"
     ]
    },
    {
     "name": "stderr",
     "output_type": "stream",
     "text": [
      "\r",
      "Epoch 1/10:  21%|██████████████████████▎                                                                                  | 211/991 [04:30<16:49,  1.29s/batch, batch_loss=38.3, batch_index=211, batch_size=256]"
     ]
    },
    {
     "name": "stderr",
     "output_type": "stream",
     "text": [
      "\r",
      "Epoch 1/10:  21%|██████████████████████▊                                                                                    | 211/991 [04:31<16:49,  1.29s/batch, batch_loss=18, batch_index=212, batch_size=256]"
     ]
    },
    {
     "name": "stderr",
     "output_type": "stream",
     "text": [
      "\r",
      "Epoch 1/10:  21%|██████████████████████▉                                                                                    | 212/991 [04:31<16:44,  1.29s/batch, batch_loss=18, batch_index=212, batch_size=256]"
     ]
    },
    {
     "name": "stderr",
     "output_type": "stream",
     "text": [
      "\r",
      "Epoch 1/10:  21%|██████████████████████▍                                                                                  | 212/991 [04:33<16:44,  1.29s/batch, batch_loss=30.3, batch_index=213, batch_size=256]"
     ]
    },
    {
     "name": "stderr",
     "output_type": "stream",
     "text": [
      "\r",
      "Epoch 1/10:  21%|██████████████████████▌                                                                                  | 213/991 [04:33<16:44,  1.29s/batch, batch_loss=30.3, batch_index=213, batch_size=256]"
     ]
    },
    {
     "name": "stderr",
     "output_type": "stream",
     "text": [
      "\r",
      "Epoch 1/10:  21%|██████████████████████▌                                                                                  | 213/991 [04:34<16:44,  1.29s/batch, batch_loss=65.2, batch_index=214, batch_size=256]"
     ]
    },
    {
     "name": "stderr",
     "output_type": "stream",
     "text": [
      "\r",
      "Epoch 1/10:  22%|██████████████████████▋                                                                                  | 214/991 [04:34<16:41,  1.29s/batch, batch_loss=65.2, batch_index=214, batch_size=256]"
     ]
    },
    {
     "name": "stderr",
     "output_type": "stream",
     "text": [
      "\r",
      "Epoch 1/10:  22%|██████████████████████                                                                                | 214/991 [04:35<16:41,  1.29s/batch, batch_loss=1.16e+4, batch_index=215, batch_size=256]"
     ]
    },
    {
     "name": "stderr",
     "output_type": "stream",
     "text": [
      "\r",
      "Epoch 1/10:  22%|██████████████████████▏                                                                               | 215/991 [04:35<16:39,  1.29s/batch, batch_loss=1.16e+4, batch_index=215, batch_size=256]"
     ]
    },
    {
     "name": "stderr",
     "output_type": "stream",
     "text": [
      "\r",
      "Epoch 1/10:  22%|███████████████████████▏                                                                                   | 215/991 [04:36<16:39,  1.29s/batch, batch_loss=53, batch_index=216, batch_size=256]"
     ]
    },
    {
     "name": "stderr",
     "output_type": "stream",
     "text": [
      "\r",
      "Epoch 1/10:  22%|███████████████████████▎                                                                                   | 216/991 [04:36<16:35,  1.28s/batch, batch_loss=53, batch_index=216, batch_size=256]"
     ]
    },
    {
     "name": "stderr",
     "output_type": "stream",
     "text": [
      "\r",
      "Epoch 1/10:  22%|███████████████████████▎                                                                                   | 216/991 [04:38<16:35,  1.28s/batch, batch_loss=47, batch_index=217, batch_size=256]"
     ]
    },
    {
     "name": "stderr",
     "output_type": "stream",
     "text": [
      "\r",
      "Epoch 1/10:  22%|███████████████████████▍                                                                                   | 217/991 [04:38<16:35,  1.29s/batch, batch_loss=47, batch_index=217, batch_size=256]"
     ]
    },
    {
     "name": "stderr",
     "output_type": "stream",
     "text": [
      "\r",
      "Epoch 1/10:  22%|██████████████████████▉                                                                                  | 217/991 [04:39<16:35,  1.29s/batch, batch_loss=37.2, batch_index=218, batch_size=256]"
     ]
    },
    {
     "name": "stderr",
     "output_type": "stream",
     "text": [
      "\r",
      "Epoch 1/10:  22%|███████████████████████                                                                                  | 218/991 [04:39<16:33,  1.29s/batch, batch_loss=37.2, batch_index=218, batch_size=256]"
     ]
    },
    {
     "name": "stderr",
     "output_type": "stream",
     "text": [
      "\r",
      "Epoch 1/10:  22%|███████████████████████▌                                                                                   | 218/991 [04:40<16:33,  1.29s/batch, batch_loss=85, batch_index=219, batch_size=256]"
     ]
    },
    {
     "name": "stderr",
     "output_type": "stream",
     "text": [
      "\r",
      "Epoch 1/10:  22%|███████████████████████▋                                                                                   | 219/991 [04:40<16:34,  1.29s/batch, batch_loss=85, batch_index=219, batch_size=256]"
     ]
    },
    {
     "name": "stderr",
     "output_type": "stream",
     "text": [
      "\r",
      "Epoch 1/10:  22%|███████████████████████▏                                                                                 | 219/991 [04:42<16:34,  1.29s/batch, batch_loss=41.1, batch_index=220, batch_size=256]"
     ]
    },
    {
     "name": "stderr",
     "output_type": "stream",
     "text": [
      "\r",
      "Epoch 1/10:  22%|███████████████████████▎                                                                                 | 220/991 [04:42<16:35,  1.29s/batch, batch_loss=41.1, batch_index=220, batch_size=256]"
     ]
    },
    {
     "name": "stderr",
     "output_type": "stream",
     "text": [
      "\r",
      "Epoch 1/10:  22%|███████████████████████▎                                                                                 | 220/991 [04:43<16:35,  1.29s/batch, batch_loss=42.8, batch_index=221, batch_size=256]"
     ]
    },
    {
     "name": "stderr",
     "output_type": "stream",
     "text": [
      "\r",
      "Epoch 1/10:  22%|███████████████████████▍                                                                                 | 221/991 [04:43<16:33,  1.29s/batch, batch_loss=42.8, batch_index=221, batch_size=256]"
     ]
    },
    {
     "name": "stderr",
     "output_type": "stream",
     "text": [
      "\r",
      "Epoch 1/10:  22%|███████████████████████▍                                                                                 | 221/991 [04:44<16:33,  1.29s/batch, batch_loss=49.7, batch_index=222, batch_size=256]"
     ]
    },
    {
     "name": "stderr",
     "output_type": "stream",
     "text": [
      "\r",
      "Epoch 1/10:  22%|███████████████████████▌                                                                                 | 222/991 [04:44<16:30,  1.29s/batch, batch_loss=49.7, batch_index=222, batch_size=256]"
     ]
    },
    {
     "name": "stderr",
     "output_type": "stream",
     "text": [
      "\r",
      "Epoch 1/10:  22%|███████████████████████▌                                                                                 | 222/991 [04:45<16:30,  1.29s/batch, batch_loss=53.6, batch_index=223, batch_size=256]"
     ]
    },
    {
     "name": "stderr",
     "output_type": "stream",
     "text": [
      "\r",
      "Epoch 1/10:  23%|███████████████████████▋                                                                                 | 223/991 [04:45<16:31,  1.29s/batch, batch_loss=53.6, batch_index=223, batch_size=256]"
     ]
    },
    {
     "name": "stderr",
     "output_type": "stream",
     "text": [
      "\r",
      "Epoch 1/10:  23%|███████████████████████▋                                                                                 | 223/991 [04:47<16:31,  1.29s/batch, batch_loss=60.2, batch_index=224, batch_size=256]"
     ]
    },
    {
     "name": "stderr",
     "output_type": "stream",
     "text": [
      "\r",
      "Epoch 1/10:  23%|███████████████████████▋                                                                                 | 224/991 [04:47<16:13,  1.27s/batch, batch_loss=60.2, batch_index=224, batch_size=256]"
     ]
    },
    {
     "name": "stderr",
     "output_type": "stream",
     "text": [
      "\r",
      "Epoch 1/10:  23%|████████████████████████▏                                                                                  | 224/991 [04:48<16:13,  1.27s/batch, batch_loss=40, batch_index=225, batch_size=256]"
     ]
    },
    {
     "name": "stderr",
     "output_type": "stream",
     "text": [
      "\r",
      "Epoch 1/10:  23%|████████████████████████▎                                                                                  | 225/991 [04:48<16:15,  1.27s/batch, batch_loss=40, batch_index=225, batch_size=256]"
     ]
    },
    {
     "name": "stderr",
     "output_type": "stream",
     "text": [
      "\r",
      "Epoch 1/10:  23%|███████████████████████▊                                                                                 | 225/991 [04:49<16:15,  1.27s/batch, batch_loss=46.9, batch_index=226, batch_size=256]"
     ]
    },
    {
     "name": "stderr",
     "output_type": "stream",
     "text": [
      "\r",
      "Epoch 1/10:  23%|███████████████████████▉                                                                                 | 226/991 [04:49<16:18,  1.28s/batch, batch_loss=46.9, batch_index=226, batch_size=256]"
     ]
    },
    {
     "name": "stderr",
     "output_type": "stream",
     "text": [
      "\r",
      "Epoch 1/10:  23%|███████████████████████▉                                                                                 | 226/991 [04:51<16:18,  1.28s/batch, batch_loss=54.9, batch_index=227, batch_size=256]"
     ]
    },
    {
     "name": "stderr",
     "output_type": "stream",
     "text": [
      "\r",
      "Epoch 1/10:  23%|████████████████████████                                                                                 | 227/991 [04:51<16:19,  1.28s/batch, batch_loss=54.9, batch_index=227, batch_size=256]"
     ]
    },
    {
     "name": "stderr",
     "output_type": "stream",
     "text": [
      "\r",
      "Epoch 1/10:  23%|████████████████████████▌                                                                                  | 227/991 [04:52<16:19,  1.28s/batch, batch_loss=52, batch_index=228, batch_size=256]"
     ]
    },
    {
     "name": "stderr",
     "output_type": "stream",
     "text": [
      "\r",
      "Epoch 1/10:  23%|████████████████████████▌                                                                                  | 228/991 [04:52<16:17,  1.28s/batch, batch_loss=52, batch_index=228, batch_size=256]"
     ]
    },
    {
     "name": "stderr",
     "output_type": "stream",
     "text": [
      "\r",
      "Epoch 1/10:  23%|███████████████████████▍                                                                              | 228/991 [04:53<16:17,  1.28s/batch, batch_loss=3.94e+4, batch_index=229, batch_size=256]"
     ]
    },
    {
     "name": "stderr",
     "output_type": "stream",
     "text": [
      "\r",
      "Epoch 1/10:  23%|███████████████████████▌                                                                              | 229/991 [04:53<16:17,  1.28s/batch, batch_loss=3.94e+4, batch_index=229, batch_size=256]"
     ]
    },
    {
     "name": "stderr",
     "output_type": "stream",
     "text": [
      "\r",
      "Epoch 1/10:  23%|████████████████████████▎                                                                                | 229/991 [04:54<16:17,  1.28s/batch, batch_loss=53.7, batch_index=230, batch_size=256]"
     ]
    },
    {
     "name": "stderr",
     "output_type": "stream",
     "text": [
      "\r",
      "Epoch 1/10:  23%|████████████████████████▎                                                                                | 230/991 [04:54<15:59,  1.26s/batch, batch_loss=53.7, batch_index=230, batch_size=256]"
     ]
    },
    {
     "name": "stderr",
     "output_type": "stream",
     "text": [
      "\r",
      "Epoch 1/10:  23%|████████████████████████▎                                                                                | 230/991 [04:56<15:59,  1.26s/batch, batch_loss=39.4, batch_index=231, batch_size=256]"
     ]
    },
    {
     "name": "stderr",
     "output_type": "stream",
     "text": [
      "\r",
      "Epoch 1/10:  23%|████████████████████████▍                                                                                | 231/991 [04:56<16:04,  1.27s/batch, batch_loss=39.4, batch_index=231, batch_size=256]"
     ]
    },
    {
     "name": "stderr",
     "output_type": "stream",
     "text": [
      "\r",
      "Epoch 1/10:  23%|████████████████████████▍                                                                                | 231/991 [04:57<16:04,  1.27s/batch, batch_loss=86.7, batch_index=232, batch_size=256]"
     ]
    },
    {
     "name": "stderr",
     "output_type": "stream",
     "text": [
      "\r",
      "Epoch 1/10:  23%|████████████████████████▌                                                                                | 232/991 [04:57<16:07,  1.27s/batch, batch_loss=86.7, batch_index=232, batch_size=256]"
     ]
    },
    {
     "name": "stderr",
     "output_type": "stream",
     "text": [
      "\r",
      "Epoch 1/10:  23%|████████████████████████▌                                                                                | 232/991 [04:58<16:07,  1.27s/batch, batch_loss=59.9, batch_index=233, batch_size=256]"
     ]
    },
    {
     "name": "stderr",
     "output_type": "stream",
     "text": [
      "\r",
      "Epoch 1/10:  24%|████████████████████████▋                                                                                | 233/991 [04:58<16:10,  1.28s/batch, batch_loss=59.9, batch_index=233, batch_size=256]"
     ]
    },
    {
     "name": "stderr",
     "output_type": "stream",
     "text": [
      "\r",
      "Epoch 1/10:  24%|███████████████████████▉                                                                              | 233/991 [04:59<16:10,  1.28s/batch, batch_loss=5.87e+4, batch_index=234, batch_size=256]"
     ]
    },
    {
     "name": "stderr",
     "output_type": "stream",
     "text": [
      "\r",
      "Epoch 1/10:  24%|████████████████████████                                                                              | 234/991 [04:59<16:10,  1.28s/batch, batch_loss=5.87e+4, batch_index=234, batch_size=256]"
     ]
    },
    {
     "name": "stderr",
     "output_type": "stream",
     "text": [
      "\r",
      "Epoch 1/10:  24%|████████████████████████▊                                                                                | 234/991 [05:01<16:10,  1.28s/batch, batch_loss=57.3, batch_index=235, batch_size=256]"
     ]
    },
    {
     "name": "stderr",
     "output_type": "stream",
     "text": [
      "\r",
      "Epoch 1/10:  24%|████████████████████████▉                                                                                | 235/991 [05:01<16:12,  1.29s/batch, batch_loss=57.3, batch_index=235, batch_size=256]"
     ]
    },
    {
     "name": "stderr",
     "output_type": "stream",
     "text": [
      "\r",
      "Epoch 1/10:  24%|█████████████████████████▎                                                                                 | 235/991 [05:02<16:12,  1.29s/batch, batch_loss=46, batch_index=236, batch_size=256]"
     ]
    },
    {
     "name": "stderr",
     "output_type": "stream",
     "text": [
      "\r",
      "Epoch 1/10:  24%|█████████████████████████▍                                                                                 | 236/991 [05:02<16:09,  1.28s/batch, batch_loss=46, batch_index=236, batch_size=256]"
     ]
    },
    {
     "name": "stderr",
     "output_type": "stream",
     "text": [
      "\r",
      "Epoch 1/10:  24%|█████████████████████████                                                                                | 236/991 [05:03<16:09,  1.28s/batch, batch_loss=48.3, batch_index=237, batch_size=256]"
     ]
    },
    {
     "name": "stderr",
     "output_type": "stream",
     "text": [
      "\r",
      "Epoch 1/10:  24%|█████████████████████████                                                                                | 237/991 [05:03<16:10,  1.29s/batch, batch_loss=48.3, batch_index=237, batch_size=256]"
     ]
    },
    {
     "name": "stderr",
     "output_type": "stream",
     "text": [
      "\r",
      "Epoch 1/10:  24%|█████████████████████████                                                                                | 237/991 [05:05<16:10,  1.29s/batch, batch_loss=28.7, batch_index=238, batch_size=256]"
     ]
    },
    {
     "name": "stderr",
     "output_type": "stream",
     "text": [
      "\r",
      "Epoch 1/10:  24%|█████████████████████████▏                                                                               | 238/991 [05:05<16:10,  1.29s/batch, batch_loss=28.7, batch_index=238, batch_size=256]"
     ]
    },
    {
     "name": "stderr",
     "output_type": "stream",
     "text": [
      "\r",
      "Epoch 1/10:  24%|████████████████████████▍                                                                             | 238/991 [05:06<16:10,  1.29s/batch, batch_loss=7.44e+3, batch_index=239, batch_size=256]"
     ]
    },
    {
     "name": "stderr",
     "output_type": "stream",
     "text": [
      "\r",
      "Epoch 1/10:  24%|████████████████████████▌                                                                             | 239/991 [05:06<16:07,  1.29s/batch, batch_loss=7.44e+3, batch_index=239, batch_size=256]"
     ]
    },
    {
     "name": "stderr",
     "output_type": "stream",
     "text": [
      "\r",
      "Epoch 1/10:  24%|█████████████████████████▎                                                                               | 239/991 [05:07<16:07,  1.29s/batch, batch_loss=25.3, batch_index=240, batch_size=256]"
     ]
    },
    {
     "name": "stderr",
     "output_type": "stream",
     "text": [
      "\r",
      "Epoch 1/10:  24%|█████████████████████████▍                                                                               | 240/991 [05:07<16:05,  1.29s/batch, batch_loss=25.3, batch_index=240, batch_size=256]"
     ]
    },
    {
     "name": "stderr",
     "output_type": "stream",
     "text": [
      "\r",
      "Epoch 1/10:  24%|█████████████████████████▍                                                                               | 240/991 [05:09<16:05,  1.29s/batch, batch_loss=37.9, batch_index=241, batch_size=256]"
     ]
    },
    {
     "name": "stderr",
     "output_type": "stream",
     "text": [
      "\r",
      "Epoch 1/10:  24%|█████████████████████████▌                                                                               | 241/991 [05:09<16:04,  1.29s/batch, batch_loss=37.9, batch_index=241, batch_size=256]"
     ]
    },
    {
     "name": "stderr",
     "output_type": "stream",
     "text": [
      "\r",
      "Epoch 1/10:  24%|█████████████████████████▌                                                                               | 241/991 [05:10<16:04,  1.29s/batch, batch_loss=29.8, batch_index=242, batch_size=256]"
     ]
    },
    {
     "name": "stderr",
     "output_type": "stream",
     "text": [
      "\r",
      "Epoch 1/10:  24%|█████████████████████████▋                                                                               | 242/991 [05:10<16:03,  1.29s/batch, batch_loss=29.8, batch_index=242, batch_size=256]"
     ]
    },
    {
     "name": "stderr",
     "output_type": "stream",
     "text": [
      "\r",
      "Epoch 1/10:  24%|██████████████████████████▏                                                                                | 242/991 [05:11<16:03,  1.29s/batch, batch_loss=60, batch_index=243, batch_size=256]"
     ]
    },
    {
     "name": "stderr",
     "output_type": "stream",
     "text": [
      "\r",
      "Epoch 1/10:  25%|██████████████████████████▏                                                                                | 243/991 [05:11<16:05,  1.29s/batch, batch_loss=60, batch_index=243, batch_size=256]"
     ]
    },
    {
     "name": "stderr",
     "output_type": "stream",
     "text": [
      "\r",
      "Epoch 1/10:  25%|█████████████████████████▋                                                                               | 243/991 [05:12<16:05,  1.29s/batch, batch_loss=32.7, batch_index=244, batch_size=256]"
     ]
    },
    {
     "name": "stderr",
     "output_type": "stream",
     "text": [
      "\r",
      "Epoch 1/10:  25%|█████████████████████████▊                                                                               | 244/991 [05:12<16:01,  1.29s/batch, batch_loss=32.7, batch_index=244, batch_size=256]"
     ]
    },
    {
     "name": "stderr",
     "output_type": "stream",
     "text": [
      "\r",
      "Epoch 1/10:  25%|█████████████████████████▊                                                                               | 244/991 [05:14<16:01,  1.29s/batch, batch_loss=31.2, batch_index=245, batch_size=256]"
     ]
    },
    {
     "name": "stderr",
     "output_type": "stream",
     "text": [
      "\r",
      "Epoch 1/10:  25%|█████████████████████████▉                                                                               | 245/991 [05:14<15:59,  1.29s/batch, batch_loss=31.2, batch_index=245, batch_size=256]"
     ]
    },
    {
     "name": "stderr",
     "output_type": "stream",
     "text": [
      "\r",
      "Epoch 1/10:  25%|█████████████████████████▉                                                                               | 245/991 [05:15<15:59,  1.29s/batch, batch_loss=83.1, batch_index=246, batch_size=256]"
     ]
    },
    {
     "name": "stderr",
     "output_type": "stream",
     "text": [
      "\r",
      "Epoch 1/10:  25%|██████████████████████████                                                                               | 246/991 [05:15<16:00,  1.29s/batch, batch_loss=83.1, batch_index=246, batch_size=256]"
     ]
    },
    {
     "name": "stderr",
     "output_type": "stream",
     "text": [
      "\r",
      "Epoch 1/10:  25%|██████████████████████████                                                                               | 246/991 [05:16<16:00,  1.29s/batch, batch_loss=27.4, batch_index=247, batch_size=256]"
     ]
    },
    {
     "name": "stderr",
     "output_type": "stream",
     "text": [
      "\r",
      "Epoch 1/10:  25%|██████████████████████████▏                                                                              | 247/991 [05:16<16:01,  1.29s/batch, batch_loss=27.4, batch_index=247, batch_size=256]"
     ]
    },
    {
     "name": "stderr",
     "output_type": "stream",
     "text": [
      "\r",
      "Epoch 1/10:  25%|██████████████████████████▏                                                                              | 247/991 [05:18<16:01,  1.29s/batch, batch_loss=59.8, batch_index=248, batch_size=256]"
     ]
    },
    {
     "name": "stderr",
     "output_type": "stream",
     "text": [
      "\r",
      "Epoch 1/10:  25%|██████████████████████████▎                                                                              | 248/991 [05:18<15:57,  1.29s/batch, batch_loss=59.8, batch_index=248, batch_size=256]"
     ]
    },
    {
     "name": "stderr",
     "output_type": "stream",
     "text": [
      "\r",
      "Epoch 1/10:  25%|██████████████████████████▎                                                                              | 248/991 [05:19<15:57,  1.29s/batch, batch_loss=61.7, batch_index=249, batch_size=256]"
     ]
    },
    {
     "name": "stderr",
     "output_type": "stream",
     "text": [
      "\r",
      "Epoch 1/10:  25%|██████████████████████████▍                                                                              | 249/991 [05:19<15:55,  1.29s/batch, batch_loss=61.7, batch_index=249, batch_size=256]"
     ]
    },
    {
     "name": "stderr",
     "output_type": "stream",
     "text": [
      "\r",
      "Epoch 1/10:  25%|█████████████████████████▋                                                                            | 249/991 [05:20<15:55,  1.29s/batch, batch_loss=8.64e+4, batch_index=250, batch_size=256]"
     ]
    },
    {
     "name": "stderr",
     "output_type": "stream",
     "text": [
      "\r",
      "Epoch 1/10:  25%|█████████████████████████▋                                                                            | 250/991 [05:20<15:53,  1.29s/batch, batch_loss=8.64e+4, batch_index=250, batch_size=256]"
     ]
    },
    {
     "name": "stderr",
     "output_type": "stream",
     "text": [
      "\r",
      "Epoch 1/10:  25%|██████████████████████████▋                                                                               | 250/991 [05:21<15:53,  1.29s/batch, batch_loss=206, batch_index=251, batch_size=256]"
     ]
    },
    {
     "name": "stderr",
     "output_type": "stream",
     "text": [
      "\r",
      "Epoch 1/10:  25%|██████████████████████████▊                                                                               | 251/991 [05:21<15:52,  1.29s/batch, batch_loss=206, batch_index=251, batch_size=256]"
     ]
    },
    {
     "name": "stderr",
     "output_type": "stream",
     "text": [
      "\r",
      "Epoch 1/10:  25%|██████████████████████████▌                                                                              | 251/991 [05:23<15:52,  1.29s/batch, batch_loss=51.5, batch_index=252, batch_size=256]"
     ]
    },
    {
     "name": "stderr",
     "output_type": "stream",
     "text": [
      "\r",
      "Epoch 1/10:  25%|██████████████████████████▋                                                                              | 252/991 [05:23<15:50,  1.29s/batch, batch_loss=51.5, batch_index=252, batch_size=256]"
     ]
    },
    {
     "name": "stderr",
     "output_type": "stream",
     "text": [
      "\r",
      "Epoch 1/10:  25%|██████████████████████████▋                                                                              | 252/991 [05:24<15:50,  1.29s/batch, batch_loss=24.1, batch_index=253, batch_size=256]"
     ]
    },
    {
     "name": "stderr",
     "output_type": "stream",
     "text": [
      "\r",
      "Epoch 1/10:  26%|██████████████████████████▊                                                                              | 253/991 [05:24<15:51,  1.29s/batch, batch_loss=24.1, batch_index=253, batch_size=256]"
     ]
    },
    {
     "name": "stderr",
     "output_type": "stream",
     "text": [
      "\r",
      "Epoch 1/10:  26%|██████████████████████████▊                                                                              | 253/991 [05:25<15:51,  1.29s/batch, batch_loss=26.7, batch_index=254, batch_size=256]"
     ]
    },
    {
     "name": "stderr",
     "output_type": "stream",
     "text": [
      "\r",
      "Epoch 1/10:  26%|██████████████████████████▉                                                                              | 254/991 [05:25<15:47,  1.29s/batch, batch_loss=26.7, batch_index=254, batch_size=256]"
     ]
    },
    {
     "name": "stderr",
     "output_type": "stream",
     "text": [
      "\r",
      "Epoch 1/10:  26%|██████████████████████████▉                                                                              | 254/991 [05:27<15:47,  1.29s/batch, batch_loss=40.4, batch_index=255, batch_size=256]"
     ]
    },
    {
     "name": "stderr",
     "output_type": "stream",
     "text": [
      "\r",
      "Epoch 1/10:  26%|███████████████████████████                                                                              | 255/991 [05:27<15:45,  1.28s/batch, batch_loss=40.4, batch_index=255, batch_size=256]"
     ]
    },
    {
     "name": "stderr",
     "output_type": "stream",
     "text": [
      "\r",
      "Epoch 1/10:  26%|███████████████████████████                                                                              | 255/991 [05:28<15:45,  1.28s/batch, batch_loss=18.9, batch_index=256, batch_size=256]"
     ]
    },
    {
     "name": "stderr",
     "output_type": "stream",
     "text": [
      "\r",
      "Epoch 1/10:  26%|███████████████████████████                                                                              | 256/991 [05:28<15:44,  1.29s/batch, batch_loss=18.9, batch_index=256, batch_size=256]"
     ]
    },
    {
     "name": "stderr",
     "output_type": "stream",
     "text": [
      "\r",
      "Epoch 1/10:  26%|███████████████████████████                                                                              | 256/991 [05:29<15:44,  1.29s/batch, batch_loss=23.3, batch_index=257, batch_size=256]"
     ]
    },
    {
     "name": "stderr",
     "output_type": "stream",
     "text": [
      "\r",
      "Epoch 1/10:  26%|███████████████████████████▏                                                                             | 257/991 [05:29<15:25,  1.26s/batch, batch_loss=23.3, batch_index=257, batch_size=256]"
     ]
    },
    {
     "name": "stderr",
     "output_type": "stream",
     "text": [
      "\r",
      "Epoch 1/10:  26%|███████████████████████████▏                                                                             | 257/991 [05:30<15:25,  1.26s/batch, batch_loss=30.2, batch_index=258, batch_size=256]"
     ]
    },
    {
     "name": "stderr",
     "output_type": "stream",
     "text": [
      "\r",
      "Epoch 1/10:  26%|███████████████████████████▎                                                                             | 258/991 [05:30<15:30,  1.27s/batch, batch_loss=30.2, batch_index=258, batch_size=256]"
     ]
    },
    {
     "name": "stderr",
     "output_type": "stream",
     "text": [
      "\r",
      "Epoch 1/10:  26%|███████████████████████████▎                                                                             | 258/991 [05:32<15:30,  1.27s/batch, batch_loss=53.6, batch_index=259, batch_size=256]"
     ]
    },
    {
     "name": "stderr",
     "output_type": "stream",
     "text": [
      "\r",
      "Epoch 1/10:  26%|███████████████████████████▍                                                                             | 259/991 [05:32<15:32,  1.27s/batch, batch_loss=53.6, batch_index=259, batch_size=256]"
     ]
    },
    {
     "name": "stderr",
     "output_type": "stream",
     "text": [
      "\r",
      "Epoch 1/10:  26%|███████████████████████████▍                                                                             | 259/991 [05:33<15:32,  1.27s/batch, batch_loss=35.7, batch_index=260, batch_size=256]"
     ]
    },
    {
     "name": "stderr",
     "output_type": "stream",
     "text": [
      "\r",
      "Epoch 1/10:  26%|███████████████████████████▌                                                                             | 260/991 [05:33<15:33,  1.28s/batch, batch_loss=35.7, batch_index=260, batch_size=256]"
     ]
    },
    {
     "name": "stderr",
     "output_type": "stream",
     "text": [
      "\r",
      "Epoch 1/10:  26%|███████████████████████████▌                                                                             | 260/991 [05:34<15:33,  1.28s/batch, batch_loss=37.3, batch_index=261, batch_size=256]"
     ]
    },
    {
     "name": "stderr",
     "output_type": "stream",
     "text": [
      "\r",
      "Epoch 1/10:  26%|███████████████████████████▋                                                                             | 261/991 [05:34<15:33,  1.28s/batch, batch_loss=37.3, batch_index=261, batch_size=256]"
     ]
    },
    {
     "name": "stderr",
     "output_type": "stream",
     "text": [
      "\r",
      "Epoch 1/10:  26%|████████████████████████████▏                                                                              | 261/991 [05:35<15:33,  1.28s/batch, batch_loss=45, batch_index=262, batch_size=256]"
     ]
    },
    {
     "name": "stderr",
     "output_type": "stream",
     "text": [
      "\r",
      "Epoch 1/10:  26%|████████████████████████████▎                                                                              | 262/991 [05:35<15:34,  1.28s/batch, batch_loss=45, batch_index=262, batch_size=256]"
     ]
    },
    {
     "name": "stderr",
     "output_type": "stream",
     "text": [
      "\r",
      "Epoch 1/10:  26%|███████████████████████████▊                                                                             | 262/991 [05:37<15:34,  1.28s/batch, batch_loss=32.6, batch_index=263, batch_size=256]"
     ]
    },
    {
     "name": "stderr",
     "output_type": "stream",
     "text": [
      "\r",
      "Epoch 1/10:  27%|███████████████████████████▊                                                                             | 263/991 [05:37<15:36,  1.29s/batch, batch_loss=32.6, batch_index=263, batch_size=256]"
     ]
    },
    {
     "name": "stderr",
     "output_type": "stream",
     "text": [
      "\r",
      "Epoch 1/10:  27%|███████████████████████████▊                                                                             | 263/991 [05:38<15:36,  1.29s/batch, batch_loss=30.6, batch_index=264, batch_size=256]"
     ]
    },
    {
     "name": "stderr",
     "output_type": "stream",
     "text": [
      "\r",
      "Epoch 1/10:  27%|███████████████████████████▉                                                                             | 264/991 [05:38<15:35,  1.29s/batch, batch_loss=30.6, batch_index=264, batch_size=256]"
     ]
    },
    {
     "name": "stderr",
     "output_type": "stream",
     "text": [
      "\r",
      "Epoch 1/10:  27%|███████████████████████████▉                                                                             | 264/991 [05:39<15:35,  1.29s/batch, batch_loss=26.6, batch_index=265, batch_size=256]"
     ]
    },
    {
     "name": "stderr",
     "output_type": "stream",
     "text": [
      "\r",
      "Epoch 1/10:  27%|████████████████████████████                                                                             | 265/991 [05:39<15:37,  1.29s/batch, batch_loss=26.6, batch_index=265, batch_size=256]"
     ]
    },
    {
     "name": "stderr",
     "output_type": "stream",
     "text": [
      "\r",
      "Epoch 1/10:  27%|████████████████████████████                                                                             | 265/991 [05:41<15:37,  1.29s/batch, batch_loss=35.8, batch_index=266, batch_size=256]"
     ]
    },
    {
     "name": "stderr",
     "output_type": "stream",
     "text": [
      "\r",
      "Epoch 1/10:  27%|████████████████████████████▏                                                                            | 266/991 [05:41<15:32,  1.29s/batch, batch_loss=35.8, batch_index=266, batch_size=256]"
     ]
    },
    {
     "name": "stderr",
     "output_type": "stream",
     "text": [
      "\r",
      "Epoch 1/10:  27%|████████████████████████████▏                                                                            | 266/991 [05:42<15:32,  1.29s/batch, batch_loss=16.2, batch_index=267, batch_size=256]"
     ]
    },
    {
     "name": "stderr",
     "output_type": "stream",
     "text": [
      "\r",
      "Epoch 1/10:  27%|████████████████████████████▎                                                                            | 267/991 [05:42<15:32,  1.29s/batch, batch_loss=16.2, batch_index=267, batch_size=256]"
     ]
    },
    {
     "name": "stderr",
     "output_type": "stream",
     "text": [
      "\r",
      "Epoch 1/10:  27%|████████████████████████████▎                                                                            | 267/991 [05:43<15:32,  1.29s/batch, batch_loss=43.2, batch_index=268, batch_size=256]"
     ]
    },
    {
     "name": "stderr",
     "output_type": "stream",
     "text": [
      "\r",
      "Epoch 1/10:  27%|████████████████████████████▍                                                                            | 268/991 [05:43<15:32,  1.29s/batch, batch_loss=43.2, batch_index=268, batch_size=256]"
     ]
    },
    {
     "name": "stderr",
     "output_type": "stream",
     "text": [
      "\r",
      "Epoch 1/10:  27%|████████████████████████████▍                                                                            | 268/991 [05:44<15:32,  1.29s/batch, batch_loss=25.1, batch_index=269, batch_size=256]"
     ]
    },
    {
     "name": "stderr",
     "output_type": "stream",
     "text": [
      "\r",
      "Epoch 1/10:  27%|████████████████████████████▌                                                                            | 269/991 [05:44<15:28,  1.29s/batch, batch_loss=25.1, batch_index=269, batch_size=256]"
     ]
    },
    {
     "name": "stderr",
     "output_type": "stream",
     "text": [
      "\r",
      "Epoch 1/10:  27%|████████████████████████████▌                                                                            | 269/991 [05:46<15:28,  1.29s/batch, batch_loss=30.3, batch_index=270, batch_size=256]"
     ]
    },
    {
     "name": "stderr",
     "output_type": "stream",
     "text": [
      "\r",
      "Epoch 1/10:  27%|████████████████████████████▌                                                                            | 270/991 [05:46<15:29,  1.29s/batch, batch_loss=30.3, batch_index=270, batch_size=256]"
     ]
    },
    {
     "name": "stderr",
     "output_type": "stream",
     "text": [
      "\r",
      "Epoch 1/10:  27%|█████████████████████████████▏                                                                             | 270/991 [05:47<15:29,  1.29s/batch, batch_loss=25, batch_index=271, batch_size=256]"
     ]
    },
    {
     "name": "stderr",
     "output_type": "stream",
     "text": [
      "\r",
      "Epoch 1/10:  27%|█████████████████████████████▎                                                                             | 271/991 [05:47<15:25,  1.29s/batch, batch_loss=25, batch_index=271, batch_size=256]"
     ]
    },
    {
     "name": "stderr",
     "output_type": "stream",
     "text": [
      "\r",
      "Epoch 1/10:  27%|████████████████████████████▏                                                                          | 271/991 [05:48<15:25,  1.29s/batch, batch_loss=2.4e+3, batch_index=272, batch_size=256]"
     ]
    },
    {
     "name": "stderr",
     "output_type": "stream",
     "text": [
      "\r",
      "Epoch 1/10:  27%|████████████████████████████▎                                                                          | 272/991 [05:48<15:24,  1.29s/batch, batch_loss=2.4e+3, batch_index=272, batch_size=256]"
     ]
    },
    {
     "name": "stderr",
     "output_type": "stream",
     "text": [
      "\r",
      "Epoch 1/10:  27%|████████████████████████████▊                                                                            | 272/991 [05:50<15:24,  1.29s/batch, batch_loss=45.8, batch_index=273, batch_size=256]"
     ]
    },
    {
     "name": "stderr",
     "output_type": "stream",
     "text": [
      "\r",
      "Epoch 1/10:  28%|████████████████████████████▉                                                                            | 273/991 [05:50<15:24,  1.29s/batch, batch_loss=45.8, batch_index=273, batch_size=256]"
     ]
    },
    {
     "name": "stderr",
     "output_type": "stream",
     "text": [
      "\r",
      "Epoch 1/10:  28%|████████████████████████████                                                                          | 273/991 [05:51<15:24,  1.29s/batch, batch_loss=4209.25, batch_index=274, batch_size=256]"
     ]
    },
    {
     "name": "stderr",
     "output_type": "stream",
     "text": [
      "\r",
      "Epoch 1/10:  28%|████████████████████████████▏                                                                         | 274/991 [05:51<15:22,  1.29s/batch, batch_loss=4209.25, batch_index=274, batch_size=256]"
     ]
    },
    {
     "name": "stderr",
     "output_type": "stream",
     "text": [
      "\r",
      "Epoch 1/10:  28%|█████████████████████████████                                                                            | 274/991 [05:52<15:22,  1.29s/batch, batch_loss=26.2, batch_index=275, batch_size=256]"
     ]
    },
    {
     "name": "stderr",
     "output_type": "stream",
     "text": [
      "\r",
      "Epoch 1/10:  28%|█████████████████████████████▏                                                                           | 275/991 [05:52<15:21,  1.29s/batch, batch_loss=26.2, batch_index=275, batch_size=256]"
     ]
    },
    {
     "name": "stderr",
     "output_type": "stream",
     "text": [
      "\r",
      "Epoch 1/10:  28%|█████████████████████████████▏                                                                           | 275/991 [05:53<15:21,  1.29s/batch, batch_loss=60.3, batch_index=276, batch_size=256]"
     ]
    },
    {
     "name": "stderr",
     "output_type": "stream",
     "text": [
      "\r",
      "Epoch 1/10:  28%|█████████████████████████████▏                                                                           | 276/991 [05:53<15:19,  1.29s/batch, batch_loss=60.3, batch_index=276, batch_size=256]"
     ]
    },
    {
     "name": "stderr",
     "output_type": "stream",
     "text": [
      "\r",
      "Epoch 1/10:  28%|█████████████████████████████▏                                                                           | 276/991 [05:55<15:19,  1.29s/batch, batch_loss=35.3, batch_index=277, batch_size=256]"
     ]
    },
    {
     "name": "stderr",
     "output_type": "stream",
     "text": [
      "\r",
      "Epoch 1/10:  28%|█████████████████████████████▎                                                                           | 277/991 [05:55<15:17,  1.29s/batch, batch_loss=35.3, batch_index=277, batch_size=256]"
     ]
    },
    {
     "name": "stderr",
     "output_type": "stream",
     "text": [
      "\r",
      "Epoch 1/10:  28%|████████████████████████████▌                                                                         | 277/991 [05:56<15:17,  1.29s/batch, batch_loss=1.39e+4, batch_index=278, batch_size=256]"
     ]
    },
    {
     "name": "stderr",
     "output_type": "stream",
     "text": [
      "\r",
      "Epoch 1/10:  28%|████████████████████████████▌                                                                         | 278/991 [05:56<15:16,  1.29s/batch, batch_loss=1.39e+4, batch_index=278, batch_size=256]"
     ]
    },
    {
     "name": "stderr",
     "output_type": "stream",
     "text": [
      "\r",
      "Epoch 1/10:  28%|█████████████████████████████▍                                                                           | 278/991 [05:57<15:16,  1.29s/batch, batch_loss=31.7, batch_index=279, batch_size=256]"
     ]
    },
    {
     "name": "stderr",
     "output_type": "stream",
     "text": [
      "\r",
      "Epoch 1/10:  28%|█████████████████████████████▌                                                                           | 279/991 [05:57<15:15,  1.29s/batch, batch_loss=31.7, batch_index=279, batch_size=256]"
     ]
    },
    {
     "name": "stderr",
     "output_type": "stream",
     "text": [
      "\r",
      "Epoch 1/10:  28%|█████████████████████████████▌                                                                           | 279/991 [05:59<15:15,  1.29s/batch, batch_loss=27.4, batch_index=280, batch_size=256]"
     ]
    },
    {
     "name": "stderr",
     "output_type": "stream",
     "text": [
      "\r",
      "Epoch 1/10:  28%|█████████████████████████████▋                                                                           | 280/991 [05:59<15:13,  1.29s/batch, batch_loss=27.4, batch_index=280, batch_size=256]"
     ]
    },
    {
     "name": "stderr",
     "output_type": "stream",
     "text": [
      "\r",
      "Epoch 1/10:  28%|█████████████████████████████▋                                                                           | 280/991 [06:00<15:13,  1.29s/batch, batch_loss=21.8, batch_index=281, batch_size=256]"
     ]
    },
    {
     "name": "stderr",
     "output_type": "stream",
     "text": [
      "\r",
      "Epoch 1/10:  28%|█████████████████████████████▊                                                                           | 281/991 [06:00<15:14,  1.29s/batch, batch_loss=21.8, batch_index=281, batch_size=256]"
     ]
    },
    {
     "name": "stderr",
     "output_type": "stream",
     "text": [
      "\r",
      "Epoch 1/10:  28%|████████████████████████████▉                                                                         | 281/991 [06:01<15:14,  1.29s/batch, batch_loss=1.29e+3, batch_index=282, batch_size=256]"
     ]
    },
    {
     "name": "stderr",
     "output_type": "stream",
     "text": [
      "\r",
      "Epoch 1/10:  28%|█████████████████████████████                                                                         | 282/991 [06:01<15:13,  1.29s/batch, batch_loss=1.29e+3, batch_index=282, batch_size=256]"
     ]
    },
    {
     "name": "stderr",
     "output_type": "stream",
     "text": [
      "\r",
      "Epoch 1/10:  28%|██████████████████████████████▏                                                                           | 282/991 [06:02<15:13,  1.29s/batch, batch_loss=454, batch_index=283, batch_size=256]"
     ]
    },
    {
     "name": "stderr",
     "output_type": "stream",
     "text": [
      "\r",
      "Epoch 1/10:  29%|██████████████████████████████▎                                                                           | 283/991 [06:02<15:06,  1.28s/batch, batch_loss=454, batch_index=283, batch_size=256]"
     ]
    },
    {
     "name": "stderr",
     "output_type": "stream",
     "text": [
      "\r",
      "Epoch 1/10:  29%|██████████████████████████████▎                                                                           | 283/991 [06:04<15:06,  1.28s/batch, batch_loss=254, batch_index=284, batch_size=256]"
     ]
    },
    {
     "name": "stderr",
     "output_type": "stream",
     "text": [
      "\r",
      "Epoch 1/10:  29%|██████████████████████████████▍                                                                           | 284/991 [06:04<14:50,  1.26s/batch, batch_loss=254, batch_index=284, batch_size=256]"
     ]
    },
    {
     "name": "stderr",
     "output_type": "stream",
     "text": [
      "\r",
      "Epoch 1/10:  29%|██████████████████████████████▋                                                                            | 284/991 [06:05<14:50,  1.26s/batch, batch_loss=47, batch_index=285, batch_size=256]"
     ]
    },
    {
     "name": "stderr",
     "output_type": "stream",
     "text": [
      "\r",
      "Epoch 1/10:  29%|██████████████████████████████▊                                                                            | 285/991 [06:05<14:48,  1.26s/batch, batch_loss=47, batch_index=285, batch_size=256]"
     ]
    },
    {
     "name": "stderr",
     "output_type": "stream",
     "text": [
      "\r",
      "Epoch 1/10:  29%|█████████████████████████████▎                                                                        | 285/991 [06:06<14:48,  1.26s/batch, batch_loss=4.79e+3, batch_index=286, batch_size=256]"
     ]
    },
    {
     "name": "stderr",
     "output_type": "stream",
     "text": [
      "\r",
      "Epoch 1/10:  29%|█████████████████████████████▍                                                                        | 286/991 [06:06<14:55,  1.27s/batch, batch_loss=4.79e+3, batch_index=286, batch_size=256]"
     ]
    },
    {
     "name": "stderr",
     "output_type": "stream",
     "text": [
      "\r",
      "Epoch 1/10:  29%|█████████████████████████████▍                                                                        | 286/991 [06:08<14:55,  1.27s/batch, batch_loss=2.18e+3, batch_index=287, batch_size=256]"
     ]
    },
    {
     "name": "stderr",
     "output_type": "stream",
     "text": [
      "\r",
      "Epoch 1/10:  29%|█████████████████████████████▌                                                                        | 287/991 [06:08<14:57,  1.28s/batch, batch_loss=2.18e+3, batch_index=287, batch_size=256]"
     ]
    },
    {
     "name": "stderr",
     "output_type": "stream",
     "text": [
      "\r",
      "Epoch 1/10:  29%|██████████████████████████████▍                                                                          | 287/991 [06:09<14:57,  1.28s/batch, batch_loss=65.2, batch_index=288, batch_size=256]"
     ]
    },
    {
     "name": "stderr",
     "output_type": "stream",
     "text": [
      "\r",
      "Epoch 1/10:  29%|██████████████████████████████▌                                                                          | 288/991 [06:09<14:58,  1.28s/batch, batch_loss=65.2, batch_index=288, batch_size=256]"
     ]
    },
    {
     "name": "stderr",
     "output_type": "stream",
     "text": [
      "\r",
      "Epoch 1/10:  29%|██████████████████████████████▌                                                                          | 288/991 [06:10<14:58,  1.28s/batch, batch_loss=64.9, batch_index=289, batch_size=256]"
     ]
    },
    {
     "name": "stderr",
     "output_type": "stream",
     "text": [
      "\r",
      "Epoch 1/10:  29%|██████████████████████████████▌                                                                          | 289/991 [06:10<14:56,  1.28s/batch, batch_loss=64.9, batch_index=289, batch_size=256]"
     ]
    },
    {
     "name": "stderr",
     "output_type": "stream",
     "text": [
      "\r",
      "Epoch 1/10:  29%|█████████████████████████████▋                                                                        | 289/991 [06:11<14:56,  1.28s/batch, batch_loss=1.59e+3, batch_index=290, batch_size=256]"
     ]
    },
    {
     "name": "stderr",
     "output_type": "stream",
     "text": [
      "\r",
      "Epoch 1/10:  29%|█████████████████████████████▊                                                                        | 290/991 [06:11<14:58,  1.28s/batch, batch_loss=1.59e+3, batch_index=290, batch_size=256]"
     ]
    },
    {
     "name": "stderr",
     "output_type": "stream",
     "text": [
      "\r",
      "Epoch 1/10:  29%|██████████████████████████████▋                                                                          | 290/991 [06:13<14:58,  1.28s/batch, batch_loss=52.5, batch_index=291, batch_size=256]"
     ]
    },
    {
     "name": "stderr",
     "output_type": "stream",
     "text": [
      "\r",
      "Epoch 1/10:  29%|██████████████████████████████▊                                                                          | 291/991 [06:13<14:56,  1.28s/batch, batch_loss=52.5, batch_index=291, batch_size=256]"
     ]
    },
    {
     "name": "stderr",
     "output_type": "stream",
     "text": [
      "\r",
      "Epoch 1/10:  29%|██████████████████████████████▊                                                                          | 291/991 [06:14<14:56,  1.28s/batch, batch_loss=31.6, batch_index=292, batch_size=256]"
     ]
    },
    {
     "name": "stderr",
     "output_type": "stream",
     "text": [
      "\r",
      "Epoch 1/10:  29%|██████████████████████████████▉                                                                          | 292/991 [06:14<14:59,  1.29s/batch, batch_loss=31.6, batch_index=292, batch_size=256]"
     ]
    },
    {
     "name": "stderr",
     "output_type": "stream",
     "text": [
      "\r",
      "Epoch 1/10:  29%|██████████████████████████████▉                                                                          | 292/991 [06:15<14:59,  1.29s/batch, batch_loss=26.4, batch_index=293, batch_size=256]"
     ]
    },
    {
     "name": "stderr",
     "output_type": "stream",
     "text": [
      "\r",
      "Epoch 1/10:  30%|███████████████████████████████                                                                          | 293/991 [06:15<14:55,  1.28s/batch, batch_loss=26.4, batch_index=293, batch_size=256]"
     ]
    },
    {
     "name": "stderr",
     "output_type": "stream",
     "text": [
      "\r",
      "Epoch 1/10:  30%|███████████████████████████████                                                                          | 293/991 [06:17<14:55,  1.28s/batch, batch_loss=17.2, batch_index=294, batch_size=256]"
     ]
    },
    {
     "name": "stderr",
     "output_type": "stream",
     "text": [
      "\r",
      "Epoch 1/10:  30%|███████████████████████████████▏                                                                         | 294/991 [06:17<14:57,  1.29s/batch, batch_loss=17.2, batch_index=294, batch_size=256]"
     ]
    },
    {
     "name": "stderr",
     "output_type": "stream",
     "text": [
      "\r",
      "Epoch 1/10:  30%|██████████████████████████████▎                                                                       | 294/991 [06:18<14:57,  1.29s/batch, batch_loss=3.41e+3, batch_index=295, batch_size=256]"
     ]
    },
    {
     "name": "stderr",
     "output_type": "stream",
     "text": [
      "\r",
      "Epoch 1/10:  30%|██████████████████████████████▎                                                                       | 295/991 [06:18<14:57,  1.29s/batch, batch_loss=3.41e+3, batch_index=295, batch_size=256]"
     ]
    },
    {
     "name": "stderr",
     "output_type": "stream",
     "text": [
      "\r",
      "Epoch 1/10:  30%|███████████████████████████████▎                                                                         | 295/991 [06:19<14:57,  1.29s/batch, batch_loss=34.1, batch_index=296, batch_size=256]"
     ]
    },
    {
     "name": "stderr",
     "output_type": "stream",
     "text": [
      "\r",
      "Epoch 1/10:  30%|███████████████████████████████▎                                                                         | 296/991 [06:19<14:53,  1.29s/batch, batch_loss=34.1, batch_index=296, batch_size=256]"
     ]
    },
    {
     "name": "stderr",
     "output_type": "stream",
     "text": [
      "\r",
      "Epoch 1/10:  30%|███████████████████████████████▎                                                                         | 296/991 [06:20<14:53,  1.29s/batch, batch_loss=29.2, batch_index=297, batch_size=256]"
     ]
    },
    {
     "name": "stderr",
     "output_type": "stream",
     "text": [
      "\r",
      "Epoch 1/10:  30%|███████████████████████████████▍                                                                         | 297/991 [06:20<14:52,  1.29s/batch, batch_loss=29.2, batch_index=297, batch_size=256]"
     ]
    },
    {
     "name": "stderr",
     "output_type": "stream",
     "text": [
      "\r",
      "Epoch 1/10:  30%|████████████████████████████████                                                                           | 297/991 [06:22<14:52,  1.29s/batch, batch_loss=25, batch_index=298, batch_size=256]"
     ]
    },
    {
     "name": "stderr",
     "output_type": "stream",
     "text": [
      "\r",
      "Epoch 1/10:  30%|████████████████████████████████▏                                                                          | 298/991 [06:22<14:52,  1.29s/batch, batch_loss=25, batch_index=298, batch_size=256]"
     ]
    },
    {
     "name": "stderr",
     "output_type": "stream",
     "text": [
      "\r",
      "Epoch 1/10:  30%|███████████████████████████████▌                                                                         | 298/991 [06:23<14:52,  1.29s/batch, batch_loss=25.7, batch_index=299, batch_size=256]"
     ]
    },
    {
     "name": "stderr",
     "output_type": "stream",
     "text": [
      "\r",
      "Epoch 1/10:  30%|███████████████████████████████▋                                                                         | 299/991 [06:23<14:50,  1.29s/batch, batch_loss=25.7, batch_index=299, batch_size=256]"
     ]
    },
    {
     "name": "stderr",
     "output_type": "stream",
     "text": [
      "\r",
      "Epoch 1/10:  30%|███████████████████████████████▋                                                                         | 299/991 [06:24<14:50,  1.29s/batch, batch_loss=34.4, batch_index=300, batch_size=256]"
     ]
    },
    {
     "name": "stderr",
     "output_type": "stream",
     "text": [
      "\r",
      "Epoch 1/10:  30%|███████████████████████████████▊                                                                         | 300/991 [06:24<14:46,  1.28s/batch, batch_loss=34.4, batch_index=300, batch_size=256]"
     ]
    },
    {
     "name": "stderr",
     "output_type": "stream",
     "text": [
      "\r",
      "Epoch 1/10:  30%|███████████████████████████████▊                                                                         | 300/991 [06:26<14:46,  1.28s/batch, batch_loss=18.8, batch_index=301, batch_size=256]"
     ]
    },
    {
     "name": "stderr",
     "output_type": "stream",
     "text": [
      "\r",
      "Epoch 1/10:  30%|███████████████████████████████▉                                                                         | 301/991 [06:26<14:45,  1.28s/batch, batch_loss=18.8, batch_index=301, batch_size=256]"
     ]
    },
    {
     "name": "stderr",
     "output_type": "stream",
     "text": [
      "\r",
      "Epoch 1/10:  30%|███████████████████████████████▉                                                                         | 301/991 [06:27<14:45,  1.28s/batch, batch_loss=18.8, batch_index=302, batch_size=256]"
     ]
    },
    {
     "name": "stderr",
     "output_type": "stream",
     "text": [
      "\r",
      "Epoch 1/10:  30%|███████████████████████████████▉                                                                         | 302/991 [06:27<14:47,  1.29s/batch, batch_loss=18.8, batch_index=302, batch_size=256]"
     ]
    },
    {
     "name": "stderr",
     "output_type": "stream",
     "text": [
      "\r",
      "Epoch 1/10:  30%|███████████████████████████████▉                                                                         | 302/991 [06:28<14:47,  1.29s/batch, batch_loss=50.6, batch_index=303, batch_size=256]"
     ]
    },
    {
     "name": "stderr",
     "output_type": "stream",
     "text": [
      "\r",
      "Epoch 1/10:  31%|████████████████████████████████                                                                         | 303/991 [06:28<14:46,  1.29s/batch, batch_loss=50.6, batch_index=303, batch_size=256]"
     ]
    },
    {
     "name": "stderr",
     "output_type": "stream",
     "text": [
      "\r",
      "Epoch 1/10:  31%|████████████████████████████████                                                                         | 303/991 [06:29<14:46,  1.29s/batch, batch_loss=41.7, batch_index=304, batch_size=256]"
     ]
    },
    {
     "name": "stderr",
     "output_type": "stream",
     "text": [
      "\r",
      "Epoch 1/10:  31%|████████████████████████████████▏                                                                        | 304/991 [06:29<14:42,  1.28s/batch, batch_loss=41.7, batch_index=304, batch_size=256]"
     ]
    },
    {
     "name": "stderr",
     "output_type": "stream",
     "text": [
      "\r",
      "Epoch 1/10:  31%|███████████████████████████████▎                                                                      | 304/991 [06:31<14:42,  1.28s/batch, batch_loss=6.66e+3, batch_index=305, batch_size=256]"
     ]
    },
    {
     "name": "stderr",
     "output_type": "stream",
     "text": [
      "\r",
      "Epoch 1/10:  31%|███████████████████████████████▍                                                                      | 305/991 [06:31<14:46,  1.29s/batch, batch_loss=6.66e+3, batch_index=305, batch_size=256]"
     ]
    },
    {
     "name": "stderr",
     "output_type": "stream",
     "text": [
      "\r",
      "Epoch 1/10:  31%|████████████████████████████████▎                                                                        | 305/991 [06:32<14:46,  1.29s/batch, batch_loss=26.9, batch_index=306, batch_size=256]"
     ]
    },
    {
     "name": "stderr",
     "output_type": "stream",
     "text": [
      "\r",
      "Epoch 1/10:  31%|████████████████████████████████▍                                                                        | 306/991 [06:32<14:44,  1.29s/batch, batch_loss=26.9, batch_index=306, batch_size=256]"
     ]
    },
    {
     "name": "stderr",
     "output_type": "stream",
     "text": [
      "\r",
      "Epoch 1/10:  31%|████████████████████████████████▍                                                                        | 306/991 [06:33<14:44,  1.29s/batch, batch_loss=28.5, batch_index=307, batch_size=256]"
     ]
    },
    {
     "name": "stderr",
     "output_type": "stream",
     "text": [
      "\r",
      "Epoch 1/10:  31%|████████████████████████████████▌                                                                        | 307/991 [06:33<14:40,  1.29s/batch, batch_loss=28.5, batch_index=307, batch_size=256]"
     ]
    },
    {
     "name": "stderr",
     "output_type": "stream",
     "text": [
      "\r",
      "Epoch 1/10:  31%|████████████████████████████████▌                                                                        | 307/991 [06:35<14:40,  1.29s/batch, batch_loss=41.4, batch_index=308, batch_size=256]"
     ]
    },
    {
     "name": "stderr",
     "output_type": "stream",
     "text": [
      "\r",
      "Epoch 1/10:  31%|████████████████████████████████▋                                                                        | 308/991 [06:35<14:40,  1.29s/batch, batch_loss=41.4, batch_index=308, batch_size=256]"
     ]
    },
    {
     "name": "stderr",
     "output_type": "stream",
     "text": [
      "\r",
      "Epoch 1/10:  31%|███████████████████████████████▋                                                                      | 308/991 [06:36<14:40,  1.29s/batch, batch_loss=1.74e+4, batch_index=309, batch_size=256]"
     ]
    },
    {
     "name": "stderr",
     "output_type": "stream",
     "text": [
      "\r",
      "Epoch 1/10:  31%|███████████████████████████████▊                                                                      | 309/991 [06:36<14:39,  1.29s/batch, batch_loss=1.74e+4, batch_index=309, batch_size=256]"
     ]
    },
    {
     "name": "stderr",
     "output_type": "stream",
     "text": [
      "\r",
      "Epoch 1/10:  31%|████████████████████████████████▋                                                                        | 309/991 [06:37<14:39,  1.29s/batch, batch_loss=44.4, batch_index=310, batch_size=256]"
     ]
    },
    {
     "name": "stderr",
     "output_type": "stream",
     "text": [
      "\r",
      "Epoch 1/10:  31%|████████████████████████████████▊                                                                        | 310/991 [06:37<14:37,  1.29s/batch, batch_loss=44.4, batch_index=310, batch_size=256]"
     ]
    },
    {
     "name": "stderr",
     "output_type": "stream",
     "text": [
      "\r",
      "Epoch 1/10:  31%|████████████████████████████████▊                                                                        | 310/991 [06:38<14:37,  1.29s/batch, batch_loss=56.6, batch_index=311, batch_size=256]"
     ]
    },
    {
     "name": "stderr",
     "output_type": "stream",
     "text": [
      "\r",
      "Epoch 1/10:  31%|████████████████████████████████▉                                                                        | 311/991 [06:38<14:22,  1.27s/batch, batch_loss=56.6, batch_index=311, batch_size=256]"
     ]
    },
    {
     "name": "stderr",
     "output_type": "stream",
     "text": [
      "\r",
      "Epoch 1/10:  31%|█████████████████████████████████▎                                                                        | 311/991 [06:40<14:22,  1.27s/batch, batch_loss=884, batch_index=312, batch_size=256]"
     ]
    },
    {
     "name": "stderr",
     "output_type": "stream",
     "text": [
      "\r",
      "Epoch 1/10:  31%|█████████████████████████████████▎                                                                        | 312/991 [06:40<14:23,  1.27s/batch, batch_loss=884, batch_index=312, batch_size=256]"
     ]
    },
    {
     "name": "stderr",
     "output_type": "stream",
     "text": [
      "\r",
      "Epoch 1/10:  31%|█████████████████████████████████                                                                        | 312/991 [06:41<14:23,  1.27s/batch, batch_loss=31.5, batch_index=313, batch_size=256]"
     ]
    },
    {
     "name": "stderr",
     "output_type": "stream",
     "text": [
      "\r",
      "Epoch 1/10:  32%|█████████████████████████████████▏                                                                       | 313/991 [06:41<14:23,  1.27s/batch, batch_loss=31.5, batch_index=313, batch_size=256]"
     ]
    },
    {
     "name": "stderr",
     "output_type": "stream",
     "text": [
      "\r",
      "Epoch 1/10:  32%|█████████████████████████████████▏                                                                       | 313/991 [06:42<14:23,  1.27s/batch, batch_loss=26.8, batch_index=314, batch_size=256]"
     ]
    },
    {
     "name": "stderr",
     "output_type": "stream",
     "text": [
      "\r",
      "Epoch 1/10:  32%|█████████████████████████████████▎                                                                       | 314/991 [06:42<14:23,  1.27s/batch, batch_loss=26.8, batch_index=314, batch_size=256]"
     ]
    },
    {
     "name": "stderr",
     "output_type": "stream",
     "text": [
      "\r",
      "Epoch 1/10:  32%|█████████████████████████████████▎                                                                       | 314/991 [06:43<14:23,  1.27s/batch, batch_loss=18.4, batch_index=315, batch_size=256]"
     ]
    },
    {
     "name": "stderr",
     "output_type": "stream",
     "text": [
      "\r",
      "Epoch 1/10:  32%|█████████████████████████████████▍                                                                       | 315/991 [06:43<14:18,  1.27s/batch, batch_loss=18.4, batch_index=315, batch_size=256]"
     ]
    },
    {
     "name": "stderr",
     "output_type": "stream",
     "text": [
      "\r",
      "Epoch 1/10:  32%|████████████████████████████████▋                                                                      | 315/991 [06:45<14:18,  1.27s/batch, batch_loss=3.2e+3, batch_index=316, batch_size=256]"
     ]
    },
    {
     "name": "stderr",
     "output_type": "stream",
     "text": [
      "\r",
      "Epoch 1/10:  32%|████████████████████████████████▊                                                                      | 316/991 [06:45<14:25,  1.28s/batch, batch_loss=3.2e+3, batch_index=316, batch_size=256]"
     ]
    },
    {
     "name": "stderr",
     "output_type": "stream",
     "text": [
      "\r",
      "Epoch 1/10:  32%|████████████████████████████████▌                                                                     | 316/991 [06:46<14:25,  1.28s/batch, batch_loss=1.71e+3, batch_index=317, batch_size=256]"
     ]
    },
    {
     "name": "stderr",
     "output_type": "stream",
     "text": [
      "\r",
      "Epoch 1/10:  32%|████████████████████████████████▋                                                                     | 317/991 [06:46<14:24,  1.28s/batch, batch_loss=1.71e+3, batch_index=317, batch_size=256]"
     ]
    },
    {
     "name": "stderr",
     "output_type": "stream",
     "text": [
      "\r",
      "Epoch 1/10:  32%|██████████████████████████████████▏                                                                        | 317/991 [06:47<14:24,  1.28s/batch, batch_loss=23, batch_index=318, batch_size=256]"
     ]
    },
    {
     "name": "stderr",
     "output_type": "stream",
     "text": [
      "\r",
      "Epoch 1/10:  32%|██████████████████████████████████▎                                                                        | 318/991 [06:47<14:23,  1.28s/batch, batch_loss=23, batch_index=318, batch_size=256]"
     ]
    },
    {
     "name": "stderr",
     "output_type": "stream",
     "text": [
      "\r",
      "Epoch 1/10:  32%|████████████████████████████████▋                                                                     | 318/991 [06:49<14:23,  1.28s/batch, batch_loss=2.24e+3, batch_index=319, batch_size=256]"
     ]
    },
    {
     "name": "stderr",
     "output_type": "stream",
     "text": [
      "\r",
      "Epoch 1/10:  32%|████████████████████████████████▊                                                                     | 319/991 [06:49<14:22,  1.28s/batch, batch_loss=2.24e+3, batch_index=319, batch_size=256]"
     ]
    },
    {
     "name": "stderr",
     "output_type": "stream",
     "text": [
      "\r",
      "Epoch 1/10:  32%|██████████████████████████████████                                                                        | 319/991 [06:50<14:22,  1.28s/batch, batch_loss=594, batch_index=320, batch_size=256]"
     ]
    },
    {
     "name": "stderr",
     "output_type": "stream",
     "text": [
      "\r",
      "Epoch 1/10:  32%|██████████████████████████████████▏                                                                       | 320/991 [06:50<14:22,  1.29s/batch, batch_loss=594, batch_index=320, batch_size=256]"
     ]
    },
    {
     "name": "stderr",
     "output_type": "stream",
     "text": [
      "\r",
      "Epoch 1/10:  32%|█████████████████████████████████▎                                                                     | 320/991 [06:51<14:22,  1.29s/batch, batch_loss=4.3e+4, batch_index=321, batch_size=256]"
     ]
    },
    {
     "name": "stderr",
     "output_type": "stream",
     "text": [
      "\r",
      "Epoch 1/10:  32%|█████████████████████████████████▎                                                                     | 321/991 [06:51<14:24,  1.29s/batch, batch_loss=4.3e+4, batch_index=321, batch_size=256]"
     ]
    },
    {
     "name": "stderr",
     "output_type": "stream",
     "text": [
      "\r",
      "Epoch 1/10:  32%|██████████████████████████████████                                                                       | 321/991 [06:52<14:24,  1.29s/batch, batch_loss=56.9, batch_index=322, batch_size=256]"
     ]
    },
    {
     "name": "stderr",
     "output_type": "stream",
     "text": [
      "\r",
      "Epoch 1/10:  32%|██████████████████████████████████                                                                       | 322/991 [06:52<14:20,  1.29s/batch, batch_loss=56.9, batch_index=322, batch_size=256]"
     ]
    },
    {
     "name": "stderr",
     "output_type": "stream",
     "text": [
      "\r",
      "Epoch 1/10:  32%|██████████████████████████████████                                                                       | 322/991 [06:54<14:20,  1.29s/batch, batch_loss=64.9, batch_index=323, batch_size=256]"
     ]
    },
    {
     "name": "stderr",
     "output_type": "stream",
     "text": [
      "\r",
      "Epoch 1/10:  33%|██████████████████████████████████▏                                                                      | 323/991 [06:54<14:17,  1.28s/batch, batch_loss=64.9, batch_index=323, batch_size=256]"
     ]
    },
    {
     "name": "stderr",
     "output_type": "stream",
     "text": [
      "\r",
      "Epoch 1/10:  33%|██████████████████████████████████▏                                                                      | 323/991 [06:55<14:17,  1.28s/batch, batch_loss=41.6, batch_index=324, batch_size=256]"
     ]
    },
    {
     "name": "stderr",
     "output_type": "stream",
     "text": [
      "\r",
      "Epoch 1/10:  33%|██████████████████████████████████▎                                                                      | 324/991 [06:55<14:19,  1.29s/batch, batch_loss=41.6, batch_index=324, batch_size=256]"
     ]
    },
    {
     "name": "stderr",
     "output_type": "stream",
     "text": [
      "\r",
      "Epoch 1/10:  33%|█████████████████████████████████▎                                                                    | 324/991 [06:56<14:19,  1.29s/batch, batch_loss=1.58e+4, batch_index=325, batch_size=256]"
     ]
    },
    {
     "name": "stderr",
     "output_type": "stream",
     "text": [
      "\r",
      "Epoch 1/10:  33%|█████████████████████████████████▍                                                                    | 325/991 [06:56<14:17,  1.29s/batch, batch_loss=1.58e+4, batch_index=325, batch_size=256]"
     ]
    },
    {
     "name": "stderr",
     "output_type": "stream",
     "text": [
      "\r",
      "Epoch 1/10:  33%|██████████████████████████████████▍                                                                      | 325/991 [06:58<14:17,  1.29s/batch, batch_loss=18.9, batch_index=326, batch_size=256]"
     ]
    },
    {
     "name": "stderr",
     "output_type": "stream",
     "text": [
      "\r",
      "Epoch 1/10:  33%|██████████████████████████████████▌                                                                      | 326/991 [06:58<14:17,  1.29s/batch, batch_loss=18.9, batch_index=326, batch_size=256]"
     ]
    },
    {
     "name": "stderr",
     "output_type": "stream",
     "text": [
      "\r",
      "Epoch 1/10:  33%|█████████████████████████████████▌                                                                    | 326/991 [06:59<14:17,  1.29s/batch, batch_loss=1.69e+4, batch_index=327, batch_size=256]"
     ]
    },
    {
     "name": "stderr",
     "output_type": "stream",
     "text": [
      "\r",
      "Epoch 1/10:  33%|█████████████████████████████████▋                                                                    | 327/991 [06:59<14:17,  1.29s/batch, batch_loss=1.69e+4, batch_index=327, batch_size=256]"
     ]
    },
    {
     "name": "stderr",
     "output_type": "stream",
     "text": [
      "\r",
      "Epoch 1/10:  33%|█████████████████████████████████▉                                                                     | 327/991 [07:00<14:17,  1.29s/batch, batch_loss=3.3e+3, batch_index=328, batch_size=256]"
     ]
    },
    {
     "name": "stderr",
     "output_type": "stream",
     "text": [
      "\r",
      "Epoch 1/10:  33%|██████████████████████████████████                                                                     | 328/991 [07:00<14:13,  1.29s/batch, batch_loss=3.3e+3, batch_index=328, batch_size=256]"
     ]
    },
    {
     "name": "stderr",
     "output_type": "stream",
     "text": [
      "\r",
      "Epoch 1/10:  33%|███████████████████████████████████                                                                       | 328/991 [07:01<14:13,  1.29s/batch, batch_loss=224, batch_index=329, batch_size=256]"
     ]
    },
    {
     "name": "stderr",
     "output_type": "stream",
     "text": [
      "\r",
      "Epoch 1/10:  33%|███████████████████████████████████▏                                                                      | 329/991 [07:01<14:11,  1.29s/batch, batch_loss=224, batch_index=329, batch_size=256]"
     ]
    },
    {
     "name": "stderr",
     "output_type": "stream",
     "text": [
      "\r",
      "Epoch 1/10:  33%|███████████████████████████████████▏                                                                      | 329/991 [07:03<14:11,  1.29s/batch, batch_loss=820, batch_index=330, batch_size=256]"
     ]
    },
    {
     "name": "stderr",
     "output_type": "stream",
     "text": [
      "\r",
      "Epoch 1/10:  33%|███████████████████████████████████▎                                                                      | 330/991 [07:03<14:10,  1.29s/batch, batch_loss=820, batch_index=330, batch_size=256]"
     ]
    },
    {
     "name": "stderr",
     "output_type": "stream",
     "text": [
      "\r",
      "Epoch 1/10:  33%|█████████████████████████████████▉                                                                    | 330/991 [07:04<14:10,  1.29s/batch, batch_loss=4.53e+3, batch_index=331, batch_size=256]"
     ]
    },
    {
     "name": "stderr",
     "output_type": "stream",
     "text": [
      "\r",
      "Epoch 1/10:  33%|██████████████████████████████████                                                                    | 331/991 [07:04<14:11,  1.29s/batch, batch_loss=4.53e+3, batch_index=331, batch_size=256]"
     ]
    },
    {
     "name": "stderr",
     "output_type": "stream",
     "text": [
      "\r",
      "Epoch 1/10:  33%|██████████████████████████████████                                                                    | 331/991 [07:05<14:11,  1.29s/batch, batch_loss=1.03e+4, batch_index=332, batch_size=256]"
     ]
    },
    {
     "name": "stderr",
     "output_type": "stream",
     "text": [
      "\r",
      "Epoch 1/10:  34%|██████████████████████████████████▏                                                                   | 332/991 [07:05<14:09,  1.29s/batch, batch_loss=1.03e+4, batch_index=332, batch_size=256]"
     ]
    },
    {
     "name": "stderr",
     "output_type": "stream",
     "text": [
      "\r",
      "Epoch 1/10:  34%|███████████████████████████████████▏                                                                     | 332/991 [07:07<14:09,  1.29s/batch, batch_loss=36.4, batch_index=333, batch_size=256]"
     ]
    },
    {
     "name": "stderr",
     "output_type": "stream",
     "text": [
      "\r",
      "Epoch 1/10:  34%|███████████████████████████████████▎                                                                     | 333/991 [07:07<14:05,  1.29s/batch, batch_loss=36.4, batch_index=333, batch_size=256]"
     ]
    },
    {
     "name": "stderr",
     "output_type": "stream",
     "text": [
      "\r",
      "Epoch 1/10:  34%|███████████████████████████████████▎                                                                     | 333/991 [07:08<14:05,  1.29s/batch, batch_loss=46.1, batch_index=334, batch_size=256]"
     ]
    },
    {
     "name": "stderr",
     "output_type": "stream",
     "text": [
      "\r",
      "Epoch 1/10:  34%|███████████████████████████████████▍                                                                     | 334/991 [07:08<14:04,  1.29s/batch, batch_loss=46.1, batch_index=334, batch_size=256]"
     ]
    },
    {
     "name": "stderr",
     "output_type": "stream",
     "text": [
      "\r",
      "Epoch 1/10:  34%|███████████████████████████████████▍                                                                     | 334/991 [07:09<14:04,  1.29s/batch, batch_loss=23.7, batch_index=335, batch_size=256]"
     ]
    },
    {
     "name": "stderr",
     "output_type": "stream",
     "text": [
      "\r",
      "Epoch 1/10:  34%|███████████████████████████████████▍                                                                     | 335/991 [07:09<14:04,  1.29s/batch, batch_loss=23.7, batch_index=335, batch_size=256]"
     ]
    },
    {
     "name": "stderr",
     "output_type": "stream",
     "text": [
      "\r",
      "Epoch 1/10:  34%|███████████████████████████████████▍                                                                     | 335/991 [07:11<14:04,  1.29s/batch, batch_loss=47.2, batch_index=336, batch_size=256]"
     ]
    },
    {
     "name": "stderr",
     "output_type": "stream",
     "text": [
      "\r",
      "Epoch 1/10:  34%|███████████████████████████████████▌                                                                     | 336/991 [07:11<14:03,  1.29s/batch, batch_loss=47.2, batch_index=336, batch_size=256]"
     ]
    },
    {
     "name": "stderr",
     "output_type": "stream",
     "text": [
      "\r",
      "Epoch 1/10:  34%|██████████████████████████████████▌                                                                   | 336/991 [07:12<14:03,  1.29s/batch, batch_loss=7.48e+4, batch_index=337, batch_size=256]"
     ]
    },
    {
     "name": "stderr",
     "output_type": "stream",
     "text": [
      "\r",
      "Epoch 1/10:  34%|██████████████████████████████████▋                                                                   | 337/991 [07:12<14:01,  1.29s/batch, batch_loss=7.48e+4, batch_index=337, batch_size=256]"
     ]
    },
    {
     "name": "stderr",
     "output_type": "stream",
     "text": [
      "\r",
      "Epoch 1/10:  34%|████████████████████████████████████                                                                      | 337/991 [07:13<14:01,  1.29s/batch, batch_loss=193, batch_index=338, batch_size=256]"
     ]
    },
    {
     "name": "stderr",
     "output_type": "stream",
     "text": [
      "\r",
      "Epoch 1/10:  34%|████████████████████████████████████▏                                                                     | 338/991 [07:13<13:42,  1.26s/batch, batch_loss=193, batch_index=338, batch_size=256]"
     ]
    },
    {
     "name": "stderr",
     "output_type": "stream",
     "text": [
      "\r",
      "Epoch 1/10:  34%|███████████████████████████████████▊                                                                     | 338/991 [07:14<13:42,  1.26s/batch, batch_loss=31.2, batch_index=339, batch_size=256]"
     ]
    },
    {
     "name": "stderr",
     "output_type": "stream",
     "text": [
      "\r",
      "Epoch 1/10:  34%|███████████████████████████████████▉                                                                     | 339/991 [07:14<13:49,  1.27s/batch, batch_loss=31.2, batch_index=339, batch_size=256]"
     ]
    },
    {
     "name": "stderr",
     "output_type": "stream",
     "text": [
      "\r",
      "Epoch 1/10:  34%|████████████████████████████████████▎                                                                     | 339/991 [07:16<13:49,  1.27s/batch, batch_loss=853, batch_index=340, batch_size=256]"
     ]
    },
    {
     "name": "stderr",
     "output_type": "stream",
     "text": [
      "\r",
      "Epoch 1/10:  34%|████████████████████████████████████▎                                                                     | 340/991 [07:16<13:50,  1.28s/batch, batch_loss=853, batch_index=340, batch_size=256]"
     ]
    },
    {
     "name": "stderr",
     "output_type": "stream",
     "text": [
      "\r",
      "Epoch 1/10:  34%|████████████████████████████████████                                                                     | 340/991 [07:17<13:50,  1.28s/batch, batch_loss=28.8, batch_index=341, batch_size=256]"
     ]
    },
    {
     "name": "stderr",
     "output_type": "stream",
     "text": [
      "\r",
      "Epoch 1/10:  34%|████████████████████████████████████▏                                                                    | 341/991 [07:17<13:52,  1.28s/batch, batch_loss=28.8, batch_index=341, batch_size=256]"
     ]
    },
    {
     "name": "stderr",
     "output_type": "stream",
     "text": [
      "\r",
      "Epoch 1/10:  34%|████████████████████████████████████▍                                                                     | 341/991 [07:18<13:52,  1.28s/batch, batch_loss=422, batch_index=342, batch_size=256]"
     ]
    },
    {
     "name": "stderr",
     "output_type": "stream",
     "text": [
      "\r",
      "Epoch 1/10:  35%|████████████████████████████████████▌                                                                     | 342/991 [07:18<13:52,  1.28s/batch, batch_loss=422, batch_index=342, batch_size=256]"
     ]
    },
    {
     "name": "stderr",
     "output_type": "stream",
     "text": [
      "\r",
      "Epoch 1/10:  35%|████████████████████████████████████▏                                                                    | 342/991 [07:19<13:52,  1.28s/batch, batch_loss=20.4, batch_index=343, batch_size=256]"
     ]
    },
    {
     "name": "stderr",
     "output_type": "stream",
     "text": [
      "\r",
      "Epoch 1/10:  35%|████████████████████████████████████▎                                                                    | 343/991 [07:19<13:52,  1.28s/batch, batch_loss=20.4, batch_index=343, batch_size=256]"
     ]
    },
    {
     "name": "stderr",
     "output_type": "stream",
     "text": [
      "\r",
      "Epoch 1/10:  35%|███████████████████████████████████▎                                                                  | 343/991 [07:21<13:52,  1.28s/batch, batch_loss=7.18e+3, batch_index=344, batch_size=256]"
     ]
    },
    {
     "name": "stderr",
     "output_type": "stream",
     "text": [
      "\r",
      "Epoch 1/10:  35%|███████████████████████████████████▍                                                                  | 344/991 [07:21<13:51,  1.29s/batch, batch_loss=7.18e+3, batch_index=344, batch_size=256]"
     ]
    },
    {
     "name": "stderr",
     "output_type": "stream",
     "text": [
      "\r",
      "Epoch 1/10:  35%|███████████████████████████████████▍                                                                  | 344/991 [07:22<13:51,  1.29s/batch, batch_loss=1.11e+3, batch_index=345, batch_size=256]"
     ]
    },
    {
     "name": "stderr",
     "output_type": "stream",
     "text": [
      "\r",
      "Epoch 1/10:  35%|███████████████████████████████████▌                                                                  | 345/991 [07:22<13:31,  1.26s/batch, batch_loss=1.11e+3, batch_index=345, batch_size=256]"
     ]
    },
    {
     "name": "stderr",
     "output_type": "stream",
     "text": [
      "\r",
      "Epoch 1/10:  35%|████████████████████████████████████▌                                                                    | 345/991 [07:23<13:31,  1.26s/batch, batch_loss=60.2, batch_index=346, batch_size=256]"
     ]
    },
    {
     "name": "stderr",
     "output_type": "stream",
     "text": [
      "\r",
      "Epoch 1/10:  35%|████████████████████████████████████▋                                                                    | 346/991 [07:23<13:34,  1.26s/batch, batch_loss=60.2, batch_index=346, batch_size=256]"
     ]
    },
    {
     "name": "stderr",
     "output_type": "stream",
     "text": [
      "\r",
      "Epoch 1/10:  35%|████████████████████████████████████▋                                                                    | 346/991 [07:24<13:34,  1.26s/batch, batch_loss=78.5, batch_index=347, batch_size=256]"
     ]
    },
    {
     "name": "stderr",
     "output_type": "stream",
     "text": [
      "\r",
      "Epoch 1/10:  35%|████████████████████████████████████▊                                                                    | 347/991 [07:24<13:39,  1.27s/batch, batch_loss=78.5, batch_index=347, batch_size=256]"
     ]
    },
    {
     "name": "stderr",
     "output_type": "stream",
     "text": [
      "\r",
      "Epoch 1/10:  35%|████████████████████████████████████▊                                                                    | 347/991 [07:26<13:39,  1.27s/batch, batch_loss=48.3, batch_index=348, batch_size=256]"
     ]
    },
    {
     "name": "stderr",
     "output_type": "stream",
     "text": [
      "\r",
      "Epoch 1/10:  35%|████████████████████████████████████▊                                                                    | 348/991 [07:26<13:40,  1.28s/batch, batch_loss=48.3, batch_index=348, batch_size=256]"
     ]
    },
    {
     "name": "stderr",
     "output_type": "stream",
     "text": [
      "\r",
      "Epoch 1/10:  35%|████████████████████████████████████▊                                                                    | 348/991 [07:27<13:40,  1.28s/batch, batch_loss=59.6, batch_index=349, batch_size=256]"
     ]
    },
    {
     "name": "stderr",
     "output_type": "stream",
     "text": [
      "\r",
      "Epoch 1/10:  35%|████████████████████████████████████▉                                                                    | 349/991 [07:27<13:41,  1.28s/batch, batch_loss=59.6, batch_index=349, batch_size=256]"
     ]
    },
    {
     "name": "stderr",
     "output_type": "stream",
     "text": [
      "\r",
      "Epoch 1/10:  35%|███████████████████████████████████▉                                                                  | 349/991 [07:28<13:41,  1.28s/batch, batch_loss=3.59e+3, batch_index=350, batch_size=256]"
     ]
    },
    {
     "name": "stderr",
     "output_type": "stream",
     "text": [
      "\r",
      "Epoch 1/10:  35%|████████████████████████████████████                                                                  | 350/991 [07:28<13:42,  1.28s/batch, batch_loss=3.59e+3, batch_index=350, batch_size=256]"
     ]
    },
    {
     "name": "stderr",
     "output_type": "stream",
     "text": [
      "\r",
      "Epoch 1/10:  35%|████████████████████████████████████                                                                  | 350/991 [07:30<13:42,  1.28s/batch, batch_loss=6.31e+3, batch_index=351, batch_size=256]"
     ]
    },
    {
     "name": "stderr",
     "output_type": "stream",
     "text": [
      "\r",
      "Epoch 1/10:  35%|████████████████████████████████████▏                                                                 | 351/991 [07:30<13:44,  1.29s/batch, batch_loss=6.31e+3, batch_index=351, batch_size=256]"
     ]
    },
    {
     "name": "stderr",
     "output_type": "stream",
     "text": [
      "\r",
      "Epoch 1/10:  35%|█████████████████████████████████████▏                                                                   | 351/991 [07:31<13:44,  1.29s/batch, batch_loss=13.5, batch_index=352, batch_size=256]"
     ]
    },
    {
     "name": "stderr",
     "output_type": "stream",
     "text": [
      "\r",
      "Epoch 1/10:  36%|█████████████████████████████████████▎                                                                   | 352/991 [07:31<13:43,  1.29s/batch, batch_loss=13.5, batch_index=352, batch_size=256]"
     ]
    },
    {
     "name": "stderr",
     "output_type": "stream",
     "text": [
      "\r",
      "Epoch 1/10:  36%|████████████████████████████████████▏                                                                 | 352/991 [07:32<13:43,  1.29s/batch, batch_loss=8.23e+3, batch_index=353, batch_size=256]"
     ]
    },
    {
     "name": "stderr",
     "output_type": "stream",
     "text": [
      "\r",
      "Epoch 1/10:  36%|████████████████████████████████████▎                                                                 | 353/991 [07:32<13:42,  1.29s/batch, batch_loss=8.23e+3, batch_index=353, batch_size=256]"
     ]
    },
    {
     "name": "stderr",
     "output_type": "stream",
     "text": [
      "\r",
      "Epoch 1/10:  36%|████████████████████████████████████▎                                                                 | 353/991 [07:34<13:42,  1.29s/batch, batch_loss=1.22e+4, batch_index=354, batch_size=256]"
     ]
    },
    {
     "name": "stderr",
     "output_type": "stream",
     "text": [
      "\r",
      "Epoch 1/10:  36%|████████████████████████████████████▍                                                                 | 354/991 [07:34<13:42,  1.29s/batch, batch_loss=1.22e+4, batch_index=354, batch_size=256]"
     ]
    },
    {
     "name": "stderr",
     "output_type": "stream",
     "text": [
      "\r",
      "Epoch 1/10:  36%|████████████████████████████████████▍                                                                 | 354/991 [07:35<13:42,  1.29s/batch, batch_loss=7.06e+3, batch_index=355, batch_size=256]"
     ]
    },
    {
     "name": "stderr",
     "output_type": "stream",
     "text": [
      "\r",
      "Epoch 1/10:  36%|████████████████████████████████████▌                                                                 | 355/991 [07:35<13:42,  1.29s/batch, batch_loss=7.06e+3, batch_index=355, batch_size=256]"
     ]
    },
    {
     "name": "stderr",
     "output_type": "stream",
     "text": [
      "\r",
      "Epoch 1/10:  36%|█████████████████████████████████████▌                                                                   | 355/991 [07:36<13:42,  1.29s/batch, batch_loss=37.1, batch_index=356, batch_size=256]"
     ]
    },
    {
     "name": "stderr",
     "output_type": "stream",
     "text": [
      "\r",
      "Epoch 1/10:  36%|█████████████████████████████████████▋                                                                   | 356/991 [07:36<13:37,  1.29s/batch, batch_loss=37.1, batch_index=356, batch_size=256]"
     ]
    },
    {
     "name": "stderr",
     "output_type": "stream",
     "text": [
      "\r",
      "Epoch 1/10:  36%|████████████████████████████████████▋                                                                 | 356/991 [07:37<13:37,  1.29s/batch, batch_loss=1.18e+4, batch_index=357, batch_size=256]"
     ]
    },
    {
     "name": "stderr",
     "output_type": "stream",
     "text": [
      "\r",
      "Epoch 1/10:  36%|████████████████████████████████████▋                                                                 | 357/991 [07:37<13:38,  1.29s/batch, batch_loss=1.18e+4, batch_index=357, batch_size=256]"
     ]
    },
    {
     "name": "stderr",
     "output_type": "stream",
     "text": [
      "\r",
      "Epoch 1/10:  36%|██████████████████████████████████████▏                                                                   | 357/991 [07:39<13:38,  1.29s/batch, batch_loss=174, batch_index=358, batch_size=256]"
     ]
    },
    {
     "name": "stderr",
     "output_type": "stream",
     "text": [
      "\r",
      "Epoch 1/10:  36%|██████████████████████████████████████▎                                                                   | 358/991 [07:39<13:38,  1.29s/batch, batch_loss=174, batch_index=358, batch_size=256]"
     ]
    },
    {
     "name": "stderr",
     "output_type": "stream",
     "text": [
      "\r",
      "Epoch 1/10:  36%|████████████████████████████████████▊                                                                 | 358/991 [07:40<13:38,  1.29s/batch, batch_loss=2.02e+3, batch_index=359, batch_size=256]"
     ]
    },
    {
     "name": "stderr",
     "output_type": "stream",
     "text": [
      "\r",
      "Epoch 1/10:  36%|████████████████████████████████████▉                                                                 | 359/991 [07:40<13:38,  1.30s/batch, batch_loss=2.02e+3, batch_index=359, batch_size=256]"
     ]
    },
    {
     "name": "stderr",
     "output_type": "stream",
     "text": [
      "\r",
      "Epoch 1/10:  36%|██████████████████████████████████████                                                                   | 359/991 [07:41<13:38,  1.30s/batch, batch_loss=29.2, batch_index=360, batch_size=256]"
     ]
    },
    {
     "name": "stderr",
     "output_type": "stream",
     "text": [
      "\r",
      "Epoch 1/10:  36%|██████████████████████████████████████▏                                                                  | 360/991 [07:41<13:38,  1.30s/batch, batch_loss=29.2, batch_index=360, batch_size=256]"
     ]
    },
    {
     "name": "stderr",
     "output_type": "stream",
     "text": [
      "\r",
      "Epoch 1/10:  36%|██████████████████████████████████████▊                                                                    | 360/991 [07:43<13:38,  1.30s/batch, batch_loss=49, batch_index=361, batch_size=256]"
     ]
    },
    {
     "name": "stderr",
     "output_type": "stream",
     "text": [
      "\r",
      "Epoch 1/10:  36%|██████████████████████████████████████▉                                                                    | 361/991 [07:43<13:32,  1.29s/batch, batch_loss=49, batch_index=361, batch_size=256]"
     ]
    },
    {
     "name": "stderr",
     "output_type": "stream",
     "text": [
      "\r",
      "Epoch 1/10:  36%|██████████████████████████████████████▌                                                                   | 361/991 [07:44<13:32,  1.29s/batch, batch_loss=914, batch_index=362, batch_size=256]"
     ]
    },
    {
     "name": "stderr",
     "output_type": "stream",
     "text": [
      "\r",
      "Epoch 1/10:  37%|██████████████████████████████████████▋                                                                   | 362/991 [07:44<13:32,  1.29s/batch, batch_loss=914, batch_index=362, batch_size=256]"
     ]
    },
    {
     "name": "stderr",
     "output_type": "stream",
     "text": [
      "\r",
      "Epoch 1/10:  37%|█████████████████████████████████████▎                                                                | 362/991 [07:45<13:32,  1.29s/batch, batch_loss=3.65e+3, batch_index=363, batch_size=256]"
     ]
    },
    {
     "name": "stderr",
     "output_type": "stream",
     "text": [
      "\r",
      "Epoch 1/10:  37%|█████████████████████████████████████▎                                                                | 363/991 [07:45<13:28,  1.29s/batch, batch_loss=3.65e+3, batch_index=363, batch_size=256]"
     ]
    },
    {
     "name": "stderr",
     "output_type": "stream",
     "text": [
      "\r",
      "Epoch 1/10:  37%|██████████████████████████████████████▍                                                                  | 363/991 [07:46<13:28,  1.29s/batch, batch_loss=26.6, batch_index=364, batch_size=256]"
     ]
    },
    {
     "name": "stderr",
     "output_type": "stream",
     "text": [
      "\r",
      "Epoch 1/10:  37%|██████████████████████████████████████▌                                                                  | 364/991 [07:46<13:27,  1.29s/batch, batch_loss=26.6, batch_index=364, batch_size=256]"
     ]
    },
    {
     "name": "stderr",
     "output_type": "stream",
     "text": [
      "\r",
      "Epoch 1/10:  37%|██████████████████████████████████████▌                                                                  | 364/991 [07:48<13:27,  1.29s/batch, batch_loss=24.8, batch_index=365, batch_size=256]"
     ]
    },
    {
     "name": "stderr",
     "output_type": "stream",
     "text": [
      "\r",
      "Epoch 1/10:  37%|██████████████████████████████████████▋                                                                  | 365/991 [07:48<13:08,  1.26s/batch, batch_loss=24.8, batch_index=365, batch_size=256]"
     ]
    },
    {
     "name": "stderr",
     "output_type": "stream",
     "text": [
      "\r",
      "Epoch 1/10:  37%|██████████████████████████████████████▋                                                                  | 365/991 [07:49<13:08,  1.26s/batch, batch_loss=14.5, batch_index=366, batch_size=256]"
     ]
    },
    {
     "name": "stderr",
     "output_type": "stream",
     "text": [
      "\r",
      "Epoch 1/10:  37%|██████████████████████████████████████▊                                                                  | 366/991 [07:49<13:09,  1.26s/batch, batch_loss=14.5, batch_index=366, batch_size=256]"
     ]
    },
    {
     "name": "stderr",
     "output_type": "stream",
     "text": [
      "\r",
      "Epoch 1/10:  37%|██████████████████████████████████████▊                                                                  | 366/991 [07:50<13:09,  1.26s/batch, batch_loss=29.9, batch_index=367, batch_size=256]"
     ]
    },
    {
     "name": "stderr",
     "output_type": "stream",
     "text": [
      "\r",
      "Epoch 1/10:  37%|██████████████████████████████████████▉                                                                  | 367/991 [07:50<13:10,  1.27s/batch, batch_loss=29.9, batch_index=367, batch_size=256]"
     ]
    },
    {
     "name": "stderr",
     "output_type": "stream",
     "text": [
      "\r",
      "Epoch 1/10:  37%|██████████████████████████████████████▉                                                                  | 367/991 [07:51<13:10,  1.27s/batch, batch_loss=36.7, batch_index=368, batch_size=256]"
     ]
    },
    {
     "name": "stderr",
     "output_type": "stream",
     "text": [
      "\r",
      "Epoch 1/10:  37%|██████████████████████████████████████▉                                                                  | 368/991 [07:51<13:10,  1.27s/batch, batch_loss=36.7, batch_index=368, batch_size=256]"
     ]
    },
    {
     "name": "stderr",
     "output_type": "stream",
     "text": [
      "\r",
      "Epoch 1/10:  37%|██████████████████████████████████████▉                                                                  | 368/991 [07:53<13:10,  1.27s/batch, batch_loss=25.7, batch_index=369, batch_size=256]"
     ]
    },
    {
     "name": "stderr",
     "output_type": "stream",
     "text": [
      "\r",
      "Epoch 1/10:  37%|███████████████████████████████████████                                                                  | 369/991 [07:53<13:12,  1.27s/batch, batch_loss=25.7, batch_index=369, batch_size=256]"
     ]
    },
    {
     "name": "stderr",
     "output_type": "stream",
     "text": [
      "\r",
      "Epoch 1/10:  37%|███████████████████████████████████████                                                                  | 369/991 [07:54<13:12,  1.27s/batch, batch_loss=74.8, batch_index=370, batch_size=256]"
     ]
    },
    {
     "name": "stderr",
     "output_type": "stream",
     "text": [
      "\r",
      "Epoch 1/10:  37%|███████████████████████████████████████▏                                                                 | 370/991 [07:54<13:12,  1.28s/batch, batch_loss=74.8, batch_index=370, batch_size=256]"
     ]
    },
    {
     "name": "stderr",
     "output_type": "stream",
     "text": [
      "\r",
      "Epoch 1/10:  37%|███████████████████████████████████████▏                                                                 | 370/991 [07:55<13:12,  1.28s/batch, batch_loss=35.8, batch_index=371, batch_size=256]"
     ]
    },
    {
     "name": "stderr",
     "output_type": "stream",
     "text": [
      "\r",
      "Epoch 1/10:  37%|███████████████████████████████████████▎                                                                 | 371/991 [07:55<13:12,  1.28s/batch, batch_loss=35.8, batch_index=371, batch_size=256]"
     ]
    },
    {
     "name": "stderr",
     "output_type": "stream",
     "text": [
      "\r",
      "Epoch 1/10:  37%|███████████████████████████████████████▎                                                                 | 371/991 [07:57<13:12,  1.28s/batch, batch_loss=42.2, batch_index=372, batch_size=256]"
     ]
    },
    {
     "name": "stderr",
     "output_type": "stream",
     "text": [
      "\r",
      "Epoch 1/10:  38%|███████████████████████████████████████▍                                                                 | 372/991 [07:57<13:15,  1.28s/batch, batch_loss=42.2, batch_index=372, batch_size=256]"
     ]
    },
    {
     "name": "stderr",
     "output_type": "stream",
     "text": [
      "\r",
      "Epoch 1/10:  38%|███████████████████████████████████████▍                                                                 | 372/991 [07:58<13:15,  1.28s/batch, batch_loss=26.3, batch_index=373, batch_size=256]"
     ]
    },
    {
     "name": "stderr",
     "output_type": "stream",
     "text": [
      "\r",
      "Epoch 1/10:  38%|███████████████████████████████████████▌                                                                 | 373/991 [07:58<13:15,  1.29s/batch, batch_loss=26.3, batch_index=373, batch_size=256]"
     ]
    },
    {
     "name": "stderr",
     "output_type": "stream",
     "text": [
      "\r",
      "Epoch 1/10:  38%|██████████████████████████████████████▍                                                               | 373/991 [07:59<13:15,  1.29s/batch, batch_loss=6.32e+3, batch_index=374, batch_size=256]"
     ]
    },
    {
     "name": "stderr",
     "output_type": "stream",
     "text": [
      "\r",
      "Epoch 1/10:  38%|██████████████████████████████████████▍                                                               | 374/991 [07:59<13:13,  1.29s/batch, batch_loss=6.32e+3, batch_index=374, batch_size=256]"
     ]
    },
    {
     "name": "stderr",
     "output_type": "stream",
     "text": [
      "\r",
      "Epoch 1/10:  38%|████████████████████████████████████████                                                                  | 374/991 [08:00<13:13,  1.29s/batch, batch_loss=749, batch_index=375, batch_size=256]"
     ]
    },
    {
     "name": "stderr",
     "output_type": "stream",
     "text": [
      "\r",
      "Epoch 1/10:  38%|████████████████████████████████████████                                                                  | 375/991 [08:00<13:09,  1.28s/batch, batch_loss=749, batch_index=375, batch_size=256]"
     ]
    },
    {
     "name": "stderr",
     "output_type": "stream",
     "text": [
      "\r",
      "Epoch 1/10:  38%|██████████████████████████████████████▌                                                               | 375/991 [08:02<13:09,  1.28s/batch, batch_loss=2.52e+4, batch_index=376, batch_size=256]"
     ]
    },
    {
     "name": "stderr",
     "output_type": "stream",
     "text": [
      "\r",
      "Epoch 1/10:  38%|██████████████████████████████████████▋                                                               | 376/991 [08:02<13:08,  1.28s/batch, batch_loss=2.52e+4, batch_index=376, batch_size=256]"
     ]
    },
    {
     "name": "stderr",
     "output_type": "stream",
     "text": [
      "\r",
      "Epoch 1/10:  38%|███████████████████████████████████████▊                                                                 | 376/991 [08:03<13:08,  1.28s/batch, batch_loss=51.2, batch_index=377, batch_size=256]"
     ]
    },
    {
     "name": "stderr",
     "output_type": "stream",
     "text": [
      "\r",
      "Epoch 1/10:  38%|███████████████████████████████████████▉                                                                 | 377/991 [08:03<13:07,  1.28s/batch, batch_loss=51.2, batch_index=377, batch_size=256]"
     ]
    },
    {
     "name": "stderr",
     "output_type": "stream",
     "text": [
      "\r",
      "Epoch 1/10:  38%|██████████████████████████████████████▊                                                               | 377/991 [08:04<13:07,  1.28s/batch, batch_loss=2.14e+4, batch_index=378, batch_size=256]"
     ]
    },
    {
     "name": "stderr",
     "output_type": "stream",
     "text": [
      "\r",
      "Epoch 1/10:  38%|██████████████████████████████████████▉                                                               | 378/991 [08:04<13:08,  1.29s/batch, batch_loss=2.14e+4, batch_index=378, batch_size=256]"
     ]
    },
    {
     "name": "stderr",
     "output_type": "stream",
     "text": [
      "\r",
      "Epoch 1/10:  38%|██████████████████████████████████████▉                                                               | 378/991 [08:06<13:08,  1.29s/batch, batch_loss=2.04e+3, batch_index=379, batch_size=256]"
     ]
    },
    {
     "name": "stderr",
     "output_type": "stream",
     "text": [
      "\r",
      "Epoch 1/10:  38%|███████████████████████████████████████                                                               | 379/991 [08:06<13:03,  1.28s/batch, batch_loss=2.04e+3, batch_index=379, batch_size=256]"
     ]
    },
    {
     "name": "stderr",
     "output_type": "stream",
     "text": [
      "\r",
      "Epoch 1/10:  38%|████████████████████████████████████████▉                                                                  | 379/991 [08:07<13:03,  1.28s/batch, batch_loss=42, batch_index=380, batch_size=256]"
     ]
    },
    {
     "name": "stderr",
     "output_type": "stream",
     "text": [
      "\r",
      "Epoch 1/10:  38%|█████████████████████████████████████████                                                                  | 380/991 [08:07<13:03,  1.28s/batch, batch_loss=42, batch_index=380, batch_size=256]"
     ]
    },
    {
     "name": "stderr",
     "output_type": "stream",
     "text": [
      "\r",
      "Epoch 1/10:  38%|███████████████████████████████████████                                                               | 380/991 [08:08<13:03,  1.28s/batch, batch_loss=2.71e+3, batch_index=381, batch_size=256]"
     ]
    },
    {
     "name": "stderr",
     "output_type": "stream",
     "text": [
      "\r",
      "Epoch 1/10:  38%|███████████████████████████████████████▏                                                              | 381/991 [08:08<13:02,  1.28s/batch, batch_loss=2.71e+3, batch_index=381, batch_size=256]"
     ]
    },
    {
     "name": "stderr",
     "output_type": "stream",
     "text": [
      "\r",
      "Epoch 1/10:  38%|████████████████████████████████████████▎                                                                | 381/991 [08:09<13:02,  1.28s/batch, batch_loss=49.3, batch_index=382, batch_size=256]"
     ]
    },
    {
     "name": "stderr",
     "output_type": "stream",
     "text": [
      "\r",
      "Epoch 1/10:  39%|████████████████████████████████████████▍                                                                | 382/991 [08:09<13:03,  1.29s/batch, batch_loss=49.3, batch_index=382, batch_size=256]"
     ]
    },
    {
     "name": "stderr",
     "output_type": "stream",
     "text": [
      "\r",
      "Epoch 1/10:  39%|████████████████████████████████████████▊                                                                 | 382/991 [08:11<13:03,  1.29s/batch, batch_loss=325, batch_index=383, batch_size=256]"
     ]
    },
    {
     "name": "stderr",
     "output_type": "stream",
     "text": [
      "\r",
      "Epoch 1/10:  39%|████████████████████████████████████████▉                                                                 | 383/991 [08:11<13:02,  1.29s/batch, batch_loss=325, batch_index=383, batch_size=256]"
     ]
    },
    {
     "name": "stderr",
     "output_type": "stream",
     "text": [
      "\r",
      "Epoch 1/10:  39%|████████████████████████████████████████▌                                                                | 383/991 [08:12<13:02,  1.29s/batch, batch_loss=45.7, batch_index=384, batch_size=256]"
     ]
    },
    {
     "name": "stderr",
     "output_type": "stream",
     "text": [
      "\r",
      "Epoch 1/10:  39%|████████████████████████████████████████▋                                                                | 384/991 [08:12<13:01,  1.29s/batch, batch_loss=45.7, batch_index=384, batch_size=256]"
     ]
    },
    {
     "name": "stderr",
     "output_type": "stream",
     "text": [
      "\r",
      "Epoch 1/10:  39%|████████████████████████████████████████▋                                                                | 384/991 [08:13<13:01,  1.29s/batch, batch_loss=30.2, batch_index=385, batch_size=256]"
     ]
    },
    {
     "name": "stderr",
     "output_type": "stream",
     "text": [
      "\r",
      "Epoch 1/10:  39%|████████████████████████████████████████▊                                                                | 385/991 [08:13<13:00,  1.29s/batch, batch_loss=30.2, batch_index=385, batch_size=256]"
     ]
    },
    {
     "name": "stderr",
     "output_type": "stream",
     "text": [
      "\r",
      "Epoch 1/10:  39%|████████████████████████████████████████▊                                                                | 385/991 [08:15<13:00,  1.29s/batch, batch_loss=40.8, batch_index=386, batch_size=256]"
     ]
    },
    {
     "name": "stderr",
     "output_type": "stream",
     "text": [
      "\r",
      "Epoch 1/10:  39%|████████████████████████████████████████▉                                                                | 386/991 [08:15<12:59,  1.29s/batch, batch_loss=40.8, batch_index=386, batch_size=256]"
     ]
    },
    {
     "name": "stderr",
     "output_type": "stream",
     "text": [
      "\r",
      "Epoch 1/10:  39%|████████████████████████████████████████▉                                                                | 386/991 [08:16<12:59,  1.29s/batch, batch_loss=21.7, batch_index=387, batch_size=256]"
     ]
    },
    {
     "name": "stderr",
     "output_type": "stream",
     "text": [
      "\r",
      "Epoch 1/10:  39%|█████████████████████████████████████████                                                                | 387/991 [08:16<12:57,  1.29s/batch, batch_loss=21.7, batch_index=387, batch_size=256]"
     ]
    },
    {
     "name": "stderr",
     "output_type": "stream",
     "text": [
      "\r",
      "Epoch 1/10:  39%|███████████████████████████████████████▊                                                              | 387/991 [08:17<12:57,  1.29s/batch, batch_loss=1.58e+4, batch_index=388, batch_size=256]"
     ]
    },
    {
     "name": "stderr",
     "output_type": "stream",
     "text": [
      "\r",
      "Epoch 1/10:  39%|███████████████████████████████████████▉                                                              | 388/991 [08:17<12:57,  1.29s/batch, batch_loss=1.58e+4, batch_index=388, batch_size=256]"
     ]
    },
    {
     "name": "stderr",
     "output_type": "stream",
     "text": [
      "\r",
      "Epoch 1/10:  39%|█████████████████████████████████████████▌                                                                | 388/991 [08:18<12:57,  1.29s/batch, batch_loss=526, batch_index=389, batch_size=256]"
     ]
    },
    {
     "name": "stderr",
     "output_type": "stream",
     "text": [
      "\r",
      "Epoch 1/10:  39%|█████████████████████████████████████████▌                                                                | 389/991 [08:18<12:55,  1.29s/batch, batch_loss=526, batch_index=389, batch_size=256]"
     ]
    },
    {
     "name": "stderr",
     "output_type": "stream",
     "text": [
      "\r",
      "Epoch 1/10:  39%|█████████████████████████████████████████▏                                                               | 389/991 [08:20<12:55,  1.29s/batch, batch_loss=46.8, batch_index=390, batch_size=256]"
     ]
    },
    {
     "name": "stderr",
     "output_type": "stream",
     "text": [
      "\r",
      "Epoch 1/10:  39%|█████████████████████████████████████████▎                                                               | 390/991 [08:20<12:55,  1.29s/batch, batch_loss=46.8, batch_index=390, batch_size=256]"
     ]
    },
    {
     "name": "stderr",
     "output_type": "stream",
     "text": [
      "\r",
      "Epoch 1/10:  39%|█████████████████████████████████████████▎                                                               | 390/991 [08:21<12:55,  1.29s/batch, batch_loss=27.5, batch_index=391, batch_size=256]"
     ]
    },
    {
     "name": "stderr",
     "output_type": "stream",
     "text": [
      "\r",
      "Epoch 1/10:  39%|█████████████████████████████████████████▍                                                               | 391/991 [08:21<12:52,  1.29s/batch, batch_loss=27.5, batch_index=391, batch_size=256]"
     ]
    },
    {
     "name": "stderr",
     "output_type": "stream",
     "text": [
      "\r",
      "Epoch 1/10:  39%|████████████████████████████████████████▏                                                             | 391/991 [08:22<12:52,  1.29s/batch, batch_loss=3.49e+3, batch_index=392, batch_size=256]"
     ]
    },
    {
     "name": "stderr",
     "output_type": "stream",
     "text": [
      "\r",
      "Epoch 1/10:  40%|████████████████████████████████████████▎                                                             | 392/991 [08:22<12:46,  1.28s/batch, batch_loss=3.49e+3, batch_index=392, batch_size=256]"
     ]
    },
    {
     "name": "stderr",
     "output_type": "stream",
     "text": [
      "\r",
      "Epoch 1/10:  40%|█████████████████████████████████████████▌                                                               | 392/991 [08:23<12:46,  1.28s/batch, batch_loss=30.1, batch_index=393, batch_size=256]"
     ]
    },
    {
     "name": "stderr",
     "output_type": "stream",
     "text": [
      "\r",
      "Epoch 1/10:  40%|█████████████████████████████████████████▋                                                               | 393/991 [08:23<12:24,  1.25s/batch, batch_loss=30.1, batch_index=393, batch_size=256]"
     ]
    },
    {
     "name": "stderr",
     "output_type": "stream",
     "text": [
      "\r",
      "Epoch 1/10:  40%|█████████████████████████████████████████▋                                                               | 393/991 [08:25<12:24,  1.25s/batch, batch_loss=34.9, batch_index=394, batch_size=256]"
     ]
    },
    {
     "name": "stderr",
     "output_type": "stream",
     "text": [
      "\r",
      "Epoch 1/10:  40%|█████████████████████████████████████████▋                                                               | 394/991 [08:25<12:30,  1.26s/batch, batch_loss=34.9, batch_index=394, batch_size=256]"
     ]
    },
    {
     "name": "stderr",
     "output_type": "stream",
     "text": [
      "\r",
      "Epoch 1/10:  40%|█████████████████████████████████████████▋                                                               | 394/991 [08:26<12:30,  1.26s/batch, batch_loss=39.1, batch_index=395, batch_size=256]"
     ]
    },
    {
     "name": "stderr",
     "output_type": "stream",
     "text": [
      "\r",
      "Epoch 1/10:  40%|█████████████████████████████████████████▊                                                               | 395/991 [08:26<12:34,  1.27s/batch, batch_loss=39.1, batch_index=395, batch_size=256]"
     ]
    },
    {
     "name": "stderr",
     "output_type": "stream",
     "text": [
      "\r",
      "Epoch 1/10:  40%|█████████████████████████████████████████▊                                                               | 395/991 [08:27<12:34,  1.27s/batch, batch_loss=21.5, batch_index=396, batch_size=256]"
     ]
    },
    {
     "name": "stderr",
     "output_type": "stream",
     "text": [
      "\r",
      "Epoch 1/10:  40%|█████████████████████████████████████████▉                                                               | 396/991 [08:27<12:37,  1.27s/batch, batch_loss=21.5, batch_index=396, batch_size=256]"
     ]
    },
    {
     "name": "stderr",
     "output_type": "stream",
     "text": [
      "\r",
      "Epoch 1/10:  40%|██████████████████████████████████████████▎                                                               | 396/991 [08:29<12:37,  1.27s/batch, batch_loss=212, batch_index=397, batch_size=256]"
     ]
    },
    {
     "name": "stderr",
     "output_type": "stream",
     "text": [
      "\r",
      "Epoch 1/10:  40%|██████████████████████████████████████████▍                                                               | 397/991 [08:29<12:42,  1.28s/batch, batch_loss=212, batch_index=397, batch_size=256]"
     ]
    },
    {
     "name": "stderr",
     "output_type": "stream",
     "text": [
      "\r",
      "Epoch 1/10:  40%|██████████████████████████████████████████                                                               | 397/991 [08:30<12:42,  1.28s/batch, batch_loss=28.9, batch_index=398, batch_size=256]"
     ]
    },
    {
     "name": "stderr",
     "output_type": "stream",
     "text": [
      "\r",
      "Epoch 1/10:  40%|██████████████████████████████████████████▏                                                              | 398/991 [08:30<12:45,  1.29s/batch, batch_loss=28.9, batch_index=398, batch_size=256]"
     ]
    },
    {
     "name": "stderr",
     "output_type": "stream",
     "text": [
      "\r",
      "Epoch 1/10:  40%|██████████████████████████████████████████▌                                                               | 398/991 [08:31<12:45,  1.29s/batch, batch_loss=901, batch_index=399, batch_size=256]"
     ]
    },
    {
     "name": "stderr",
     "output_type": "stream",
     "text": [
      "\r",
      "Epoch 1/10:  40%|██████████████████████████████████████████▋                                                               | 399/991 [08:31<12:40,  1.29s/batch, batch_loss=901, batch_index=399, batch_size=256]"
     ]
    },
    {
     "name": "stderr",
     "output_type": "stream",
     "text": [
      "\r",
      "Epoch 1/10:  40%|██████████████████████████████████████████▎                                                              | 399/991 [08:32<12:40,  1.29s/batch, batch_loss=35.6, batch_index=400, batch_size=256]"
     ]
    },
    {
     "name": "stderr",
     "output_type": "stream",
     "text": [
      "\r",
      "Epoch 1/10:  40%|██████████████████████████████████████████▍                                                              | 400/991 [08:32<12:40,  1.29s/batch, batch_loss=35.6, batch_index=400, batch_size=256]"
     ]
    },
    {
     "name": "stderr",
     "output_type": "stream",
     "text": [
      "\r",
      "Epoch 1/10:  40%|███████████████████████████████████████████▏                                                               | 400/991 [08:34<12:40,  1.29s/batch, batch_loss=38, batch_index=401, batch_size=256]"
     ]
    },
    {
     "name": "stderr",
     "output_type": "stream",
     "text": [
      "\r",
      "Epoch 1/10:  40%|███████████████████████████████████████████▎                                                               | 401/991 [08:34<12:37,  1.28s/batch, batch_loss=38, batch_index=401, batch_size=256]"
     ]
    },
    {
     "name": "stderr",
     "output_type": "stream",
     "text": [
      "\r",
      "Epoch 1/10:  40%|█████████████████████████████████████████▎                                                            | 401/991 [08:35<12:37,  1.28s/batch, batch_loss=1.16e+4, batch_index=402, batch_size=256]"
     ]
    },
    {
     "name": "stderr",
     "output_type": "stream",
     "text": [
      "\r",
      "Epoch 1/10:  41%|█████████████████████████████████████████▍                                                            | 402/991 [08:35<12:35,  1.28s/batch, batch_loss=1.16e+4, batch_index=402, batch_size=256]"
     ]
    },
    {
     "name": "stderr",
     "output_type": "stream",
     "text": [
      "\r",
      "Epoch 1/10:  41%|██████████████████████████████████████████▌                                                              | 402/991 [08:36<12:35,  1.28s/batch, batch_loss=25.9, batch_index=403, batch_size=256]"
     ]
    },
    {
     "name": "stderr",
     "output_type": "stream",
     "text": [
      "\r",
      "Epoch 1/10:  41%|██████████████████████████████████████████▋                                                              | 403/991 [08:36<12:31,  1.28s/batch, batch_loss=25.9, batch_index=403, batch_size=256]"
     ]
    },
    {
     "name": "stderr",
     "output_type": "stream",
     "text": [
      "\r",
      "Epoch 1/10:  41%|██████████████████████████████████████████▋                                                              | 403/991 [08:38<12:31,  1.28s/batch, batch_loss=31.2, batch_index=404, batch_size=256]"
     ]
    },
    {
     "name": "stderr",
     "output_type": "stream",
     "text": [
      "\r",
      "Epoch 1/10:  41%|██████████████████████████████████████████▊                                                              | 404/991 [08:38<12:32,  1.28s/batch, batch_loss=31.2, batch_index=404, batch_size=256]"
     ]
    },
    {
     "name": "stderr",
     "output_type": "stream",
     "text": [
      "\r",
      "Epoch 1/10:  41%|██████████████████████████████████████████▊                                                              | 404/991 [08:39<12:32,  1.28s/batch, batch_loss=50.3, batch_index=405, batch_size=256]"
     ]
    },
    {
     "name": "stderr",
     "output_type": "stream",
     "text": [
      "\r",
      "Epoch 1/10:  41%|██████████████████████████████████████████▉                                                              | 405/991 [08:39<12:31,  1.28s/batch, batch_loss=50.3, batch_index=405, batch_size=256]"
     ]
    },
    {
     "name": "stderr",
     "output_type": "stream",
     "text": [
      "\r",
      "Epoch 1/10:  41%|██████████████████████████████████████████▉                                                              | 405/991 [08:40<12:31,  1.28s/batch, batch_loss=56.6, batch_index=406, batch_size=256]"
     ]
    },
    {
     "name": "stderr",
     "output_type": "stream",
     "text": [
      "\r",
      "Epoch 1/10:  41%|███████████████████████████████████████████                                                              | 406/991 [08:40<12:28,  1.28s/batch, batch_loss=56.6, batch_index=406, batch_size=256]"
     ]
    },
    {
     "name": "stderr",
     "output_type": "stream",
     "text": [
      "\r",
      "Epoch 1/10:  41%|███████████████████████████████████████████                                                              | 406/991 [08:41<12:28,  1.28s/batch, batch_loss=21.5, batch_index=407, batch_size=256]"
     ]
    },
    {
     "name": "stderr",
     "output_type": "stream",
     "text": [
      "\r",
      "Epoch 1/10:  41%|███████████████████████████████████████████                                                              | 407/991 [08:41<12:29,  1.28s/batch, batch_loss=21.5, batch_index=407, batch_size=256]"
     ]
    },
    {
     "name": "stderr",
     "output_type": "stream",
     "text": [
      "\r",
      "Epoch 1/10:  41%|███████████████████████████████████████████▉                                                               | 407/991 [08:43<12:29,  1.28s/batch, batch_loss=34, batch_index=408, batch_size=256]"
     ]
    },
    {
     "name": "stderr",
     "output_type": "stream",
     "text": [
      "\r",
      "Epoch 1/10:  41%|████████████████████████████████████████████                                                               | 408/991 [08:43<12:26,  1.28s/batch, batch_loss=34, batch_index=408, batch_size=256]"
     ]
    },
    {
     "name": "stderr",
     "output_type": "stream",
     "text": [
      "\r",
      "Epoch 1/10:  41%|███████████████████████████████████████████▏                                                             | 408/991 [08:44<12:26,  1.28s/batch, batch_loss=31.2, batch_index=409, batch_size=256]"
     ]
    },
    {
     "name": "stderr",
     "output_type": "stream",
     "text": [
      "\r",
      "Epoch 1/10:  41%|███████████████████████████████████████████▎                                                             | 409/991 [08:44<12:23,  1.28s/batch, batch_loss=31.2, batch_index=409, batch_size=256]"
     ]
    },
    {
     "name": "stderr",
     "output_type": "stream",
     "text": [
      "\r",
      "Epoch 1/10:  41%|██████████████████████████████████████████                                                            | 409/991 [08:45<12:23,  1.28s/batch, batch_loss=3.79e+3, batch_index=410, batch_size=256]"
     ]
    },
    {
     "name": "stderr",
     "output_type": "stream",
     "text": [
      "\r",
      "Epoch 1/10:  41%|██████████████████████████████████████████▏                                                           | 410/991 [08:45<12:24,  1.28s/batch, batch_loss=3.79e+3, batch_index=410, batch_size=256]"
     ]
    },
    {
     "name": "stderr",
     "output_type": "stream",
     "text": [
      "\r",
      "Epoch 1/10:  41%|███████████████████████████████████████████▍                                                             | 410/991 [08:47<12:24,  1.28s/batch, batch_loss=30.6, batch_index=411, batch_size=256]"
     ]
    },
    {
     "name": "stderr",
     "output_type": "stream",
     "text": [
      "\r",
      "Epoch 1/10:  41%|███████████████████████████████████████████▌                                                             | 411/991 [08:47<12:23,  1.28s/batch, batch_loss=30.6, batch_index=411, batch_size=256]"
     ]
    },
    {
     "name": "stderr",
     "output_type": "stream",
     "text": [
      "\r",
      "Epoch 1/10:  41%|███████████████████████████████████████████▉                                                              | 411/991 [08:48<12:23,  1.28s/batch, batch_loss=285, batch_index=412, batch_size=256]"
     ]
    },
    {
     "name": "stderr",
     "output_type": "stream",
     "text": [
      "\r",
      "Epoch 1/10:  42%|████████████████████████████████████████████                                                              | 412/991 [08:48<12:24,  1.29s/batch, batch_loss=285, batch_index=412, batch_size=256]"
     ]
    },
    {
     "name": "stderr",
     "output_type": "stream",
     "text": [
      "\r",
      "Epoch 1/10:  42%|████████████████████████████████████████████▍                                                              | 412/991 [08:49<12:24,  1.29s/batch, batch_loss=30, batch_index=413, batch_size=256]"
     ]
    },
    {
     "name": "stderr",
     "output_type": "stream",
     "text": [
      "\r",
      "Epoch 1/10:  42%|████████████████████████████████████████████▌                                                              | 413/991 [08:49<12:23,  1.29s/batch, batch_loss=30, batch_index=413, batch_size=256]"
     ]
    },
    {
     "name": "stderr",
     "output_type": "stream",
     "text": [
      "\r",
      "Epoch 1/10:  42%|███████████████████████████████████████████▊                                                             | 413/991 [08:50<12:23,  1.29s/batch, batch_loss=51.2, batch_index=414, batch_size=256]"
     ]
    },
    {
     "name": "stderr",
     "output_type": "stream",
     "text": [
      "\r",
      "Epoch 1/10:  42%|███████████████████████████████████████████▊                                                             | 414/991 [08:50<12:19,  1.28s/batch, batch_loss=51.2, batch_index=414, batch_size=256]"
     ]
    },
    {
     "name": "stderr",
     "output_type": "stream",
     "text": [
      "\r",
      "Epoch 1/10:  42%|███████████████████████████████████████████▊                                                             | 414/991 [08:52<12:19,  1.28s/batch, batch_loss=43.4, batch_index=415, batch_size=256]"
     ]
    },
    {
     "name": "stderr",
     "output_type": "stream",
     "text": [
      "\r",
      "Epoch 1/10:  42%|███████████████████████████████████████████▉                                                             | 415/991 [08:52<12:20,  1.29s/batch, batch_loss=43.4, batch_index=415, batch_size=256]"
     ]
    },
    {
     "name": "stderr",
     "output_type": "stream",
     "text": [
      "\r",
      "Epoch 1/10:  42%|███████████████████████████████████████████▉                                                             | 415/991 [08:53<12:20,  1.29s/batch, batch_loss=25.5, batch_index=416, batch_size=256]"
     ]
    },
    {
     "name": "stderr",
     "output_type": "stream",
     "text": [
      "\r",
      "Epoch 1/10:  42%|████████████████████████████████████████████                                                             | 416/991 [08:53<12:18,  1.28s/batch, batch_loss=25.5, batch_index=416, batch_size=256]"
     ]
    },
    {
     "name": "stderr",
     "output_type": "stream",
     "text": [
      "\r",
      "Epoch 1/10:  42%|████████████████████████████████████████████                                                             | 416/991 [08:54<12:18,  1.28s/batch, batch_loss=60.4, batch_index=417, batch_size=256]"
     ]
    },
    {
     "name": "stderr",
     "output_type": "stream",
     "text": [
      "\r",
      "Epoch 1/10:  42%|████████████████████████████████████████████▏                                                            | 417/991 [08:54<12:18,  1.29s/batch, batch_loss=60.4, batch_index=417, batch_size=256]"
     ]
    },
    {
     "name": "stderr",
     "output_type": "stream",
     "text": [
      "\r",
      "Epoch 1/10:  42%|██████████████████████████████████████████▉                                                           | 417/991 [08:56<12:18,  1.29s/batch, batch_loss=1.03e+3, batch_index=418, batch_size=256]"
     ]
    },
    {
     "name": "stderr",
     "output_type": "stream",
     "text": [
      "\r",
      "Epoch 1/10:  42%|███████████████████████████████████████████                                                           | 418/991 [08:56<12:18,  1.29s/batch, batch_loss=1.03e+3, batch_index=418, batch_size=256]"
     ]
    },
    {
     "name": "stderr",
     "output_type": "stream",
     "text": [
      "\r",
      "Epoch 1/10:  42%|████████████████████████████████████████████▎                                                            | 418/991 [08:57<12:18,  1.29s/batch, batch_loss=49.9, batch_index=419, batch_size=256]"
     ]
    },
    {
     "name": "stderr",
     "output_type": "stream",
     "text": [
      "\r",
      "Epoch 1/10:  42%|████████████████████████████████████████████▍                                                            | 419/991 [08:57<12:15,  1.29s/batch, batch_loss=49.9, batch_index=419, batch_size=256]"
     ]
    },
    {
     "name": "stderr",
     "output_type": "stream",
     "text": [
      "\r",
      "Epoch 1/10:  42%|███████████████████████████████████████████▏                                                          | 419/991 [08:58<12:15,  1.29s/batch, batch_loss=3.88e+3, batch_index=420, batch_size=256]"
     ]
    },
    {
     "name": "stderr",
     "output_type": "stream",
     "text": [
      "\r",
      "Epoch 1/10:  42%|███████████████████████████████████████████▏                                                          | 420/991 [08:58<11:52,  1.25s/batch, batch_loss=3.88e+3, batch_index=420, batch_size=256]"
     ]
    },
    {
     "name": "stderr",
     "output_type": "stream",
     "text": [
      "\r",
      "Epoch 1/10:  42%|█████████████████████████████████████████████▎                                                             | 420/991 [08:59<11:52,  1.25s/batch, batch_loss=63, batch_index=421, batch_size=256]"
     ]
    },
    {
     "name": "stderr",
     "output_type": "stream",
     "text": [
      "\r",
      "Epoch 1/10:  42%|█████████████████████████████████████████████▍                                                             | 421/991 [08:59<11:59,  1.26s/batch, batch_loss=63, batch_index=421, batch_size=256]"
     ]
    },
    {
     "name": "stderr",
     "output_type": "stream",
     "text": [
      "\r",
      "Epoch 1/10:  42%|████████████████████████████████████████████▌                                                            | 421/991 [09:01<11:59,  1.26s/batch, batch_loss=32.4, batch_index=422, batch_size=256]"
     ]
    },
    {
     "name": "stderr",
     "output_type": "stream",
     "text": [
      "\r",
      "Epoch 1/10:  43%|████████████████████████████████████████████▋                                                            | 422/991 [09:01<12:03,  1.27s/batch, batch_loss=32.4, batch_index=422, batch_size=256]"
     ]
    },
    {
     "name": "stderr",
     "output_type": "stream",
     "text": [
      "\r",
      "Epoch 1/10:  43%|████████████████████████████████████████████▋                                                            | 422/991 [09:02<12:03,  1.27s/batch, batch_loss=28.5, batch_index=423, batch_size=256]"
     ]
    },
    {
     "name": "stderr",
     "output_type": "stream",
     "text": [
      "\r",
      "Epoch 1/10:  43%|████████████████████████████████████████████▊                                                            | 423/991 [09:02<12:04,  1.28s/batch, batch_loss=28.5, batch_index=423, batch_size=256]"
     ]
    },
    {
     "name": "stderr",
     "output_type": "stream",
     "text": [
      "\r",
      "Epoch 1/10:  43%|████████████████████████████████████████████▊                                                            | 423/991 [09:03<12:04,  1.28s/batch, batch_loss=66.5, batch_index=424, batch_size=256]"
     ]
    },
    {
     "name": "stderr",
     "output_type": "stream",
     "text": [
      "\r",
      "Epoch 1/10:  43%|████████████████████████████████████████████▉                                                            | 424/991 [09:03<12:05,  1.28s/batch, batch_loss=66.5, batch_index=424, batch_size=256]"
     ]
    },
    {
     "name": "stderr",
     "output_type": "stream",
     "text": [
      "\r",
      "Epoch 1/10:  43%|███████████████████████████████████████████▋                                                          | 424/991 [09:04<12:05,  1.28s/batch, batch_loss=1.65e+3, batch_index=425, batch_size=256]"
     ]
    },
    {
     "name": "stderr",
     "output_type": "stream",
     "text": [
      "\r",
      "Epoch 1/10:  43%|███████████████████████████████████████████▋                                                          | 425/991 [09:04<12:05,  1.28s/batch, batch_loss=1.65e+3, batch_index=425, batch_size=256]"
     ]
    },
    {
     "name": "stderr",
     "output_type": "stream",
     "text": [
      "\r",
      "Epoch 1/10:  43%|█████████████████████████████████████████████                                                            | 425/991 [09:06<12:05,  1.28s/batch, batch_loss=43.5, batch_index=426, batch_size=256]"
     ]
    },
    {
     "name": "stderr",
     "output_type": "stream",
     "text": [
      "\r",
      "Epoch 1/10:  43%|█████████████████████████████████████████████▏                                                           | 426/991 [09:06<12:07,  1.29s/batch, batch_loss=43.5, batch_index=426, batch_size=256]"
     ]
    },
    {
     "name": "stderr",
     "output_type": "stream",
     "text": [
      "\r",
      "Epoch 1/10:  43%|█████████████████████████████████████████████▏                                                           | 426/991 [09:07<12:07,  1.29s/batch, batch_loss=44.2, batch_index=427, batch_size=256]"
     ]
    },
    {
     "name": "stderr",
     "output_type": "stream",
     "text": [
      "\r",
      "Epoch 1/10:  43%|█████████████████████████████████████████████▏                                                           | 427/991 [09:07<12:06,  1.29s/batch, batch_loss=44.2, batch_index=427, batch_size=256]"
     ]
    },
    {
     "name": "stderr",
     "output_type": "stream",
     "text": [
      "\r",
      "Epoch 1/10:  43%|█████████████████████████████████████████████▏                                                           | 427/991 [09:08<12:06,  1.29s/batch, batch_loss=45.4, batch_index=428, batch_size=256]"
     ]
    },
    {
     "name": "stderr",
     "output_type": "stream",
     "text": [
      "\r",
      "Epoch 1/10:  43%|█████████████████████████████████████████████▎                                                           | 428/991 [09:08<12:07,  1.29s/batch, batch_loss=45.4, batch_index=428, batch_size=256]"
     ]
    },
    {
     "name": "stderr",
     "output_type": "stream",
     "text": [
      "\r",
      "Epoch 1/10:  43%|█████████████████████████████████████████████▎                                                           | 428/991 [09:10<12:07,  1.29s/batch, batch_loss=41.2, batch_index=429, batch_size=256]"
     ]
    },
    {
     "name": "stderr",
     "output_type": "stream",
     "text": [
      "\r",
      "Epoch 1/10:  43%|█████████████████████████████████████████████▍                                                           | 429/991 [09:10<12:02,  1.29s/batch, batch_loss=41.2, batch_index=429, batch_size=256]"
     ]
    },
    {
     "name": "stderr",
     "output_type": "stream",
     "text": [
      "\r",
      "Epoch 1/10:  43%|█████████████████████████████████████████████▍                                                           | 429/991 [09:11<12:02,  1.29s/batch, batch_loss=36.4, batch_index=430, batch_size=256]"
     ]
    },
    {
     "name": "stderr",
     "output_type": "stream",
     "text": [
      "\r",
      "Epoch 1/10:  43%|█████████████████████████████████████████████▌                                                           | 430/991 [09:11<12:00,  1.28s/batch, batch_loss=36.4, batch_index=430, batch_size=256]"
     ]
    },
    {
     "name": "stderr",
     "output_type": "stream",
     "text": [
      "\r",
      "Epoch 1/10:  43%|█████████████████████████████████████████████▌                                                           | 430/991 [09:12<12:00,  1.28s/batch, batch_loss=32.4, batch_index=431, batch_size=256]"
     ]
    },
    {
     "name": "stderr",
     "output_type": "stream",
     "text": [
      "\r",
      "Epoch 1/10:  43%|█████████████████████████████████████████████▋                                                           | 431/991 [09:12<11:58,  1.28s/batch, batch_loss=32.4, batch_index=431, batch_size=256]"
     ]
    },
    {
     "name": "stderr",
     "output_type": "stream",
     "text": [
      "\r",
      "Epoch 1/10:  43%|██████████████████████████████████████████████▌                                                            | 431/991 [09:13<11:58,  1.28s/batch, batch_loss=64, batch_index=432, batch_size=256]"
     ]
    },
    {
     "name": "stderr",
     "output_type": "stream",
     "text": [
      "\r",
      "Epoch 1/10:  44%|██████████████████████████████████████████████▋                                                            | 432/991 [09:13<11:56,  1.28s/batch, batch_loss=64, batch_index=432, batch_size=256]"
     ]
    },
    {
     "name": "stderr",
     "output_type": "stream",
     "text": [
      "\r",
      "Epoch 1/10:  44%|█████████████████████████████████████████████▊                                                           | 432/991 [09:15<11:56,  1.28s/batch, batch_loss=40.4, batch_index=433, batch_size=256]"
     ]
    },
    {
     "name": "stderr",
     "output_type": "stream",
     "text": [
      "\r",
      "Epoch 1/10:  44%|█████████████████████████████████████████████▉                                                           | 433/991 [09:15<11:54,  1.28s/batch, batch_loss=40.4, batch_index=433, batch_size=256]"
     ]
    },
    {
     "name": "stderr",
     "output_type": "stream",
     "text": [
      "\r",
      "Epoch 1/10:  44%|█████████████████████████████████████████████▉                                                           | 433/991 [09:16<11:54,  1.28s/batch, batch_loss=35.5, batch_index=434, batch_size=256]"
     ]
    },
    {
     "name": "stderr",
     "output_type": "stream",
     "text": [
      "\r",
      "Epoch 1/10:  44%|█████████████████████████████████████████████▉                                                           | 434/991 [09:16<11:52,  1.28s/batch, batch_loss=35.5, batch_index=434, batch_size=256]"
     ]
    },
    {
     "name": "stderr",
     "output_type": "stream",
     "text": [
      "\r",
      "Epoch 1/10:  44%|█████████████████████████████████████████████▉                                                           | 434/991 [09:17<11:52,  1.28s/batch, batch_loss=29.6, batch_index=435, batch_size=256]"
     ]
    },
    {
     "name": "stderr",
     "output_type": "stream",
     "text": [
      "\r",
      "Epoch 1/10:  44%|██████████████████████████████████████████████                                                           | 435/991 [09:17<11:51,  1.28s/batch, batch_loss=29.6, batch_index=435, batch_size=256]"
     ]
    },
    {
     "name": "stderr",
     "output_type": "stream",
     "text": [
      "\r",
      "Epoch 1/10:  44%|████████████████████████████████████████████▊                                                         | 435/991 [09:19<11:51,  1.28s/batch, batch_loss=1.06e+3, batch_index=436, batch_size=256]"
     ]
    },
    {
     "name": "stderr",
     "output_type": "stream",
     "text": [
      "\r",
      "Epoch 1/10:  44%|████████████████████████████████████████████▉                                                         | 436/991 [09:19<11:46,  1.27s/batch, batch_loss=1.06e+3, batch_index=436, batch_size=256]"
     ]
    },
    {
     "name": "stderr",
     "output_type": "stream",
     "text": [
      "\r",
      "Epoch 1/10:  44%|██████████████████████████████████████████████▏                                                          | 436/991 [09:20<11:46,  1.27s/batch, batch_loss=20.9, batch_index=437, batch_size=256]"
     ]
    },
    {
     "name": "stderr",
     "output_type": "stream",
     "text": [
      "\r",
      "Epoch 1/10:  44%|██████████████████████████████████████████████▎                                                          | 437/991 [09:20<11:50,  1.28s/batch, batch_loss=20.9, batch_index=437, batch_size=256]"
     ]
    },
    {
     "name": "stderr",
     "output_type": "stream",
     "text": [
      "\r",
      "Epoch 1/10:  44%|██████████████████████████████████████████████▋                                                           | 437/991 [09:21<11:50,  1.28s/batch, batch_loss=196, batch_index=438, batch_size=256]"
     ]
    },
    {
     "name": "stderr",
     "output_type": "stream",
     "text": [
      "\r",
      "Epoch 1/10:  44%|██████████████████████████████████████████████▊                                                           | 438/991 [09:21<11:50,  1.28s/batch, batch_loss=196, batch_index=438, batch_size=256]"
     ]
    },
    {
     "name": "stderr",
     "output_type": "stream",
     "text": [
      "\r",
      "Epoch 1/10:  44%|█████████████████████████████████████████████                                                         | 438/991 [09:22<11:50,  1.28s/batch, batch_loss=1.24e+3, batch_index=439, batch_size=256]"
     ]
    },
    {
     "name": "stderr",
     "output_type": "stream",
     "text": [
      "\r",
      "Epoch 1/10:  44%|█████████████████████████████████████████████▏                                                        | 439/991 [09:22<11:49,  1.29s/batch, batch_loss=1.24e+3, batch_index=439, batch_size=256]"
     ]
    },
    {
     "name": "stderr",
     "output_type": "stream",
     "text": [
      "\r",
      "Epoch 1/10:  44%|██████████████████████████████████████████████▌                                                          | 439/991 [09:24<11:49,  1.29s/batch, batch_loss=34.6, batch_index=440, batch_size=256]"
     ]
    },
    {
     "name": "stderr",
     "output_type": "stream",
     "text": [
      "\r",
      "Epoch 1/10:  44%|██████████████████████████████████████████████▌                                                          | 440/991 [09:24<11:47,  1.28s/batch, batch_loss=34.6, batch_index=440, batch_size=256]"
     ]
    },
    {
     "name": "stderr",
     "output_type": "stream",
     "text": [
      "\r",
      "Epoch 1/10:  44%|███████████████████████████████████████████████                                                           | 440/991 [09:25<11:47,  1.28s/batch, batch_loss=569, batch_index=441, batch_size=256]"
     ]
    },
    {
     "name": "stderr",
     "output_type": "stream",
     "text": [
      "\r",
      "Epoch 1/10:  45%|███████████████████████████████████████████████▏                                                          | 441/991 [09:25<11:47,  1.29s/batch, batch_loss=569, batch_index=441, batch_size=256]"
     ]
    },
    {
     "name": "stderr",
     "output_type": "stream",
     "text": [
      "\r",
      "Epoch 1/10:  45%|██████████████████████████████████████████████▋                                                          | 441/991 [09:26<11:47,  1.29s/batch, batch_loss=40.5, batch_index=442, batch_size=256]"
     ]
    },
    {
     "name": "stderr",
     "output_type": "stream",
     "text": [
      "\r",
      "Epoch 1/10:  45%|██████████████████████████████████████████████▊                                                          | 442/991 [09:26<11:45,  1.29s/batch, batch_loss=40.5, batch_index=442, batch_size=256]"
     ]
    },
    {
     "name": "stderr",
     "output_type": "stream",
     "text": [
      "\r",
      "Epoch 1/10:  45%|██████████████████████████████████████████████▊                                                          | 442/991 [09:28<11:45,  1.29s/batch, batch_loss=21.8, batch_index=443, batch_size=256]"
     ]
    },
    {
     "name": "stderr",
     "output_type": "stream",
     "text": [
      "\r",
      "Epoch 1/10:  45%|██████████████████████████████████████████████▉                                                          | 443/991 [09:28<11:44,  1.29s/batch, batch_loss=21.8, batch_index=443, batch_size=256]"
     ]
    },
    {
     "name": "stderr",
     "output_type": "stream",
     "text": [
      "\r",
      "Epoch 1/10:  45%|██████████████████████████████████████████████▉                                                          | 443/991 [09:29<11:44,  1.29s/batch, batch_loss=39.9, batch_index=444, batch_size=256]"
     ]
    },
    {
     "name": "stderr",
     "output_type": "stream",
     "text": [
      "\r",
      "Epoch 1/10:  45%|███████████████████████████████████████████████                                                          | 444/991 [09:29<11:44,  1.29s/batch, batch_loss=39.9, batch_index=444, batch_size=256]"
     ]
    },
    {
     "name": "stderr",
     "output_type": "stream",
     "text": [
      "\r",
      "Epoch 1/10:  45%|███████████████████████████████████████████████                                                          | 444/991 [09:30<11:44,  1.29s/batch, batch_loss=24.3, batch_index=445, batch_size=256]"
     ]
    },
    {
     "name": "stderr",
     "output_type": "stream",
     "text": [
      "\r",
      "Epoch 1/10:  45%|███████████████████████████████████████████████▏                                                         | 445/991 [09:30<11:45,  1.29s/batch, batch_loss=24.3, batch_index=445, batch_size=256]"
     ]
    },
    {
     "name": "stderr",
     "output_type": "stream",
     "text": [
      "\r",
      "Epoch 1/10:  45%|███████████████████████████████████████████████▌                                                          | 445/991 [09:31<11:45,  1.29s/batch, batch_loss=491, batch_index=446, batch_size=256]"
     ]
    },
    {
     "name": "stderr",
     "output_type": "stream",
     "text": [
      "\r",
      "Epoch 1/10:  45%|███████████████████████████████████████████████▋                                                          | 446/991 [09:31<11:42,  1.29s/batch, batch_loss=491, batch_index=446, batch_size=256]"
     ]
    },
    {
     "name": "stderr",
     "output_type": "stream",
     "text": [
      "\r",
      "Epoch 1/10:  45%|███████████████████████████████████████████████▎                                                         | 446/991 [09:33<11:42,  1.29s/batch, batch_loss=51.3, batch_index=447, batch_size=256]"
     ]
    },
    {
     "name": "stderr",
     "output_type": "stream",
     "text": [
      "\r",
      "Epoch 1/10:  45%|███████████████████████████████████████████████▎                                                         | 447/991 [09:33<11:26,  1.26s/batch, batch_loss=51.3, batch_index=447, batch_size=256]"
     ]
    },
    {
     "name": "stderr",
     "output_type": "stream",
     "text": [
      "\r",
      "Epoch 1/10:  45%|███████████████████████████████████████████████▎                                                         | 447/991 [09:34<11:26,  1.26s/batch, batch_loss=48.3, batch_index=448, batch_size=256]"
     ]
    },
    {
     "name": "stderr",
     "output_type": "stream",
     "text": [
      "\r",
      "Epoch 1/10:  45%|███████████████████████████████████████████████▍                                                         | 448/991 [09:34<11:31,  1.27s/batch, batch_loss=48.3, batch_index=448, batch_size=256]"
     ]
    },
    {
     "name": "stderr",
     "output_type": "stream",
     "text": [
      "\r",
      "Epoch 1/10:  45%|███████████████████████████████████████████████▍                                                         | 448/991 [09:35<11:31,  1.27s/batch, batch_loss=35.1, batch_index=449, batch_size=256]"
     ]
    },
    {
     "name": "stderr",
     "output_type": "stream",
     "text": [
      "\r",
      "Epoch 1/10:  45%|███████████████████████████████████████████████▌                                                         | 449/991 [09:35<11:30,  1.27s/batch, batch_loss=35.1, batch_index=449, batch_size=256]"
     ]
    },
    {
     "name": "stderr",
     "output_type": "stream",
     "text": [
      "\r",
      "Epoch 1/10:  45%|██████████████████████████████████████████████▏                                                       | 449/991 [09:37<11:30,  1.27s/batch, batch_loss=8.06e+3, batch_index=450, batch_size=256]"
     ]
    },
    {
     "name": "stderr",
     "output_type": "stream",
     "text": [
      "\r",
      "Epoch 1/10:  45%|██████████████████████████████████████████████▎                                                       | 450/991 [09:37<11:34,  1.28s/batch, batch_loss=8.06e+3, batch_index=450, batch_size=256]"
     ]
    },
    {
     "name": "stderr",
     "output_type": "stream",
     "text": [
      "\r",
      "Epoch 1/10:  45%|███████████████████████████████████████████████▋                                                         | 450/991 [09:38<11:34,  1.28s/batch, batch_loss=49.2, batch_index=451, batch_size=256]"
     ]
    },
    {
     "name": "stderr",
     "output_type": "stream",
     "text": [
      "\r",
      "Epoch 1/10:  46%|███████████████████████████████████████████████▊                                                         | 451/991 [09:38<11:32,  1.28s/batch, batch_loss=49.2, batch_index=451, batch_size=256]"
     ]
    },
    {
     "name": "stderr",
     "output_type": "stream",
     "text": [
      "\r",
      "Epoch 1/10:  46%|██████████████████████████████████████████████▍                                                       | 451/991 [09:39<11:32,  1.28s/batch, batch_loss=7.08e+3, batch_index=452, batch_size=256]"
     ]
    },
    {
     "name": "stderr",
     "output_type": "stream",
     "text": [
      "\r",
      "Epoch 1/10:  46%|██████████████████████████████████████████████▌                                                       | 452/991 [09:39<11:32,  1.28s/batch, batch_loss=7.08e+3, batch_index=452, batch_size=256]"
     ]
    },
    {
     "name": "stderr",
     "output_type": "stream",
     "text": [
      "\r",
      "Epoch 1/10:  46%|███████████████████████████████████████████████▉                                                         | 452/991 [09:40<11:32,  1.28s/batch, batch_loss=54.9, batch_index=453, batch_size=256]"
     ]
    },
    {
     "name": "stderr",
     "output_type": "stream",
     "text": [
      "\r",
      "Epoch 1/10:  46%|███████████████████████████████████████████████▉                                                         | 453/991 [09:40<11:29,  1.28s/batch, batch_loss=54.9, batch_index=453, batch_size=256]"
     ]
    },
    {
     "name": "stderr",
     "output_type": "stream",
     "text": [
      "\r",
      "Epoch 1/10:  46%|███████████████████████████████████████████████▉                                                         | 453/991 [09:42<11:29,  1.28s/batch, batch_loss=34.5, batch_index=454, batch_size=256]"
     ]
    },
    {
     "name": "stderr",
     "output_type": "stream",
     "text": [
      "\r",
      "Epoch 1/10:  46%|████████████████████████████████████████████████                                                         | 454/991 [09:42<11:30,  1.29s/batch, batch_loss=34.5, batch_index=454, batch_size=256]"
     ]
    },
    {
     "name": "stderr",
     "output_type": "stream",
     "text": [
      "\r",
      "Epoch 1/10:  46%|████████████████████████████████████████████████                                                         | 454/991 [09:43<11:30,  1.29s/batch, batch_loss=16.1, batch_index=455, batch_size=256]"
     ]
    },
    {
     "name": "stderr",
     "output_type": "stream",
     "text": [
      "\r",
      "Epoch 1/10:  46%|████████████████████████████████████████████████▏                                                        | 455/991 [09:43<11:28,  1.28s/batch, batch_loss=16.1, batch_index=455, batch_size=256]"
     ]
    },
    {
     "name": "stderr",
     "output_type": "stream",
     "text": [
      "\r",
      "Epoch 1/10:  46%|████████████████████████████████████████████████▏                                                        | 455/991 [09:43<11:27,  1.28s/batch, batch_loss=16.1, batch_index=455, batch_size=256]"
     ]
    },
    {
     "name": "stderr",
     "output_type": "stream",
     "text": [
      "\n"
     ]
    },
    {
     "ename": "IndexError",
     "evalue": "list index out of range",
     "output_type": "error",
     "traceback": [
      "\u001b[0;31m---------------------------------------------------------------------------\u001b[0m",
      "\u001b[0;31mIndexError\u001b[0m                                Traceback (most recent call last)",
      "Cell \u001b[0;32mIn[12], line 24\u001b[0m\n\u001b[1;32m     22\u001b[0m running_loss \u001b[38;5;241m=\u001b[39m \u001b[38;5;241m0.0\u001b[39m\n\u001b[1;32m     23\u001b[0m progress_bar \u001b[38;5;241m=\u001b[39m tqdm(train_loader, desc\u001b[38;5;241m=\u001b[39m\u001b[38;5;124mf\u001b[39m\u001b[38;5;124m\"\u001b[39m\u001b[38;5;124mEpoch \u001b[39m\u001b[38;5;132;01m{\u001b[39;00mepoch\u001b[38;5;241m+\u001b[39m\u001b[38;5;241m1\u001b[39m\u001b[38;5;132;01m}\u001b[39;00m\u001b[38;5;124m/\u001b[39m\u001b[38;5;132;01m{\u001b[39;00mnum_epochs\u001b[38;5;132;01m}\u001b[39;00m\u001b[38;5;124m\"\u001b[39m, unit\u001b[38;5;241m=\u001b[39m\u001b[38;5;124m\"\u001b[39m\u001b[38;5;124mbatch\u001b[39m\u001b[38;5;124m\"\u001b[39m)\n\u001b[0;32m---> 24\u001b[0m \u001b[38;5;28;01mfor\u001b[39;00m batch_idx, (inputs, targets) \u001b[38;5;129;01min\u001b[39;00m \u001b[38;5;28menumerate\u001b[39m(progress_bar):\n\u001b[1;32m     25\u001b[0m     inputs, targets \u001b[38;5;241m=\u001b[39m inputs\u001b[38;5;241m.\u001b[39mto(device), targets\u001b[38;5;241m.\u001b[39mto(device)\n\u001b[1;32m     26\u001b[0m     \u001b[38;5;66;03m#print(inputs.shape)\u001b[39;00m\n\u001b[1;32m     27\u001b[0m     \u001b[38;5;66;03m#print(targets.shape)\u001b[39;00m\n",
      "File \u001b[0;32m/shared/storage/cs/studentscratch/js3921/python_environments/envs/project_env_cuda/lib/python3.9/site-packages/tqdm/std.py:1181\u001b[0m, in \u001b[0;36mtqdm.__iter__\u001b[0;34m(self)\u001b[0m\n\u001b[1;32m   1178\u001b[0m time \u001b[38;5;241m=\u001b[39m \u001b[38;5;28mself\u001b[39m\u001b[38;5;241m.\u001b[39m_time\n\u001b[1;32m   1180\u001b[0m \u001b[38;5;28;01mtry\u001b[39;00m:\n\u001b[0;32m-> 1181\u001b[0m     \u001b[38;5;28;01mfor\u001b[39;00m obj \u001b[38;5;129;01min\u001b[39;00m iterable:\n\u001b[1;32m   1182\u001b[0m         \u001b[38;5;28;01myield\u001b[39;00m obj\n\u001b[1;32m   1183\u001b[0m         \u001b[38;5;66;03m# Update and possibly print the progressbar.\u001b[39;00m\n\u001b[1;32m   1184\u001b[0m         \u001b[38;5;66;03m# Note: does not call self.update(1) for speed optimisation.\u001b[39;00m\n",
      "File \u001b[0;32m/shared/storage/cs/studentscratch/js3921/python_environments/envs/project_env_cuda/lib/python3.9/site-packages/torch/utils/data/dataloader.py:708\u001b[0m, in \u001b[0;36m_BaseDataLoaderIter.__next__\u001b[0;34m(self)\u001b[0m\n\u001b[1;32m    705\u001b[0m \u001b[38;5;28;01mif\u001b[39;00m \u001b[38;5;28mself\u001b[39m\u001b[38;5;241m.\u001b[39m_sampler_iter \u001b[38;5;129;01mis\u001b[39;00m \u001b[38;5;28;01mNone\u001b[39;00m:\n\u001b[1;32m    706\u001b[0m     \u001b[38;5;66;03m# TODO(https://github.com/pytorch/pytorch/issues/76750)\u001b[39;00m\n\u001b[1;32m    707\u001b[0m     \u001b[38;5;28mself\u001b[39m\u001b[38;5;241m.\u001b[39m_reset()  \u001b[38;5;66;03m# type: ignore[call-arg]\u001b[39;00m\n\u001b[0;32m--> 708\u001b[0m data \u001b[38;5;241m=\u001b[39m \u001b[38;5;28;43mself\u001b[39;49m\u001b[38;5;241;43m.\u001b[39;49m\u001b[43m_next_data\u001b[49m\u001b[43m(\u001b[49m\u001b[43m)\u001b[49m\n\u001b[1;32m    709\u001b[0m \u001b[38;5;28mself\u001b[39m\u001b[38;5;241m.\u001b[39m_num_yielded \u001b[38;5;241m+\u001b[39m\u001b[38;5;241m=\u001b[39m \u001b[38;5;241m1\u001b[39m\n\u001b[1;32m    710\u001b[0m \u001b[38;5;28;01mif\u001b[39;00m (\n\u001b[1;32m    711\u001b[0m     \u001b[38;5;28mself\u001b[39m\u001b[38;5;241m.\u001b[39m_dataset_kind \u001b[38;5;241m==\u001b[39m _DatasetKind\u001b[38;5;241m.\u001b[39mIterable\n\u001b[1;32m    712\u001b[0m     \u001b[38;5;129;01mand\u001b[39;00m \u001b[38;5;28mself\u001b[39m\u001b[38;5;241m.\u001b[39m_IterableDataset_len_called \u001b[38;5;129;01mis\u001b[39;00m \u001b[38;5;129;01mnot\u001b[39;00m \u001b[38;5;28;01mNone\u001b[39;00m\n\u001b[1;32m    713\u001b[0m     \u001b[38;5;129;01mand\u001b[39;00m \u001b[38;5;28mself\u001b[39m\u001b[38;5;241m.\u001b[39m_num_yielded \u001b[38;5;241m>\u001b[39m \u001b[38;5;28mself\u001b[39m\u001b[38;5;241m.\u001b[39m_IterableDataset_len_called\n\u001b[1;32m    714\u001b[0m ):\n",
      "File \u001b[0;32m/shared/storage/cs/studentscratch/js3921/python_environments/envs/project_env_cuda/lib/python3.9/site-packages/torch/utils/data/dataloader.py:764\u001b[0m, in \u001b[0;36m_SingleProcessDataLoaderIter._next_data\u001b[0;34m(self)\u001b[0m\n\u001b[1;32m    762\u001b[0m \u001b[38;5;28;01mdef\u001b[39;00m \u001b[38;5;21m_next_data\u001b[39m(\u001b[38;5;28mself\u001b[39m):\n\u001b[1;32m    763\u001b[0m     index \u001b[38;5;241m=\u001b[39m \u001b[38;5;28mself\u001b[39m\u001b[38;5;241m.\u001b[39m_next_index()  \u001b[38;5;66;03m# may raise StopIteration\u001b[39;00m\n\u001b[0;32m--> 764\u001b[0m     data \u001b[38;5;241m=\u001b[39m \u001b[38;5;28;43mself\u001b[39;49m\u001b[38;5;241;43m.\u001b[39;49m\u001b[43m_dataset_fetcher\u001b[49m\u001b[38;5;241;43m.\u001b[39;49m\u001b[43mfetch\u001b[49m\u001b[43m(\u001b[49m\u001b[43mindex\u001b[49m\u001b[43m)\u001b[49m  \u001b[38;5;66;03m# may raise StopIteration\u001b[39;00m\n\u001b[1;32m    765\u001b[0m     \u001b[38;5;28;01mif\u001b[39;00m \u001b[38;5;28mself\u001b[39m\u001b[38;5;241m.\u001b[39m_pin_memory:\n\u001b[1;32m    766\u001b[0m         data \u001b[38;5;241m=\u001b[39m _utils\u001b[38;5;241m.\u001b[39mpin_memory\u001b[38;5;241m.\u001b[39mpin_memory(data, \u001b[38;5;28mself\u001b[39m\u001b[38;5;241m.\u001b[39m_pin_memory_device)\n",
      "File \u001b[0;32m/shared/storage/cs/studentscratch/js3921/python_environments/envs/project_env_cuda/lib/python3.9/site-packages/torch/utils/data/_utils/fetch.py:52\u001b[0m, in \u001b[0;36m_MapDatasetFetcher.fetch\u001b[0;34m(self, possibly_batched_index)\u001b[0m\n\u001b[1;32m     50\u001b[0m         data \u001b[38;5;241m=\u001b[39m \u001b[38;5;28mself\u001b[39m\u001b[38;5;241m.\u001b[39mdataset\u001b[38;5;241m.\u001b[39m__getitems__(possibly_batched_index)\n\u001b[1;32m     51\u001b[0m     \u001b[38;5;28;01melse\u001b[39;00m:\n\u001b[0;32m---> 52\u001b[0m         data \u001b[38;5;241m=\u001b[39m [\u001b[38;5;28mself\u001b[39m\u001b[38;5;241m.\u001b[39mdataset[idx] \u001b[38;5;28;01mfor\u001b[39;00m idx \u001b[38;5;129;01min\u001b[39;00m possibly_batched_index]\n\u001b[1;32m     53\u001b[0m \u001b[38;5;28;01melse\u001b[39;00m:\n\u001b[1;32m     54\u001b[0m     data \u001b[38;5;241m=\u001b[39m \u001b[38;5;28mself\u001b[39m\u001b[38;5;241m.\u001b[39mdataset[possibly_batched_index]\n",
      "File \u001b[0;32m/shared/storage/cs/studentscratch/js3921/python_environments/envs/project_env_cuda/lib/python3.9/site-packages/torch/utils/data/_utils/fetch.py:52\u001b[0m, in \u001b[0;36m<listcomp>\u001b[0;34m(.0)\u001b[0m\n\u001b[1;32m     50\u001b[0m         data \u001b[38;5;241m=\u001b[39m \u001b[38;5;28mself\u001b[39m\u001b[38;5;241m.\u001b[39mdataset\u001b[38;5;241m.\u001b[39m__getitems__(possibly_batched_index)\n\u001b[1;32m     51\u001b[0m     \u001b[38;5;28;01melse\u001b[39;00m:\n\u001b[0;32m---> 52\u001b[0m         data \u001b[38;5;241m=\u001b[39m [\u001b[38;5;28;43mself\u001b[39;49m\u001b[38;5;241;43m.\u001b[39;49m\u001b[43mdataset\u001b[49m\u001b[43m[\u001b[49m\u001b[43midx\u001b[49m\u001b[43m]\u001b[49m \u001b[38;5;28;01mfor\u001b[39;00m idx \u001b[38;5;129;01min\u001b[39;00m possibly_batched_index]\n\u001b[1;32m     53\u001b[0m \u001b[38;5;28;01melse\u001b[39;00m:\n\u001b[1;32m     54\u001b[0m     data \u001b[38;5;241m=\u001b[39m \u001b[38;5;28mself\u001b[39m\u001b[38;5;241m.\u001b[39mdataset[possibly_batched_index]\n",
      "Cell \u001b[0;32mIn[10], line 32\u001b[0m, in \u001b[0;36mDoomMotionDataset.__getitem__\u001b[0;34m(self, idx)\u001b[0m\n\u001b[1;32m     30\u001b[0m         next_motion_vectors\u001b[38;5;241m.\u001b[39mappend(motion_vectors[run][\u001b[38;5;241m-\u001b[39m\u001b[38;5;241m1\u001b[39m])\n\u001b[1;32m     31\u001b[0m         \u001b[38;5;28;01mcontinue\u001b[39;00m\n\u001b[0;32m---> 32\u001b[0m     next_motion_vectors\u001b[38;5;241m.\u001b[39mappend(\u001b[43mmotion_vectors\u001b[49m\u001b[43m[\u001b[49m\u001b[43mrun\u001b[49m\u001b[43m]\u001b[49m\u001b[43m[\u001b[49m\u001b[43mtic\u001b[49m\u001b[38;5;241;43m+\u001b[39;49m\u001b[43mt\u001b[49m\u001b[43m]\u001b[49m)\n\u001b[1;32m     34\u001b[0m \u001b[38;5;66;03m# if dx > 1000:\u001b[39;00m\n\u001b[1;32m     35\u001b[0m \u001b[38;5;66;03m#     print(f\"idx: {idx}\")\u001b[39;00m\n\u001b[1;32m     36\u001b[0m \u001b[38;5;66;03m#     print(f\"rgb_filename: {rgb_filename}\")\u001b[39;00m\n\u001b[0;32m   (...)\u001b[0m\n\u001b[1;32m     47\u001b[0m \u001b[38;5;66;03m#print(prev_motion_vectors)\u001b[39;00m\n\u001b[1;32m     48\u001b[0m \u001b[38;5;66;03m#print(next_motion_vectors)\u001b[39;00m\n\u001b[1;32m     50\u001b[0m prev_motion_vectors \u001b[38;5;241m=\u001b[39m torch\u001b[38;5;241m.\u001b[39mtensor(prev_motion_vectors, dtype\u001b[38;5;241m=\u001b[39mtorch\u001b[38;5;241m.\u001b[39mfloat32)\n",
      "\u001b[0;31mIndexError\u001b[0m: list index out of range"
     ]
    }
   ],
   "source": [
    "batch_size = 256\n",
    "learning_rate = 1e-3\n",
    "num_epochs = 10\n",
    "input_window = 5\n",
    "prediction_window = 10\n",
    "device = torch.device(\"cuda\" if torch.cuda.is_available() else \"cpu\")\n",
    "print(\"cuda\" if torch.cuda.is_available() else \"cpu\")\n",
    "model = NeuralNetwork(batch_size, input_window, prediction_window, device=device).to(device)\n",
    "\n",
    "train_dataset = DoomMotionDataset(coco_train, TRAIN_RUN, input_window, prediction_window)\n",
    "train_loader = DataLoader(train_dataset, batch_size=batch_size, shuffle=False)\n",
    "\n",
    "val_dataset = DoomMotionDataset(coco_val, VAL_RUN, input_window, prediction_window)\n",
    "val_loader = DataLoader(val_dataset, batch_size=batch_size, shuffle=False)\n",
    "\n",
    "# Loss function and optimizer\n",
    "criterion = torch.nn.MSELoss()\n",
    "optimizer = optim.Adam(model.parameters(), lr=learning_rate)\n",
    "\n",
    "for epoch in range(num_epochs):\n",
    "    model.train()\n",
    "    running_loss = 0.0\n",
    "    progress_bar = tqdm(train_loader, desc=f\"Epoch {epoch+1}/{num_epochs}\", unit=\"batch\")\n",
    "    for batch_idx, (inputs, targets) in enumerate(progress_bar):\n",
    "        inputs, targets = inputs.to(device), targets.to(device)\n",
    "        #print(inputs.shape)\n",
    "        #print(targets.shape)\n",
    "\n",
    "        optimizer.zero_grad()\n",
    "\n",
    "        outputs = model(inputs)\n",
    "        outputs = outputs.permute(1, 0, 2)\n",
    "        \n",
    "        loss = criterion(outputs, targets)\n",
    "        loss.backward()\n",
    "\n",
    "        optimizer.step()\n",
    "\n",
    "        running_loss += loss.item()\n",
    "\n",
    "        progress_bar.set_postfix({\n",
    "            \"batch_loss\": loss.item(),\n",
    "            \"batch_index\": batch_idx + 1,\n",
    "            \"batch_size\": inputs.size(0)\n",
    "        })\n",
    "\n",
    "    # Average loss per epoch\n",
    "    epoch_loss = running_loss / len(train_loader)\n",
    "    print(f\"Epoch {epoch+1}, Loss: {epoch_loss:.4f}\")\n",
    "\n",
    "    model.eval()  # Set the model to evaluation mode\n",
    "    running_loss = 0.0\n",
    "    \n",
    "    \n",
    "    progress_bar = tqdm(val_loader, desc=\"Validation\", unit=\"batch\")\n",
    "    \n",
    "    with torch.no_grad():  # Disable gradient calculations for evaluation\n",
    "        for batch_idx, (inputs, targets) in enumerate(progress_bar):\n",
    "            inputs, targets = inputs.to(device), targets.to(device)\n",
    "            \n",
    "            outputs = model(inputs)\n",
    "            outputs = outputs.permute(1, 0, 2)\n",
    "            \n",
    "            loss = criterion(outputs, targets)\n",
    "            \n",
    "            running_loss += loss.item()\n",
    "            \n",
    "            progress_bar.set_postfix({\n",
    "                \"batch_loss\": loss.item(),\n",
    "                \"batch_index\": batch_idx + 1,\n",
    "                \"batch_size\": inputs.size(0)\n",
    "            })\n",
    "    \n",
    "    # Average loss over all batches\n",
    "    val_loss = running_loss / len(val_loader)\n",
    "    print(f\"Val Loss: {val_loss:.4f}\")\n",
    "\n",
    "# Save the trained model\n",
    "torch.save(model.state_dict(), \"movement_seq2seq.pth\")"
   ]
  },
  {
   "cell_type": "code",
   "execution_count": 13,
   "id": "1ce70e48-3ccb-4628-91f7-19fd56e7f6aa",
   "metadata": {
    "execution": {
     "iopub.execute_input": "2025-03-11T11:51:25.628500Z",
     "iopub.status.busy": "2025-03-11T11:51:25.627709Z",
     "iopub.status.idle": "2025-03-11T11:51:25.688784Z",
     "shell.execute_reply": "2025-03-11T11:51:25.687692Z"
    }
   },
   "outputs": [
    {
     "ename": "TypeError",
     "evalue": "__init__() missing 3 required positional arguments: 'batch_size', 'input_length', and 'sequence_length'",
     "output_type": "error",
     "traceback": [
      "\u001b[0;31m---------------------------------------------------------------------------\u001b[0m",
      "\u001b[0;31mTypeError\u001b[0m                                 Traceback (most recent call last)",
      "Cell \u001b[0;32mIn[13], line 3\u001b[0m\n\u001b[1;32m      1\u001b[0m device \u001b[38;5;241m=\u001b[39m (torch\u001b[38;5;241m.\u001b[39mdevice(\u001b[38;5;124m\"\u001b[39m\u001b[38;5;124mcuda\u001b[39m\u001b[38;5;124m\"\u001b[39m \u001b[38;5;28;01mif\u001b[39;00m torch\u001b[38;5;241m.\u001b[39mcuda\u001b[38;5;241m.\u001b[39mis_available() \u001b[38;5;28;01melse\u001b[39;00m \u001b[38;5;124m\"\u001b[39m\u001b[38;5;124mcpu\u001b[39m\u001b[38;5;124m\"\u001b[39m))\n\u001b[1;32m      2\u001b[0m criterion \u001b[38;5;241m=\u001b[39m torch\u001b[38;5;241m.\u001b[39mnn\u001b[38;5;241m.\u001b[39mMSELoss()\n\u001b[0;32m----> 3\u001b[0m model \u001b[38;5;241m=\u001b[39m \u001b[43mNeuralNetwork\u001b[49m\u001b[43m(\u001b[49m\u001b[43mdevice\u001b[49m\u001b[38;5;241;43m=\u001b[39;49m\u001b[38;5;124;43m\"\u001b[39;49m\u001b[38;5;124;43mcuda\u001b[39;49m\u001b[38;5;124;43m\"\u001b[39;49m\u001b[43m)\u001b[49m\u001b[38;5;241m.\u001b[39mto(device)\n\u001b[1;32m      4\u001b[0m model\u001b[38;5;241m.\u001b[39mload_state_dict(torch\u001b[38;5;241m.\u001b[39mload(\u001b[38;5;124m\"\u001b[39m\u001b[38;5;124mmovement_seq2seq.pth\u001b[39m\u001b[38;5;124m\"\u001b[39m, weights_only\u001b[38;5;241m=\u001b[39m\u001b[38;5;28;01mTrue\u001b[39;00m))\n\u001b[1;32m      6\u001b[0m test_dataset \u001b[38;5;241m=\u001b[39m DoomMotionDataset(coco_test, TEST_RUN, input_window, prediction_window)\n",
      "\u001b[0;31mTypeError\u001b[0m: __init__() missing 3 required positional arguments: 'batch_size', 'input_length', and 'sequence_length'"
     ]
    }
   ],
   "source": [
    "device = (torch.device(\"cuda\" if torch.cuda.is_available() else \"cpu\"))\n",
    "criterion = torch.nn.MSELoss()\n",
    "model = NeuralNetwork(device=\"cuda\").to(device)\n",
    "model.load_state_dict(torch.load(\"movement_seq2seq.pth\", weights_only=True))\n",
    "\n",
    "test_dataset = DoomMotionDataset(coco_test, TEST_RUN, input_window, prediction_window)\n",
    "test_loader = DataLoader(test_dataset, batch_size=256, shuffle=False)\n",
    "\n",
    "model.eval()  # Set the model to evaluation mode\n",
    "running_loss = 0.0\n",
    "\n",
    "\n",
    "progress_bar = tqdm(test_loader, desc=\"Testing\", unit=\"batch\")\n",
    "\n",
    "with torch.no_grad():  # Disable gradient calculations for evaluation\n",
    "    for batch_idx, (inputs, targets) in enumerate(progress_bar):\n",
    "        inputs, targets = inputs.to(device), targets.to(device)\n",
    "        \n",
    "        outputs = model(inputs)\n",
    "        outputs = outputs.permute(1, 0, 2)\n",
    "        \n",
    "        loss = criterion(outputs, targets)\n",
    "        \n",
    "        running_loss += loss.item()\n",
    "        \n",
    "        progress_bar.set_postfix({\n",
    "            \"batch_loss\": loss.item(),\n",
    "            \"batch_index\": batch_idx + 1,\n",
    "            \"batch_size\": inputs.size(0)\n",
    "        })\n",
    "\n",
    "# Average loss over all batches\n",
    "test_loss = running_loss / len(test_loader)\n",
    "print(f\"Test Loss: {test_loss:.4f}\")"
   ]
  },
  {
   "cell_type": "code",
   "execution_count": null,
   "id": "98f38629-2cd1-4873-9084-8683c5716ad5",
   "metadata": {},
   "outputs": [],
   "source": []
  }
 ],
 "metadata": {
  "kernelspec": {
   "display_name": "Python 3 (ipykernel)",
   "language": "python",
   "name": "python3"
  },
  "language_info": {
   "codemirror_mode": {
    "name": "ipython",
    "version": 3
   },
   "file_extension": ".py",
   "mimetype": "text/x-python",
   "name": "python",
   "nbconvert_exporter": "python",
   "pygments_lexer": "ipython3",
   "version": "3.9.21"
  }
 },
 "nbformat": 4,
 "nbformat_minor": 5
}
