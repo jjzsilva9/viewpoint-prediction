{
 "cells": [
  {
   "cell_type": "markdown",
   "id": "caac3c60-cbd9-4794-a8c0-ced5b193b331",
   "metadata": {},
   "source": [
    "<h1>NN Model</h1>"
   ]
  },
  {
   "cell_type": "code",
   "execution_count": 1,
   "id": "8c437917-e990-4491-a25e-b7adeb77f372",
   "metadata": {},
   "outputs": [],
   "source": [
    "from pycocotools.coco import COCO\n",
    "import matplotlib\n",
    "import matplotlib.pyplot as plt\n",
    "import os\n",
    "import cv2\n",
    "import numpy as np\n",
    "from PIL import Image\n",
    "import torch\n",
    "import torch.nn as nn\n",
    "import torch.nn.functional as functions\n",
    "import torch.optim as optim\n",
    "from tqdm import tqdm\n",
    "from torch.utils.data import DataLoader, Dataset\n",
    "import torchvision\n",
    "from torchvision import transforms\n",
    "import re"
   ]
  },
  {
   "cell_type": "code",
   "execution_count": 2,
   "id": "d9003254-3d2c-4f84-91a9-0c6d966f104e",
   "metadata": {},
   "outputs": [],
   "source": [
    "DATADIR = \"cocodoom/\"\n",
    "USED_RUNS = [\"run1\", \"run2\", \"run3\"]\n",
    "\n",
    "dataSplit, TRAIN_RUN = \"run-full-train\", \"run1\"\n",
    "\n",
    "annFile = '{}{}.json'.format(DATADIR,dataSplit)"
   ]
  },
  {
   "cell_type": "code",
   "execution_count": 3,
   "id": "e8df8e50-550c-43a3-8b8e-b5a5e41ed0b6",
   "metadata": {},
   "outputs": [
    {
     "name": "stdout",
     "output_type": "stream",
     "text": [
      "loading annotations into memory...\n",
      "Done (t=24.13s)\n",
      "creating index...\n",
      "index created!\n"
     ]
    }
   ],
   "source": [
    "coco_train = COCO(annFile)"
   ]
  },
  {
   "cell_type": "code",
   "execution_count": 4,
   "id": "eeebf160-b14d-425d-bdc9-48f1f985af94",
   "metadata": {},
   "outputs": [],
   "source": [
    "dataSplit, TEST_RUN = \"run-full-test\", \"run3\"\n",
    "\n",
    "annFile = '{}{}.json'.format(DATADIR,dataSplit)"
   ]
  },
  {
   "cell_type": "code",
   "execution_count": 5,
   "id": "60104674-c925-4c87-a555-90fa0b03f594",
   "metadata": {},
   "outputs": [
    {
     "name": "stdout",
     "output_type": "stream",
     "text": [
      "loading annotations into memory...\n",
      "Done (t=32.98s)\n",
      "creating index...\n",
      "index created!\n"
     ]
    }
   ],
   "source": [
    "coco_test = COCO(annFile)"
   ]
  },
  {
   "cell_type": "code",
   "execution_count": 45,
   "id": "b2fdf2f3-61ca-4528-909c-5101c530783f",
   "metadata": {},
   "outputs": [],
   "source": [
    "player_positions = {\"run1\":{}, \"run2\":{}, \"run3\":{}}\n",
    "\n",
    "for run in USED_RUNS:\n",
    "    with open(DATADIR+run+\"/log.txt\", 'r') as log_file:\n",
    "        for line in log_file:\n",
    "            if \"player\" in line:\n",
    "                line = line.strip()\n",
    "                tic, stats = line.split(\"player:\")\n",
    "                x, y, z, angle = stats.split(\",\")\n",
    "    \n",
    "                # Store position in the dictionary\n",
    "                player_positions[run][int(tic)] = (float(x), float(y), float(z), float(angle))"
   ]
  },
  {
   "cell_type": "code",
   "execution_count": 46,
   "id": "a78dd7f8-f3a5-4046-a31d-46f5c3cc747e",
   "metadata": {},
   "outputs": [],
   "source": [
    "class DoomMotionDataset(Dataset):\n",
    "    def __init__(self, coco, run, transform=None):\n",
    "        self.coco = coco\n",
    "        self.run = run\n",
    "        self.img_ids = self.coco.getImgIds()\n",
    "        self.transform = transform\n",
    "\n",
    "    def __len__(self):\n",
    "        return len(self.img_ids)\n",
    "\n",
    "    def __getitem__(self, idx):\n",
    "        # Load the RGB image\n",
    "        rgb_filename = self.coco.loadImgs(self.img_ids[idx])[0]['file_name']\n",
    "        tic = int(rgb_filename.replace(\".png\", \"\").split(\"/\")[-1])\n",
    "        next_tic = tic+1\n",
    "        previous_tic = tic-1\n",
    "\n",
    "        player_position = player_positions[self.run][tic]\n",
    "        \n",
    "        if next_tic not in player_positions[self.run]:\n",
    "            next_player_position = player_position\n",
    "        else:\n",
    "            next_player_position = player_positions[self.run][next_tic]\n",
    "        dx = next_player_position[0] - player_position[0]\n",
    "        dy = next_player_position[1] - player_position[1]\n",
    "        dz = next_player_position[2] - player_position[2]\n",
    "        np.pi - abs(abs(next_player_position[3] - player_position[3]) - np.pi)\n",
    "        next_motion_vector = (dx, dy, dz, dangle)\n",
    "\n",
    "        if previous_tic not in player_positions[self.run]:\n",
    "            prev_player_position = player_position\n",
    "        else :\n",
    "            prev_player_position = player_positions[self.run][previous_tic]\n",
    "        dx = player_position[0] - prev_player_position[0]\n",
    "        dy = player_position[1] - prev_player_position[1]\n",
    "        dz = player_position[2] - prev_player_position[2]\n",
    "        np.pi - abs(abs(player_position[3] - prev_player_position[3]) - np.pi)\n",
    "        prev_motion_vector = (dx, dy, dz, dangle)\n",
    "\n",
    "\n",
    "        # if dx > 1000:\n",
    "        #     print(f\"idx: {idx}\")\n",
    "        #     print(f\"rgb_filename: {rgb_filename}\")\n",
    "        #     print(f\"tic: {tic}\")\n",
    "        #     print(f\"next_tic: {next_tic}\")\n",
    "        #     print(f\"previous_tic: {previous_tic}\")\n",
    "        #     print(f\"Sus {idx}\")\n",
    "        #     print(f\"prev_player_position: {prev_player_position}\")\n",
    "        #     print(f\"player_position: {player_position}\")\n",
    "        #     print(f\"next_player_position: {next_player_position}\")\n",
    "        #     print(f\"prev_motion_vector: {prev_motion_vector}\")\n",
    "        #     print(f\"next_motion_vector: {next_motion_vector}\")\n",
    "            \n",
    "        prev_motion_vector = torch.tensor(prev_motion_vector, dtype=torch.float32)\n",
    "        next_motion_vector = torch.tensor(next_motion_vector, dtype=torch.float32)\n",
    "        \n",
    "        return prev_motion_vector, next_motion_vector\n"
   ]
  },
  {
   "cell_type": "code",
   "execution_count": 47,
   "id": "8680de85-df84-4334-87be-8defcfc6e6fb",
   "metadata": {},
   "outputs": [],
   "source": [
    "class NeuralNetwork(nn.Module):\n",
    "  def __init__(self, activation_function=functions.relu, device=torch.device(\"cpu\")):\n",
    "    super(NeuralNetwork, self).__init__()\n",
    "\n",
    "    self.activation_function = activation_function\n",
    "    self.fc1 = nn.Linear(4, 64).to(device)\n",
    "    self.bn1 = nn.BatchNorm1d(num_features=64).to(device)\n",
    "\n",
    "    self.fc2 = nn.Linear(64, 128).to(device)\n",
    "    self.bn2 = nn.BatchNorm1d(num_features=128).to(device)\n",
    "\n",
    "    self.fc3 = nn.Linear(128, 64).to(device)\n",
    "    self.bn3 = nn.BatchNorm1d(num_features=64).to(device)\n",
    "\n",
    "    self.out = nn.Linear(64, 4).to(device)\n",
    "\n",
    "  def forward(self, x):\n",
    "    x = self.activation_function(self.bn1(self.fc1(x)))\n",
    "    x = self.activation_function(self.bn2(self.fc2(x)))\n",
    "    x = self.activation_function(self.bn3(self.fc3(x)))\n",
    "    x = self.out(x)\n",
    "    return x"
   ]
  },
  {
   "cell_type": "code",
   "execution_count": 48,
   "id": "81129192-3f18-4f79-b559-be1db7b544d9",
   "metadata": {},
   "outputs": [
    {
     "name": "stdout",
     "output_type": "stream",
     "text": [
      "cuda\n"
     ]
    },
    {
     "name": "stderr",
     "output_type": "stream",
     "text": [
      "\n",
      "poch 1/300: 100%|██████████████| 991/991 [00:17<00:00, 58.19batch/s, batch_loss=15.9, batch_index=991, batch_size=220]"
     ]
    },
    {
     "name": "stdout",
     "output_type": "stream",
     "text": [
      "Epoch 1, Loss: 473.8735\n"
     ]
    },
    {
     "name": "stderr",
     "output_type": "stream",
     "text": [
      "\n",
      "poch 2/300: 100%|██████████████| 991/991 [00:16<00:00, 60.68batch/s, batch_loss=15.8, batch_index=991, batch_size=220]"
     ]
    },
    {
     "name": "stdout",
     "output_type": "stream",
     "text": [
      "Epoch 2, Loss: 471.6425\n"
     ]
    },
    {
     "name": "stderr",
     "output_type": "stream",
     "text": [
      "\n",
      "poch 3/300: 100%|██████████████| 991/991 [00:15<00:00, 63.81batch/s, batch_loss=14.7, batch_index=991, batch_size=220]"
     ]
    },
    {
     "name": "stdout",
     "output_type": "stream",
     "text": [
      "Epoch 3, Loss: 471.0127\n"
     ]
    },
    {
     "name": "stderr",
     "output_type": "stream",
     "text": [
      "\n",
      "poch 4/300: 100%|██████████████| 991/991 [00:15<00:00, 63.46batch/s, batch_loss=13.9, batch_index=991, batch_size=220]"
     ]
    },
    {
     "name": "stdout",
     "output_type": "stream",
     "text": [
      "Epoch 4, Loss: 470.3259\n"
     ]
    },
    {
     "name": "stderr",
     "output_type": "stream",
     "text": [
      "\n",
      "poch 5/300: 100%|██████████████| 991/991 [00:15<00:00, 63.32batch/s, batch_loss=14.1, batch_index=991, batch_size=220]"
     ]
    },
    {
     "name": "stdout",
     "output_type": "stream",
     "text": [
      "Epoch 5, Loss: 469.7487\n"
     ]
    },
    {
     "name": "stderr",
     "output_type": "stream",
     "text": [
      "\n",
      "poch 6/300: 100%|██████████████| 991/991 [00:15<00:00, 64.17batch/s, batch_loss=13.6, batch_index=991, batch_size=220]"
     ]
    },
    {
     "name": "stdout",
     "output_type": "stream",
     "text": [
      "Epoch 6, Loss: 469.2202\n"
     ]
    },
    {
     "name": "stderr",
     "output_type": "stream",
     "text": [
      "\n",
      "poch 7/300: 100%|██████████████| 991/991 [00:15<00:00, 64.53batch/s, batch_loss=13.4, batch_index=991, batch_size=220]"
     ]
    },
    {
     "name": "stdout",
     "output_type": "stream",
     "text": [
      "Epoch 7, Loss: 468.6807\n"
     ]
    },
    {
     "name": "stderr",
     "output_type": "stream",
     "text": [
      "\n",
      "poch 8/300: 100%|██████████████| 991/991 [00:15<00:00, 62.56batch/s, batch_loss=12.7, batch_index=991, batch_size=220]"
     ]
    },
    {
     "name": "stdout",
     "output_type": "stream",
     "text": [
      "Epoch 8, Loss: 467.9101\n"
     ]
    },
    {
     "name": "stderr",
     "output_type": "stream",
     "text": [
      "\n",
      "poch 9/300: 100%|██████████████| 991/991 [00:15<00:00, 62.26batch/s, batch_loss=13.2, batch_index=991, batch_size=220]"
     ]
    },
    {
     "name": "stdout",
     "output_type": "stream",
     "text": [
      "Epoch 9, Loss: 467.4094\n"
     ]
    },
    {
     "name": "stderr",
     "output_type": "stream",
     "text": [
      "\n",
      "poch 10/300: 100%|█████████████| 991/991 [00:16<00:00, 61.62batch/s, batch_loss=12.7, batch_index=991, batch_size=220]"
     ]
    },
    {
     "name": "stdout",
     "output_type": "stream",
     "text": [
      "Epoch 10, Loss: 467.0614\n"
     ]
    },
    {
     "name": "stderr",
     "output_type": "stream",
     "text": [
      "\n",
      "poch 11/300: 100%|█████████████| 991/991 [00:15<00:00, 62.69batch/s, batch_loss=13.5, batch_index=991, batch_size=220]"
     ]
    },
    {
     "name": "stdout",
     "output_type": "stream",
     "text": [
      "Epoch 11, Loss: 466.1994\n"
     ]
    },
    {
     "name": "stderr",
     "output_type": "stream",
     "text": [
      "\n",
      "poch 12/300: 100%|█████████████| 991/991 [00:16<00:00, 60.75batch/s, batch_loss=12.7, batch_index=991, batch_size=220]"
     ]
    },
    {
     "name": "stdout",
     "output_type": "stream",
     "text": [
      "Epoch 12, Loss: 465.8663\n"
     ]
    },
    {
     "name": "stderr",
     "output_type": "stream",
     "text": [
      "\n",
      "poch 13/300: 100%|█████████████| 991/991 [00:16<00:00, 58.55batch/s, batch_loss=12.5, batch_index=991, batch_size=220]"
     ]
    },
    {
     "name": "stdout",
     "output_type": "stream",
     "text": [
      "Epoch 13, Loss: 465.7408\n"
     ]
    },
    {
     "name": "stderr",
     "output_type": "stream",
     "text": [
      "\n",
      "poch 14/300: 100%|███████████████| 991/991 [00:15<00:00, 63.25batch/s, batch_loss=12, batch_index=991, batch_size=220]"
     ]
    },
    {
     "name": "stdout",
     "output_type": "stream",
     "text": [
      "Epoch 14, Loss: 464.8677\n"
     ]
    },
    {
     "name": "stderr",
     "output_type": "stream",
     "text": [
      "\n",
      "poch 15/300: 100%|█████████████| 991/991 [00:15<00:00, 64.30batch/s, batch_loss=12.2, batch_index=991, batch_size=220]"
     ]
    },
    {
     "name": "stdout",
     "output_type": "stream",
     "text": [
      "Epoch 15, Loss: 463.9672\n"
     ]
    },
    {
     "name": "stderr",
     "output_type": "stream",
     "text": [
      "\n",
      "poch 16/300: 100%|█████████████| 991/991 [00:16<00:00, 61.26batch/s, batch_loss=12.7, batch_index=991, batch_size=220]"
     ]
    },
    {
     "name": "stdout",
     "output_type": "stream",
     "text": [
      "Epoch 16, Loss: 463.6745\n"
     ]
    },
    {
     "name": "stderr",
     "output_type": "stream",
     "text": [
      "\n",
      "poch 17/300: 100%|█████████████| 991/991 [00:15<00:00, 62.25batch/s, batch_loss=12.8, batch_index=991, batch_size=220]"
     ]
    },
    {
     "name": "stdout",
     "output_type": "stream",
     "text": [
      "Epoch 17, Loss: 462.8127\n"
     ]
    },
    {
     "name": "stderr",
     "output_type": "stream",
     "text": [
      "\n",
      "poch 18/300: 100%|█████████████| 991/991 [00:16<00:00, 61.34batch/s, batch_loss=13.5, batch_index=991, batch_size=220]"
     ]
    },
    {
     "name": "stdout",
     "output_type": "stream",
     "text": [
      "Epoch 18, Loss: 463.4311\n"
     ]
    },
    {
     "name": "stderr",
     "output_type": "stream",
     "text": [
      "\n",
      "poch 19/300: 100%|█████████████| 991/991 [00:15<00:00, 62.05batch/s, batch_loss=13.4, batch_index=991, batch_size=220]"
     ]
    },
    {
     "name": "stdout",
     "output_type": "stream",
     "text": [
      "Epoch 19, Loss: 462.2446\n"
     ]
    },
    {
     "name": "stderr",
     "output_type": "stream",
     "text": [
      "\n",
      "poch 20/300: 100%|█████████████| 991/991 [00:15<00:00, 63.23batch/s, batch_loss=13.5, batch_index=991, batch_size=220]"
     ]
    },
    {
     "name": "stdout",
     "output_type": "stream",
     "text": [
      "Epoch 20, Loss: 461.1100\n"
     ]
    },
    {
     "name": "stderr",
     "output_type": "stream",
     "text": [
      "\n",
      "poch 21/300: 100%|█████████████| 991/991 [01:40<00:00,  9.86batch/s, batch_loss=13.3, batch_index=991, batch_size=220]"
     ]
    },
    {
     "name": "stdout",
     "output_type": "stream",
     "text": [
      "Epoch 21, Loss: 461.7935\n"
     ]
    },
    {
     "name": "stderr",
     "output_type": "stream",
     "text": [
      "\n",
      "poch 22/300: 100%|█████████████| 991/991 [00:17<00:00, 57.92batch/s, batch_loss=12.1, batch_index=991, batch_size=220]"
     ]
    },
    {
     "name": "stdout",
     "output_type": "stream",
     "text": [
      "Epoch 22, Loss: 460.4359\n"
     ]
    },
    {
     "name": "stderr",
     "output_type": "stream",
     "text": [
      "\n",
      "poch 23/300: 100%|█████████████| 991/991 [00:16<00:00, 60.37batch/s, batch_loss=13.8, batch_index=991, batch_size=220]"
     ]
    },
    {
     "name": "stdout",
     "output_type": "stream",
     "text": [
      "Epoch 23, Loss: 460.6440\n"
     ]
    },
    {
     "name": "stderr",
     "output_type": "stream",
     "text": [
      "\n",
      "poch 24/300: 100%|█████████████| 991/991 [00:16<00:00, 60.29batch/s, batch_loss=12.8, batch_index=991, batch_size=220]"
     ]
    },
    {
     "name": "stdout",
     "output_type": "stream",
     "text": [
      "Epoch 24, Loss: 460.0455\n"
     ]
    },
    {
     "name": "stderr",
     "output_type": "stream",
     "text": [
      "\n",
      "poch 25/300: 100%|█████████████| 991/991 [00:16<00:00, 59.20batch/s, batch_loss=11.8, batch_index=991, batch_size=220]"
     ]
    },
    {
     "name": "stdout",
     "output_type": "stream",
     "text": [
      "Epoch 25, Loss: 458.4615\n"
     ]
    },
    {
     "name": "stderr",
     "output_type": "stream",
     "text": [
      "\n",
      "poch 26/300: 100%|█████████████| 991/991 [00:17<00:00, 58.12batch/s, batch_loss=12.6, batch_index=991, batch_size=220]"
     ]
    },
    {
     "name": "stdout",
     "output_type": "stream",
     "text": [
      "Epoch 26, Loss: 458.1159\n"
     ]
    },
    {
     "name": "stderr",
     "output_type": "stream",
     "text": [
      "\n",
      "poch 27/300: 100%|█████████████| 991/991 [00:15<00:00, 62.61batch/s, batch_loss=12.5, batch_index=991, batch_size=220]"
     ]
    },
    {
     "name": "stdout",
     "output_type": "stream",
     "text": [
      "Epoch 27, Loss: 457.9284\n"
     ]
    },
    {
     "name": "stderr",
     "output_type": "stream",
     "text": [
      "\n",
      "poch 28/300: 100%|█████████████| 991/991 [00:16<00:00, 60.60batch/s, batch_loss=12.4, batch_index=991, batch_size=220]"
     ]
    },
    {
     "name": "stdout",
     "output_type": "stream",
     "text": [
      "Epoch 28, Loss: 456.7573\n"
     ]
    },
    {
     "name": "stderr",
     "output_type": "stream",
     "text": [
      "\n",
      "poch 29/300: 100%|█████████████| 991/991 [00:15<00:00, 62.40batch/s, batch_loss=13.3, batch_index=991, batch_size=220]"
     ]
    },
    {
     "name": "stdout",
     "output_type": "stream",
     "text": [
      "Epoch 29, Loss: 457.5730\n"
     ]
    },
    {
     "name": "stderr",
     "output_type": "stream",
     "text": [
      "\n",
      "poch 30/300: 100%|█████████████| 991/991 [00:16<00:00, 60.63batch/s, batch_loss=12.6, batch_index=991, batch_size=220]"
     ]
    },
    {
     "name": "stdout",
     "output_type": "stream",
     "text": [
      "Epoch 30, Loss: 455.5265\n"
     ]
    },
    {
     "name": "stderr",
     "output_type": "stream",
     "text": [
      "\n",
      "poch 31/300: 100%|███████████████| 991/991 [00:15<00:00, 63.07batch/s, batch_loss=13, batch_index=991, batch_size=220]"
     ]
    },
    {
     "name": "stdout",
     "output_type": "stream",
     "text": [
      "Epoch 31, Loss: 456.2842\n"
     ]
    },
    {
     "name": "stderr",
     "output_type": "stream",
     "text": [
      "\n",
      "poch 32/300: 100%|█████████████| 991/991 [00:16<00:00, 61.02batch/s, batch_loss=13.4, batch_index=991, batch_size=220]"
     ]
    },
    {
     "name": "stdout",
     "output_type": "stream",
     "text": [
      "Epoch 32, Loss: 454.9942\n"
     ]
    },
    {
     "name": "stderr",
     "output_type": "stream",
     "text": [
      "\n",
      "poch 33/300: 100%|█████████████| 991/991 [00:15<00:00, 63.02batch/s, batch_loss=13.1, batch_index=991, batch_size=220]"
     ]
    },
    {
     "name": "stdout",
     "output_type": "stream",
     "text": [
      "Epoch 33, Loss: 455.7498\n"
     ]
    },
    {
     "name": "stderr",
     "output_type": "stream",
     "text": [
      "\n",
      "poch 34/300: 100%|█████████████| 991/991 [00:16<00:00, 60.58batch/s, batch_loss=12.9, batch_index=991, batch_size=220]"
     ]
    },
    {
     "name": "stdout",
     "output_type": "stream",
     "text": [
      "Epoch 34, Loss: 454.0053\n"
     ]
    },
    {
     "name": "stderr",
     "output_type": "stream",
     "text": [
      "\n",
      "poch 35/300: 100%|█████████████| 991/991 [00:15<00:00, 62.92batch/s, batch_loss=13.6, batch_index=991, batch_size=220]"
     ]
    },
    {
     "name": "stdout",
     "output_type": "stream",
     "text": [
      "Epoch 35, Loss: 453.4562\n"
     ]
    },
    {
     "name": "stderr",
     "output_type": "stream",
     "text": [
      "\n",
      "poch 36/300: 100%|█████████████| 991/991 [00:16<00:00, 61.53batch/s, batch_loss=13.8, batch_index=991, batch_size=220]"
     ]
    },
    {
     "name": "stdout",
     "output_type": "stream",
     "text": [
      "Epoch 36, Loss: 454.4077\n"
     ]
    },
    {
     "name": "stderr",
     "output_type": "stream",
     "text": [
      "\n",
      "poch 37/300: 100%|█████████████| 991/991 [00:16<00:00, 61.00batch/s, batch_loss=12.7, batch_index=991, batch_size=220]"
     ]
    },
    {
     "name": "stdout",
     "output_type": "stream",
     "text": [
      "Epoch 37, Loss: 453.4228\n"
     ]
    },
    {
     "name": "stderr",
     "output_type": "stream",
     "text": [
      "\n",
      "poch 38/300: 100%|█████████████| 991/991 [00:16<00:00, 61.24batch/s, batch_loss=13.2, batch_index=991, batch_size=220]"
     ]
    },
    {
     "name": "stdout",
     "output_type": "stream",
     "text": [
      "Epoch 38, Loss: 451.6200\n"
     ]
    },
    {
     "name": "stderr",
     "output_type": "stream",
     "text": [
      "\n",
      "poch 39/300: 100%|█████████████| 991/991 [00:16<00:00, 59.46batch/s, batch_loss=13.1, batch_index=991, batch_size=220]"
     ]
    },
    {
     "name": "stdout",
     "output_type": "stream",
     "text": [
      "Epoch 39, Loss: 450.9879\n"
     ]
    },
    {
     "name": "stderr",
     "output_type": "stream",
     "text": [
      "\n",
      "poch 40/300: 100%|█████████████| 991/991 [00:19<00:00, 50.25batch/s, batch_loss=14.2, batch_index=991, batch_size=220]"
     ]
    },
    {
     "name": "stdout",
     "output_type": "stream",
     "text": [
      "Epoch 40, Loss: 450.8994\n"
     ]
    },
    {
     "name": "stderr",
     "output_type": "stream",
     "text": [
      "\n",
      "poch 41/300: 100%|█████████████| 991/991 [00:15<00:00, 63.13batch/s, batch_loss=12.9, batch_index=991, batch_size=220]"
     ]
    },
    {
     "name": "stdout",
     "output_type": "stream",
     "text": [
      "Epoch 41, Loss: 450.9152\n"
     ]
    },
    {
     "name": "stderr",
     "output_type": "stream",
     "text": [
      "\n",
      "poch 42/300: 100%|█████████████| 991/991 [00:16<00:00, 61.66batch/s, batch_loss=13.7, batch_index=991, batch_size=220]"
     ]
    },
    {
     "name": "stdout",
     "output_type": "stream",
     "text": [
      "Epoch 42, Loss: 448.2025\n"
     ]
    },
    {
     "name": "stderr",
     "output_type": "stream",
     "text": [
      "\n",
      "poch 43/300: 100%|█████████████| 991/991 [00:17<00:00, 57.77batch/s, batch_loss=13.3, batch_index=991, batch_size=220]"
     ]
    },
    {
     "name": "stdout",
     "output_type": "stream",
     "text": [
      "Epoch 43, Loss: 448.9290\n"
     ]
    },
    {
     "name": "stderr",
     "output_type": "stream",
     "text": [
      "\n",
      "poch 44/300: 100%|█████████████| 991/991 [00:19<00:00, 51.55batch/s, batch_loss=12.6, batch_index=991, batch_size=220]"
     ]
    },
    {
     "name": "stdout",
     "output_type": "stream",
     "text": [
      "Epoch 44, Loss: 449.1749\n"
     ]
    },
    {
     "name": "stderr",
     "output_type": "stream",
     "text": [
      "\n",
      "poch 45/300: 100%|█████████████| 991/991 [00:16<00:00, 58.69batch/s, batch_loss=12.5, batch_index=991, batch_size=220]"
     ]
    },
    {
     "name": "stdout",
     "output_type": "stream",
     "text": [
      "Epoch 45, Loss: 450.1646\n"
     ]
    },
    {
     "name": "stderr",
     "output_type": "stream",
     "text": [
      "\n",
      "poch 46/300: 100%|█████████████| 991/991 [00:16<00:00, 60.93batch/s, batch_loss=11.9, batch_index=991, batch_size=220]"
     ]
    },
    {
     "name": "stdout",
     "output_type": "stream",
     "text": [
      "Epoch 46, Loss: 447.9587\n"
     ]
    },
    {
     "name": "stderr",
     "output_type": "stream",
     "text": [
      "\n",
      "poch 47/300: 100%|█████████████| 991/991 [00:16<00:00, 61.20batch/s, batch_loss=13.3, batch_index=991, batch_size=220]"
     ]
    },
    {
     "name": "stdout",
     "output_type": "stream",
     "text": [
      "Epoch 47, Loss: 446.5324\n"
     ]
    },
    {
     "name": "stderr",
     "output_type": "stream",
     "text": [
      "\n",
      "poch 48/300: 100%|█████████████| 991/991 [01:35<00:00, 10.37batch/s, batch_loss=11.7, batch_index=991, batch_size=220]"
     ]
    },
    {
     "name": "stdout",
     "output_type": "stream",
     "text": [
      "Epoch 48, Loss: 446.5573\n"
     ]
    },
    {
     "name": "stderr",
     "output_type": "stream",
     "text": [
      "\n",
      "poch 49/300: 100%|█████████████| 991/991 [00:17<00:00, 57.50batch/s, batch_loss=13.1, batch_index=991, batch_size=220]"
     ]
    },
    {
     "name": "stdout",
     "output_type": "stream",
     "text": [
      "Epoch 49, Loss: 443.6950\n"
     ]
    },
    {
     "name": "stderr",
     "output_type": "stream",
     "text": [
      "\n",
      "poch 50/300: 100%|█████████████| 991/991 [00:16<00:00, 59.81batch/s, batch_loss=12.1, batch_index=991, batch_size=220]"
     ]
    },
    {
     "name": "stdout",
     "output_type": "stream",
     "text": [
      "Epoch 50, Loss: 444.1803\n"
     ]
    },
    {
     "name": "stderr",
     "output_type": "stream",
     "text": [
      "\n",
      "poch 51/300: 100%|███████████████| 991/991 [00:16<00:00, 59.49batch/s, batch_loss=13, batch_index=991, batch_size=220]"
     ]
    },
    {
     "name": "stdout",
     "output_type": "stream",
     "text": [
      "Epoch 51, Loss: 446.6154\n"
     ]
    },
    {
     "name": "stderr",
     "output_type": "stream",
     "text": [
      "\n",
      "poch 52/300: 100%|█████████████| 991/991 [00:16<00:00, 59.44batch/s, batch_loss=12.7, batch_index=991, batch_size=220]"
     ]
    },
    {
     "name": "stdout",
     "output_type": "stream",
     "text": [
      "Epoch 52, Loss: 444.4551\n"
     ]
    },
    {
     "name": "stderr",
     "output_type": "stream",
     "text": [
      "\n",
      "poch 53/300: 100%|█████████████| 991/991 [00:17<00:00, 58.19batch/s, batch_loss=13.3, batch_index=991, batch_size=220]"
     ]
    },
    {
     "name": "stdout",
     "output_type": "stream",
     "text": [
      "Epoch 53, Loss: 443.2515\n"
     ]
    },
    {
     "name": "stderr",
     "output_type": "stream",
     "text": [
      "\n",
      "poch 54/300: 100%|█████████████| 991/991 [00:16<00:00, 59.49batch/s, batch_loss=13.7, batch_index=991, batch_size=220]"
     ]
    },
    {
     "name": "stdout",
     "output_type": "stream",
     "text": [
      "Epoch 54, Loss: 445.0330\n"
     ]
    },
    {
     "name": "stderr",
     "output_type": "stream",
     "text": [
      "\n",
      "poch 55/300: 100%|█████████████| 991/991 [00:17<00:00, 55.27batch/s, batch_loss=15.2, batch_index=991, batch_size=220]"
     ]
    },
    {
     "name": "stdout",
     "output_type": "stream",
     "text": [
      "Epoch 55, Loss: 442.2155\n"
     ]
    },
    {
     "name": "stderr",
     "output_type": "stream",
     "text": [
      "\n",
      "poch 56/300: 100%|█████████████| 991/991 [00:16<00:00, 61.78batch/s, batch_loss=13.2, batch_index=991, batch_size=220]"
     ]
    },
    {
     "name": "stdout",
     "output_type": "stream",
     "text": [
      "Epoch 56, Loss: 440.4402\n"
     ]
    },
    {
     "name": "stderr",
     "output_type": "stream",
     "text": [
      "\n",
      "poch 57/300: 100%|█████████████| 991/991 [00:16<00:00, 58.85batch/s, batch_loss=12.4, batch_index=991, batch_size=220]"
     ]
    },
    {
     "name": "stdout",
     "output_type": "stream",
     "text": [
      "Epoch 57, Loss: 440.1295\n"
     ]
    },
    {
     "name": "stderr",
     "output_type": "stream",
     "text": [
      "\n",
      "poch 58/300: 100%|█████████████| 991/991 [00:16<00:00, 60.84batch/s, batch_loss=11.7, batch_index=991, batch_size=220]"
     ]
    },
    {
     "name": "stdout",
     "output_type": "stream",
     "text": [
      "Epoch 58, Loss: 438.2138\n"
     ]
    },
    {
     "name": "stderr",
     "output_type": "stream",
     "text": [
      "\n",
      "poch 59/300: 100%|█████████████| 991/991 [00:17<00:00, 58.24batch/s, batch_loss=14.5, batch_index=991, batch_size=220]"
     ]
    },
    {
     "name": "stdout",
     "output_type": "stream",
     "text": [
      "Epoch 59, Loss: 437.2834\n"
     ]
    },
    {
     "name": "stderr",
     "output_type": "stream",
     "text": [
      "\n",
      "poch 60/300: 100%|█████████████| 991/991 [00:15<00:00, 62.10batch/s, batch_loss=11.6, batch_index=991, batch_size=220]"
     ]
    },
    {
     "name": "stdout",
     "output_type": "stream",
     "text": [
      "Epoch 60, Loss: 438.9555\n"
     ]
    },
    {
     "name": "stderr",
     "output_type": "stream",
     "text": [
      "\n",
      "poch 61/300: 100%|█████████████| 991/991 [00:16<00:00, 58.75batch/s, batch_loss=12.2, batch_index=991, batch_size=220]"
     ]
    },
    {
     "name": "stdout",
     "output_type": "stream",
     "text": [
      "Epoch 61, Loss: 436.0142\n"
     ]
    },
    {
     "name": "stderr",
     "output_type": "stream",
     "text": [
      "\n",
      "poch 62/300: 100%|█████████████| 991/991 [00:16<00:00, 61.12batch/s, batch_loss=12.1, batch_index=991, batch_size=220]"
     ]
    },
    {
     "name": "stdout",
     "output_type": "stream",
     "text": [
      "Epoch 62, Loss: 436.5230\n"
     ]
    },
    {
     "name": "stderr",
     "output_type": "stream",
     "text": [
      "\n",
      "poch 63/300: 100%|█████████████| 991/991 [00:16<00:00, 59.47batch/s, batch_loss=13.1, batch_index=991, batch_size=220]"
     ]
    },
    {
     "name": "stdout",
     "output_type": "stream",
     "text": [
      "Epoch 63, Loss: 435.8932\n"
     ]
    },
    {
     "name": "stderr",
     "output_type": "stream",
     "text": [
      "\n",
      "poch 64/300: 100%|█████████████| 991/991 [00:16<00:00, 60.85batch/s, batch_loss=12.5, batch_index=991, batch_size=220]"
     ]
    },
    {
     "name": "stdout",
     "output_type": "stream",
     "text": [
      "Epoch 64, Loss: 435.0409\n"
     ]
    },
    {
     "name": "stderr",
     "output_type": "stream",
     "text": [
      "\n",
      "poch 65/300: 100%|█████████████| 991/991 [00:16<00:00, 61.36batch/s, batch_loss=13.6, batch_index=991, batch_size=220]"
     ]
    },
    {
     "name": "stdout",
     "output_type": "stream",
     "text": [
      "Epoch 65, Loss: 431.8752\n"
     ]
    },
    {
     "name": "stderr",
     "output_type": "stream",
     "text": [
      "\n",
      "poch 66/300: 100%|█████████████| 991/991 [00:16<00:00, 58.61batch/s, batch_loss=10.8, batch_index=991, batch_size=220]"
     ]
    },
    {
     "name": "stdout",
     "output_type": "stream",
     "text": [
      "Epoch 66, Loss: 431.9213\n"
     ]
    },
    {
     "name": "stderr",
     "output_type": "stream",
     "text": [
      "\n",
      "poch 67/300: 100%|█████████████| 991/991 [00:15<00:00, 62.63batch/s, batch_loss=13.5, batch_index=991, batch_size=220]"
     ]
    },
    {
     "name": "stdout",
     "output_type": "stream",
     "text": [
      "Epoch 67, Loss: 434.4780\n"
     ]
    },
    {
     "name": "stderr",
     "output_type": "stream",
     "text": [
      "\n",
      "poch 68/300: 100%|█████████████| 991/991 [00:16<00:00, 59.23batch/s, batch_loss=11.3, batch_index=991, batch_size=220]"
     ]
    },
    {
     "name": "stdout",
     "output_type": "stream",
     "text": [
      "Epoch 68, Loss: 434.0792\n"
     ]
    },
    {
     "name": "stderr",
     "output_type": "stream",
     "text": [
      "\n",
      "poch 69/300: 100%|█████████████| 991/991 [00:16<00:00, 60.98batch/s, batch_loss=11.4, batch_index=991, batch_size=220]"
     ]
    },
    {
     "name": "stdout",
     "output_type": "stream",
     "text": [
      "Epoch 69, Loss: 432.3521\n"
     ]
    },
    {
     "name": "stderr",
     "output_type": "stream",
     "text": [
      "\n",
      "poch 70/300: 100%|█████████████| 991/991 [00:16<00:00, 59.01batch/s, batch_loss=12.8, batch_index=991, batch_size=220]"
     ]
    },
    {
     "name": "stdout",
     "output_type": "stream",
     "text": [
      "Epoch 70, Loss: 433.0250\n"
     ]
    },
    {
     "name": "stderr",
     "output_type": "stream",
     "text": [
      "\n",
      "poch 71/300: 100%|█████████████| 991/991 [00:16<00:00, 60.41batch/s, batch_loss=10.9, batch_index=991, batch_size=220]"
     ]
    },
    {
     "name": "stdout",
     "output_type": "stream",
     "text": [
      "Epoch 71, Loss: 430.3986\n"
     ]
    },
    {
     "name": "stderr",
     "output_type": "stream",
     "text": [
      "\n",
      "poch 72/300: 100%|█████████████| 991/991 [00:16<00:00, 59.82batch/s, batch_loss=12.6, batch_index=991, batch_size=220]"
     ]
    },
    {
     "name": "stdout",
     "output_type": "stream",
     "text": [
      "Epoch 72, Loss: 427.5343\n"
     ]
    },
    {
     "name": "stderr",
     "output_type": "stream",
     "text": [
      "\n",
      "poch 73/300: 100%|█████████████| 991/991 [00:16<00:00, 59.74batch/s, batch_loss=12.7, batch_index=991, batch_size=220]"
     ]
    },
    {
     "name": "stdout",
     "output_type": "stream",
     "text": [
      "Epoch 73, Loss: 429.9748\n"
     ]
    },
    {
     "name": "stderr",
     "output_type": "stream",
     "text": [
      "\n",
      "poch 74/300: 100%|█████████████| 991/991 [00:16<00:00, 60.34batch/s, batch_loss=13.1, batch_index=991, batch_size=220]"
     ]
    },
    {
     "name": "stdout",
     "output_type": "stream",
     "text": [
      "Epoch 74, Loss: 429.5800\n"
     ]
    },
    {
     "name": "stderr",
     "output_type": "stream",
     "text": [
      "\n",
      "poch 75/300: 100%|█████████████| 991/991 [01:20<00:00, 12.34batch/s, batch_loss=12.7, batch_index=991, batch_size=220]"
     ]
    },
    {
     "name": "stdout",
     "output_type": "stream",
     "text": [
      "Epoch 75, Loss: 425.7291\n"
     ]
    },
    {
     "name": "stderr",
     "output_type": "stream",
     "text": [
      "\n",
      "poch 76/300: 100%|█████████████| 991/991 [00:17<00:00, 57.58batch/s, batch_loss=14.1, batch_index=991, batch_size=220]"
     ]
    },
    {
     "name": "stdout",
     "output_type": "stream",
     "text": [
      "Epoch 76, Loss: 426.3083\n"
     ]
    },
    {
     "name": "stderr",
     "output_type": "stream",
     "text": [
      "\n",
      "poch 77/300: 100%|█████████████| 991/991 [00:17<00:00, 57.91batch/s, batch_loss=13.7, batch_index=991, batch_size=220]"
     ]
    },
    {
     "name": "stdout",
     "output_type": "stream",
     "text": [
      "Epoch 77, Loss: 428.7266\n"
     ]
    },
    {
     "name": "stderr",
     "output_type": "stream",
     "text": [
      "\n",
      "poch 78/300: 100%|█████████████| 991/991 [00:16<00:00, 61.06batch/s, batch_loss=12.5, batch_index=991, batch_size=220]"
     ]
    },
    {
     "name": "stdout",
     "output_type": "stream",
     "text": [
      "Epoch 78, Loss: 429.1055\n"
     ]
    },
    {
     "name": "stderr",
     "output_type": "stream",
     "text": [
      "\n",
      "poch 79/300: 100%|█████████████| 991/991 [00:16<00:00, 59.02batch/s, batch_loss=12.9, batch_index=991, batch_size=220]"
     ]
    },
    {
     "name": "stdout",
     "output_type": "stream",
     "text": [
      "Epoch 79, Loss: 425.5706\n"
     ]
    },
    {
     "name": "stderr",
     "output_type": "stream",
     "text": [
      "\n",
      "poch 80/300: 100%|█████████████| 991/991 [00:16<00:00, 61.59batch/s, batch_loss=13.1, batch_index=991, batch_size=220]"
     ]
    },
    {
     "name": "stdout",
     "output_type": "stream",
     "text": [
      "Epoch 80, Loss: 428.6628\n"
     ]
    },
    {
     "name": "stderr",
     "output_type": "stream",
     "text": [
      "\n",
      "poch 81/300: 100%|█████████████| 991/991 [00:16<00:00, 59.25batch/s, batch_loss=14.3, batch_index=991, batch_size=220]"
     ]
    },
    {
     "name": "stdout",
     "output_type": "stream",
     "text": [
      "Epoch 81, Loss: 425.6398\n"
     ]
    },
    {
     "name": "stderr",
     "output_type": "stream",
     "text": [
      "\n",
      "poch 82/300: 100%|█████████████| 991/991 [00:16<00:00, 60.70batch/s, batch_loss=13.3, batch_index=991, batch_size=220]"
     ]
    },
    {
     "name": "stdout",
     "output_type": "stream",
     "text": [
      "Epoch 82, Loss: 424.2435\n"
     ]
    },
    {
     "name": "stderr",
     "output_type": "stream",
     "text": [
      "\n",
      "poch 83/300: 100%|███████████████| 991/991 [00:16<00:00, 59.98batch/s, batch_loss=13, batch_index=991, batch_size=220]"
     ]
    },
    {
     "name": "stdout",
     "output_type": "stream",
     "text": [
      "Epoch 83, Loss: 426.3995\n"
     ]
    },
    {
     "name": "stderr",
     "output_type": "stream",
     "text": [
      "\n",
      "poch 84/300: 100%|█████████████| 991/991 [00:16<00:00, 59.17batch/s, batch_loss=13.6, batch_index=991, batch_size=220]"
     ]
    },
    {
     "name": "stdout",
     "output_type": "stream",
     "text": [
      "Epoch 84, Loss: 425.9991\n"
     ]
    },
    {
     "name": "stderr",
     "output_type": "stream",
     "text": [
      "\n",
      "poch 85/300: 100%|█████████████| 991/991 [00:16<00:00, 61.31batch/s, batch_loss=12.7, batch_index=991, batch_size=220]"
     ]
    },
    {
     "name": "stdout",
     "output_type": "stream",
     "text": [
      "Epoch 85, Loss: 426.9128\n"
     ]
    },
    {
     "name": "stderr",
     "output_type": "stream",
     "text": [
      "\n",
      "poch 86/300: 100%|█████████████| 991/991 [00:16<00:00, 60.34batch/s, batch_loss=13.6, batch_index=991, batch_size=220]"
     ]
    },
    {
     "name": "stdout",
     "output_type": "stream",
     "text": [
      "Epoch 86, Loss: 424.4673\n"
     ]
    },
    {
     "name": "stderr",
     "output_type": "stream",
     "text": [
      "\n",
      "poch 87/300: 100%|███████████████| 991/991 [00:16<00:00, 61.28batch/s, batch_loss=16, batch_index=991, batch_size=220]"
     ]
    },
    {
     "name": "stdout",
     "output_type": "stream",
     "text": [
      "Epoch 87, Loss: 419.0431\n"
     ]
    },
    {
     "name": "stderr",
     "output_type": "stream",
     "text": [
      "\n",
      "poch 88/300: 100%|███████████████| 991/991 [00:16<00:00, 60.45batch/s, batch_loss=12, batch_index=991, batch_size=220]"
     ]
    },
    {
     "name": "stdout",
     "output_type": "stream",
     "text": [
      "Epoch 88, Loss: 418.9538\n"
     ]
    },
    {
     "name": "stderr",
     "output_type": "stream",
     "text": [
      "\n",
      "poch 89/300: 100%|█████████████| 991/991 [00:16<00:00, 61.49batch/s, batch_loss=12.2, batch_index=991, batch_size=220]"
     ]
    },
    {
     "name": "stdout",
     "output_type": "stream",
     "text": [
      "Epoch 89, Loss: 419.0056\n"
     ]
    },
    {
     "name": "stderr",
     "output_type": "stream",
     "text": [
      "\n",
      "poch 90/300: 100%|█████████████| 991/991 [00:16<00:00, 58.49batch/s, batch_loss=14.2, batch_index=991, batch_size=220]"
     ]
    },
    {
     "name": "stdout",
     "output_type": "stream",
     "text": [
      "Epoch 90, Loss: 421.3725\n"
     ]
    },
    {
     "name": "stderr",
     "output_type": "stream",
     "text": [
      "\n",
      "poch 91/300: 100%|█████████████| 991/991 [00:16<00:00, 60.02batch/s, batch_loss=14.6, batch_index=991, batch_size=220]"
     ]
    },
    {
     "name": "stdout",
     "output_type": "stream",
     "text": [
      "Epoch 91, Loss: 425.3686\n"
     ]
    },
    {
     "name": "stderr",
     "output_type": "stream",
     "text": [
      "\n",
      "poch 92/300: 100%|█████████████| 991/991 [00:16<00:00, 60.67batch/s, batch_loss=13.4, batch_index=991, batch_size=220]"
     ]
    },
    {
     "name": "stdout",
     "output_type": "stream",
     "text": [
      "Epoch 92, Loss: 420.7511\n"
     ]
    },
    {
     "name": "stderr",
     "output_type": "stream",
     "text": [
      "\n",
      "poch 93/300: 100%|█████████████| 991/991 [00:16<00:00, 59.69batch/s, batch_loss=13.7, batch_index=991, batch_size=220]"
     ]
    },
    {
     "name": "stdout",
     "output_type": "stream",
     "text": [
      "Epoch 93, Loss: 417.0078\n"
     ]
    },
    {
     "name": "stderr",
     "output_type": "stream",
     "text": [
      "\n",
      "poch 94/300: 100%|█████████████| 991/991 [00:16<00:00, 58.47batch/s, batch_loss=14.3, batch_index=991, batch_size=220]"
     ]
    },
    {
     "name": "stdout",
     "output_type": "stream",
     "text": [
      "Epoch 94, Loss: 418.6029\n"
     ]
    },
    {
     "name": "stderr",
     "output_type": "stream",
     "text": [
      "\n",
      "poch 95/300: 100%|█████████████| 991/991 [00:16<00:00, 58.87batch/s, batch_loss=16.6, batch_index=991, batch_size=220]"
     ]
    },
    {
     "name": "stdout",
     "output_type": "stream",
     "text": [
      "Epoch 95, Loss: 419.2769\n"
     ]
    },
    {
     "name": "stderr",
     "output_type": "stream",
     "text": [
      "\n",
      "poch 96/300: 100%|█████████████| 991/991 [00:16<00:00, 58.89batch/s, batch_loss=16.4, batch_index=991, batch_size=220]"
     ]
    },
    {
     "name": "stdout",
     "output_type": "stream",
     "text": [
      "Epoch 96, Loss: 417.5099\n"
     ]
    },
    {
     "name": "stderr",
     "output_type": "stream",
     "text": [
      "\n",
      "poch 97/300: 100%|█████████████| 991/991 [00:16<00:00, 59.90batch/s, batch_loss=14.9, batch_index=991, batch_size=220]"
     ]
    },
    {
     "name": "stdout",
     "output_type": "stream",
     "text": [
      "Epoch 97, Loss: 413.5517\n"
     ]
    },
    {
     "name": "stderr",
     "output_type": "stream",
     "text": [
      "\n",
      "poch 98/300: 100%|█████████████| 991/991 [00:16<00:00, 58.74batch/s, batch_loss=16.4, batch_index=991, batch_size=220]"
     ]
    },
    {
     "name": "stdout",
     "output_type": "stream",
     "text": [
      "Epoch 98, Loss: 413.3800\n"
     ]
    },
    {
     "name": "stderr",
     "output_type": "stream",
     "text": [
      "\n",
      "poch 99/300: 100%|█████████████| 991/991 [00:16<00:00, 60.17batch/s, batch_loss=15.7, batch_index=991, batch_size=220]"
     ]
    },
    {
     "name": "stdout",
     "output_type": "stream",
     "text": [
      "Epoch 99, Loss: 413.2071\n"
     ]
    },
    {
     "name": "stderr",
     "output_type": "stream",
     "text": [
      "\n",
      "poch 100/300: 100%|████████████| 991/991 [00:16<00:00, 61.61batch/s, batch_loss=16.1, batch_index=991, batch_size=220]"
     ]
    },
    {
     "name": "stdout",
     "output_type": "stream",
     "text": [
      "Epoch 100, Loss: 414.1717\n"
     ]
    },
    {
     "name": "stderr",
     "output_type": "stream",
     "text": [
      "\n",
      "poch 101/300: 100%|████████████| 991/991 [00:17<00:00, 58.23batch/s, batch_loss=15.4, batch_index=991, batch_size=220]"
     ]
    },
    {
     "name": "stdout",
     "output_type": "stream",
     "text": [
      "Epoch 101, Loss: 410.3121\n"
     ]
    },
    {
     "name": "stderr",
     "output_type": "stream",
     "text": [
      "\n",
      "poch 102/300: 100%|████████████| 991/991 [01:15<00:00, 13.15batch/s, batch_loss=15.9, batch_index=991, batch_size=220]"
     ]
    },
    {
     "name": "stdout",
     "output_type": "stream",
     "text": [
      "Epoch 102, Loss: 411.1127\n"
     ]
    },
    {
     "name": "stderr",
     "output_type": "stream",
     "text": [
      "\n",
      "poch 103/300: 100%|████████████| 991/991 [00:18<00:00, 52.78batch/s, batch_loss=12.6, batch_index=991, batch_size=220]"
     ]
    },
    {
     "name": "stdout",
     "output_type": "stream",
     "text": [
      "Epoch 103, Loss: 410.8869\n"
     ]
    },
    {
     "name": "stderr",
     "output_type": "stream",
     "text": [
      "\n",
      "poch 104/300: 100%|████████████| 991/991 [00:17<00:00, 56.48batch/s, batch_loss=18.7, batch_index=991, batch_size=220]"
     ]
    },
    {
     "name": "stdout",
     "output_type": "stream",
     "text": [
      "Epoch 104, Loss: 410.1893\n"
     ]
    },
    {
     "name": "stderr",
     "output_type": "stream",
     "text": [
      "\n",
      "poch 105/300: 100%|████████████| 991/991 [00:17<00:00, 57.84batch/s, batch_loss=14.7, batch_index=991, batch_size=220]"
     ]
    },
    {
     "name": "stdout",
     "output_type": "stream",
     "text": [
      "Epoch 105, Loss: 408.8645\n"
     ]
    },
    {
     "name": "stderr",
     "output_type": "stream",
     "text": [
      "\n",
      "poch 106/300: 100%|████████████| 991/991 [00:16<00:00, 58.33batch/s, batch_loss=14.5, batch_index=991, batch_size=220]"
     ]
    },
    {
     "name": "stdout",
     "output_type": "stream",
     "text": [
      "Epoch 106, Loss: 409.6502\n"
     ]
    },
    {
     "name": "stderr",
     "output_type": "stream",
     "text": [
      "\n",
      "poch 107/300: 100%|████████████| 991/991 [00:16<00:00, 61.31batch/s, batch_loss=14.4, batch_index=991, batch_size=220]"
     ]
    },
    {
     "name": "stdout",
     "output_type": "stream",
     "text": [
      "Epoch 107, Loss: 416.9601\n"
     ]
    },
    {
     "name": "stderr",
     "output_type": "stream",
     "text": [
      "\n",
      "poch 108/300: 100%|████████████| 991/991 [00:16<00:00, 59.45batch/s, batch_loss=13.8, batch_index=991, batch_size=220]"
     ]
    },
    {
     "name": "stdout",
     "output_type": "stream",
     "text": [
      "Epoch 108, Loss: 403.8881\n"
     ]
    },
    {
     "name": "stderr",
     "output_type": "stream",
     "text": [
      "\n",
      "poch 109/300: 100%|████████████| 991/991 [00:16<00:00, 59.66batch/s, batch_loss=13.3, batch_index=991, batch_size=220]"
     ]
    },
    {
     "name": "stdout",
     "output_type": "stream",
     "text": [
      "Epoch 109, Loss: 401.1208\n"
     ]
    },
    {
     "name": "stderr",
     "output_type": "stream",
     "text": [
      "\n",
      "poch 110/300: 100%|████████████| 991/991 [00:16<00:00, 59.95batch/s, batch_loss=15.9, batch_index=991, batch_size=220]"
     ]
    },
    {
     "name": "stdout",
     "output_type": "stream",
     "text": [
      "Epoch 110, Loss: 407.6328\n"
     ]
    },
    {
     "name": "stderr",
     "output_type": "stream",
     "text": [
      "\n",
      "poch 111/300: 100%|████████████| 991/991 [00:16<00:00, 59.54batch/s, batch_loss=15.4, batch_index=991, batch_size=220]"
     ]
    },
    {
     "name": "stdout",
     "output_type": "stream",
     "text": [
      "Epoch 111, Loss: 405.8432\n"
     ]
    },
    {
     "name": "stderr",
     "output_type": "stream",
     "text": [
      "\n",
      "poch 112/300: 100%|████████████| 991/991 [00:16<00:00, 59.49batch/s, batch_loss=14.1, batch_index=991, batch_size=220]"
     ]
    },
    {
     "name": "stdout",
     "output_type": "stream",
     "text": [
      "Epoch 112, Loss: 413.8871\n"
     ]
    },
    {
     "name": "stderr",
     "output_type": "stream",
     "text": [
      "\n",
      "poch 113/300: 100%|██████████████| 991/991 [00:15<00:00, 62.43batch/s, batch_loss=15, batch_index=991, batch_size=220]"
     ]
    },
    {
     "name": "stdout",
     "output_type": "stream",
     "text": [
      "Epoch 113, Loss: 402.5532\n"
     ]
    },
    {
     "name": "stderr",
     "output_type": "stream",
     "text": [
      "\n",
      "poch 114/300: 100%|████████████| 991/991 [00:16<00:00, 58.65batch/s, batch_loss=14.8, batch_index=991, batch_size=220]"
     ]
    },
    {
     "name": "stdout",
     "output_type": "stream",
     "text": [
      "Epoch 114, Loss: 402.9835\n"
     ]
    },
    {
     "name": "stderr",
     "output_type": "stream",
     "text": [
      "\n",
      "poch 115/300: 100%|████████████| 991/991 [00:19<00:00, 51.74batch/s, batch_loss=14.6, batch_index=991, batch_size=220]"
     ]
    },
    {
     "name": "stdout",
     "output_type": "stream",
     "text": [
      "Epoch 115, Loss: 400.3406\n"
     ]
    },
    {
     "name": "stderr",
     "output_type": "stream",
     "text": [
      "\n",
      "poch 116/300: 100%|████████████| 991/991 [00:18<00:00, 52.52batch/s, batch_loss=16.5, batch_index=991, batch_size=220]"
     ]
    },
    {
     "name": "stdout",
     "output_type": "stream",
     "text": [
      "Epoch 116, Loss: 402.5827\n"
     ]
    },
    {
     "name": "stderr",
     "output_type": "stream",
     "text": [
      "\n",
      "poch 117/300: 100%|████████████| 991/991 [00:16<00:00, 59.42batch/s, batch_loss=14.8, batch_index=991, batch_size=220]"
     ]
    },
    {
     "name": "stdout",
     "output_type": "stream",
     "text": [
      "Epoch 117, Loss: 400.9719\n"
     ]
    },
    {
     "name": "stderr",
     "output_type": "stream",
     "text": [
      "\n",
      "poch 118/300: 100%|████████████| 991/991 [00:15<00:00, 62.20batch/s, batch_loss=19.8, batch_index=991, batch_size=220]"
     ]
    },
    {
     "name": "stdout",
     "output_type": "stream",
     "text": [
      "Epoch 118, Loss: 399.8837\n"
     ]
    },
    {
     "name": "stderr",
     "output_type": "stream",
     "text": [
      "\n",
      "poch 119/300: 100%|████████████| 991/991 [00:17<00:00, 58.27batch/s, batch_loss=14.1, batch_index=991, batch_size=220]"
     ]
    },
    {
     "name": "stdout",
     "output_type": "stream",
     "text": [
      "Epoch 119, Loss: 406.5151\n"
     ]
    },
    {
     "name": "stderr",
     "output_type": "stream",
     "text": [
      "\n",
      "poch 120/300: 100%|████████████| 991/991 [00:16<00:00, 60.31batch/s, batch_loss=14.6, batch_index=991, batch_size=220]"
     ]
    },
    {
     "name": "stdout",
     "output_type": "stream",
     "text": [
      "Epoch 120, Loss: 396.1484\n"
     ]
    },
    {
     "name": "stderr",
     "output_type": "stream",
     "text": [
      "\n",
      "poch 121/300: 100%|██████████████| 991/991 [00:16<00:00, 59.32batch/s, batch_loss=14, batch_index=991, batch_size=220]"
     ]
    },
    {
     "name": "stdout",
     "output_type": "stream",
     "text": [
      "Epoch 121, Loss: 401.2706\n"
     ]
    },
    {
     "name": "stderr",
     "output_type": "stream",
     "text": [
      "\n",
      "poch 122/300: 100%|████████████| 991/991 [00:16<00:00, 59.67batch/s, batch_loss=16.3, batch_index=991, batch_size=220]"
     ]
    },
    {
     "name": "stdout",
     "output_type": "stream",
     "text": [
      "Epoch 122, Loss: 400.7990\n"
     ]
    },
    {
     "name": "stderr",
     "output_type": "stream",
     "text": [
      "\n",
      "poch 123/300: 100%|██████████████| 991/991 [00:16<00:00, 58.99batch/s, batch_loss=13, batch_index=991, batch_size=220]"
     ]
    },
    {
     "name": "stdout",
     "output_type": "stream",
     "text": [
      "Epoch 123, Loss: 394.7050\n"
     ]
    },
    {
     "name": "stderr",
     "output_type": "stream",
     "text": [
      "\n",
      "poch 124/300: 100%|██████████████| 991/991 [00:16<00:00, 58.84batch/s, batch_loss=13, batch_index=991, batch_size=220]"
     ]
    },
    {
     "name": "stdout",
     "output_type": "stream",
     "text": [
      "Epoch 124, Loss: 396.2533\n"
     ]
    },
    {
     "name": "stderr",
     "output_type": "stream",
     "text": [
      "\n",
      "poch 125/300: 100%|████████████| 991/991 [00:16<00:00, 58.42batch/s, batch_loss=12.4, batch_index=991, batch_size=220]"
     ]
    },
    {
     "name": "stdout",
     "output_type": "stream",
     "text": [
      "Epoch 125, Loss: 397.6332\n"
     ]
    },
    {
     "name": "stderr",
     "output_type": "stream",
     "text": [
      "\n",
      "poch 126/300: 100%|████████████| 991/991 [00:17<00:00, 56.96batch/s, batch_loss=12.2, batch_index=991, batch_size=220]"
     ]
    },
    {
     "name": "stdout",
     "output_type": "stream",
     "text": [
      "Epoch 126, Loss: 400.2237\n"
     ]
    },
    {
     "name": "stderr",
     "output_type": "stream",
     "text": [
      "\n",
      "poch 127/300: 100%|████████████| 991/991 [00:17<00:00, 56.96batch/s, batch_loss=12.3, batch_index=991, batch_size=220]"
     ]
    },
    {
     "name": "stdout",
     "output_type": "stream",
     "text": [
      "Epoch 127, Loss: 390.2936\n"
     ]
    },
    {
     "name": "stderr",
     "output_type": "stream",
     "text": [
      "\n",
      "poch 128/300: 100%|████████████| 991/991 [00:16<00:00, 59.56batch/s, batch_loss=14.1, batch_index=991, batch_size=220]"
     ]
    },
    {
     "name": "stdout",
     "output_type": "stream",
     "text": [
      "Epoch 128, Loss: 390.4968\n"
     ]
    },
    {
     "name": "stderr",
     "output_type": "stream",
     "text": [
      "\n",
      "poch 129/300: 100%|████████████| 991/991 [01:27<00:00, 11.35batch/s, batch_loss=14.4, batch_index=991, batch_size=220]"
     ]
    },
    {
     "name": "stdout",
     "output_type": "stream",
     "text": [
      "Epoch 129, Loss: 401.1452\n"
     ]
    },
    {
     "name": "stderr",
     "output_type": "stream",
     "text": [
      "\n",
      "poch 130/300: 100%|████████████| 991/991 [00:17<00:00, 56.03batch/s, batch_loss=14.2, batch_index=991, batch_size=220]"
     ]
    },
    {
     "name": "stdout",
     "output_type": "stream",
     "text": [
      "Epoch 130, Loss: 397.5510\n"
     ]
    },
    {
     "name": "stderr",
     "output_type": "stream",
     "text": [
      "\n",
      "poch 131/300: 100%|████████████| 991/991 [00:16<00:00, 58.93batch/s, batch_loss=12.4, batch_index=991, batch_size=220]"
     ]
    },
    {
     "name": "stdout",
     "output_type": "stream",
     "text": [
      "Epoch 131, Loss: 399.1463\n"
     ]
    },
    {
     "name": "stderr",
     "output_type": "stream",
     "text": [
      "\n",
      "poch 132/300: 100%|████████████| 991/991 [00:17<00:00, 57.96batch/s, batch_loss=14.2, batch_index=991, batch_size=220]"
     ]
    },
    {
     "name": "stdout",
     "output_type": "stream",
     "text": [
      "Epoch 132, Loss: 398.0087\n"
     ]
    },
    {
     "name": "stderr",
     "output_type": "stream",
     "text": [
      "\n",
      "poch 133/300: 100%|████████████| 991/991 [00:16<00:00, 58.35batch/s, batch_loss=13.5, batch_index=991, batch_size=220]"
     ]
    },
    {
     "name": "stdout",
     "output_type": "stream",
     "text": [
      "Epoch 133, Loss: 391.9096\n"
     ]
    },
    {
     "name": "stderr",
     "output_type": "stream",
     "text": [
      "\n",
      "poch 134/300: 100%|████████████| 991/991 [00:16<00:00, 58.60batch/s, batch_loss=15.1, batch_index=991, batch_size=220]"
     ]
    },
    {
     "name": "stdout",
     "output_type": "stream",
     "text": [
      "Epoch 134, Loss: 388.1353\n"
     ]
    },
    {
     "name": "stderr",
     "output_type": "stream",
     "text": [
      "\n",
      "poch 135/300: 100%|████████████| 991/991 [00:16<00:00, 58.41batch/s, batch_loss=12.6, batch_index=991, batch_size=220]"
     ]
    },
    {
     "name": "stdout",
     "output_type": "stream",
     "text": [
      "Epoch 135, Loss: 388.9201\n"
     ]
    },
    {
     "name": "stderr",
     "output_type": "stream",
     "text": [
      "\n",
      "poch 136/300: 100%|████████████| 991/991 [00:17<00:00, 56.94batch/s, batch_loss=18.3, batch_index=991, batch_size=220]"
     ]
    },
    {
     "name": "stdout",
     "output_type": "stream",
     "text": [
      "Epoch 136, Loss: 401.3805\n"
     ]
    },
    {
     "name": "stderr",
     "output_type": "stream",
     "text": [
      "\n",
      "poch 137/300: 100%|████████████| 991/991 [00:16<00:00, 60.76batch/s, batch_loss=16.1, batch_index=991, batch_size=220]"
     ]
    },
    {
     "name": "stdout",
     "output_type": "stream",
     "text": [
      "Epoch 137, Loss: 399.3879\n"
     ]
    },
    {
     "name": "stderr",
     "output_type": "stream",
     "text": [
      "\n",
      "poch 138/300: 100%|████████████| 991/991 [00:16<00:00, 59.93batch/s, batch_loss=15.1, batch_index=991, batch_size=220]"
     ]
    },
    {
     "name": "stdout",
     "output_type": "stream",
     "text": [
      "Epoch 138, Loss: 389.2989\n"
     ]
    },
    {
     "name": "stderr",
     "output_type": "stream",
     "text": [
      "\n",
      "poch 139/300: 100%|████████████| 991/991 [00:16<00:00, 60.90batch/s, batch_loss=15.4, batch_index=991, batch_size=220]"
     ]
    },
    {
     "name": "stdout",
     "output_type": "stream",
     "text": [
      "Epoch 139, Loss: 389.6863\n"
     ]
    },
    {
     "name": "stderr",
     "output_type": "stream",
     "text": [
      "\n",
      "poch 140/300: 100%|████████████| 991/991 [00:16<00:00, 59.62batch/s, batch_loss=11.8, batch_index=991, batch_size=220]"
     ]
    },
    {
     "name": "stdout",
     "output_type": "stream",
     "text": [
      "Epoch 140, Loss: 389.3558\n"
     ]
    },
    {
     "name": "stderr",
     "output_type": "stream",
     "text": [
      "\n",
      "poch 141/300: 100%|████████████| 991/991 [00:16<00:00, 59.78batch/s, batch_loss=16.5, batch_index=991, batch_size=220]"
     ]
    },
    {
     "name": "stdout",
     "output_type": "stream",
     "text": [
      "Epoch 141, Loss: 396.5153\n"
     ]
    },
    {
     "name": "stderr",
     "output_type": "stream",
     "text": [
      "\n",
      "poch 142/300: 100%|████████████| 991/991 [00:15<00:00, 62.02batch/s, batch_loss=13.3, batch_index=991, batch_size=220]"
     ]
    },
    {
     "name": "stdout",
     "output_type": "stream",
     "text": [
      "Epoch 142, Loss: 389.8820\n"
     ]
    },
    {
     "name": "stderr",
     "output_type": "stream",
     "text": [
      "\n",
      "poch 143/300: 100%|████████████| 991/991 [00:16<00:00, 59.17batch/s, batch_loss=13.7, batch_index=991, batch_size=220]"
     ]
    },
    {
     "name": "stdout",
     "output_type": "stream",
     "text": [
      "Epoch 143, Loss: 410.2720\n"
     ]
    },
    {
     "name": "stderr",
     "output_type": "stream",
     "text": [
      "\n",
      "poch 144/300: 100%|████████████| 991/991 [00:16<00:00, 61.00batch/s, batch_loss=15.7, batch_index=991, batch_size=220]"
     ]
    },
    {
     "name": "stdout",
     "output_type": "stream",
     "text": [
      "Epoch 144, Loss: 398.9041\n"
     ]
    },
    {
     "name": "stderr",
     "output_type": "stream",
     "text": [
      "\n",
      "poch 145/300: 100%|████████████| 991/991 [00:16<00:00, 58.78batch/s, batch_loss=15.9, batch_index=991, batch_size=220]"
     ]
    },
    {
     "name": "stdout",
     "output_type": "stream",
     "text": [
      "Epoch 145, Loss: 400.1807\n"
     ]
    },
    {
     "name": "stderr",
     "output_type": "stream",
     "text": [
      "\n",
      "poch 146/300: 100%|████████████| 991/991 [00:15<00:00, 62.37batch/s, batch_loss=15.7, batch_index=991, batch_size=220]"
     ]
    },
    {
     "name": "stdout",
     "output_type": "stream",
     "text": [
      "Epoch 146, Loss: 391.8189\n"
     ]
    },
    {
     "name": "stderr",
     "output_type": "stream",
     "text": [
      "\n",
      "poch 147/300: 100%|████████████| 991/991 [00:16<00:00, 58.67batch/s, batch_loss=14.3, batch_index=991, batch_size=220]"
     ]
    },
    {
     "name": "stdout",
     "output_type": "stream",
     "text": [
      "Epoch 147, Loss: 390.1823\n"
     ]
    },
    {
     "name": "stderr",
     "output_type": "stream",
     "text": [
      "\n",
      "poch 148/300: 100%|████████████| 991/991 [00:16<00:00, 59.83batch/s, batch_loss=13.9, batch_index=991, batch_size=220]"
     ]
    },
    {
     "name": "stdout",
     "output_type": "stream",
     "text": [
      "Epoch 148, Loss: 391.8849\n"
     ]
    },
    {
     "name": "stderr",
     "output_type": "stream",
     "text": [
      "\n",
      "poch 149/300: 100%|████████████| 991/991 [00:16<00:00, 59.86batch/s, batch_loss=15.7, batch_index=991, batch_size=220]"
     ]
    },
    {
     "name": "stdout",
     "output_type": "stream",
     "text": [
      "Epoch 149, Loss: 388.2193\n"
     ]
    },
    {
     "name": "stderr",
     "output_type": "stream",
     "text": [
      "\n",
      "poch 150/300: 100%|████████████| 991/991 [00:16<00:00, 61.00batch/s, batch_loss=15.4, batch_index=991, batch_size=220]"
     ]
    },
    {
     "name": "stdout",
     "output_type": "stream",
     "text": [
      "Epoch 150, Loss: 393.4650\n"
     ]
    },
    {
     "name": "stderr",
     "output_type": "stream",
     "text": [
      "\n",
      "poch 151/300: 100%|████████████| 991/991 [00:16<00:00, 60.20batch/s, batch_loss=12.8, batch_index=991, batch_size=220]"
     ]
    },
    {
     "name": "stdout",
     "output_type": "stream",
     "text": [
      "Epoch 151, Loss: 387.6619\n"
     ]
    },
    {
     "name": "stderr",
     "output_type": "stream",
     "text": [
      "\n",
      "poch 152/300: 100%|██████████████| 991/991 [00:15<00:00, 62.08batch/s, batch_loss=14, batch_index=991, batch_size=220]"
     ]
    },
    {
     "name": "stdout",
     "output_type": "stream",
     "text": [
      "Epoch 152, Loss: 388.0160\n"
     ]
    },
    {
     "name": "stderr",
     "output_type": "stream",
     "text": [
      "\n",
      "poch 153/300: 100%|████████████| 991/991 [00:16<00:00, 59.74batch/s, batch_loss=13.2, batch_index=991, batch_size=220]"
     ]
    },
    {
     "name": "stdout",
     "output_type": "stream",
     "text": [
      "Epoch 153, Loss: 397.6233\n"
     ]
    },
    {
     "name": "stderr",
     "output_type": "stream",
     "text": [
      "\n",
      "poch 154/300: 100%|████████████| 991/991 [00:16<00:00, 58.66batch/s, batch_loss=14.5, batch_index=991, batch_size=220]"
     ]
    },
    {
     "name": "stdout",
     "output_type": "stream",
     "text": [
      "Epoch 154, Loss: 382.0379\n"
     ]
    },
    {
     "name": "stderr",
     "output_type": "stream",
     "text": [
      "\n",
      "poch 155/300: 100%|████████████| 991/991 [00:16<00:00, 59.94batch/s, batch_loss=13.4, batch_index=991, batch_size=220]"
     ]
    },
    {
     "name": "stdout",
     "output_type": "stream",
     "text": [
      "Epoch 155, Loss: 383.3264\n"
     ]
    },
    {
     "name": "stderr",
     "output_type": "stream",
     "text": [
      "\n",
      "poch 156/300: 100%|████████████| 991/991 [01:25<00:00, 11.57batch/s, batch_loss=11.2, batch_index=991, batch_size=220]"
     ]
    },
    {
     "name": "stdout",
     "output_type": "stream",
     "text": [
      "Epoch 156, Loss: 383.0670\n"
     ]
    },
    {
     "name": "stderr",
     "output_type": "stream",
     "text": [
      "\n",
      "poch 157/300: 100%|████████████| 991/991 [00:17<00:00, 57.04batch/s, batch_loss=14.9, batch_index=991, batch_size=220]"
     ]
    },
    {
     "name": "stdout",
     "output_type": "stream",
     "text": [
      "Epoch 157, Loss: 419.0772\n"
     ]
    },
    {
     "name": "stderr",
     "output_type": "stream",
     "text": [
      "\n",
      "poch 158/300: 100%|████████████| 991/991 [00:17<00:00, 57.98batch/s, batch_loss=13.1, batch_index=991, batch_size=220]"
     ]
    },
    {
     "name": "stdout",
     "output_type": "stream",
     "text": [
      "Epoch 158, Loss: 391.2850\n"
     ]
    },
    {
     "name": "stderr",
     "output_type": "stream",
     "text": [
      "\n",
      "poch 159/300: 100%|████████████| 991/991 [00:16<00:00, 59.32batch/s, batch_loss=14.6, batch_index=991, batch_size=220]"
     ]
    },
    {
     "name": "stdout",
     "output_type": "stream",
     "text": [
      "Epoch 159, Loss: 381.4876\n"
     ]
    },
    {
     "name": "stderr",
     "output_type": "stream",
     "text": [
      "\n",
      "poch 160/300: 100%|████████████| 991/991 [00:16<00:00, 61.24batch/s, batch_loss=12.9, batch_index=991, batch_size=220]"
     ]
    },
    {
     "name": "stdout",
     "output_type": "stream",
     "text": [
      "Epoch 160, Loss: 387.1989\n"
     ]
    },
    {
     "name": "stderr",
     "output_type": "stream",
     "text": [
      "\n",
      "poch 161/300: 100%|██████████████| 991/991 [00:17<00:00, 58.10batch/s, batch_loss=13, batch_index=991, batch_size=220]"
     ]
    },
    {
     "name": "stdout",
     "output_type": "stream",
     "text": [
      "Epoch 161, Loss: 374.2218\n"
     ]
    },
    {
     "name": "stderr",
     "output_type": "stream",
     "text": [
      "\n",
      "poch 162/300: 100%|████████████| 991/991 [00:16<00:00, 61.63batch/s, batch_loss=12.1, batch_index=991, batch_size=220]"
     ]
    },
    {
     "name": "stdout",
     "output_type": "stream",
     "text": [
      "Epoch 162, Loss: 377.9563\n"
     ]
    },
    {
     "name": "stderr",
     "output_type": "stream",
     "text": [
      "\n",
      "poch 163/300: 100%|████████████| 991/991 [00:16<00:00, 60.72batch/s, batch_loss=12.5, batch_index=991, batch_size=220]"
     ]
    },
    {
     "name": "stdout",
     "output_type": "stream",
     "text": [
      "Epoch 163, Loss: 386.1732\n"
     ]
    },
    {
     "name": "stderr",
     "output_type": "stream",
     "text": [
      "\n",
      "poch 164/300: 100%|████████████| 991/991 [00:16<00:00, 61.82batch/s, batch_loss=11.2, batch_index=991, batch_size=220]"
     ]
    },
    {
     "name": "stdout",
     "output_type": "stream",
     "text": [
      "Epoch 164, Loss: 374.9127\n"
     ]
    },
    {
     "name": "stderr",
     "output_type": "stream",
     "text": [
      "\n",
      "poch 165/300: 100%|████████████| 991/991 [00:16<00:00, 60.45batch/s, batch_loss=13.1, batch_index=991, batch_size=220]"
     ]
    },
    {
     "name": "stdout",
     "output_type": "stream",
     "text": [
      "Epoch 165, Loss: 391.2351\n"
     ]
    },
    {
     "name": "stderr",
     "output_type": "stream",
     "text": [
      "\n",
      "poch 166/300: 100%|████████████| 991/991 [00:16<00:00, 61.00batch/s, batch_loss=11.9, batch_index=991, batch_size=220]"
     ]
    },
    {
     "name": "stdout",
     "output_type": "stream",
     "text": [
      "Epoch 166, Loss: 398.8239\n"
     ]
    },
    {
     "name": "stderr",
     "output_type": "stream",
     "text": [
      "\n",
      "poch 167/300: 100%|████████████| 991/991 [00:15<00:00, 61.96batch/s, batch_loss=13.2, batch_index=991, batch_size=220]"
     ]
    },
    {
     "name": "stdout",
     "output_type": "stream",
     "text": [
      "Epoch 167, Loss: 385.6132\n"
     ]
    },
    {
     "name": "stderr",
     "output_type": "stream",
     "text": [
      "\n",
      "poch 168/300: 100%|████████████| 991/991 [00:17<00:00, 56.11batch/s, batch_loss=12.4, batch_index=991, batch_size=220]"
     ]
    },
    {
     "name": "stdout",
     "output_type": "stream",
     "text": [
      "Epoch 168, Loss: 392.3972\n"
     ]
    },
    {
     "name": "stderr",
     "output_type": "stream",
     "text": [
      "\n",
      "poch 169/300: 100%|████████████| 991/991 [00:16<00:00, 61.19batch/s, batch_loss=12.3, batch_index=991, batch_size=220]"
     ]
    },
    {
     "name": "stdout",
     "output_type": "stream",
     "text": [
      "Epoch 169, Loss: 379.9845\n"
     ]
    },
    {
     "name": "stderr",
     "output_type": "stream",
     "text": [
      "\n",
      "poch 170/300: 100%|██████████████| 991/991 [00:16<00:00, 59.05batch/s, batch_loss=15, batch_index=991, batch_size=220]"
     ]
    },
    {
     "name": "stdout",
     "output_type": "stream",
     "text": [
      "Epoch 170, Loss: 376.7474\n"
     ]
    },
    {
     "name": "stderr",
     "output_type": "stream",
     "text": [
      "\n",
      "poch 171/300: 100%|████████████| 991/991 [00:16<00:00, 60.01batch/s, batch_loss=16.7, batch_index=991, batch_size=220]"
     ]
    },
    {
     "name": "stdout",
     "output_type": "stream",
     "text": [
      "Epoch 171, Loss: 388.9128\n"
     ]
    },
    {
     "name": "stderr",
     "output_type": "stream",
     "text": [
      "\n",
      "poch 172/300: 100%|██████████████| 991/991 [00:17<00:00, 57.75batch/s, batch_loss=12, batch_index=991, batch_size=220]"
     ]
    },
    {
     "name": "stdout",
     "output_type": "stream",
     "text": [
      "Epoch 172, Loss: 394.3209\n"
     ]
    },
    {
     "name": "stderr",
     "output_type": "stream",
     "text": [
      "\n",
      "poch 173/300: 100%|████████████| 991/991 [00:17<00:00, 58.24batch/s, batch_loss=13.9, batch_index=991, batch_size=220]"
     ]
    },
    {
     "name": "stdout",
     "output_type": "stream",
     "text": [
      "Epoch 173, Loss: 378.8352\n"
     ]
    },
    {
     "name": "stderr",
     "output_type": "stream",
     "text": [
      "\n",
      "poch 174/300: 100%|████████████| 991/991 [00:16<00:00, 59.70batch/s, batch_loss=13.5, batch_index=991, batch_size=220]"
     ]
    },
    {
     "name": "stdout",
     "output_type": "stream",
     "text": [
      "Epoch 174, Loss: 377.2466\n"
     ]
    },
    {
     "name": "stderr",
     "output_type": "stream",
     "text": [
      "\n",
      "poch 175/300: 100%|████████████| 991/991 [00:16<00:00, 61.07batch/s, batch_loss=13.4, batch_index=991, batch_size=220]"
     ]
    },
    {
     "name": "stdout",
     "output_type": "stream",
     "text": [
      "Epoch 175, Loss: 379.2639\n"
     ]
    },
    {
     "name": "stderr",
     "output_type": "stream",
     "text": [
      "\n",
      "poch 176/300: 100%|████████████| 991/991 [00:16<00:00, 61.47batch/s, batch_loss=12.7, batch_index=991, batch_size=220]"
     ]
    },
    {
     "name": "stdout",
     "output_type": "stream",
     "text": [
      "Epoch 176, Loss: 382.0098\n"
     ]
    },
    {
     "name": "stderr",
     "output_type": "stream",
     "text": [
      "\n",
      "poch 177/300: 100%|████████████| 991/991 [00:16<00:00, 61.64batch/s, batch_loss=13.3, batch_index=991, batch_size=220]"
     ]
    },
    {
     "name": "stdout",
     "output_type": "stream",
     "text": [
      "Epoch 177, Loss: 377.8925\n"
     ]
    },
    {
     "name": "stderr",
     "output_type": "stream",
     "text": [
      "\n",
      "poch 178/300: 100%|████████████| 991/991 [00:16<00:00, 59.57batch/s, batch_loss=13.1, batch_index=991, batch_size=220]"
     ]
    },
    {
     "name": "stdout",
     "output_type": "stream",
     "text": [
      "Epoch 178, Loss: 383.2266\n"
     ]
    },
    {
     "name": "stderr",
     "output_type": "stream",
     "text": [
      "\n",
      "poch 179/300: 100%|████████████| 991/991 [00:16<00:00, 60.57batch/s, batch_loss=14.5, batch_index=991, batch_size=220]"
     ]
    },
    {
     "name": "stdout",
     "output_type": "stream",
     "text": [
      "Epoch 179, Loss: 390.3399\n"
     ]
    },
    {
     "name": "stderr",
     "output_type": "stream",
     "text": [
      "\n",
      "poch 180/300: 100%|████████████| 991/991 [00:15<00:00, 63.81batch/s, batch_loss=12.7, batch_index=991, batch_size=220]"
     ]
    },
    {
     "name": "stdout",
     "output_type": "stream",
     "text": [
      "Epoch 180, Loss: 367.0849\n"
     ]
    },
    {
     "name": "stderr",
     "output_type": "stream",
     "text": [
      "\n",
      "poch 181/300: 100%|████████████| 991/991 [00:16<00:00, 59.57batch/s, batch_loss=12.5, batch_index=991, batch_size=220]"
     ]
    },
    {
     "name": "stdout",
     "output_type": "stream",
     "text": [
      "Epoch 181, Loss: 373.7256\n"
     ]
    },
    {
     "name": "stderr",
     "output_type": "stream",
     "text": [
      "\n",
      "poch 182/300: 100%|████████████| 991/991 [00:15<00:00, 62.22batch/s, batch_loss=16.9, batch_index=991, batch_size=220]"
     ]
    },
    {
     "name": "stdout",
     "output_type": "stream",
     "text": [
      "Epoch 182, Loss: 381.3222\n"
     ]
    },
    {
     "name": "stderr",
     "output_type": "stream",
     "text": [
      "\n",
      "poch 183/300: 100%|████████████| 991/991 [01:11<00:00, 13.86batch/s, batch_loss=14.5, batch_index=991, batch_size=220]"
     ]
    },
    {
     "name": "stdout",
     "output_type": "stream",
     "text": [
      "Epoch 183, Loss: 383.6245\n"
     ]
    },
    {
     "name": "stderr",
     "output_type": "stream",
     "text": [
      "\n",
      "poch 184/300: 100%|████████████| 991/991 [00:17<00:00, 56.23batch/s, batch_loss=13.5, batch_index=991, batch_size=220]"
     ]
    },
    {
     "name": "stdout",
     "output_type": "stream",
     "text": [
      "Epoch 184, Loss: 386.6431\n"
     ]
    },
    {
     "name": "stderr",
     "output_type": "stream",
     "text": [
      "\n",
      "poch 185/300: 100%|████████████| 991/991 [00:17<00:00, 57.40batch/s, batch_loss=14.4, batch_index=991, batch_size=220]"
     ]
    },
    {
     "name": "stdout",
     "output_type": "stream",
     "text": [
      "Epoch 185, Loss: 386.2316\n"
     ]
    },
    {
     "name": "stderr",
     "output_type": "stream",
     "text": [
      "\n",
      "poch 186/300: 100%|████████████| 991/991 [00:16<00:00, 60.95batch/s, batch_loss=15.9, batch_index=991, batch_size=220]"
     ]
    },
    {
     "name": "stdout",
     "output_type": "stream",
     "text": [
      "Epoch 186, Loss: 385.6816\n"
     ]
    },
    {
     "name": "stderr",
     "output_type": "stream",
     "text": [
      "\n",
      "poch 187/300: 100%|████████████| 991/991 [00:16<00:00, 61.76batch/s, batch_loss=16.2, batch_index=991, batch_size=220]"
     ]
    },
    {
     "name": "stdout",
     "output_type": "stream",
     "text": [
      "Epoch 187, Loss: 374.1997\n"
     ]
    },
    {
     "name": "stderr",
     "output_type": "stream",
     "text": [
      "\n",
      "poch 188/300: 100%|████████████| 991/991 [00:16<00:00, 60.45batch/s, batch_loss=15.7, batch_index=991, batch_size=220]"
     ]
    },
    {
     "name": "stdout",
     "output_type": "stream",
     "text": [
      "Epoch 188, Loss: 363.7341\n"
     ]
    },
    {
     "name": "stderr",
     "output_type": "stream",
     "text": [
      "\n",
      "poch 189/300: 100%|██████████████| 991/991 [00:15<00:00, 62.90batch/s, batch_loss=16, batch_index=991, batch_size=220]"
     ]
    },
    {
     "name": "stdout",
     "output_type": "stream",
     "text": [
      "Epoch 189, Loss: 372.5306\n"
     ]
    },
    {
     "name": "stderr",
     "output_type": "stream",
     "text": [
      "\n",
      "poch 190/300: 100%|████████████| 991/991 [00:16<00:00, 59.74batch/s, batch_loss=16.7, batch_index=991, batch_size=220]"
     ]
    },
    {
     "name": "stdout",
     "output_type": "stream",
     "text": [
      "Epoch 190, Loss: 375.7589\n"
     ]
    },
    {
     "name": "stderr",
     "output_type": "stream",
     "text": [
      "\n",
      "poch 191/300: 100%|████████████| 991/991 [00:16<00:00, 59.85batch/s, batch_loss=18.4, batch_index=991, batch_size=220]"
     ]
    },
    {
     "name": "stdout",
     "output_type": "stream",
     "text": [
      "Epoch 191, Loss: 382.9343\n"
     ]
    },
    {
     "name": "stderr",
     "output_type": "stream",
     "text": [
      "\n",
      "poch 192/300: 100%|████████████| 991/991 [00:16<00:00, 61.14batch/s, batch_loss=17.7, batch_index=991, batch_size=220]"
     ]
    },
    {
     "name": "stdout",
     "output_type": "stream",
     "text": [
      "Epoch 192, Loss: 389.8718\n"
     ]
    },
    {
     "name": "stderr",
     "output_type": "stream",
     "text": [
      "\n",
      "poch 193/300: 100%|██████████████| 991/991 [00:15<00:00, 62.03batch/s, batch_loss=13, batch_index=991, batch_size=220]"
     ]
    },
    {
     "name": "stdout",
     "output_type": "stream",
     "text": [
      "Epoch 193, Loss: 379.9356\n"
     ]
    },
    {
     "name": "stderr",
     "output_type": "stream",
     "text": [
      "\n",
      "poch 194/300: 100%|████████████| 991/991 [00:16<00:00, 59.17batch/s, batch_loss=15.4, batch_index=991, batch_size=220]"
     ]
    },
    {
     "name": "stdout",
     "output_type": "stream",
     "text": [
      "Epoch 194, Loss: 394.9366\n"
     ]
    },
    {
     "name": "stderr",
     "output_type": "stream",
     "text": [
      "\n",
      "poch 195/300: 100%|████████████| 991/991 [00:16<00:00, 60.27batch/s, batch_loss=15.9, batch_index=991, batch_size=220]"
     ]
    },
    {
     "name": "stdout",
     "output_type": "stream",
     "text": [
      "Epoch 195, Loss: 367.5389\n"
     ]
    },
    {
     "name": "stderr",
     "output_type": "stream",
     "text": [
      "\n",
      "poch 196/300: 100%|████████████| 991/991 [00:16<00:00, 58.69batch/s, batch_loss=15.5, batch_index=991, batch_size=220]"
     ]
    },
    {
     "name": "stdout",
     "output_type": "stream",
     "text": [
      "Epoch 196, Loss: 370.7609\n"
     ]
    },
    {
     "name": "stderr",
     "output_type": "stream",
     "text": [
      "\n",
      "poch 197/300: 100%|██████████████| 991/991 [00:16<00:00, 61.02batch/s, batch_loss=17, batch_index=991, batch_size=220]"
     ]
    },
    {
     "name": "stdout",
     "output_type": "stream",
     "text": [
      "Epoch 197, Loss: 362.4832\n"
     ]
    },
    {
     "name": "stderr",
     "output_type": "stream",
     "text": [
      "\n",
      "poch 198/300: 100%|████████████| 991/991 [00:16<00:00, 61.21batch/s, batch_loss=16.6, batch_index=991, batch_size=220]"
     ]
    },
    {
     "name": "stdout",
     "output_type": "stream",
     "text": [
      "Epoch 198, Loss: 396.2633\n"
     ]
    },
    {
     "name": "stderr",
     "output_type": "stream",
     "text": [
      "\n",
      "poch 199/300: 100%|████████████| 991/991 [00:15<00:00, 62.65batch/s, batch_loss=14.4, batch_index=991, batch_size=220]"
     ]
    },
    {
     "name": "stdout",
     "output_type": "stream",
     "text": [
      "Epoch 199, Loss: 369.0746\n"
     ]
    },
    {
     "name": "stderr",
     "output_type": "stream",
     "text": [
      "\n",
      "poch 200/300: 100%|████████████| 991/991 [00:16<00:00, 59.97batch/s, batch_loss=14.7, batch_index=991, batch_size=220]"
     ]
    },
    {
     "name": "stdout",
     "output_type": "stream",
     "text": [
      "Epoch 200, Loss: 366.9893\n"
     ]
    },
    {
     "name": "stderr",
     "output_type": "stream",
     "text": [
      "\n",
      "poch 201/300: 100%|████████████| 991/991 [00:16<00:00, 60.15batch/s, batch_loss=18.4, batch_index=991, batch_size=220]"
     ]
    },
    {
     "name": "stdout",
     "output_type": "stream",
     "text": [
      "Epoch 201, Loss: 366.2065\n"
     ]
    },
    {
     "name": "stderr",
     "output_type": "stream",
     "text": [
      "\n",
      "poch 202/300: 100%|████████████| 991/991 [00:16<00:00, 59.07batch/s, batch_loss=13.6, batch_index=991, batch_size=220]"
     ]
    },
    {
     "name": "stdout",
     "output_type": "stream",
     "text": [
      "Epoch 202, Loss: 362.4161\n"
     ]
    },
    {
     "name": "stderr",
     "output_type": "stream",
     "text": [
      "\n",
      "poch 203/300: 100%|████████████| 991/991 [00:15<00:00, 62.19batch/s, batch_loss=15.2, batch_index=991, batch_size=220]"
     ]
    },
    {
     "name": "stdout",
     "output_type": "stream",
     "text": [
      "Epoch 203, Loss: 361.7306\n"
     ]
    },
    {
     "name": "stderr",
     "output_type": "stream",
     "text": [
      "\n",
      "poch 204/300: 100%|████████████| 991/991 [00:16<00:00, 59.56batch/s, batch_loss=13.5, batch_index=991, batch_size=220]"
     ]
    },
    {
     "name": "stdout",
     "output_type": "stream",
     "text": [
      "Epoch 204, Loss: 360.6026\n"
     ]
    },
    {
     "name": "stderr",
     "output_type": "stream",
     "text": [
      "\n",
      "poch 205/300: 100%|████████████| 991/991 [00:16<00:00, 60.59batch/s, batch_loss=14.7, batch_index=991, batch_size=220]"
     ]
    },
    {
     "name": "stdout",
     "output_type": "stream",
     "text": [
      "Epoch 205, Loss: 369.2234\n"
     ]
    },
    {
     "name": "stderr",
     "output_type": "stream",
     "text": [
      "\n",
      "poch 206/300: 100%|████████████| 991/991 [00:16<00:00, 60.98batch/s, batch_loss=18.6, batch_index=991, batch_size=220]"
     ]
    },
    {
     "name": "stdout",
     "output_type": "stream",
     "text": [
      "Epoch 206, Loss: 378.5809\n"
     ]
    },
    {
     "name": "stderr",
     "output_type": "stream",
     "text": [
      "\n",
      "poch 207/300: 100%|████████████| 991/991 [00:17<00:00, 55.11batch/s, batch_loss=17.8, batch_index=991, batch_size=220]"
     ]
    },
    {
     "name": "stdout",
     "output_type": "stream",
     "text": [
      "Epoch 207, Loss: 363.8828\n"
     ]
    },
    {
     "name": "stderr",
     "output_type": "stream",
     "text": [
      "\n",
      "poch 208/300: 100%|████████████| 991/991 [00:20<00:00, 48.97batch/s, batch_loss=17.5, batch_index=991, batch_size=220]"
     ]
    },
    {
     "name": "stdout",
     "output_type": "stream",
     "text": [
      "Epoch 208, Loss: 381.5756\n"
     ]
    },
    {
     "name": "stderr",
     "output_type": "stream",
     "text": [
      "\n",
      "poch 209/300: 100%|████████████| 991/991 [00:16<00:00, 60.77batch/s, batch_loss=16.7, batch_index=991, batch_size=220]"
     ]
    },
    {
     "name": "stdout",
     "output_type": "stream",
     "text": [
      "Epoch 209, Loss: 368.6291\n"
     ]
    },
    {
     "name": "stderr",
     "output_type": "stream",
     "text": [
      "\n",
      "poch 210/300: 100%|████████████| 991/991 [01:33<00:00, 10.62batch/s, batch_loss=21.9, batch_index=991, batch_size=220]"
     ]
    },
    {
     "name": "stdout",
     "output_type": "stream",
     "text": [
      "Epoch 210, Loss: 386.1662\n"
     ]
    },
    {
     "name": "stderr",
     "output_type": "stream",
     "text": [
      "\n",
      "poch 211/300: 100%|████████████| 991/991 [00:16<00:00, 59.14batch/s, batch_loss=17.6, batch_index=991, batch_size=220]"
     ]
    },
    {
     "name": "stdout",
     "output_type": "stream",
     "text": [
      "Epoch 211, Loss: 371.8703\n"
     ]
    },
    {
     "name": "stderr",
     "output_type": "stream",
     "text": [
      "\n",
      "poch 212/300: 100%|████████████| 991/991 [00:16<00:00, 60.89batch/s, batch_loss=18.3, batch_index=991, batch_size=220]"
     ]
    },
    {
     "name": "stdout",
     "output_type": "stream",
     "text": [
      "Epoch 212, Loss: 359.5786\n"
     ]
    },
    {
     "name": "stderr",
     "output_type": "stream",
     "text": [
      "\n",
      "poch 213/300: 100%|████████████| 991/991 [00:17<00:00, 57.75batch/s, batch_loss=17.4, batch_index=991, batch_size=220]"
     ]
    },
    {
     "name": "stdout",
     "output_type": "stream",
     "text": [
      "Epoch 213, Loss: 365.3819\n"
     ]
    },
    {
     "name": "stderr",
     "output_type": "stream",
     "text": [
      "\n",
      "poch 214/300: 100%|████████████| 991/991 [00:17<00:00, 56.27batch/s, batch_loss=16.8, batch_index=991, batch_size=220]"
     ]
    },
    {
     "name": "stdout",
     "output_type": "stream",
     "text": [
      "Epoch 214, Loss: 362.5832\n"
     ]
    },
    {
     "name": "stderr",
     "output_type": "stream",
     "text": [
      "\n",
      "poch 215/300: 100%|████████████| 991/991 [00:16<00:00, 61.67batch/s, batch_loss=16.8, batch_index=991, batch_size=220]"
     ]
    },
    {
     "name": "stdout",
     "output_type": "stream",
     "text": [
      "Epoch 215, Loss: 359.8900\n"
     ]
    },
    {
     "name": "stderr",
     "output_type": "stream",
     "text": [
      "\n",
      "poch 216/300: 100%|████████████| 991/991 [00:16<00:00, 60.23batch/s, batch_loss=15.2, batch_index=991, batch_size=220]"
     ]
    },
    {
     "name": "stdout",
     "output_type": "stream",
     "text": [
      "Epoch 216, Loss: 363.4697\n"
     ]
    },
    {
     "name": "stderr",
     "output_type": "stream",
     "text": [
      "\n",
      "poch 217/300: 100%|████████████| 991/991 [00:17<00:00, 57.24batch/s, batch_loss=15.8, batch_index=991, batch_size=220]"
     ]
    },
    {
     "name": "stdout",
     "output_type": "stream",
     "text": [
      "Epoch 217, Loss: 380.8939\n"
     ]
    },
    {
     "name": "stderr",
     "output_type": "stream",
     "text": [
      "\n",
      "poch 218/300: 100%|████████████| 991/991 [00:16<00:00, 61.55batch/s, batch_loss=17.7, batch_index=991, batch_size=220]"
     ]
    },
    {
     "name": "stdout",
     "output_type": "stream",
     "text": [
      "Epoch 218, Loss: 366.5285\n"
     ]
    },
    {
     "name": "stderr",
     "output_type": "stream",
     "text": [
      "\n",
      "poch 219/300: 100%|████████████| 991/991 [00:17<00:00, 56.98batch/s, batch_loss=19.6, batch_index=991, batch_size=220]"
     ]
    },
    {
     "name": "stdout",
     "output_type": "stream",
     "text": [
      "Epoch 219, Loss: 360.1487\n"
     ]
    },
    {
     "name": "stderr",
     "output_type": "stream",
     "text": [
      "\n",
      "poch 220/300: 100%|████████████| 991/991 [00:16<00:00, 59.14batch/s, batch_loss=16.4, batch_index=991, batch_size=220]"
     ]
    },
    {
     "name": "stdout",
     "output_type": "stream",
     "text": [
      "Epoch 220, Loss: 363.2030\n"
     ]
    },
    {
     "name": "stderr",
     "output_type": "stream",
     "text": [
      "\n",
      "poch 221/300: 100%|████████████| 991/991 [00:17<00:00, 57.14batch/s, batch_loss=15.4, batch_index=991, batch_size=220]"
     ]
    },
    {
     "name": "stdout",
     "output_type": "stream",
     "text": [
      "Epoch 221, Loss: 365.4373\n"
     ]
    },
    {
     "name": "stderr",
     "output_type": "stream",
     "text": [
      "\n",
      "poch 222/300: 100%|██████████████| 991/991 [00:16<00:00, 58.82batch/s, batch_loss=20, batch_index=991, batch_size=220]"
     ]
    },
    {
     "name": "stdout",
     "output_type": "stream",
     "text": [
      "Epoch 222, Loss: 353.7695\n"
     ]
    },
    {
     "name": "stderr",
     "output_type": "stream",
     "text": [
      "\n",
      "poch 223/300: 100%|████████████| 991/991 [00:16<00:00, 58.51batch/s, batch_loss=17.8, batch_index=991, batch_size=220]"
     ]
    },
    {
     "name": "stdout",
     "output_type": "stream",
     "text": [
      "Epoch 223, Loss: 355.0465\n"
     ]
    },
    {
     "name": "stderr",
     "output_type": "stream",
     "text": [
      "\n",
      "poch 224/300: 100%|████████████| 991/991 [00:17<00:00, 57.33batch/s, batch_loss=17.5, batch_index=991, batch_size=220]"
     ]
    },
    {
     "name": "stdout",
     "output_type": "stream",
     "text": [
      "Epoch 224, Loss: 398.2754\n"
     ]
    },
    {
     "name": "stderr",
     "output_type": "stream",
     "text": [
      "\n",
      "poch 225/300: 100%|████████████| 991/991 [00:16<00:00, 59.09batch/s, batch_loss=14.5, batch_index=991, batch_size=220]"
     ]
    },
    {
     "name": "stdout",
     "output_type": "stream",
     "text": [
      "Epoch 225, Loss: 363.0155\n"
     ]
    },
    {
     "name": "stderr",
     "output_type": "stream",
     "text": [
      "\n",
      "poch 226/300: 100%|████████████| 991/991 [00:17<00:00, 58.10batch/s, batch_loss=15.9, batch_index=991, batch_size=220]"
     ]
    },
    {
     "name": "stdout",
     "output_type": "stream",
     "text": [
      "Epoch 226, Loss: 352.4743\n"
     ]
    },
    {
     "name": "stderr",
     "output_type": "stream",
     "text": [
      "\n",
      "poch 227/300: 100%|████████████| 991/991 [00:16<00:00, 59.66batch/s, batch_loss=17.6, batch_index=991, batch_size=220]"
     ]
    },
    {
     "name": "stdout",
     "output_type": "stream",
     "text": [
      "Epoch 227, Loss: 350.0164\n"
     ]
    },
    {
     "name": "stderr",
     "output_type": "stream",
     "text": [
      "\n",
      "poch 228/300: 100%|████████████| 991/991 [00:16<00:00, 58.48batch/s, batch_loss=15.5, batch_index=991, batch_size=220]"
     ]
    },
    {
     "name": "stdout",
     "output_type": "stream",
     "text": [
      "Epoch 228, Loss: 356.3793\n"
     ]
    },
    {
     "name": "stderr",
     "output_type": "stream",
     "text": [
      "\n",
      "poch 229/300: 100%|██████████████| 991/991 [00:16<00:00, 60.12batch/s, batch_loss=15, batch_index=991, batch_size=220]"
     ]
    },
    {
     "name": "stdout",
     "output_type": "stream",
     "text": [
      "Epoch 229, Loss: 356.8936\n"
     ]
    },
    {
     "name": "stderr",
     "output_type": "stream",
     "text": [
      "\n",
      "poch 230/300: 100%|████████████| 991/991 [00:16<00:00, 60.73batch/s, batch_loss=18.8, batch_index=991, batch_size=220]"
     ]
    },
    {
     "name": "stdout",
     "output_type": "stream",
     "text": [
      "Epoch 230, Loss: 371.7006\n"
     ]
    },
    {
     "name": "stderr",
     "output_type": "stream",
     "text": [
      "\n",
      "poch 231/300: 100%|████████████| 991/991 [00:17<00:00, 58.18batch/s, batch_loss=17.9, batch_index=991, batch_size=220]"
     ]
    },
    {
     "name": "stdout",
     "output_type": "stream",
     "text": [
      "Epoch 231, Loss: 366.6557\n"
     ]
    },
    {
     "name": "stderr",
     "output_type": "stream",
     "text": [
      "\n",
      "poch 232/300: 100%|████████████| 991/991 [00:16<00:00, 59.90batch/s, batch_loss=17.7, batch_index=991, batch_size=220]"
     ]
    },
    {
     "name": "stdout",
     "output_type": "stream",
     "text": [
      "Epoch 232, Loss: 352.4171\n"
     ]
    },
    {
     "name": "stderr",
     "output_type": "stream",
     "text": [
      "\n",
      "poch 233/300: 100%|████████████| 991/991 [00:16<00:00, 59.26batch/s, batch_loss=17.6, batch_index=991, batch_size=220]"
     ]
    },
    {
     "name": "stdout",
     "output_type": "stream",
     "text": [
      "Epoch 233, Loss: 379.2531\n"
     ]
    },
    {
     "name": "stderr",
     "output_type": "stream",
     "text": [
      "\n",
      "poch 234/300: 100%|██████████████| 991/991 [00:16<00:00, 61.08batch/s, batch_loss=21, batch_index=991, batch_size=220]"
     ]
    },
    {
     "name": "stdout",
     "output_type": "stream",
     "text": [
      "Epoch 234, Loss: 374.2560\n"
     ]
    },
    {
     "name": "stderr",
     "output_type": "stream",
     "text": [
      "\n",
      "poch 235/300: 100%|████████████| 991/991 [00:16<00:00, 60.80batch/s, batch_loss=18.3, batch_index=991, batch_size=220]"
     ]
    },
    {
     "name": "stdout",
     "output_type": "stream",
     "text": [
      "Epoch 235, Loss: 370.7197\n"
     ]
    },
    {
     "name": "stderr",
     "output_type": "stream",
     "text": [
      "\n",
      "poch 236/300: 100%|████████████| 991/991 [00:16<00:00, 60.63batch/s, batch_loss=18.3, batch_index=991, batch_size=220]"
     ]
    },
    {
     "name": "stdout",
     "output_type": "stream",
     "text": [
      "Epoch 236, Loss: 360.0514\n"
     ]
    },
    {
     "name": "stderr",
     "output_type": "stream",
     "text": [
      "\n",
      "poch 237/300: 100%|████████████| 991/991 [01:23<00:00, 11.80batch/s, batch_loss=18.9, batch_index=991, batch_size=220]"
     ]
    },
    {
     "name": "stdout",
     "output_type": "stream",
     "text": [
      "Epoch 237, Loss: 355.0869\n"
     ]
    },
    {
     "name": "stderr",
     "output_type": "stream",
     "text": [
      "\n",
      "poch 238/300: 100%|████████████| 991/991 [00:17<00:00, 56.81batch/s, batch_loss=19.8, batch_index=991, batch_size=220]"
     ]
    },
    {
     "name": "stdout",
     "output_type": "stream",
     "text": [
      "Epoch 238, Loss: 346.0106\n"
     ]
    },
    {
     "name": "stderr",
     "output_type": "stream",
     "text": [
      "\n",
      "poch 239/300: 100%|████████████| 991/991 [00:16<00:00, 59.16batch/s, batch_loss=20.3, batch_index=991, batch_size=220]"
     ]
    },
    {
     "name": "stdout",
     "output_type": "stream",
     "text": [
      "Epoch 239, Loss: 361.0172\n"
     ]
    },
    {
     "name": "stderr",
     "output_type": "stream",
     "text": [
      "\n",
      "poch 240/300: 100%|████████████| 991/991 [00:16<00:00, 59.97batch/s, batch_loss=18.7, batch_index=991, batch_size=220]"
     ]
    },
    {
     "name": "stdout",
     "output_type": "stream",
     "text": [
      "Epoch 240, Loss: 352.2126\n"
     ]
    },
    {
     "name": "stderr",
     "output_type": "stream",
     "text": [
      "\n",
      "poch 241/300: 100%|████████████| 991/991 [00:16<00:00, 58.44batch/s, batch_loss=17.9, batch_index=991, batch_size=220]"
     ]
    },
    {
     "name": "stdout",
     "output_type": "stream",
     "text": [
      "Epoch 241, Loss: 354.0262\n"
     ]
    },
    {
     "name": "stderr",
     "output_type": "stream",
     "text": [
      "\n",
      "poch 242/300: 100%|████████████| 991/991 [00:16<00:00, 59.13batch/s, batch_loss=20.6, batch_index=991, batch_size=220]"
     ]
    },
    {
     "name": "stdout",
     "output_type": "stream",
     "text": [
      "Epoch 242, Loss: 377.3213\n"
     ]
    },
    {
     "name": "stderr",
     "output_type": "stream",
     "text": [
      "\n",
      "poch 243/300: 100%|████████████| 991/991 [00:17<00:00, 56.56batch/s, batch_loss=16.6, batch_index=991, batch_size=220]"
     ]
    },
    {
     "name": "stdout",
     "output_type": "stream",
     "text": [
      "Epoch 243, Loss: 362.6872\n"
     ]
    },
    {
     "name": "stderr",
     "output_type": "stream",
     "text": [
      "\n",
      "poch 244/300: 100%|████████████| 991/991 [00:16<00:00, 59.07batch/s, batch_loss=15.9, batch_index=991, batch_size=220]"
     ]
    },
    {
     "name": "stdout",
     "output_type": "stream",
     "text": [
      "Epoch 244, Loss: 346.0015\n"
     ]
    },
    {
     "name": "stderr",
     "output_type": "stream",
     "text": [
      "\n",
      "poch 245/300: 100%|████████████| 991/991 [00:16<00:00, 59.19batch/s, batch_loss=17.8, batch_index=991, batch_size=220]"
     ]
    },
    {
     "name": "stdout",
     "output_type": "stream",
     "text": [
      "Epoch 245, Loss: 363.0007\n"
     ]
    },
    {
     "name": "stderr",
     "output_type": "stream",
     "text": [
      "\n",
      "poch 246/300: 100%|████████████| 991/991 [00:17<00:00, 57.85batch/s, batch_loss=23.4, batch_index=991, batch_size=220]"
     ]
    },
    {
     "name": "stdout",
     "output_type": "stream",
     "text": [
      "Epoch 246, Loss: 373.5285\n"
     ]
    },
    {
     "name": "stderr",
     "output_type": "stream",
     "text": [
      "\n",
      "poch 247/300: 100%|████████████| 991/991 [00:17<00:00, 57.81batch/s, batch_loss=18.2, batch_index=991, batch_size=220]"
     ]
    },
    {
     "name": "stdout",
     "output_type": "stream",
     "text": [
      "Epoch 247, Loss: 364.9579\n"
     ]
    },
    {
     "name": "stderr",
     "output_type": "stream",
     "text": [
      "\n",
      "poch 248/300: 100%|████████████| 991/991 [00:16<00:00, 60.17batch/s, batch_loss=20.3, batch_index=991, batch_size=220]"
     ]
    },
    {
     "name": "stdout",
     "output_type": "stream",
     "text": [
      "Epoch 248, Loss: 355.9224\n"
     ]
    },
    {
     "name": "stderr",
     "output_type": "stream",
     "text": [
      "\n",
      "poch 249/300: 100%|████████████| 991/991 [00:16<00:00, 58.83batch/s, batch_loss=22.4, batch_index=991, batch_size=220]"
     ]
    },
    {
     "name": "stdout",
     "output_type": "stream",
     "text": [
      "Epoch 249, Loss: 362.3839\n"
     ]
    },
    {
     "name": "stderr",
     "output_type": "stream",
     "text": [
      "\n",
      "poch 250/300: 100%|████████████| 991/991 [00:16<00:00, 60.17batch/s, batch_loss=17.8, batch_index=991, batch_size=220]"
     ]
    },
    {
     "name": "stdout",
     "output_type": "stream",
     "text": [
      "Epoch 250, Loss: 346.6508\n"
     ]
    },
    {
     "name": "stderr",
     "output_type": "stream",
     "text": [
      "\n",
      "poch 251/300: 100%|██████████████| 991/991 [00:16<00:00, 59.07batch/s, batch_loss=20, batch_index=991, batch_size=220]"
     ]
    },
    {
     "name": "stdout",
     "output_type": "stream",
     "text": [
      "Epoch 251, Loss: 364.5616\n"
     ]
    },
    {
     "name": "stderr",
     "output_type": "stream",
     "text": [
      "\n",
      "poch 252/300: 100%|████████████| 991/991 [00:15<00:00, 62.16batch/s, batch_loss=20.9, batch_index=991, batch_size=220]"
     ]
    },
    {
     "name": "stdout",
     "output_type": "stream",
     "text": [
      "Epoch 252, Loss: 347.7582\n"
     ]
    },
    {
     "name": "stderr",
     "output_type": "stream",
     "text": [
      "\n",
      "poch 253/300: 100%|████████████| 991/991 [00:16<00:00, 60.04batch/s, batch_loss=18.3, batch_index=991, batch_size=220]"
     ]
    },
    {
     "name": "stdout",
     "output_type": "stream",
     "text": [
      "Epoch 253, Loss: 343.4144\n"
     ]
    },
    {
     "name": "stderr",
     "output_type": "stream",
     "text": [
      "\n",
      "poch 254/300: 100%|████████████| 991/991 [00:16<00:00, 60.53batch/s, batch_loss=15.1, batch_index=991, batch_size=220]"
     ]
    },
    {
     "name": "stdout",
     "output_type": "stream",
     "text": [
      "Epoch 254, Loss: 351.7530\n"
     ]
    },
    {
     "name": "stderr",
     "output_type": "stream",
     "text": [
      "\n",
      "poch 255/300: 100%|████████████| 991/991 [00:16<00:00, 60.12batch/s, batch_loss=17.2, batch_index=991, batch_size=220]"
     ]
    },
    {
     "name": "stdout",
     "output_type": "stream",
     "text": [
      "Epoch 255, Loss: 369.3415\n"
     ]
    },
    {
     "name": "stderr",
     "output_type": "stream",
     "text": [
      "\n",
      "poch 256/300: 100%|████████████| 991/991 [00:16<00:00, 60.28batch/s, batch_loss=17.5, batch_index=991, batch_size=220]"
     ]
    },
    {
     "name": "stdout",
     "output_type": "stream",
     "text": [
      "Epoch 256, Loss: 353.5570\n"
     ]
    },
    {
     "name": "stderr",
     "output_type": "stream",
     "text": [
      "\n",
      "poch 257/300: 100%|████████████| 991/991 [00:16<00:00, 60.66batch/s, batch_loss=16.3, batch_index=991, batch_size=220]"
     ]
    },
    {
     "name": "stdout",
     "output_type": "stream",
     "text": [
      "Epoch 257, Loss: 338.5137\n"
     ]
    },
    {
     "name": "stderr",
     "output_type": "stream",
     "text": [
      "\n",
      "poch 258/300: 100%|████████████| 991/991 [00:16<00:00, 59.51batch/s, batch_loss=20.4, batch_index=991, batch_size=220]"
     ]
    },
    {
     "name": "stdout",
     "output_type": "stream",
     "text": [
      "Epoch 258, Loss: 343.8481\n"
     ]
    },
    {
     "name": "stderr",
     "output_type": "stream",
     "text": [
      "\n",
      "poch 259/300: 100%|████████████| 991/991 [00:16<00:00, 61.46batch/s, batch_loss=19.9, batch_index=991, batch_size=220]"
     ]
    },
    {
     "name": "stdout",
     "output_type": "stream",
     "text": [
      "Epoch 259, Loss: 396.5950\n"
     ]
    },
    {
     "name": "stderr",
     "output_type": "stream",
     "text": [
      "\n",
      "poch 260/300: 100%|██████████████| 991/991 [00:16<00:00, 61.88batch/s, batch_loss=17, batch_index=991, batch_size=220]"
     ]
    },
    {
     "name": "stdout",
     "output_type": "stream",
     "text": [
      "Epoch 260, Loss: 338.7904\n"
     ]
    },
    {
     "name": "stderr",
     "output_type": "stream",
     "text": [
      "\n",
      "poch 261/300: 100%|██████████████| 991/991 [00:16<00:00, 61.43batch/s, batch_loss=19, batch_index=991, batch_size=220]"
     ]
    },
    {
     "name": "stdout",
     "output_type": "stream",
     "text": [
      "Epoch 261, Loss: 336.3565\n"
     ]
    },
    {
     "name": "stderr",
     "output_type": "stream",
     "text": [
      "\n",
      "poch 262/300: 100%|████████████| 991/991 [00:15<00:00, 62.62batch/s, batch_loss=19.2, batch_index=991, batch_size=220]"
     ]
    },
    {
     "name": "stdout",
     "output_type": "stream",
     "text": [
      "Epoch 262, Loss: 342.4436\n"
     ]
    },
    {
     "name": "stderr",
     "output_type": "stream",
     "text": [
      "\n",
      "poch 263/300: 100%|████████████| 991/991 [00:16<00:00, 59.33batch/s, batch_loss=22.3, batch_index=991, batch_size=220]"
     ]
    },
    {
     "name": "stdout",
     "output_type": "stream",
     "text": [
      "Epoch 263, Loss: 348.6972\n"
     ]
    },
    {
     "name": "stderr",
     "output_type": "stream",
     "text": [
      "\n",
      "poch 264/300: 100%|████████████| 991/991 [01:20<00:00, 12.29batch/s, batch_loss=16.2, batch_index=991, batch_size=220]"
     ]
    },
    {
     "name": "stdout",
     "output_type": "stream",
     "text": [
      "Epoch 264, Loss: 346.8815\n"
     ]
    },
    {
     "name": "stderr",
     "output_type": "stream",
     "text": [
      "\n",
      "poch 265/300: 100%|████████████| 991/991 [00:17<00:00, 57.21batch/s, batch_loss=17.8, batch_index=991, batch_size=220]"
     ]
    },
    {
     "name": "stdout",
     "output_type": "stream",
     "text": [
      "Epoch 265, Loss: 345.0288\n"
     ]
    },
    {
     "name": "stderr",
     "output_type": "stream",
     "text": [
      "\n",
      "poch 266/300: 100%|████████████| 991/991 [00:16<00:00, 60.60batch/s, batch_loss=21.4, batch_index=991, batch_size=220]"
     ]
    },
    {
     "name": "stdout",
     "output_type": "stream",
     "text": [
      "Epoch 266, Loss: 371.3843\n"
     ]
    },
    {
     "name": "stderr",
     "output_type": "stream",
     "text": [
      "\n",
      "poch 267/300: 100%|████████████| 991/991 [00:16<00:00, 59.04batch/s, batch_loss=19.2, batch_index=991, batch_size=220]"
     ]
    },
    {
     "name": "stdout",
     "output_type": "stream",
     "text": [
      "Epoch 267, Loss: 342.8245\n"
     ]
    },
    {
     "name": "stderr",
     "output_type": "stream",
     "text": [
      "\n",
      "poch 268/300: 100%|████████████| 991/991 [00:16<00:00, 60.57batch/s, batch_loss=17.8, batch_index=991, batch_size=220]"
     ]
    },
    {
     "name": "stdout",
     "output_type": "stream",
     "text": [
      "Epoch 268, Loss: 341.5201\n"
     ]
    },
    {
     "name": "stderr",
     "output_type": "stream",
     "text": [
      "\n",
      "poch 269/300: 100%|████████████| 991/991 [00:16<00:00, 58.50batch/s, batch_loss=15.3, batch_index=991, batch_size=220]"
     ]
    },
    {
     "name": "stdout",
     "output_type": "stream",
     "text": [
      "Epoch 269, Loss: 330.5855\n"
     ]
    },
    {
     "name": "stderr",
     "output_type": "stream",
     "text": [
      "\n",
      "poch 270/300: 100%|████████████| 991/991 [00:16<00:00, 60.14batch/s, batch_loss=15.6, batch_index=991, batch_size=220]"
     ]
    },
    {
     "name": "stdout",
     "output_type": "stream",
     "text": [
      "Epoch 270, Loss: 378.8189\n"
     ]
    },
    {
     "name": "stderr",
     "output_type": "stream",
     "text": [
      "\n",
      "poch 271/300: 100%|████████████| 991/991 [00:16<00:00, 58.78batch/s, batch_loss=20.1, batch_index=991, batch_size=220]"
     ]
    },
    {
     "name": "stdout",
     "output_type": "stream",
     "text": [
      "Epoch 271, Loss: 358.7174\n"
     ]
    },
    {
     "name": "stderr",
     "output_type": "stream",
     "text": [
      "\n",
      "poch 272/300: 100%|████████████| 991/991 [00:15<00:00, 62.18batch/s, batch_loss=20.1, batch_index=991, batch_size=220]"
     ]
    },
    {
     "name": "stdout",
     "output_type": "stream",
     "text": [
      "Epoch 272, Loss: 389.9385\n"
     ]
    },
    {
     "name": "stderr",
     "output_type": "stream",
     "text": [
      "\n",
      "poch 273/300: 100%|████████████| 991/991 [00:16<00:00, 60.47batch/s, batch_loss=15.2, batch_index=991, batch_size=220]"
     ]
    },
    {
     "name": "stdout",
     "output_type": "stream",
     "text": [
      "Epoch 273, Loss: 342.9418\n"
     ]
    },
    {
     "name": "stderr",
     "output_type": "stream",
     "text": [
      "\n",
      "poch 274/300: 100%|██████████████| 991/991 [00:16<00:00, 59.18batch/s, batch_loss=21, batch_index=991, batch_size=220]"
     ]
    },
    {
     "name": "stdout",
     "output_type": "stream",
     "text": [
      "Epoch 274, Loss: 344.4693\n"
     ]
    },
    {
     "name": "stderr",
     "output_type": "stream",
     "text": [
      "\n",
      "poch 275/300: 100%|████████████| 991/991 [00:16<00:00, 61.82batch/s, batch_loss=17.6, batch_index=991, batch_size=220]"
     ]
    },
    {
     "name": "stdout",
     "output_type": "stream",
     "text": [
      "Epoch 275, Loss: 342.5713\n"
     ]
    },
    {
     "name": "stderr",
     "output_type": "stream",
     "text": [
      "\n",
      "poch 276/300: 100%|████████████| 991/991 [00:16<00:00, 59.71batch/s, batch_loss=21.7, batch_index=991, batch_size=220]"
     ]
    },
    {
     "name": "stdout",
     "output_type": "stream",
     "text": [
      "Epoch 276, Loss: 348.4700\n"
     ]
    },
    {
     "name": "stderr",
     "output_type": "stream",
     "text": [
      "\n",
      "poch 277/300: 100%|████████████| 991/991 [00:16<00:00, 61.60batch/s, batch_loss=18.1, batch_index=991, batch_size=220]"
     ]
    },
    {
     "name": "stdout",
     "output_type": "stream",
     "text": [
      "Epoch 277, Loss: 346.3878\n"
     ]
    },
    {
     "name": "stderr",
     "output_type": "stream",
     "text": [
      "\n",
      "poch 278/300: 100%|████████████| 991/991 [00:16<00:00, 58.78batch/s, batch_loss=21.1, batch_index=991, batch_size=220]"
     ]
    },
    {
     "name": "stdout",
     "output_type": "stream",
     "text": [
      "Epoch 278, Loss: 350.6240\n"
     ]
    },
    {
     "name": "stderr",
     "output_type": "stream",
     "text": [
      "\n",
      "poch 279/300: 100%|████████████| 991/991 [00:16<00:00, 61.18batch/s, batch_loss=20.6, batch_index=991, batch_size=220]"
     ]
    },
    {
     "name": "stdout",
     "output_type": "stream",
     "text": [
      "Epoch 279, Loss: 346.5570\n"
     ]
    },
    {
     "name": "stderr",
     "output_type": "stream",
     "text": [
      "\n",
      "poch 280/300: 100%|████████████| 991/991 [00:16<00:00, 60.92batch/s, batch_loss=15.1, batch_index=991, batch_size=220]"
     ]
    },
    {
     "name": "stdout",
     "output_type": "stream",
     "text": [
      "Epoch 280, Loss: 350.3299\n"
     ]
    },
    {
     "name": "stderr",
     "output_type": "stream",
     "text": [
      "\n",
      "poch 281/300: 100%|████████████| 991/991 [00:16<00:00, 59.94batch/s, batch_loss=27.1, batch_index=991, batch_size=220]"
     ]
    },
    {
     "name": "stdout",
     "output_type": "stream",
     "text": [
      "Epoch 281, Loss: 341.3814\n"
     ]
    },
    {
     "name": "stderr",
     "output_type": "stream",
     "text": [
      "\n",
      "poch 282/300: 100%|████████████| 991/991 [00:16<00:00, 59.73batch/s, batch_loss=28.4, batch_index=991, batch_size=220]"
     ]
    },
    {
     "name": "stdout",
     "output_type": "stream",
     "text": [
      "Epoch 282, Loss: 347.3220\n"
     ]
    },
    {
     "name": "stderr",
     "output_type": "stream",
     "text": [
      "\n",
      "poch 283/300: 100%|████████████| 991/991 [00:16<00:00, 61.28batch/s, batch_loss=21.8, batch_index=991, batch_size=220]"
     ]
    },
    {
     "name": "stdout",
     "output_type": "stream",
     "text": [
      "Epoch 283, Loss: 338.4356\n"
     ]
    },
    {
     "name": "stderr",
     "output_type": "stream",
     "text": [
      "\n",
      "poch 284/300: 100%|████████████| 991/991 [00:17<00:00, 58.03batch/s, batch_loss=18.4, batch_index=991, batch_size=220]"
     ]
    },
    {
     "name": "stdout",
     "output_type": "stream",
     "text": [
      "Epoch 284, Loss: 334.1056\n"
     ]
    },
    {
     "name": "stderr",
     "output_type": "stream",
     "text": [
      "\n",
      "poch 285/300: 100%|████████████| 991/991 [00:16<00:00, 60.11batch/s, batch_loss=22.4, batch_index=991, batch_size=220]"
     ]
    },
    {
     "name": "stdout",
     "output_type": "stream",
     "text": [
      "Epoch 285, Loss: 328.9407\n"
     ]
    },
    {
     "name": "stderr",
     "output_type": "stream",
     "text": [
      "\n",
      "poch 286/300: 100%|████████████| 991/991 [00:17<00:00, 57.72batch/s, batch_loss=22.1, batch_index=991, batch_size=220]"
     ]
    },
    {
     "name": "stdout",
     "output_type": "stream",
     "text": [
      "Epoch 286, Loss: 348.2985\n"
     ]
    },
    {
     "name": "stderr",
     "output_type": "stream",
     "text": [
      "\n",
      "poch 287/300: 100%|████████████| 991/991 [00:17<00:00, 57.97batch/s, batch_loss=23.2, batch_index=991, batch_size=220]"
     ]
    },
    {
     "name": "stdout",
     "output_type": "stream",
     "text": [
      "Epoch 287, Loss: 338.0389\n"
     ]
    },
    {
     "name": "stderr",
     "output_type": "stream",
     "text": [
      "\n",
      "poch 288/300: 100%|████████████| 991/991 [00:16<00:00, 59.71batch/s, batch_loss=21.8, batch_index=991, batch_size=220]"
     ]
    },
    {
     "name": "stdout",
     "output_type": "stream",
     "text": [
      "Epoch 288, Loss: 340.7546\n"
     ]
    },
    {
     "name": "stderr",
     "output_type": "stream",
     "text": [
      "\n",
      "poch 289/300: 100%|████████████| 991/991 [00:17<00:00, 55.76batch/s, batch_loss=19.9, batch_index=991, batch_size=220]"
     ]
    },
    {
     "name": "stdout",
     "output_type": "stream",
     "text": [
      "Epoch 289, Loss: 340.9931\n"
     ]
    },
    {
     "name": "stderr",
     "output_type": "stream",
     "text": [
      "\n",
      "poch 290/300: 100%|████████████| 991/991 [00:16<00:00, 60.79batch/s, batch_loss=23.6, batch_index=991, batch_size=220]"
     ]
    },
    {
     "name": "stdout",
     "output_type": "stream",
     "text": [
      "Epoch 290, Loss: 330.8085\n"
     ]
    },
    {
     "name": "stderr",
     "output_type": "stream",
     "text": [
      "\n",
      "poch 291/300: 100%|████████████| 991/991 [01:17<00:00, 12.71batch/s, batch_loss=23.4, batch_index=991, batch_size=220]"
     ]
    },
    {
     "name": "stdout",
     "output_type": "stream",
     "text": [
      "Epoch 291, Loss: 345.1938\n"
     ]
    },
    {
     "name": "stderr",
     "output_type": "stream",
     "text": [
      "\n",
      "poch 292/300: 100%|████████████| 991/991 [00:17<00:00, 56.23batch/s, batch_loss=20.2, batch_index=991, batch_size=220]"
     ]
    },
    {
     "name": "stdout",
     "output_type": "stream",
     "text": [
      "Epoch 292, Loss: 344.5621\n"
     ]
    },
    {
     "name": "stderr",
     "output_type": "stream",
     "text": [
      "\n",
      "poch 293/300: 100%|████████████| 991/991 [00:17<00:00, 58.07batch/s, batch_loss=20.5, batch_index=991, batch_size=220]"
     ]
    },
    {
     "name": "stdout",
     "output_type": "stream",
     "text": [
      "Epoch 293, Loss: 337.0944\n"
     ]
    },
    {
     "name": "stderr",
     "output_type": "stream",
     "text": [
      "\n",
      "poch 294/300: 100%|████████████| 991/991 [00:16<00:00, 61.57batch/s, batch_loss=23.3, batch_index=991, batch_size=220]"
     ]
    },
    {
     "name": "stdout",
     "output_type": "stream",
     "text": [
      "Epoch 294, Loss: 331.3309\n"
     ]
    },
    {
     "name": "stderr",
     "output_type": "stream",
     "text": [
      "\n",
      "poch 295/300: 100%|████████████| 991/991 [00:16<00:00, 58.64batch/s, batch_loss=20.4, batch_index=991, batch_size=220]"
     ]
    },
    {
     "name": "stdout",
     "output_type": "stream",
     "text": [
      "Epoch 295, Loss: 334.9279\n"
     ]
    },
    {
     "name": "stderr",
     "output_type": "stream",
     "text": [
      "\n",
      "poch 296/300: 100%|████████████| 991/991 [00:16<00:00, 60.63batch/s, batch_loss=24.9, batch_index=991, batch_size=220]"
     ]
    },
    {
     "name": "stdout",
     "output_type": "stream",
     "text": [
      "Epoch 296, Loss: 373.9637\n"
     ]
    },
    {
     "name": "stderr",
     "output_type": "stream",
     "text": [
      "\n",
      "poch 297/300: 100%|████████████| 991/991 [00:16<00:00, 61.11batch/s, batch_loss=23.8, batch_index=991, batch_size=220]"
     ]
    },
    {
     "name": "stdout",
     "output_type": "stream",
     "text": [
      "Epoch 297, Loss: 352.3672\n"
     ]
    },
    {
     "name": "stderr",
     "output_type": "stream",
     "text": [
      "\n",
      "poch 298/300: 100%|████████████| 991/991 [00:16<00:00, 60.59batch/s, batch_loss=24.1, batch_index=991, batch_size=220]"
     ]
    },
    {
     "name": "stdout",
     "output_type": "stream",
     "text": [
      "Epoch 298, Loss: 325.6620\n"
     ]
    },
    {
     "name": "stderr",
     "output_type": "stream",
     "text": [
      "\n",
      "poch 299/300: 100%|████████████| 991/991 [00:16<00:00, 60.56batch/s, batch_loss=24.7, batch_index=991, batch_size=220]"
     ]
    },
    {
     "name": "stdout",
     "output_type": "stream",
     "text": [
      "Epoch 299, Loss: 319.2989\n"
     ]
    },
    {
     "name": "stderr",
     "output_type": "stream",
     "text": [
      "\n",
      "poch 300/300: 100%|████████████| 991/991 [00:17<00:00, 58.20batch/s, batch_loss=21.5, batch_index=991, batch_size=220]"
     ]
    },
    {
     "name": "stdout",
     "output_type": "stream",
     "text": [
      "Epoch 300, Loss: 320.5357\n"
     ]
    }
   ],
   "source": [
    "batch_size = 256\n",
    "learning_rate = 1e-3\n",
    "num_epochs = 300\n",
    "device = torch.device(\"cuda\" if torch.cuda.is_available() else \"cpu\")\n",
    "print(\"cuda\" if torch.cuda.is_available() else \"cpu\")\n",
    "model = NeuralNetwork(device=device).to(device)\n",
    "\n",
    "train_dataset = DoomMotionDataset(coco_train, TRAIN_RUN)\n",
    "train_loader = DataLoader(train_dataset, batch_size=batch_size, shuffle=False)\n",
    "\n",
    "test_dataset = DoomMotionDataset(coco_test, TEST_RUN)\n",
    "test_loader = DataLoader(test_dataset, batch_size=batch_size, shuffle=False)\n",
    "\n",
    "# Loss function and optimizer\n",
    "criterion = torch.nn.MSELoss()\n",
    "optimizer = optim.Adam(model.parameters(), lr=learning_rate)\n",
    "\n",
    "for epoch in range(num_epochs):\n",
    "    model.train()\n",
    "    running_loss = 0.0\n",
    "    progress_bar = tqdm(train_loader, desc=f\"Epoch {epoch+1}/{num_epochs}\", unit=\"batch\")\n",
    "    for batch_idx, (inputs, targets) in enumerate(progress_bar):\n",
    "        inputs, targets = inputs.to(device), targets.to(device)\n",
    "\n",
    "        optimizer.zero_grad()\n",
    "\n",
    "        outputs = model(inputs)\n",
    "    \n",
    "        loss = criterion(outputs, targets)\n",
    "        loss.backward()\n",
    "\n",
    "        optimizer.step()\n",
    "\n",
    "        running_loss += loss.item()\n",
    "\n",
    "        progress_bar.set_postfix({\n",
    "            \"batch_loss\": loss.item(),\n",
    "            \"batch_index\": batch_idx + 1,\n",
    "            \"batch_size\": inputs.size(0)\n",
    "        })\n",
    "\n",
    "    # Average loss per epoch\n",
    "    epoch_loss = running_loss / len(train_loader)\n",
    "    print(f\"Epoch {epoch+1}, Loss: {epoch_loss:.4f}\")\n",
    "\n",
    "    # model.eval()  # Set the model to evaluation mode\n",
    "    # running_loss = 0.0\n",
    "    \n",
    "    \n",
    "    # progress_bar = tqdm(test_loader, desc=\"Testing\", unit=\"batch\")\n",
    "    \n",
    "    # with torch.no_grad():  # Disable gradient calculations for evaluation\n",
    "    #     for batch_idx, (inputs, targets) in enumerate(progress_bar):\n",
    "    #         inputs, targets = inputs.to(device), targets.to(device)\n",
    "            \n",
    "    #         outputs = model(inputs)\n",
    "    #         loss = criterion(outputs, targets)\n",
    "            \n",
    "    #         running_loss += loss.item()\n",
    "            \n",
    "    #         progress_bar.set_postfix({\n",
    "    #             \"batch_loss\": loss.item(),\n",
    "    #             \"batch_index\": batch_idx + 1,\n",
    "    #             \"batch_size\": inputs.size(0)\n",
    "    #         })\n",
    "    \n",
    "    # # Average loss over all batches\n",
    "    # test_loss = running_loss / len(test_loader)\n",
    "    # print(f\"Test Loss: {test_loss:.4f}\")\n",
    "\n",
    "# Save the trained model\n",
    "torch.save(model.state_dict(), \"movement_nn.pth\")"
   ]
  },
  {
   "cell_type": "code",
   "execution_count": 49,
   "id": "1ce70e48-3ccb-4628-91f7-19fd56e7f6aa",
   "metadata": {},
   "outputs": [
    {
     "name": "stderr",
     "output_type": "stream",
     "text": [
      "\n",
      "esting: 100%|█████████| 118138/118138 [09:41<00:00, 203.11batch/s, batch_loss=0.154, batch_index=118138, batch_size=1]"
     ]
    },
    {
     "name": "stdout",
     "output_type": "stream",
     "text": [
      "Test Loss: 1960.0671\n"
     ]
    },
    {
     "ename": "TypeError",
     "evalue": "'NoneType' object is not subscriptable",
     "output_type": "error",
     "traceback": [
      "\u001b[1;31m---------------------------------------------------------------------------\u001b[0m",
      "\u001b[1;31mTypeError\u001b[0m                                 Traceback (most recent call last)",
      "Cell \u001b[1;32mIn[49], line 36\u001b[0m\n\u001b[0;32m     33\u001b[0m test_loss \u001b[38;5;241m=\u001b[39m running_loss \u001b[38;5;241m/\u001b[39m \u001b[38;5;28mlen\u001b[39m(test_loader)\n\u001b[0;32m     34\u001b[0m \u001b[38;5;28mprint\u001b[39m(\u001b[38;5;124mf\u001b[39m\u001b[38;5;124m\"\u001b[39m\u001b[38;5;124mTest Loss: \u001b[39m\u001b[38;5;132;01m{\u001b[39;00mtest_loss\u001b[38;5;132;01m:\u001b[39;00m\u001b[38;5;124m.4f\u001b[39m\u001b[38;5;132;01m}\u001b[39;00m\u001b[38;5;124m\"\u001b[39m)\n\u001b[1;32m---> 36\u001b[0m \u001b[38;5;28mprint\u001b[39m(\u001b[38;5;124mf\u001b[39m\u001b[38;5;124m\"\u001b[39m\u001b[38;5;124mBiggest Loss: \u001b[39m\u001b[38;5;132;01m{\u001b[39;00m\u001b[43mlosses\u001b[49m\u001b[38;5;241;43m.\u001b[39;49m\u001b[43msort\u001b[49m\u001b[43m(\u001b[49m\u001b[43mkey\u001b[49m\u001b[38;5;241;43m=\u001b[39;49m\u001b[38;5;28;43;01mlambda\u001b[39;49;00m\u001b[38;5;250;43m \u001b[39;49m\u001b[43mx\u001b[49m\u001b[43m:\u001b[49m\u001b[43mx\u001b[49m\u001b[43m[\u001b[49m\u001b[38;5;241;43m2\u001b[39;49m\u001b[43m]\u001b[49m\u001b[43m)\u001b[49m\u001b[43m[\u001b[49m\u001b[38;5;241;43m0\u001b[39;49m\u001b[43m]\u001b[49m[\u001b[38;5;241m2\u001b[39m]\u001b[38;5;132;01m}\u001b[39;00m\u001b[38;5;124m\"\u001b[39m)\n",
      "\u001b[1;31mTypeError\u001b[0m: 'NoneType' object is not subscriptable"
     ]
    }
   ],
   "source": [
    "device = (torch.device(\"cuda\" if torch.cuda.is_available() else \"cpu\"))\n",
    "criterion = torch.nn.MSELoss()\n",
    "model = NeuralNetwork(device=\"cuda\").to(device)\n",
    "model.load_state_dict(torch.load(\"doom_motion_model.pth\", weights_only=True))\n",
    "\n",
    "test_dataset = DoomMotionDataset(coco_test, TEST_RUN)\n",
    "test_loader = DataLoader(test_dataset, batch_size=1, shuffle=False)\n",
    "\n",
    "model.eval()  # Set the model to evaluation mode\n",
    "running_loss = 0.0\n",
    "\n",
    "\n",
    "progress_bar = tqdm(test_loader, desc=\"Testing\", unit=\"batch\")\n",
    "losses = []\n",
    "\n",
    "with torch.no_grad():  # Disable gradient calculations for evaluation\n",
    "    for batch_idx, (inputs, targets) in enumerate(progress_bar):\n",
    "        inputs, targets = inputs.to(device), targets.to(device)\n",
    "        \n",
    "        outputs = model(inputs)\n",
    "        loss = criterion(outputs, targets)\n",
    "        losses.append([batch_idx, outputs, loss])\n",
    "        \n",
    "        running_loss += loss.item()\n",
    "        \n",
    "        progress_bar.set_postfix({\n",
    "            \"batch_loss\": loss.item(),\n",
    "            \"batch_index\": batch_idx + 1,\n",
    "            \"batch_size\": inputs.size(0)\n",
    "        })\n",
    "\n",
    "# Average loss over all batches\n",
    "test_loss = running_loss / len(test_loader)\n",
    "print(f\"Test Loss: {test_loss:.4f}\")\n",
    "\n",
    "print(f\"Biggest Loss: {losses.sort(key=lambda x:x[2])[0][2]}\")"
   ]
  },
  {
   "cell_type": "code",
   "execution_count": 42,
   "id": "37ba335c-f0e6-473b-b7e7-86ffe38ccecd",
   "metadata": {},
   "outputs": [
    {
     "name": "stdout",
     "output_type": "stream",
     "text": [
      "[98000, tensor([[1.3958e+03, 6.7715e+03, 4.3515e+01, 4.8347e+00]], device='cuda:0'), tensor(11950945., device='cuda:0')]\n",
      "Actual change (0.0, 0.0, 0.0, 0.0)\n",
      "(-1760.0, 1504.0, 65.0, 4.71239)\n",
      "(-1760.0, 1504.0, 65.0, 4.71239)\n",
      "(-2144.36, -3444.42, 110.722, 5.12963)\n"
     ]
    }
   ],
   "source": [
    "print(losses[-1])\n",
    "rgb_filename = coco_test.loadImgs(coco_test.getImgIds()[losses[-1][0]])[0]['file_name']\n",
    "tic = int(rgb_filename.replace(\".png\", \"\").split(\"/\")[-1])\n",
    "prev_player_position = player_positions[TEST_RUN][tic - 1]\n",
    "player_position = player_positions[TEST_RUN][tic]\n",
    "next_player_position = player_positions[TEST_RUN][tic + 1]\n",
    "dx = next_player_position[0] - player_position[0]\n",
    "dy = next_player_position[1] - player_position[1]\n",
    "dz = next_player_position[2] - player_position[2]\n",
    "dangle = np.pi - abs(abs(next_player_position[3] - player_position[3]) - np.pi)\n",
    "print(f\"Actual change {dx, dy, dz, dangle}\")\n",
    "print(next_player_position)\n",
    "print(player_position)\n",
    "print(prev_player_position)"
   ]
  },
  {
   "cell_type": "code",
   "execution_count": 32,
   "id": "e1aa8a0f-0cd3-488e-a22c-cc0b355745df",
   "metadata": {},
   "outputs": [
    {
     "name": "stdout",
     "output_type": "stream",
     "text": [
      "[25935, tensor([[-4715.9492, -3745.4646,   330.2908,     5.8413]], device='cuda:0'), tensor(9094451., device='cuda:0')]\n"
     ]
    }
   ],
   "source": [
    "print(losses[-2])"
   ]
  },
  {
   "cell_type": "code",
   "execution_count": 33,
   "id": "d3c44161-1747-43e2-abe6-6508d3dd74bc",
   "metadata": {},
   "outputs": [
    {
     "name": "stdout",
     "output_type": "stream",
     "text": [
      "[20619, tensor([[ 0.5578,  0.0200, -0.1332,  0.4816]], device='cuda:0'), tensor(0.0006, device='cuda:0')]\n"
     ]
    }
   ],
   "source": [
    "print(losses[0])"
   ]
  },
  {
   "cell_type": "code",
   "execution_count": 34,
   "id": "19440934-cf74-4ed7-b554-bbc80c21b14b",
   "metadata": {},
   "outputs": [
    {
     "name": "stdout",
     "output_type": "stream",
     "text": [
      "177\n"
     ]
    }
   ],
   "source": [
    "print(len([i for i in losses if i[2] > 100000]))"
   ]
  },
  {
   "cell_type": "code",
   "execution_count": 10,
   "id": "ac9eae45-87db-445c-ac11-e9c73f4a44ea",
   "metadata": {},
   "outputs": [
    {
     "name": "stdout",
     "output_type": "stream",
     "text": [
      "(799.822, 1304.14, 89.0002, 4.36878)\n"
     ]
    }
   ],
   "source": [
    "print(player_positions[3132])"
   ]
  },
  {
   "cell_type": "code",
   "execution_count": 37,
   "id": "98438e28-21f0-4bf8-bb1b-8e338b248d05",
   "metadata": {},
   "outputs": [
    {
     "name": "stdout",
     "output_type": "stream",
     "text": [
      "run3/map26/rgb/099653.png\n"
     ]
    }
   ],
   "source": [
    "print(coco_test.loadImgs(coco_test.getImgIds()[98000])[0]['file_name'])"
   ]
  },
  {
   "cell_type": "code",
   "execution_count": null,
   "id": "fd84326d-6926-45da-bace-57a4fb6ab340",
   "metadata": {},
   "outputs": [],
   "source": [
    "print"
   ]
  }
 ],
 "metadata": {
  "kernelspec": {
   "display_name": "Python 3 (ipykernel)",
   "language": "python",
   "name": "python3"
  },
  "language_info": {
   "codemirror_mode": {
    "name": "ipython",
    "version": 3
   },
   "file_extension": ".py",
   "mimetype": "text/x-python",
   "name": "python",
   "nbconvert_exporter": "python",
   "pygments_lexer": "ipython3",
   "version": "3.11.3"
  }
 },
 "nbformat": 4,
 "nbformat_minor": 5
}
